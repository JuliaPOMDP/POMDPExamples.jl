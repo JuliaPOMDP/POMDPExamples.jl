{
 "cells": [
  {
   "cell_type": "markdown",
   "metadata": {
    "slideshow": {
     "slide_type": "slide"
    }
   },
   "source": [
    "# Grid World Tutorial: POMDPs.jl for Complete Beginners"
   ]
  },
  {
   "cell_type": "markdown",
   "metadata": {
    "slideshow": {
     "slide_type": "slide"
    }
   },
   "source": [
    "In this tutorial, we try to provide a simple example of how to define a Markov decision process (MDP) problem using the [POMDPs.jl](https://github.com/sisl/POMDPs.jl) interface. After defining the problem in this way, you will be able to use the solvers that the interface supports. In this tutorial, we will show you how to use the value iteration and the Monte Carlo Tree Search solvers that the POMDPs.jl interface supports. We assume that you have some knowledge of basic programming, but are not necessarily familiar with all the features that exist in Julia. We try to cover the many language specific features used in POMDPs.jl in this tutorial. We do assume that you know the grid world problem, and are familiar with the formal defintion of the MDP.  Let's get started!"
   ]
  },
  {
   "cell_type": "markdown",
   "metadata": {},
   "source": [
    "## Dependencies\n",
    "You need to install a few modules in order to use this notebook. If you have all the modules below installed, great! If not run the following commands:\n"
   ]
  },
  {
   "cell_type": "markdown",
   "metadata": {},
   "source": [
    "```julia\n",
    "# install the POMDPs.jl interface\n",
    "Pkg.add(\"POMDPs\")\n",
    "Pkg.add(\"POMDPModelTools\")\n",
    "Pkg.add(\"POMDPPolicies\")\n",
    "Pkg.add(\"POMDPSimulators\")\n",
    "```"
   ]
  },
  {
   "cell_type": "markdown",
   "metadata": {},
   "source": [
    "If you already have all of the modules above, make sure you have the most recent versions. Many of these are still under heavy development, so update before starting by running\n",
    "\n",
    "```julia\n",
    "Pkg.update()\n",
    "```"
   ]
  },
  {
   "cell_type": "code",
   "execution_count": 28,
   "metadata": {
    "collapsed": false,
    "jupyter": {
     "outputs_hidden": false
    },
    "slideshow": {
     "slide_type": "slide"
    }
   },
   "outputs": [],
   "source": [
    "# first import the POMDPs.jl interface\n",
    "using POMDPs\n",
    "\n",
    "# POMDPModelTools has tools that help build the MDP definition\n",
    "using POMDPModelTools\n",
    "# POMDPPolicies provides functions to help define simple policies\n",
    "using POMDPPolicies\n",
    "# POMDPSimulators provide functions for running MDP simulations\n",
    "using POMDPSimulators"
   ]
  },
  {
   "cell_type": "markdown",
   "metadata": {},
   "source": [
    "## Problem Overview\n",
    "In Grid World, we are trying to control an agent who has trouble moving in the desired direction. In our problem, we have a four reward states on a $10\\times 10$ grid. Each position on the grid represents a state, and the positive reward states are terminal (the agent stops recieveing reward after reaching them). The agent has four actions to choose from: up, down, left, right. The agent moves in the desired direction with a probability of 0.7, and with a probability of 0.1 in each of the remaining three directions. The problem has the following form (checkout [this page](https://artint.info/2e/html/ArtInt2e.Ch9.S5.html) for more information):\n",
    "\n",
    "![example](http://artint.info/figures/ch09/gridworldc.gif)"
   ]
  },
  {
   "cell_type": "markdown",
   "metadata": {},
   "source": [
    "## MDP Type\n",
    "\n",
    "In POMDPs.jl, an MDP is defined by creating a subtype of the `MDP` abstract type. The types of the states and actions for the MDP are declared as [parameters](https://docs.julialang.org/en/v1/manual/types/#Parametric-Types-1) of the `MDP` type.  For example, if our states and actions are both represented by integers we can define our MDP type in the following way:\n",
    "```julia\n",
    "struct MyMDP <: MDP{Int64, Int64} # MDP{StateType, ActionType}\n",
    "\n",
    "end\n",
    "```\n",
    "`MyMDP` is a subtype from an abstract MDP type defined in POMDPs.jl. Let's first define types to represent grid worls states and actions, and then we'll go through defining our Grid World MDP type. "
   ]
  },
  {
   "cell_type": "markdown",
   "metadata": {
    "slideshow": {
     "slide_type": "slide"
    }
   },
   "source": [
    "## States\n",
    "The data container below represents the state of the agent in the grid world."
   ]
  },
  {
   "cell_type": "code",
   "execution_count": 8,
   "metadata": {},
   "outputs": [],
   "source": [
    "struct GridWorldState \n",
    "    x::Int64 # x position\n",
    "    y::Int64 # y position\n",
    "    done::Bool # are we in a terminal state?\n",
    "end"
   ]
  },
  {
   "cell_type": "markdown",
   "metadata": {},
   "source": [
    "Below are some convenience functions for working with the GridWorldState. "
   ]
  },
  {
   "cell_type": "code",
   "execution_count": 9,
   "metadata": {
    "collapsed": false,
    "jupyter": {
     "outputs_hidden": false
    }
   },
   "outputs": [
    {
     "data": {
      "text/plain": [
       "posequal (generic function with 1 method)"
      ]
     },
     "execution_count": 9,
     "metadata": {},
     "output_type": "execute_result"
    }
   ],
   "source": [
    "# initial state constructor\n",
    "GridWorldState(x::Int64, y::Int64) = GridWorldState(x,y,false)\n",
    "# checks if the position of two states are the same\n",
    "posequal(s1::GridWorldState, s2::GridWorldState) = s1.x == s2.x && s1.y == s2.y"
   ]
  },
  {
   "cell_type": "markdown",
   "metadata": {},
   "source": [
    "## Actions\n",
    "Since our action is simply the direction the agent chooses to go (i.e. up, down, left, right), we can use a Symbol to represent it. Symbols are essentially the same as strings, but they typically consist of only one word and literals begin with \"`:`\". See [this page](https://stackoverflow.com/questions/23480722/what-is-a-symbol-in-julia) for a technical discussion of what they are. Note that in this case, we will not define a custom type for our action, instead we represent it directly with a symbol. So that our action looks like:\n",
    "```julia\n",
    "action = :up # can also be :down, :left, :right\n",
    "```"
   ]
  },
  {
   "cell_type": "markdown",
   "metadata": {},
   "source": [
    "## MDP\n",
    "The GridWorld data container is defined below. It holds all the information we need to define the MDP tuple $$(\\mathcal{S}, \\mathcal{A}, T, R).$$"
   ]
  },
  {
   "cell_type": "code",
   "execution_count": 6,
   "metadata": {},
   "outputs": [],
   "source": [
    "# the grid world mdp type\n",
    "mutable struct GridWorld <: MDP{GridWorldState, Symbol} # Note that our MDP is parametarized by the state and the action\n",
    "    size_x::Int64 # x size of the grid\n",
    "    size_y::Int64 # y size of the grid\n",
    "    reward_states::Vector{GridWorldState} # the states in which agent recieves reward\n",
    "    reward_values::Vector{Float64} # reward values for those states\n",
    "    tprob::Float64 # probability of transitioning to the desired state\n",
    "    discount_factor::Float64 # disocunt factor\n",
    "end"
   ]
  },
  {
   "cell_type": "markdown",
   "metadata": {},
   "source": [
    "Before moving on, I want to create a constructor for GridWorld for convenience. Currently, if I want to create an instance of GridWorld, I have to pass in all of fields inside the GridWorld container (size_x, size_y, etc). The function below will return a GridWorld type with all the fields filled with some default values."
   ]
  },
  {
   "cell_type": "code",
   "execution_count": 11,
   "metadata": {
    "collapsed": false,
    "jupyter": {
     "outputs_hidden": false
    }
   },
   "outputs": [
    {
     "data": {
      "text/plain": [
       "4-element Array{GridWorldState,1}:\n",
       " GridWorldState(4, 3, false)\n",
       " GridWorldState(4, 6, false)\n",
       " GridWorldState(9, 3, false)\n",
       " GridWorldState(8, 8, false)"
      ]
     },
     "execution_count": 11,
     "metadata": {},
     "output_type": "execute_result"
    }
   ],
   "source": [
    "#we use key worded arguments so we can change any of the values we pass in \n",
    "function GridWorld(;sx::Int64=10, # size_x\n",
    "                    sy::Int64=10, # size_y\n",
    "                    rs::Vector{GridWorldState}=[GridWorldState(4,3), GridWorldState(4,6), GridWorldState(9,3), GridWorldState(8,8)], # reward states\n",
    "                    rv::Vector{Float64}=rv = [-10.,-5,10,3], # reward values\n",
    "                    tp::Float64=0.7, # tprob\n",
    "                    discount_factor::Float64=0.9)\n",
    "    return GridWorld(sx, sy, rs, rv, tp, discount_factor)\n",
    "end\n",
    "\n",
    "# we can now create a GridWorld mdp instance like this:\n",
    "mdp = GridWorld()\n",
    "mdp.reward_states # mdp contains all the defualt values from the constructor"
   ]
  },
  {
   "cell_type": "markdown",
   "metadata": {},
   "source": [
    "## Spaces\n",
    "Let's look at how we can define the state and action spaces for our problem."
   ]
  },
  {
   "cell_type": "markdown",
   "metadata": {},
   "source": [
    "### State Space\n",
    "The state space in an MDP represents all the states in the problem. There are two primary functionalities that we want our spaces to support. We want to be able to iterate over the state space (for Value Iteration for example), and sometimes we want to be able to sample form the state space (used in some POMDP solvers). In this notebook, we will only look at iterable state spaces. "
   ]
  },
  {
   "cell_type": "markdown",
   "metadata": {},
   "source": [
    "Since we can iterate over elements of an array, and our problem is small, we can store all of our states in an array. If your problem is very large (tens of millions of states), it might be worthwhile to create a custom type to define the problem's state space. See [the documentation](https://docs.julialang.org/en/v1/manual/interfaces/) on which functions you need to implement in order to create your own iterator. "
   ]
  },
  {
   "cell_type": "code",
   "execution_count": 12,
   "metadata": {},
   "outputs": [],
   "source": [
    "function POMDPs.states(mdp::GridWorld)\n",
    "    s = GridWorldState[] # initialize an array of GridWorldStates\n",
    "    # loop over all our states, remeber there are two binary variables:\n",
    "    # done (d)\n",
    "    for d = 0:1, y = 1:mdp.size_y, x = 1:mdp.size_x\n",
    "        push!(s, GridWorldState(x,y,d))\n",
    "    end\n",
    "    return s\n",
    "end;"
   ]
  },
  {
   "cell_type": "markdown",
   "metadata": {},
   "source": [
    "Here, the code: ```function POMDPs.states(mdp::GridWorld)``` means that we want to take the function called ```states(...)``` from the POMDPs.jl module and add another method to it. The ```states(...)``` function in POMDPs.jl doesn't know about our GridWorld type. However, now when ```states(...)``` is called with GridWorld it will dispatch the function we defined above! This is the awesome thing about multiple-dispatch, and one of the features that should make working with MDP/POMDPs easier in Julia. \n",
    "\n",
    "The solvers that support the POMDPs.jl interface know that a function called ```states(...)``` exists in the interface. However, they do not know the behavior of that function for GridWorld. That means in order for the solvers to use this behavior all we have to do is pass an instance of our GridWorld type into the solver. When ```states(...)``` is called in the solver with the GridWorld type, the function above will be called.   "
   ]
  },
  {
   "cell_type": "code",
   "execution_count": 7,
   "metadata": {
    "collapsed": false,
    "jupyter": {
     "outputs_hidden": false
    }
   },
   "outputs": [
    {
     "data": {
      "text/plain": [
       "GridWorldState(1, 1, false)"
      ]
     },
     "execution_count": 7,
     "metadata": {},
     "output_type": "execute_result"
    }
   ],
   "source": [
    "mdp = GridWorld()\n",
    "state_space = states(mdp);\n",
    "state_space[1]"
   ]
  },
  {
   "cell_type": "markdown",
   "metadata": {},
   "source": [
    "### Action Space"
   ]
  },
  {
   "cell_type": "markdown",
   "metadata": {},
   "source": [
    "The action space is the set of all actions availiable to the agent. In the grid world problem the action space consists of up, down, left, and right. We can define the action space by implementing a new method of the `actions` function."
   ]
  },
  {
   "cell_type": "code",
   "execution_count": 13,
   "metadata": {},
   "outputs": [],
   "source": [
    "POMDPs.actions(mdp::GridWorld) = [:up, :down, :left, :right];"
   ]
  },
  {
   "cell_type": "markdown",
   "metadata": {},
   "source": [
    "Now that we've defined our state and action spaces, we are half-way thorugh our MDP tuple:\n",
    "$$\n",
    "(\\mathcal{S}, \\mathcal{A}, T, R)\n",
    "$$"
   ]
  },
  {
   "cell_type": "markdown",
   "metadata": {},
   "source": [
    "## Distributions"
   ]
  },
  {
   "cell_type": "markdown",
   "metadata": {},
   "source": [
    "Since MDPs are probabilistic models, we have to deal with probability distributions. In this section, we outline how to define probability distriubtions, and what tools are availiable to help you with the task."
   ]
  },
  {
   "cell_type": "markdown",
   "metadata": {},
   "source": [
    "### Transition Distribution "
   ]
  },
  {
   "cell_type": "markdown",
   "metadata": {},
   "source": [
    "If you are familiar with MDPs, you know that the transition function $T(s' \\mid s, a)$ captures the dynamics of the system. Specifically, $T(s' \\mid s, a)$ is a real value that defines the probabiltiy of transitioning to state $s'$ given that you took action $a$ in state $s$. The transition distirubtion $T(\\cdot \\mid s, a)$ is a slightly different construct. This is the actual distribution over the states that our agent can reach given that its in state $s$ and took action $a$. In other words this is the distribution over $s'$. \n",
    "\n",
    "For this grid world example there are only a few states that the agent can transition to, so there are only a few states that have nonzero probability in $T(\\cdot \\mid s, a)$. Thus, we will use the sparse [categorical distribution](https://en.wikipedia.org/wiki/Categorical_distribution) (`SparseCat`) from POMDPToolbox. [Distributions.jl](https://github.com/JuliaStats/Distributions.jl) also contains some distributions, but in many cases, a custom distribution type will need to be defined - see [the source code for `SparseCat`](https://github.com/JuliaPOMDP/POMDPModelTools.jl/blob/master/src/distributions/sparse_cat.jl) for an example.\n",
    "\n",
    "A `SparseCat` object contains a vector of states and an associated vector of their probabilities. The probabilities of all other states are implied to be zero."
   ]
  },
  {
   "cell_type": "markdown",
   "metadata": {},
   "source": [
    "## Transition Model"
   ]
  },
  {
   "cell_type": "markdown",
   "metadata": {},
   "source": [
    "In this section we will define the system dynamics of the gird world MDP. In POMDPs.jl, we work with transition distirbution functions $T(s' \\mid s, a)$, so we want to write a function that can generate the transition distributions over $s'$ for us given an $(s, a)$ pair. "
   ]
  },
  {
   "cell_type": "markdown",
   "metadata": {},
   "source": [
    "In grid world, the dynamics of the system are fairly simple. We move in the specified direction with some pre-defined probability. This is the `tprob` parameter in our GridWorld MDP (it is set to 0.7 in the DMU book example). If we get to state with a positive reward, we've reached a terminal state and can no longer accumulate reward."
   ]
  },
  {
   "cell_type": "markdown",
   "metadata": {},
   "source": [
    "In the transition function we want to fill the neighbors in our distribution d with the reachable states from the state, action pair. We want to fill the probs in our distirbution d with the probabilities of reaching that neighbor. "
   ]
  },
  {
   "cell_type": "code",
   "execution_count": 15,
   "metadata": {},
   "outputs": [],
   "source": [
    "# transition helpers\n",
    "function inbounds(mdp::GridWorld,x::Int64,y::Int64)\n",
    "    if 1 <= x <= mdp.size_x && 1 <= y <= mdp.size_y\n",
    "        return true\n",
    "    else\n",
    "        return false\n",
    "    end\n",
    "end\n",
    "\n",
    "inbounds(mdp::GridWorld, state::GridWorldState) = inbounds(mdp, state.x, state.y);"
   ]
  },
  {
   "cell_type": "code",
   "execution_count": 16,
   "metadata": {},
   "outputs": [],
   "source": [
    "function POMDPs.transition(mdp::GridWorld, state::GridWorldState, action::Symbol)\n",
    "    a = action\n",
    "    x = state.x\n",
    "    y = state.y\n",
    "    \n",
    "    if state.done\n",
    "        return SparseCat([GridWorldState(x, y, true)], [1.0])\n",
    "    elseif state in mdp.reward_states\n",
    "        return SparseCat([GridWorldState(x, y, true)], [1.0])\n",
    "    end\n",
    "\n",
    "    neighbors = [\n",
    "        GridWorldState(x+1, y, false), # right\n",
    "        GridWorldState(x-1, y, false), # left\n",
    "        GridWorldState(x, y-1, false), # down\n",
    "        GridWorldState(x, y+1, false), # up\n",
    "        ] # See Performance Note below\n",
    "    \n",
    "    targets = Dict(:right=>1, :left=>2, :down=>3, :up=>4) # See Performance Note below\n",
    "    target = targets[a]\n",
    "    \n",
    "    probability = fill(0.0, 4)\n",
    "\n",
    "    if !inbounds(mdp, neighbors[target])\n",
    "        # If would transition out of bounds, stay in\n",
    "        # same cell with probability 1\n",
    "        return SparseCat([GridWorldState(x, y)], [1.0])\n",
    "    else\n",
    "        probability[target] = mdp.tprob\n",
    "\n",
    "        oob_count = sum(!inbounds(mdp, n) for n in neighbors) # number of out of bounds neighbors\n",
    "\n",
    "        new_probability = (1.0 - mdp.tprob)/(3-oob_count)\n",
    "\n",
    "        for i = 1:4 # do not include neighbor 5\n",
    "            if inbounds(mdp, neighbors[i]) && i != target\n",
    "                probability[i] = new_probability\n",
    "            end\n",
    "        end\n",
    "    end\n",
    "\n",
    "    return SparseCat(neighbors, probability)\n",
    "end;"
   ]
  },
  {
   "cell_type": "markdown",
   "metadata": {},
   "source": [
    "> Performance Note: It is inefficient to create mutable objects like dictionaries and vectors in low-level code like the `transition` function because it requires dynamic memory allocation. This code is written for clarity rather than speed. Better speed could be realized by putting the Dict in the mdp object or using if statements instead, and replacing the vector with a [`StaticArrays.Svector`](https://github.com/JuliaArrays/StaticArrays.jl). However, a much more important consideration for performance is [type stability](https://en.wikibooks.org/wiki/Introducing_Julia/Types#Type_stability), which this function maintains because it always returns a `SparseCat{Vector{GridWorldState},Vector{Float64}}` object."
   ]
  },
  {
   "cell_type": "markdown",
   "metadata": {},
   "source": [
    "## Reward Model\n",
    "The reward model $R(s,a,s')$ is a function that returns the reward of being in state $s$, taking an action $a$ from that state, and ending up in state $s'$. In our problem, we are rewarded for reaching a terminal reward state (this could be positive or negative)."
   ]
  },
  {
   "cell_type": "code",
   "execution_count": 17,
   "metadata": {},
   "outputs": [],
   "source": [
    "function POMDPs.reward(mdp::GridWorld, state::GridWorldState, action::Symbol, statep::GridWorldState) #deleted action\n",
    "    if state.done\n",
    "        return 0.0\n",
    "    end\n",
    "    r = 0.0\n",
    "    n = length(mdp.reward_states)\n",
    "    for i = 1:n\n",
    "        if posequal(state, mdp.reward_states[i])\n",
    "            r += mdp.reward_values[i]\n",
    "        end\n",
    "    end\n",
    "    return r\n",
    "end;\n"
   ]
  },
  {
   "cell_type": "markdown",
   "metadata": {},
   "source": [
    "## Miscallenous Functions\n",
    "We are almost done! Just a few simple functions left. First let's implement implement the discount function."
   ]
  },
  {
   "cell_type": "code",
   "execution_count": 19,
   "metadata": {},
   "outputs": [],
   "source": [
    "POMDPs.discount(mdp::GridWorld) = mdp.discount_factor;"
   ]
  },
  {
   "cell_type": "markdown",
   "metadata": {},
   "source": [
    "The last thing we need is indexing functions. This allows us to index between the discrete utility array and the states and actions in our problem. We will use the `CartesianIndices` and `LinearIndices` functions from Julia base to help us here."
   ]
  },
  {
   "cell_type": "code",
   "execution_count": 21,
   "metadata": {},
   "outputs": [],
   "source": [
    "function POMDPs.stateindex(mdp::GridWorld, state::GridWorldState)\n",
    "    sd = Int(state.done + 1)\n",
    "    ci = CartesianIndices((mdp.size_x, mdp.size_y, 2))\n",
    "    return LinearIndices(ci)[state.x, state.y, sd]\n",
    "end\n",
    "\n",
    "function POMDPs.actionindex(mdp::GridWorld, act::Symbol)\n",
    "    if act==:up\n",
    "        return 1\n",
    "    elseif act==:down\n",
    "        return 2\n",
    "    elseif act==:left\n",
    "        return 3\n",
    "    elseif act==:right\n",
    "        return 4\n",
    "    end\n",
    "    error(\"Invalid GridWorld action: $act\")\n",
    "end;"
   ]
  },
  {
   "cell_type": "markdown",
   "metadata": {},
   "source": [
    "Finally let's define a function that checks if a state is terminal."
   ]
  },
  {
   "cell_type": "code",
   "execution_count": 22,
   "metadata": {},
   "outputs": [],
   "source": [
    "POMDPs.isterminal(mdp::GridWorld, s::GridWorldState) = s.done"
   ]
  },
  {
   "cell_type": "code",
   "execution_count": 23,
   "metadata": {},
   "outputs": [],
   "source": [
    "POMDPs.initialstate(pomdp::GridWorld) = Deterministic(GridWorldState(1,1)) # TODO: define initialistate for states, not distributions?"
   ]
  },
  {
   "cell_type": "markdown",
   "metadata": {},
   "source": [
    "# Simulations\n",
    "\n",
    "Now that we have defined the problem, we should simulate it to see it working. The funcion `stepthrough` from `POMDPSimulators` provides a convenient `for` loop syntax for exploring the behavior of the mdp. The `POMDPPolicies` provides a way for defining simple policies, such as `RandomPolicy` or `FunctionPolicy` that takes a lambda function to determine the next action based on the state `s`."
   ]
  },
  {
   "cell_type": "code",
   "execution_count": 29,
   "metadata": {
    "collapsed": false,
    "jupyter": {
     "outputs_hidden": false
    }
   },
   "outputs": [
    {
     "name": "stdout",
     "output_type": "stream",
     "text": [
      "s = GridWorldState(1, 1, false)\n",
      "a = :right\n",
      "r = 0.0\n",
      "\n",
      "s = GridWorldState(2, 1, false)\n",
      "a = :right\n",
      "r = 0.0\n",
      "\n",
      "s = GridWorldState(3, 1, false)\n",
      "a = :right\n",
      "r = 0.0\n",
      "\n",
      "s = GridWorldState(4, 1, false)\n",
      "a = :right\n",
      "r = 0.0\n",
      "\n",
      "s = GridWorldState(5, 1, false)\n",
      "a = :right\n",
      "r = 0.0\n",
      "\n",
      "s = GridWorldState(6, 1, false)\n",
      "a = :right\n",
      "r = 0.0\n",
      "\n",
      "s = GridWorldState(7, 1, false)\n",
      "a = :right\n",
      "r = 0.0\n",
      "\n",
      "s = GridWorldState(8, 1, false)\n",
      "a = :right\n",
      "r = 0.0\n",
      "\n",
      "s = GridWorldState(9, 1, false)\n",
      "a = :right\n",
      "r = 0.0\n",
      "\n",
      "s = GridWorldState(10, 1, false)\n",
      "a = :right\n",
      "r = 0.0\n",
      "\n"
     ]
    }
   ],
   "source": [
    "mdp = GridWorld()\n",
    "mdp.tprob=1.0\n",
    "\n",
    "policy = RandomPolicy(mdp)\n",
    "left_policy = FunctionPolicy(s->:left)\n",
    "right_policy = FunctionPolicy(s->:right)\n",
    "\n",
    "for (s,a,r) in stepthrough(mdp, right_policy, \"s,a,r\", max_steps=10)\n",
    "    @show s\n",
    "    @show a\n",
    "    @show r\n",
    "    println()\n",
    "end"
   ]
  },
  {
   "cell_type": "markdown",
   "metadata": {},
   "source": [
    "## Value Iteration Solver"
   ]
  },
  {
   "cell_type": "markdown",
   "metadata": {},
   "source": [
    "Value iteration is a dynamic porgramming apporach for solving MDPs. See the [wikipedia](https://en.wikipedia.org/wiki/Markov_decision_process#Value_iteration) article for a brief explanation. The solver can be found [here](https://github.com/JuliaPOMDP/DiscreteValueIteration.jl). If you haven't isntalled the solver yet, you can run the following from the Julia REPL to download the module."
   ]
  },
  {
   "cell_type": "markdown",
   "metadata": {},
   "source": [
    "```julia\n",
    "POMDPs.add(\"DiscreteValueIteration\")\n",
    "```"
   ]
  },
  {
   "cell_type": "markdown",
   "metadata": {},
   "source": [
    "Each POMDPs.jl solver provides two data types for you to interface with. The first is the Solver type which contains solver parameters. The second is the Policy type. Let's see hwo we can use them to get an optimal action at a given state."
   ]
  },
  {
   "cell_type": "code",
   "execution_count": 34,
   "metadata": {
    "collapsed": false,
    "jupyter": {
     "outputs_hidden": false
    }
   },
   "outputs": [
    {
     "name": "stdout",
     "output_type": "stream",
     "text": [
      "[Iteration 1   ] residual:         10 | iteration runtime:      0.242 ms, (  0.000242 s total)\n",
      "[Iteration 2   ] residual:        6.3 | iteration runtime:      0.231 ms, (  0.000473 s total)\n",
      "[Iteration 3   ] residual:       4.54 | iteration runtime:      0.215 ms, (  0.000687 s total)\n",
      "[Iteration 4   ] residual:       3.39 | iteration runtime:      0.222 ms, (  0.000909 s total)\n",
      "[Iteration 5   ] residual:       2.57 | iteration runtime:      0.209 ms, (   0.00112 s total)\n",
      "[Iteration 6   ] residual:       1.92 | iteration runtime:      0.220 ms, (   0.00134 s total)\n",
      "[Iteration 7   ] residual:       1.39 | iteration runtime:      0.220 ms, (   0.00156 s total)\n",
      "[Iteration 8   ] residual:       1.07 | iteration runtime:      0.215 ms, (   0.00177 s total)\n",
      "[Iteration 9   ] residual:      0.861 | iteration runtime:      0.218 ms, (   0.00199 s total)\n",
      "[Iteration 10  ] residual:      0.662 | iteration runtime:      0.212 ms, (    0.0022 s total)\n",
      "[Iteration 11  ] residual:      0.489 | iteration runtime:      0.216 ms, (   0.00242 s total)\n",
      "[Iteration 12  ] residual:      0.405 | iteration runtime:      0.235 ms, (   0.00265 s total)\n",
      "[Iteration 13  ] residual:      0.341 | iteration runtime:      0.230 ms, (   0.00288 s total)\n",
      "[Iteration 14  ] residual:      0.244 | iteration runtime:      0.234 ms, (   0.00312 s total)\n",
      "[Iteration 15  ] residual:      0.166 | iteration runtime:      0.234 ms, (   0.00335 s total)\n",
      "[Iteration 16  ] residual:      0.106 | iteration runtime:      0.241 ms, (   0.00359 s total)\n",
      "[Iteration 17  ] residual:     0.0638 | iteration runtime:      0.245 ms, (   0.00384 s total)\n",
      "[Iteration 18  ] residual:     0.0369 | iteration runtime:      0.244 ms, (   0.00408 s total)\n",
      "[Iteration 19  ] residual:     0.0208 | iteration runtime:      0.237 ms, (   0.00432 s total)\n",
      "[Iteration 20  ] residual:     0.0115 | iteration runtime:      0.237 ms, (   0.00456 s total)\n",
      "[Iteration 21  ] residual:    0.00621 | iteration runtime:      0.233 ms, (   0.00479 s total)\n",
      "[Iteration 22  ] residual:    0.00333 | iteration runtime:      0.239 ms, (   0.00503 s total)\n",
      "[Iteration 23  ] residual:    0.00177 | iteration runtime:      0.323 ms, (   0.00535 s total)\n",
      "[Iteration 24  ] residual:   0.000934 | iteration runtime:      0.408 ms, (   0.00576 s total)\n"
     ]
    }
   ],
   "source": [
    "# first let's load the value iteration module\n",
    "using DiscreteValueIteration\n",
    "\n",
    "# initialize the problem\n",
    "mdp = GridWorld()\n",
    "\n",
    "# initialize the solver\n",
    "# max_iterations: maximum number of iterations value iteration runs for (default is 100)\n",
    "# belres: the value of Bellman residual used in the solver (defualt is 1e-3)\n",
    "solver = ValueIterationSolver(max_iterations=100, belres=1e-3; verbose=true)\n",
    "\n",
    "# solve for an optimal policy\n",
    "policy = solve(solver, mdp); "
   ]
  },
  {
   "cell_type": "markdown",
   "metadata": {},
   "source": [
    "Now, we can use the policy along with the ```action(...)``` function to get the optimal action in a given state."
   ]
  },
  {
   "cell_type": "code",
   "execution_count": 35,
   "metadata": {
    "collapsed": false,
    "jupyter": {
     "outputs_hidden": false
    }
   },
   "outputs": [
    {
     "data": {
      "text/plain": [
       ":up"
      ]
     },
     "execution_count": 35,
     "metadata": {},
     "output_type": "execute_result"
    }
   ],
   "source": [
    "# say we are in state (9,2)\n",
    "s = GridWorldState(9,2)\n",
    "a = action(policy, s)"
   ]
  },
  {
   "cell_type": "markdown",
   "metadata": {},
   "source": [
    "Remeber that the state (9,3) has an immediate reward of +10.0, so the policy we found is moving up as expected!"
   ]
  },
  {
   "cell_type": "code",
   "execution_count": 37,
   "metadata": {
    "collapsed": false,
    "jupyter": {
     "outputs_hidden": false
    }
   },
   "outputs": [
    {
     "data": {
      "text/plain": [
       ":right"
      ]
     },
     "execution_count": 37,
     "metadata": {},
     "output_type": "execute_result"
    }
   ],
   "source": [
    "s = GridWorldState(8,3)\n",
    "a = action(policy, s)"
   ]
  },
  {
   "cell_type": "markdown",
   "metadata": {},
   "source": [
    "![description](gw.jpg)"
   ]
  },
  {
   "cell_type": "markdown",
   "metadata": {},
   "source": [
    "To see the path an agent may take in the gridworld, starting in the initial state (set to `(1,1)`), you may run following code. Note that the policy differs from the example above, as the gridworld in the image has -1 reward for accidentaly trying to move into the wall, which we have not implemented in our MDP."
   ]
  },
  {
   "cell_type": "code",
   "execution_count": 39,
   "metadata": {},
   "outputs": [
    {
     "name": "stdout",
     "output_type": "stream",
     "text": [
      "s = GridWorldState(1, 1, false)\n",
      "a = :right\n",
      "r = 0.0\n",
      "\n",
      "s = GridWorldState(2, 1, false)\n",
      "a = :right\n",
      "r = 0.0\n",
      "\n",
      "s = GridWorldState(3, 1, false)\n",
      "a = :right\n",
      "r = 0.0\n",
      "\n",
      "s = GridWorldState(4, 1, false)\n",
      "a = :right\n",
      "r = 0.0\n",
      "\n",
      "s = GridWorldState(5, 1, false)\n",
      "a = :right\n",
      "r = 0.0\n",
      "\n",
      "s = GridWorldState(6, 1, false)\n",
      "a = :right\n",
      "r = 0.0\n",
      "\n",
      "s = GridWorldState(5, 1, false)\n",
      "a = :right\n",
      "r = 0.0\n",
      "\n",
      "s = GridWorldState(6, 1, false)\n",
      "a = :right\n",
      "r = 0.0\n",
      "\n",
      "s = GridWorldState(5, 1, false)\n",
      "a = :right\n",
      "r = 0.0\n",
      "\n",
      "s = GridWorldState(6, 1, false)\n",
      "a = :right\n",
      "r = 0.0\n",
      "\n",
      "s = GridWorldState(7, 1, false)\n",
      "a = :right\n",
      "r = 0.0\n",
      "\n",
      "s = GridWorldState(8, 1, false)\n",
      "a = :up\n",
      "r = 0.0\n",
      "\n",
      "s = GridWorldState(9, 1, false)\n",
      "a = :up\n",
      "r = 0.0\n",
      "\n",
      "s = GridWorldState(8, 1, false)\n",
      "a = :up\n",
      "r = 0.0\n",
      "\n",
      "s = GridWorldState(8, 2, false)\n",
      "a = :right\n",
      "r = 0.0\n",
      "\n",
      "s = GridWorldState(9, 2, false)\n",
      "a = :up\n",
      "r = 0.0\n",
      "\n",
      "s = GridWorldState(9, 3, false)\n",
      "a = :up\n",
      "r = 10.0\n",
      "\n"
     ]
    }
   ],
   "source": [
    "for (s,a,r) in stepthrough(mdp, policy, \"s,a,r\", max_steps=20)\n",
    "    @show s\n",
    "    @show a\n",
    "    @show r\n",
    "    println()\n",
    "end"
   ]
  },
  {
   "cell_type": "markdown",
   "metadata": {},
   "source": [
    "## Monte-Carlo Tree Search Solver\n",
    "Monte-Carlo Tree Search (MCTS) is another MDP solver. It is an online method that looks for the best action from only the current state by building a search tree. A nice overview of MCTS can be found [here](http://www.diego-perez.net/papers/MCTSSurvey.pdf). Run the following command to donwload the module\n",
    "\n"
   ]
  },
  {
   "cell_type": "markdown",
   "metadata": {},
   "source": [
    "```julia\n",
    "POMDPs.add(\"MCTS\")\n",
    "```"
   ]
  },
  {
   "cell_type": "markdown",
   "metadata": {},
   "source": [
    "Let's quickly run through an example of using the solver:"
   ]
  },
  {
   "cell_type": "code",
   "execution_count": 44,
   "metadata": {
    "collapsed": false,
    "jupyter": {
     "outputs_hidden": false
    },
    "scrolled": true
   },
   "outputs": [
    {
     "data": {
      "text/plain": [
       ":up"
      ]
     },
     "execution_count": 44,
     "metadata": {},
     "output_type": "execute_result"
    }
   ],
   "source": [
    "using MCTS\n",
    "\n",
    "# initialize the problem\n",
    "mdp = GridWorld()\n",
    "\n",
    "# initialize the solver with hyper parameters\n",
    "# n_iterations: the number of iterations that each search runs for\n",
    "# depth: the depth of the tree (how far away from the current state the algorithm explores)\n",
    "# exploration constant: this is how much weight to put into exploratory actions. \n",
    "# A good rule of thumb is to set the exploration constant to what you expect the upper bound on your average expected reward to be.\n",
    "solver = MCTSSolver(n_iterations=1000,\n",
    "                    depth=20,\n",
    "                    exploration_constant=10.0,\n",
    "                    enable_tree_vis=true)\n",
    "\n",
    "# initialize the planner by calling the `solve` function. For online solvers, the \n",
    "planner = solve(solver, mdp)\n",
    "\n",
    "# to get the action:\n",
    "s = GridWorldState(9,2)\n",
    "a = action(planner, s)"
   ]
  },
  {
   "cell_type": "markdown",
   "metadata": {},
   "source": [
    "Let's simulate using the planner to determine a good action at each timestep."
   ]
  },
  {
   "cell_type": "code",
   "execution_count": 1,
   "metadata": {
    "collapsed": false,
    "jupyter": {
     "outputs_hidden": false
    }
   },
   "outputs": [
    {
     "ename": "UndefVarError",
     "evalue": "UndefVarError: GridWorldState not defined",
     "output_type": "error",
     "traceback": [
      "UndefVarError: GridWorldState not defined",
      "",
      "Stacktrace:",
      " [1] top-level scope at In[1]:1"
     ]
    }
   ],
   "source": [
    "s = GridWorldState(4,1) # this is our starting state\n",
    "hist = HistoryRecorder(max_steps=1000)\n",
    "\n",
    "hist = simulate(hist, mdp, policy, s)\n",
    "\n",
    "println(\"Total discounted reward: $(discounted_reward(hist))\")"
   ]
  },
  {
   "cell_type": "markdown",
   "metadata": {},
   "source": [
    "Now we can view the state-action history using the `eachstep` function."
   ]
  },
  {
   "cell_type": "code",
   "execution_count": 46,
   "metadata": {
    "collapsed": false,
    "jupyter": {
     "outputs_hidden": false
    }
   },
   "outputs": [
    {
     "name": "stdout",
     "output_type": "stream",
     "text": [
      "s: GridWorldState(4, 1, false)  a: right   s': GridWorldState(5, 1, false)\n",
      "s: GridWorldState(5, 1, false)  a: right   s': GridWorldState(6, 1, false)\n",
      "s: GridWorldState(6, 1, false)  a: right   s': GridWorldState(7, 1, false)\n",
      "s: GridWorldState(7, 1, false)  a: right   s': GridWorldState(7, 2, false)\n",
      "s: GridWorldState(7, 2, false)  a: right   s': GridWorldState(8, 2, false)\n",
      "s: GridWorldState(8, 2, false)  a: right   s': GridWorldState(9, 2, false)\n",
      "s: GridWorldState(9, 2, false)  a: up      s': GridWorldState(9, 3, false)\n",
      "s: GridWorldState(9, 3, false)  a: up      s': GridWorldState(9, 3, true)\n"
     ]
    }
   ],
   "source": [
    "using Printf\n",
    "for (s, a, sp) in eachstep(hist, \"s,a,sp\")\n",
    "    @printf(\"s: %-26s  a: %-6s  s': %-26s\\n\", s, a, sp)\n",
    "end"
   ]
  },
  {
   "cell_type": "markdown",
   "metadata": {},
   "source": [
    "To see what the planner is doing, we can look at the tree created when it plans at a particular state, for example, the first state in the history."
   ]
  },
  {
   "cell_type": "code",
   "execution_count": 47,
   "metadata": {
    "collapsed": false,
    "jupyter": {
     "outputs_hidden": false
    }
   },
   "outputs": [
    {
     "data": {
      "text/html": [
       "    <!DOCTYPE html>\n",
       "    <html>\n",
       "    <head>\n",
       "        <meta charset=\"UTF-8\">\n",
       "        <title>MCTS tree</title>\n",
       "    </head>\n",
       "    <body>\n",
       "    <div id=\"treevisPTDAyrdi\">\n",
       "    <style>\n",
       "        \n",
       ".node {\n",
       "    cursor: pointer;\n",
       "}\n",
       "\n",
       ".node circle {\n",
       "\t  fill: #fff;\n",
       "\t  stroke: steelblue;\n",
       "\t  stroke-width: 3px;\n",
       "      r: 10;\n",
       "}\n",
       "\n",
       ".node rect {\n",
       "\t  fill: #fff;\n",
       "\t  stroke: steelblue;\n",
       "\t  stroke-width: 3px;\n",
       "      x: -10;\n",
       "      y: -10;\n",
       "      width: 20;\n",
       "      height: 20;\n",
       "}\n",
       "\n",
       ".node path {\n",
       "    fill: #ffffff;\n",
       "    /* stroke: steelblue; */\n",
       "    stroke-width: 2px;\n",
       "}\n",
       ".node text {\n",
       "    font-family: Arial, Helvetica, sans-serif;\n",
       "    font-style: normal;\n",
       "    font-size: 12px;\n",
       "}\n",
       ".link /* path */ {\n",
       "    fill: none;\n",
       "    stroke: #cccccc;\n",
       "    stroke-width: 2px;\n",
       "}\n",
       ".link text {\n",
       "    font-family: Arial, Helvetica, sans-serif;\n",
       "    font-style: normal;\n",
       "    font-size: 12px;\n",
       "}\n",
       ".hover text{\n",
       "    font-family: Arial, Helvetica, sans-serif;\n",
       "    font-style: normal;\n",
       "    font-size: 12px;\n",
       "}\n",
       "\n",
       "/*\n",
       ".svg-container {\n",
       "    display: inline-block;\n",
       "    position: relative;\n",
       "    width: 100%;\n",
       "    padding-bottom: 100%;\n",
       "    vertical-align: top;\n",
       "    overflow: hidden;\n",
       "}\n",
       ".svg-content-responsive {\n",
       "    display: inline-block;\n",
       "    position: absolute;\n",
       "    top: 10px;\n",
       "    left: 0;\n",
       "}\n",
       "*/\n",
       "\n",
       "    </style>\n",
       "    <script>\n",
       "       (function(){\n",
       "        var treeData = {\"children\":[[617,618,619,620],[649,650,651,652],[849,850,851,852],[889,890,891,892],[769,770,771,772],[805,806,807,808],[713,714,715,716],[725,726,727,728],[769,770,771,772],[669,670,671,672],[701,702,703,704],[809,810,811,812],[701,702,703,704],[933,934,935,936],[717,718,719,720],[801,802,803,804],[721,722,723,724],[745,746,747,748],[825,826,827,828],[885,886,887,888],[813,814,815,816],[733,734,735,736],[705,706,707,708],[749,750,751,752],[617,618,619,620],[905,906,907,908],[693,694,695,696],[669,670,671,672],[709,710,711,712],[665,666,667,668],[657,658,659,660],[633,634,635,636],[865,866,867,868],[789,790,791,792],[645,646,647,648],[713,714,715,716],[753,754,755,756],[725,726,727,728],[917,918,919,920],[705,706,707,708],[697,698,699,700],[661,662,663,664],[653,654,655,656],[797,798,799,800],[661,662,663,664],[705,706,707,708],[765,766,767,768],[637,638,639,640],[669,670,671,672],[661,662,663,664],[693,694,695,696],[753,754,755,756],[725,726,727,728],[761,762,763,764],[737,738,739,740],[773,774,775,776],[669,670,671,672],[649,650,651,652],[685,686,687,688],[661,662,663,664],[921,922,923,924],[813,814,815,816],[665,666,667,668],[649,650,651,652],[869,870,871,872],[765,766,767,768],[781,782,783,784],[829,830,831,832],[833,834,835,836],[625,626,627,628],[669,670,671,672],[777,778,779,780],[773,774,775,776],[837,838,839,840],[717,718,719,720],[853,854,855,856],[617,618,619,620],[741,742,743,744],[697,698,699,700],[657,658,659,660],[765,766,767,768],[645,646,647,648],[817,818,819,820],[653,654,655,656],[701,702,703,704],[681,682,683,684],[793,794,795,796],[749,750,751,752],[761,762,763,764],[861,862,863,864],[621,622,623,624],[869,870,871,872],[653,654,655,656],[733,734,735,736],[625,626,627,628],[737,738,739,740],[697,698,699,700],[625,626,627,628],[785,786,787,788],[689,690,691,692],[841,842,843,844],[813,814,815,816],[741,742,743,744],[661,662,663,664],[653,654,655,656],[813,814,815,816],[761,762,763,764],[769,770,771,772],[629,630,631,632],[625,626,627,628],[849,850,851,852],[785,786,787,788],[641,642,643,644],[661,662,663,664],[773,774,775,776],[677,678,679,680],[661,662,663,664],[777,778,779,780],[721,722,723,724],[657,658,659,660],[797,798,799,800],[901,902,903,904],[621,622,623,624],[617,618,619,620],[637,638,639,640],[853,854,855,856],[757,758,759,760],[689,690,691,692],[749,750,751,752],[625,626,627,628],[677,678,679,680],[693,694,695,696],[705,706,707,708],[853,854,855,856],[761,762,763,764],[665,666,667,668],[829,830,831,832],[633,634,635,636],[677,678,679,680],[713,714,715,716],[661,662,663,664],[805,806,807,808],[837,838,839,840],[665,666,667,668],[745,746,747,748],[861,862,863,864],[645,646,647,648],[801,802,803,804],[837,838,839,840],[693,694,695,696],[665,666,667,668],[737,738,739,740],[629,630,631,632],[897,898,899,900],[633,634,635,636],[657,658,659,660],[833,834,835,836],[677,678,679,680],[741,742,743,744],[705,706,707,708],[813,814,815,816],[885,886,887,888],[645,646,647,648],[797,798,799,800],[757,758,759,760],[621,622,623,624],[677,678,679,680],[661,662,663,664],[713,714,715,716],[629,630,631,632],[617,618,619,620],[829,830,831,832],[629,630,631,632],[673,674,675,676],[785,786,787,788],[637,638,639,640],[701,702,703,704],[621,622,623,624],[637,638,639,640],[857,858,859,860],[649,650,651,652],[793,794,795,796],[797,798,799,800],[653,654,655,656],[781,782,783,784],[669,670,671,672],[665,666,667,668],[845,846,847,848],[673,674,675,676],[817,818,819,820],[789,790,791,792],[869,870,871,872],[789,790,791,792],[901,902,903,904],[805,806,807,808],[665,666,667,668],[701,702,703,704],[729,730,731,732],[625,626,627,628],[681,682,683,684],[673,674,675,676],[789,790,791,792],[757,758,759,760],[709,710,711,712],[729,730,731,732],[697,698,699,700],[709,710,711,712],[673,674,675,676],[801,802,803,804],[729,730,731,732],[641,642,643,644],[813,814,815,816],[653,654,655,656],[869,870,871,872],[829,830,831,832],[637,638,639,640],[789,790,791,792],[913,914,915,916],[749,750,751,752],[705,706,707,708],[757,758,759,760],[841,842,843,844],[809,810,811,812],[725,726,727,728],[673,674,675,676],[629,630,631,632],[641,642,643,644],[717,718,719,720],[641,642,643,644],[673,674,675,676],[705,706,707,708],[797,798,799,800],[717,718,719,720],[813,814,815,816],[737,738,739,740],[725,726,727,728],[689,690,691,692],[721,722,723,724],[881,882,883,884],[717,718,719,720],[677,678,679,680],[785,786,787,788],[689,690,691,692],[781,782,783,784],[885,886,887,888],[645,646,647,648],[625,626,627,628],[749,750,751,752],[725,726,727,728],[657,658,659,660],[637,638,639,640],[693,694,695,696],[673,674,675,676],[697,698,699,700],[657,658,659,660],[737,738,739,740],[825,826,827,828],[825,826,827,828],[657,658,659,660],[701,702,703,704],[725,726,727,728],[629,630,631,632],[869,870,871,872],[681,682,683,684],[713,714,715,716],[741,742,743,744],[661,662,663,664],[745,746,747,748],[789,790,791,792],[805,806,807,808],[829,830,831,832],[753,754,755,756],[857,858,859,860],[681,682,683,684],[773,774,775,776],[749,750,751,752],[737,738,739,740],[829,830,831,832],[629,630,631,632],[621,622,623,624],[665,666,667,668],[773,774,775,776],[757,758,759,760],[813,814,815,816],[717,718,719,720],[785,786,787,788],[621,622,623,624],[733,734,735,736],[669,670,671,672],[877,878,879,880],[673,674,675,676],[797,798,799,800],[777,778,779,780],[765,766,767,768],[665,666,667,668],[665,666,667,668],[641,642,643,644],[769,770,771,772],[781,782,783,784],[705,706,707,708],[697,698,699,700],[761,762,763,764],[845,846,847,848],[629,630,631,632],[857,858,859,860],[709,710,711,712],[837,838,839,840],[789,790,791,792],[689,690,691,692],[665,666,667,668],[825,826,827,828],[661,662,663,664],[849,850,851,852],[777,778,779,780],[797,798,799,800],[649,650,651,652],[689,690,691,692],[841,842,843,844],[653,654,655,656],[641,642,643,644],[649,650,651,652],[717,718,719,720],[669,670,671,672],[617,618,619,620],[693,694,695,696],[657,658,659,660],[657,658,659,660],[805,806,807,808],[769,770,771,772],[617,618,619,620],[725,726,727,728],[789,790,791,792],[625,626,627,628],[701,702,703,704],[801,802,803,804],[653,654,655,656],[681,682,683,684],[893,894,895,896],[701,702,703,704],[641,642,643,644],[729,730,731,732],[845,846,847,848],[909,910,911,912],[729,730,731,732],[725,726,727,728],[697,698,699,700],[641,642,643,644],[757,758,759,760],[669,670,671,672],[677,678,679,680],[633,634,635,636],[769,770,771,772],[825,826,827,828],[697,698,699,700],[817,818,819,820],[733,734,735,736],[713,714,715,716],[833,834,835,836],[669,670,671,672],[637,638,639,640],[777,778,779,780],[669,670,671,672],[701,702,703,704],[817,818,819,820],[837,838,839,840],[617,618,619,620],[889,890,891,892],[649,650,651,652],[645,646,647,648],[641,642,643,644],[717,718,719,720],[717,718,719,720],[721,722,723,724],[765,766,767,768],[729,730,731,732],[809,810,811,812],[757,758,759,760],[721,722,723,724],[749,750,751,752],[673,674,675,676],[665,666,667,668],[785,786,787,788],[721,722,723,724],[713,714,715,716],[929,930,931,932],[665,666,667,668],[709,710,711,712],[641,642,643,644],[617,618,619,620],[717,718,719,720],[673,674,675,676],[857,858,859,860],[669,670,671,672],[809,810,811,812],[697,698,699,700],[733,734,735,736],[625,626,627,628],[621,622,623,624],[753,754,755,756],[673,674,675,676],[937,938,939,940],[725,726,727,728],[641,642,643,644],[861,862,863,864],[849,850,851,852],[825,826,827,828],[709,710,711,712],[697,698,699,700],[629,630,631,632],[773,774,775,776],[797,798,799,800],[757,758,759,760],[753,754,755,756],[709,710,711,712],[761,762,763,764],[625,626,627,628],[773,774,775,776],[693,694,695,696],[657,658,659,660],[777,778,779,780],[737,738,739,740],[745,746,747,748],[705,706,707,708],[741,742,743,744],[821,822,823,824],[653,654,655,656],[761,762,763,764],[621,622,623,624],[773,774,775,776],[761,762,763,764],[745,746,747,748],[685,686,687,688],[861,862,863,864],[677,678,679,680],[801,802,803,804],[745,746,747,748],[725,726,727,728],[753,754,755,756],[641,642,643,644],[689,690,691,692],[733,734,735,736],[909,910,911,912],[733,734,735,736],[729,730,731,732],[721,722,723,724],[821,822,823,824],[617,618,619,620],[733,734,735,736],[629,630,631,632],[837,838,839,840],[869,870,871,872],[701,702,703,704],[637,638,639,640],[733,734,735,736],[617,618,619,620],[781,782,783,784],[681,682,683,684],[681,682,683,684],[693,694,695,696],[833,834,835,836],[649,650,651,652],[705,706,707,708],[781,782,783,784],[661,662,663,664],[665,666,667,668],[645,646,647,648],[753,754,755,756],[713,714,715,716],[633,634,635,636],[621,622,623,624],[713,714,715,716],[737,738,739,740],[733,734,735,736],[709,710,711,712],[805,806,807,808],[661,662,663,664],[777,778,779,780],[657,658,659,660],[693,694,695,696],[837,838,839,840],[705,706,707,708],[653,654,655,656],[817,818,819,820],[809,810,811,812],[797,798,799,800],[801,802,803,804],[721,722,723,724],[633,634,635,636],[633,634,635,636],[873,874,875,876],[701,702,703,704],[701,702,703,704],[669,670,671,672],[841,842,843,844],[809,810,811,812],[681,682,683,684],[697,698,699,700],[845,846,847,848],[681,682,683,684],[677,678,679,680],[781,782,783,784],[697,698,699,700],[677,678,679,680],[749,750,751,752],[689,690,691,692],[717,718,719,720],[641,642,643,644],[693,694,695,696],[717,718,719,720],[637,638,639,640],[617,618,619,620],[649,650,651,652],[741,742,743,744],[913,914,915,916],[777,778,779,780],[789,790,791,792],[681,682,683,684],[685,686,687,688],[729,730,731,732],[749,750,751,752],[901,902,903,904],[645,646,647,648],[797,798,799,800],[821,822,823,824],[785,786,787,788],[637,638,639,640],[925,926,927,928],[885,886,887,888],[641,642,643,644],[661,662,663,664],[649,650,651,652],[725,726,727,728],[733,734,735,736],[801,802,803,804],[781,782,783,784],[729,730,731,732],[633,634,635,636],[653,654,655,656],[709,710,711,712],[677,678,679,680],[741,742,743,744],[769,770,771,772],[689,690,691,692],[701,702,703,704],[633,634,635,636],[725,726,727,728],[805,806,807,808],[645,646,647,648],[737,738,739,740],[745,746,747,748],[685,686,687,688],[833,834,835,836],[641,642,643,644],[717,718,719,720],[713,714,715,716],[761,762,763,764],[637,638,639,640],[705,706,707,708],[697,698,699,700],[849,850,851,852],[873,874,875,876],[701,702,703,704],[753,754,755,756],[689,690,691,692],[637,638,639,640],[681,682,683,684],[785,786,787,788],[677,678,679,680],[741,742,743,744],[905,906,907,908],[705,706,707,708],[677,678,679,680],[661,662,663,664],[745,746,747,748],[765,766,767,768],[849,850,851,852],[709,710,711,712],[629,630,631,632],[737,738,739,740],[625,626,627,628],[633,634,635,636],[769,770,771,772],[633,634,635,636],[777,778,779,780],[729,730,731,732],[833,834,835,836],[885,886,887,888],[649,650,651,652],[669,670,671,672],[637,638,639,640],[753,754,755,756],[705,706,707,708],[621,622,623,624],[637,638,639,640],[697,698,699,700],[689,690,691,692],[805,806,807,808],[765,766,767,768],[621,622,623,624],[677,678,679,680],[633,634,635,636],[913,914,915,916],[713,714,715,716],[749,750,751,752],[669,670,671,672],[673,674,675,676],[673,674,675,676],[745,746,747,748],[633,634,635,636],[825,826,827,828],[749,750,751,752],[669,670,671,672],[645,646,647,648],[785,786,787,788],[801,802,803,804],[785,786,787,788],[416,578,593],[171],[95,109,280],[123,199,279],[32,211,389],[155,297,455,557],[113,360,511,601],[25,138,251,403],[124,163,526],[397],[216,366,613],[246,330,594],[105,324,488],[262],[77,213,545],[447,482,583],[170,181,530,599],[42,428,449,531],[91,168,304,512],[287,312,368,409],[130,178,237,296],[187,309,333,398],[196,247,440,470],[70,144,166,543],[518],[59],[432],[551],[98,119,310],[548],[110,281,445],[17,63,580],[347,362,407],[349,370,537,539],[323,529],[10,29,489,507],[226,250,464],[93],[120,173,476],[114,153,326],[22,319,502],[259],[426,443,559],[184,206,533],[301,538,589,609],[84,351,395,605],[28,43,79,469],[336,354,393,581],[35,125,131,252],[27,167,179,369],[418,453,466,540],[147,500,508,565],[2,104,253,260],[45,339,461,606],[58,230,267,562],[174,452,573,588],[359,472,577],[133,256,289,387],[71,152,423,474],[55,300,612],[136,468,517,596],[243,295,457,603],[386,496,555,564],[100,151,264,265],[116,205,308,509],[15,139,516],[233,241,585],[158,269,341,506],[],[],[],[],[48,227,554,568],[176,388,390],[75,340,350,510],[371,434,439,590],[36,238,381],[140,373,465],[479],[30,169,487],[80,117,197,236],[141,177,249,327],[11,31,60],[13,50,156,331],[40,41,57,541],[231,424,493,595],[49,220],[78,186,408,462],[85,189,232,520],[121,129,225,334],[183,208,248],[219,291,315,492],[316,377,563],[165,321,391,438],[591],[64,399,400],[198,325,600],[51,344,503],[384],[132,519,572],[37,200,317,586],[52,458,505,552],[69,128,272,499],[413],[82,459],[378],[383],[150,522],[94,159,254,427],[97,356,415],[135,448,497,513],[89,266,346,396],[471,566,608],[7,18],[375],[274,357,574],[99,437,478],[454],[38,419,525],[8,175,255],[12,283,607],[201,348],[203,380,394,411],[164,221,376],[224,420,604],[276,363,477,546],[53,544],[345,491,515,611],[374,536],[210,332,598],[268],[191,444,575],[65,417,592],[73,103,481],[92,558],[56,263,569,571],[207,285,320,329],[229,582],[108,228,553],[372,414],[498],[9,204,342],[188,298,306],[5,235,303],[242,299,402,584],[118,382,535],[261,286,361],[463,532,567],[182,311,436],[145],[66],[19,87,550],[212,467],[62],[234],[102,412],[355,379],[292,504,528],[364,523],[245,485],[222],[101],[494],[318],[270,271,430],[107,137,475],[215,547,556],[67],[54,441,597],[616],[195,288,302],[328,473],[257,337,431],[86,258],[422,610],[157],[126,490],[81,561],[],[],[148,549],[23,534,579],[160,421],[46,96,410],[433,483],[44,83,146],[90,484],[190,495],[112,456],[6],[185,614],[142],[521],[277],[194,335],[16,122],[273],[305],[180],[392],[446],[209,275],[524,615],[4,486],[290],[],[],[],[134,560],[34,76],[193,294],[47,111],[307,314],[244],[72,450,501],[172],[405],[3,240,542],[217,322,576],[202,313,352],[68,514],[278],[451,602],[149],[],[],[],[],[338],[127],[161],[],[21,39,460],[284,358],[406],[106],[33],[353],[],[],[],[],[],[],[154,425],[435],[],[],[239],[],[],[],[20],[24,162,293,480],[88,143,587],[365],[],[],[],[],[401],[],[],[],[],[],[],[],[192,282,367],[214],[429],[115,218],[527],[],[],[],[343],[],[],[],[],[],[],[],[570],[223],[404],[],[442],[],[],[],[26,385],[],[],[],[61,74],[],[],[],[],[],[],[],[14],[],[],[],[],[],[],[],[],[],[],[],[],[],[],[],[],[],[],[]],\"text\":[\"GridWorldState(4, 1, false)\\nN:   1843\\n\",\"GridWorldState(5, 3, false)\\nN:    126\\n\",\"GridWorldState(3, 6, false)\\nN:     11\\n\",\"GridWorldState(9, 6, false)\\nN:      1\\n\",\"GridWorldState(4, 5, false)\\nN:      7\\n\",\"GridWorldState(10, 1, false)\\nN:     79\\n\",\"GridWorldState(1, 3, false)\\nN:    188\\n\",\"GridWorldState(8, 2, false)\\nN:    551\\n\",\"GridWorldState(4, 5, false)\\nN:      7\\n\",\"GridWorldState(6, 3, false)\\nN:    219\\n\",\"GridWorldState(7, 3, false)\\nN:    452\\n\",\"GridWorldState(6, 6, false)\\nN:     11\\n\",\"GridWorldState(7, 3, false)\\nN:    452\\n\",\"GridWorldState(10, 7, false)\\nN:      0\\n\",\"GridWorldState(3, 4, false)\\nN:     53\\n\",\"GridWorldState(7, 6, false)\\nN:     14\\n\",\"GridWorldState(1, 1, false)\\nN:    325\\n\",\"GridWorldState(1, 5, false)\\nN:     69\\n\",\"GridWorldState(2, 6, false)\\nN:     18\\n\",\"GridWorldState(9, 5, false)\\nN:     13\\n\",\"GridWorldState(4, 6, false)\\nN:      8\\n\",\"GridWorldState(8, 1, false)\\nN:    450\\n\",\"GridWorldState(7, 4, false)\\nN:    104\\n\",\"GridWorldState(8, 4, false)\\nN:     97\\n\",\"GridWorldState(4, 1, false)\\nN:   1843\\n\",\"GridWorldState(6, 8, false)\\nN:      2\\n\",\"GridWorldState(1, 2, false)\\nN:    224\\n\",\"GridWorldState(6, 3, false)\\nN:    219\\n\",\"GridWorldState(5, 4, false)\\nN:     45\\n\",\"GridWorldState(2, 2, false)\\nN:    305\\n\",\"GridWorldState(7, 1, false)\\nN:    630\\n\",\"GridWorldState(5, 2, false)\\nN:    546\\n\",\"GridWorldState(2, 8, false)\\nN:      1\\n\",\"GridWorldState(2, 5, false)\\nN:     36\\n\",\"GridWorldState(2, 1, false)\\nN:    448\\n\",\"GridWorldState(1, 3, false)\\nN:    188\\n\",\"GridWorldState(4, 4, false)\\nN:     26\\n\",\"GridWorldState(8, 2, false)\\nN:    551\\n\",\"GridWorldState(3, 7, false)\\nN:      0\\n\",\"GridWorldState(7, 4, false)\\nN:    104\\n\",\"GridWorldState(7, 2, false)\\nN:    667\\n\",\"GridWorldState(6, 2, false)\\nN:    653\\n\",\"GridWorldState(6, 1, false)\\nN:    839\\n\",\"GridWorldState(7, 5, false)\\nN:     34\\n\",\"GridWorldState(6, 2, false)\\nN:    653\\n\",\"GridWorldState(7, 4, false)\\nN:    104\\n\",\"GridWorldState(1, 6, false)\\nN:     28\\n\",\"GridWorldState(3, 2, false)\\nN:    319\\n\",\"GridWorldState(6, 3, false)\\nN:    219\\n\",\"GridWorldState(6, 2, false)\\nN:    653\\n\",\"GridWorldState(1, 2, false)\\nN:    224\\n\",\"GridWorldState(4, 4, false)\\nN:     26\\n\",\"GridWorldState(8, 2, false)\\nN:    551\\n\",\"GridWorldState(9, 2, false)\\nN:    391\\n\",\"GridWorldState(6, 5, false)\\nN:     21\\n\",\"GridWorldState(8, 5, false)\\nN:     23\\n\",\"GridWorldState(6, 3, false)\\nN:    219\\n\",\"GridWorldState(5, 3, false)\\nN:    126\\n\",\"GridWorldState(4, 3, true)\\nN:      0\\n\",\"GridWorldState(6, 2, false)\\nN:    653\\n\",\"GridWorldState(10, 6, false)\\nN:      1\\n\",\"GridWorldState(4, 6, false)\\nN:      8\\n\",\"GridWorldState(2, 2, false)\\nN:    305\\n\",\"GridWorldState(5, 3, false)\\nN:    126\\n\",\"GridWorldState(9, 4, false)\\nN:     37\\n\",\"GridWorldState(1, 6, false)\\nN:     28\\n\",\"GridWorldState(10, 2, false)\\nN:     87\\n\",\"GridWorldState(10, 3, false)\\nN:     34\\n\",\"GridWorldState(3, 5, false)\\nN:     22\\n\",\"GridWorldState(3, 1, false)\\nN:    801\\n\",\"GridWorldState(6, 3, false)\\nN:    219\\n\",\"GridWorldState(9, 3, false)\\nN:    498\\n\",\"GridWorldState(8, 5, false)\\nN:     23\\n\",\"GridWorldState(10, 4, false)\\nN:     25\\n\",\"GridWorldState(3, 4, false)\\nN:     53\\n\",\"GridWorldState(2, 7, false)\\nN:      3\\n\",\"GridWorldState(4, 1, false)\\nN:   1843\\n\",\"GridWorldState(8, 3, false)\\nN:    381\\n\",\"GridWorldState(7, 2, false)\\nN:    667\\n\",\"GridWorldState(7, 1, false)\\nN:    630\\n\",\"GridWorldState(1, 6, false)\\nN:     28\\n\",\"GridWorldState(2, 1, false)\\nN:    448\\n\",\"GridWorldState(8, 6, false)\\nN:      9\\n\",\"GridWorldState(6, 1, false)\\nN:    839\\n\",\"GridWorldState(7, 3, false)\\nN:    452\\n\",\"GridWorldState(2, 4, false)\\nN:     80\\n\",\"GridWorldState(1, 7, false)\\nN:      4\\n\",\"GridWorldState(8, 4, false)\\nN:     97\\n\",\"GridWorldState(9, 2, false)\\nN:    391\\n\",\"GridWorldState(7, 7, false)\\nN:      3\\n\",\"GridWorldState(4, 2, false)\\nN:    499\\n\",\"GridWorldState(9, 4, false)\\nN:     37\\n\",\"GridWorldState(6, 1, false)\\nN:    839\\n\",\"GridWorldState(8, 1, false)\\nN:    450\\n\",\"GridWorldState(3, 1, false)\\nN:    801\\n\",\"GridWorldState(6, 5, false)\\nN:     21\\n\",\"GridWorldState(7, 2, false)\\nN:    667\\n\",\"GridWorldState(3, 1, false)\\nN:    801\\n\",\"GridWorldState(9, 1, false)\\nN:    182\\n\",\"GridWorldState(3, 3, false)\\nN:    109\\n\",\"GridWorldState(9, 3, true)\\nN:      0\\n\",\"GridWorldState(4, 6, false)\\nN:      8\\n\",\"GridWorldState(8, 3, false)\\nN:    381\\n\",\"GridWorldState(6, 2, false)\\nN:    653\\n\",\"GridWorldState(6, 1, false)\\nN:    839\\n\",\"GridWorldState(4, 6, false)\\nN:      8\\n\",\"GridWorldState(9, 2, false)\\nN:    391\\n\",\"GridWorldState(4, 5, false)\\nN:      7\\n\",\"GridWorldState(5, 1, false)\\nN:   1067\\n\",\"GridWorldState(3, 1, false)\\nN:    801\\n\",\"GridWorldState(3, 6, false)\\nN:     11\\n\",\"GridWorldState(9, 1, false)\\nN:    182\\n\",\"GridWorldState(4, 3, false)\\nN:     87\\n\",\"GridWorldState(6, 2, false)\\nN:    653\\n\",\"GridWorldState(8, 5, false)\\nN:     23\\n\",\"GridWorldState(2, 3, false)\\nN:    160\\n\",\"GridWorldState(6, 2, false)\\nN:    653\\n\",\"GridWorldState(9, 3, false)\\nN:    498\\n\",\"GridWorldState(1, 1, false)\\nN:    325\\n\",\"GridWorldState(7, 1, false)\\nN:    630\\n\",\"GridWorldState(7, 5, false)\\nN:     34\\n\",\"GridWorldState(6, 7, false)\\nN:      4\\n\",\"GridWorldState(4, 2, false)\\nN:    499\\n\",\"GridWorldState(4, 1, false)\\nN:   1843\\n\",\"GridWorldState(3, 2, false)\\nN:    319\\n\",\"GridWorldState(2, 7, false)\\nN:      3\\n\",\"GridWorldState(5, 5, false)\\nN:     14\\n\",\"GridWorldState(3, 3, false)\\nN:    109\\n\",\"GridWorldState(8, 4, false)\\nN:     97\\n\",\"GridWorldState(3, 1, false)\\nN:    801\\n\",\"GridWorldState(2, 3, false)\\nN:    160\\n\",\"GridWorldState(1, 2, false)\\nN:    224\\n\",\"GridWorldState(7, 4, false)\\nN:    104\\n\",\"GridWorldState(2, 7, false)\\nN:      3\\n\",\"GridWorldState(9, 2, false)\\nN:    391\\n\",\"GridWorldState(2, 2, false)\\nN:    305\\n\",\"GridWorldState(10, 3, false)\\nN:     34\\n\",\"GridWorldState(5, 2, false)\\nN:    546\\n\",\"GridWorldState(2, 3, false)\\nN:    160\\n\",\"GridWorldState(1, 3, false)\\nN:    188\\n\",\"GridWorldState(6, 2, false)\\nN:    653\\n\",\"GridWorldState(10, 1, false)\\nN:     79\\n\",\"GridWorldState(10, 4, false)\\nN:     25\\n\",\"GridWorldState(2, 2, false)\\nN:    305\\n\",\"GridWorldState(1, 5, false)\\nN:     69\\n\",\"GridWorldState(7, 7, false)\\nN:      3\\n\",\"GridWorldState(2, 1, false)\\nN:    448\\n\",\"GridWorldState(7, 6, false)\\nN:     14\\n\",\"GridWorldState(10, 4, false)\\nN:     25\\n\",\"GridWorldState(1, 2, false)\\nN:    224\\n\",\"GridWorldState(2, 2, false)\\nN:    305\\n\",\"GridWorldState(6, 5, false)\\nN:     21\\n\",\"GridWorldState(5, 1, false)\\nN:   1067\\n\",\"GridWorldState(7, 8, false)\\nN:      0\\n\",\"GridWorldState(5, 2, false)\\nN:    546\\n\",\"GridWorldState(7, 1, false)\\nN:    630\\n\",\"GridWorldState(3, 5, false)\\nN:     22\\n\",\"GridWorldState(2, 3, false)\\nN:    160\\n\",\"GridWorldState(8, 3, false)\\nN:    381\\n\",\"GridWorldState(7, 4, false)\\nN:    104\\n\",\"GridWorldState(4, 6, false)\\nN:      8\\n\",\"GridWorldState(9, 5, false)\\nN:     13\\n\",\"GridWorldState(2, 1, false)\\nN:    448\\n\",\"GridWorldState(7, 5, false)\\nN:     34\\n\",\"GridWorldState(5, 5, false)\\nN:     14\\n\",\"GridWorldState(4, 2, false)\\nN:    499\\n\",\"GridWorldState(2, 3, false)\\nN:    160\\n\",\"GridWorldState(6, 2, false)\\nN:    653\\n\",\"GridWorldState(1, 3, false)\\nN:    188\\n\",\"GridWorldState(5, 1, false)\\nN:   1067\\n\",\"GridWorldState(4, 1, false)\\nN:   1843\\n\",\"GridWorldState(10, 3, false)\\nN:     34\\n\",\"GridWorldState(5, 1, false)\\nN:   1067\\n\",\"GridWorldState(6, 4, false)\\nN:     69\\n\",\"GridWorldState(9, 1, false)\\nN:    182\\n\",\"GridWorldState(3, 2, false)\\nN:    319\\n\",\"GridWorldState(7, 3, false)\\nN:    452\\n\",\"GridWorldState(4, 2, false)\\nN:    499\\n\",\"GridWorldState(3, 2, false)\\nN:    319\\n\",\"GridWorldState(4, 6, true)\\nN:      0\\n\",\"GridWorldState(5, 3, false)\\nN:    126\\n\",\"GridWorldState(1, 7, false)\\nN:      4\\n\",\"GridWorldState(7, 5, false)\\nN:     34\\n\",\"GridWorldState(6, 1, false)\\nN:    839\\n\",\"GridWorldState(10, 2, false)\\nN:     87\\n\",\"GridWorldState(6, 3, false)\\nN:    219\\n\",\"GridWorldState(2, 2, false)\\nN:    305\\n\",\"GridWorldState(5, 6, false)\\nN:      4\\n\",\"GridWorldState(6, 4, false)\\nN:     69\\n\",\"GridWorldState(8, 6, false)\\nN:      9\\n\",\"GridWorldState(2, 5, false)\\nN:     36\\n\",\"GridWorldState(9, 4, false)\\nN:     37\\n\",\"GridWorldState(2, 5, false)\\nN:     36\\n\",\"GridWorldState(6, 7, false)\\nN:      4\\n\",\"GridWorldState(10, 1, false)\\nN:     79\\n\",\"GridWorldState(2, 2, false)\\nN:    305\\n\",\"GridWorldState(7, 3, false)\\nN:    452\\n\",\"GridWorldState(1, 4, false)\\nN:    110\\n\",\"GridWorldState(3, 1, false)\\nN:    801\\n\",\"GridWorldState(2, 4, false)\\nN:     80\\n\",\"GridWorldState(6, 4, false)\\nN:     69\\n\",\"GridWorldState(2, 5, false)\\nN:     36\\n\",\"GridWorldState(5, 5, false)\\nN:     14\\n\",\"GridWorldState(5, 4, false)\\nN:     45\\n\",\"GridWorldState(1, 4, false)\\nN:    110\\n\",\"GridWorldState(7, 2, false)\\nN:    667\\n\",\"GridWorldState(5, 4, false)\\nN:     45\\n\",\"GridWorldState(6, 4, false)\\nN:     69\\n\",\"GridWorldState(7, 6, false)\\nN:     14\\n\",\"GridWorldState(1, 4, false)\\nN:    110\\n\",\"GridWorldState(4, 3, false)\\nN:     87\\n\",\"GridWorldState(4, 6, false)\\nN:      8\\n\",\"GridWorldState(6, 1, false)\\nN:    839\\n\",\"GridWorldState(9, 4, false)\\nN:     37\\n\",\"GridWorldState(10, 3, false)\\nN:     34\\n\",\"GridWorldState(3, 2, false)\\nN:    319\\n\",\"GridWorldState(2, 5, false)\\nN:     36\\n\",\"GridWorldState(10, 5, false)\\nN:      3\\n\",\"GridWorldState(8, 4, false)\\nN:     97\\n\",\"GridWorldState(7, 4, false)\\nN:    104\\n\",\"GridWorldState(5, 5, false)\\nN:     14\\n\",\"GridWorldState(9, 3, true)\\nN:      0\\n\",\"GridWorldState(6, 6, false)\\nN:     11\\n\",\"GridWorldState(8, 2, false)\\nN:    551\\n\",\"GridWorldState(6, 4, false)\\nN:     69\\n\",\"GridWorldState(5, 1, false)\\nN:   1067\\n\",\"GridWorldState(4, 3, false)\\nN:     87\\n\",\"GridWorldState(3, 4, false)\\nN:     53\\n\",\"GridWorldState(4, 3, false)\\nN:     87\\n\",\"GridWorldState(6, 4, false)\\nN:     69\\n\",\"GridWorldState(7, 4, false)\\nN:    104\\n\",\"GridWorldState(7, 5, false)\\nN:     34\\n\",\"GridWorldState(3, 4, false)\\nN:     53\\n\",\"GridWorldState(4, 6, false)\\nN:      8\\n\",\"GridWorldState(6, 5, false)\\nN:     21\\n\",\"GridWorldState(8, 2, false)\\nN:    551\\n\",\"GridWorldState(3, 3, false)\\nN:    109\\n\",\"GridWorldState(1, 1, false)\\nN:    325\\n\",\"GridWorldState(2, 9, false)\\nN:      0\\n\",\"GridWorldState(3, 4, false)\\nN:     53\\n\",\"GridWorldState(2, 3, false)\\nN:    160\\n\",\"GridWorldState(9, 1, false)\\nN:    182\\n\",\"GridWorldState(3, 3, false)\\nN:    109\\n\",\"GridWorldState(10, 2, false)\\nN:     87\\n\",\"GridWorldState(9, 5, false)\\nN:     13\\n\",\"GridWorldState(2, 1, false)\\nN:    448\\n\",\"GridWorldState(3, 1, false)\\nN:    801\\n\",\"GridWorldState(8, 4, false)\\nN:     97\\n\",\"GridWorldState(8, 2, false)\\nN:    551\\n\",\"GridWorldState(7, 1, false)\\nN:    630\\n\",\"GridWorldState(3, 2, false)\\nN:    319\\n\",\"GridWorldState(1, 2, false)\\nN:    224\\n\",\"GridWorldState(6, 4, false)\\nN:     69\\n\",\"GridWorldState(7, 2, false)\\nN:    667\\n\",\"GridWorldState(7, 1, false)\\nN:    630\\n\",\"GridWorldState(6, 5, false)\\nN:     21\\n\",\"GridWorldState(2, 6, false)\\nN:     18\\n\",\"GridWorldState(2, 6, false)\\nN:     18\\n\",\"GridWorldState(7, 1, false)\\nN:    630\\n\",\"GridWorldState(7, 3, false)\\nN:    452\\n\",\"GridWorldState(8, 2, false)\\nN:    551\\n\",\"GridWorldState(5, 1, false)\\nN:   1067\\n\",\"GridWorldState(9, 4, false)\\nN:     37\\n\",\"GridWorldState(2, 4, false)\\nN:     80\\n\",\"GridWorldState(1, 3, false)\\nN:    188\\n\",\"GridWorldState(8, 3, false)\\nN:    381\\n\",\"GridWorldState(6, 2, false)\\nN:    653\\n\",\"GridWorldState(1, 5, false)\\nN:     69\\n\",\"GridWorldState(2, 5, false)\\nN:     36\\n\",\"GridWorldState(10, 1, false)\\nN:     79\\n\",\"GridWorldState(10, 3, false)\\nN:     34\\n\",\"GridWorldState(4, 4, false)\\nN:     26\\n\",\"GridWorldState(4, 6, true)\\nN:      0\\n\",\"GridWorldState(2, 4, false)\\nN:     80\\n\",\"GridWorldState(8, 5, false)\\nN:     23\\n\",\"GridWorldState(8, 4, false)\\nN:     97\\n\",\"GridWorldState(6, 5, false)\\nN:     21\\n\",\"GridWorldState(10, 3, false)\\nN:     34\\n\",\"GridWorldState(5, 1, false)\\nN:   1067\\n\",\"GridWorldState(4, 2, false)\\nN:    499\\n\",\"GridWorldState(2, 2, false)\\nN:    305\\n\",\"GridWorldState(8, 5, false)\\nN:     23\\n\",\"GridWorldState(5, 5, false)\\nN:     14\\n\",\"GridWorldState(4, 6, false)\\nN:      8\\n\",\"GridWorldState(3, 4, false)\\nN:     53\\n\",\"GridWorldState(9, 1, false)\\nN:    182\\n\",\"GridWorldState(4, 2, false)\\nN:    499\\n\",\"GridWorldState(8, 1, false)\\nN:    450\\n\",\"GridWorldState(6, 3, false)\\nN:    219\\n\",\"GridWorldState(8, 8, false)\\nN:      1\\n\",\"GridWorldState(6, 4, false)\\nN:     69\\n\",\"GridWorldState(7, 5, false)\\nN:     34\\n\",\"GridWorldState(9, 3, false)\\nN:    498\\n\",\"GridWorldState(1, 6, false)\\nN:     28\\n\",\"GridWorldState(2, 2, false)\\nN:    305\\n\",\"GridWorldState(2, 2, false)\\nN:    305\\n\",\"GridWorldState(4, 3, false)\\nN:     87\\n\",\"GridWorldState(4, 5, false)\\nN:      7\\n\",\"GridWorldState(10, 2, false)\\nN:     87\\n\",\"GridWorldState(7, 4, false)\\nN:    104\\n\",\"GridWorldState(7, 2, false)\\nN:    667\\n\",\"GridWorldState(9, 2, false)\\nN:    391\\n\",\"GridWorldState(5, 6, false)\\nN:      4\\n\",\"GridWorldState(5, 1, false)\\nN:   1067\\n\",\"GridWorldState(4, 6, true)\\nN:      0\\n\",\"GridWorldState(5, 4, false)\\nN:     45\\n\",\"GridWorldState(10, 4, false)\\nN:     25\\n\",\"GridWorldState(2, 5, false)\\nN:     36\\n\",\"GridWorldState(3, 3, false)\\nN:    109\\n\",\"GridWorldState(2, 2, false)\\nN:    305\\n\",\"GridWorldState(2, 6, false)\\nN:     18\\n\",\"GridWorldState(6, 2, false)\\nN:    653\\n\",\"GridWorldState(3, 6, false)\\nN:     11\\n\",\"GridWorldState(9, 3, false)\\nN:    498\\n\",\"GridWorldState(7, 5, false)\\nN:     34\\n\",\"GridWorldState(5, 3, false)\\nN:    126\\n\",\"GridWorldState(3, 3, false)\\nN:    109\\n\",\"GridWorldState(9, 3, true)\\nN:      0\\n\",\"GridWorldState(6, 1, false)\\nN:    839\\n\",\"GridWorldState(4, 3, false)\\nN:     87\\n\",\"GridWorldState(5, 3, false)\\nN:    126\\n\",\"GridWorldState(3, 4, false)\\nN:     53\\n\",\"GridWorldState(6, 3, false)\\nN:    219\\n\",\"GridWorldState(4, 1, false)\\nN:   1843\\n\",\"GridWorldState(1, 2, false)\\nN:    224\\n\",\"GridWorldState(7, 1, false)\\nN:    630\\n\",\"GridWorldState(7, 1, false)\\nN:    630\\n\",\"GridWorldState(10, 1, false)\\nN:     79\\n\",\"GridWorldState(4, 5, false)\\nN:      7\\n\",\"GridWorldState(4, 1, false)\\nN:   1843\\n\",\"GridWorldState(8, 2, false)\\nN:    551\\n\",\"GridWorldState(2, 5, false)\\nN:     36\\n\",\"GridWorldState(3, 1, false)\\nN:    801\\n\",\"GridWorldState(7, 3, false)\\nN:    452\\n\",\"GridWorldState(7, 6, false)\\nN:     14\\n\",\"GridWorldState(6, 1, false)\\nN:    839\\n\",\"GridWorldState(2, 4, false)\\nN:     80\\n\",\"GridWorldState(5, 7, false)\\nN:      1\\n\",\"GridWorldState(7, 3, false)\\nN:    452\\n\",\"GridWorldState(4, 3, false)\\nN:     87\\n\",\"GridWorldState(1, 4, false)\\nN:    110\\n\",\"GridWorldState(5, 6, false)\\nN:      4\\n\",\"GridWorldState(5, 8, false)\\nN:      2\\n\",\"GridWorldState(1, 4, false)\\nN:    110\\n\",\"GridWorldState(8, 2, false)\\nN:    551\\n\",\"GridWorldState(7, 2, false)\\nN:    667\\n\",\"GridWorldState(4, 3, false)\\nN:     87\\n\",\"GridWorldState(5, 5, false)\\nN:     14\\n\",\"GridWorldState(6, 3, false)\\nN:    219\\n\",\"GridWorldState(2, 3, false)\\nN:    160\\n\",\"GridWorldState(5, 2, false)\\nN:    546\\n\",\"GridWorldState(4, 5, false)\\nN:      7\\n\",\"GridWorldState(2, 6, false)\\nN:     18\\n\",\"GridWorldState(7, 2, false)\\nN:    667\\n\",\"GridWorldState(8, 6, false)\\nN:      9\\n\",\"GridWorldState(8, 1, false)\\nN:    450\\n\",\"GridWorldState(1, 3, false)\\nN:    188\\n\",\"GridWorldState(3, 5, false)\\nN:     22\\n\",\"GridWorldState(6, 3, false)\\nN:    219\\n\",\"GridWorldState(3, 2, false)\\nN:    319\\n\",\"GridWorldState(9, 3, false)\\nN:    498\\n\",\"GridWorldState(6, 3, false)\\nN:    219\\n\",\"GridWorldState(7, 3, false)\\nN:    452\\n\",\"GridWorldState(8, 6, false)\\nN:      9\\n\",\"GridWorldState(10, 4, false)\\nN:     25\\n\",\"GridWorldState(4, 1, false)\\nN:   1843\\n\",\"GridWorldState(9, 6, false)\\nN:      1\\n\",\"GridWorldState(5, 3, false)\\nN:    126\\n\",\"GridWorldState(2, 1, false)\\nN:    448\\n\",\"GridWorldState(4, 3, false)\\nN:     87\\n\",\"GridWorldState(3, 4, false)\\nN:     53\\n\",\"GridWorldState(3, 4, false)\\nN:     53\\n\",\"GridWorldState(1, 1, false)\\nN:    325\\n\",\"GridWorldState(1, 6, false)\\nN:     28\\n\",\"GridWorldState(1, 4, false)\\nN:    110\\n\",\"GridWorldState(6, 6, false)\\nN:     11\\n\",\"GridWorldState(5, 5, false)\\nN:     14\\n\",\"GridWorldState(1, 1, false)\\nN:    325\\n\",\"GridWorldState(8, 4, false)\\nN:     97\\n\",\"GridWorldState(6, 4, false)\\nN:     69\\n\",\"GridWorldState(2, 2, false)\\nN:    305\\n\",\"GridWorldState(9, 1, false)\\nN:    182\\n\",\"GridWorldState(1, 1, false)\\nN:    325\\n\",\"GridWorldState(1, 3, false)\\nN:    188\\n\",\"GridWorldState(5, 9, false)\\nN:      0\\n\",\"GridWorldState(2, 2, false)\\nN:    305\\n\",\"GridWorldState(5, 4, false)\\nN:     45\\n\",\"GridWorldState(4, 3, false)\\nN:     87\\n\",\"GridWorldState(4, 1, false)\\nN:   1843\\n\",\"GridWorldState(3, 4, false)\\nN:     53\\n\",\"GridWorldState(6, 4, false)\\nN:     69\\n\",\"GridWorldState(4, 6, true)\\nN:      0\\n\",\"GridWorldState(6, 3, false)\\nN:    219\\n\",\"GridWorldState(6, 6, false)\\nN:     11\\n\",\"GridWorldState(7, 2, false)\\nN:    667\\n\",\"GridWorldState(8, 1, false)\\nN:    450\\n\",\"GridWorldState(3, 1, false)\\nN:    801\\n\",\"GridWorldState(4, 2, false)\\nN:    499\\n\",\"GridWorldState(4, 4, false)\\nN:     26\\n\",\"GridWorldState(6, 4, false)\\nN:     69\\n\",\"GridWorldState(8, 8, true)\\nN:      0\\n\",\"GridWorldState(8, 2, false)\\nN:    551\\n\",\"GridWorldState(4, 3, false)\\nN:     87\\n\",\"GridWorldState(7, 7, false)\\nN:      3\\n\",\"GridWorldState(3, 6, false)\\nN:     11\\n\",\"GridWorldState(2, 6, false)\\nN:     18\\n\",\"GridWorldState(5, 4, false)\\nN:     45\\n\",\"GridWorldState(7, 2, false)\\nN:    667\\n\",\"GridWorldState(5, 1, false)\\nN:   1067\\n\",\"GridWorldState(8, 5, false)\\nN:     23\\n\",\"GridWorldState(7, 5, false)\\nN:     34\\n\",\"GridWorldState(5, 5, false)\\nN:     14\\n\",\"GridWorldState(4, 4, false)\\nN:     26\\n\",\"GridWorldState(5, 4, false)\\nN:     45\\n\",\"GridWorldState(9, 2, false)\\nN:    391\\n\",\"GridWorldState(3, 1, false)\\nN:    801\\n\",\"GridWorldState(8, 5, false)\\nN:     23\\n\",\"GridWorldState(1, 2, false)\\nN:    224\\n\",\"GridWorldState(7, 1, false)\\nN:    630\\n\",\"GridWorldState(9, 3, false)\\nN:    498\\n\",\"GridWorldState(6, 5, false)\\nN:     21\\n\",\"GridWorldState(1, 5, false)\\nN:     69\\n\",\"GridWorldState(7, 4, false)\\nN:    104\\n\",\"GridWorldState(8, 3, false)\\nN:    381\\n\",\"GridWorldState(8, 7, false)\\nN:      2\\n\",\"GridWorldState(6, 1, false)\\nN:    839\\n\",\"GridWorldState(9, 2, false)\\nN:    391\\n\",\"GridWorldState(4, 2, false)\\nN:    499\\n\",\"GridWorldState(8, 5, false)\\nN:     23\\n\",\"GridWorldState(9, 2, false)\\nN:    391\\n\",\"GridWorldState(1, 5, false)\\nN:     69\\n\",\"GridWorldState(4, 3, true)\\nN:      0\\n\",\"GridWorldState(7, 7, false)\\nN:      3\\n\",\"GridWorldState(2, 3, false)\\nN:    160\\n\",\"GridWorldState(7, 6, false)\\nN:     14\\n\",\"GridWorldState(1, 5, false)\\nN:     69\\n\",\"GridWorldState(8, 2, false)\\nN:    551\\n\",\"GridWorldState(4, 4, false)\\nN:     26\\n\",\"GridWorldState(4, 3, false)\\nN:     87\\n\",\"GridWorldState(3, 3, false)\\nN:    109\\n\",\"GridWorldState(8, 1, false)\\nN:    450\\n\",\"GridWorldState(5, 8, false)\\nN:      2\\n\",\"GridWorldState(8, 1, false)\\nN:    450\\n\",\"GridWorldState(1, 4, false)\\nN:    110\\n\",\"GridWorldState(1, 1, false)\\nN:    325\\n\",\"GridWorldState(8, 7, false)\\nN:      2\\n\",\"GridWorldState(4, 1, false)\\nN:   1843\\n\",\"GridWorldState(8, 1, false)\\nN:    450\\n\",\"GridWorldState(5, 1, false)\\nN:   1067\\n\",\"GridWorldState(10, 4, false)\\nN:     25\\n\",\"GridWorldState(9, 4, false)\\nN:     37\\n\",\"GridWorldState(7, 3, false)\\nN:    452\\n\",\"GridWorldState(3, 2, false)\\nN:    319\\n\",\"GridWorldState(8, 1, false)\\nN:    450\\n\",\"GridWorldState(4, 1, false)\\nN:   1843\\n\",\"GridWorldState(10, 2, false)\\nN:     87\\n\",\"GridWorldState(2, 4, false)\\nN:     80\\n\",\"GridWorldState(2, 4, false)\\nN:     80\\n\",\"GridWorldState(1, 2, false)\\nN:    224\\n\",\"GridWorldState(3, 5, false)\\nN:     22\\n\",\"GridWorldState(5, 3, false)\\nN:    126\\n\",\"GridWorldState(7, 4, false)\\nN:    104\\n\",\"GridWorldState(10, 2, false)\\nN:     87\\n\",\"GridWorldState(6, 2, false)\\nN:    653\\n\",\"GridWorldState(2, 2, false)\\nN:    305\\n\",\"GridWorldState(2, 1, false)\\nN:    448\\n\",\"GridWorldState(4, 4, false)\\nN:     26\\n\",\"GridWorldState(1, 3, false)\\nN:    188\\n\",\"GridWorldState(5, 2, false)\\nN:    546\\n\",\"GridWorldState(4, 2, false)\\nN:    499\\n\",\"GridWorldState(1, 3, false)\\nN:    188\\n\",\"GridWorldState(6, 5, false)\\nN:     21\\n\",\"GridWorldState(8, 1, false)\\nN:    450\\n\",\"GridWorldState(5, 4, false)\\nN:     45\\n\",\"GridWorldState(10, 1, false)\\nN:     79\\n\",\"GridWorldState(6, 2, false)\\nN:    653\\n\",\"GridWorldState(9, 3, false)\\nN:    498\\n\",\"GridWorldState(7, 1, false)\\nN:    630\\n\",\"GridWorldState(1, 2, false)\\nN:    224\\n\",\"GridWorldState(10, 4, false)\\nN:     25\\n\",\"GridWorldState(7, 4, false)\\nN:    104\\n\",\"GridWorldState(6, 1, false)\\nN:    839\\n\",\"GridWorldState(8, 6, false)\\nN:      9\\n\",\"GridWorldState(6, 6, false)\\nN:     11\\n\",\"GridWorldState(7, 5, false)\\nN:     34\\n\",\"GridWorldState(7, 6, false)\\nN:     14\\n\",\"GridWorldState(1, 1, false)\\nN:    325\\n\",\"GridWorldState(5, 2, false)\\nN:    546\\n\",\"GridWorldState(5, 2, false)\\nN:    546\\n\",\"GridWorldState(1, 8, false)\\nN:      0\\n\",\"GridWorldState(7, 3, false)\\nN:    452\\n\",\"GridWorldState(7, 3, false)\\nN:    452\\n\",\"GridWorldState(6, 3, false)\\nN:    219\\n\",\"GridWorldState(9, 3, true)\\nN:      0\\n\",\"GridWorldState(6, 6, false)\\nN:     11\\n\",\"GridWorldState(2, 4, false)\\nN:     80\\n\",\"GridWorldState(7, 2, false)\\nN:    667\\n\",\"GridWorldState(5, 6, false)\\nN:      4\\n\",\"GridWorldState(2, 4, false)\\nN:     80\\n\",\"GridWorldState(2, 3, false)\\nN:    160\\n\",\"GridWorldState(10, 2, false)\\nN:     87\\n\",\"GridWorldState(7, 2, false)\\nN:    667\\n\",\"GridWorldState(2, 3, false)\\nN:    160\\n\",\"GridWorldState(8, 4, false)\\nN:     97\\n\",\"GridWorldState(3, 3, false)\\nN:    109\\n\",\"GridWorldState(3, 4, false)\\nN:     53\\n\",\"GridWorldState(4, 3, false)\\nN:     87\\n\",\"GridWorldState(1, 2, false)\\nN:    224\\n\",\"GridWorldState(3, 4, false)\\nN:     53\\n\",\"GridWorldState(3, 2, false)\\nN:    319\\n\",\"GridWorldState(4, 1, false)\\nN:   1843\\n\",\"GridWorldState(5, 3, false)\\nN:    126\\n\",\"GridWorldState(8, 3, false)\\nN:    381\\n\",\"GridWorldState(10, 5, false)\\nN:      3\\n\",\"GridWorldState(9, 3, false)\\nN:    498\\n\",\"GridWorldState(2, 5, false)\\nN:     36\\n\",\"GridWorldState(2, 4, false)\\nN:     80\\n\",\"GridWorldState(4, 3, true)\\nN:      0\\n\",\"GridWorldState(1, 4, false)\\nN:    110\\n\",\"GridWorldState(8, 4, false)\\nN:     97\\n\",\"GridWorldState(6, 7, false)\\nN:      4\\n\",\"GridWorldState(2, 1, false)\\nN:    448\\n\",\"GridWorldState(7, 5, false)\\nN:     34\\n\",\"GridWorldState(8, 7, false)\\nN:      2\\n\",\"GridWorldState(9, 1, false)\\nN:    182\\n\",\"GridWorldState(3, 2, false)\\nN:    319\\n\",\"GridWorldState(9, 7, false)\\nN:      0\\n\",\"GridWorldState(9, 5, false)\\nN:     13\\n\",\"GridWorldState(4, 3, false)\\nN:     87\\n\",\"GridWorldState(6, 2, false)\\nN:    653\\n\",\"GridWorldState(5, 3, false)\\nN:    126\\n\",\"GridWorldState(8, 2, false)\\nN:    551\\n\",\"GridWorldState(8, 1, false)\\nN:    450\\n\",\"GridWorldState(7, 6, false)\\nN:     14\\n\",\"GridWorldState(10, 2, false)\\nN:     87\\n\",\"GridWorldState(1, 4, false)\\nN:    110\\n\",\"GridWorldState(5, 2, false)\\nN:    546\\n\",\"GridWorldState(6, 1, false)\\nN:    839\\n\",\"GridWorldState(5, 4, false)\\nN:     45\\n\",\"GridWorldState(2, 3, false)\\nN:    160\\n\",\"GridWorldState(8, 3, false)\\nN:    381\\n\",\"GridWorldState(4, 5, false)\\nN:      7\\n\",\"GridWorldState(3, 3, false)\\nN:    109\\n\",\"GridWorldState(7, 3, false)\\nN:    452\\n\",\"GridWorldState(5, 2, false)\\nN:    546\\n\",\"GridWorldState(8, 2, false)\\nN:    551\\n\",\"GridWorldState(10, 1, false)\\nN:     79\\n\",\"GridWorldState(2, 1, false)\\nN:    448\\n\",\"GridWorldState(6, 5, false)\\nN:     21\\n\",\"GridWorldState(1, 5, false)\\nN:     69\\n\",\"GridWorldState(4, 3, true)\\nN:      0\\n\",\"GridWorldState(3, 5, false)\\nN:     22\\n\",\"GridWorldState(4, 3, false)\\nN:     87\\n\",\"GridWorldState(3, 4, false)\\nN:     53\\n\",\"GridWorldState(1, 3, false)\\nN:    188\\n\",\"GridWorldState(9, 2, false)\\nN:    391\\n\",\"GridWorldState(3, 2, false)\\nN:    319\\n\",\"GridWorldState(7, 4, false)\\nN:    104\\n\",\"GridWorldState(7, 2, false)\\nN:    667\\n\",\"GridWorldState(3, 6, false)\\nN:     11\\n\",\"GridWorldState(1, 8, false)\\nN:      0\\n\",\"GridWorldState(7, 3, false)\\nN:    452\\n\",\"GridWorldState(4, 4, false)\\nN:     26\\n\",\"GridWorldState(3, 3, false)\\nN:    109\\n\",\"GridWorldState(3, 2, false)\\nN:    319\\n\",\"GridWorldState(2, 4, false)\\nN:     80\\n\",\"GridWorldState(9, 1, false)\\nN:    182\\n\",\"GridWorldState(2, 3, false)\\nN:    160\\n\",\"GridWorldState(8, 3, false)\\nN:    381\\n\",\"GridWorldState(6, 8, false)\\nN:      2\\n\",\"GridWorldState(7, 4, false)\\nN:    104\\n\",\"GridWorldState(2, 3, false)\\nN:    160\\n\",\"GridWorldState(6, 2, false)\\nN:    653\\n\",\"GridWorldState(1, 5, false)\\nN:     69\\n\",\"GridWorldState(1, 6, false)\\nN:     28\\n\",\"GridWorldState(3, 6, false)\\nN:     11\\n\",\"GridWorldState(5, 4, false)\\nN:     45\\n\",\"GridWorldState(5, 1, false)\\nN:   1067\\n\",\"GridWorldState(6, 5, false)\\nN:     21\\n\",\"GridWorldState(3, 1, false)\\nN:    801\\n\",\"GridWorldState(5, 2, false)\\nN:    546\\n\",\"GridWorldState(4, 5, false)\\nN:      7\\n\",\"GridWorldState(5, 2, false)\\nN:    546\\n\",\"GridWorldState(9, 3, false)\\nN:    498\\n\",\"GridWorldState(1, 4, false)\\nN:    110\\n\",\"GridWorldState(3, 5, false)\\nN:     22\\n\",\"GridWorldState(9, 5, false)\\nN:     13\\n\",\"GridWorldState(5, 3, false)\\nN:    126\\n\",\"GridWorldState(6, 3, false)\\nN:    219\\n\",\"GridWorldState(3, 2, false)\\nN:    319\\n\",\"GridWorldState(4, 4, false)\\nN:     26\\n\",\"GridWorldState(7, 4, false)\\nN:    104\\n\",\"GridWorldState(4, 2, false)\\nN:    499\\n\",\"GridWorldState(3, 2, false)\\nN:    319\\n\",\"GridWorldState(7, 2, false)\\nN:    667\\n\",\"GridWorldState(3, 3, false)\\nN:    109\\n\",\"GridWorldState(10, 1, false)\\nN:     79\\n\",\"GridWorldState(1, 6, false)\\nN:     28\\n\",\"GridWorldState(4, 2, false)\\nN:    499\\n\",\"GridWorldState(2, 3, false)\\nN:    160\\n\",\"GridWorldState(5, 2, false)\\nN:    546\\n\",\"GridWorldState(10, 5, false)\\nN:      3\\n\",\"GridWorldState(1, 3, false)\\nN:    188\\n\",\"GridWorldState(8, 4, false)\\nN:     97\\n\",\"GridWorldState(6, 3, false)\\nN:    219\\n\",\"GridWorldState(6, 4, false)\\nN:     69\\n\",\"GridWorldState(6, 4, false)\\nN:     69\\n\",\"GridWorldState(1, 5, false)\\nN:     69\\n\",\"GridWorldState(5, 2, false)\\nN:    546\\n\",\"GridWorldState(2, 6, false)\\nN:     18\\n\",\"GridWorldState(8, 4, false)\\nN:     97\\n\",\"GridWorldState(6, 3, false)\\nN:    219\\n\",\"GridWorldState(2, 1, false)\\nN:    448\\n\",\"GridWorldState(9, 1, false)\\nN:    182\\n\",\"GridWorldState(7, 6, false)\\nN:     14\\n\",\"GridWorldState(9, 1, false)\\nN:    182\\n\",\"                       up\\nQ:  -0.41\\nN:    218\\n\",\"                     down\\nQ:   0.00\\nN:    360\\n\",\"                     left\\nQ:  -0.09\\nN:    328\\n\",\"                    right\\nQ:   1.71\\nN:    937\\n\",\"                       up\\nQ:  -7.49\\nN:      8\\n\",\"                     down\\nQ:  -1.13\\nN:     99\\n\",\"                     left\\nQ:  -1.81\\nN:     62\\n\",\"                    right\\nQ:   0.33\\nN:    330\\n\",\"                       up\\nQ:  -1.24\\nN:     76\\n\",\"                     down\\nQ:   0.00\\nN:    235\\n\",\"                     left\\nQ:   0.00\\nN:    227\\n\",\"                    right\\nQ:   0.43\\nN:    263\\n\",\"                       up\\nQ:   0.33\\nN:    123\\n\",\"                     down\\nQ:   0.00\\nN:     98\\n\",\"                     left\\nQ:  -0.83\\nN:     53\\n\",\"                    right\\nQ:   2.50\\nN:    793\\n\",\"                       up\\nQ:  -3.38\\nN:     17\\n\",\"                     down\\nQ:  -0.77\\nN:     45\\n\",\"                     left\\nQ:  -0.71\\nN:     46\\n\",\"                    right\\nQ:   2.13\\nN:    438\\n\",\"                       up\\nQ:  -1.34\\nN:     47\\n\",\"                     down\\nQ:  -0.12\\nN:     94\\n\",\"                     left\\nQ:  -0.22\\nN:    108\\n\",\"                    right\\nQ:  -0.79\\nN:     70\\n\",\"                       up\\nQ: -10.00\\nN:     22\\n\",\"                     down\\nQ: -10.00\\nN:     22\\n\",\"                     left\\nQ: -10.00\\nN:     22\\n\",\"                    right\\nQ: -10.00\\nN:     21\\n\",\"                       up\\nQ:  -0.13\\nN:    101\\n\",\"                     down\\nQ:   0.00\\nN:    126\\n\",\"                     left\\nQ:   0.03\\nN:    121\\n\",\"                    right\\nQ:  -0.17\\nN:    100\\n\",\"                       up\\nQ:  -1.34\\nN:     26\\n\",\"                     down\\nQ:  -0.94\\nN:     33\\n\",\"                     left\\nQ:  -8.04\\nN:      5\\n\",\"                    right\\nQ:   0.77\\nN:     62\\n\",\"                       up\\nQ:   1.58\\nN:    178\\n\",\"                     down\\nQ:   0.00\\nN:     60\\n\",\"                     left\\nQ:   0.19\\nN:     60\\n\",\"                    right\\nQ:   3.35\\nN:    541\\n\",\"                       up\\nQ:   2.37\\nN:     99\\n\",\"                     down\\nQ:   0.00\\nN:     30\\n\",\"                     left\\nQ:   0.00\\nN:     26\\n\",\"                    right\\nQ:   4.01\\nN:    475\\n\",\"                       up\\nQ:  -0.11\\nN:     38\\n\",\"                     down\\nQ:   1.14\\nN:     82\\n\",\"                     left\\nQ:  -0.90\\nN:     29\\n\",\"                    right\\nQ:   3.22\\nN:    504\\n\",\"                       up\\nQ:  -0.21\\nN:     71\\n\",\"                     down\\nQ:  -0.14\\nN:     75\\n\",\"                     left\\nQ:  -0.14\\nN:     74\\n\",\"                    right\\nQ:   0.04\\nN:     85\\n\",\"                       up\\nQ:  -0.20\\nN:     25\\n\",\"                     down\\nQ:   0.82\\nN:     42\\n\",\"                     left\\nQ:   0.28\\nN:     31\\n\",\"                    right\\nQ:   3.10\\nN:    121\\n\",\"                       up\\nQ:  -0.26\\nN:     12\\n\",\"                     down\\nQ:   0.94\\nN:     20\\n\",\"                     left\\nQ:  -0.88\\nN:     15\\n\",\"                    right\\nQ:   1.31\\nN:     22\\n\",\"                       up\\nQ:  -0.14\\nN:     43\\n\",\"                     down\\nQ:  -0.37\\nN:     40\\n\",\"                     left\\nQ:  -0.03\\nN:     47\\n\",\"                    right\\nQ:  -0.81\\nN:     30\\n\",\"                       up\\nQ:  -0.35\\nN:     19\\n\",\"                     down\\nQ:  -0.41\\nN:     18\\n\",\"                     left\\nQ:   0.00\\nN:     21\\n\",\"                    right\\nQ:   0.00\\nN:     22\\n\",\"                       up\\nQ:   0.00\\nN:      0\\n\",\"                     down\\nQ:   0.00\\nN:      0\\n\",\"                     left\\nQ:   0.00\\nN:      0\\n\",\"                    right\\nQ:   0.00\\nN:      0\\n\",\"                       up\\nQ:  -0.58\\nN:     40\\n\",\"                     down\\nQ:  -1.81\\nN:     21\\n\",\"                     left\\nQ:  -0.88\\nN:     37\\n\",\"                    right\\nQ:  -4.09\\nN:     11\\n\",\"                       up\\nQ:  -0.03\\nN:     56\\n\",\"                     down\\nQ:  -0.08\\nN:     57\\n\",\"                     left\\nQ:   0.00\\nN:     58\\n\",\"                    right\\nQ:  -0.14\\nN:     53\\n\",\"                       up\\nQ:   4.09\\nN:    385\\n\",\"                     down\\nQ:   0.52\\nN:     33\\n\",\"                     left\\nQ:   0.59\\nN:     28\\n\",\"                    right\\nQ:   3.91\\nN:    221\\n\",\"                       up\\nQ:   1.17\\nN:     24\\n\",\"                     down\\nQ:   0.90\\nN:     25\\n\",\"                     left\\nQ:   0.00\\nN:     15\\n\",\"                    right\\nQ:   5.25\\nN:    388\\n\",\"                       up\\nQ:   0.73\\nN:     18\\n\",\"                     down\\nQ:   2.06\\nN:     32\\n\",\"                     left\\nQ:  -0.32\\nN:     13\\n\",\"                    right\\nQ:   2.23\\nN:     41\\n\",\"                       up\\nQ:  -1.68\\nN:      8\\n\",\"                     down\\nQ:   0.23\\nN:     17\\n\",\"                     left\\nQ:  -1.65\\nN:      8\\n\",\"                    right\\nQ:  -2.02\\nN:     12\\n\",\"                       up\\nQ:  -0.13\\nN:     44\\n\",\"                     down\\nQ:   0.00\\nN:     46\\n\",\"                     left\\nQ:   0.00\\nN:     53\\n\",\"                    right\\nQ:   0.00\\nN:     45\\n\",\"                       up\\nQ:  -2.42\\nN:     16\\n\",\"                     down\\nQ:   0.00\\nN:     16\\n\",\"                     left\\nQ:   0.00\\nN:     16\\n\",\"                    right\\nQ:  -5.59\\nN:      5\\n\",\"                       up\\nQ:  -0.12\\nN:     75\\n\",\"                     down\\nQ:   0.00\\nN:     80\\n\",\"                     left\\nQ:   0.00\\nN:     92\\n\",\"                    right\\nQ:   0.03\\nN:     78\\n\",\"                       up\\nQ:   4.47\\nN:     93\\n\",\"                     down\\nQ:   0.00\\nN:     18\\n\",\"                     left\\nQ:   3.51\\nN:     52\\n\",\"                    right\\nQ:   5.89\\nN:    388\\n\",\"                       up\\nQ:   0.00\\nN:     30\\n\",\"                     down\\nQ:  -0.29\\nN:     25\\n\",\"                     left\\nQ:   0.00\\nN:     28\\n\",\"                    right\\nQ:  -0.07\\nN:     27\\n\",\"                       up\\nQ:   4.99\\nN:    292\\n\",\"                     down\\nQ:   0.00\\nN:     16\\n\",\"                     left\\nQ:   3.78\\nN:     95\\n\",\"                    right\\nQ:   3.50\\nN:     47\\n\",\"                       up\\nQ:   0.00\\nN:      5\\n\",\"                     down\\nQ:   0.00\\nN:      5\\n\",\"                     left\\nQ:  -0.32\\nN:      6\\n\",\"                    right\\nQ:  -0.73\\nN:      5\\n\",\"                       up\\nQ:   1.51\\nN:     12\\n\",\"                     down\\nQ:   3.57\\nN:     23\\n\",\"                     left\\nQ:   0.00\\nN:      8\\n\",\"                    right\\nQ:   7.41\\nN:    338\\n\",\"                       up\\nQ:  -0.13\\nN:     16\\n\",\"                     down\\nQ:   0.00\\nN:     16\\n\",\"                     left\\nQ:   0.00\\nN:     22\\n\",\"                    right\\nQ:  -0.40\\nN:     15\\n\",\"                       up\\nQ:   0.58\\nN:     14\\n\",\"                     down\\nQ:   2.60\\nN:     21\\n\",\"                     left\\nQ:   0.73\\nN:     14\\n\",\"                    right\\nQ:   4.41\\nN:     48\\n\",\"                       up\\nQ:  -3.16\\nN:      6\\n\",\"                     down\\nQ:  -5.51\\nN:      4\\n\",\"                     left\\nQ:  -5.82\\nN:      6\\n\",\"                    right\\nQ:   0.00\\nN:     10\\n\",\"                       up\\nQ:  -1.35\\nN:      3\\n\",\"                     down\\nQ:  -2.37\\nN:      4\\n\",\"                     left\\nQ:   0.00\\nN:      4\\n\",\"                    right\\nQ:   0.00\\nN:      3\\n\",\"                       up\\nQ:   7.81\\nN:    358\\n\",\"                     down\\nQ:   1.06\\nN:     14\\n\",\"                     left\\nQ:   0.82\\nN:     11\\n\",\"                    right\\nQ:   0.00\\nN:      8\\n\",\"                       up\\nQ:  -0.34\\nN:      7\\n\",\"                     down\\nQ:   0.00\\nN:      7\\n\",\"                     left\\nQ:   0.00\\nN:      8\\n\",\"                    right\\nQ:   0.00\\nN:      6\\n\",\"                       up\\nQ:  -2.25\\nN:      2\\n\",\"                     down\\nQ:  -4.50\\nN:      1\\n\",\"                     left\\nQ:  -4.50\\nN:      1\\n\",\"                    right\\nQ:  -2.71\\nN:      3\\n\",\"                       up\\nQ:   0.56\\nN:      6\\n\",\"                     down\\nQ:   0.00\\nN:      7\\n\",\"                     left\\nQ:   0.00\\nN:      5\\n\",\"                    right\\nQ:  -0.31\\nN:      5\\n\",\"                       up\\nQ:  10.00\\nN:    125\\n\",\"                     down\\nQ:  10.00\\nN:    125\\n\",\"                     left\\nQ:  10.00\\nN:    124\\n\",\"                    right\\nQ:  10.00\\nN:    124\\n\",\"                       up\\nQ:   4.03\\nN:     29\\n\",\"                     down\\nQ:   2.16\\nN:     15\\n\",\"                     left\\nQ:   5.36\\nN:     27\\n\",\"                    right\\nQ:   0.00\\nN:     16\\n\",\"                       up\\nQ:   5.20\\nN:    132\\n\",\"                     down\\nQ:   0.00\\nN:     15\\n\",\"                     left\\nQ:   2.27\\nN:     24\\n\",\"                    right\\nQ:   0.00\\nN:     11\\n\",\"                       up\\nQ:  -0.36\\nN:     10\\n\",\"                     down\\nQ:   0.00\\nN:     10\\n\",\"                     left\\nQ:  -0.33\\nN:      9\\n\",\"                    right\\nQ:  -1.04\\nN:      7\\n\",\"                       up\\nQ:   0.00\\nN:      2\\n\",\"                     down\\nQ:   0.00\\nN:      2\\n\",\"                     left\\nQ:   0.00\\nN:      0\\n\",\"                    right\\nQ:   0.00\\nN:      0\\n\",\"                       up\\nQ:   0.00\\nN:      7\\n\",\"                     down\\nQ:  -0.35\\nN:      9\\n\",\"                     left\\nQ:   0.73\\nN:      9\\n\",\"                    right\\nQ:   0.12\\nN:      9\\n\",\"                       up\\nQ:  -0.78\\nN:      2\\n\",\"                     down\\nQ:   0.00\\nN:      3\\n\",\"                     left\\nQ:   1.08\\nN:      5\\n\",\"                    right\\nQ:   0.00\\nN:      4\\n\",\"                       up\\nQ:   3.15\\nN:     29\\n\",\"                     down\\nQ:   0.00\\nN:     14\\n\",\"                     left\\nQ:   2.86\\nN:     16\\n\",\"                    right\\nQ:   0.00\\nN:     20\\n\",\"                       up\\nQ:   0.00\\nN:      3\\n\",\"                     down\\nQ:   0.00\\nN:      2\\n\",\"                     left\\nQ:   0.00\\nN:      3\\n\",\"                    right\\nQ:   1.19\\nN:      3\\n\",\"                       up\\nQ:  -5.00\\nN:      2\\n\",\"                     down\\nQ:  -5.00\\nN:      2\\n\",\"                     left\\nQ:  -5.00\\nN:      2\\n\",\"                    right\\nQ:  -5.00\\nN:      2\\n\",\"                       up\\nQ:   1.22\\nN:      2\\n\",\"                     down\\nQ:   0.65\\nN:      2\\n\",\"                     left\\nQ:   0.00\\nN:      2\\n\",\"                    right\\nQ:   0.00\\nN:      3\\n\",\"                       up\\nQ:   2.70\\nN:      2\\n\",\"                     down\\nQ:   0.00\\nN:      0\\n\",\"                     left\\nQ:   0.00\\nN:      0\\n\",\"                    right\\nQ:   0.00\\nN:      0\\n\",\"                       up\\nQ:  -1.83\\nN:      4\\n\",\"                     down\\nQ:   0.00\\nN:      5\\n\",\"                     left\\nQ:   0.00\\nN:      5\\n\",\"                    right\\nQ:  -1.01\\nN:      4\\n\",\"                       up\\nQ:   2.25\\nN:      4\\n\",\"                     down\\nQ:   1.22\\nN:      6\\n\",\"                     left\\nQ:   7.37\\nN:     18\\n\",\"                    right\\nQ:   0.00\\nN:      6\\n\",\"                       up\\nQ:  -0.81\\nN:      5\\n\",\"                     down\\nQ:  -3.33\\nN:      6\\n\",\"                     left\\nQ:  -0.80\\nN:      6\\n\",\"                    right\\nQ:  -0.81\\nN:      5\\n\",\"                       up\\nQ:   0.00\\nN:      3\\n\",\"                     down\\nQ:   4.68\\nN:      6\\n\",\"                     left\\nQ:   1.62\\nN:      5\\n\",\"                    right\\nQ:   0.00\\nN:     11\\n\",\"                       up\\nQ:   0.00\\nN:      0\\n\",\"                     down\\nQ:   0.00\\nN:      0\\n\",\"                     left\\nQ:   0.00\\nN:      0\\n\",\"                    right\\nQ:   0.00\\nN:      0\\n\",\"                       up\\nQ:   0.00\\nN:      2\\n\",\"                     down\\nQ:   0.00\\nN:      1\\n\",\"                     left\\nQ:  -4.50\\nN:      1\\n\",\"                    right\\nQ:   0.00\\nN:      0\\n\",\"                       up\\nQ:  -1.50\\nN:      3\\n\",\"                     down\\nQ:  -1.50\\nN:      3\\n\",\"                     left\\nQ:   0.00\\nN:      3\\n\",\"                    right\\nQ:  -4.50\\nN:      2\\n\",\"                       up\\nQ:   0.00\\nN:      2\\n\",\"                     down\\nQ:  -3.65\\nN:      1\\n\",\"                     left\\nQ:   0.00\\nN:      0\\n\",\"                    right\\nQ:   0.00\\nN:      0\\n\",\"                       up\\nQ:   0.00\\nN:      0\\n\",\"                     down\\nQ:   0.00\\nN:      0\\n\",\"                     left\\nQ:   0.00\\nN:      0\\n\",\"                    right\\nQ:   0.00\\nN:      0\\n\",\"                       up\\nQ:   1.22\\nN:      2\\n\",\"                     down\\nQ:   0.00\\nN:      1\\n\",\"                     left\\nQ:   0.00\\nN:      0\\n\",\"                    right\\nQ:   0.00\\nN:      0\\n\",\"                       up\\nQ:   0.00\\nN:      1\\n\",\"                     down\\nQ:   0.00\\nN:      0\\n\",\"                     left\\nQ:   0.00\\nN:      0\\n\",\"                    right\\nQ:   0.00\\nN:      0\\n\",\"                       up\\nQ:   0.00\\nN:      4\\n\",\"                     down\\nQ:   7.06\\nN:     25\\n\",\"                     left\\nQ:   0.00\\nN:      4\\n\",\"                    right\\nQ:   1.20\\nN:      4\\n\",\"                       up\\nQ:   0.00\\nN:      0\\n\",\"                     down\\nQ:   0.00\\nN:      0\\n\",\"                     left\\nQ:   0.00\\nN:      0\\n\",\"                    right\\nQ:   0.00\\nN:      0\\n\",\"                       up\\nQ:   3.00\\nN:      1\\n\",\"                     down\\nQ:   0.00\\nN:      0\\n\",\"                     left\\nQ:   0.00\\nN:      0\\n\",\"                    right\\nQ:   0.00\\nN:      0\\n\",\"                       up\\nQ:   0.00\\nN:      0\\n\",\"                     down\\nQ:   0.00\\nN:      0\\n\",\"                     left\\nQ:   0.00\\nN:      0\\n\",\"                    right\\nQ:   0.00\\nN:      0\\n\",\"                       up\\nQ:   0.00\\nN:      3\\n\",\"                     down\\nQ:   0.00\\nN:      3\\n\",\"                     left\\nQ:   0.00\\nN:      4\\n\",\"                    right\\nQ:   0.00\\nN:      3\\n\",\"                       up\\nQ:   0.00\\nN:      1\\n\",\"                     down\\nQ:   0.00\\nN:      0\\n\",\"                     left\\nQ:   0.00\\nN:      0\\n\",\"                    right\\nQ:   0.00\\nN:      0\\n\",\"                       up\\nQ:   0.00\\nN:      1\\n\",\"                     down\\nQ:   0.00\\nN:      0\\n\",\"                     left\\nQ:   0.00\\nN:      0\\n\",\"                    right\\nQ:   0.00\\nN:      0\\n\",\"                       up\\nQ:   0.00\\nN:      0\\n\",\"                     down\\nQ:   0.00\\nN:      0\\n\",\"                     left\\nQ:   0.00\\nN:      0\\n\",\"                    right\\nQ:   0.00\\nN:      0\\n\",\"                       up\\nQ:   0.00\\nN:      2\\n\",\"                     down\\nQ:   0.00\\nN:      1\\n\",\"                     left\\nQ:   0.00\\nN:      1\\n\",\"                    right\\nQ:   0.00\\nN:      0\\n\",\"                       up\\nQ:   0.00\\nN:      2\\n\",\"                     down\\nQ:   0.00\\nN:      0\\n\",\"                     left\\nQ:   0.00\\nN:      0\\n\",\"                    right\\nQ:   0.00\\nN:      0\\n\",\"                       up\\nQ:   0.00\\nN:      2\\n\",\"                     down\\nQ:   0.00\\nN:      0\\n\",\"                     left\\nQ:   0.00\\nN:      0\\n\",\"                    right\\nQ:   0.00\\nN:      0\\n\",\"                       up\\nQ:   0.00\\nN:      3\\n\",\"                     down\\nQ:   0.00\\nN:      0\\n\",\"                     left\\nQ:   0.00\\nN:      0\\n\",\"                    right\\nQ:   0.00\\nN:      0\\n\",\"                       up\\nQ:   0.00\\nN:      0\\n\",\"                     down\\nQ:   0.00\\nN:      0\\n\",\"                     left\\nQ:   0.00\\nN:      0\\n\",\"                    right\\nQ:   0.00\\nN:      0\\n\",\"                       up\\nQ:   0.00\\nN:      1\\n\",\"                     down\\nQ:   0.00\\nN:      0\\n\",\"                     left\\nQ:   0.00\\nN:      0\\n\",\"                    right\\nQ:   0.00\\nN:      0\\n\",\"                       up\\nQ:   0.00\\nN:      0\\n\",\"                     down\\nQ:   0.00\\nN:      0\\n\",\"                     left\\nQ:   0.00\\nN:      0\\n\",\"                    right\\nQ:   0.00\\nN:      0\\n\",\"                       up\\nQ:   0.00\\nN:      0\\n\",\"                     down\\nQ:   0.00\\nN:      0\\n\",\"                     left\\nQ:   0.00\\nN:      0\\n\",\"                    right\\nQ:   0.00\\nN:      0\\n\",\"                       up\\nQ:   0.00\\nN:      0\\n\",\"                     down\\nQ:   0.00\\nN:      0\\n\",\"                     left\\nQ:   0.00\\nN:      0\\n\",\"                    right\\nQ:   0.00\\nN:      0\\n\",\"                       up\\nQ:   0.00\\nN:      0\\n\",\"                     down\\nQ:   0.00\\nN:      0\\n\",\"                     left\\nQ:   0.00\\nN:      0\\n\",\"                    right\\nQ:   0.00\\nN:      0\\n\"],\"tooltip\":[\"GridWorldState(4, 1, false)\\nN: 1843\\n\",\"GridWorldState(5, 3, false)\\nN: 126\\n\",\"GridWorldState(3, 6, false)\\nN: 11\\n\",\"GridWorldState(9, 6, false)\\nN: 1\\n\",\"GridWorldState(4, 5, false)\\nN: 7\\n\",\"GridWorldState(10, 1, false)\\nN: 79\\n\",\"GridWorldState(1, 3, false)\\nN: 188\\n\",\"GridWorldState(8, 2, false)\\nN: 551\\n\",\"GridWorldState(4, 5, false)\\nN: 7\\n\",\"GridWorldState(6, 3, false)\\nN: 219\\n\",\"GridWorldState(7, 3, false)\\nN: 452\\n\",\"GridWorldState(6, 6, false)\\nN: 11\\n\",\"GridWorldState(7, 3, false)\\nN: 452\\n\",\"GridWorldState(10, 7, false)\\nN: 0\\n\",\"GridWorldState(3, 4, false)\\nN: 53\\n\",\"GridWorldState(7, 6, false)\\nN: 14\\n\",\"GridWorldState(1, 1, false)\\nN: 325\\n\",\"GridWorldState(1, 5, false)\\nN: 69\\n\",\"GridWorldState(2, 6, false)\\nN: 18\\n\",\"GridWorldState(9, 5, false)\\nN: 13\\n\",\"GridWorldState(4, 6, false)\\nN: 8\\n\",\"GridWorldState(8, 1, false)\\nN: 450\\n\",\"GridWorldState(7, 4, false)\\nN: 104\\n\",\"GridWorldState(8, 4, false)\\nN: 97\\n\",\"GridWorldState(4, 1, false)\\nN: 1843\\n\",\"GridWorldState(6, 8, false)\\nN: 2\\n\",\"GridWorldState(1, 2, false)\\nN: 224\\n\",\"GridWorldState(6, 3, false)\\nN: 219\\n\",\"GridWorldState(5, 4, false)\\nN: 45\\n\",\"GridWorldState(2, 2, false)\\nN: 305\\n\",\"GridWorldState(7, 1, false)\\nN: 630\\n\",\"GridWorldState(5, 2, false)\\nN: 546\\n\",\"GridWorldState(2, 8, false)\\nN: 1\\n\",\"GridWorldState(2, 5, false)\\nN: 36\\n\",\"GridWorldState(2, 1, false)\\nN: 448\\n\",\"GridWorldState(1, 3, false)\\nN: 188\\n\",\"GridWorldState(4, 4, false)\\nN: 26\\n\",\"GridWorldState(8, 2, false)\\nN: 551\\n\",\"GridWorldState(3, 7, false)\\nN: 0\\n\",\"GridWorldState(7, 4, false)\\nN: 104\\n\",\"GridWorldState(7, 2, false)\\nN: 667\\n\",\"GridWorldState(6, 2, false)\\nN: 653\\n\",\"GridWorldState(6, 1, false)\\nN: 839\\n\",\"GridWorldState(7, 5, false)\\nN: 34\\n\",\"GridWorldState(6, 2, false)\\nN: 653\\n\",\"GridWorldState(7, 4, false)\\nN: 104\\n\",\"GridWorldState(1, 6, false)\\nN: 28\\n\",\"GridWorldState(3, 2, false)\\nN: 319\\n\",\"GridWorldState(6, 3, false)\\nN: 219\\n\",\"GridWorldState(6, 2, false)\\nN: 653\\n\",\"GridWorldState(1, 2, false)\\nN: 224\\n\",\"GridWorldState(4, 4, false)\\nN: 26\\n\",\"GridWorldState(8, 2, false)\\nN: 551\\n\",\"GridWorldState(9, 2, false)\\nN: 391\\n\",\"GridWorldState(6, 5, false)\\nN: 21\\n\",\"GridWorldState(8, 5, false)\\nN: 23\\n\",\"GridWorldState(6, 3, false)\\nN: 219\\n\",\"GridWorldState(5, 3, false)\\nN: 126\\n\",\"GridWorldState(4, 3, true)\\nN: 0\\n\",\"GridWorldState(6, 2, false)\\nN: 653\\n\",\"GridWorldState(10, 6, false)\\nN: 1\\n\",\"GridWorldState(4, 6, false)\\nN: 8\\n\",\"GridWorldState(2, 2, false)\\nN: 305\\n\",\"GridWorldState(5, 3, false)\\nN: 126\\n\",\"GridWorldState(9, 4, false)\\nN: 37\\n\",\"GridWorldState(1, 6, false)\\nN: 28\\n\",\"GridWorldState(10, 2, false)\\nN: 87\\n\",\"GridWorldState(10, 3, false)\\nN: 34\\n\",\"GridWorldState(3, 5, false)\\nN: 22\\n\",\"GridWorldState(3, 1, false)\\nN: 801\\n\",\"GridWorldState(6, 3, false)\\nN: 219\\n\",\"GridWorldState(9, 3, false)\\nN: 498\\n\",\"GridWorldState(8, 5, false)\\nN: 23\\n\",\"GridWorldState(10, 4, false)\\nN: 25\\n\",\"GridWorldState(3, 4, false)\\nN: 53\\n\",\"GridWorldState(2, 7, false)\\nN: 3\\n\",\"GridWorldState(4, 1, false)\\nN: 1843\\n\",\"GridWorldState(8, 3, false)\\nN: 381\\n\",\"GridWorldState(7, 2, false)\\nN: 667\\n\",\"GridWorldState(7, 1, false)\\nN: 630\\n\",\"GridWorldState(1, 6, false)\\nN: 28\\n\",\"GridWorldState(2, 1, false)\\nN: 448\\n\",\"GridWorldState(8, 6, false)\\nN: 9\\n\",\"GridWorldState(6, 1, false)\\nN: 839\\n\",\"GridWorldState(7, 3, false)\\nN: 452\\n\",\"GridWorldState(2, 4, false)\\nN: 80\\n\",\"GridWorldState(1, 7, false)\\nN: 4\\n\",\"GridWorldState(8, 4, false)\\nN: 97\\n\",\"GridWorldState(9, 2, false)\\nN: 391\\n\",\"GridWorldState(7, 7, false)\\nN: 3\\n\",\"GridWorldState(4, 2, false)\\nN: 499\\n\",\"GridWorldState(9, 4, false)\\nN: 37\\n\",\"GridWorldState(6, 1, false)\\nN: 839\\n\",\"GridWorldState(8, 1, false)\\nN: 450\\n\",\"GridWorldState(3, 1, false)\\nN: 801\\n\",\"GridWorldState(6, 5, false)\\nN: 21\\n\",\"GridWorldState(7, 2, false)\\nN: 667\\n\",\"GridWorldState(3, 1, false)\\nN: 801\\n\",\"GridWorldState(9, 1, false)\\nN: 182\\n\",\"GridWorldState(3, 3, false)\\nN: 109\\n\",\"GridWorldState(9, 3, true)\\nN: 0\\n\",\"GridWorldState(4, 6, false)\\nN: 8\\n\",\"GridWorldState(8, 3, false)\\nN: 381\\n\",\"GridWorldState(6, 2, false)\\nN: 653\\n\",\"GridWorldState(6, 1, false)\\nN: 839\\n\",\"GridWorldState(4, 6, false)\\nN: 8\\n\",\"GridWorldState(9, 2, false)\\nN: 391\\n\",\"GridWorldState(4, 5, false)\\nN: 7\\n\",\"GridWorldState(5, 1, false)\\nN: 1067\\n\",\"GridWorldState(3, 1, false)\\nN: 801\\n\",\"GridWorldState(3, 6, false)\\nN: 11\\n\",\"GridWorldState(9, 1, false)\\nN: 182\\n\",\"GridWorldState(4, 3, false)\\nN: 87\\n\",\"GridWorldState(6, 2, false)\\nN: 653\\n\",\"GridWorldState(8, 5, false)\\nN: 23\\n\",\"GridWorldState(2, 3, false)\\nN: 160\\n\",\"GridWorldState(6, 2, false)\\nN: 653\\n\",\"GridWorldState(9, 3, false)\\nN: 498\\n\",\"GridWorldState(1, 1, false)\\nN: 325\\n\",\"GridWorldState(7, 1, false)\\nN: 630\\n\",\"GridWorldState(7, 5, false)\\nN: 34\\n\",\"GridWorldState(6, 7, false)\\nN: 4\\n\",\"GridWorldState(4, 2, false)\\nN: 499\\n\",\"GridWorldState(4, 1, false)\\nN: 1843\\n\",\"GridWorldState(3, 2, false)\\nN: 319\\n\",\"GridWorldState(2, 7, false)\\nN: 3\\n\",\"GridWorldState(5, 5, false)\\nN: 14\\n\",\"GridWorldState(3, 3, false)\\nN: 109\\n\",\"GridWorldState(8, 4, false)\\nN: 97\\n\",\"GridWorldState(3, 1, false)\\nN: 801\\n\",\"GridWorldState(2, 3, false)\\nN: 160\\n\",\"GridWorldState(1, 2, false)\\nN: 224\\n\",\"GridWorldState(7, 4, false)\\nN: 104\\n\",\"GridWorldState(2, 7, false)\\nN: 3\\n\",\"GridWorldState(9, 2, false)\\nN: 391\\n\",\"GridWorldState(2, 2, false)\\nN: 305\\n\",\"GridWorldState(10, 3, false)\\nN: 34\\n\",\"GridWorldState(5, 2, false)\\nN: 546\\n\",\"GridWorldState(2, 3, false)\\nN: 160\\n\",\"GridWorldState(1, 3, false)\\nN: 188\\n\",\"GridWorldState(6, 2, false)\\nN: 653\\n\",\"GridWorldState(10, 1, false)\\nN: 79\\n\",\"GridWorldState(10, 4, false)\\nN: 25\\n\",\"GridWorldState(2, 2, false)\\nN: 305\\n\",\"GridWorldState(1, 5, false)\\nN: 69\\n\",\"GridWorldState(7, 7, false)\\nN: 3\\n\",\"GridWorldState(2, 1, false)\\nN: 448\\n\",\"GridWorldState(7, 6, false)\\nN: 14\\n\",\"GridWorldState(10, 4, false)\\nN: 25\\n\",\"GridWorldState(1, 2, false)\\nN: 224\\n\",\"GridWorldState(2, 2, false)\\nN: 305\\n\",\"GridWorldState(6, 5, false)\\nN: 21\\n\",\"GridWorldState(5, 1, false)\\nN: 1067\\n\",\"GridWorldState(7, 8, false)\\nN: 0\\n\",\"GridWorldState(5, 2, false)\\nN: 546\\n\",\"GridWorldState(7, 1, false)\\nN: 630\\n\",\"GridWorldState(3, 5, false)\\nN: 22\\n\",\"GridWorldState(2, 3, false)\\nN: 160\\n\",\"GridWorldState(8, 3, false)\\nN: 381\\n\",\"GridWorldState(7, 4, false)\\nN: 104\\n\",\"GridWorldState(4, 6, false)\\nN: 8\\n\",\"GridWorldState(9, 5, false)\\nN: 13\\n\",\"GridWorldState(2, 1, false)\\nN: 448\\n\",\"GridWorldState(7, 5, false)\\nN: 34\\n\",\"GridWorldState(5, 5, false)\\nN: 14\\n\",\"GridWorldState(4, 2, false)\\nN: 499\\n\",\"GridWorldState(2, 3, false)\\nN: 160\\n\",\"GridWorldState(6, 2, false)\\nN: 653\\n\",\"GridWorldState(1, 3, false)\\nN: 188\\n\",\"GridWorldState(5, 1, false)\\nN: 1067\\n\",\"GridWorldState(4, 1, false)\\nN: 1843\\n\",\"GridWorldState(10, 3, false)\\nN: 34\\n\",\"GridWorldState(5, 1, false)\\nN: 1067\\n\",\"GridWorldState(6, 4, false)\\nN: 69\\n\",\"GridWorldState(9, 1, false)\\nN: 182\\n\",\"GridWorldState(3, 2, false)\\nN: 319\\n\",\"GridWorldState(7, 3, false)\\nN: 452\\n\",\"GridWorldState(4, 2, false)\\nN: 499\\n\",\"GridWorldState(3, 2, false)\\nN: 319\\n\",\"GridWorldState(4, 6, true)\\nN: 0\\n\",\"GridWorldState(5, 3, false)\\nN: 126\\n\",\"GridWorldState(1, 7, false)\\nN: 4\\n\",\"GridWorldState(7, 5, false)\\nN: 34\\n\",\"GridWorldState(6, 1, false)\\nN: 839\\n\",\"GridWorldState(10, 2, false)\\nN: 87\\n\",\"GridWorldState(6, 3, false)\\nN: 219\\n\",\"GridWorldState(2, 2, false)\\nN: 305\\n\",\"GridWorldState(5, 6, false)\\nN: 4\\n\",\"GridWorldState(6, 4, false)\\nN: 69\\n\",\"GridWorldState(8, 6, false)\\nN: 9\\n\",\"GridWorldState(2, 5, false)\\nN: 36\\n\",\"GridWorldState(9, 4, false)\\nN: 37\\n\",\"GridWorldState(2, 5, false)\\nN: 36\\n\",\"GridWorldState(6, 7, false)\\nN: 4\\n\",\"GridWorldState(10, 1, false)\\nN: 79\\n\",\"GridWorldState(2, 2, false)\\nN: 305\\n\",\"GridWorldState(7, 3, false)\\nN: 452\\n\",\"GridWorldState(1, 4, false)\\nN: 110\\n\",\"GridWorldState(3, 1, false)\\nN: 801\\n\",\"GridWorldState(2, 4, false)\\nN: 80\\n\",\"GridWorldState(6, 4, false)\\nN: 69\\n\",\"GridWorldState(2, 5, false)\\nN: 36\\n\",\"GridWorldState(5, 5, false)\\nN: 14\\n\",\"GridWorldState(5, 4, false)\\nN: 45\\n\",\"GridWorldState(1, 4, false)\\nN: 110\\n\",\"GridWorldState(7, 2, false)\\nN: 667\\n\",\"GridWorldState(5, 4, false)\\nN: 45\\n\",\"GridWorldState(6, 4, false)\\nN: 69\\n\",\"GridWorldState(7, 6, false)\\nN: 14\\n\",\"GridWorldState(1, 4, false)\\nN: 110\\n\",\"GridWorldState(4, 3, false)\\nN: 87\\n\",\"GridWorldState(4, 6, false)\\nN: 8\\n\",\"GridWorldState(6, 1, false)\\nN: 839\\n\",\"GridWorldState(9, 4, false)\\nN: 37\\n\",\"GridWorldState(10, 3, false)\\nN: 34\\n\",\"GridWorldState(3, 2, false)\\nN: 319\\n\",\"GridWorldState(2, 5, false)\\nN: 36\\n\",\"GridWorldState(10, 5, false)\\nN: 3\\n\",\"GridWorldState(8, 4, false)\\nN: 97\\n\",\"GridWorldState(7, 4, false)\\nN: 104\\n\",\"GridWorldState(5, 5, false)\\nN: 14\\n\",\"GridWorldState(9, 3, true)\\nN: 0\\n\",\"GridWorldState(6, 6, false)\\nN: 11\\n\",\"GridWorldState(8, 2, false)\\nN: 551\\n\",\"GridWorldState(6, 4, false)\\nN: 69\\n\",\"GridWorldState(5, 1, false)\\nN: 1067\\n\",\"GridWorldState(4, 3, false)\\nN: 87\\n\",\"GridWorldState(3, 4, false)\\nN: 53\\n\",\"GridWorldState(4, 3, false)\\nN: 87\\n\",\"GridWorldState(6, 4, false)\\nN: 69\\n\",\"GridWorldState(7, 4, false)\\nN: 104\\n\",\"GridWorldState(7, 5, false)\\nN: 34\\n\",\"GridWorldState(3, 4, false)\\nN: 53\\n\",\"GridWorldState(4, 6, false)\\nN: 8\\n\",\"GridWorldState(6, 5, false)\\nN: 21\\n\",\"GridWorldState(8, 2, false)\\nN: 551\\n\",\"GridWorldState(3, 3, false)\\nN: 109\\n\",\"GridWorldState(1, 1, false)\\nN: 325\\n\",\"GridWorldState(2, 9, false)\\nN: 0\\n\",\"GridWorldState(3, 4, false)\\nN: 53\\n\",\"GridWorldState(2, 3, false)\\nN: 160\\n\",\"GridWorldState(9, 1, false)\\nN: 182\\n\",\"GridWorldState(3, 3, false)\\nN: 109\\n\",\"GridWorldState(10, 2, false)\\nN: 87\\n\",\"GridWorldState(9, 5, false)\\nN: 13\\n\",\"GridWorldState(2, 1, false)\\nN: 448\\n\",\"GridWorldState(3, 1, false)\\nN: 801\\n\",\"GridWorldState(8, 4, false)\\nN: 97\\n\",\"GridWorldState(8, 2, false)\\nN: 551\\n\",\"GridWorldState(7, 1, false)\\nN: 630\\n\",\"GridWorldState(3, 2, false)\\nN: 319\\n\",\"GridWorldState(1, 2, false)\\nN: 224\\n\",\"GridWorldState(6, 4, false)\\nN: 69\\n\",\"GridWorldState(7, 2, false)\\nN: 667\\n\",\"GridWorldState(7, 1, false)\\nN: 630\\n\",\"GridWorldState(6, 5, false)\\nN: 21\\n\",\"GridWorldState(2, 6, false)\\nN: 18\\n\",\"GridWorldState(2, 6, false)\\nN: 18\\n\",\"GridWorldState(7, 1, false)\\nN: 630\\n\",\"GridWorldState(7, 3, false)\\nN: 452\\n\",\"GridWorldState(8, 2, false)\\nN: 551\\n\",\"GridWorldState(5, 1, false)\\nN: 1067\\n\",\"GridWorldState(9, 4, false)\\nN: 37\\n\",\"GridWorldState(2, 4, false)\\nN: 80\\n\",\"GridWorldState(1, 3, false)\\nN: 188\\n\",\"GridWorldState(8, 3, false)\\nN: 381\\n\",\"GridWorldState(6, 2, false)\\nN: 653\\n\",\"GridWorldState(1, 5, false)\\nN: 69\\n\",\"GridWorldState(2, 5, false)\\nN: 36\\n\",\"GridWorldState(10, 1, false)\\nN: 79\\n\",\"GridWorldState(10, 3, false)\\nN: 34\\n\",\"GridWorldState(4, 4, false)\\nN: 26\\n\",\"GridWorldState(4, 6, true)\\nN: 0\\n\",\"GridWorldState(2, 4, false)\\nN: 80\\n\",\"GridWorldState(8, 5, false)\\nN: 23\\n\",\"GridWorldState(8, 4, false)\\nN: 97\\n\",\"GridWorldState(6, 5, false)\\nN: 21\\n\",\"GridWorldState(10, 3, false)\\nN: 34\\n\",\"GridWorldState(5, 1, false)\\nN: 1067\\n\",\"GridWorldState(4, 2, false)\\nN: 499\\n\",\"GridWorldState(2, 2, false)\\nN: 305\\n\",\"GridWorldState(8, 5, false)\\nN: 23\\n\",\"GridWorldState(5, 5, false)\\nN: 14\\n\",\"GridWorldState(4, 6, false)\\nN: 8\\n\",\"GridWorldState(3, 4, false)\\nN: 53\\n\",\"GridWorldState(9, 1, false)\\nN: 182\\n\",\"GridWorldState(4, 2, false)\\nN: 499\\n\",\"GridWorldState(8, 1, false)\\nN: 450\\n\",\"GridWorldState(6, 3, false)\\nN: 219\\n\",\"GridWorldState(8, 8, false)\\nN: 1\\n\",\"GridWorldState(6, 4, false)\\nN: 69\\n\",\"GridWorldState(7, 5, false)\\nN: 34\\n\",\"GridWorldState(9, 3, false)\\nN: 498\\n\",\"GridWorldState(1, 6, false)\\nN: 28\\n\",\"GridWorldState(2, 2, false)\\nN: 305\\n\",\"GridWorldState(2, 2, false)\\nN: 305\\n\",\"GridWorldState(4, 3, false)\\nN: 87\\n\",\"GridWorldState(4, 5, false)\\nN: 7\\n\",\"GridWorldState(10, 2, false)\\nN: 87\\n\",\"GridWorldState(7, 4, false)\\nN: 104\\n\",\"GridWorldState(7, 2, false)\\nN: 667\\n\",\"GridWorldState(9, 2, false)\\nN: 391\\n\",\"GridWorldState(5, 6, false)\\nN: 4\\n\",\"GridWorldState(5, 1, false)\\nN: 1067\\n\",\"GridWorldState(4, 6, true)\\nN: 0\\n\",\"GridWorldState(5, 4, false)\\nN: 45\\n\",\"GridWorldState(10, 4, false)\\nN: 25\\n\",\"GridWorldState(2, 5, false)\\nN: 36\\n\",\"GridWorldState(3, 3, false)\\nN: 109\\n\",\"GridWorldState(2, 2, false)\\nN: 305\\n\",\"GridWorldState(2, 6, false)\\nN: 18\\n\",\"GridWorldState(6, 2, false)\\nN: 653\\n\",\"GridWorldState(3, 6, false)\\nN: 11\\n\",\"GridWorldState(9, 3, false)\\nN: 498\\n\",\"GridWorldState(7, 5, false)\\nN: 34\\n\",\"GridWorldState(5, 3, false)\\nN: 126\\n\",\"GridWorldState(3, 3, false)\\nN: 109\\n\",\"GridWorldState(9, 3, true)\\nN: 0\\n\",\"GridWorldState(6, 1, false)\\nN: 839\\n\",\"GridWorldState(4, 3, false)\\nN: 87\\n\",\"GridWorldState(5, 3, false)\\nN: 126\\n\",\"GridWorldState(3, 4, false)\\nN: 53\\n\",\"GridWorldState(6, 3, false)\\nN: 219\\n\",\"GridWorldState(4, 1, false)\\nN: 1843\\n\",\"GridWorldState(1, 2, false)\\nN: 224\\n\",\"GridWorldState(7, 1, false)\\nN: 630\\n\",\"GridWorldState(7, 1, false)\\nN: 630\\n\",\"GridWorldState(10, 1, false)\\nN: 79\\n\",\"GridWorldState(4, 5, false)\\nN: 7\\n\",\"GridWorldState(4, 1, false)\\nN: 1843\\n\",\"GridWorldState(8, 2, false)\\nN: 551\\n\",\"GridWorldState(2, 5, false)\\nN: 36\\n\",\"GridWorldState(3, 1, false)\\nN: 801\\n\",\"GridWorldState(7, 3, false)\\nN: 452\\n\",\"GridWorldState(7, 6, false)\\nN: 14\\n\",\"GridWorldState(6, 1, false)\\nN: 839\\n\",\"GridWorldState(2, 4, false)\\nN: 80\\n\",\"GridWorldState(5, 7, false)\\nN: 1\\n\",\"GridWorldState(7, 3, false)\\nN: 452\\n\",\"GridWorldState(4, 3, false)\\nN: 87\\n\",\"GridWorldState(1, 4, false)\\nN: 110\\n\",\"GridWorldState(5, 6, false)\\nN: 4\\n\",\"GridWorldState(5, 8, false)\\nN: 2\\n\",\"GridWorldState(1, 4, false)\\nN: 110\\n\",\"GridWorldState(8, 2, false)\\nN: 551\\n\",\"GridWorldState(7, 2, false)\\nN: 667\\n\",\"GridWorldState(4, 3, false)\\nN: 87\\n\",\"GridWorldState(5, 5, false)\\nN: 14\\n\",\"GridWorldState(6, 3, false)\\nN: 219\\n\",\"GridWorldState(2, 3, false)\\nN: 160\\n\",\"GridWorldState(5, 2, false)\\nN: 546\\n\",\"GridWorldState(4, 5, false)\\nN: 7\\n\",\"GridWorldState(2, 6, false)\\nN: 18\\n\",\"GridWorldState(7, 2, false)\\nN: 667\\n\",\"GridWorldState(8, 6, false)\\nN: 9\\n\",\"GridWorldState(8, 1, false)\\nN: 450\\n\",\"GridWorldState(1, 3, false)\\nN: 188\\n\",\"GridWorldState(3, 5, false)\\nN: 22\\n\",\"GridWorldState(6, 3, false)\\nN: 219\\n\",\"GridWorldState(3, 2, false)\\nN: 319\\n\",\"GridWorldState(9, 3, false)\\nN: 498\\n\",\"GridWorldState(6, 3, false)\\nN: 219\\n\",\"GridWorldState(7, 3, false)\\nN: 452\\n\",\"GridWorldState(8, 6, false)\\nN: 9\\n\",\"GridWorldState(10, 4, false)\\nN: 25\\n\",\"GridWorldState(4, 1, false)\\nN: 1843\\n\",\"GridWorldState(9, 6, false)\\nN: 1\\n\",\"GridWorldState(5, 3, false)\\nN: 126\\n\",\"GridWorldState(2, 1, false)\\nN: 448\\n\",\"GridWorldState(4, 3, false)\\nN: 87\\n\",\"GridWorldState(3, 4, false)\\nN: 53\\n\",\"GridWorldState(3, 4, false)\\nN: 53\\n\",\"GridWorldState(1, 1, false)\\nN: 325\\n\",\"GridWorldState(1, 6, false)\\nN: 28\\n\",\"GridWorldState(1, 4, false)\\nN: 110\\n\",\"GridWorldState(6, 6, false)\\nN: 11\\n\",\"GridWorldState(5, 5, false)\\nN: 14\\n\",\"GridWorldState(1, 1, false)\\nN: 325\\n\",\"GridWorldState(8, 4, false)\\nN: 97\\n\",\"GridWorldState(6, 4, false)\\nN: 69\\n\",\"GridWorldState(2, 2, false)\\nN: 305\\n\",\"GridWorldState(9, 1, false)\\nN: 182\\n\",\"GridWorldState(1, 1, false)\\nN: 325\\n\",\"GridWorldState(1, 3, false)\\nN: 188\\n\",\"GridWorldState(5, 9, false)\\nN: 0\\n\",\"GridWorldState(2, 2, false)\\nN: 305\\n\",\"GridWorldState(5, 4, false)\\nN: 45\\n\",\"GridWorldState(4, 3, false)\\nN: 87\\n\",\"GridWorldState(4, 1, false)\\nN: 1843\\n\",\"GridWorldState(3, 4, false)\\nN: 53\\n\",\"GridWorldState(6, 4, false)\\nN: 69\\n\",\"GridWorldState(4, 6, true)\\nN: 0\\n\",\"GridWorldState(6, 3, false)\\nN: 219\\n\",\"GridWorldState(6, 6, false)\\nN: 11\\n\",\"GridWorldState(7, 2, false)\\nN: 667\\n\",\"GridWorldState(8, 1, false)\\nN: 450\\n\",\"GridWorldState(3, 1, false)\\nN: 801\\n\",\"GridWorldState(4, 2, false)\\nN: 499\\n\",\"GridWorldState(4, 4, false)\\nN: 26\\n\",\"GridWorldState(6, 4, false)\\nN: 69\\n\",\"GridWorldState(8, 8, true)\\nN: 0\\n\",\"GridWorldState(8, 2, false)\\nN: 551\\n\",\"GridWorldState(4, 3, false)\\nN: 87\\n\",\"GridWorldState(7, 7, false)\\nN: 3\\n\",\"GridWorldState(3, 6, false)\\nN: 11\\n\",\"GridWorldState(2, 6, false)\\nN: 18\\n\",\"GridWorldState(5, 4, false)\\nN: 45\\n\",\"GridWorldState(7, 2, false)\\nN: 667\\n\",\"GridWorldState(5, 1, false)\\nN: 1067\\n\",\"GridWorldState(8, 5, false)\\nN: 23\\n\",\"GridWorldState(7, 5, false)\\nN: 34\\n\",\"GridWorldState(5, 5, false)\\nN: 14\\n\",\"GridWorldState(4, 4, false)\\nN: 26\\n\",\"GridWorldState(5, 4, false)\\nN: 45\\n\",\"GridWorldState(9, 2, false)\\nN: 391\\n\",\"GridWorldState(3, 1, false)\\nN: 801\\n\",\"GridWorldState(8, 5, false)\\nN: 23\\n\",\"GridWorldState(1, 2, false)\\nN: 224\\n\",\"GridWorldState(7, 1, false)\\nN: 630\\n\",\"GridWorldState(9, 3, false)\\nN: 498\\n\",\"GridWorldState(6, 5, false)\\nN: 21\\n\",\"GridWorldState(1, 5, false)\\nN: 69\\n\",\"GridWorldState(7, 4, false)\\nN: 104\\n\",\"GridWorldState(8, 3, false)\\nN: 381\\n\",\"GridWorldState(8, 7, false)\\nN: 2\\n\",\"GridWorldState(6, 1, false)\\nN: 839\\n\",\"GridWorldState(9, 2, false)\\nN: 391\\n\",\"GridWorldState(4, 2, false)\\nN: 499\\n\",\"GridWorldState(8, 5, false)\\nN: 23\\n\",\"GridWorldState(9, 2, false)\\nN: 391\\n\",\"GridWorldState(1, 5, false)\\nN: 69\\n\",\"GridWorldState(4, 3, true)\\nN: 0\\n\",\"GridWorldState(7, 7, false)\\nN: 3\\n\",\"GridWorldState(2, 3, false)\\nN: 160\\n\",\"GridWorldState(7, 6, false)\\nN: 14\\n\",\"GridWorldState(1, 5, false)\\nN: 69\\n\",\"GridWorldState(8, 2, false)\\nN: 551\\n\",\"GridWorldState(4, 4, false)\\nN: 26\\n\",\"GridWorldState(4, 3, false)\\nN: 87\\n\",\"GridWorldState(3, 3, false)\\nN: 109\\n\",\"GridWorldState(8, 1, false)\\nN: 450\\n\",\"GridWorldState(5, 8, false)\\nN: 2\\n\",\"GridWorldState(8, 1, false)\\nN: 450\\n\",\"GridWorldState(1, 4, false)\\nN: 110\\n\",\"GridWorldState(1, 1, false)\\nN: 325\\n\",\"GridWorldState(8, 7, false)\\nN: 2\\n\",\"GridWorldState(4, 1, false)\\nN: 1843\\n\",\"GridWorldState(8, 1, false)\\nN: 450\\n\",\"GridWorldState(5, 1, false)\\nN: 1067\\n\",\"GridWorldState(10, 4, false)\\nN: 25\\n\",\"GridWorldState(9, 4, false)\\nN: 37\\n\",\"GridWorldState(7, 3, false)\\nN: 452\\n\",\"GridWorldState(3, 2, false)\\nN: 319\\n\",\"GridWorldState(8, 1, false)\\nN: 450\\n\",\"GridWorldState(4, 1, false)\\nN: 1843\\n\",\"GridWorldState(10, 2, false)\\nN: 87\\n\",\"GridWorldState(2, 4, false)\\nN: 80\\n\",\"GridWorldState(2, 4, false)\\nN: 80\\n\",\"GridWorldState(1, 2, false)\\nN: 224\\n\",\"GridWorldState(3, 5, false)\\nN: 22\\n\",\"GridWorldState(5, 3, false)\\nN: 126\\n\",\"GridWorldState(7, 4, false)\\nN: 104\\n\",\"GridWorldState(10, 2, false)\\nN: 87\\n\",\"GridWorldState(6, 2, false)\\nN: 653\\n\",\"GridWorldState(2, 2, false)\\nN: 305\\n\",\"GridWorldState(2, 1, false)\\nN: 448\\n\",\"GridWorldState(4, 4, false)\\nN: 26\\n\",\"GridWorldState(1, 3, false)\\nN: 188\\n\",\"GridWorldState(5, 2, false)\\nN: 546\\n\",\"GridWorldState(4, 2, false)\\nN: 499\\n\",\"GridWorldState(1, 3, false)\\nN: 188\\n\",\"GridWorldState(6, 5, false)\\nN: 21\\n\",\"GridWorldState(8, 1, false)\\nN: 450\\n\",\"GridWorldState(5, 4, false)\\nN: 45\\n\",\"GridWorldState(10, 1, false)\\nN: 79\\n\",\"GridWorldState(6, 2, false)\\nN: 653\\n\",\"GridWorldState(9, 3, false)\\nN: 498\\n\",\"GridWorldState(7, 1, false)\\nN: 630\\n\",\"GridWorldState(1, 2, false)\\nN: 224\\n\",\"GridWorldState(10, 4, false)\\nN: 25\\n\",\"GridWorldState(7, 4, false)\\nN: 104\\n\",\"GridWorldState(6, 1, false)\\nN: 839\\n\",\"GridWorldState(8, 6, false)\\nN: 9\\n\",\"GridWorldState(6, 6, false)\\nN: 11\\n\",\"GridWorldState(7, 5, false)\\nN: 34\\n\",\"GridWorldState(7, 6, false)\\nN: 14\\n\",\"GridWorldState(1, 1, false)\\nN: 325\\n\",\"GridWorldState(5, 2, false)\\nN: 546\\n\",\"GridWorldState(5, 2, false)\\nN: 546\\n\",\"GridWorldState(1, 8, false)\\nN: 0\\n\",\"GridWorldState(7, 3, false)\\nN: 452\\n\",\"GridWorldState(7, 3, false)\\nN: 452\\n\",\"GridWorldState(6, 3, false)\\nN: 219\\n\",\"GridWorldState(9, 3, true)\\nN: 0\\n\",\"GridWorldState(6, 6, false)\\nN: 11\\n\",\"GridWorldState(2, 4, false)\\nN: 80\\n\",\"GridWorldState(7, 2, false)\\nN: 667\\n\",\"GridWorldState(5, 6, false)\\nN: 4\\n\",\"GridWorldState(2, 4, false)\\nN: 80\\n\",\"GridWorldState(2, 3, false)\\nN: 160\\n\",\"GridWorldState(10, 2, false)\\nN: 87\\n\",\"GridWorldState(7, 2, false)\\nN: 667\\n\",\"GridWorldState(2, 3, false)\\nN: 160\\n\",\"GridWorldState(8, 4, false)\\nN: 97\\n\",\"GridWorldState(3, 3, false)\\nN: 109\\n\",\"GridWorldState(3, 4, false)\\nN: 53\\n\",\"GridWorldState(4, 3, false)\\nN: 87\\n\",\"GridWorldState(1, 2, false)\\nN: 224\\n\",\"GridWorldState(3, 4, false)\\nN: 53\\n\",\"GridWorldState(3, 2, false)\\nN: 319\\n\",\"GridWorldState(4, 1, false)\\nN: 1843\\n\",\"GridWorldState(5, 3, false)\\nN: 126\\n\",\"GridWorldState(8, 3, false)\\nN: 381\\n\",\"GridWorldState(10, 5, false)\\nN: 3\\n\",\"GridWorldState(9, 3, false)\\nN: 498\\n\",\"GridWorldState(2, 5, false)\\nN: 36\\n\",\"GridWorldState(2, 4, false)\\nN: 80\\n\",\"GridWorldState(4, 3, true)\\nN: 0\\n\",\"GridWorldState(1, 4, false)\\nN: 110\\n\",\"GridWorldState(8, 4, false)\\nN: 97\\n\",\"GridWorldState(6, 7, false)\\nN: 4\\n\",\"GridWorldState(2, 1, false)\\nN: 448\\n\",\"GridWorldState(7, 5, false)\\nN: 34\\n\",\"GridWorldState(8, 7, false)\\nN: 2\\n\",\"GridWorldState(9, 1, false)\\nN: 182\\n\",\"GridWorldState(3, 2, false)\\nN: 319\\n\",\"GridWorldState(9, 7, false)\\nN: 0\\n\",\"GridWorldState(9, 5, false)\\nN: 13\\n\",\"GridWorldState(4, 3, false)\\nN: 87\\n\",\"GridWorldState(6, 2, false)\\nN: 653\\n\",\"GridWorldState(5, 3, false)\\nN: 126\\n\",\"GridWorldState(8, 2, false)\\nN: 551\\n\",\"GridWorldState(8, 1, false)\\nN: 450\\n\",\"GridWorldState(7, 6, false)\\nN: 14\\n\",\"GridWorldState(10, 2, false)\\nN: 87\\n\",\"GridWorldState(1, 4, false)\\nN: 110\\n\",\"GridWorldState(5, 2, false)\\nN: 546\\n\",\"GridWorldState(6, 1, false)\\nN: 839\\n\",\"GridWorldState(5, 4, false)\\nN: 45\\n\",\"GridWorldState(2, 3, false)\\nN: 160\\n\",\"GridWorldState(8, 3, false)\\nN: 381\\n\",\"GridWorldState(4, 5, false)\\nN: 7\\n\",\"GridWorldState(3, 3, false)\\nN: 109\\n\",\"GridWorldState(7, 3, false)\\nN: 452\\n\",\"GridWorldState(5, 2, false)\\nN: 546\\n\",\"GridWorldState(8, 2, false)\\nN: 551\\n\",\"GridWorldState(10, 1, false)\\nN: 79\\n\",\"GridWorldState(2, 1, false)\\nN: 448\\n\",\"GridWorldState(6, 5, false)\\nN: 21\\n\",\"GridWorldState(1, 5, false)\\nN: 69\\n\",\"GridWorldState(4, 3, true)\\nN: 0\\n\",\"GridWorldState(3, 5, false)\\nN: 22\\n\",\"GridWorldState(4, 3, false)\\nN: 87\\n\",\"GridWorldState(3, 4, false)\\nN: 53\\n\",\"GridWorldState(1, 3, false)\\nN: 188\\n\",\"GridWorldState(9, 2, false)\\nN: 391\\n\",\"GridWorldState(3, 2, false)\\nN: 319\\n\",\"GridWorldState(7, 4, false)\\nN: 104\\n\",\"GridWorldState(7, 2, false)\\nN: 667\\n\",\"GridWorldState(3, 6, false)\\nN: 11\\n\",\"GridWorldState(1, 8, false)\\nN: 0\\n\",\"GridWorldState(7, 3, false)\\nN: 452\\n\",\"GridWorldState(4, 4, false)\\nN: 26\\n\",\"GridWorldState(3, 3, false)\\nN: 109\\n\",\"GridWorldState(3, 2, false)\\nN: 319\\n\",\"GridWorldState(2, 4, false)\\nN: 80\\n\",\"GridWorldState(9, 1, false)\\nN: 182\\n\",\"GridWorldState(2, 3, false)\\nN: 160\\n\",\"GridWorldState(8, 3, false)\\nN: 381\\n\",\"GridWorldState(6, 8, false)\\nN: 2\\n\",\"GridWorldState(7, 4, false)\\nN: 104\\n\",\"GridWorldState(2, 3, false)\\nN: 160\\n\",\"GridWorldState(6, 2, false)\\nN: 653\\n\",\"GridWorldState(1, 5, false)\\nN: 69\\n\",\"GridWorldState(1, 6, false)\\nN: 28\\n\",\"GridWorldState(3, 6, false)\\nN: 11\\n\",\"GridWorldState(5, 4, false)\\nN: 45\\n\",\"GridWorldState(5, 1, false)\\nN: 1067\\n\",\"GridWorldState(6, 5, false)\\nN: 21\\n\",\"GridWorldState(3, 1, false)\\nN: 801\\n\",\"GridWorldState(5, 2, false)\\nN: 546\\n\",\"GridWorldState(4, 5, false)\\nN: 7\\n\",\"GridWorldState(5, 2, false)\\nN: 546\\n\",\"GridWorldState(9, 3, false)\\nN: 498\\n\",\"GridWorldState(1, 4, false)\\nN: 110\\n\",\"GridWorldState(3, 5, false)\\nN: 22\\n\",\"GridWorldState(9, 5, false)\\nN: 13\\n\",\"GridWorldState(5, 3, false)\\nN: 126\\n\",\"GridWorldState(6, 3, false)\\nN: 219\\n\",\"GridWorldState(3, 2, false)\\nN: 319\\n\",\"GridWorldState(4, 4, false)\\nN: 26\\n\",\"GridWorldState(7, 4, false)\\nN: 104\\n\",\"GridWorldState(4, 2, false)\\nN: 499\\n\",\"GridWorldState(3, 2, false)\\nN: 319\\n\",\"GridWorldState(7, 2, false)\\nN: 667\\n\",\"GridWorldState(3, 3, false)\\nN: 109\\n\",\"GridWorldState(10, 1, false)\\nN: 79\\n\",\"GridWorldState(1, 6, false)\\nN: 28\\n\",\"GridWorldState(4, 2, false)\\nN: 499\\n\",\"GridWorldState(2, 3, false)\\nN: 160\\n\",\"GridWorldState(5, 2, false)\\nN: 546\\n\",\"GridWorldState(10, 5, false)\\nN: 3\\n\",\"GridWorldState(1, 3, false)\\nN: 188\\n\",\"GridWorldState(8, 4, false)\\nN: 97\\n\",\"GridWorldState(6, 3, false)\\nN: 219\\n\",\"GridWorldState(6, 4, false)\\nN: 69\\n\",\"GridWorldState(6, 4, false)\\nN: 69\\n\",\"GridWorldState(1, 5, false)\\nN: 69\\n\",\"GridWorldState(5, 2, false)\\nN: 546\\n\",\"GridWorldState(2, 6, false)\\nN: 18\\n\",\"GridWorldState(8, 4, false)\\nN: 97\\n\",\"GridWorldState(6, 3, false)\\nN: 219\\n\",\"GridWorldState(2, 1, false)\\nN: 448\\n\",\"GridWorldState(9, 1, false)\\nN: 182\\n\",\"GridWorldState(7, 6, false)\\nN: 14\\n\",\"GridWorldState(9, 1, false)\\nN: 182\\n\",\"up\\nQ: -0.4078770835482364\\nN: 218\\n\",\"down\\nQ: 0.0\\nN: 360\\n\",\"left\\nQ: -0.09466441387534318\\nN: 328\\n\",\"right\\nQ: 1.7120826392941855\\nN: 937\\n\",\"up\\nQ: -7.4881125\\nN: 8\\n\",\"down\\nQ: -1.13245774926821\\nN: 99\\n\",\"left\\nQ: -1.8130285136423498\\nN: 62\\n\",\"right\\nQ: 0.32585595683787705\\nN: 330\\n\",\"up\\nQ: -1.2441550449864995\\nN: 76\\n\",\"down\\nQ: 0.0\\nN: 235\\n\",\"left\\nQ: 0.004450493893353835\\nN: 227\\n\",\"right\\nQ: 0.4306159083851612\\nN: 263\\n\",\"up\\nQ: 0.33206128690561626\\nN: 123\\n\",\"down\\nQ: 0.0\\nN: 98\\n\",\"left\\nQ: -0.833076054531613\\nN: 53\\n\",\"right\\nQ: 2.5040171915618687\\nN: 793\\n\",\"up\\nQ: -3.3819906480982938\\nN: 17\\n\",\"down\\nQ: -0.7718191400035099\\nN: 45\\n\",\"left\\nQ: -0.7140758644741303\\nN: 46\\n\",\"right\\nQ: 2.13311486635538\\nN: 438\\n\",\"up\\nQ: -1.3433665572445983\\nN: 47\\n\",\"down\\nQ: -0.12151386430630916\\nN: 94\\n\",\"left\\nQ: -0.21589614735337498\\nN: 108\\n\",\"right\\nQ: -0.7908569561249997\\nN: 70\\n\",\"up\\nQ: -10.0\\nN: 22\\n\",\"down\\nQ: -10.0\\nN: 22\\n\",\"left\\nQ: -10.0\\nN: 22\\n\",\"right\\nQ: -10.0\\nN: 21\\n\",\"up\\nQ: -0.1341144146361733\\nN: 101\\n\",\"down\\nQ: 0.0\\nN: 126\\n\",\"left\\nQ: 0.028381909175004053\\nN: 121\\n\",\"right\\nQ: -0.1677833444622974\\nN: 100\\n\",\"up\\nQ: -1.3429898480769231\\nN: 26\\n\",\"down\\nQ: -0.9397144494299998\\nN: 33\\n\",\"left\\nQ: -8.03898\\nN: 5\\n\",\"right\\nQ: 0.7717081420204651\\nN: 62\\n\",\"up\\nQ: 1.5776953433324539\\nN: 178\\n\",\"down\\nQ: 0.0\\nN: 60\\n\",\"left\\nQ: 0.18558913552450448\\nN: 60\\n\",\"right\\nQ: 3.3539693711120453\\nN: 541\\n\",\"up\\nQ: 2.3699272010097765\\nN: 99\\n\",\"down\\nQ: 0.0\\nN: 30\\n\",\"left\\nQ: 0.0\\nN: 26\\n\",\"right\\nQ: 4.00708300940483\\nN: 475\\n\",\"up\\nQ: -0.10974499840198663\\nN: 38\\n\",\"down\\nQ: 1.1433253205627558\\nN: 82\\n\",\"left\\nQ: -0.9032544515319283\\nN: 29\\n\",\"right\\nQ: 3.2182123474237208\\nN: 504\\n\",\"up\\nQ: -0.20573306594936625\\nN: 71\\n\",\"down\\nQ: -0.14250492\\nN: 75\\n\",\"left\\nQ: -0.1421765978115953\\nN: 74\\n\",\"right\\nQ: 0.04036041094001292\\nN: 85\\n\",\"up\\nQ: -0.20447898441224405\\nN: 25\\n\",\"down\\nQ: 0.8229841586357143\\nN: 42\\n\",\"left\\nQ: 0.2760288496621535\\nN: 31\\n\",\"right\\nQ: 3.0972472134280893\\nN: 121\\n\",\"up\\nQ: -0.26150883007500003\\nN: 12\\n\",\"down\\nQ: 0.9424489401000001\\nN: 20\\n\",\"left\\nQ: -0.87966\\nN: 15\\n\",\"right\\nQ: 1.3130502289406798\\nN: 22\\n\",\"up\\nQ: -0.13732325581395352\\nN: 43\\n\",\"down\\nQ: -0.3665250000000001\\nN: 40\\n\",\"left\\nQ: -0.03338410596702129\\nN: 47\\n\",\"right\\nQ: -0.8093360700000002\\nN: 30\\n\",\"up\\nQ: -0.34531578947368424\\nN: 19\\n\",\"down\\nQ: -0.405\\nN: 18\\n\",\"left\\nQ: 0.0\\nN: 21\\n\",\"right\\nQ: 0.0\\nN: 22\\n\",\"up\\nQ: 0.0\\nN: 0\\n\",\"down\\nQ: 0.0\\nN: 0\\n\",\"left\\nQ: 0.0\\nN: 0\\n\",\"right\\nQ: 0.0\\nN: 0\\n\",\"up\\nQ: -0.5755973050125001\\nN: 40\\n\",\"down\\nQ: -1.8101350499999997\\nN: 21\\n\",\"left\\nQ: -0.8812183743486485\\nN: 37\\n\",\"right\\nQ: -4.090909090909091\\nN: 11\\n\",\"up\\nQ: -0.028018803222321434\\nN: 56\\n\",\"down\\nQ: -0.07552056315789474\\nN: 57\\n\",\"left\\nQ: 0.0\\nN: 58\\n\",\"right\\nQ: -0.13525609131348115\\nN: 53\\n\",\"up\\nQ: 4.087508959529017\\nN: 385\\n\",\"down\\nQ: 0.5183012035857274\\nN: 33\\n\",\"left\\nQ: 0.5906308532142858\\nN: 28\\n\",\"right\\nQ: 3.908089044443796\\nN: 221\\n\",\"up\\nQ: 1.17142147353375\\nN: 24\\n\",\"down\\nQ: 0.9002918145923999\\nN: 25\\n\",\"left\\nQ: 0.0\\nN: 15\\n\",\"right\\nQ: 5.247025123928528\\nN: 388\\n\",\"up\\nQ: 0.7330500000000002\\nN: 18\\n\",\"down\\nQ: 2.0555023336959377\\nN: 32\\n\",\"left\\nQ: -0.3186869987769231\\nN: 13\\n\",\"right\\nQ: 2.2282081972155003\\nN: 41\\n\",\"up\\nQ: -1.6804918125000001\\nN: 8\\n\",\"down\\nQ: 0.2278944052941176\\nN: 17\\n\",\"left\\nQ: -1.6460336126250004\\nN: 8\\n\",\"right\\nQ: -2.0167670925000003\\nN: 12\\n\",\"up\\nQ: -0.1281618284318182\\nN: 44\\n\",\"down\\nQ: 0.0\\nN: 46\\n\",\"left\\nQ: 0.0\\nN: 53\\n\",\"right\\nQ: 0.0\\nN: 45\\n\",\"up\\nQ: -2.4183064653749997\\nN: 16\\n\",\"down\\nQ: 0.0\\nN: 16\\n\",\"left\\nQ: 0.0\\nN: 16\\n\",\"right\\nQ: -5.58501642\\nN: 5\\n\",\"up\\nQ: -0.11542898520000003\\nN: 75\\n\",\"down\\nQ: 0.0\\nN: 80\\n\",\"left\\nQ: 0.0\\nN: 92\\n\",\"right\\nQ: 0.02932922109610385\\nN: 78\\n\",\"up\\nQ: 4.469893815782903\\nN: 93\\n\",\"down\\nQ: 0.0\\nN: 18\\n\",\"left\\nQ: 3.514844816669423\\nN: 52\\n\",\"right\\nQ: 5.888033928375603\\nN: 388\\n\",\"up\\nQ: 0.0\\nN: 30\\n\",\"down\\nQ: -0.29124147780000004\\nN: 25\\n\",\"left\\nQ: 0.0\\nN: 28\\n\",\"right\\nQ: -0.07174453499999998\\nN: 27\\n\",\"up\\nQ: 4.994247515786956\\nN: 292\\n\",\"down\\nQ: 0.0\\nN: 16\\n\",\"left\\nQ: 3.7835162783460565\\nN: 95\\n\",\"right\\nQ: 3.5028205909085117\\nN: 47\\n\",\"up\\nQ: 0.0\\nN: 5\\n\",\"down\\nQ: 0.0\\nN: 5\\n\",\"left\\nQ: -0.32285040750000005\\nN: 6\\n\",\"right\\nQ: -0.7290000000000001\\nN: 5\\n\",\"up\\nQ: 1.5051225\\nN: 12\\n\",\"down\\nQ: 3.574216256086957\\nN: 23\\n\",\"left\\nQ: 0.0\\nN: 8\\n\",\"right\\nQ: 7.407078086845692\\nN: 338\\n\",\"up\\nQ: -0.134521003125\\nN: 16\\n\",\"down\\nQ: 0.0\\nN: 16\\n\",\"left\\nQ: 0.0\\nN: 22\\n\",\"right\\nQ: -0.395847\\nN: 15\\n\",\"up\\nQ: 0.5785714285714285\\nN: 14\\n\",\"down\\nQ: 2.599940565038571\\nN: 21\\n\",\"left\\nQ: 0.73288591425\\nN: 14\\n\",\"right\\nQ: 4.4127859691165625\\nN: 48\\n\",\"up\\nQ: -3.1646175000000003\\nN: 6\\n\",\"down\\nQ: -5.512499999999999\\nN: 4\\n\",\"left\\nQ: -5.817012315\\nN: 6\\n\",\"right\\nQ: 0.0\\nN: 10\\n\",\"up\\nQ: -1.3499999999999999\\nN: 3\\n\",\"down\\nQ: -2.3707090125\\nN: 4\\n\",\"left\\nQ: 0.0\\nN: 4\\n\",\"right\\nQ: 0.0\\nN: 3\\n\",\"up\\nQ: 7.8126122443625645\\nN: 358\\n\",\"down\\nQ: 1.0646357142857146\\nN: 14\\n\",\"left\\nQ: 0.8181818181818182\\nN: 11\\n\",\"right\\nQ: 0.0\\nN: 8\\n\",\"up\\nQ: -0.34164064285714296\\nN: 7\\n\",\"down\\nQ: 0.0\\nN: 7\\n\",\"left\\nQ: 0.0\\nN: 8\\n\",\"right\\nQ: 0.0\\nN: 6\\n\",\"up\\nQ: -2.25\\nN: 2\\n\",\"down\\nQ: -4.5\\nN: 1\\n\",\"left\\nQ: -4.5\\nN: 1\\n\",\"right\\nQ: -2.715\\nN: 3\\n\",\"up\\nQ: 0.5582102445000001\\nN: 6\\n\",\"down\\nQ: 0.0\\nN: 7\\n\",\"left\\nQ: 0.0\\nN: 5\\n\",\"right\\nQ: -0.31381059609000006\\nN: 5\\n\",\"up\\nQ: 10.0\\nN: 125\\n\",\"down\\nQ: 10.0\\nN: 125\\n\",\"left\\nQ: 10.0\\nN: 124\\n\",\"right\\nQ: 10.0\\nN: 124\\n\",\"up\\nQ: 4.029761451724139\\nN: 29\\n\",\"down\\nQ: 2.1586721399999997\\nN: 15\\n\",\"left\\nQ: 5.358140163000001\\nN: 27\\n\",\"right\\nQ: 0.0\\nN: 16\\n\",\"up\\nQ: 5.196997225022729\\nN: 132\\n\",\"down\\nQ: 0.0\\nN: 15\\n\",\"left\\nQ: 2.2736770323798376\\nN: 24\\n\",\"right\\nQ: 0.0\\nN: 11\\n\",\"up\\nQ: -0.3645\\nN: 10\\n\",\"down\\nQ: 0.0\\nN: 10\\n\",\"left\\nQ: -0.32805\\nN: 9\\n\",\"right\\nQ: -1.0414285714285714\\nN: 7\\n\",\"up\\nQ: 0.0\\nN: 2\\n\",\"down\\nQ: 0.0\\nN: 2\\n\",\"left\\nQ: 0.0\\nN: 0\\n\",\"right\\nQ: 0.0\\nN: 0\\n\",\"up\\nQ: 0.0\\nN: 7\\n\",\"down\\nQ: -0.3506155425450001\\nN: 9\\n\",\"left\\nQ: 0.729\\nN: 9\\n\",\"right\\nQ: 0.11622614670000003\\nN: 9\\n\",\"up\\nQ: -0.7845264902250003\\nN: 2\\n\",\"down\\nQ: 0.0\\nN: 3\\n\",\"left\\nQ: 1.0786721400000001\\nN: 5\\n\",\"right\\nQ: 0.0\\nN: 4\\n\",\"up\\nQ: 3.1548626845137937\\nN: 29\\n\",\"down\\nQ: 0.0\\nN: 14\\n\",\"left\\nQ: 2.8595480625000005\\nN: 16\\n\",\"right\\nQ: 0.0\\nN: 20\\n\",\"up\\nQ: 0.0\\nN: 3\\n\",\"down\\nQ: 0.0\\nN: 2\\n\",\"left\\nQ: 0.0\\nN: 3\\n\",\"right\\nQ: 1.1875410000000002\\nN: 3\\n\",\"up\\nQ: -5.0\\nN: 2\\n\",\"down\\nQ: -5.0\\nN: 2\\n\",\"left\\nQ: -5.0\\nN: 2\\n\",\"right\\nQ: -5.0\\nN: 2\\n\",\"up\\nQ: 1.215\\nN: 2\\n\",\"down\\nQ: 0.6457008150000002\\nN: 2\\n\",\"left\\nQ: 0.0\\nN: 2\\n\",\"right\\nQ: 0.0\\nN: 3\\n\",\"up\\nQ: 2.7\\nN: 2\\n\",\"down\\nQ: 0.0\\nN: 0\\n\",\"left\\nQ: 0.0\\nN: 0\\n\",\"right\\nQ: 0.0\\nN: 0\\n\",\"up\\nQ: -1.832625\\nN: 4\\n\",\"down\\nQ: 0.0\\nN: 5\\n\",\"left\\nQ: 0.0\\nN: 5\\n\",\"right\\nQ: -1.0125\\nN: 4\\n\",\"up\\nQ: 2.25\\nN: 4\\n\",\"down\\nQ: 1.215\\nN: 6\\n\",\"left\\nQ: 7.371099999999999\\nN: 18\\n\",\"right\\nQ: 0.0\\nN: 6\\n\",\"up\\nQ: -0.8100000000000002\\nN: 5\\n\",\"down\\nQ: -3.3328623150000003\\nN: 6\\n\",\"left\\nQ: -0.8015901750000001\\nN: 6\\n\",\"right\\nQ: -0.8099999999999999\\nN: 5\\n\",\"up\\nQ: 0.0\\nN: 3\\n\",\"down\\nQ: 4.679235\\nN: 6\\n\",\"left\\nQ: 1.6200000000000003\\nN: 5\\n\",\"right\\nQ: 0.0\\nN: 11\\n\",\"up\\nQ: 0.0\\nN: 0\\n\",\"down\\nQ: 0.0\\nN: 0\\n\",\"left\\nQ: 0.0\\nN: 0\\n\",\"right\\nQ: 0.0\\nN: 0\\n\",\"up\\nQ: 0.0\\nN: 2\\n\",\"down\\nQ: 0.0\\nN: 1\\n\",\"left\\nQ: -4.5\\nN: 1\\n\",\"right\\nQ: 0.0\\nN: 0\\n\",\"up\\nQ: -1.5\\nN: 3\\n\",\"down\\nQ: -1.5\\nN: 3\\n\",\"left\\nQ: 0.0\\nN: 3\\n\",\"right\\nQ: -4.5\\nN: 2\\n\",\"up\\nQ: 0.0\\nN: 2\\n\",\"down\\nQ: -3.645\\nN: 1\\n\",\"left\\nQ: 0.0\\nN: 0\\n\",\"right\\nQ: 0.0\\nN: 0\\n\",\"up\\nQ: 0.0\\nN: 0\\n\",\"down\\nQ: 0.0\\nN: 0\\n\",\"left\\nQ: 0.0\\nN: 0\\n\",\"right\\nQ: 0.0\\nN: 0\\n\",\"up\\nQ: 1.215\\nN: 2\\n\",\"down\\nQ: 0.0\\nN: 1\\n\",\"left\\nQ: 0.0\\nN: 0\\n\",\"right\\nQ: 0.0\\nN: 0\\n\",\"up\\nQ: 0.0\\nN: 1\\n\",\"down\\nQ: 0.0\\nN: 0\\n\",\"left\\nQ: 0.0\\nN: 0\\n\",\"right\\nQ: 0.0\\nN: 0\\n\",\"up\\nQ: 0.0\\nN: 4\\n\",\"down\\nQ: 7.0632\\nN: 25\\n\",\"left\\nQ: 0.0\\nN: 4\\n\",\"right\\nQ: 1.1957422500000001\\nN: 4\\n\",\"up\\nQ: 0.0\\nN: 0\\n\",\"down\\nQ: 0.0\\nN: 0\\n\",\"left\\nQ: 0.0\\nN: 0\\n\",\"right\\nQ: 0.0\\nN: 0\\n\",\"up\\nQ: 3.0\\nN: 1\\n\",\"down\\nQ: 0.0\\nN: 0\\n\",\"left\\nQ: 0.0\\nN: 0\\n\",\"right\\nQ: 0.0\\nN: 0\\n\",\"up\\nQ: 0.0\\nN: 0\\n\",\"down\\nQ: 0.0\\nN: 0\\n\",\"left\\nQ: 0.0\\nN: 0\\n\",\"right\\nQ: 0.0\\nN: 0\\n\",\"up\\nQ: 0.0\\nN: 3\\n\",\"down\\nQ: 0.0\\nN: 3\\n\",\"left\\nQ: 0.0\\nN: 4\\n\",\"right\\nQ: 0.0\\nN: 3\\n\",\"up\\nQ: 0.0\\nN: 1\\n\",\"down\\nQ: 0.0\\nN: 0\\n\",\"left\\nQ: 0.0\\nN: 0\\n\",\"right\\nQ: 0.0\\nN: 0\\n\",\"up\\nQ: 0.0\\nN: 1\\n\",\"down\\nQ: 0.0\\nN: 0\\n\",\"left\\nQ: 0.0\\nN: 0\\n\",\"right\\nQ: 0.0\\nN: 0\\n\",\"up\\nQ: 0.0\\nN: 0\\n\",\"down\\nQ: 0.0\\nN: 0\\n\",\"left\\nQ: 0.0\\nN: 0\\n\",\"right\\nQ: 0.0\\nN: 0\\n\",\"up\\nQ: 0.0\\nN: 2\\n\",\"down\\nQ: 0.0\\nN: 1\\n\",\"left\\nQ: 0.0\\nN: 1\\n\",\"right\\nQ: 0.0\\nN: 0\\n\",\"up\\nQ: 0.0\\nN: 2\\n\",\"down\\nQ: 0.0\\nN: 0\\n\",\"left\\nQ: 0.0\\nN: 0\\n\",\"right\\nQ: 0.0\\nN: 0\\n\",\"up\\nQ: 0.0\\nN: 2\\n\",\"down\\nQ: 0.0\\nN: 0\\n\",\"left\\nQ: 0.0\\nN: 0\\n\",\"right\\nQ: 0.0\\nN: 0\\n\",\"up\\nQ: 0.0\\nN: 3\\n\",\"down\\nQ: 0.0\\nN: 0\\n\",\"left\\nQ: 0.0\\nN: 0\\n\",\"right\\nQ: 0.0\\nN: 0\\n\",\"up\\nQ: 0.0\\nN: 0\\n\",\"down\\nQ: 0.0\\nN: 0\\n\",\"left\\nQ: 0.0\\nN: 0\\n\",\"right\\nQ: 0.0\\nN: 0\\n\",\"up\\nQ: 0.0\\nN: 1\\n\",\"down\\nQ: 0.0\\nN: 0\\n\",\"left\\nQ: 0.0\\nN: 0\\n\",\"right\\nQ: 0.0\\nN: 0\\n\",\"up\\nQ: 0.0\\nN: 0\\n\",\"down\\nQ: 0.0\\nN: 0\\n\",\"left\\nQ: 0.0\\nN: 0\\n\",\"right\\nQ: 0.0\\nN: 0\\n\",\"up\\nQ: 0.0\\nN: 0\\n\",\"down\\nQ: 0.0\\nN: 0\\n\",\"left\\nQ: 0.0\\nN: 0\\n\",\"right\\nQ: 0.0\\nN: 0\\n\",\"up\\nQ: 0.0\\nN: 0\\n\",\"down\\nQ: 0.0\\nN: 0\\n\",\"left\\nQ: 0.0\\nN: 0\\n\",\"right\\nQ: 0.0\\nN: 0\\n\",\"up\\nQ: 0.0\\nN: 0\\n\",\"down\\nQ: 0.0\\nN: 0\\n\",\"left\\nQ: 0.0\\nN: 0\\n\",\"right\\nQ: 0.0\\nN: 0\\n\"],\"style\":[\"\",\"\",\"\",\"\",\"\",\"\",\"\",\"\",\"\",\"\",\"\",\"\",\"\",\"\",\"\",\"\",\"\",\"\",\"\",\"\",\"\",\"\",\"\",\"\",\"\",\"\",\"\",\"\",\"\",\"\",\"\",\"\",\"\",\"\",\"\",\"\",\"\",\"\",\"\",\"\",\"\",\"\",\"\",\"\",\"\",\"\",\"\",\"\",\"\",\"\",\"\",\"\",\"\",\"\",\"\",\"\",\"\",\"\",\"\",\"\",\"\",\"\",\"\",\"\",\"\",\"\",\"\",\"\",\"\",\"\",\"\",\"\",\"\",\"\",\"\",\"\",\"\",\"\",\"\",\"\",\"\",\"\",\"\",\"\",\"\",\"\",\"\",\"\",\"\",\"\",\"\",\"\",\"\",\"\",\"\",\"\",\"\",\"\",\"\",\"\",\"\",\"\",\"\",\"\",\"\",\"\",\"\",\"\",\"\",\"\",\"\",\"\",\"\",\"\",\"\",\"\",\"\",\"\",\"\",\"\",\"\",\"\",\"\",\"\",\"\",\"\",\"\",\"\",\"\",\"\",\"\",\"\",\"\",\"\",\"\",\"\",\"\",\"\",\"\",\"\",\"\",\"\",\"\",\"\",\"\",\"\",\"\",\"\",\"\",\"\",\"\",\"\",\"\",\"\",\"\",\"\",\"\",\"\",\"\",\"\",\"\",\"\",\"\",\"\",\"\",\"\",\"\",\"\",\"\",\"\",\"\",\"\",\"\",\"\",\"\",\"\",\"\",\"\",\"\",\"\",\"\",\"\",\"\",\"\",\"\",\"\",\"\",\"\",\"\",\"\",\"\",\"\",\"\",\"\",\"\",\"\",\"\",\"\",\"\",\"\",\"\",\"\",\"\",\"\",\"\",\"\",\"\",\"\",\"\",\"\",\"\",\"\",\"\",\"\",\"\",\"\",\"\",\"\",\"\",\"\",\"\",\"\",\"\",\"\",\"\",\"\",\"\",\"\",\"\",\"\",\"\",\"\",\"\",\"\",\"\",\"\",\"\",\"\",\"\",\"\",\"\",\"\",\"\",\"\",\"\",\"\",\"\",\"\",\"\",\"\",\"\",\"\",\"\",\"\",\"\",\"\",\"\",\"\",\"\",\"\",\"\",\"\",\"\",\"\",\"\",\"\",\"\",\"\",\"\",\"\",\"\",\"\",\"\",\"\",\"\",\"\",\"\",\"\",\"\",\"\",\"\",\"\",\"\",\"\",\"\",\"\",\"\",\"\",\"\",\"\",\"\",\"\",\"\",\"\",\"\",\"\",\"\",\"\",\"\",\"\",\"\",\"\",\"\",\"\",\"\",\"\",\"\",\"\",\"\",\"\",\"\",\"\",\"\",\"\",\"\",\"\",\"\",\"\",\"\",\"\",\"\",\"\",\"\",\"\",\"\",\"\",\"\",\"\",\"\",\"\",\"\",\"\",\"\",\"\",\"\",\"\",\"\",\"\",\"\",\"\",\"\",\"\",\"\",\"\",\"\",\"\",\"\",\"\",\"\",\"\",\"\",\"\",\"\",\"\",\"\",\"\",\"\",\"\",\"\",\"\",\"\",\"\",\"\",\"\",\"\",\"\",\"\",\"\",\"\",\"\",\"\",\"\",\"\",\"\",\"\",\"\",\"\",\"\",\"\",\"\",\"\",\"\",\"\",\"\",\"\",\"\",\"\",\"\",\"\",\"\",\"\",\"\",\"\",\"\",\"\",\"\",\"\",\"\",\"\",\"\",\"\",\"\",\"\",\"\",\"\",\"\",\"\",\"\",\"\",\"\",\"\",\"\",\"\",\"\",\"\",\"\",\"\",\"\",\"\",\"\",\"\",\"\",\"\",\"\",\"\",\"\",\"\",\"\",\"\",\"\",\"\",\"\",\"\",\"\",\"\",\"\",\"\",\"\",\"\",\"\",\"\",\"\",\"\",\"\",\"\",\"\",\"\",\"\",\"\",\"\",\"\",\"\",\"\",\"\",\"\",\"\",\"\",\"\",\"\",\"\",\"\",\"\",\"\",\"\",\"\",\"\",\"\",\"\",\"\",\"\",\"\",\"\",\"\",\"\",\"\",\"\",\"\",\"\",\"\",\"\",\"\",\"\",\"\",\"\",\"\",\"\",\"\",\"\",\"\",\"\",\"\",\"\",\"\",\"\",\"\",\"\",\"\",\"\",\"\",\"\",\"\",\"\",\"\",\"\",\"\",\"\",\"\",\"\",\"\",\"\",\"\",\"\",\"\",\"\",\"\",\"\",\"\",\"\",\"\",\"\",\"\",\"\",\"\",\"\",\"\",\"\",\"\",\"\",\"\",\"\",\"\",\"\",\"\",\"\",\"\",\"\",\"\",\"\",\"\",\"\",\"\",\"\",\"\",\"\",\"\",\"\",\"\",\"\",\"\",\"\",\"\",\"\",\"\",\"\",\"\",\"\",\"\",\"\",\"\",\"\",\"\",\"\",\"\",\"\",\"\",\"\",\"\",\"\",\"\",\"\",\"\",\"\",\"\",\"\",\"\",\"\",\"\",\"\",\"\",\"\",\"\",\"\",\"\",\"\",\"\",\"\",\"\",\"\",\"\",\"\",\"\",\"\",\"\",\"\",\"\",\"\",\"\",\"\",\"\",\"\",\"\",\"\",\"\",\"\",\"\",\"\",\"\",\"\",\"\",\"\",\"\",\"\",\"\",\"\",\"\",\"\",\"stroke:#853D00\",\"stroke:#7F4000\",\"stroke:#813F00\",\"stroke:#6A4B00\",\"stroke:#DF1000\",\"stroke:#8E3900\",\"stroke:#973400\",\"stroke:#7B4200\",\"stroke:#8F3800\",\"stroke:#7F4000\",\"stroke:#7F4000\",\"stroke:#7A4300\",\"stroke:#7B4200\",\"stroke:#7F4000\",\"stroke:#8A3B00\",\"stroke:#605000\",\"stroke:#AB2A00\",\"stroke:#893B00\",\"stroke:#893B00\",\"stroke:#644E00\",\"stroke:#913700\",\"stroke:#813F00\",\"stroke:#823F00\",\"stroke:#8A3B00\",\"stroke:#FF0000\",\"stroke:#FF0000\",\"stroke:#FF0000\",\"stroke:#FF0000\",\"stroke:#813F00\",\"stroke:#7F4000\",\"stroke:#7F4000\",\"stroke:#823F00\",\"stroke:#913700\",\"stroke:#8B3A00\",\"stroke:#E60D00\",\"stroke:#764500\",\"stroke:#6B4A00\",\"stroke:#7F4000\",\"stroke:#7D4100\",\"stroke:#555500\",\"stroke:#614F00\",\"stroke:#7F4000\",\"stroke:#7F4000\",\"stroke:#4C5A00\",\"stroke:#813F00\",\"stroke:#714700\",\"stroke:#8B3A00\",\"stroke:#565500\",\"stroke:#823F00\",\"stroke:#813F00\",\"stroke:#813F00\",\"stroke:#7F4000\",\"stroke:#823F00\",\"stroke:#754500\",\"stroke:#7C4200\",\"stroke:#585400\",\"stroke:#833E00\",\"stroke:#734600\",\"stroke:#8B3A00\",\"stroke:#6F4800\",\"stroke:#813F00\",\"stroke:#843E00\",\"stroke:#804000\",\"stroke:#8A3B00\",\"stroke:#843E00\",\"stroke:#853D00\",\"stroke:#7F4000\",\"stroke:#7F4000\",\"stroke:#7F4000\",\"stroke:#7F4000\",\"stroke:#7F4000\",\"stroke:#7F4000\",\"stroke:#873C00\",\"stroke:#973400\",\"stroke:#8B3A00\",\"stroke:#B42600\",\"stroke:#804000\",\"stroke:#804000\",\"stroke:#7F4000\",\"stroke:#813F00\",\"stroke:#4B5A00\",\"stroke:#794300\",\"stroke:#784400\",\"stroke:#4E5900\",\"stroke:#714700\",\"stroke:#744600\",\"stroke:#7F4000\",\"stroke:#3D6100\",\"stroke:#764500\",\"stroke:#654D00\",\"stroke:#843E00\",\"stroke:#634E00\",\"stroke:#953500\",\"stroke:#7D4100\",\"stroke:#943600\",\"stroke:#993300\",\"stroke:#813F00\",\"stroke:#7F4000\",\"stroke:#7F4000\",\"stroke:#7F4000\",\"stroke:#9E3100\",\"stroke:#7F4000\",\"stroke:#7F4000\",\"stroke:#C71C00\",\"stroke:#813F00\",\"stroke:#7F4000\",\"stroke:#7F4000\",\"stroke:#7F4000\",\"stroke:#475C00\",\"stroke:#7F4000\",\"stroke:#535600\",\"stroke:#346600\",\"stroke:#7F4000\",\"stroke:#833E00\",\"stroke:#7F4000\",\"stroke:#804000\",\"stroke:#406000\",\"stroke:#7F4000\",\"stroke:#4F5800\",\"stroke:#535600\",\"stroke:#7F4000\",\"stroke:#7F4000\",\"stroke:#843E00\",\"stroke:#893B00\",\"stroke:#6C4A00\",\"stroke:#525700\",\"stroke:#7F4000\",\"stroke:#216F00\",\"stroke:#813F00\",\"stroke:#7F4000\",\"stroke:#7F4000\",\"stroke:#853D00\",\"stroke:#784400\",\"stroke:#5E5100\",\"stroke:#764500\",\"stroke:#475C00\",\"stroke:#A82C00\",\"stroke:#C61D00\",\"stroke:#CA1B00\",\"stroke:#7F4000\",\"stroke:#913700\",\"stroke:#9E3100\",\"stroke:#7F4000\",\"stroke:#7F4000\",\"stroke:#1C7200\",\"stroke:#724700\",\"stroke:#754500\",\"stroke:#7F4000\",\"stroke:#843E00\",\"stroke:#7F4000\",\"stroke:#7F4000\",\"stroke:#7F4000\",\"stroke:#9C3200\",\"stroke:#B92300\",\"stroke:#B92300\",\"stroke:#A22F00\",\"stroke:#784400\",\"stroke:#7F4000\",\"stroke:#7F4000\",\"stroke:#843E00\",\"stroke:#008000\",\"stroke:#008000\",\"stroke:#008000\",\"stroke:#008000\",\"stroke:#4C5A00\",\"stroke:#644E00\",\"stroke:#3B6200\",\"stroke:#7F4000\",\"stroke:#3D6100\",\"stroke:#7F4000\",\"stroke:#634E00\",\"stroke:#7F4000\",\"stroke:#843E00\",\"stroke:#7F4000\",\"stroke:#843E00\",\"stroke:#8D3900\",\"stroke:#7F4000\",\"stroke:#7F4000\",\"stroke:#7F4000\",\"stroke:#7F4000\",\"stroke:#7F4000\",\"stroke:#843E00\",\"stroke:#764500\",\"stroke:#7E4100\",\"stroke:#8A3B00\",\"stroke:#7F4000\",\"stroke:#724700\",\"stroke:#7F4000\",\"stroke:#575400\",\"stroke:#7F4000\",\"stroke:#5B5200\",\"stroke:#7F4000\",\"stroke:#7F4000\",\"stroke:#7F4000\",\"stroke:#7F4000\",\"stroke:#704800\",\"stroke:#BF2000\",\"stroke:#BF2000\",\"stroke:#BF2000\",\"stroke:#BF2000\",\"stroke:#704800\",\"stroke:#774400\",\"stroke:#7F4000\",\"stroke:#7F4000\",\"stroke:#5D5100\",\"stroke:#7F4000\",\"stroke:#7F4000\",\"stroke:#7F4000\",\"stroke:#973400\",\"stroke:#7F4000\",\"stroke:#7F4000\",\"stroke:#8C3A00\",\"stroke:#634E00\",\"stroke:#704800\",\"stroke:#226F00\",\"stroke:#7F4000\",\"stroke:#8A3B00\",\"stroke:#AA2B00\",\"stroke:#8A3B00\",\"stroke:#8A3B00\",\"stroke:#7F4000\",\"stroke:#445E00\",\"stroke:#6B4A00\",\"stroke:#7F4000\",\"stroke:#7F4000\",\"stroke:#7F4000\",\"stroke:#7F4000\",\"stroke:#7F4000\",\"stroke:#7F4000\",\"stroke:#7F4000\",\"stroke:#B92300\",\"stroke:#7F4000\",\"stroke:#933600\",\"stroke:#933600\",\"stroke:#7F4000\",\"stroke:#B92300\",\"stroke:#7F4000\",\"stroke:#AE2900\",\"stroke:#7F4000\",\"stroke:#7F4000\",\"stroke:#7F4000\",\"stroke:#7F4000\",\"stroke:#7F4000\",\"stroke:#7F4000\",\"stroke:#704800\",\"stroke:#7F4000\",\"stroke:#7F4000\",\"stroke:#7F4000\",\"stroke:#7F4000\",\"stroke:#7F4000\",\"stroke:#7F4000\",\"stroke:#7F4000\",\"stroke:#7F4000\",\"stroke:#256D00\",\"stroke:#7F4000\",\"stroke:#704800\",\"stroke:#7F4000\",\"stroke:#7F4000\",\"stroke:#7F4000\",\"stroke:#7F4000\",\"stroke:#595300\",\"stroke:#7F4000\",\"stroke:#7F4000\",\"stroke:#7F4000\",\"stroke:#7F4000\",\"stroke:#7F4000\",\"stroke:#7F4000\",\"stroke:#7F4000\",\"stroke:#7F4000\",\"stroke:#7F4000\",\"stroke:#7F4000\",\"stroke:#7F4000\",\"stroke:#7F4000\",\"stroke:#7F4000\",\"stroke:#7F4000\",\"stroke:#7F4000\",\"stroke:#7F4000\",\"stroke:#7F4000\",\"stroke:#7F4000\",\"stroke:#7F4000\",\"stroke:#7F4000\",\"stroke:#7F4000\",\"stroke:#7F4000\",\"stroke:#7F4000\",\"stroke:#7F4000\",\"stroke:#7F4000\",\"stroke:#7F4000\",\"stroke:#7F4000\",\"stroke:#7F4000\",\"stroke:#7F4000\",\"stroke:#7F4000\",\"stroke:#7F4000\",\"stroke:#7F4000\",\"stroke:#7F4000\",\"stroke:#7F4000\",\"stroke:#7F4000\",\"stroke:#7F4000\",\"stroke:#7F4000\",\"stroke:#7F4000\",\"stroke:#7F4000\",\"stroke:#7F4000\",\"stroke:#7F4000\",\"stroke:#7F4000\",\"stroke:#7F4000\",\"stroke:#7F4000\",\"stroke:#7F4000\",\"stroke:#7F4000\",\"stroke:#7F4000\",\"stroke:#7F4000\",\"stroke:#7F4000\",\"stroke:#7F4000\",\"stroke:#7F4000\",\"stroke:#7F4000\",\"stroke:#7F4000\",\"stroke:#7F4000\",\"stroke:#7F4000\",\"stroke:#7F4000\",\"stroke:#7F4000\",\"stroke:#7F4000\",\"stroke:#7F4000\",\"stroke:#7F4000\",\"stroke:#7F4000\",\"stroke:#7F4000\",\"stroke:#7F4000\"],\"link_style\":[\"stroke-width:20.0px\",\"stroke-width:6.928203230275509px\",\"stroke-width:8.16496580927726px\",\"stroke-width:16.32993161855452px\",\"stroke-width:11.547005383792515px\",\"stroke-width:20.0px\",\"stroke-width:17.88854381999832px\",\"stroke-width:7.1458960101049644px\",\"stroke-width:14.142135623730951px\",\"stroke-width:16.46109783506203px\",\"stroke-width:7.559289460184544px\",\"stroke-width:15.491933384829668px\",\"stroke-width:5.381382351970499px\",\"stroke-width:20.0px\",\"stroke-width:4.714045207910317px\",\"stroke-width:16.32993161855452px\",\"stroke-width:8.0px\",\"stroke-width:8.94427190999916px\",\"stroke-width:16.32993161855452px\",\"stroke-width:20.0px\",\"stroke-width:11.547005383792515px\",\"stroke-width:7.78498944161523px\",\"stroke-width:17.638342073763937px\",\"stroke-width:6.928203230275509px\",\"stroke-width:6.419666752419568px\",\"stroke-width:14.142135623730951px\",\"stroke-width:6.531972647421808px\",\"stroke-width:5.252257314388902px\",\"stroke-width:7.62000762001143px\",\"stroke-width:16.934947677220283px\",\"stroke-width:7.559289460184544px\",\"stroke-width:7.0710678118654755px\",\"stroke-width:20.0px\",\"stroke-width:17.88854381999832px\",\"stroke-width:6.279858256227593px\",\"stroke-width:16.903085094570333px\",\"stroke-width:10.0px\",\"stroke-width:11.607620001760186px\",\"stroke-width:11.547005383792515px\",\"stroke-width:16.32993161855452px\",\"stroke-width:9.128709291752768px\",\"stroke-width:7.888106377466155px\",\"stroke-width:9.82607368881035px\",\"stroke-width:11.547005383792515px\",\"stroke-width:16.903085094570333px\",\"stroke-width:6.666666666666666px\",\"stroke-width:10.0px\",\"stroke-width:7.0710678118654755px\",\"stroke-width:19.32183566158592px\",\"stroke-width:6.452050780644717px\",\"stroke-width:14.446302370292303px\",\"stroke-width:5.0px\",\"stroke-width:7.0710678118654755px\",\"stroke-width:16.877454928053723px\",\"stroke-width:6.030226891555273px\",\"stroke-width:5.773502691896257px\",\"stroke-width:5.773502691896257px\",\"stroke-width:17.227135384282178px\",\"stroke-width:20.0px\",\"stroke-width:16.903085094570333px\",\"stroke-width:16.32993161855452px\",\"stroke-width:20.0px\",\"stroke-width:7.4833147735478835px\",\"stroke-width:5.773502691896257px\",\"stroke-width:9.258200997725513px\",\"stroke-width:20.0px\",\"stroke-width:20.0px\",\"stroke-width:11.547005383792515px\",\"stroke-width:5.0px\",\"stroke-width:7.171371656006361px\",\"stroke-width:11.547005383792515px\",\"stroke-width:15.634719199411434px\",\"stroke-width:6.172133998483677px\",\"stroke-width:11.547005383792515px\",\"stroke-width:5.694947974514994px\",\"stroke-width:8.94427190999916px\",\"stroke-width:16.71063383055436px\",\"stroke-width:16.5597948092273px\",\"stroke-width:5.252257314388902px\",\"stroke-width:6.761234037828132px\",\"stroke-width:14.142135623730951px\",\"stroke-width:10.327955589886443px\",\"stroke-width:11.547005383792515px\",\"stroke-width:16.820428926406503px\",\"stroke-width:4.714045207910317px\",\"stroke-width:16.73320053068151px\",\"stroke-width:8.16496580927726px\",\"stroke-width:14.142135623730951px\",\"stroke-width:16.621933094373063px\",\"stroke-width:8.94427190999916px\",\"stroke-width:16.939791077198397px\",\"stroke-width:5.3452248382484875px\",\"stroke-width:20.0px\",\"stroke-width:6.558258357839529px\",\"stroke-width:16.820428926406503px\",\"stroke-width:9.428090415820634px\",\"stroke-width:4.714045207910317px\",\"stroke-width:7.175315220591461px\",\"stroke-width:7.674901275524077px\",\"stroke-width:16.73320053068151px\",\"stroke-width:20.0px\",\"stroke-width:11.547005383792515px\",\"stroke-width:17.45743121887939px\",\"stroke-width:5.65685424949238px\",\"stroke-width:7.213357077339459px\",\"stroke-width:20.0px\",\"stroke-width:5.1639777949432215px\",\"stroke-width:8.16496580927726px\",\"stroke-width:8.263938705413373px\",\"stroke-width:6.8030134304980745px\",\"stroke-width:17.32050807568877px\",\"stroke-width:11.141720290623113px\",\"stroke-width:7.184212081070997px\",\"stroke-width:8.066268964598326px\",\"stroke-width:16.32993161855452px\",\"stroke-width:7.947194142390263px\",\"stroke-width:6.683960253870804px\",\"stroke-width:5.3452248382484875px\",\"stroke-width:7.175315220591461px\",\"stroke-width:6.831300510639732px\",\"stroke-width:7.0710678118654755px\",\"stroke-width:11.547005383792515px\",\"stroke-width:7.867634957802902px\",\"stroke-width:7.947194142390263px\",\"stroke-width:6.713450866373512px\",\"stroke-width:14.142135623730951px\",\"stroke-width:20.0px\",\"stroke-width:7.0710678118654755px\",\"stroke-width:7.0710678118654755px\",\"stroke-width:7.7184498498795975px\",\"stroke-width:17.116008485592463px\",\"stroke-width:6.666666666666666px\",\"stroke-width:6.324555320336759px\",\"stroke-width:14.142135623730951px\",\"stroke-width:8.320502943378438px\",\"stroke-width:8.06946584785929px\",\"stroke-width:10.327955589886443px\",\"stroke-width:16.62418829187267px\",\"stroke-width:14.907119849998598px\",\"stroke-width:9.551338658818386px\",\"stroke-width:6.030226891555273px\",\"stroke-width:20.0px\",\"stroke-width:10.0px\",\"stroke-width:7.559289460184544px\",\"stroke-width:20.0px\",\"stroke-width:11.547005383792515px\",\"stroke-width:4.85071250072666px\",\"stroke-width:18.516401995451027px\",\"stroke-width:20.0px\",\"stroke-width:10.621700090875887px\",\"stroke-width:3.651483716701107px\",\"stroke-width:8.94427190999916px\",\"stroke-width:7.296214803725779px\",\"stroke-width:14.142135623730951px\",\"stroke-width:5.318160234783105px\",\"stroke-width:6.7267279399631255px\",\"stroke-width:20.0px\",\"stroke-width:8.528028654224418px\",\"stroke-width:16.32993161855452px\",\"stroke-width:11.547005383792515px\",\"stroke-width:20.0px\",\"stroke-width:6.928203230275509px\",\"stroke-width:6.488856845230502px\",\"stroke-width:12.649110640673518px\",\"stroke-width:4.85071250072666px\",\"stroke-width:15.856499343441836px\",\"stroke-width:7.659416862050705px\",\"stroke-width:5.897678246195886px\",\"stroke-width:9.111469032188404px\",\"stroke-width:4.85071250072666px\",\"stroke-width:20.0px\",\"stroke-width:20.0px\",\"stroke-width:16.931233465600393px\",\"stroke-width:6.8030134304980745px\",\"stroke-width:17.258978545253825px\",\"stroke-width:17.45743121887939px\",\"stroke-width:6.030226891555273px\",\"stroke-width:6.523280730534422px\",\"stroke-width:6.110100926607787px\",\"stroke-width:20.0px\",\"stroke-width:18.149704259460602px\",\"stroke-width:15.118578920369089px\",\"stroke-width:9.607689228305228px\",\"stroke-width:8.052459578486431px\",\"stroke-width:11.180339887498949px\",\"stroke-width:6.259014118210532px\",\"stroke-width:7.1458960101049644px\",\"stroke-width:10.0px\",\"stroke-width:4.714045207910317px\",\"stroke-width:14.142135623730951px\",\"stroke-width:17.126976771553505px\",\"stroke-width:11.547005383792515px\",\"stroke-width:8.94427190999916px\",\"stroke-width:11.547005383792515px\",\"stroke-width:10.0px\",\"stroke-width:17.32050807568877px\",\"stroke-width:16.435628072266365px\",\"stroke-width:17.580981459830653px\",\"stroke-width:7.6753774776028205px\",\"stroke-width:5.0px\",\"stroke-width:17.88854381999832px\",\"stroke-width:12.649110640673518px\",\"stroke-width:14.142135623730951px\",\"stroke-width:10.0px\",\"stroke-width:6.488856845230502px\",\"stroke-width:8.052459578486431px\",\"stroke-width:11.547005383792515px\",\"stroke-width:15.689290811054724px\",\"stroke-width:14.142135623730951px\",\"stroke-width:15.0px\",\"stroke-width:17.32050807568877px\",\"stroke-width:14.142135623730951px\",\"stroke-width:8.241633836921341px\",\"stroke-width:20.0px\",\"stroke-width:8.606629658238704px\",\"stroke-width:7.9646797391996635px\",\"stroke-width:16.32993161855452px\",\"stroke-width:11.547005383792515px\",\"stroke-width:16.527877410826747px\",\"stroke-width:5.1639777949432215px\",\"stroke-width:12.649110640673518px\",\"stroke-width:20.0px\",\"stroke-width:20.0px\",\"stroke-width:8.16496580927726px\",\"stroke-width:5.0px\",\"stroke-width:8.346431653605906px\",\"stroke-width:5.47722557505166px\",\"stroke-width:16.32993161855452px\",\"stroke-width:17.32050807568877px\",\"stroke-width:6.221710168382551px\",\"stroke-width:8.94427190999916px\",\"stroke-width:17.638342073763937px\",\"stroke-width:4.364357804719847px\",\"stroke-width:20.0px\",\"stroke-width:11.547005383792515px\",\"stroke-width:6.28335256694382px\",\"stroke-width:16.24283802892963px\",\"stroke-width:6.54653670707977px\",\"stroke-width:20.0px\",\"stroke-width:16.32993161855452px\",\"stroke-width:7.559289460184544px\",\"stroke-width:6.601168002286672px\",\"stroke-width:5.47722557505166px\",\"stroke-width:20.0px\",\"stroke-width:17.88854381999832px\",\"stroke-width:8.544226254106853px\",\"stroke-width:5.443310539518174px\",\"stroke-width:7.844645405527362px\",\"stroke-width:3.481553119113957px\",\"stroke-width:8.072703346825195px\",\"stroke-width:6.030226891555273px\",\"stroke-width:4.747126632775414px\",\"stroke-width:16.97056274847714px\",\"stroke-width:7.47756501105966px\",\"stroke-width:7.1458960101049644px\",\"stroke-width:4.47213595499958px\",\"stroke-width:14.142135623730951px\",\"stroke-width:10.95445115010332px\",\"stroke-width:20.0px\",\"stroke-width:5.65685424949238px\",\"stroke-width:18.09068067466582px\",\"stroke-width:20.0px\",\"stroke-width:15.811388300841898px\",\"stroke-width:7.302967433402214px\",\"stroke-width:7.302967433402214px\",\"stroke-width:6.176109608556767px\",\"stroke-width:5.08000508000762px\",\"stroke-width:20.0px\",\"stroke-width:4.264014327112209px\",\"stroke-width:6.432675209026769px\",\"stroke-width:17.019258867935264px\",\"stroke-width:7.0710678118654755px\",\"stroke-width:20.0px\",\"stroke-width:16.32993161855452px\",\"stroke-width:14.142135623730951px\",\"stroke-width:4.170288281141495px\",\"stroke-width:20.0px\",\"stroke-width:20.0px\",\"stroke-width:16.70894672763861px\",\"stroke-width:6.984302957695782px\",\"stroke-width:7.272727272727273px\",\"stroke-width:11.547005383792515px\",\"stroke-width:8.94427190999916px\",\"stroke-width:11.547005383792515px\",\"stroke-width:8.16496580927726px\",\"stroke-width:6.030226891555273px\",\"stroke-width:7.277914298044486px\",\"stroke-width:16.32993161855452px\",\"stroke-width:17.88854381999832px\",\"stroke-width:20.0px\",\"stroke-width:6.984302957695782px\",\"stroke-width:7.559289460184544px\",\"stroke-width:16.97056274847714px\",\"stroke-width:17.88854381999832px\",\"stroke-width:15.811388300841898px\",\"stroke-width:5.834599659915782px\",\"stroke-width:6.666666666666666px\",\"stroke-width:10.0px\",\"stroke-width:6.253490645343338px\",\"stroke-width:18.586407545691703px\",\"stroke-width:6.488856845230502px\",\"stroke-width:5.773502691896257px\",\"stroke-width:11.547005383792515px\",\"stroke-width:5.897678246195886px\",\"stroke-width:20.0px\",\"stroke-width:14.142135623730951px\",\"stroke-width:17.32050807568877px\",\"stroke-width:15.894388284780526px\",\"stroke-width:6.18852747755276px\",\"stroke-width:17.234549688642783px\",\"stroke-width:7.559289460184544px\",\"stroke-width:16.41360389110399px\",\"stroke-width:8.94427190999916px\",\"stroke-width:10.0px\",\"stroke-width:6.246950475544243px\",\"stroke-width:7.0710678118654755px\",\"stroke-width:5.0px\",\"stroke-width:20.0px\",\"stroke-width:6.666666666666666px\",\"stroke-width:8.16496580927726px\",\"stroke-width:18.149704259460602px\",\"stroke-width:8.16496580927726px\",\"stroke-width:12.649110640673518px\",\"stroke-width:6.50203220264462px\",\"stroke-width:6.74199862463242px\",\"stroke-width:16.78393739647079px\",\"stroke-width:17.75250729197189px\",\"stroke-width:19.06925178491185px\",\"stroke-width:11.547005383792515px\",\"stroke-width:16.126873399000083px\",\"stroke-width:16.857131900996734px\",\"stroke-width:7.0710678118654755px\",\"stroke-width:15.978709238739224px\",\"stroke-width:16.583123951776997px\",\"stroke-width:16.32993161855452px\",\"stroke-width:6.29940788348712px\",\"stroke-width:8.94427190999916px\",\"stroke-width:20.0px\",\"stroke-width:6.900655593423543px\",\"stroke-width:4.649905549752772px\",\"stroke-width:9.534625892455924px\",\"stroke-width:10.0px\",\"stroke-width:20.0px\",\"stroke-width:10.632190661423898px\",\"stroke-width:6.527139518645054px\",\"stroke-width:6.501387639351571px\",\"stroke-width:3.922322702763681px\",\"stroke-width:8.94427190999916px\",\"stroke-width:4.92365963917331px\",\"stroke-width:17.3983534480336px\",\"stroke-width:5.843487097907776px\",\"stroke-width:12.649110640673518px\",\"stroke-width:20.0px\",\"stroke-width:17.020062857772874px\",\"stroke-width:18.257418583505537px\",\"stroke-width:18.257418583505537px\",\"stroke-width:8.606629658238704px\",\"stroke-width:16.32993161855452px\",\"stroke-width:8.16496580927726px\",\"stroke-width:15.657627225176254px\",\"stroke-width:6.030226891555273px\",\"stroke-width:9.607689228305228px\",\"stroke-width:7.223151185146151px\",\"stroke-width:8.94427190999916px\",\"stroke-width:20.0px\",\"stroke-width:8.60283735593596px\",\"stroke-width:11.547005383792515px\",\"stroke-width:6.1190622136426445px\",\"stroke-width:16.165807537309522px\",\"stroke-width:8.528028654224418px\",\"stroke-width:6.030226891555273px\",\"stroke-width:8.94427190999916px\",\"stroke-width:15.894388284780526px\",\"stroke-width:17.32050807568877px\",\"stroke-width:20.0px\",\"stroke-width:8.94427190999916px\",\"stroke-width:14.142135623730951px\",\"stroke-width:20.0px\",\"stroke-width:8.16496580927726px\",\"stroke-width:8.16496580927726px\",\"stroke-width:8.451542547285166px\",\"stroke-width:17.728105208558368px\",\"stroke-width:20.0px\",\"stroke-width:20.0px\",\"stroke-width:14.142135623730951px\",\"stroke-width:6.523280730534422px\",\"stroke-width:4.47213595499958px\",\"stroke-width:6.172133998483677px\",\"stroke-width:7.0710678118654755px\",\"stroke-width:7.559289460184544px\",\"stroke-width:4.85071250072666px\",\"stroke-width:20.0px\",\"stroke-width:6.485637367560112px\",\"stroke-width:8.16496580927726px\",\"stroke-width:5.843487097907776px\",\"stroke-width:6.580195215353793px\",\"stroke-width:20.0px\",\"stroke-width:7.4376843799781px\",\"stroke-width:8.16496580927726px\",\"stroke-width:17.32050807568877px\",\"stroke-width:20.0px\",\"stroke-width:6.601168002286672px\",\"stroke-width:6.786796450506385px\",\"stroke-width:20.0px\",\"stroke-width:20.0px\",\"stroke-width:20.0px\",\"stroke-width:17.097008285302206px\",\"stroke-width:6.886412739037004px\",\"stroke-width:6.338978498293434px\",\"stroke-width:16.32993161855452px\",\"stroke-width:8.16496580927726px\",\"stroke-width:16.32993161855452px\",\"stroke-width:20.0px\",\"stroke-width:17.88854381999832px\",\"stroke-width:6.666666666666666px\",\"stroke-width:7.294587663076778px\",\"stroke-width:16.035674514745462px\",\"stroke-width:18.30669645608227px\",\"stroke-width:13.764944032233705px\",\"stroke-width:5.773502691896257px\",\"stroke-width:16.32993161855452px\",\"stroke-width:17.638342073763937px\",\"stroke-width:5.1639777949432215px\",\"stroke-width:4.0px\",\"stroke-width:14.142135623730951px\",\"stroke-width:17.097008285302206px\",\"stroke-width:5.865884600854132px\",\"stroke-width:4.216370213557839px\",\"stroke-width:20.0px\",\"stroke-width:8.304547985373997px\",\"stroke-width:10.95445115010332px\",\"stroke-width:20.0px\",\"stroke-width:14.142135623730951px\",\"stroke-width:6.030226891555273px\",\"stroke-width:20.0px\",\"stroke-width:10.690449676496975px\",\"stroke-width:17.081593073182848px\",\"stroke-width:4.85071250072666px\",\"stroke-width:17.056057308448835px\",\"stroke-width:6.085806194501846px\",\"stroke-width:7.177405625652734px\",\"stroke-width:20.0px\",\"stroke-width:7.844645405527362px\",\"stroke-width:7.302967433402214px\",\"stroke-width:17.34434911667174px\",\"stroke-width:20.0px\",\"stroke-width:8.066557932144017px\",\"stroke-width:6.793662204867575px\",\"stroke-width:16.865480854231357px\",\"stroke-width:11.547005383792515px\",\"stroke-width:15.491933384829668px\",\"stroke-width:16.464336614795304px\",\"stroke-width:4.026936331284146px\",\"stroke-width:20.0px\",\"stroke-width:16.32993161855452px\",\"stroke-width:16.609095970747994px\",\"stroke-width:8.366600265340756px\",\"stroke-width:5.0px\",\"stroke-width:17.126976771553505px\",\"stroke-width:11.547005383792515px\",\"stroke-width:6.172133998483677px\",\"stroke-width:6.259014118210532px\",\"stroke-width:15.811388300841898px\",\"stroke-width:16.283996417521184px\",\"stroke-width:7.492686492653552px\",\"stroke-width:5.198752449100363px\",\"stroke-width:14.142135623730951px\",\"stroke-width:6.819943394704735px\",\"stroke-width:15.756771943166708px\",\"stroke-width:5.773502691896257px\",\"stroke-width:8.16496580927726px\",\"stroke-width:14.142135623730951px\",\"stroke-width:6.030226891555273px\",\"stroke-width:12.649110640673518px\",\"stroke-width:16.32993161855452px\",\"stroke-width:8.16496580927726px\",\"stroke-width:5.897678246195886px\",\"stroke-width:7.022468831767834px\",\"stroke-width:20.0px\",\"stroke-width:4.0px\",\"stroke-width:7.559289460184544px\",\"stroke-width:16.610666744135873px\",\"stroke-width:14.142135623730951px\",\"stroke-width:17.88854381999832px\",\"stroke-width:8.94427190999916px\",\"stroke-width:11.547005383792515px\",\"stroke-width:5.494422557947561px\",\"stroke-width:17.48402290408501px\",\"stroke-width:7.184212081070997px\",\"stroke-width:14.142135623730951px\",\"stroke-width:6.96568087549032px\",\"stroke-width:6.246950475544243px\",\"stroke-width:6.928203230275509px\",\"stroke-width:20.0px\",\"stroke-width:14.142135623730951px\",\"stroke-width:2.917299829957891px\",\"stroke-width:15.93255013631383px\",\"stroke-width:20.0px\",\"stroke-width:16.583123951776997px\",\"stroke-width:6.135719910778964px\",\"stroke-width:4.714045207910317px\",\"stroke-width:17.17409371552091px\",\"stroke-width:8.846517369293828px\",\"stroke-width:15.118578920369089px\",\"stroke-width:17.32050807568877px\",\"stroke-width:14.770978917519928px\",\"stroke-width:4.399413450640599px\",\"stroke-width:3.067859955389482px\",\"stroke-width:6.488856845230502px\",\"stroke-width:6.575959492214292px\",\"stroke-width:7.184212081070997px\",\"stroke-width:6.59380473395787px\",\"stroke-width:5.547001962252292px\",\"stroke-width:16.32993161855452px\",\"stroke-width:16.098807335735653px\",\"stroke-width:12.47219128924647px\",\"stroke-width:15.249857033260469px\",\"stroke-width:20.0px\",\"stroke-width:8.432740427115679px\",\"stroke-width:6.666666666666666px\",\"stroke-width:20.0px\",\"stroke-width:16.94637091472647px\",\"stroke-width:17.88854381999832px\",\"stroke-width:14.142135623730951px\",\"stroke-width:8.70571500132014px\",\"stroke-width:17.167901505579042px\",\"stroke-width:20.0px\",\"stroke-width:10.690449676496975px\",\"stroke-width:15.491933384829668px\",\"stroke-width:4.85071250072666px\",\"stroke-width:5.962847939999439px\",\"stroke-width:7.0710678118654755px\",\"stroke-width:16.441283084774263px\",\"stroke-width:6.666666666666666px\",\"stroke-width:7.559289460184544px\",\"stroke-width:10.0px\",\"stroke-width:16.32993161855452px\",\"stroke-width:3.244428422615251px\",\"stroke-width:6.030226891555273px\",\"stroke-width:4.649905549752772px\",\"stroke-width:4.08248290463863px\",\"stroke-width:8.16496580927726px\",\"stroke-width:6.324555320336759px\",\"stroke-width:18.708286933869708px\",\"stroke-width:7.26843784311631px\",\"stroke-width:17.1945390724219px\",\"stroke-width:5.443310539518174px\",\"stroke-width:20.0px\",\"stroke-width:7.559289460184544px\",\"stroke-width:8.16496580927726px\",\"stroke-width:20.0px\",\"stroke-width:7.0710678118654755px\",\"stroke-width:8.16496580927726px\",\"stroke-width:15.491933384829668px\",\"stroke-width:16.758611631927845px\",\"stroke-width:17.21325931647741px\",\"stroke-width:7.78498944161523px\",\"stroke-width:19.27248223318863px\",\"stroke-width:6.793662204867575px\",\"stroke-width:14.142135623730951px\",\"stroke-width:14.142135623730951px\",\"stroke-width:6.221710168382551px\",\"stroke-width:12.24744871391589px\",\"stroke-width:8.251369970070346px\",\"stroke-width:18.149704259460602px\",\"stroke-width:7.302967433402214px\",\"stroke-width:10.0px\",\"stroke-width:8.94427190999916px\",\"stroke-width:7.637626158259733px\",\"stroke-width:20.0px\",\"stroke-width:7.637626158259733px\",\"stroke-width:16.865480854231357px\",\"stroke-width:5.1425947722658005px\",\"stroke-width:7.698003589195011px\",\"stroke-width:7.302967433402214px\",\"stroke-width:8.16496580927726px\",\"stroke-width:11.547005383792515px\",\"stroke-width:8.45929270255634px\",\"stroke-width:6.666666666666666px\",\"stroke-width:16.73320053068151px\",\"stroke-width:5.3452248382484875px\",\"stroke-width:10.0px\",\"stroke-width:7.682212795973759px\",\"stroke-width:16.545181073647292px\",\"stroke-width:17.994708216848746px\",\"stroke-width:15.811388300841898px\",\"stroke-width:10.0px\",\"stroke-width:7.4965556829412px\",\"stroke-width:18.064212949190015px\",\"stroke-width:6.030226891555273px\",\"stroke-width:20.0px\",\"stroke-width:7.559289460184544px\",\"stroke-width:16.590037908279932px\",\"stroke-width:8.180473830485294px\",\"stroke-width:16.0px\",\"stroke-width:7.470873676376284px\",\"stroke-width:7.977240352174656px\",\"stroke-width:11.180339887498949px\",\"stroke-width:4.85071250072666px\",\"stroke-width:6.74199862463242px\",\"stroke-width:7.184212081070997px\",\"stroke-width:12.649110640673518px\",\"stroke-width:7.0710678118654755px\",\"stroke-width:17.32050807568877px\",\"stroke-width:6.984302957695782px\",\"stroke-width:5.3452248382484875px\",\"stroke-width:8.94427190999916px\",\"stroke-width:16.73320053068151px\",\"stroke-width:4.588314677411235px\",\"stroke-width:9.428090415820634px\",\"stroke-width:7.050116453778216px\",\"stroke-width:4.264014327112209px\",\"stroke-width:16.20355103300802px\",\"stroke-width:16.583123951776997px\",\"stroke-width:14.142135623730951px\",\"stroke-width:20.0px\",\"stroke-width:6.878529035549099px\",\"stroke-width:8.839314341336625px\",\"stroke-width:8.437314737420683px\",\"stroke-width:14.260577839058712px\",\"stroke-width:2.5323557513316737px\",\"stroke-width:8.908350994144188px\",\"stroke-width:7.049780053136069px\",\"stroke-width:16.26434929888781px\",\"stroke-width:6.1605648524201015px\",\"stroke-width:10.83297320058276px\",\"stroke-width:10.646985588529134px\",\"stroke-width:11.46018456274744px\",\"stroke-width:6.790477924306017px\",\"stroke-width:6.061230833151466px\",\"stroke-width:4.457442204090999px\",\"stroke-width:17.241870529149526px\",\"stroke-width:3.5290526284276997px\",\"stroke-width:5.741692517632146px\",\"stroke-width:5.805138559899643px\",\"stroke-width:17.913099142223295px\",\"stroke-width:7.676859336929188px\",\"stroke-width:10.856718590715783px\",\"stroke-width:11.637147309034246px\",\"stroke-width:9.368793661451104px\",\"stroke-width:10.057307059414878px\",\"stroke-width:10.057307059414878px\",\"stroke-width:10.057307059414878px\",\"stroke-width:9.82607368881035px\",\"stroke-width:9.496239857363094px\",\"stroke-width:10.606601717798211px\",\"stroke-width:10.394023007753749px\",\"stroke-width:9.44911182523068px\",\"stroke-width:9.085135251589959px\",\"stroke-width:10.23532631438318px\",\"stroke-width:3.984095364447979px\",\"stroke-width:14.029447488244033px\",\"stroke-width:9.212107905467594px\",\"stroke-width:5.348409363308017px\",\"stroke-width:5.348409363308017px\",\"stroke-width:16.06007791086269px\",\"stroke-width:7.928249671720918px\",\"stroke-width:4.364357804719847px\",\"stroke-width:4.06299600146696px\",\"stroke-width:17.36626907505759px\",\"stroke-width:4.824643223683448px\",\"stroke-width:7.0872920805637785px\",\"stroke-width:4.214755673880203px\",\"stroke-width:17.570684202342207px\",\"stroke-width:9.649598649599923px\",\"stroke-width:9.917694073609294px\",\"stroke-width:9.851354238269419px\",\"stroke-width:10.558191598757126px\",\"stroke-width:6.757373783994859px\",\"stroke-width:8.758557459257961px\",\"stroke-width:7.5246929881696865px\",\"stroke-width:14.86622232478869px\",\"stroke-width:8.34057656228299px\",\"stroke-width:10.767638041163309px\",\"stroke-width:9.325048082403137px\",\"stroke-width:11.293194051465598px\",\"stroke-width:10.36822067666386px\",\"stroke-width:10.0px\",\"stroke-width:10.8397416943394px\",\"stroke-width:8.660254037844386px\",\"stroke-width:9.746794344808963px\",\"stroke-width:9.486832980505138px\",\"stroke-width:10.2469507659596px\",\"stroke-width:10.488088481701517px\",\"stroke-width:NaNpx\",\"stroke-width:NaNpx\",\"stroke-width:NaNpx\",\"stroke-width:NaNpx\",\"stroke-width:12.115650656307652px\",\"stroke-width:8.778622909288577px\",\"stroke-width:11.65245967655591px\",\"stroke-width:6.353500804836986px\",\"stroke-width:10.0px\",\"stroke-width:10.08889063701824px\",\"stroke-width:10.177004891982149px\",\"stroke-width:9.728456051340169px\",\"stroke-width:15.194885906815472px\",\"stroke-width:4.448607079471757px\",\"stroke-width:4.097755995407859px\",\"stroke-width:11.512329613654801px\",\"stroke-width:4.608572235855411px\",\"stroke-width:4.703604341917987px\",\"stroke-width:3.643396256679452px\",\"stroke-width:18.530052127784398px\",\"stroke-width:8.320502943378438px\",\"stroke-width:11.094003924504584px\",\"stroke-width:7.0710678118654755px\",\"stroke-width:12.557559782549621px\",\"stroke-width:8.432740427115679px\",\"stroke-width:12.292725943057183px\",\"stroke-width:8.432740427115679px\",\"stroke-width:10.327955589886443px\",\"stroke-width:9.675588936937935px\",\"stroke-width:9.893045053244826px\",\"stroke-width:10.619131671036408px\",\"stroke-width:9.784921095801632px\",\"stroke-width:10.988845115895122px\",\"stroke-width:10.988845115895122px\",\"stroke-width:10.988845115895122px\",\"stroke-width:6.142951168339512px\",\"stroke-width:9.607689228305228px\",\"stroke-width:9.922778767136677px\",\"stroke-width:10.64099474817882px\",\"stroke-width:9.797958971132712px\",\"stroke-width:8.216666697344186px\",\"stroke-width:3.614851398772667px\",\"stroke-width:6.144065940360002px\",\"stroke-width:16.78301794880928px\",\"stroke-width:10.44465935734187px\",\"stroke-width:9.534625892455924px\",\"stroke-width:10.09049958219026px\",\"stroke-width:9.908673886137246px\",\"stroke-width:16.110727964792762px\",\"stroke-width:3.7712361663282534px\",\"stroke-width:9.189365834726814px\",\"stroke-width:6.4635731432217725px\",\"stroke-width:9.759000729485333px\",\"stroke-width:9.759000729485333px\",\"stroke-width:10.690449676496975px\",\"stroke-width:9.759000729485333px\",\"stroke-width:3.549426037664455px\",\"stroke-width:4.913957837354385px\",\"stroke-width:2.8980942240088736px\",\"stroke-width:18.83761245605768px\",\"stroke-width:9.630868246861535px\",\"stroke-width:9.630868246861535px\",\"stroke-width:11.293194051465598px\",\"stroke-width:9.325048082403137px\",\"stroke-width:7.5981549578096px\",\"stroke-width:9.305801316615883px\",\"stroke-width:7.5981549578096px\",\"stroke-width:14.06904916225318px\",\"stroke-width:9.607689228305228px\",\"stroke-width:7.844645405527362px\",\"stroke-width:9.607689228305228px\",\"stroke-width:12.403473458920846px\",\"stroke-width:9.258200997725513px\",\"stroke-width:10.690449676496975px\",\"stroke-width:10.690449676496975px\",\"stroke-width:9.258200997725513px\",\"stroke-width:19.137408633541824px\",\"stroke-width:3.7844749489706215px\",\"stroke-width:3.3545785027252366px\",\"stroke-width:2.860794159408606px\",\"stroke-width:10.0px\",\"stroke-width:10.0px\",\"stroke-width:10.690449676496975px\",\"stroke-width:9.258200997725513px\",\"stroke-width:10.690449676496975px\",\"stroke-width:7.559289460184544px\",\"stroke-width:7.559289460184544px\",\"stroke-width:13.09307341415954px\",\"stroke-width:10.215078369104983px\",\"stroke-width:11.03354568734741px\",\"stroke-width:9.325048082403137px\",\"stroke-width:9.325048082403137px\",\"stroke-width:10.02006020070253px\",\"stroke-width:10.02006020070253px\",\"stroke-width:9.979899477163945px\",\"stroke-width:9.979899477163945px\",\"stroke-width:11.547005383792515px\",\"stroke-width:8.304547985373997px\",\"stroke-width:11.141720290623113px\",\"stroke-width:8.57690027870236px\",\"stroke-width:17.032612545052803px\",\"stroke-width:5.741692517632146px\",\"stroke-width:7.262730392025629px\",\"stroke-width:4.916891718944417px\",\"stroke-width:10.540925533894598px\",\"stroke-width:10.540925533894598px\",\"stroke-width:10.0px\",\"stroke-width:8.819171036881968px\",\"stroke-width:14.142135623730951px\",\"stroke-width:14.142135623730951px\",\"stroke-width:0.0px\",\"stroke-width:0.0px\",\"stroke-width:9.074852129730301px\",\"stroke-width:10.289915108550531px\",\"stroke-width:10.289915108550531px\",\"stroke-width:10.289915108550531px\",\"stroke-width:7.559289460184544px\",\"stroke-width:9.258200997725513px\",\"stroke-width:11.952286093343936px\",\"stroke-width:10.690449676496975px\",\"stroke-width:12.117567537999312px\",\"stroke-width:8.419386910539691px\",\"stroke-width:9.000703207408192px\",\"stroke-width:10.063092108532551px\",\"stroke-width:10.44465935734187px\",\"stroke-width:8.528028654224418px\",\"stroke-width:10.44465935734187px\",\"stroke-width:10.44465935734187px\",\"stroke-width:10.0px\",\"stroke-width:10.0px\",\"stroke-width:10.0px\",\"stroke-width:10.0px\",\"stroke-width:9.428090415820634px\",\"stroke-width:9.428090415820634px\",\"stroke-width:9.428090415820634px\",\"stroke-width:11.547005383792515px\",\"stroke-width:20.0px\",\"stroke-width:0.0px\",\"stroke-width:0.0px\",\"stroke-width:0.0px\",\"stroke-width:9.428090415820634px\",\"stroke-width:10.540925533894598px\",\"stroke-width:10.540925533894598px\",\"stroke-width:9.428090415820634px\",\"stroke-width:6.859943405700354px\",\"stroke-width:8.40168050416806px\",\"stroke-width:14.552137502179978px\",\"stroke-width:8.40168050416806px\",\"stroke-width:9.534625892455924px\",\"stroke-width:10.44465935734187px\",\"stroke-width:10.44465935734187px\",\"stroke-width:9.534625892455924px\",\"stroke-width:6.928203230275509px\",\"stroke-width:9.797958971132712px\",\"stroke-width:8.94427190999916px\",\"stroke-width:13.2664991614216px\",\"stroke-width:NaNpx\",\"stroke-width:NaNpx\",\"stroke-width:NaNpx\",\"stroke-width:NaNpx\",\"stroke-width:14.142135623730951px\",\"stroke-width:10.0px\",\"stroke-width:10.0px\",\"stroke-width:0.0px\",\"stroke-width:10.44465935734187px\",\"stroke-width:10.44465935734187px\",\"stroke-width:10.44465935734187px\",\"stroke-width:8.528028654224418px\",\"stroke-width:16.32993161855452px\",\"stroke-width:11.547005383792515px\",\"stroke-width:0.0px\",\"stroke-width:0.0px\",\"stroke-width:NaNpx\",\"stroke-width:NaNpx\",\"stroke-width:NaNpx\",\"stroke-width:NaNpx\",\"stroke-width:16.32993161855452px\",\"stroke-width:11.547005383792515px\",\"stroke-width:0.0px\",\"stroke-width:0.0px\",\"stroke-width:20.0px\",\"stroke-width:0.0px\",\"stroke-width:0.0px\",\"stroke-width:0.0px\",\"stroke-width:6.575959492214292px\",\"stroke-width:16.43989873053573px\",\"stroke-width:6.575959492214292px\",\"stroke-width:6.575959492214292px\",\"stroke-width:NaNpx\",\"stroke-width:NaNpx\",\"stroke-width:NaNpx\",\"stroke-width:NaNpx\",\"stroke-width:20.0px\",\"stroke-width:0.0px\",\"stroke-width:0.0px\",\"stroke-width:0.0px\",\"stroke-width:NaNpx\",\"stroke-width:NaNpx\",\"stroke-width:NaNpx\",\"stroke-width:NaNpx\",\"stroke-width:9.607689228305228px\",\"stroke-width:9.607689228305228px\",\"stroke-width:11.094003924504584px\",\"stroke-width:9.607689228305228px\",\"stroke-width:20.0px\",\"stroke-width:0.0px\",\"stroke-width:0.0px\",\"stroke-width:0.0px\",\"stroke-width:20.0px\",\"stroke-width:0.0px\",\"stroke-width:0.0px\",\"stroke-width:0.0px\",\"stroke-width:NaNpx\",\"stroke-width:NaNpx\",\"stroke-width:NaNpx\",\"stroke-width:NaNpx\",\"stroke-width:14.142135623730951px\",\"stroke-width:10.0px\",\"stroke-width:10.0px\",\"stroke-width:0.0px\",\"stroke-width:20.0px\",\"stroke-width:0.0px\",\"stroke-width:0.0px\",\"stroke-width:0.0px\",\"stroke-width:20.0px\",\"stroke-width:0.0px\",\"stroke-width:0.0px\",\"stroke-width:0.0px\",\"stroke-width:20.0px\",\"stroke-width:0.0px\",\"stroke-width:0.0px\",\"stroke-width:0.0px\",\"stroke-width:NaNpx\",\"stroke-width:NaNpx\",\"stroke-width:NaNpx\",\"stroke-width:NaNpx\",\"stroke-width:20.0px\",\"stroke-width:0.0px\",\"stroke-width:0.0px\",\"stroke-width:0.0px\",\"stroke-width:NaNpx\",\"stroke-width:NaNpx\",\"stroke-width:NaNpx\",\"stroke-width:NaNpx\",\"stroke-width:NaNpx\",\"stroke-width:NaNpx\",\"stroke-width:NaNpx\",\"stroke-width:NaNpx\",\"stroke-width:NaNpx\",\"stroke-width:NaNpx\",\"stroke-width:NaNpx\",\"stroke-width:NaNpx\",\"stroke-width:NaNpx\",\"stroke-width:NaNpx\",\"stroke-width:NaNpx\",\"stroke-width:NaNpx\"],\"title\":\"MCTS tree\",\"options\":{\"init_expand\":1,\"tooltip\":[\"GridWorldState(4, 1, false)\\nN: 1843\\n\",\"GridWorldState(5, 3, false)\\nN: 126\\n\",\"GridWorldState(3, 6, false)\\nN: 11\\n\",\"GridWorldState(9, 6, false)\\nN: 1\\n\",\"GridWorldState(4, 5, false)\\nN: 7\\n\",\"GridWorldState(10, 1, false)\\nN: 79\\n\",\"GridWorldState(1, 3, false)\\nN: 188\\n\",\"GridWorldState(8, 2, false)\\nN: 551\\n\",\"GridWorldState(4, 5, false)\\nN: 7\\n\",\"GridWorldState(6, 3, false)\\nN: 219\\n\",\"GridWorldState(7, 3, false)\\nN: 452\\n\",\"GridWorldState(6, 6, false)\\nN: 11\\n\",\"GridWorldState(7, 3, false)\\nN: 452\\n\",\"GridWorldState(10, 7, false)\\nN: 0\\n\",\"GridWorldState(3, 4, false)\\nN: 53\\n\",\"GridWorldState(7, 6, false)\\nN: 14\\n\",\"GridWorldState(1, 1, false)\\nN: 325\\n\",\"GridWorldState(1, 5, false)\\nN: 69\\n\",\"GridWorldState(2, 6, false)\\nN: 18\\n\",\"GridWorldState(9, 5, false)\\nN: 13\\n\",\"GridWorldState(4, 6, false)\\nN: 8\\n\",\"GridWorldState(8, 1, false)\\nN: 450\\n\",\"GridWorldState(7, 4, false)\\nN: 104\\n\",\"GridWorldState(8, 4, false)\\nN: 97\\n\",\"GridWorldState(4, 1, false)\\nN: 1843\\n\",\"GridWorldState(6, 8, false)\\nN: 2\\n\",\"GridWorldState(1, 2, false)\\nN: 224\\n\",\"GridWorldState(6, 3, false)\\nN: 219\\n\",\"GridWorldState(5, 4, false)\\nN: 45\\n\",\"GridWorldState(2, 2, false)\\nN: 305\\n\",\"GridWorldState(7, 1, false)\\nN: 630\\n\",\"GridWorldState(5, 2, false)\\nN: 546\\n\",\"GridWorldState(2, 8, false)\\nN: 1\\n\",\"GridWorldState(2, 5, false)\\nN: 36\\n\",\"GridWorldState(2, 1, false)\\nN: 448\\n\",\"GridWorldState(1, 3, false)\\nN: 188\\n\",\"GridWorldState(4, 4, false)\\nN: 26\\n\",\"GridWorldState(8, 2, false)\\nN: 551\\n\",\"GridWorldState(3, 7, false)\\nN: 0\\n\",\"GridWorldState(7, 4, false)\\nN: 104\\n\",\"GridWorldState(7, 2, false)\\nN: 667\\n\",\"GridWorldState(6, 2, false)\\nN: 653\\n\",\"GridWorldState(6, 1, false)\\nN: 839\\n\",\"GridWorldState(7, 5, false)\\nN: 34\\n\",\"GridWorldState(6, 2, false)\\nN: 653\\n\",\"GridWorldState(7, 4, false)\\nN: 104\\n\",\"GridWorldState(1, 6, false)\\nN: 28\\n\",\"GridWorldState(3, 2, false)\\nN: 319\\n\",\"GridWorldState(6, 3, false)\\nN: 219\\n\",\"GridWorldState(6, 2, false)\\nN: 653\\n\",\"GridWorldState(1, 2, false)\\nN: 224\\n\",\"GridWorldState(4, 4, false)\\nN: 26\\n\",\"GridWorldState(8, 2, false)\\nN: 551\\n\",\"GridWorldState(9, 2, false)\\nN: 391\\n\",\"GridWorldState(6, 5, false)\\nN: 21\\n\",\"GridWorldState(8, 5, false)\\nN: 23\\n\",\"GridWorldState(6, 3, false)\\nN: 219\\n\",\"GridWorldState(5, 3, false)\\nN: 126\\n\",\"GridWorldState(4, 3, true)\\nN: 0\\n\",\"GridWorldState(6, 2, false)\\nN: 653\\n\",\"GridWorldState(10, 6, false)\\nN: 1\\n\",\"GridWorldState(4, 6, false)\\nN: 8\\n\",\"GridWorldState(2, 2, false)\\nN: 305\\n\",\"GridWorldState(5, 3, false)\\nN: 126\\n\",\"GridWorldState(9, 4, false)\\nN: 37\\n\",\"GridWorldState(1, 6, false)\\nN: 28\\n\",\"GridWorldState(10, 2, false)\\nN: 87\\n\",\"GridWorldState(10, 3, false)\\nN: 34\\n\",\"GridWorldState(3, 5, false)\\nN: 22\\n\",\"GridWorldState(3, 1, false)\\nN: 801\\n\",\"GridWorldState(6, 3, false)\\nN: 219\\n\",\"GridWorldState(9, 3, false)\\nN: 498\\n\",\"GridWorldState(8, 5, false)\\nN: 23\\n\",\"GridWorldState(10, 4, false)\\nN: 25\\n\",\"GridWorldState(3, 4, false)\\nN: 53\\n\",\"GridWorldState(2, 7, false)\\nN: 3\\n\",\"GridWorldState(4, 1, false)\\nN: 1843\\n\",\"GridWorldState(8, 3, false)\\nN: 381\\n\",\"GridWorldState(7, 2, false)\\nN: 667\\n\",\"GridWorldState(7, 1, false)\\nN: 630\\n\",\"GridWorldState(1, 6, false)\\nN: 28\\n\",\"GridWorldState(2, 1, false)\\nN: 448\\n\",\"GridWorldState(8, 6, false)\\nN: 9\\n\",\"GridWorldState(6, 1, false)\\nN: 839\\n\",\"GridWorldState(7, 3, false)\\nN: 452\\n\",\"GridWorldState(2, 4, false)\\nN: 80\\n\",\"GridWorldState(1, 7, false)\\nN: 4\\n\",\"GridWorldState(8, 4, false)\\nN: 97\\n\",\"GridWorldState(9, 2, false)\\nN: 391\\n\",\"GridWorldState(7, 7, false)\\nN: 3\\n\",\"GridWorldState(4, 2, false)\\nN: 499\\n\",\"GridWorldState(9, 4, false)\\nN: 37\\n\",\"GridWorldState(6, 1, false)\\nN: 839\\n\",\"GridWorldState(8, 1, false)\\nN: 450\\n\",\"GridWorldState(3, 1, false)\\nN: 801\\n\",\"GridWorldState(6, 5, false)\\nN: 21\\n\",\"GridWorldState(7, 2, false)\\nN: 667\\n\",\"GridWorldState(3, 1, false)\\nN: 801\\n\",\"GridWorldState(9, 1, false)\\nN: 182\\n\",\"GridWorldState(3, 3, false)\\nN: 109\\n\",\"GridWorldState(9, 3, true)\\nN: 0\\n\",\"GridWorldState(4, 6, false)\\nN: 8\\n\",\"GridWorldState(8, 3, false)\\nN: 381\\n\",\"GridWorldState(6, 2, false)\\nN: 653\\n\",\"GridWorldState(6, 1, false)\\nN: 839\\n\",\"GridWorldState(4, 6, false)\\nN: 8\\n\",\"GridWorldState(9, 2, false)\\nN: 391\\n\",\"GridWorldState(4, 5, false)\\nN: 7\\n\",\"GridWorldState(5, 1, false)\\nN: 1067\\n\",\"GridWorldState(3, 1, false)\\nN: 801\\n\",\"GridWorldState(3, 6, false)\\nN: 11\\n\",\"GridWorldState(9, 1, false)\\nN: 182\\n\",\"GridWorldState(4, 3, false)\\nN: 87\\n\",\"GridWorldState(6, 2, false)\\nN: 653\\n\",\"GridWorldState(8, 5, false)\\nN: 23\\n\",\"GridWorldState(2, 3, false)\\nN: 160\\n\",\"GridWorldState(6, 2, false)\\nN: 653\\n\",\"GridWorldState(9, 3, false)\\nN: 498\\n\",\"GridWorldState(1, 1, false)\\nN: 325\\n\",\"GridWorldState(7, 1, false)\\nN: 630\\n\",\"GridWorldState(7, 5, false)\\nN: 34\\n\",\"GridWorldState(6, 7, false)\\nN: 4\\n\",\"GridWorldState(4, 2, false)\\nN: 499\\n\",\"GridWorldState(4, 1, false)\\nN: 1843\\n\",\"GridWorldState(3, 2, false)\\nN: 319\\n\",\"GridWorldState(2, 7, false)\\nN: 3\\n\",\"GridWorldState(5, 5, false)\\nN: 14\\n\",\"GridWorldState(3, 3, false)\\nN: 109\\n\",\"GridWorldState(8, 4, false)\\nN: 97\\n\",\"GridWorldState(3, 1, false)\\nN: 801\\n\",\"GridWorldState(2, 3, false)\\nN: 160\\n\",\"GridWorldState(1, 2, false)\\nN: 224\\n\",\"GridWorldState(7, 4, false)\\nN: 104\\n\",\"GridWorldState(2, 7, false)\\nN: 3\\n\",\"GridWorldState(9, 2, false)\\nN: 391\\n\",\"GridWorldState(2, 2, false)\\nN: 305\\n\",\"GridWorldState(10, 3, false)\\nN: 34\\n\",\"GridWorldState(5, 2, false)\\nN: 546\\n\",\"GridWorldState(2, 3, false)\\nN: 160\\n\",\"GridWorldState(1, 3, false)\\nN: 188\\n\",\"GridWorldState(6, 2, false)\\nN: 653\\n\",\"GridWorldState(10, 1, false)\\nN: 79\\n\",\"GridWorldState(10, 4, false)\\nN: 25\\n\",\"GridWorldState(2, 2, false)\\nN: 305\\n\",\"GridWorldState(1, 5, false)\\nN: 69\\n\",\"GridWorldState(7, 7, false)\\nN: 3\\n\",\"GridWorldState(2, 1, false)\\nN: 448\\n\",\"GridWorldState(7, 6, false)\\nN: 14\\n\",\"GridWorldState(10, 4, false)\\nN: 25\\n\",\"GridWorldState(1, 2, false)\\nN: 224\\n\",\"GridWorldState(2, 2, false)\\nN: 305\\n\",\"GridWorldState(6, 5, false)\\nN: 21\\n\",\"GridWorldState(5, 1, false)\\nN: 1067\\n\",\"GridWorldState(7, 8, false)\\nN: 0\\n\",\"GridWorldState(5, 2, false)\\nN: 546\\n\",\"GridWorldState(7, 1, false)\\nN: 630\\n\",\"GridWorldState(3, 5, false)\\nN: 22\\n\",\"GridWorldState(2, 3, false)\\nN: 160\\n\",\"GridWorldState(8, 3, false)\\nN: 381\\n\",\"GridWorldState(7, 4, false)\\nN: 104\\n\",\"GridWorldState(4, 6, false)\\nN: 8\\n\",\"GridWorldState(9, 5, false)\\nN: 13\\n\",\"GridWorldState(2, 1, false)\\nN: 448\\n\",\"GridWorldState(7, 5, false)\\nN: 34\\n\",\"GridWorldState(5, 5, false)\\nN: 14\\n\",\"GridWorldState(4, 2, false)\\nN: 499\\n\",\"GridWorldState(2, 3, false)\\nN: 160\\n\",\"GridWorldState(6, 2, false)\\nN: 653\\n\",\"GridWorldState(1, 3, false)\\nN: 188\\n\",\"GridWorldState(5, 1, false)\\nN: 1067\\n\",\"GridWorldState(4, 1, false)\\nN: 1843\\n\",\"GridWorldState(10, 3, false)\\nN: 34\\n\",\"GridWorldState(5, 1, false)\\nN: 1067\\n\",\"GridWorldState(6, 4, false)\\nN: 69\\n\",\"GridWorldState(9, 1, false)\\nN: 182\\n\",\"GridWorldState(3, 2, false)\\nN: 319\\n\",\"GridWorldState(7, 3, false)\\nN: 452\\n\",\"GridWorldState(4, 2, false)\\nN: 499\\n\",\"GridWorldState(3, 2, false)\\nN: 319\\n\",\"GridWorldState(4, 6, true)\\nN: 0\\n\",\"GridWorldState(5, 3, false)\\nN: 126\\n\",\"GridWorldState(1, 7, false)\\nN: 4\\n\",\"GridWorldState(7, 5, false)\\nN: 34\\n\",\"GridWorldState(6, 1, false)\\nN: 839\\n\",\"GridWorldState(10, 2, false)\\nN: 87\\n\",\"GridWorldState(6, 3, false)\\nN: 219\\n\",\"GridWorldState(2, 2, false)\\nN: 305\\n\",\"GridWorldState(5, 6, false)\\nN: 4\\n\",\"GridWorldState(6, 4, false)\\nN: 69\\n\",\"GridWorldState(8, 6, false)\\nN: 9\\n\",\"GridWorldState(2, 5, false)\\nN: 36\\n\",\"GridWorldState(9, 4, false)\\nN: 37\\n\",\"GridWorldState(2, 5, false)\\nN: 36\\n\",\"GridWorldState(6, 7, false)\\nN: 4\\n\",\"GridWorldState(10, 1, false)\\nN: 79\\n\",\"GridWorldState(2, 2, false)\\nN: 305\\n\",\"GridWorldState(7, 3, false)\\nN: 452\\n\",\"GridWorldState(1, 4, false)\\nN: 110\\n\",\"GridWorldState(3, 1, false)\\nN: 801\\n\",\"GridWorldState(2, 4, false)\\nN: 80\\n\",\"GridWorldState(6, 4, false)\\nN: 69\\n\",\"GridWorldState(2, 5, false)\\nN: 36\\n\",\"GridWorldState(5, 5, false)\\nN: 14\\n\",\"GridWorldState(5, 4, false)\\nN: 45\\n\",\"GridWorldState(1, 4, false)\\nN: 110\\n\",\"GridWorldState(7, 2, false)\\nN: 667\\n\",\"GridWorldState(5, 4, false)\\nN: 45\\n\",\"GridWorldState(6, 4, false)\\nN: 69\\n\",\"GridWorldState(7, 6, false)\\nN: 14\\n\",\"GridWorldState(1, 4, false)\\nN: 110\\n\",\"GridWorldState(4, 3, false)\\nN: 87\\n\",\"GridWorldState(4, 6, false)\\nN: 8\\n\",\"GridWorldState(6, 1, false)\\nN: 839\\n\",\"GridWorldState(9, 4, false)\\nN: 37\\n\",\"GridWorldState(10, 3, false)\\nN: 34\\n\",\"GridWorldState(3, 2, false)\\nN: 319\\n\",\"GridWorldState(2, 5, false)\\nN: 36\\n\",\"GridWorldState(10, 5, false)\\nN: 3\\n\",\"GridWorldState(8, 4, false)\\nN: 97\\n\",\"GridWorldState(7, 4, false)\\nN: 104\\n\",\"GridWorldState(5, 5, false)\\nN: 14\\n\",\"GridWorldState(9, 3, true)\\nN: 0\\n\",\"GridWorldState(6, 6, false)\\nN: 11\\n\",\"GridWorldState(8, 2, false)\\nN: 551\\n\",\"GridWorldState(6, 4, false)\\nN: 69\\n\",\"GridWorldState(5, 1, false)\\nN: 1067\\n\",\"GridWorldState(4, 3, false)\\nN: 87\\n\",\"GridWorldState(3, 4, false)\\nN: 53\\n\",\"GridWorldState(4, 3, false)\\nN: 87\\n\",\"GridWorldState(6, 4, false)\\nN: 69\\n\",\"GridWorldState(7, 4, false)\\nN: 104\\n\",\"GridWorldState(7, 5, false)\\nN: 34\\n\",\"GridWorldState(3, 4, false)\\nN: 53\\n\",\"GridWorldState(4, 6, false)\\nN: 8\\n\",\"GridWorldState(6, 5, false)\\nN: 21\\n\",\"GridWorldState(8, 2, false)\\nN: 551\\n\",\"GridWorldState(3, 3, false)\\nN: 109\\n\",\"GridWorldState(1, 1, false)\\nN: 325\\n\",\"GridWorldState(2, 9, false)\\nN: 0\\n\",\"GridWorldState(3, 4, false)\\nN: 53\\n\",\"GridWorldState(2, 3, false)\\nN: 160\\n\",\"GridWorldState(9, 1, false)\\nN: 182\\n\",\"GridWorldState(3, 3, false)\\nN: 109\\n\",\"GridWorldState(10, 2, false)\\nN: 87\\n\",\"GridWorldState(9, 5, false)\\nN: 13\\n\",\"GridWorldState(2, 1, false)\\nN: 448\\n\",\"GridWorldState(3, 1, false)\\nN: 801\\n\",\"GridWorldState(8, 4, false)\\nN: 97\\n\",\"GridWorldState(8, 2, false)\\nN: 551\\n\",\"GridWorldState(7, 1, false)\\nN: 630\\n\",\"GridWorldState(3, 2, false)\\nN: 319\\n\",\"GridWorldState(1, 2, false)\\nN: 224\\n\",\"GridWorldState(6, 4, false)\\nN: 69\\n\",\"GridWorldState(7, 2, false)\\nN: 667\\n\",\"GridWorldState(7, 1, false)\\nN: 630\\n\",\"GridWorldState(6, 5, false)\\nN: 21\\n\",\"GridWorldState(2, 6, false)\\nN: 18\\n\",\"GridWorldState(2, 6, false)\\nN: 18\\n\",\"GridWorldState(7, 1, false)\\nN: 630\\n\",\"GridWorldState(7, 3, false)\\nN: 452\\n\",\"GridWorldState(8, 2, false)\\nN: 551\\n\",\"GridWorldState(5, 1, false)\\nN: 1067\\n\",\"GridWorldState(9, 4, false)\\nN: 37\\n\",\"GridWorldState(2, 4, false)\\nN: 80\\n\",\"GridWorldState(1, 3, false)\\nN: 188\\n\",\"GridWorldState(8, 3, false)\\nN: 381\\n\",\"GridWorldState(6, 2, false)\\nN: 653\\n\",\"GridWorldState(1, 5, false)\\nN: 69\\n\",\"GridWorldState(2, 5, false)\\nN: 36\\n\",\"GridWorldState(10, 1, false)\\nN: 79\\n\",\"GridWorldState(10, 3, false)\\nN: 34\\n\",\"GridWorldState(4, 4, false)\\nN: 26\\n\",\"GridWorldState(4, 6, true)\\nN: 0\\n\",\"GridWorldState(2, 4, false)\\nN: 80\\n\",\"GridWorldState(8, 5, false)\\nN: 23\\n\",\"GridWorldState(8, 4, false)\\nN: 97\\n\",\"GridWorldState(6, 5, false)\\nN: 21\\n\",\"GridWorldState(10, 3, false)\\nN: 34\\n\",\"GridWorldState(5, 1, false)\\nN: 1067\\n\",\"GridWorldState(4, 2, false)\\nN: 499\\n\",\"GridWorldState(2, 2, false)\\nN: 305\\n\",\"GridWorldState(8, 5, false)\\nN: 23\\n\",\"GridWorldState(5, 5, false)\\nN: 14\\n\",\"GridWorldState(4, 6, false)\\nN: 8\\n\",\"GridWorldState(3, 4, false)\\nN: 53\\n\",\"GridWorldState(9, 1, false)\\nN: 182\\n\",\"GridWorldState(4, 2, false)\\nN: 499\\n\",\"GridWorldState(8, 1, false)\\nN: 450\\n\",\"GridWorldState(6, 3, false)\\nN: 219\\n\",\"GridWorldState(8, 8, false)\\nN: 1\\n\",\"GridWorldState(6, 4, false)\\nN: 69\\n\",\"GridWorldState(7, 5, false)\\nN: 34\\n\",\"GridWorldState(9, 3, false)\\nN: 498\\n\",\"GridWorldState(1, 6, false)\\nN: 28\\n\",\"GridWorldState(2, 2, false)\\nN: 305\\n\",\"GridWorldState(2, 2, false)\\nN: 305\\n\",\"GridWorldState(4, 3, false)\\nN: 87\\n\",\"GridWorldState(4, 5, false)\\nN: 7\\n\",\"GridWorldState(10, 2, false)\\nN: 87\\n\",\"GridWorldState(7, 4, false)\\nN: 104\\n\",\"GridWorldState(7, 2, false)\\nN: 667\\n\",\"GridWorldState(9, 2, false)\\nN: 391\\n\",\"GridWorldState(5, 6, false)\\nN: 4\\n\",\"GridWorldState(5, 1, false)\\nN: 1067\\n\",\"GridWorldState(4, 6, true)\\nN: 0\\n\",\"GridWorldState(5, 4, false)\\nN: 45\\n\",\"GridWorldState(10, 4, false)\\nN: 25\\n\",\"GridWorldState(2, 5, false)\\nN: 36\\n\",\"GridWorldState(3, 3, false)\\nN: 109\\n\",\"GridWorldState(2, 2, false)\\nN: 305\\n\",\"GridWorldState(2, 6, false)\\nN: 18\\n\",\"GridWorldState(6, 2, false)\\nN: 653\\n\",\"GridWorldState(3, 6, false)\\nN: 11\\n\",\"GridWorldState(9, 3, false)\\nN: 498\\n\",\"GridWorldState(7, 5, false)\\nN: 34\\n\",\"GridWorldState(5, 3, false)\\nN: 126\\n\",\"GridWorldState(3, 3, false)\\nN: 109\\n\",\"GridWorldState(9, 3, true)\\nN: 0\\n\",\"GridWorldState(6, 1, false)\\nN: 839\\n\",\"GridWorldState(4, 3, false)\\nN: 87\\n\",\"GridWorldState(5, 3, false)\\nN: 126\\n\",\"GridWorldState(3, 4, false)\\nN: 53\\n\",\"GridWorldState(6, 3, false)\\nN: 219\\n\",\"GridWorldState(4, 1, false)\\nN: 1843\\n\",\"GridWorldState(1, 2, false)\\nN: 224\\n\",\"GridWorldState(7, 1, false)\\nN: 630\\n\",\"GridWorldState(7, 1, false)\\nN: 630\\n\",\"GridWorldState(10, 1, false)\\nN: 79\\n\",\"GridWorldState(4, 5, false)\\nN: 7\\n\",\"GridWorldState(4, 1, false)\\nN: 1843\\n\",\"GridWorldState(8, 2, false)\\nN: 551\\n\",\"GridWorldState(2, 5, false)\\nN: 36\\n\",\"GridWorldState(3, 1, false)\\nN: 801\\n\",\"GridWorldState(7, 3, false)\\nN: 452\\n\",\"GridWorldState(7, 6, false)\\nN: 14\\n\",\"GridWorldState(6, 1, false)\\nN: 839\\n\",\"GridWorldState(2, 4, false)\\nN: 80\\n\",\"GridWorldState(5, 7, false)\\nN: 1\\n\",\"GridWorldState(7, 3, false)\\nN: 452\\n\",\"GridWorldState(4, 3, false)\\nN: 87\\n\",\"GridWorldState(1, 4, false)\\nN: 110\\n\",\"GridWorldState(5, 6, false)\\nN: 4\\n\",\"GridWorldState(5, 8, false)\\nN: 2\\n\",\"GridWorldState(1, 4, false)\\nN: 110\\n\",\"GridWorldState(8, 2, false)\\nN: 551\\n\",\"GridWorldState(7, 2, false)\\nN: 667\\n\",\"GridWorldState(4, 3, false)\\nN: 87\\n\",\"GridWorldState(5, 5, false)\\nN: 14\\n\",\"GridWorldState(6, 3, false)\\nN: 219\\n\",\"GridWorldState(2, 3, false)\\nN: 160\\n\",\"GridWorldState(5, 2, false)\\nN: 546\\n\",\"GridWorldState(4, 5, false)\\nN: 7\\n\",\"GridWorldState(2, 6, false)\\nN: 18\\n\",\"GridWorldState(7, 2, false)\\nN: 667\\n\",\"GridWorldState(8, 6, false)\\nN: 9\\n\",\"GridWorldState(8, 1, false)\\nN: 450\\n\",\"GridWorldState(1, 3, false)\\nN: 188\\n\",\"GridWorldState(3, 5, false)\\nN: 22\\n\",\"GridWorldState(6, 3, false)\\nN: 219\\n\",\"GridWorldState(3, 2, false)\\nN: 319\\n\",\"GridWorldState(9, 3, false)\\nN: 498\\n\",\"GridWorldState(6, 3, false)\\nN: 219\\n\",\"GridWorldState(7, 3, false)\\nN: 452\\n\",\"GridWorldState(8, 6, false)\\nN: 9\\n\",\"GridWorldState(10, 4, false)\\nN: 25\\n\",\"GridWorldState(4, 1, false)\\nN: 1843\\n\",\"GridWorldState(9, 6, false)\\nN: 1\\n\",\"GridWorldState(5, 3, false)\\nN: 126\\n\",\"GridWorldState(2, 1, false)\\nN: 448\\n\",\"GridWorldState(4, 3, false)\\nN: 87\\n\",\"GridWorldState(3, 4, false)\\nN: 53\\n\",\"GridWorldState(3, 4, false)\\nN: 53\\n\",\"GridWorldState(1, 1, false)\\nN: 325\\n\",\"GridWorldState(1, 6, false)\\nN: 28\\n\",\"GridWorldState(1, 4, false)\\nN: 110\\n\",\"GridWorldState(6, 6, false)\\nN: 11\\n\",\"GridWorldState(5, 5, false)\\nN: 14\\n\",\"GridWorldState(1, 1, false)\\nN: 325\\n\",\"GridWorldState(8, 4, false)\\nN: 97\\n\",\"GridWorldState(6, 4, false)\\nN: 69\\n\",\"GridWorldState(2, 2, false)\\nN: 305\\n\",\"GridWorldState(9, 1, false)\\nN: 182\\n\",\"GridWorldState(1, 1, false)\\nN: 325\\n\",\"GridWorldState(1, 3, false)\\nN: 188\\n\",\"GridWorldState(5, 9, false)\\nN: 0\\n\",\"GridWorldState(2, 2, false)\\nN: 305\\n\",\"GridWorldState(5, 4, false)\\nN: 45\\n\",\"GridWorldState(4, 3, false)\\nN: 87\\n\",\"GridWorldState(4, 1, false)\\nN: 1843\\n\",\"GridWorldState(3, 4, false)\\nN: 53\\n\",\"GridWorldState(6, 4, false)\\nN: 69\\n\",\"GridWorldState(4, 6, true)\\nN: 0\\n\",\"GridWorldState(6, 3, false)\\nN: 219\\n\",\"GridWorldState(6, 6, false)\\nN: 11\\n\",\"GridWorldState(7, 2, false)\\nN: 667\\n\",\"GridWorldState(8, 1, false)\\nN: 450\\n\",\"GridWorldState(3, 1, false)\\nN: 801\\n\",\"GridWorldState(4, 2, false)\\nN: 499\\n\",\"GridWorldState(4, 4, false)\\nN: 26\\n\",\"GridWorldState(6, 4, false)\\nN: 69\\n\",\"GridWorldState(8, 8, true)\\nN: 0\\n\",\"GridWorldState(8, 2, false)\\nN: 551\\n\",\"GridWorldState(4, 3, false)\\nN: 87\\n\",\"GridWorldState(7, 7, false)\\nN: 3\\n\",\"GridWorldState(3, 6, false)\\nN: 11\\n\",\"GridWorldState(2, 6, false)\\nN: 18\\n\",\"GridWorldState(5, 4, false)\\nN: 45\\n\",\"GridWorldState(7, 2, false)\\nN: 667\\n\",\"GridWorldState(5, 1, false)\\nN: 1067\\n\",\"GridWorldState(8, 5, false)\\nN: 23\\n\",\"GridWorldState(7, 5, false)\\nN: 34\\n\",\"GridWorldState(5, 5, false)\\nN: 14\\n\",\"GridWorldState(4, 4, false)\\nN: 26\\n\",\"GridWorldState(5, 4, false)\\nN: 45\\n\",\"GridWorldState(9, 2, false)\\nN: 391\\n\",\"GridWorldState(3, 1, false)\\nN: 801\\n\",\"GridWorldState(8, 5, false)\\nN: 23\\n\",\"GridWorldState(1, 2, false)\\nN: 224\\n\",\"GridWorldState(7, 1, false)\\nN: 630\\n\",\"GridWorldState(9, 3, false)\\nN: 498\\n\",\"GridWorldState(6, 5, false)\\nN: 21\\n\",\"GridWorldState(1, 5, false)\\nN: 69\\n\",\"GridWorldState(7, 4, false)\\nN: 104\\n\",\"GridWorldState(8, 3, false)\\nN: 381\\n\",\"GridWorldState(8, 7, false)\\nN: 2\\n\",\"GridWorldState(6, 1, false)\\nN: 839\\n\",\"GridWorldState(9, 2, false)\\nN: 391\\n\",\"GridWorldState(4, 2, false)\\nN: 499\\n\",\"GridWorldState(8, 5, false)\\nN: 23\\n\",\"GridWorldState(9, 2, false)\\nN: 391\\n\",\"GridWorldState(1, 5, false)\\nN: 69\\n\",\"GridWorldState(4, 3, true)\\nN: 0\\n\",\"GridWorldState(7, 7, false)\\nN: 3\\n\",\"GridWorldState(2, 3, false)\\nN: 160\\n\",\"GridWorldState(7, 6, false)\\nN: 14\\n\",\"GridWorldState(1, 5, false)\\nN: 69\\n\",\"GridWorldState(8, 2, false)\\nN: 551\\n\",\"GridWorldState(4, 4, false)\\nN: 26\\n\",\"GridWorldState(4, 3, false)\\nN: 87\\n\",\"GridWorldState(3, 3, false)\\nN: 109\\n\",\"GridWorldState(8, 1, false)\\nN: 450\\n\",\"GridWorldState(5, 8, false)\\nN: 2\\n\",\"GridWorldState(8, 1, false)\\nN: 450\\n\",\"GridWorldState(1, 4, false)\\nN: 110\\n\",\"GridWorldState(1, 1, false)\\nN: 325\\n\",\"GridWorldState(8, 7, false)\\nN: 2\\n\",\"GridWorldState(4, 1, false)\\nN: 1843\\n\",\"GridWorldState(8, 1, false)\\nN: 450\\n\",\"GridWorldState(5, 1, false)\\nN: 1067\\n\",\"GridWorldState(10, 4, false)\\nN: 25\\n\",\"GridWorldState(9, 4, false)\\nN: 37\\n\",\"GridWorldState(7, 3, false)\\nN: 452\\n\",\"GridWorldState(3, 2, false)\\nN: 319\\n\",\"GridWorldState(8, 1, false)\\nN: 450\\n\",\"GridWorldState(4, 1, false)\\nN: 1843\\n\",\"GridWorldState(10, 2, false)\\nN: 87\\n\",\"GridWorldState(2, 4, false)\\nN: 80\\n\",\"GridWorldState(2, 4, false)\\nN: 80\\n\",\"GridWorldState(1, 2, false)\\nN: 224\\n\",\"GridWorldState(3, 5, false)\\nN: 22\\n\",\"GridWorldState(5, 3, false)\\nN: 126\\n\",\"GridWorldState(7, 4, false)\\nN: 104\\n\",\"GridWorldState(10, 2, false)\\nN: 87\\n\",\"GridWorldState(6, 2, false)\\nN: 653\\n\",\"GridWorldState(2, 2, false)\\nN: 305\\n\",\"GridWorldState(2, 1, false)\\nN: 448\\n\",\"GridWorldState(4, 4, false)\\nN: 26\\n\",\"GridWorldState(1, 3, false)\\nN: 188\\n\",\"GridWorldState(5, 2, false)\\nN: 546\\n\",\"GridWorldState(4, 2, false)\\nN: 499\\n\",\"GridWorldState(1, 3, false)\\nN: 188\\n\",\"GridWorldState(6, 5, false)\\nN: 21\\n\",\"GridWorldState(8, 1, false)\\nN: 450\\n\",\"GridWorldState(5, 4, false)\\nN: 45\\n\",\"GridWorldState(10, 1, false)\\nN: 79\\n\",\"GridWorldState(6, 2, false)\\nN: 653\\n\",\"GridWorldState(9, 3, false)\\nN: 498\\n\",\"GridWorldState(7, 1, false)\\nN: 630\\n\",\"GridWorldState(1, 2, false)\\nN: 224\\n\",\"GridWorldState(10, 4, false)\\nN: 25\\n\",\"GridWorldState(7, 4, false)\\nN: 104\\n\",\"GridWorldState(6, 1, false)\\nN: 839\\n\",\"GridWorldState(8, 6, false)\\nN: 9\\n\",\"GridWorldState(6, 6, false)\\nN: 11\\n\",\"GridWorldState(7, 5, false)\\nN: 34\\n\",\"GridWorldState(7, 6, false)\\nN: 14\\n\",\"GridWorldState(1, 1, false)\\nN: 325\\n\",\"GridWorldState(5, 2, false)\\nN: 546\\n\",\"GridWorldState(5, 2, false)\\nN: 546\\n\",\"GridWorldState(1, 8, false)\\nN: 0\\n\",\"GridWorldState(7, 3, false)\\nN: 452\\n\",\"GridWorldState(7, 3, false)\\nN: 452\\n\",\"GridWorldState(6, 3, false)\\nN: 219\\n\",\"GridWorldState(9, 3, true)\\nN: 0\\n\",\"GridWorldState(6, 6, false)\\nN: 11\\n\",\"GridWorldState(2, 4, false)\\nN: 80\\n\",\"GridWorldState(7, 2, false)\\nN: 667\\n\",\"GridWorldState(5, 6, false)\\nN: 4\\n\",\"GridWorldState(2, 4, false)\\nN: 80\\n\",\"GridWorldState(2, 3, false)\\nN: 160\\n\",\"GridWorldState(10, 2, false)\\nN: 87\\n\",\"GridWorldState(7, 2, false)\\nN: 667\\n\",\"GridWorldState(2, 3, false)\\nN: 160\\n\",\"GridWorldState(8, 4, false)\\nN: 97\\n\",\"GridWorldState(3, 3, false)\\nN: 109\\n\",\"GridWorldState(3, 4, false)\\nN: 53\\n\",\"GridWorldState(4, 3, false)\\nN: 87\\n\",\"GridWorldState(1, 2, false)\\nN: 224\\n\",\"GridWorldState(3, 4, false)\\nN: 53\\n\",\"GridWorldState(3, 2, false)\\nN: 319\\n\",\"GridWorldState(4, 1, false)\\nN: 1843\\n\",\"GridWorldState(5, 3, false)\\nN: 126\\n\",\"GridWorldState(8, 3, false)\\nN: 381\\n\",\"GridWorldState(10, 5, false)\\nN: 3\\n\",\"GridWorldState(9, 3, false)\\nN: 498\\n\",\"GridWorldState(2, 5, false)\\nN: 36\\n\",\"GridWorldState(2, 4, false)\\nN: 80\\n\",\"GridWorldState(4, 3, true)\\nN: 0\\n\",\"GridWorldState(1, 4, false)\\nN: 110\\n\",\"GridWorldState(8, 4, false)\\nN: 97\\n\",\"GridWorldState(6, 7, false)\\nN: 4\\n\",\"GridWorldState(2, 1, false)\\nN: 448\\n\",\"GridWorldState(7, 5, false)\\nN: 34\\n\",\"GridWorldState(8, 7, false)\\nN: 2\\n\",\"GridWorldState(9, 1, false)\\nN: 182\\n\",\"GridWorldState(3, 2, false)\\nN: 319\\n\",\"GridWorldState(9, 7, false)\\nN: 0\\n\",\"GridWorldState(9, 5, false)\\nN: 13\\n\",\"GridWorldState(4, 3, false)\\nN: 87\\n\",\"GridWorldState(6, 2, false)\\nN: 653\\n\",\"GridWorldState(5, 3, false)\\nN: 126\\n\",\"GridWorldState(8, 2, false)\\nN: 551\\n\",\"GridWorldState(8, 1, false)\\nN: 450\\n\",\"GridWorldState(7, 6, false)\\nN: 14\\n\",\"GridWorldState(10, 2, false)\\nN: 87\\n\",\"GridWorldState(1, 4, false)\\nN: 110\\n\",\"GridWorldState(5, 2, false)\\nN: 546\\n\",\"GridWorldState(6, 1, false)\\nN: 839\\n\",\"GridWorldState(5, 4, false)\\nN: 45\\n\",\"GridWorldState(2, 3, false)\\nN: 160\\n\",\"GridWorldState(8, 3, false)\\nN: 381\\n\",\"GridWorldState(4, 5, false)\\nN: 7\\n\",\"GridWorldState(3, 3, false)\\nN: 109\\n\",\"GridWorldState(7, 3, false)\\nN: 452\\n\",\"GridWorldState(5, 2, false)\\nN: 546\\n\",\"GridWorldState(8, 2, false)\\nN: 551\\n\",\"GridWorldState(10, 1, false)\\nN: 79\\n\",\"GridWorldState(2, 1, false)\\nN: 448\\n\",\"GridWorldState(6, 5, false)\\nN: 21\\n\",\"GridWorldState(1, 5, false)\\nN: 69\\n\",\"GridWorldState(4, 3, true)\\nN: 0\\n\",\"GridWorldState(3, 5, false)\\nN: 22\\n\",\"GridWorldState(4, 3, false)\\nN: 87\\n\",\"GridWorldState(3, 4, false)\\nN: 53\\n\",\"GridWorldState(1, 3, false)\\nN: 188\\n\",\"GridWorldState(9, 2, false)\\nN: 391\\n\",\"GridWorldState(3, 2, false)\\nN: 319\\n\",\"GridWorldState(7, 4, false)\\nN: 104\\n\",\"GridWorldState(7, 2, false)\\nN: 667\\n\",\"GridWorldState(3, 6, false)\\nN: 11\\n\",\"GridWorldState(1, 8, false)\\nN: 0\\n\",\"GridWorldState(7, 3, false)\\nN: 452\\n\",\"GridWorldState(4, 4, false)\\nN: 26\\n\",\"GridWorldState(3, 3, false)\\nN: 109\\n\",\"GridWorldState(3, 2, false)\\nN: 319\\n\",\"GridWorldState(2, 4, false)\\nN: 80\\n\",\"GridWorldState(9, 1, false)\\nN: 182\\n\",\"GridWorldState(2, 3, false)\\nN: 160\\n\",\"GridWorldState(8, 3, false)\\nN: 381\\n\",\"GridWorldState(6, 8, false)\\nN: 2\\n\",\"GridWorldState(7, 4, false)\\nN: 104\\n\",\"GridWorldState(2, 3, false)\\nN: 160\\n\",\"GridWorldState(6, 2, false)\\nN: 653\\n\",\"GridWorldState(1, 5, false)\\nN: 69\\n\",\"GridWorldState(1, 6, false)\\nN: 28\\n\",\"GridWorldState(3, 6, false)\\nN: 11\\n\",\"GridWorldState(5, 4, false)\\nN: 45\\n\",\"GridWorldState(5, 1, false)\\nN: 1067\\n\",\"GridWorldState(6, 5, false)\\nN: 21\\n\",\"GridWorldState(3, 1, false)\\nN: 801\\n\",\"GridWorldState(5, 2, false)\\nN: 546\\n\",\"GridWorldState(4, 5, false)\\nN: 7\\n\",\"GridWorldState(5, 2, false)\\nN: 546\\n\",\"GridWorldState(9, 3, false)\\nN: 498\\n\",\"GridWorldState(1, 4, false)\\nN: 110\\n\",\"GridWorldState(3, 5, false)\\nN: 22\\n\",\"GridWorldState(9, 5, false)\\nN: 13\\n\",\"GridWorldState(5, 3, false)\\nN: 126\\n\",\"GridWorldState(6, 3, false)\\nN: 219\\n\",\"GridWorldState(3, 2, false)\\nN: 319\\n\",\"GridWorldState(4, 4, false)\\nN: 26\\n\",\"GridWorldState(7, 4, false)\\nN: 104\\n\",\"GridWorldState(4, 2, false)\\nN: 499\\n\",\"GridWorldState(3, 2, false)\\nN: 319\\n\",\"GridWorldState(7, 2, false)\\nN: 667\\n\",\"GridWorldState(3, 3, false)\\nN: 109\\n\",\"GridWorldState(10, 1, false)\\nN: 79\\n\",\"GridWorldState(1, 6, false)\\nN: 28\\n\",\"GridWorldState(4, 2, false)\\nN: 499\\n\",\"GridWorldState(2, 3, false)\\nN: 160\\n\",\"GridWorldState(5, 2, false)\\nN: 546\\n\",\"GridWorldState(10, 5, false)\\nN: 3\\n\",\"GridWorldState(1, 3, false)\\nN: 188\\n\",\"GridWorldState(8, 4, false)\\nN: 97\\n\",\"GridWorldState(6, 3, false)\\nN: 219\\n\",\"GridWorldState(6, 4, false)\\nN: 69\\n\",\"GridWorldState(6, 4, false)\\nN: 69\\n\",\"GridWorldState(1, 5, false)\\nN: 69\\n\",\"GridWorldState(5, 2, false)\\nN: 546\\n\",\"GridWorldState(2, 6, false)\\nN: 18\\n\",\"GridWorldState(8, 4, false)\\nN: 97\\n\",\"GridWorldState(6, 3, false)\\nN: 219\\n\",\"GridWorldState(2, 1, false)\\nN: 448\\n\",\"GridWorldState(9, 1, false)\\nN: 182\\n\",\"GridWorldState(7, 6, false)\\nN: 14\\n\",\"GridWorldState(9, 1, false)\\nN: 182\\n\",\"up\\nQ: -0.4078770835482364\\nN: 218\\n\",\"down\\nQ: 0.0\\nN: 360\\n\",\"left\\nQ: -0.09466441387534318\\nN: 328\\n\",\"right\\nQ: 1.7120826392941855\\nN: 937\\n\",\"up\\nQ: -7.4881125\\nN: 8\\n\",\"down\\nQ: -1.13245774926821\\nN: 99\\n\",\"left\\nQ: -1.8130285136423498\\nN: 62\\n\",\"right\\nQ: 0.32585595683787705\\nN: 330\\n\",\"up\\nQ: -1.2441550449864995\\nN: 76\\n\",\"down\\nQ: 0.0\\nN: 235\\n\",\"left\\nQ: 0.004450493893353835\\nN: 227\\n\",\"right\\nQ: 0.4306159083851612\\nN: 263\\n\",\"up\\nQ: 0.33206128690561626\\nN: 123\\n\",\"down\\nQ: 0.0\\nN: 98\\n\",\"left\\nQ: -0.833076054531613\\nN: 53\\n\",\"right\\nQ: 2.5040171915618687\\nN: 793\\n\",\"up\\nQ: -3.3819906480982938\\nN: 17\\n\",\"down\\nQ: -0.7718191400035099\\nN: 45\\n\",\"left\\nQ: -0.7140758644741303\\nN: 46\\n\",\"right\\nQ: 2.13311486635538\\nN: 438\\n\",\"up\\nQ: -1.3433665572445983\\nN: 47\\n\",\"down\\nQ: -0.12151386430630916\\nN: 94\\n\",\"left\\nQ: -0.21589614735337498\\nN: 108\\n\",\"right\\nQ: -0.7908569561249997\\nN: 70\\n\",\"up\\nQ: -10.0\\nN: 22\\n\",\"down\\nQ: -10.0\\nN: 22\\n\",\"left\\nQ: -10.0\\nN: 22\\n\",\"right\\nQ: -10.0\\nN: 21\\n\",\"up\\nQ: -0.1341144146361733\\nN: 101\\n\",\"down\\nQ: 0.0\\nN: 126\\n\",\"left\\nQ: 0.028381909175004053\\nN: 121\\n\",\"right\\nQ: -0.1677833444622974\\nN: 100\\n\",\"up\\nQ: -1.3429898480769231\\nN: 26\\n\",\"down\\nQ: -0.9397144494299998\\nN: 33\\n\",\"left\\nQ: -8.03898\\nN: 5\\n\",\"right\\nQ: 0.7717081420204651\\nN: 62\\n\",\"up\\nQ: 1.5776953433324539\\nN: 178\\n\",\"down\\nQ: 0.0\\nN: 60\\n\",\"left\\nQ: 0.18558913552450448\\nN: 60\\n\",\"right\\nQ: 3.3539693711120453\\nN: 541\\n\",\"up\\nQ: 2.3699272010097765\\nN: 99\\n\",\"down\\nQ: 0.0\\nN: 30\\n\",\"left\\nQ: 0.0\\nN: 26\\n\",\"right\\nQ: 4.00708300940483\\nN: 475\\n\",\"up\\nQ: -0.10974499840198663\\nN: 38\\n\",\"down\\nQ: 1.1433253205627558\\nN: 82\\n\",\"left\\nQ: -0.9032544515319283\\nN: 29\\n\",\"right\\nQ: 3.2182123474237208\\nN: 504\\n\",\"up\\nQ: -0.20573306594936625\\nN: 71\\n\",\"down\\nQ: -0.14250492\\nN: 75\\n\",\"left\\nQ: -0.1421765978115953\\nN: 74\\n\",\"right\\nQ: 0.04036041094001292\\nN: 85\\n\",\"up\\nQ: -0.20447898441224405\\nN: 25\\n\",\"down\\nQ: 0.8229841586357143\\nN: 42\\n\",\"left\\nQ: 0.2760288496621535\\nN: 31\\n\",\"right\\nQ: 3.0972472134280893\\nN: 121\\n\",\"up\\nQ: -0.26150883007500003\\nN: 12\\n\",\"down\\nQ: 0.9424489401000001\\nN: 20\\n\",\"left\\nQ: -0.87966\\nN: 15\\n\",\"right\\nQ: 1.3130502289406798\\nN: 22\\n\",\"up\\nQ: -0.13732325581395352\\nN: 43\\n\",\"down\\nQ: -0.3665250000000001\\nN: 40\\n\",\"left\\nQ: -0.03338410596702129\\nN: 47\\n\",\"right\\nQ: -0.8093360700000002\\nN: 30\\n\",\"up\\nQ: -0.34531578947368424\\nN: 19\\n\",\"down\\nQ: -0.405\\nN: 18\\n\",\"left\\nQ: 0.0\\nN: 21\\n\",\"right\\nQ: 0.0\\nN: 22\\n\",\"up\\nQ: 0.0\\nN: 0\\n\",\"down\\nQ: 0.0\\nN: 0\\n\",\"left\\nQ: 0.0\\nN: 0\\n\",\"right\\nQ: 0.0\\nN: 0\\n\",\"up\\nQ: -0.5755973050125001\\nN: 40\\n\",\"down\\nQ: -1.8101350499999997\\nN: 21\\n\",\"left\\nQ: -0.8812183743486485\\nN: 37\\n\",\"right\\nQ: -4.090909090909091\\nN: 11\\n\",\"up\\nQ: -0.028018803222321434\\nN: 56\\n\",\"down\\nQ: -0.07552056315789474\\nN: 57\\n\",\"left\\nQ: 0.0\\nN: 58\\n\",\"right\\nQ: -0.13525609131348115\\nN: 53\\n\",\"up\\nQ: 4.087508959529017\\nN: 385\\n\",\"down\\nQ: 0.5183012035857274\\nN: 33\\n\",\"left\\nQ: 0.5906308532142858\\nN: 28\\n\",\"right\\nQ: 3.908089044443796\\nN: 221\\n\",\"up\\nQ: 1.17142147353375\\nN: 24\\n\",\"down\\nQ: 0.9002918145923999\\nN: 25\\n\",\"left\\nQ: 0.0\\nN: 15\\n\",\"right\\nQ: 5.247025123928528\\nN: 388\\n\",\"up\\nQ: 0.7330500000000002\\nN: 18\\n\",\"down\\nQ: 2.0555023336959377\\nN: 32\\n\",\"left\\nQ: -0.3186869987769231\\nN: 13\\n\",\"right\\nQ: 2.2282081972155003\\nN: 41\\n\",\"up\\nQ: -1.6804918125000001\\nN: 8\\n\",\"down\\nQ: 0.2278944052941176\\nN: 17\\n\",\"left\\nQ: -1.6460336126250004\\nN: 8\\n\",\"right\\nQ: -2.0167670925000003\\nN: 12\\n\",\"up\\nQ: -0.1281618284318182\\nN: 44\\n\",\"down\\nQ: 0.0\\nN: 46\\n\",\"left\\nQ: 0.0\\nN: 53\\n\",\"right\\nQ: 0.0\\nN: 45\\n\",\"up\\nQ: -2.4183064653749997\\nN: 16\\n\",\"down\\nQ: 0.0\\nN: 16\\n\",\"left\\nQ: 0.0\\nN: 16\\n\",\"right\\nQ: -5.58501642\\nN: 5\\n\",\"up\\nQ: -0.11542898520000003\\nN: 75\\n\",\"down\\nQ: 0.0\\nN: 80\\n\",\"left\\nQ: 0.0\\nN: 92\\n\",\"right\\nQ: 0.02932922109610385\\nN: 78\\n\",\"up\\nQ: 4.469893815782903\\nN: 93\\n\",\"down\\nQ: 0.0\\nN: 18\\n\",\"left\\nQ: 3.514844816669423\\nN: 52\\n\",\"right\\nQ: 5.888033928375603\\nN: 388\\n\",\"up\\nQ: 0.0\\nN: 30\\n\",\"down\\nQ: -0.29124147780000004\\nN: 25\\n\",\"left\\nQ: 0.0\\nN: 28\\n\",\"right\\nQ: -0.07174453499999998\\nN: 27\\n\",\"up\\nQ: 4.994247515786956\\nN: 292\\n\",\"down\\nQ: 0.0\\nN: 16\\n\",\"left\\nQ: 3.7835162783460565\\nN: 95\\n\",\"right\\nQ: 3.5028205909085117\\nN: 47\\n\",\"up\\nQ: 0.0\\nN: 5\\n\",\"down\\nQ: 0.0\\nN: 5\\n\",\"left\\nQ: -0.32285040750000005\\nN: 6\\n\",\"right\\nQ: -0.7290000000000001\\nN: 5\\n\",\"up\\nQ: 1.5051225\\nN: 12\\n\",\"down\\nQ: 3.574216256086957\\nN: 23\\n\",\"left\\nQ: 0.0\\nN: 8\\n\",\"right\\nQ: 7.407078086845692\\nN: 338\\n\",\"up\\nQ: -0.134521003125\\nN: 16\\n\",\"down\\nQ: 0.0\\nN: 16\\n\",\"left\\nQ: 0.0\\nN: 22\\n\",\"right\\nQ: -0.395847\\nN: 15\\n\",\"up\\nQ: 0.5785714285714285\\nN: 14\\n\",\"down\\nQ: 2.599940565038571\\nN: 21\\n\",\"left\\nQ: 0.73288591425\\nN: 14\\n\",\"right\\nQ: 4.4127859691165625\\nN: 48\\n\",\"up\\nQ: -3.1646175000000003\\nN: 6\\n\",\"down\\nQ: -5.512499999999999\\nN: 4\\n\",\"left\\nQ: -5.817012315\\nN: 6\\n\",\"right\\nQ: 0.0\\nN: 10\\n\",\"up\\nQ: -1.3499999999999999\\nN: 3\\n\",\"down\\nQ: -2.3707090125\\nN: 4\\n\",\"left\\nQ: 0.0\\nN: 4\\n\",\"right\\nQ: 0.0\\nN: 3\\n\",\"up\\nQ: 7.8126122443625645\\nN: 358\\n\",\"down\\nQ: 1.0646357142857146\\nN: 14\\n\",\"left\\nQ: 0.8181818181818182\\nN: 11\\n\",\"right\\nQ: 0.0\\nN: 8\\n\",\"up\\nQ: -0.34164064285714296\\nN: 7\\n\",\"down\\nQ: 0.0\\nN: 7\\n\",\"left\\nQ: 0.0\\nN: 8\\n\",\"right\\nQ: 0.0\\nN: 6\\n\",\"up\\nQ: -2.25\\nN: 2\\n\",\"down\\nQ: -4.5\\nN: 1\\n\",\"left\\nQ: -4.5\\nN: 1\\n\",\"right\\nQ: -2.715\\nN: 3\\n\",\"up\\nQ: 0.5582102445000001\\nN: 6\\n\",\"down\\nQ: 0.0\\nN: 7\\n\",\"left\\nQ: 0.0\\nN: 5\\n\",\"right\\nQ: -0.31381059609000006\\nN: 5\\n\",\"up\\nQ: 10.0\\nN: 125\\n\",\"down\\nQ: 10.0\\nN: 125\\n\",\"left\\nQ: 10.0\\nN: 124\\n\",\"right\\nQ: 10.0\\nN: 124\\n\",\"up\\nQ: 4.029761451724139\\nN: 29\\n\",\"down\\nQ: 2.1586721399999997\\nN: 15\\n\",\"left\\nQ: 5.358140163000001\\nN: 27\\n\",\"right\\nQ: 0.0\\nN: 16\\n\",\"up\\nQ: 5.196997225022729\\nN: 132\\n\",\"down\\nQ: 0.0\\nN: 15\\n\",\"left\\nQ: 2.2736770323798376\\nN: 24\\n\",\"right\\nQ: 0.0\\nN: 11\\n\",\"up\\nQ: -0.3645\\nN: 10\\n\",\"down\\nQ: 0.0\\nN: 10\\n\",\"left\\nQ: -0.32805\\nN: 9\\n\",\"right\\nQ: -1.0414285714285714\\nN: 7\\n\",\"up\\nQ: 0.0\\nN: 2\\n\",\"down\\nQ: 0.0\\nN: 2\\n\",\"left\\nQ: 0.0\\nN: 0\\n\",\"right\\nQ: 0.0\\nN: 0\\n\",\"up\\nQ: 0.0\\nN: 7\\n\",\"down\\nQ: -0.3506155425450001\\nN: 9\\n\",\"left\\nQ: 0.729\\nN: 9\\n\",\"right\\nQ: 0.11622614670000003\\nN: 9\\n\",\"up\\nQ: -0.7845264902250003\\nN: 2\\n\",\"down\\nQ: 0.0\\nN: 3\\n\",\"left\\nQ: 1.0786721400000001\\nN: 5\\n\",\"right\\nQ: 0.0\\nN: 4\\n\",\"up\\nQ: 3.1548626845137937\\nN: 29\\n\",\"down\\nQ: 0.0\\nN: 14\\n\",\"left\\nQ: 2.8595480625000005\\nN: 16\\n\",\"right\\nQ: 0.0\\nN: 20\\n\",\"up\\nQ: 0.0\\nN: 3\\n\",\"down\\nQ: 0.0\\nN: 2\\n\",\"left\\nQ: 0.0\\nN: 3\\n\",\"right\\nQ: 1.1875410000000002\\nN: 3\\n\",\"up\\nQ: -5.0\\nN: 2\\n\",\"down\\nQ: -5.0\\nN: 2\\n\",\"left\\nQ: -5.0\\nN: 2\\n\",\"right\\nQ: -5.0\\nN: 2\\n\",\"up\\nQ: 1.215\\nN: 2\\n\",\"down\\nQ: 0.6457008150000002\\nN: 2\\n\",\"left\\nQ: 0.0\\nN: 2\\n\",\"right\\nQ: 0.0\\nN: 3\\n\",\"up\\nQ: 2.7\\nN: 2\\n\",\"down\\nQ: 0.0\\nN: 0\\n\",\"left\\nQ: 0.0\\nN: 0\\n\",\"right\\nQ: 0.0\\nN: 0\\n\",\"up\\nQ: -1.832625\\nN: 4\\n\",\"down\\nQ: 0.0\\nN: 5\\n\",\"left\\nQ: 0.0\\nN: 5\\n\",\"right\\nQ: -1.0125\\nN: 4\\n\",\"up\\nQ: 2.25\\nN: 4\\n\",\"down\\nQ: 1.215\\nN: 6\\n\",\"left\\nQ: 7.371099999999999\\nN: 18\\n\",\"right\\nQ: 0.0\\nN: 6\\n\",\"up\\nQ: -0.8100000000000002\\nN: 5\\n\",\"down\\nQ: -3.3328623150000003\\nN: 6\\n\",\"left\\nQ: -0.8015901750000001\\nN: 6\\n\",\"right\\nQ: -0.8099999999999999\\nN: 5\\n\",\"up\\nQ: 0.0\\nN: 3\\n\",\"down\\nQ: 4.679235\\nN: 6\\n\",\"left\\nQ: 1.6200000000000003\\nN: 5\\n\",\"right\\nQ: 0.0\\nN: 11\\n\",\"up\\nQ: 0.0\\nN: 0\\n\",\"down\\nQ: 0.0\\nN: 0\\n\",\"left\\nQ: 0.0\\nN: 0\\n\",\"right\\nQ: 0.0\\nN: 0\\n\",\"up\\nQ: 0.0\\nN: 2\\n\",\"down\\nQ: 0.0\\nN: 1\\n\",\"left\\nQ: -4.5\\nN: 1\\n\",\"right\\nQ: 0.0\\nN: 0\\n\",\"up\\nQ: -1.5\\nN: 3\\n\",\"down\\nQ: -1.5\\nN: 3\\n\",\"left\\nQ: 0.0\\nN: 3\\n\",\"right\\nQ: -4.5\\nN: 2\\n\",\"up\\nQ: 0.0\\nN: 2\\n\",\"down\\nQ: -3.645\\nN: 1\\n\",\"left\\nQ: 0.0\\nN: 0\\n\",\"right\\nQ: 0.0\\nN: 0\\n\",\"up\\nQ: 0.0\\nN: 0\\n\",\"down\\nQ: 0.0\\nN: 0\\n\",\"left\\nQ: 0.0\\nN: 0\\n\",\"right\\nQ: 0.0\\nN: 0\\n\",\"up\\nQ: 1.215\\nN: 2\\n\",\"down\\nQ: 0.0\\nN: 1\\n\",\"left\\nQ: 0.0\\nN: 0\\n\",\"right\\nQ: 0.0\\nN: 0\\n\",\"up\\nQ: 0.0\\nN: 1\\n\",\"down\\nQ: 0.0\\nN: 0\\n\",\"left\\nQ: 0.0\\nN: 0\\n\",\"right\\nQ: 0.0\\nN: 0\\n\",\"up\\nQ: 0.0\\nN: 4\\n\",\"down\\nQ: 7.0632\\nN: 25\\n\",\"left\\nQ: 0.0\\nN: 4\\n\",\"right\\nQ: 1.1957422500000001\\nN: 4\\n\",\"up\\nQ: 0.0\\nN: 0\\n\",\"down\\nQ: 0.0\\nN: 0\\n\",\"left\\nQ: 0.0\\nN: 0\\n\",\"right\\nQ: 0.0\\nN: 0\\n\",\"up\\nQ: 3.0\\nN: 1\\n\",\"down\\nQ: 0.0\\nN: 0\\n\",\"left\\nQ: 0.0\\nN: 0\\n\",\"right\\nQ: 0.0\\nN: 0\\n\",\"up\\nQ: 0.0\\nN: 0\\n\",\"down\\nQ: 0.0\\nN: 0\\n\",\"left\\nQ: 0.0\\nN: 0\\n\",\"right\\nQ: 0.0\\nN: 0\\n\",\"up\\nQ: 0.0\\nN: 3\\n\",\"down\\nQ: 0.0\\nN: 3\\n\",\"left\\nQ: 0.0\\nN: 4\\n\",\"right\\nQ: 0.0\\nN: 3\\n\",\"up\\nQ: 0.0\\nN: 1\\n\",\"down\\nQ: 0.0\\nN: 0\\n\",\"left\\nQ: 0.0\\nN: 0\\n\",\"right\\nQ: 0.0\\nN: 0\\n\",\"up\\nQ: 0.0\\nN: 1\\n\",\"down\\nQ: 0.0\\nN: 0\\n\",\"left\\nQ: 0.0\\nN: 0\\n\",\"right\\nQ: 0.0\\nN: 0\\n\",\"up\\nQ: 0.0\\nN: 0\\n\",\"down\\nQ: 0.0\\nN: 0\\n\",\"left\\nQ: 0.0\\nN: 0\\n\",\"right\\nQ: 0.0\\nN: 0\\n\",\"up\\nQ: 0.0\\nN: 2\\n\",\"down\\nQ: 0.0\\nN: 1\\n\",\"left\\nQ: 0.0\\nN: 1\\n\",\"right\\nQ: 0.0\\nN: 0\\n\",\"up\\nQ: 0.0\\nN: 2\\n\",\"down\\nQ: 0.0\\nN: 0\\n\",\"left\\nQ: 0.0\\nN: 0\\n\",\"right\\nQ: 0.0\\nN: 0\\n\",\"up\\nQ: 0.0\\nN: 2\\n\",\"down\\nQ: 0.0\\nN: 0\\n\",\"left\\nQ: 0.0\\nN: 0\\n\",\"right\\nQ: 0.0\\nN: 0\\n\",\"up\\nQ: 0.0\\nN: 3\\n\",\"down\\nQ: 0.0\\nN: 0\\n\",\"left\\nQ: 0.0\\nN: 0\\n\",\"right\\nQ: 0.0\\nN: 0\\n\",\"up\\nQ: 0.0\\nN: 0\\n\",\"down\\nQ: 0.0\\nN: 0\\n\",\"left\\nQ: 0.0\\nN: 0\\n\",\"right\\nQ: 0.0\\nN: 0\\n\",\"up\\nQ: 0.0\\nN: 1\\n\",\"down\\nQ: 0.0\\nN: 0\\n\",\"left\\nQ: 0.0\\nN: 0\\n\",\"right\\nQ: 0.0\\nN: 0\\n\",\"up\\nQ: 0.0\\nN: 0\\n\",\"down\\nQ: 0.0\\nN: 0\\n\",\"left\\nQ: 0.0\\nN: 0\\n\",\"right\\nQ: 0.0\\nN: 0\\n\",\"up\\nQ: 0.0\\nN: 0\\n\",\"down\\nQ: 0.0\\nN: 0\\n\",\"left\\nQ: 0.0\\nN: 0\\n\",\"right\\nQ: 0.0\\nN: 0\\n\",\"up\\nQ: 0.0\\nN: 0\\n\",\"down\\nQ: 0.0\\nN: 0\\n\",\"left\\nQ: 0.0\\nN: 0\\n\",\"right\\nQ: 0.0\\nN: 0\\n\",\"up\\nQ: 0.0\\nN: 0\\n\",\"down\\nQ: 0.0\\nN: 0\\n\",\"left\\nQ: 0.0\\nN: 0\\n\",\"right\\nQ: 0.0\\nN: 0\\n\"],\"link_style\":[\"stroke-width:20.0px\",\"stroke-width:6.928203230275509px\",\"stroke-width:8.16496580927726px\",\"stroke-width:16.32993161855452px\",\"stroke-width:11.547005383792515px\",\"stroke-width:20.0px\",\"stroke-width:17.88854381999832px\",\"stroke-width:7.1458960101049644px\",\"stroke-width:14.142135623730951px\",\"stroke-width:16.46109783506203px\",\"stroke-width:7.559289460184544px\",\"stroke-width:15.491933384829668px\",\"stroke-width:5.381382351970499px\",\"stroke-width:20.0px\",\"stroke-width:4.714045207910317px\",\"stroke-width:16.32993161855452px\",\"stroke-width:8.0px\",\"stroke-width:8.94427190999916px\",\"stroke-width:16.32993161855452px\",\"stroke-width:20.0px\",\"stroke-width:11.547005383792515px\",\"stroke-width:7.78498944161523px\",\"stroke-width:17.638342073763937px\",\"stroke-width:6.928203230275509px\",\"stroke-width:6.419666752419568px\",\"stroke-width:14.142135623730951px\",\"stroke-width:6.531972647421808px\",\"stroke-width:5.252257314388902px\",\"stroke-width:7.62000762001143px\",\"stroke-width:16.934947677220283px\",\"stroke-width:7.559289460184544px\",\"stroke-width:7.0710678118654755px\",\"stroke-width:20.0px\",\"stroke-width:17.88854381999832px\",\"stroke-width:6.279858256227593px\",\"stroke-width:16.903085094570333px\",\"stroke-width:10.0px\",\"stroke-width:11.607620001760186px\",\"stroke-width:11.547005383792515px\",\"stroke-width:16.32993161855452px\",\"stroke-width:9.128709291752768px\",\"stroke-width:7.888106377466155px\",\"stroke-width:9.82607368881035px\",\"stroke-width:11.547005383792515px\",\"stroke-width:16.903085094570333px\",\"stroke-width:6.666666666666666px\",\"stroke-width:10.0px\",\"stroke-width:7.0710678118654755px\",\"stroke-width:19.32183566158592px\",\"stroke-width:6.452050780644717px\",\"stroke-width:14.446302370292303px\",\"stroke-width:5.0px\",\"stroke-width:7.0710678118654755px\",\"stroke-width:16.877454928053723px\",\"stroke-width:6.030226891555273px\",\"stroke-width:5.773502691896257px\",\"stroke-width:5.773502691896257px\",\"stroke-width:17.227135384282178px\",\"stroke-width:20.0px\",\"stroke-width:16.903085094570333px\",\"stroke-width:16.32993161855452px\",\"stroke-width:20.0px\",\"stroke-width:7.4833147735478835px\",\"stroke-width:5.773502691896257px\",\"stroke-width:9.258200997725513px\",\"stroke-width:20.0px\",\"stroke-width:20.0px\",\"stroke-width:11.547005383792515px\",\"stroke-width:5.0px\",\"stroke-width:7.171371656006361px\",\"stroke-width:11.547005383792515px\",\"stroke-width:15.634719199411434px\",\"stroke-width:6.172133998483677px\",\"stroke-width:11.547005383792515px\",\"stroke-width:5.694947974514994px\",\"stroke-width:8.94427190999916px\",\"stroke-width:16.71063383055436px\",\"stroke-width:16.5597948092273px\",\"stroke-width:5.252257314388902px\",\"stroke-width:6.761234037828132px\",\"stroke-width:14.142135623730951px\",\"stroke-width:10.327955589886443px\",\"stroke-width:11.547005383792515px\",\"stroke-width:16.820428926406503px\",\"stroke-width:4.714045207910317px\",\"stroke-width:16.73320053068151px\",\"stroke-width:8.16496580927726px\",\"stroke-width:14.142135623730951px\",\"stroke-width:16.621933094373063px\",\"stroke-width:8.94427190999916px\",\"stroke-width:16.939791077198397px\",\"stroke-width:5.3452248382484875px\",\"stroke-width:20.0px\",\"stroke-width:6.558258357839529px\",\"stroke-width:16.820428926406503px\",\"stroke-width:9.428090415820634px\",\"stroke-width:4.714045207910317px\",\"stroke-width:7.175315220591461px\",\"stroke-width:7.674901275524077px\",\"stroke-width:16.73320053068151px\",\"stroke-width:20.0px\",\"stroke-width:11.547005383792515px\",\"stroke-width:17.45743121887939px\",\"stroke-width:5.65685424949238px\",\"stroke-width:7.213357077339459px\",\"stroke-width:20.0px\",\"stroke-width:5.1639777949432215px\",\"stroke-width:8.16496580927726px\",\"stroke-width:8.263938705413373px\",\"stroke-width:6.8030134304980745px\",\"stroke-width:17.32050807568877px\",\"stroke-width:11.141720290623113px\",\"stroke-width:7.184212081070997px\",\"stroke-width:8.066268964598326px\",\"stroke-width:16.32993161855452px\",\"stroke-width:7.947194142390263px\",\"stroke-width:6.683960253870804px\",\"stroke-width:5.3452248382484875px\",\"stroke-width:7.175315220591461px\",\"stroke-width:6.831300510639732px\",\"stroke-width:7.0710678118654755px\",\"stroke-width:11.547005383792515px\",\"stroke-width:7.867634957802902px\",\"stroke-width:7.947194142390263px\",\"stroke-width:6.713450866373512px\",\"stroke-width:14.142135623730951px\",\"stroke-width:20.0px\",\"stroke-width:7.0710678118654755px\",\"stroke-width:7.0710678118654755px\",\"stroke-width:7.7184498498795975px\",\"stroke-width:17.116008485592463px\",\"stroke-width:6.666666666666666px\",\"stroke-width:6.324555320336759px\",\"stroke-width:14.142135623730951px\",\"stroke-width:8.320502943378438px\",\"stroke-width:8.06946584785929px\",\"stroke-width:10.327955589886443px\",\"stroke-width:16.62418829187267px\",\"stroke-width:14.907119849998598px\",\"stroke-width:9.551338658818386px\",\"stroke-width:6.030226891555273px\",\"stroke-width:20.0px\",\"stroke-width:10.0px\",\"stroke-width:7.559289460184544px\",\"stroke-width:20.0px\",\"stroke-width:11.547005383792515px\",\"stroke-width:4.85071250072666px\",\"stroke-width:18.516401995451027px\",\"stroke-width:20.0px\",\"stroke-width:10.621700090875887px\",\"stroke-width:3.651483716701107px\",\"stroke-width:8.94427190999916px\",\"stroke-width:7.296214803725779px\",\"stroke-width:14.142135623730951px\",\"stroke-width:5.318160234783105px\",\"stroke-width:6.7267279399631255px\",\"stroke-width:20.0px\",\"stroke-width:8.528028654224418px\",\"stroke-width:16.32993161855452px\",\"stroke-width:11.547005383792515px\",\"stroke-width:20.0px\",\"stroke-width:6.928203230275509px\",\"stroke-width:6.488856845230502px\",\"stroke-width:12.649110640673518px\",\"stroke-width:4.85071250072666px\",\"stroke-width:15.856499343441836px\",\"stroke-width:7.659416862050705px\",\"stroke-width:5.897678246195886px\",\"stroke-width:9.111469032188404px\",\"stroke-width:4.85071250072666px\",\"stroke-width:20.0px\",\"stroke-width:20.0px\",\"stroke-width:16.931233465600393px\",\"stroke-width:6.8030134304980745px\",\"stroke-width:17.258978545253825px\",\"stroke-width:17.45743121887939px\",\"stroke-width:6.030226891555273px\",\"stroke-width:6.523280730534422px\",\"stroke-width:6.110100926607787px\",\"stroke-width:20.0px\",\"stroke-width:18.149704259460602px\",\"stroke-width:15.118578920369089px\",\"stroke-width:9.607689228305228px\",\"stroke-width:8.052459578486431px\",\"stroke-width:11.180339887498949px\",\"stroke-width:6.259014118210532px\",\"stroke-width:7.1458960101049644px\",\"stroke-width:10.0px\",\"stroke-width:4.714045207910317px\",\"stroke-width:14.142135623730951px\",\"stroke-width:17.126976771553505px\",\"stroke-width:11.547005383792515px\",\"stroke-width:8.94427190999916px\",\"stroke-width:11.547005383792515px\",\"stroke-width:10.0px\",\"stroke-width:17.32050807568877px\",\"stroke-width:16.435628072266365px\",\"stroke-width:17.580981459830653px\",\"stroke-width:7.6753774776028205px\",\"stroke-width:5.0px\",\"stroke-width:17.88854381999832px\",\"stroke-width:12.649110640673518px\",\"stroke-width:14.142135623730951px\",\"stroke-width:10.0px\",\"stroke-width:6.488856845230502px\",\"stroke-width:8.052459578486431px\",\"stroke-width:11.547005383792515px\",\"stroke-width:15.689290811054724px\",\"stroke-width:14.142135623730951px\",\"stroke-width:15.0px\",\"stroke-width:17.32050807568877px\",\"stroke-width:14.142135623730951px\",\"stroke-width:8.241633836921341px\",\"stroke-width:20.0px\",\"stroke-width:8.606629658238704px\",\"stroke-width:7.9646797391996635px\",\"stroke-width:16.32993161855452px\",\"stroke-width:11.547005383792515px\",\"stroke-width:16.527877410826747px\",\"stroke-width:5.1639777949432215px\",\"stroke-width:12.649110640673518px\",\"stroke-width:20.0px\",\"stroke-width:20.0px\",\"stroke-width:8.16496580927726px\",\"stroke-width:5.0px\",\"stroke-width:8.346431653605906px\",\"stroke-width:5.47722557505166px\",\"stroke-width:16.32993161855452px\",\"stroke-width:17.32050807568877px\",\"stroke-width:6.221710168382551px\",\"stroke-width:8.94427190999916px\",\"stroke-width:17.638342073763937px\",\"stroke-width:4.364357804719847px\",\"stroke-width:20.0px\",\"stroke-width:11.547005383792515px\",\"stroke-width:6.28335256694382px\",\"stroke-width:16.24283802892963px\",\"stroke-width:6.54653670707977px\",\"stroke-width:20.0px\",\"stroke-width:16.32993161855452px\",\"stroke-width:7.559289460184544px\",\"stroke-width:6.601168002286672px\",\"stroke-width:5.47722557505166px\",\"stroke-width:20.0px\",\"stroke-width:17.88854381999832px\",\"stroke-width:8.544226254106853px\",\"stroke-width:5.443310539518174px\",\"stroke-width:7.844645405527362px\",\"stroke-width:3.481553119113957px\",\"stroke-width:8.072703346825195px\",\"stroke-width:6.030226891555273px\",\"stroke-width:4.747126632775414px\",\"stroke-width:16.97056274847714px\",\"stroke-width:7.47756501105966px\",\"stroke-width:7.1458960101049644px\",\"stroke-width:4.47213595499958px\",\"stroke-width:14.142135623730951px\",\"stroke-width:10.95445115010332px\",\"stroke-width:20.0px\",\"stroke-width:5.65685424949238px\",\"stroke-width:18.09068067466582px\",\"stroke-width:20.0px\",\"stroke-width:15.811388300841898px\",\"stroke-width:7.302967433402214px\",\"stroke-width:7.302967433402214px\",\"stroke-width:6.176109608556767px\",\"stroke-width:5.08000508000762px\",\"stroke-width:20.0px\",\"stroke-width:4.264014327112209px\",\"stroke-width:6.432675209026769px\",\"stroke-width:17.019258867935264px\",\"stroke-width:7.0710678118654755px\",\"stroke-width:20.0px\",\"stroke-width:16.32993161855452px\",\"stroke-width:14.142135623730951px\",\"stroke-width:4.170288281141495px\",\"stroke-width:20.0px\",\"stroke-width:20.0px\",\"stroke-width:16.70894672763861px\",\"stroke-width:6.984302957695782px\",\"stroke-width:7.272727272727273px\",\"stroke-width:11.547005383792515px\",\"stroke-width:8.94427190999916px\",\"stroke-width:11.547005383792515px\",\"stroke-width:8.16496580927726px\",\"stroke-width:6.030226891555273px\",\"stroke-width:7.277914298044486px\",\"stroke-width:16.32993161855452px\",\"stroke-width:17.88854381999832px\",\"stroke-width:20.0px\",\"stroke-width:6.984302957695782px\",\"stroke-width:7.559289460184544px\",\"stroke-width:16.97056274847714px\",\"stroke-width:17.88854381999832px\",\"stroke-width:15.811388300841898px\",\"stroke-width:5.834599659915782px\",\"stroke-width:6.666666666666666px\",\"stroke-width:10.0px\",\"stroke-width:6.253490645343338px\",\"stroke-width:18.586407545691703px\",\"stroke-width:6.488856845230502px\",\"stroke-width:5.773502691896257px\",\"stroke-width:11.547005383792515px\",\"stroke-width:5.897678246195886px\",\"stroke-width:20.0px\",\"stroke-width:14.142135623730951px\",\"stroke-width:17.32050807568877px\",\"stroke-width:15.894388284780526px\",\"stroke-width:6.18852747755276px\",\"stroke-width:17.234549688642783px\",\"stroke-width:7.559289460184544px\",\"stroke-width:16.41360389110399px\",\"stroke-width:8.94427190999916px\",\"stroke-width:10.0px\",\"stroke-width:6.246950475544243px\",\"stroke-width:7.0710678118654755px\",\"stroke-width:5.0px\",\"stroke-width:20.0px\",\"stroke-width:6.666666666666666px\",\"stroke-width:8.16496580927726px\",\"stroke-width:18.149704259460602px\",\"stroke-width:8.16496580927726px\",\"stroke-width:12.649110640673518px\",\"stroke-width:6.50203220264462px\",\"stroke-width:6.74199862463242px\",\"stroke-width:16.78393739647079px\",\"stroke-width:17.75250729197189px\",\"stroke-width:19.06925178491185px\",\"stroke-width:11.547005383792515px\",\"stroke-width:16.126873399000083px\",\"stroke-width:16.857131900996734px\",\"stroke-width:7.0710678118654755px\",\"stroke-width:15.978709238739224px\",\"stroke-width:16.583123951776997px\",\"stroke-width:16.32993161855452px\",\"stroke-width:6.29940788348712px\",\"stroke-width:8.94427190999916px\",\"stroke-width:20.0px\",\"stroke-width:6.900655593423543px\",\"stroke-width:4.649905549752772px\",\"stroke-width:9.534625892455924px\",\"stroke-width:10.0px\",\"stroke-width:20.0px\",\"stroke-width:10.632190661423898px\",\"stroke-width:6.527139518645054px\",\"stroke-width:6.501387639351571px\",\"stroke-width:3.922322702763681px\",\"stroke-width:8.94427190999916px\",\"stroke-width:4.92365963917331px\",\"stroke-width:17.3983534480336px\",\"stroke-width:5.843487097907776px\",\"stroke-width:12.649110640673518px\",\"stroke-width:20.0px\",\"stroke-width:17.020062857772874px\",\"stroke-width:18.257418583505537px\",\"stroke-width:18.257418583505537px\",\"stroke-width:8.606629658238704px\",\"stroke-width:16.32993161855452px\",\"stroke-width:8.16496580927726px\",\"stroke-width:15.657627225176254px\",\"stroke-width:6.030226891555273px\",\"stroke-width:9.607689228305228px\",\"stroke-width:7.223151185146151px\",\"stroke-width:8.94427190999916px\",\"stroke-width:20.0px\",\"stroke-width:8.60283735593596px\",\"stroke-width:11.547005383792515px\",\"stroke-width:6.1190622136426445px\",\"stroke-width:16.165807537309522px\",\"stroke-width:8.528028654224418px\",\"stroke-width:6.030226891555273px\",\"stroke-width:8.94427190999916px\",\"stroke-width:15.894388284780526px\",\"stroke-width:17.32050807568877px\",\"stroke-width:20.0px\",\"stroke-width:8.94427190999916px\",\"stroke-width:14.142135623730951px\",\"stroke-width:20.0px\",\"stroke-width:8.16496580927726px\",\"stroke-width:8.16496580927726px\",\"stroke-width:8.451542547285166px\",\"stroke-width:17.728105208558368px\",\"stroke-width:20.0px\",\"stroke-width:20.0px\",\"stroke-width:14.142135623730951px\",\"stroke-width:6.523280730534422px\",\"stroke-width:4.47213595499958px\",\"stroke-width:6.172133998483677px\",\"stroke-width:7.0710678118654755px\",\"stroke-width:7.559289460184544px\",\"stroke-width:4.85071250072666px\",\"stroke-width:20.0px\",\"stroke-width:6.485637367560112px\",\"stroke-width:8.16496580927726px\",\"stroke-width:5.843487097907776px\",\"stroke-width:6.580195215353793px\",\"stroke-width:20.0px\",\"stroke-width:7.4376843799781px\",\"stroke-width:8.16496580927726px\",\"stroke-width:17.32050807568877px\",\"stroke-width:20.0px\",\"stroke-width:6.601168002286672px\",\"stroke-width:6.786796450506385px\",\"stroke-width:20.0px\",\"stroke-width:20.0px\",\"stroke-width:20.0px\",\"stroke-width:17.097008285302206px\",\"stroke-width:6.886412739037004px\",\"stroke-width:6.338978498293434px\",\"stroke-width:16.32993161855452px\",\"stroke-width:8.16496580927726px\",\"stroke-width:16.32993161855452px\",\"stroke-width:20.0px\",\"stroke-width:17.88854381999832px\",\"stroke-width:6.666666666666666px\",\"stroke-width:7.294587663076778px\",\"stroke-width:16.035674514745462px\",\"stroke-width:18.30669645608227px\",\"stroke-width:13.764944032233705px\",\"stroke-width:5.773502691896257px\",\"stroke-width:16.32993161855452px\",\"stroke-width:17.638342073763937px\",\"stroke-width:5.1639777949432215px\",\"stroke-width:4.0px\",\"stroke-width:14.142135623730951px\",\"stroke-width:17.097008285302206px\",\"stroke-width:5.865884600854132px\",\"stroke-width:4.216370213557839px\",\"stroke-width:20.0px\",\"stroke-width:8.304547985373997px\",\"stroke-width:10.95445115010332px\",\"stroke-width:20.0px\",\"stroke-width:14.142135623730951px\",\"stroke-width:6.030226891555273px\",\"stroke-width:20.0px\",\"stroke-width:10.690449676496975px\",\"stroke-width:17.081593073182848px\",\"stroke-width:4.85071250072666px\",\"stroke-width:17.056057308448835px\",\"stroke-width:6.085806194501846px\",\"stroke-width:7.177405625652734px\",\"stroke-width:20.0px\",\"stroke-width:7.844645405527362px\",\"stroke-width:7.302967433402214px\",\"stroke-width:17.34434911667174px\",\"stroke-width:20.0px\",\"stroke-width:8.066557932144017px\",\"stroke-width:6.793662204867575px\",\"stroke-width:16.865480854231357px\",\"stroke-width:11.547005383792515px\",\"stroke-width:15.491933384829668px\",\"stroke-width:16.464336614795304px\",\"stroke-width:4.026936331284146px\",\"stroke-width:20.0px\",\"stroke-width:16.32993161855452px\",\"stroke-width:16.609095970747994px\",\"stroke-width:8.366600265340756px\",\"stroke-width:5.0px\",\"stroke-width:17.126976771553505px\",\"stroke-width:11.547005383792515px\",\"stroke-width:6.172133998483677px\",\"stroke-width:6.259014118210532px\",\"stroke-width:15.811388300841898px\",\"stroke-width:16.283996417521184px\",\"stroke-width:7.492686492653552px\",\"stroke-width:5.198752449100363px\",\"stroke-width:14.142135623730951px\",\"stroke-width:6.819943394704735px\",\"stroke-width:15.756771943166708px\",\"stroke-width:5.773502691896257px\",\"stroke-width:8.16496580927726px\",\"stroke-width:14.142135623730951px\",\"stroke-width:6.030226891555273px\",\"stroke-width:12.649110640673518px\",\"stroke-width:16.32993161855452px\",\"stroke-width:8.16496580927726px\",\"stroke-width:5.897678246195886px\",\"stroke-width:7.022468831767834px\",\"stroke-width:20.0px\",\"stroke-width:4.0px\",\"stroke-width:7.559289460184544px\",\"stroke-width:16.610666744135873px\",\"stroke-width:14.142135623730951px\",\"stroke-width:17.88854381999832px\",\"stroke-width:8.94427190999916px\",\"stroke-width:11.547005383792515px\",\"stroke-width:5.494422557947561px\",\"stroke-width:17.48402290408501px\",\"stroke-width:7.184212081070997px\",\"stroke-width:14.142135623730951px\",\"stroke-width:6.96568087549032px\",\"stroke-width:6.246950475544243px\",\"stroke-width:6.928203230275509px\",\"stroke-width:20.0px\",\"stroke-width:14.142135623730951px\",\"stroke-width:2.917299829957891px\",\"stroke-width:15.93255013631383px\",\"stroke-width:20.0px\",\"stroke-width:16.583123951776997px\",\"stroke-width:6.135719910778964px\",\"stroke-width:4.714045207910317px\",\"stroke-width:17.17409371552091px\",\"stroke-width:8.846517369293828px\",\"stroke-width:15.118578920369089px\",\"stroke-width:17.32050807568877px\",\"stroke-width:14.770978917519928px\",\"stroke-width:4.399413450640599px\",\"stroke-width:3.067859955389482px\",\"stroke-width:6.488856845230502px\",\"stroke-width:6.575959492214292px\",\"stroke-width:7.184212081070997px\",\"stroke-width:6.59380473395787px\",\"stroke-width:5.547001962252292px\",\"stroke-width:16.32993161855452px\",\"stroke-width:16.098807335735653px\",\"stroke-width:12.47219128924647px\",\"stroke-width:15.249857033260469px\",\"stroke-width:20.0px\",\"stroke-width:8.432740427115679px\",\"stroke-width:6.666666666666666px\",\"stroke-width:20.0px\",\"stroke-width:16.94637091472647px\",\"stroke-width:17.88854381999832px\",\"stroke-width:14.142135623730951px\",\"stroke-width:8.70571500132014px\",\"stroke-width:17.167901505579042px\",\"stroke-width:20.0px\",\"stroke-width:10.690449676496975px\",\"stroke-width:15.491933384829668px\",\"stroke-width:4.85071250072666px\",\"stroke-width:5.962847939999439px\",\"stroke-width:7.0710678118654755px\",\"stroke-width:16.441283084774263px\",\"stroke-width:6.666666666666666px\",\"stroke-width:7.559289460184544px\",\"stroke-width:10.0px\",\"stroke-width:16.32993161855452px\",\"stroke-width:3.244428422615251px\",\"stroke-width:6.030226891555273px\",\"stroke-width:4.649905549752772px\",\"stroke-width:4.08248290463863px\",\"stroke-width:8.16496580927726px\",\"stroke-width:6.324555320336759px\",\"stroke-width:18.708286933869708px\",\"stroke-width:7.26843784311631px\",\"stroke-width:17.1945390724219px\",\"stroke-width:5.443310539518174px\",\"stroke-width:20.0px\",\"stroke-width:7.559289460184544px\",\"stroke-width:8.16496580927726px\",\"stroke-width:20.0px\",\"stroke-width:7.0710678118654755px\",\"stroke-width:8.16496580927726px\",\"stroke-width:15.491933384829668px\",\"stroke-width:16.758611631927845px\",\"stroke-width:17.21325931647741px\",\"stroke-width:7.78498944161523px\",\"stroke-width:19.27248223318863px\",\"stroke-width:6.793662204867575px\",\"stroke-width:14.142135623730951px\",\"stroke-width:14.142135623730951px\",\"stroke-width:6.221710168382551px\",\"stroke-width:12.24744871391589px\",\"stroke-width:8.251369970070346px\",\"stroke-width:18.149704259460602px\",\"stroke-width:7.302967433402214px\",\"stroke-width:10.0px\",\"stroke-width:8.94427190999916px\",\"stroke-width:7.637626158259733px\",\"stroke-width:20.0px\",\"stroke-width:7.637626158259733px\",\"stroke-width:16.865480854231357px\",\"stroke-width:5.1425947722658005px\",\"stroke-width:7.698003589195011px\",\"stroke-width:7.302967433402214px\",\"stroke-width:8.16496580927726px\",\"stroke-width:11.547005383792515px\",\"stroke-width:8.45929270255634px\",\"stroke-width:6.666666666666666px\",\"stroke-width:16.73320053068151px\",\"stroke-width:5.3452248382484875px\",\"stroke-width:10.0px\",\"stroke-width:7.682212795973759px\",\"stroke-width:16.545181073647292px\",\"stroke-width:17.994708216848746px\",\"stroke-width:15.811388300841898px\",\"stroke-width:10.0px\",\"stroke-width:7.4965556829412px\",\"stroke-width:18.064212949190015px\",\"stroke-width:6.030226891555273px\",\"stroke-width:20.0px\",\"stroke-width:7.559289460184544px\",\"stroke-width:16.590037908279932px\",\"stroke-width:8.180473830485294px\",\"stroke-width:16.0px\",\"stroke-width:7.470873676376284px\",\"stroke-width:7.977240352174656px\",\"stroke-width:11.180339887498949px\",\"stroke-width:4.85071250072666px\",\"stroke-width:6.74199862463242px\",\"stroke-width:7.184212081070997px\",\"stroke-width:12.649110640673518px\",\"stroke-width:7.0710678118654755px\",\"stroke-width:17.32050807568877px\",\"stroke-width:6.984302957695782px\",\"stroke-width:5.3452248382484875px\",\"stroke-width:8.94427190999916px\",\"stroke-width:16.73320053068151px\",\"stroke-width:4.588314677411235px\",\"stroke-width:9.428090415820634px\",\"stroke-width:7.050116453778216px\",\"stroke-width:4.264014327112209px\",\"stroke-width:16.20355103300802px\",\"stroke-width:16.583123951776997px\",\"stroke-width:14.142135623730951px\",\"stroke-width:20.0px\",\"stroke-width:6.878529035549099px\",\"stroke-width:8.839314341336625px\",\"stroke-width:8.437314737420683px\",\"stroke-width:14.260577839058712px\",\"stroke-width:2.5323557513316737px\",\"stroke-width:8.908350994144188px\",\"stroke-width:7.049780053136069px\",\"stroke-width:16.26434929888781px\",\"stroke-width:6.1605648524201015px\",\"stroke-width:10.83297320058276px\",\"stroke-width:10.646985588529134px\",\"stroke-width:11.46018456274744px\",\"stroke-width:6.790477924306017px\",\"stroke-width:6.061230833151466px\",\"stroke-width:4.457442204090999px\",\"stroke-width:17.241870529149526px\",\"stroke-width:3.5290526284276997px\",\"stroke-width:5.741692517632146px\",\"stroke-width:5.805138559899643px\",\"stroke-width:17.913099142223295px\",\"stroke-width:7.676859336929188px\",\"stroke-width:10.856718590715783px\",\"stroke-width:11.637147309034246px\",\"stroke-width:9.368793661451104px\",\"stroke-width:10.057307059414878px\",\"stroke-width:10.057307059414878px\",\"stroke-width:10.057307059414878px\",\"stroke-width:9.82607368881035px\",\"stroke-width:9.496239857363094px\",\"stroke-width:10.606601717798211px\",\"stroke-width:10.394023007753749px\",\"stroke-width:9.44911182523068px\",\"stroke-width:9.085135251589959px\",\"stroke-width:10.23532631438318px\",\"stroke-width:3.984095364447979px\",\"stroke-width:14.029447488244033px\",\"stroke-width:9.212107905467594px\",\"stroke-width:5.348409363308017px\",\"stroke-width:5.348409363308017px\",\"stroke-width:16.06007791086269px\",\"stroke-width:7.928249671720918px\",\"stroke-width:4.364357804719847px\",\"stroke-width:4.06299600146696px\",\"stroke-width:17.36626907505759px\",\"stroke-width:4.824643223683448px\",\"stroke-width:7.0872920805637785px\",\"stroke-width:4.214755673880203px\",\"stroke-width:17.570684202342207px\",\"stroke-width:9.649598649599923px\",\"stroke-width:9.917694073609294px\",\"stroke-width:9.851354238269419px\",\"stroke-width:10.558191598757126px\",\"stroke-width:6.757373783994859px\",\"stroke-width:8.758557459257961px\",\"stroke-width:7.5246929881696865px\",\"stroke-width:14.86622232478869px\",\"stroke-width:8.34057656228299px\",\"stroke-width:10.767638041163309px\",\"stroke-width:9.325048082403137px\",\"stroke-width:11.293194051465598px\",\"stroke-width:10.36822067666386px\",\"stroke-width:10.0px\",\"stroke-width:10.8397416943394px\",\"stroke-width:8.660254037844386px\",\"stroke-width:9.746794344808963px\",\"stroke-width:9.486832980505138px\",\"stroke-width:10.2469507659596px\",\"stroke-width:10.488088481701517px\",\"stroke-width:NaNpx\",\"stroke-width:NaNpx\",\"stroke-width:NaNpx\",\"stroke-width:NaNpx\",\"stroke-width:12.115650656307652px\",\"stroke-width:8.778622909288577px\",\"stroke-width:11.65245967655591px\",\"stroke-width:6.353500804836986px\",\"stroke-width:10.0px\",\"stroke-width:10.08889063701824px\",\"stroke-width:10.177004891982149px\",\"stroke-width:9.728456051340169px\",\"stroke-width:15.194885906815472px\",\"stroke-width:4.448607079471757px\",\"stroke-width:4.097755995407859px\",\"stroke-width:11.512329613654801px\",\"stroke-width:4.608572235855411px\",\"stroke-width:4.703604341917987px\",\"stroke-width:3.643396256679452px\",\"stroke-width:18.530052127784398px\",\"stroke-width:8.320502943378438px\",\"stroke-width:11.094003924504584px\",\"stroke-width:7.0710678118654755px\",\"stroke-width:12.557559782549621px\",\"stroke-width:8.432740427115679px\",\"stroke-width:12.292725943057183px\",\"stroke-width:8.432740427115679px\",\"stroke-width:10.327955589886443px\",\"stroke-width:9.675588936937935px\",\"stroke-width:9.893045053244826px\",\"stroke-width:10.619131671036408px\",\"stroke-width:9.784921095801632px\",\"stroke-width:10.988845115895122px\",\"stroke-width:10.988845115895122px\",\"stroke-width:10.988845115895122px\",\"stroke-width:6.142951168339512px\",\"stroke-width:9.607689228305228px\",\"stroke-width:9.922778767136677px\",\"stroke-width:10.64099474817882px\",\"stroke-width:9.797958971132712px\",\"stroke-width:8.216666697344186px\",\"stroke-width:3.614851398772667px\",\"stroke-width:6.144065940360002px\",\"stroke-width:16.78301794880928px\",\"stroke-width:10.44465935734187px\",\"stroke-width:9.534625892455924px\",\"stroke-width:10.09049958219026px\",\"stroke-width:9.908673886137246px\",\"stroke-width:16.110727964792762px\",\"stroke-width:3.7712361663282534px\",\"stroke-width:9.189365834726814px\",\"stroke-width:6.4635731432217725px\",\"stroke-width:9.759000729485333px\",\"stroke-width:9.759000729485333px\",\"stroke-width:10.690449676496975px\",\"stroke-width:9.759000729485333px\",\"stroke-width:3.549426037664455px\",\"stroke-width:4.913957837354385px\",\"stroke-width:2.8980942240088736px\",\"stroke-width:18.83761245605768px\",\"stroke-width:9.630868246861535px\",\"stroke-width:9.630868246861535px\",\"stroke-width:11.293194051465598px\",\"stroke-width:9.325048082403137px\",\"stroke-width:7.5981549578096px\",\"stroke-width:9.305801316615883px\",\"stroke-width:7.5981549578096px\",\"stroke-width:14.06904916225318px\",\"stroke-width:9.607689228305228px\",\"stroke-width:7.844645405527362px\",\"stroke-width:9.607689228305228px\",\"stroke-width:12.403473458920846px\",\"stroke-width:9.258200997725513px\",\"stroke-width:10.690449676496975px\",\"stroke-width:10.690449676496975px\",\"stroke-width:9.258200997725513px\",\"stroke-width:19.137408633541824px\",\"stroke-width:3.7844749489706215px\",\"stroke-width:3.3545785027252366px\",\"stroke-width:2.860794159408606px\",\"stroke-width:10.0px\",\"stroke-width:10.0px\",\"stroke-width:10.690449676496975px\",\"stroke-width:9.258200997725513px\",\"stroke-width:10.690449676496975px\",\"stroke-width:7.559289460184544px\",\"stroke-width:7.559289460184544px\",\"stroke-width:13.09307341415954px\",\"stroke-width:10.215078369104983px\",\"stroke-width:11.03354568734741px\",\"stroke-width:9.325048082403137px\",\"stroke-width:9.325048082403137px\",\"stroke-width:10.02006020070253px\",\"stroke-width:10.02006020070253px\",\"stroke-width:9.979899477163945px\",\"stroke-width:9.979899477163945px\",\"stroke-width:11.547005383792515px\",\"stroke-width:8.304547985373997px\",\"stroke-width:11.141720290623113px\",\"stroke-width:8.57690027870236px\",\"stroke-width:17.032612545052803px\",\"stroke-width:5.741692517632146px\",\"stroke-width:7.262730392025629px\",\"stroke-width:4.916891718944417px\",\"stroke-width:10.540925533894598px\",\"stroke-width:10.540925533894598px\",\"stroke-width:10.0px\",\"stroke-width:8.819171036881968px\",\"stroke-width:14.142135623730951px\",\"stroke-width:14.142135623730951px\",\"stroke-width:0.0px\",\"stroke-width:0.0px\",\"stroke-width:9.074852129730301px\",\"stroke-width:10.289915108550531px\",\"stroke-width:10.289915108550531px\",\"stroke-width:10.289915108550531px\",\"stroke-width:7.559289460184544px\",\"stroke-width:9.258200997725513px\",\"stroke-width:11.952286093343936px\",\"stroke-width:10.690449676496975px\",\"stroke-width:12.117567537999312px\",\"stroke-width:8.419386910539691px\",\"stroke-width:9.000703207408192px\",\"stroke-width:10.063092108532551px\",\"stroke-width:10.44465935734187px\",\"stroke-width:8.528028654224418px\",\"stroke-width:10.44465935734187px\",\"stroke-width:10.44465935734187px\",\"stroke-width:10.0px\",\"stroke-width:10.0px\",\"stroke-width:10.0px\",\"stroke-width:10.0px\",\"stroke-width:9.428090415820634px\",\"stroke-width:9.428090415820634px\",\"stroke-width:9.428090415820634px\",\"stroke-width:11.547005383792515px\",\"stroke-width:20.0px\",\"stroke-width:0.0px\",\"stroke-width:0.0px\",\"stroke-width:0.0px\",\"stroke-width:9.428090415820634px\",\"stroke-width:10.540925533894598px\",\"stroke-width:10.540925533894598px\",\"stroke-width:9.428090415820634px\",\"stroke-width:6.859943405700354px\",\"stroke-width:8.40168050416806px\",\"stroke-width:14.552137502179978px\",\"stroke-width:8.40168050416806px\",\"stroke-width:9.534625892455924px\",\"stroke-width:10.44465935734187px\",\"stroke-width:10.44465935734187px\",\"stroke-width:9.534625892455924px\",\"stroke-width:6.928203230275509px\",\"stroke-width:9.797958971132712px\",\"stroke-width:8.94427190999916px\",\"stroke-width:13.2664991614216px\",\"stroke-width:NaNpx\",\"stroke-width:NaNpx\",\"stroke-width:NaNpx\",\"stroke-width:NaNpx\",\"stroke-width:14.142135623730951px\",\"stroke-width:10.0px\",\"stroke-width:10.0px\",\"stroke-width:0.0px\",\"stroke-width:10.44465935734187px\",\"stroke-width:10.44465935734187px\",\"stroke-width:10.44465935734187px\",\"stroke-width:8.528028654224418px\",\"stroke-width:16.32993161855452px\",\"stroke-width:11.547005383792515px\",\"stroke-width:0.0px\",\"stroke-width:0.0px\",\"stroke-width:NaNpx\",\"stroke-width:NaNpx\",\"stroke-width:NaNpx\",\"stroke-width:NaNpx\",\"stroke-width:16.32993161855452px\",\"stroke-width:11.547005383792515px\",\"stroke-width:0.0px\",\"stroke-width:0.0px\",\"stroke-width:20.0px\",\"stroke-width:0.0px\",\"stroke-width:0.0px\",\"stroke-width:0.0px\",\"stroke-width:6.575959492214292px\",\"stroke-width:16.43989873053573px\",\"stroke-width:6.575959492214292px\",\"stroke-width:6.575959492214292px\",\"stroke-width:NaNpx\",\"stroke-width:NaNpx\",\"stroke-width:NaNpx\",\"stroke-width:NaNpx\",\"stroke-width:20.0px\",\"stroke-width:0.0px\",\"stroke-width:0.0px\",\"stroke-width:0.0px\",\"stroke-width:NaNpx\",\"stroke-width:NaNpx\",\"stroke-width:NaNpx\",\"stroke-width:NaNpx\",\"stroke-width:9.607689228305228px\",\"stroke-width:9.607689228305228px\",\"stroke-width:11.094003924504584px\",\"stroke-width:9.607689228305228px\",\"stroke-width:20.0px\",\"stroke-width:0.0px\",\"stroke-width:0.0px\",\"stroke-width:0.0px\",\"stroke-width:20.0px\",\"stroke-width:0.0px\",\"stroke-width:0.0px\",\"stroke-width:0.0px\",\"stroke-width:NaNpx\",\"stroke-width:NaNpx\",\"stroke-width:NaNpx\",\"stroke-width:NaNpx\",\"stroke-width:14.142135623730951px\",\"stroke-width:10.0px\",\"stroke-width:10.0px\",\"stroke-width:0.0px\",\"stroke-width:20.0px\",\"stroke-width:0.0px\",\"stroke-width:0.0px\",\"stroke-width:0.0px\",\"stroke-width:20.0px\",\"stroke-width:0.0px\",\"stroke-width:0.0px\",\"stroke-width:0.0px\",\"stroke-width:20.0px\",\"stroke-width:0.0px\",\"stroke-width:0.0px\",\"stroke-width:0.0px\",\"stroke-width:NaNpx\",\"stroke-width:NaNpx\",\"stroke-width:NaNpx\",\"stroke-width:NaNpx\",\"stroke-width:20.0px\",\"stroke-width:0.0px\",\"stroke-width:0.0px\",\"stroke-width:0.0px\",\"stroke-width:NaNpx\",\"stroke-width:NaNpx\",\"stroke-width:NaNpx\",\"stroke-width:NaNpx\",\"stroke-width:NaNpx\",\"stroke-width:NaNpx\",\"stroke-width:NaNpx\",\"stroke-width:NaNpx\",\"stroke-width:NaNpx\",\"stroke-width:NaNpx\",\"stroke-width:NaNpx\",\"stroke-width:NaNpx\",\"stroke-width:NaNpx\",\"stroke-width:NaNpx\",\"stroke-width:NaNpx\",\"stroke-width:NaNpx\"],\"title\":\"MCTS tree\",\"text\":[\"GridWorldState(4, 1, false)\\nN:   1843\\n\",\"GridWorldState(5, 3, false)\\nN:    126\\n\",\"GridWorldState(3, 6, false)\\nN:     11\\n\",\"GridWorldState(9, 6, false)\\nN:      1\\n\",\"GridWorldState(4, 5, false)\\nN:      7\\n\",\"GridWorldState(10, 1, false)\\nN:     79\\n\",\"GridWorldState(1, 3, false)\\nN:    188\\n\",\"GridWorldState(8, 2, false)\\nN:    551\\n\",\"GridWorldState(4, 5, false)\\nN:      7\\n\",\"GridWorldState(6, 3, false)\\nN:    219\\n\",\"GridWorldState(7, 3, false)\\nN:    452\\n\",\"GridWorldState(6, 6, false)\\nN:     11\\n\",\"GridWorldState(7, 3, false)\\nN:    452\\n\",\"GridWorldState(10, 7, false)\\nN:      0\\n\",\"GridWorldState(3, 4, false)\\nN:     53\\n\",\"GridWorldState(7, 6, false)\\nN:     14\\n\",\"GridWorldState(1, 1, false)\\nN:    325\\n\",\"GridWorldState(1, 5, false)\\nN:     69\\n\",\"GridWorldState(2, 6, false)\\nN:     18\\n\",\"GridWorldState(9, 5, false)\\nN:     13\\n\",\"GridWorldState(4, 6, false)\\nN:      8\\n\",\"GridWorldState(8, 1, false)\\nN:    450\\n\",\"GridWorldState(7, 4, false)\\nN:    104\\n\",\"GridWorldState(8, 4, false)\\nN:     97\\n\",\"GridWorldState(4, 1, false)\\nN:   1843\\n\",\"GridWorldState(6, 8, false)\\nN:      2\\n\",\"GridWorldState(1, 2, false)\\nN:    224\\n\",\"GridWorldState(6, 3, false)\\nN:    219\\n\",\"GridWorldState(5, 4, false)\\nN:     45\\n\",\"GridWorldState(2, 2, false)\\nN:    305\\n\",\"GridWorldState(7, 1, false)\\nN:    630\\n\",\"GridWorldState(5, 2, false)\\nN:    546\\n\",\"GridWorldState(2, 8, false)\\nN:      1\\n\",\"GridWorldState(2, 5, false)\\nN:     36\\n\",\"GridWorldState(2, 1, false)\\nN:    448\\n\",\"GridWorldState(1, 3, false)\\nN:    188\\n\",\"GridWorldState(4, 4, false)\\nN:     26\\n\",\"GridWorldState(8, 2, false)\\nN:    551\\n\",\"GridWorldState(3, 7, false)\\nN:      0\\n\",\"GridWorldState(7, 4, false)\\nN:    104\\n\",\"GridWorldState(7, 2, false)\\nN:    667\\n\",\"GridWorldState(6, 2, false)\\nN:    653\\n\",\"GridWorldState(6, 1, false)\\nN:    839\\n\",\"GridWorldState(7, 5, false)\\nN:     34\\n\",\"GridWorldState(6, 2, false)\\nN:    653\\n\",\"GridWorldState(7, 4, false)\\nN:    104\\n\",\"GridWorldState(1, 6, false)\\nN:     28\\n\",\"GridWorldState(3, 2, false)\\nN:    319\\n\",\"GridWorldState(6, 3, false)\\nN:    219\\n\",\"GridWorldState(6, 2, false)\\nN:    653\\n\",\"GridWorldState(1, 2, false)\\nN:    224\\n\",\"GridWorldState(4, 4, false)\\nN:     26\\n\",\"GridWorldState(8, 2, false)\\nN:    551\\n\",\"GridWorldState(9, 2, false)\\nN:    391\\n\",\"GridWorldState(6, 5, false)\\nN:     21\\n\",\"GridWorldState(8, 5, false)\\nN:     23\\n\",\"GridWorldState(6, 3, false)\\nN:    219\\n\",\"GridWorldState(5, 3, false)\\nN:    126\\n\",\"GridWorldState(4, 3, true)\\nN:      0\\n\",\"GridWorldState(6, 2, false)\\nN:    653\\n\",\"GridWorldState(10, 6, false)\\nN:      1\\n\",\"GridWorldState(4, 6, false)\\nN:      8\\n\",\"GridWorldState(2, 2, false)\\nN:    305\\n\",\"GridWorldState(5, 3, false)\\nN:    126\\n\",\"GridWorldState(9, 4, false)\\nN:     37\\n\",\"GridWorldState(1, 6, false)\\nN:     28\\n\",\"GridWorldState(10, 2, false)\\nN:     87\\n\",\"GridWorldState(10, 3, false)\\nN:     34\\n\",\"GridWorldState(3, 5, false)\\nN:     22\\n\",\"GridWorldState(3, 1, false)\\nN:    801\\n\",\"GridWorldState(6, 3, false)\\nN:    219\\n\",\"GridWorldState(9, 3, false)\\nN:    498\\n\",\"GridWorldState(8, 5, false)\\nN:     23\\n\",\"GridWorldState(10, 4, false)\\nN:     25\\n\",\"GridWorldState(3, 4, false)\\nN:     53\\n\",\"GridWorldState(2, 7, false)\\nN:      3\\n\",\"GridWorldState(4, 1, false)\\nN:   1843\\n\",\"GridWorldState(8, 3, false)\\nN:    381\\n\",\"GridWorldState(7, 2, false)\\nN:    667\\n\",\"GridWorldState(7, 1, false)\\nN:    630\\n\",\"GridWorldState(1, 6, false)\\nN:     28\\n\",\"GridWorldState(2, 1, false)\\nN:    448\\n\",\"GridWorldState(8, 6, false)\\nN:      9\\n\",\"GridWorldState(6, 1, false)\\nN:    839\\n\",\"GridWorldState(7, 3, false)\\nN:    452\\n\",\"GridWorldState(2, 4, false)\\nN:     80\\n\",\"GridWorldState(1, 7, false)\\nN:      4\\n\",\"GridWorldState(8, 4, false)\\nN:     97\\n\",\"GridWorldState(9, 2, false)\\nN:    391\\n\",\"GridWorldState(7, 7, false)\\nN:      3\\n\",\"GridWorldState(4, 2, false)\\nN:    499\\n\",\"GridWorldState(9, 4, false)\\nN:     37\\n\",\"GridWorldState(6, 1, false)\\nN:    839\\n\",\"GridWorldState(8, 1, false)\\nN:    450\\n\",\"GridWorldState(3, 1, false)\\nN:    801\\n\",\"GridWorldState(6, 5, false)\\nN:     21\\n\",\"GridWorldState(7, 2, false)\\nN:    667\\n\",\"GridWorldState(3, 1, false)\\nN:    801\\n\",\"GridWorldState(9, 1, false)\\nN:    182\\n\",\"GridWorldState(3, 3, false)\\nN:    109\\n\",\"GridWorldState(9, 3, true)\\nN:      0\\n\",\"GridWorldState(4, 6, false)\\nN:      8\\n\",\"GridWorldState(8, 3, false)\\nN:    381\\n\",\"GridWorldState(6, 2, false)\\nN:    653\\n\",\"GridWorldState(6, 1, false)\\nN:    839\\n\",\"GridWorldState(4, 6, false)\\nN:      8\\n\",\"GridWorldState(9, 2, false)\\nN:    391\\n\",\"GridWorldState(4, 5, false)\\nN:      7\\n\",\"GridWorldState(5, 1, false)\\nN:   1067\\n\",\"GridWorldState(3, 1, false)\\nN:    801\\n\",\"GridWorldState(3, 6, false)\\nN:     11\\n\",\"GridWorldState(9, 1, false)\\nN:    182\\n\",\"GridWorldState(4, 3, false)\\nN:     87\\n\",\"GridWorldState(6, 2, false)\\nN:    653\\n\",\"GridWorldState(8, 5, false)\\nN:     23\\n\",\"GridWorldState(2, 3, false)\\nN:    160\\n\",\"GridWorldState(6, 2, false)\\nN:    653\\n\",\"GridWorldState(9, 3, false)\\nN:    498\\n\",\"GridWorldState(1, 1, false)\\nN:    325\\n\",\"GridWorldState(7, 1, false)\\nN:    630\\n\",\"GridWorldState(7, 5, false)\\nN:     34\\n\",\"GridWorldState(6, 7, false)\\nN:      4\\n\",\"GridWorldState(4, 2, false)\\nN:    499\\n\",\"GridWorldState(4, 1, false)\\nN:   1843\\n\",\"GridWorldState(3, 2, false)\\nN:    319\\n\",\"GridWorldState(2, 7, false)\\nN:      3\\n\",\"GridWorldState(5, 5, false)\\nN:     14\\n\",\"GridWorldState(3, 3, false)\\nN:    109\\n\",\"GridWorldState(8, 4, false)\\nN:     97\\n\",\"GridWorldState(3, 1, false)\\nN:    801\\n\",\"GridWorldState(2, 3, false)\\nN:    160\\n\",\"GridWorldState(1, 2, false)\\nN:    224\\n\",\"GridWorldState(7, 4, false)\\nN:    104\\n\",\"GridWorldState(2, 7, false)\\nN:      3\\n\",\"GridWorldState(9, 2, false)\\nN:    391\\n\",\"GridWorldState(2, 2, false)\\nN:    305\\n\",\"GridWorldState(10, 3, false)\\nN:     34\\n\",\"GridWorldState(5, 2, false)\\nN:    546\\n\",\"GridWorldState(2, 3, false)\\nN:    160\\n\",\"GridWorldState(1, 3, false)\\nN:    188\\n\",\"GridWorldState(6, 2, false)\\nN:    653\\n\",\"GridWorldState(10, 1, false)\\nN:     79\\n\",\"GridWorldState(10, 4, false)\\nN:     25\\n\",\"GridWorldState(2, 2, false)\\nN:    305\\n\",\"GridWorldState(1, 5, false)\\nN:     69\\n\",\"GridWorldState(7, 7, false)\\nN:      3\\n\",\"GridWorldState(2, 1, false)\\nN:    448\\n\",\"GridWorldState(7, 6, false)\\nN:     14\\n\",\"GridWorldState(10, 4, false)\\nN:     25\\n\",\"GridWorldState(1, 2, false)\\nN:    224\\n\",\"GridWorldState(2, 2, false)\\nN:    305\\n\",\"GridWorldState(6, 5, false)\\nN:     21\\n\",\"GridWorldState(5, 1, false)\\nN:   1067\\n\",\"GridWorldState(7, 8, false)\\nN:      0\\n\",\"GridWorldState(5, 2, false)\\nN:    546\\n\",\"GridWorldState(7, 1, false)\\nN:    630\\n\",\"GridWorldState(3, 5, false)\\nN:     22\\n\",\"GridWorldState(2, 3, false)\\nN:    160\\n\",\"GridWorldState(8, 3, false)\\nN:    381\\n\",\"GridWorldState(7, 4, false)\\nN:    104\\n\",\"GridWorldState(4, 6, false)\\nN:      8\\n\",\"GridWorldState(9, 5, false)\\nN:     13\\n\",\"GridWorldState(2, 1, false)\\nN:    448\\n\",\"GridWorldState(7, 5, false)\\nN:     34\\n\",\"GridWorldState(5, 5, false)\\nN:     14\\n\",\"GridWorldState(4, 2, false)\\nN:    499\\n\",\"GridWorldState(2, 3, false)\\nN:    160\\n\",\"GridWorldState(6, 2, false)\\nN:    653\\n\",\"GridWorldState(1, 3, false)\\nN:    188\\n\",\"GridWorldState(5, 1, false)\\nN:   1067\\n\",\"GridWorldState(4, 1, false)\\nN:   1843\\n\",\"GridWorldState(10, 3, false)\\nN:     34\\n\",\"GridWorldState(5, 1, false)\\nN:   1067\\n\",\"GridWorldState(6, 4, false)\\nN:     69\\n\",\"GridWorldState(9, 1, false)\\nN:    182\\n\",\"GridWorldState(3, 2, false)\\nN:    319\\n\",\"GridWorldState(7, 3, false)\\nN:    452\\n\",\"GridWorldState(4, 2, false)\\nN:    499\\n\",\"GridWorldState(3, 2, false)\\nN:    319\\n\",\"GridWorldState(4, 6, true)\\nN:      0\\n\",\"GridWorldState(5, 3, false)\\nN:    126\\n\",\"GridWorldState(1, 7, false)\\nN:      4\\n\",\"GridWorldState(7, 5, false)\\nN:     34\\n\",\"GridWorldState(6, 1, false)\\nN:    839\\n\",\"GridWorldState(10, 2, false)\\nN:     87\\n\",\"GridWorldState(6, 3, false)\\nN:    219\\n\",\"GridWorldState(2, 2, false)\\nN:    305\\n\",\"GridWorldState(5, 6, false)\\nN:      4\\n\",\"GridWorldState(6, 4, false)\\nN:     69\\n\",\"GridWorldState(8, 6, false)\\nN:      9\\n\",\"GridWorldState(2, 5, false)\\nN:     36\\n\",\"GridWorldState(9, 4, false)\\nN:     37\\n\",\"GridWorldState(2, 5, false)\\nN:     36\\n\",\"GridWorldState(6, 7, false)\\nN:      4\\n\",\"GridWorldState(10, 1, false)\\nN:     79\\n\",\"GridWorldState(2, 2, false)\\nN:    305\\n\",\"GridWorldState(7, 3, false)\\nN:    452\\n\",\"GridWorldState(1, 4, false)\\nN:    110\\n\",\"GridWorldState(3, 1, false)\\nN:    801\\n\",\"GridWorldState(2, 4, false)\\nN:     80\\n\",\"GridWorldState(6, 4, false)\\nN:     69\\n\",\"GridWorldState(2, 5, false)\\nN:     36\\n\",\"GridWorldState(5, 5, false)\\nN:     14\\n\",\"GridWorldState(5, 4, false)\\nN:     45\\n\",\"GridWorldState(1, 4, false)\\nN:    110\\n\",\"GridWorldState(7, 2, false)\\nN:    667\\n\",\"GridWorldState(5, 4, false)\\nN:     45\\n\",\"GridWorldState(6, 4, false)\\nN:     69\\n\",\"GridWorldState(7, 6, false)\\nN:     14\\n\",\"GridWorldState(1, 4, false)\\nN:    110\\n\",\"GridWorldState(4, 3, false)\\nN:     87\\n\",\"GridWorldState(4, 6, false)\\nN:      8\\n\",\"GridWorldState(6, 1, false)\\nN:    839\\n\",\"GridWorldState(9, 4, false)\\nN:     37\\n\",\"GridWorldState(10, 3, false)\\nN:     34\\n\",\"GridWorldState(3, 2, false)\\nN:    319\\n\",\"GridWorldState(2, 5, false)\\nN:     36\\n\",\"GridWorldState(10, 5, false)\\nN:      3\\n\",\"GridWorldState(8, 4, false)\\nN:     97\\n\",\"GridWorldState(7, 4, false)\\nN:    104\\n\",\"GridWorldState(5, 5, false)\\nN:     14\\n\",\"GridWorldState(9, 3, true)\\nN:      0\\n\",\"GridWorldState(6, 6, false)\\nN:     11\\n\",\"GridWorldState(8, 2, false)\\nN:    551\\n\",\"GridWorldState(6, 4, false)\\nN:     69\\n\",\"GridWorldState(5, 1, false)\\nN:   1067\\n\",\"GridWorldState(4, 3, false)\\nN:     87\\n\",\"GridWorldState(3, 4, false)\\nN:     53\\n\",\"GridWorldState(4, 3, false)\\nN:     87\\n\",\"GridWorldState(6, 4, false)\\nN:     69\\n\",\"GridWorldState(7, 4, false)\\nN:    104\\n\",\"GridWorldState(7, 5, false)\\nN:     34\\n\",\"GridWorldState(3, 4, false)\\nN:     53\\n\",\"GridWorldState(4, 6, false)\\nN:      8\\n\",\"GridWorldState(6, 5, false)\\nN:     21\\n\",\"GridWorldState(8, 2, false)\\nN:    551\\n\",\"GridWorldState(3, 3, false)\\nN:    109\\n\",\"GridWorldState(1, 1, false)\\nN:    325\\n\",\"GridWorldState(2, 9, false)\\nN:      0\\n\",\"GridWorldState(3, 4, false)\\nN:     53\\n\",\"GridWorldState(2, 3, false)\\nN:    160\\n\",\"GridWorldState(9, 1, false)\\nN:    182\\n\",\"GridWorldState(3, 3, false)\\nN:    109\\n\",\"GridWorldState(10, 2, false)\\nN:     87\\n\",\"GridWorldState(9, 5, false)\\nN:     13\\n\",\"GridWorldState(2, 1, false)\\nN:    448\\n\",\"GridWorldState(3, 1, false)\\nN:    801\\n\",\"GridWorldState(8, 4, false)\\nN:     97\\n\",\"GridWorldState(8, 2, false)\\nN:    551\\n\",\"GridWorldState(7, 1, false)\\nN:    630\\n\",\"GridWorldState(3, 2, false)\\nN:    319\\n\",\"GridWorldState(1, 2, false)\\nN:    224\\n\",\"GridWorldState(6, 4, false)\\nN:     69\\n\",\"GridWorldState(7, 2, false)\\nN:    667\\n\",\"GridWorldState(7, 1, false)\\nN:    630\\n\",\"GridWorldState(6, 5, false)\\nN:     21\\n\",\"GridWorldState(2, 6, false)\\nN:     18\\n\",\"GridWorldState(2, 6, false)\\nN:     18\\n\",\"GridWorldState(7, 1, false)\\nN:    630\\n\",\"GridWorldState(7, 3, false)\\nN:    452\\n\",\"GridWorldState(8, 2, false)\\nN:    551\\n\",\"GridWorldState(5, 1, false)\\nN:   1067\\n\",\"GridWorldState(9, 4, false)\\nN:     37\\n\",\"GridWorldState(2, 4, false)\\nN:     80\\n\",\"GridWorldState(1, 3, false)\\nN:    188\\n\",\"GridWorldState(8, 3, false)\\nN:    381\\n\",\"GridWorldState(6, 2, false)\\nN:    653\\n\",\"GridWorldState(1, 5, false)\\nN:     69\\n\",\"GridWorldState(2, 5, false)\\nN:     36\\n\",\"GridWorldState(10, 1, false)\\nN:     79\\n\",\"GridWorldState(10, 3, false)\\nN:     34\\n\",\"GridWorldState(4, 4, false)\\nN:     26\\n\",\"GridWorldState(4, 6, true)\\nN:      0\\n\",\"GridWorldState(2, 4, false)\\nN:     80\\n\",\"GridWorldState(8, 5, false)\\nN:     23\\n\",\"GridWorldState(8, 4, false)\\nN:     97\\n\",\"GridWorldState(6, 5, false)\\nN:     21\\n\",\"GridWorldState(10, 3, false)\\nN:     34\\n\",\"GridWorldState(5, 1, false)\\nN:   1067\\n\",\"GridWorldState(4, 2, false)\\nN:    499\\n\",\"GridWorldState(2, 2, false)\\nN:    305\\n\",\"GridWorldState(8, 5, false)\\nN:     23\\n\",\"GridWorldState(5, 5, false)\\nN:     14\\n\",\"GridWorldState(4, 6, false)\\nN:      8\\n\",\"GridWorldState(3, 4, false)\\nN:     53\\n\",\"GridWorldState(9, 1, false)\\nN:    182\\n\",\"GridWorldState(4, 2, false)\\nN:    499\\n\",\"GridWorldState(8, 1, false)\\nN:    450\\n\",\"GridWorldState(6, 3, false)\\nN:    219\\n\",\"GridWorldState(8, 8, false)\\nN:      1\\n\",\"GridWorldState(6, 4, false)\\nN:     69\\n\",\"GridWorldState(7, 5, false)\\nN:     34\\n\",\"GridWorldState(9, 3, false)\\nN:    498\\n\",\"GridWorldState(1, 6, false)\\nN:     28\\n\",\"GridWorldState(2, 2, false)\\nN:    305\\n\",\"GridWorldState(2, 2, false)\\nN:    305\\n\",\"GridWorldState(4, 3, false)\\nN:     87\\n\",\"GridWorldState(4, 5, false)\\nN:      7\\n\",\"GridWorldState(10, 2, false)\\nN:     87\\n\",\"GridWorldState(7, 4, false)\\nN:    104\\n\",\"GridWorldState(7, 2, false)\\nN:    667\\n\",\"GridWorldState(9, 2, false)\\nN:    391\\n\",\"GridWorldState(5, 6, false)\\nN:      4\\n\",\"GridWorldState(5, 1, false)\\nN:   1067\\n\",\"GridWorldState(4, 6, true)\\nN:      0\\n\",\"GridWorldState(5, 4, false)\\nN:     45\\n\",\"GridWorldState(10, 4, false)\\nN:     25\\n\",\"GridWorldState(2, 5, false)\\nN:     36\\n\",\"GridWorldState(3, 3, false)\\nN:    109\\n\",\"GridWorldState(2, 2, false)\\nN:    305\\n\",\"GridWorldState(2, 6, false)\\nN:     18\\n\",\"GridWorldState(6, 2, false)\\nN:    653\\n\",\"GridWorldState(3, 6, false)\\nN:     11\\n\",\"GridWorldState(9, 3, false)\\nN:    498\\n\",\"GridWorldState(7, 5, false)\\nN:     34\\n\",\"GridWorldState(5, 3, false)\\nN:    126\\n\",\"GridWorldState(3, 3, false)\\nN:    109\\n\",\"GridWorldState(9, 3, true)\\nN:      0\\n\",\"GridWorldState(6, 1, false)\\nN:    839\\n\",\"GridWorldState(4, 3, false)\\nN:     87\\n\",\"GridWorldState(5, 3, false)\\nN:    126\\n\",\"GridWorldState(3, 4, false)\\nN:     53\\n\",\"GridWorldState(6, 3, false)\\nN:    219\\n\",\"GridWorldState(4, 1, false)\\nN:   1843\\n\",\"GridWorldState(1, 2, false)\\nN:    224\\n\",\"GridWorldState(7, 1, false)\\nN:    630\\n\",\"GridWorldState(7, 1, false)\\nN:    630\\n\",\"GridWorldState(10, 1, false)\\nN:     79\\n\",\"GridWorldState(4, 5, false)\\nN:      7\\n\",\"GridWorldState(4, 1, false)\\nN:   1843\\n\",\"GridWorldState(8, 2, false)\\nN:    551\\n\",\"GridWorldState(2, 5, false)\\nN:     36\\n\",\"GridWorldState(3, 1, false)\\nN:    801\\n\",\"GridWorldState(7, 3, false)\\nN:    452\\n\",\"GridWorldState(7, 6, false)\\nN:     14\\n\",\"GridWorldState(6, 1, false)\\nN:    839\\n\",\"GridWorldState(2, 4, false)\\nN:     80\\n\",\"GridWorldState(5, 7, false)\\nN:      1\\n\",\"GridWorldState(7, 3, false)\\nN:    452\\n\",\"GridWorldState(4, 3, false)\\nN:     87\\n\",\"GridWorldState(1, 4, false)\\nN:    110\\n\",\"GridWorldState(5, 6, false)\\nN:      4\\n\",\"GridWorldState(5, 8, false)\\nN:      2\\n\",\"GridWorldState(1, 4, false)\\nN:    110\\n\",\"GridWorldState(8, 2, false)\\nN:    551\\n\",\"GridWorldState(7, 2, false)\\nN:    667\\n\",\"GridWorldState(4, 3, false)\\nN:     87\\n\",\"GridWorldState(5, 5, false)\\nN:     14\\n\",\"GridWorldState(6, 3, false)\\nN:    219\\n\",\"GridWorldState(2, 3, false)\\nN:    160\\n\",\"GridWorldState(5, 2, false)\\nN:    546\\n\",\"GridWorldState(4, 5, false)\\nN:      7\\n\",\"GridWorldState(2, 6, false)\\nN:     18\\n\",\"GridWorldState(7, 2, false)\\nN:    667\\n\",\"GridWorldState(8, 6, false)\\nN:      9\\n\",\"GridWorldState(8, 1, false)\\nN:    450\\n\",\"GridWorldState(1, 3, false)\\nN:    188\\n\",\"GridWorldState(3, 5, false)\\nN:     22\\n\",\"GridWorldState(6, 3, false)\\nN:    219\\n\",\"GridWorldState(3, 2, false)\\nN:    319\\n\",\"GridWorldState(9, 3, false)\\nN:    498\\n\",\"GridWorldState(6, 3, false)\\nN:    219\\n\",\"GridWorldState(7, 3, false)\\nN:    452\\n\",\"GridWorldState(8, 6, false)\\nN:      9\\n\",\"GridWorldState(10, 4, false)\\nN:     25\\n\",\"GridWorldState(4, 1, false)\\nN:   1843\\n\",\"GridWorldState(9, 6, false)\\nN:      1\\n\",\"GridWorldState(5, 3, false)\\nN:    126\\n\",\"GridWorldState(2, 1, false)\\nN:    448\\n\",\"GridWorldState(4, 3, false)\\nN:     87\\n\",\"GridWorldState(3, 4, false)\\nN:     53\\n\",\"GridWorldState(3, 4, false)\\nN:     53\\n\",\"GridWorldState(1, 1, false)\\nN:    325\\n\",\"GridWorldState(1, 6, false)\\nN:     28\\n\",\"GridWorldState(1, 4, false)\\nN:    110\\n\",\"GridWorldState(6, 6, false)\\nN:     11\\n\",\"GridWorldState(5, 5, false)\\nN:     14\\n\",\"GridWorldState(1, 1, false)\\nN:    325\\n\",\"GridWorldState(8, 4, false)\\nN:     97\\n\",\"GridWorldState(6, 4, false)\\nN:     69\\n\",\"GridWorldState(2, 2, false)\\nN:    305\\n\",\"GridWorldState(9, 1, false)\\nN:    182\\n\",\"GridWorldState(1, 1, false)\\nN:    325\\n\",\"GridWorldState(1, 3, false)\\nN:    188\\n\",\"GridWorldState(5, 9, false)\\nN:      0\\n\",\"GridWorldState(2, 2, false)\\nN:    305\\n\",\"GridWorldState(5, 4, false)\\nN:     45\\n\",\"GridWorldState(4, 3, false)\\nN:     87\\n\",\"GridWorldState(4, 1, false)\\nN:   1843\\n\",\"GridWorldState(3, 4, false)\\nN:     53\\n\",\"GridWorldState(6, 4, false)\\nN:     69\\n\",\"GridWorldState(4, 6, true)\\nN:      0\\n\",\"GridWorldState(6, 3, false)\\nN:    219\\n\",\"GridWorldState(6, 6, false)\\nN:     11\\n\",\"GridWorldState(7, 2, false)\\nN:    667\\n\",\"GridWorldState(8, 1, false)\\nN:    450\\n\",\"GridWorldState(3, 1, false)\\nN:    801\\n\",\"GridWorldState(4, 2, false)\\nN:    499\\n\",\"GridWorldState(4, 4, false)\\nN:     26\\n\",\"GridWorldState(6, 4, false)\\nN:     69\\n\",\"GridWorldState(8, 8, true)\\nN:      0\\n\",\"GridWorldState(8, 2, false)\\nN:    551\\n\",\"GridWorldState(4, 3, false)\\nN:     87\\n\",\"GridWorldState(7, 7, false)\\nN:      3\\n\",\"GridWorldState(3, 6, false)\\nN:     11\\n\",\"GridWorldState(2, 6, false)\\nN:     18\\n\",\"GridWorldState(5, 4, false)\\nN:     45\\n\",\"GridWorldState(7, 2, false)\\nN:    667\\n\",\"GridWorldState(5, 1, false)\\nN:   1067\\n\",\"GridWorldState(8, 5, false)\\nN:     23\\n\",\"GridWorldState(7, 5, false)\\nN:     34\\n\",\"GridWorldState(5, 5, false)\\nN:     14\\n\",\"GridWorldState(4, 4, false)\\nN:     26\\n\",\"GridWorldState(5, 4, false)\\nN:     45\\n\",\"GridWorldState(9, 2, false)\\nN:    391\\n\",\"GridWorldState(3, 1, false)\\nN:    801\\n\",\"GridWorldState(8, 5, false)\\nN:     23\\n\",\"GridWorldState(1, 2, false)\\nN:    224\\n\",\"GridWorldState(7, 1, false)\\nN:    630\\n\",\"GridWorldState(9, 3, false)\\nN:    498\\n\",\"GridWorldState(6, 5, false)\\nN:     21\\n\",\"GridWorldState(1, 5, false)\\nN:     69\\n\",\"GridWorldState(7, 4, false)\\nN:    104\\n\",\"GridWorldState(8, 3, false)\\nN:    381\\n\",\"GridWorldState(8, 7, false)\\nN:      2\\n\",\"GridWorldState(6, 1, false)\\nN:    839\\n\",\"GridWorldState(9, 2, false)\\nN:    391\\n\",\"GridWorldState(4, 2, false)\\nN:    499\\n\",\"GridWorldState(8, 5, false)\\nN:     23\\n\",\"GridWorldState(9, 2, false)\\nN:    391\\n\",\"GridWorldState(1, 5, false)\\nN:     69\\n\",\"GridWorldState(4, 3, true)\\nN:      0\\n\",\"GridWorldState(7, 7, false)\\nN:      3\\n\",\"GridWorldState(2, 3, false)\\nN:    160\\n\",\"GridWorldState(7, 6, false)\\nN:     14\\n\",\"GridWorldState(1, 5, false)\\nN:     69\\n\",\"GridWorldState(8, 2, false)\\nN:    551\\n\",\"GridWorldState(4, 4, false)\\nN:     26\\n\",\"GridWorldState(4, 3, false)\\nN:     87\\n\",\"GridWorldState(3, 3, false)\\nN:    109\\n\",\"GridWorldState(8, 1, false)\\nN:    450\\n\",\"GridWorldState(5, 8, false)\\nN:      2\\n\",\"GridWorldState(8, 1, false)\\nN:    450\\n\",\"GridWorldState(1, 4, false)\\nN:    110\\n\",\"GridWorldState(1, 1, false)\\nN:    325\\n\",\"GridWorldState(8, 7, false)\\nN:      2\\n\",\"GridWorldState(4, 1, false)\\nN:   1843\\n\",\"GridWorldState(8, 1, false)\\nN:    450\\n\",\"GridWorldState(5, 1, false)\\nN:   1067\\n\",\"GridWorldState(10, 4, false)\\nN:     25\\n\",\"GridWorldState(9, 4, false)\\nN:     37\\n\",\"GridWorldState(7, 3, false)\\nN:    452\\n\",\"GridWorldState(3, 2, false)\\nN:    319\\n\",\"GridWorldState(8, 1, false)\\nN:    450\\n\",\"GridWorldState(4, 1, false)\\nN:   1843\\n\",\"GridWorldState(10, 2, false)\\nN:     87\\n\",\"GridWorldState(2, 4, false)\\nN:     80\\n\",\"GridWorldState(2, 4, false)\\nN:     80\\n\",\"GridWorldState(1, 2, false)\\nN:    224\\n\",\"GridWorldState(3, 5, false)\\nN:     22\\n\",\"GridWorldState(5, 3, false)\\nN:    126\\n\",\"GridWorldState(7, 4, false)\\nN:    104\\n\",\"GridWorldState(10, 2, false)\\nN:     87\\n\",\"GridWorldState(6, 2, false)\\nN:    653\\n\",\"GridWorldState(2, 2, false)\\nN:    305\\n\",\"GridWorldState(2, 1, false)\\nN:    448\\n\",\"GridWorldState(4, 4, false)\\nN:     26\\n\",\"GridWorldState(1, 3, false)\\nN:    188\\n\",\"GridWorldState(5, 2, false)\\nN:    546\\n\",\"GridWorldState(4, 2, false)\\nN:    499\\n\",\"GridWorldState(1, 3, false)\\nN:    188\\n\",\"GridWorldState(6, 5, false)\\nN:     21\\n\",\"GridWorldState(8, 1, false)\\nN:    450\\n\",\"GridWorldState(5, 4, false)\\nN:     45\\n\",\"GridWorldState(10, 1, false)\\nN:     79\\n\",\"GridWorldState(6, 2, false)\\nN:    653\\n\",\"GridWorldState(9, 3, false)\\nN:    498\\n\",\"GridWorldState(7, 1, false)\\nN:    630\\n\",\"GridWorldState(1, 2, false)\\nN:    224\\n\",\"GridWorldState(10, 4, false)\\nN:     25\\n\",\"GridWorldState(7, 4, false)\\nN:    104\\n\",\"GridWorldState(6, 1, false)\\nN:    839\\n\",\"GridWorldState(8, 6, false)\\nN:      9\\n\",\"GridWorldState(6, 6, false)\\nN:     11\\n\",\"GridWorldState(7, 5, false)\\nN:     34\\n\",\"GridWorldState(7, 6, false)\\nN:     14\\n\",\"GridWorldState(1, 1, false)\\nN:    325\\n\",\"GridWorldState(5, 2, false)\\nN:    546\\n\",\"GridWorldState(5, 2, false)\\nN:    546\\n\",\"GridWorldState(1, 8, false)\\nN:      0\\n\",\"GridWorldState(7, 3, false)\\nN:    452\\n\",\"GridWorldState(7, 3, false)\\nN:    452\\n\",\"GridWorldState(6, 3, false)\\nN:    219\\n\",\"GridWorldState(9, 3, true)\\nN:      0\\n\",\"GridWorldState(6, 6, false)\\nN:     11\\n\",\"GridWorldState(2, 4, false)\\nN:     80\\n\",\"GridWorldState(7, 2, false)\\nN:    667\\n\",\"GridWorldState(5, 6, false)\\nN:      4\\n\",\"GridWorldState(2, 4, false)\\nN:     80\\n\",\"GridWorldState(2, 3, false)\\nN:    160\\n\",\"GridWorldState(10, 2, false)\\nN:     87\\n\",\"GridWorldState(7, 2, false)\\nN:    667\\n\",\"GridWorldState(2, 3, false)\\nN:    160\\n\",\"GridWorldState(8, 4, false)\\nN:     97\\n\",\"GridWorldState(3, 3, false)\\nN:    109\\n\",\"GridWorldState(3, 4, false)\\nN:     53\\n\",\"GridWorldState(4, 3, false)\\nN:     87\\n\",\"GridWorldState(1, 2, false)\\nN:    224\\n\",\"GridWorldState(3, 4, false)\\nN:     53\\n\",\"GridWorldState(3, 2, false)\\nN:    319\\n\",\"GridWorldState(4, 1, false)\\nN:   1843\\n\",\"GridWorldState(5, 3, false)\\nN:    126\\n\",\"GridWorldState(8, 3, false)\\nN:    381\\n\",\"GridWorldState(10, 5, false)\\nN:      3\\n\",\"GridWorldState(9, 3, false)\\nN:    498\\n\",\"GridWorldState(2, 5, false)\\nN:     36\\n\",\"GridWorldState(2, 4, false)\\nN:     80\\n\",\"GridWorldState(4, 3, true)\\nN:      0\\n\",\"GridWorldState(1, 4, false)\\nN:    110\\n\",\"GridWorldState(8, 4, false)\\nN:     97\\n\",\"GridWorldState(6, 7, false)\\nN:      4\\n\",\"GridWorldState(2, 1, false)\\nN:    448\\n\",\"GridWorldState(7, 5, false)\\nN:     34\\n\",\"GridWorldState(8, 7, false)\\nN:      2\\n\",\"GridWorldState(9, 1, false)\\nN:    182\\n\",\"GridWorldState(3, 2, false)\\nN:    319\\n\",\"GridWorldState(9, 7, false)\\nN:      0\\n\",\"GridWorldState(9, 5, false)\\nN:     13\\n\",\"GridWorldState(4, 3, false)\\nN:     87\\n\",\"GridWorldState(6, 2, false)\\nN:    653\\n\",\"GridWorldState(5, 3, false)\\nN:    126\\n\",\"GridWorldState(8, 2, false)\\nN:    551\\n\",\"GridWorldState(8, 1, false)\\nN:    450\\n\",\"GridWorldState(7, 6, false)\\nN:     14\\n\",\"GridWorldState(10, 2, false)\\nN:     87\\n\",\"GridWorldState(1, 4, false)\\nN:    110\\n\",\"GridWorldState(5, 2, false)\\nN:    546\\n\",\"GridWorldState(6, 1, false)\\nN:    839\\n\",\"GridWorldState(5, 4, false)\\nN:     45\\n\",\"GridWorldState(2, 3, false)\\nN:    160\\n\",\"GridWorldState(8, 3, false)\\nN:    381\\n\",\"GridWorldState(4, 5, false)\\nN:      7\\n\",\"GridWorldState(3, 3, false)\\nN:    109\\n\",\"GridWorldState(7, 3, false)\\nN:    452\\n\",\"GridWorldState(5, 2, false)\\nN:    546\\n\",\"GridWorldState(8, 2, false)\\nN:    551\\n\",\"GridWorldState(10, 1, false)\\nN:     79\\n\",\"GridWorldState(2, 1, false)\\nN:    448\\n\",\"GridWorldState(6, 5, false)\\nN:     21\\n\",\"GridWorldState(1, 5, false)\\nN:     69\\n\",\"GridWorldState(4, 3, true)\\nN:      0\\n\",\"GridWorldState(3, 5, false)\\nN:     22\\n\",\"GridWorldState(4, 3, false)\\nN:     87\\n\",\"GridWorldState(3, 4, false)\\nN:     53\\n\",\"GridWorldState(1, 3, false)\\nN:    188\\n\",\"GridWorldState(9, 2, false)\\nN:    391\\n\",\"GridWorldState(3, 2, false)\\nN:    319\\n\",\"GridWorldState(7, 4, false)\\nN:    104\\n\",\"GridWorldState(7, 2, false)\\nN:    667\\n\",\"GridWorldState(3, 6, false)\\nN:     11\\n\",\"GridWorldState(1, 8, false)\\nN:      0\\n\",\"GridWorldState(7, 3, false)\\nN:    452\\n\",\"GridWorldState(4, 4, false)\\nN:     26\\n\",\"GridWorldState(3, 3, false)\\nN:    109\\n\",\"GridWorldState(3, 2, false)\\nN:    319\\n\",\"GridWorldState(2, 4, false)\\nN:     80\\n\",\"GridWorldState(9, 1, false)\\nN:    182\\n\",\"GridWorldState(2, 3, false)\\nN:    160\\n\",\"GridWorldState(8, 3, false)\\nN:    381\\n\",\"GridWorldState(6, 8, false)\\nN:      2\\n\",\"GridWorldState(7, 4, false)\\nN:    104\\n\",\"GridWorldState(2, 3, false)\\nN:    160\\n\",\"GridWorldState(6, 2, false)\\nN:    653\\n\",\"GridWorldState(1, 5, false)\\nN:     69\\n\",\"GridWorldState(1, 6, false)\\nN:     28\\n\",\"GridWorldState(3, 6, false)\\nN:     11\\n\",\"GridWorldState(5, 4, false)\\nN:     45\\n\",\"GridWorldState(5, 1, false)\\nN:   1067\\n\",\"GridWorldState(6, 5, false)\\nN:     21\\n\",\"GridWorldState(3, 1, false)\\nN:    801\\n\",\"GridWorldState(5, 2, false)\\nN:    546\\n\",\"GridWorldState(4, 5, false)\\nN:      7\\n\",\"GridWorldState(5, 2, false)\\nN:    546\\n\",\"GridWorldState(9, 3, false)\\nN:    498\\n\",\"GridWorldState(1, 4, false)\\nN:    110\\n\",\"GridWorldState(3, 5, false)\\nN:     22\\n\",\"GridWorldState(9, 5, false)\\nN:     13\\n\",\"GridWorldState(5, 3, false)\\nN:    126\\n\",\"GridWorldState(6, 3, false)\\nN:    219\\n\",\"GridWorldState(3, 2, false)\\nN:    319\\n\",\"GridWorldState(4, 4, false)\\nN:     26\\n\",\"GridWorldState(7, 4, false)\\nN:    104\\n\",\"GridWorldState(4, 2, false)\\nN:    499\\n\",\"GridWorldState(3, 2, false)\\nN:    319\\n\",\"GridWorldState(7, 2, false)\\nN:    667\\n\",\"GridWorldState(3, 3, false)\\nN:    109\\n\",\"GridWorldState(10, 1, false)\\nN:     79\\n\",\"GridWorldState(1, 6, false)\\nN:     28\\n\",\"GridWorldState(4, 2, false)\\nN:    499\\n\",\"GridWorldState(2, 3, false)\\nN:    160\\n\",\"GridWorldState(5, 2, false)\\nN:    546\\n\",\"GridWorldState(10, 5, false)\\nN:      3\\n\",\"GridWorldState(1, 3, false)\\nN:    188\\n\",\"GridWorldState(8, 4, false)\\nN:     97\\n\",\"GridWorldState(6, 3, false)\\nN:    219\\n\",\"GridWorldState(6, 4, false)\\nN:     69\\n\",\"GridWorldState(6, 4, false)\\nN:     69\\n\",\"GridWorldState(1, 5, false)\\nN:     69\\n\",\"GridWorldState(5, 2, false)\\nN:    546\\n\",\"GridWorldState(2, 6, false)\\nN:     18\\n\",\"GridWorldState(8, 4, false)\\nN:     97\\n\",\"GridWorldState(6, 3, false)\\nN:    219\\n\",\"GridWorldState(2, 1, false)\\nN:    448\\n\",\"GridWorldState(9, 1, false)\\nN:    182\\n\",\"GridWorldState(7, 6, false)\\nN:     14\\n\",\"GridWorldState(9, 1, false)\\nN:    182\\n\",\"                       up\\nQ:  -0.41\\nN:    218\\n\",\"                     down\\nQ:   0.00\\nN:    360\\n\",\"                     left\\nQ:  -0.09\\nN:    328\\n\",\"                    right\\nQ:   1.71\\nN:    937\\n\",\"                       up\\nQ:  -7.49\\nN:      8\\n\",\"                     down\\nQ:  -1.13\\nN:     99\\n\",\"                     left\\nQ:  -1.81\\nN:     62\\n\",\"                    right\\nQ:   0.33\\nN:    330\\n\",\"                       up\\nQ:  -1.24\\nN:     76\\n\",\"                     down\\nQ:   0.00\\nN:    235\\n\",\"                     left\\nQ:   0.00\\nN:    227\\n\",\"                    right\\nQ:   0.43\\nN:    263\\n\",\"                       up\\nQ:   0.33\\nN:    123\\n\",\"                     down\\nQ:   0.00\\nN:     98\\n\",\"                     left\\nQ:  -0.83\\nN:     53\\n\",\"                    right\\nQ:   2.50\\nN:    793\\n\",\"                       up\\nQ:  -3.38\\nN:     17\\n\",\"                     down\\nQ:  -0.77\\nN:     45\\n\",\"                     left\\nQ:  -0.71\\nN:     46\\n\",\"                    right\\nQ:   2.13\\nN:    438\\n\",\"                       up\\nQ:  -1.34\\nN:     47\\n\",\"                     down\\nQ:  -0.12\\nN:     94\\n\",\"                     left\\nQ:  -0.22\\nN:    108\\n\",\"                    right\\nQ:  -0.79\\nN:     70\\n\",\"                       up\\nQ: -10.00\\nN:     22\\n\",\"                     down\\nQ: -10.00\\nN:     22\\n\",\"                     left\\nQ: -10.00\\nN:     22\\n\",\"                    right\\nQ: -10.00\\nN:     21\\n\",\"                       up\\nQ:  -0.13\\nN:    101\\n\",\"                     down\\nQ:   0.00\\nN:    126\\n\",\"                     left\\nQ:   0.03\\nN:    121\\n\",\"                    right\\nQ:  -0.17\\nN:    100\\n\",\"                       up\\nQ:  -1.34\\nN:     26\\n\",\"                     down\\nQ:  -0.94\\nN:     33\\n\",\"                     left\\nQ:  -8.04\\nN:      5\\n\",\"                    right\\nQ:   0.77\\nN:     62\\n\",\"                       up\\nQ:   1.58\\nN:    178\\n\",\"                     down\\nQ:   0.00\\nN:     60\\n\",\"                     left\\nQ:   0.19\\nN:     60\\n\",\"                    right\\nQ:   3.35\\nN:    541\\n\",\"                       up\\nQ:   2.37\\nN:     99\\n\",\"                     down\\nQ:   0.00\\nN:     30\\n\",\"                     left\\nQ:   0.00\\nN:     26\\n\",\"                    right\\nQ:   4.01\\nN:    475\\n\",\"                       up\\nQ:  -0.11\\nN:     38\\n\",\"                     down\\nQ:   1.14\\nN:     82\\n\",\"                     left\\nQ:  -0.90\\nN:     29\\n\",\"                    right\\nQ:   3.22\\nN:    504\\n\",\"                       up\\nQ:  -0.21\\nN:     71\\n\",\"                     down\\nQ:  -0.14\\nN:     75\\n\",\"                     left\\nQ:  -0.14\\nN:     74\\n\",\"                    right\\nQ:   0.04\\nN:     85\\n\",\"                       up\\nQ:  -0.20\\nN:     25\\n\",\"                     down\\nQ:   0.82\\nN:     42\\n\",\"                     left\\nQ:   0.28\\nN:     31\\n\",\"                    right\\nQ:   3.10\\nN:    121\\n\",\"                       up\\nQ:  -0.26\\nN:     12\\n\",\"                     down\\nQ:   0.94\\nN:     20\\n\",\"                     left\\nQ:  -0.88\\nN:     15\\n\",\"                    right\\nQ:   1.31\\nN:     22\\n\",\"                       up\\nQ:  -0.14\\nN:     43\\n\",\"                     down\\nQ:  -0.37\\nN:     40\\n\",\"                     left\\nQ:  -0.03\\nN:     47\\n\",\"                    right\\nQ:  -0.81\\nN:     30\\n\",\"                       up\\nQ:  -0.35\\nN:     19\\n\",\"                     down\\nQ:  -0.41\\nN:     18\\n\",\"                     left\\nQ:   0.00\\nN:     21\\n\",\"                    right\\nQ:   0.00\\nN:     22\\n\",\"                       up\\nQ:   0.00\\nN:      0\\n\",\"                     down\\nQ:   0.00\\nN:      0\\n\",\"                     left\\nQ:   0.00\\nN:      0\\n\",\"                    right\\nQ:   0.00\\nN:      0\\n\",\"                       up\\nQ:  -0.58\\nN:     40\\n\",\"                     down\\nQ:  -1.81\\nN:     21\\n\",\"                     left\\nQ:  -0.88\\nN:     37\\n\",\"                    right\\nQ:  -4.09\\nN:     11\\n\",\"                       up\\nQ:  -0.03\\nN:     56\\n\",\"                     down\\nQ:  -0.08\\nN:     57\\n\",\"                     left\\nQ:   0.00\\nN:     58\\n\",\"                    right\\nQ:  -0.14\\nN:     53\\n\",\"                       up\\nQ:   4.09\\nN:    385\\n\",\"                     down\\nQ:   0.52\\nN:     33\\n\",\"                     left\\nQ:   0.59\\nN:     28\\n\",\"                    right\\nQ:   3.91\\nN:    221\\n\",\"                       up\\nQ:   1.17\\nN:     24\\n\",\"                     down\\nQ:   0.90\\nN:     25\\n\",\"                     left\\nQ:   0.00\\nN:     15\\n\",\"                    right\\nQ:   5.25\\nN:    388\\n\",\"                       up\\nQ:   0.73\\nN:     18\\n\",\"                     down\\nQ:   2.06\\nN:     32\\n\",\"                     left\\nQ:  -0.32\\nN:     13\\n\",\"                    right\\nQ:   2.23\\nN:     41\\n\",\"                       up\\nQ:  -1.68\\nN:      8\\n\",\"                     down\\nQ:   0.23\\nN:     17\\n\",\"                     left\\nQ:  -1.65\\nN:      8\\n\",\"                    right\\nQ:  -2.02\\nN:     12\\n\",\"                       up\\nQ:  -0.13\\nN:     44\\n\",\"                     down\\nQ:   0.00\\nN:     46\\n\",\"                     left\\nQ:   0.00\\nN:     53\\n\",\"                    right\\nQ:   0.00\\nN:     45\\n\",\"                       up\\nQ:  -2.42\\nN:     16\\n\",\"                     down\\nQ:   0.00\\nN:     16\\n\",\"                     left\\nQ:   0.00\\nN:     16\\n\",\"                    right\\nQ:  -5.59\\nN:      5\\n\",\"                       up\\nQ:  -0.12\\nN:     75\\n\",\"                     down\\nQ:   0.00\\nN:     80\\n\",\"                     left\\nQ:   0.00\\nN:     92\\n\",\"                    right\\nQ:   0.03\\nN:     78\\n\",\"                       up\\nQ:   4.47\\nN:     93\\n\",\"                     down\\nQ:   0.00\\nN:     18\\n\",\"                     left\\nQ:   3.51\\nN:     52\\n\",\"                    right\\nQ:   5.89\\nN:    388\\n\",\"                       up\\nQ:   0.00\\nN:     30\\n\",\"                     down\\nQ:  -0.29\\nN:     25\\n\",\"                     left\\nQ:   0.00\\nN:     28\\n\",\"                    right\\nQ:  -0.07\\nN:     27\\n\",\"                       up\\nQ:   4.99\\nN:    292\\n\",\"                     down\\nQ:   0.00\\nN:     16\\n\",\"                     left\\nQ:   3.78\\nN:     95\\n\",\"                    right\\nQ:   3.50\\nN:     47\\n\",\"                       up\\nQ:   0.00\\nN:      5\\n\",\"                     down\\nQ:   0.00\\nN:      5\\n\",\"                     left\\nQ:  -0.32\\nN:      6\\n\",\"                    right\\nQ:  -0.73\\nN:      5\\n\",\"                       up\\nQ:   1.51\\nN:     12\\n\",\"                     down\\nQ:   3.57\\nN:     23\\n\",\"                     left\\nQ:   0.00\\nN:      8\\n\",\"                    right\\nQ:   7.41\\nN:    338\\n\",\"                       up\\nQ:  -0.13\\nN:     16\\n\",\"                     down\\nQ:   0.00\\nN:     16\\n\",\"                     left\\nQ:   0.00\\nN:     22\\n\",\"                    right\\nQ:  -0.40\\nN:     15\\n\",\"                       up\\nQ:   0.58\\nN:     14\\n\",\"                     down\\nQ:   2.60\\nN:     21\\n\",\"                     left\\nQ:   0.73\\nN:     14\\n\",\"                    right\\nQ:   4.41\\nN:     48\\n\",\"                       up\\nQ:  -3.16\\nN:      6\\n\",\"                     down\\nQ:  -5.51\\nN:      4\\n\",\"                     left\\nQ:  -5.82\\nN:      6\\n\",\"                    right\\nQ:   0.00\\nN:     10\\n\",\"                       up\\nQ:  -1.35\\nN:      3\\n\",\"                     down\\nQ:  -2.37\\nN:      4\\n\",\"                     left\\nQ:   0.00\\nN:      4\\n\",\"                    right\\nQ:   0.00\\nN:      3\\n\",\"                       up\\nQ:   7.81\\nN:    358\\n\",\"                     down\\nQ:   1.06\\nN:     14\\n\",\"                     left\\nQ:   0.82\\nN:     11\\n\",\"                    right\\nQ:   0.00\\nN:      8\\n\",\"                       up\\nQ:  -0.34\\nN:      7\\n\",\"                     down\\nQ:   0.00\\nN:      7\\n\",\"                     left\\nQ:   0.00\\nN:      8\\n\",\"                    right\\nQ:   0.00\\nN:      6\\n\",\"                       up\\nQ:  -2.25\\nN:      2\\n\",\"                     down\\nQ:  -4.50\\nN:      1\\n\",\"                     left\\nQ:  -4.50\\nN:      1\\n\",\"                    right\\nQ:  -2.71\\nN:      3\\n\",\"                       up\\nQ:   0.56\\nN:      6\\n\",\"                     down\\nQ:   0.00\\nN:      7\\n\",\"                     left\\nQ:   0.00\\nN:      5\\n\",\"                    right\\nQ:  -0.31\\nN:      5\\n\",\"                       up\\nQ:  10.00\\nN:    125\\n\",\"                     down\\nQ:  10.00\\nN:    125\\n\",\"                     left\\nQ:  10.00\\nN:    124\\n\",\"                    right\\nQ:  10.00\\nN:    124\\n\",\"                       up\\nQ:   4.03\\nN:     29\\n\",\"                     down\\nQ:   2.16\\nN:     15\\n\",\"                     left\\nQ:   5.36\\nN:     27\\n\",\"                    right\\nQ:   0.00\\nN:     16\\n\",\"                       up\\nQ:   5.20\\nN:    132\\n\",\"                     down\\nQ:   0.00\\nN:     15\\n\",\"                     left\\nQ:   2.27\\nN:     24\\n\",\"                    right\\nQ:   0.00\\nN:     11\\n\",\"                       up\\nQ:  -0.36\\nN:     10\\n\",\"                     down\\nQ:   0.00\\nN:     10\\n\",\"                     left\\nQ:  -0.33\\nN:      9\\n\",\"                    right\\nQ:  -1.04\\nN:      7\\n\",\"                       up\\nQ:   0.00\\nN:      2\\n\",\"                     down\\nQ:   0.00\\nN:      2\\n\",\"                     left\\nQ:   0.00\\nN:      0\\n\",\"                    right\\nQ:   0.00\\nN:      0\\n\",\"                       up\\nQ:   0.00\\nN:      7\\n\",\"                     down\\nQ:  -0.35\\nN:      9\\n\",\"                     left\\nQ:   0.73\\nN:      9\\n\",\"                    right\\nQ:   0.12\\nN:      9\\n\",\"                       up\\nQ:  -0.78\\nN:      2\\n\",\"                     down\\nQ:   0.00\\nN:      3\\n\",\"                     left\\nQ:   1.08\\nN:      5\\n\",\"                    right\\nQ:   0.00\\nN:      4\\n\",\"                       up\\nQ:   3.15\\nN:     29\\n\",\"                     down\\nQ:   0.00\\nN:     14\\n\",\"                     left\\nQ:   2.86\\nN:     16\\n\",\"                    right\\nQ:   0.00\\nN:     20\\n\",\"                       up\\nQ:   0.00\\nN:      3\\n\",\"                     down\\nQ:   0.00\\nN:      2\\n\",\"                     left\\nQ:   0.00\\nN:      3\\n\",\"                    right\\nQ:   1.19\\nN:      3\\n\",\"                       up\\nQ:  -5.00\\nN:      2\\n\",\"                     down\\nQ:  -5.00\\nN:      2\\n\",\"                     left\\nQ:  -5.00\\nN:      2\\n\",\"                    right\\nQ:  -5.00\\nN:      2\\n\",\"                       up\\nQ:   1.22\\nN:      2\\n\",\"                     down\\nQ:   0.65\\nN:      2\\n\",\"                     left\\nQ:   0.00\\nN:      2\\n\",\"                    right\\nQ:   0.00\\nN:      3\\n\",\"                       up\\nQ:   2.70\\nN:      2\\n\",\"                     down\\nQ:   0.00\\nN:      0\\n\",\"                     left\\nQ:   0.00\\nN:      0\\n\",\"                    right\\nQ:   0.00\\nN:      0\\n\",\"                       up\\nQ:  -1.83\\nN:      4\\n\",\"                     down\\nQ:   0.00\\nN:      5\\n\",\"                     left\\nQ:   0.00\\nN:      5\\n\",\"                    right\\nQ:  -1.01\\nN:      4\\n\",\"                       up\\nQ:   2.25\\nN:      4\\n\",\"                     down\\nQ:   1.22\\nN:      6\\n\",\"                     left\\nQ:   7.37\\nN:     18\\n\",\"                    right\\nQ:   0.00\\nN:      6\\n\",\"                       up\\nQ:  -0.81\\nN:      5\\n\",\"                     down\\nQ:  -3.33\\nN:      6\\n\",\"                     left\\nQ:  -0.80\\nN:      6\\n\",\"                    right\\nQ:  -0.81\\nN:      5\\n\",\"                       up\\nQ:   0.00\\nN:      3\\n\",\"                     down\\nQ:   4.68\\nN:      6\\n\",\"                     left\\nQ:   1.62\\nN:      5\\n\",\"                    right\\nQ:   0.00\\nN:     11\\n\",\"                       up\\nQ:   0.00\\nN:      0\\n\",\"                     down\\nQ:   0.00\\nN:      0\\n\",\"                     left\\nQ:   0.00\\nN:      0\\n\",\"                    right\\nQ:   0.00\\nN:      0\\n\",\"                       up\\nQ:   0.00\\nN:      2\\n\",\"                     down\\nQ:   0.00\\nN:      1\\n\",\"                     left\\nQ:  -4.50\\nN:      1\\n\",\"                    right\\nQ:   0.00\\nN:      0\\n\",\"                       up\\nQ:  -1.50\\nN:      3\\n\",\"                     down\\nQ:  -1.50\\nN:      3\\n\",\"                     left\\nQ:   0.00\\nN:      3\\n\",\"                    right\\nQ:  -4.50\\nN:      2\\n\",\"                       up\\nQ:   0.00\\nN:      2\\n\",\"                     down\\nQ:  -3.65\\nN:      1\\n\",\"                     left\\nQ:   0.00\\nN:      0\\n\",\"                    right\\nQ:   0.00\\nN:      0\\n\",\"                       up\\nQ:   0.00\\nN:      0\\n\",\"                     down\\nQ:   0.00\\nN:      0\\n\",\"                     left\\nQ:   0.00\\nN:      0\\n\",\"                    right\\nQ:   0.00\\nN:      0\\n\",\"                       up\\nQ:   1.22\\nN:      2\\n\",\"                     down\\nQ:   0.00\\nN:      1\\n\",\"                     left\\nQ:   0.00\\nN:      0\\n\",\"                    right\\nQ:   0.00\\nN:      0\\n\",\"                       up\\nQ:   0.00\\nN:      1\\n\",\"                     down\\nQ:   0.00\\nN:      0\\n\",\"                     left\\nQ:   0.00\\nN:      0\\n\",\"                    right\\nQ:   0.00\\nN:      0\\n\",\"                       up\\nQ:   0.00\\nN:      4\\n\",\"                     down\\nQ:   7.06\\nN:     25\\n\",\"                     left\\nQ:   0.00\\nN:      4\\n\",\"                    right\\nQ:   1.20\\nN:      4\\n\",\"                       up\\nQ:   0.00\\nN:      0\\n\",\"                     down\\nQ:   0.00\\nN:      0\\n\",\"                     left\\nQ:   0.00\\nN:      0\\n\",\"                    right\\nQ:   0.00\\nN:      0\\n\",\"                       up\\nQ:   3.00\\nN:      1\\n\",\"                     down\\nQ:   0.00\\nN:      0\\n\",\"                     left\\nQ:   0.00\\nN:      0\\n\",\"                    right\\nQ:   0.00\\nN:      0\\n\",\"                       up\\nQ:   0.00\\nN:      0\\n\",\"                     down\\nQ:   0.00\\nN:      0\\n\",\"                     left\\nQ:   0.00\\nN:      0\\n\",\"                    right\\nQ:   0.00\\nN:      0\\n\",\"                       up\\nQ:   0.00\\nN:      3\\n\",\"                     down\\nQ:   0.00\\nN:      3\\n\",\"                     left\\nQ:   0.00\\nN:      4\\n\",\"                    right\\nQ:   0.00\\nN:      3\\n\",\"                       up\\nQ:   0.00\\nN:      1\\n\",\"                     down\\nQ:   0.00\\nN:      0\\n\",\"                     left\\nQ:   0.00\\nN:      0\\n\",\"                    right\\nQ:   0.00\\nN:      0\\n\",\"                       up\\nQ:   0.00\\nN:      1\\n\",\"                     down\\nQ:   0.00\\nN:      0\\n\",\"                     left\\nQ:   0.00\\nN:      0\\n\",\"                    right\\nQ:   0.00\\nN:      0\\n\",\"                       up\\nQ:   0.00\\nN:      0\\n\",\"                     down\\nQ:   0.00\\nN:      0\\n\",\"                     left\\nQ:   0.00\\nN:      0\\n\",\"                    right\\nQ:   0.00\\nN:      0\\n\",\"                       up\\nQ:   0.00\\nN:      2\\n\",\"                     down\\nQ:   0.00\\nN:      1\\n\",\"                     left\\nQ:   0.00\\nN:      1\\n\",\"                    right\\nQ:   0.00\\nN:      0\\n\",\"                       up\\nQ:   0.00\\nN:      2\\n\",\"                     down\\nQ:   0.00\\nN:      0\\n\",\"                     left\\nQ:   0.00\\nN:      0\\n\",\"                    right\\nQ:   0.00\\nN:      0\\n\",\"                       up\\nQ:   0.00\\nN:      2\\n\",\"                     down\\nQ:   0.00\\nN:      0\\n\",\"                     left\\nQ:   0.00\\nN:      0\\n\",\"                    right\\nQ:   0.00\\nN:      0\\n\",\"                       up\\nQ:   0.00\\nN:      3\\n\",\"                     down\\nQ:   0.00\\nN:      0\\n\",\"                     left\\nQ:   0.00\\nN:      0\\n\",\"                    right\\nQ:   0.00\\nN:      0\\n\",\"                       up\\nQ:   0.00\\nN:      0\\n\",\"                     down\\nQ:   0.00\\nN:      0\\n\",\"                     left\\nQ:   0.00\\nN:      0\\n\",\"                    right\\nQ:   0.00\\nN:      0\\n\",\"                       up\\nQ:   0.00\\nN:      1\\n\",\"                     down\\nQ:   0.00\\nN:      0\\n\",\"                     left\\nQ:   0.00\\nN:      0\\n\",\"                    right\\nQ:   0.00\\nN:      0\\n\",\"                       up\\nQ:   0.00\\nN:      0\\n\",\"                     down\\nQ:   0.00\\nN:      0\\n\",\"                     left\\nQ:   0.00\\nN:      0\\n\",\"                    right\\nQ:   0.00\\nN:      0\\n\",\"                       up\\nQ:   0.00\\nN:      0\\n\",\"                     down\\nQ:   0.00\\nN:      0\\n\",\"                     left\\nQ:   0.00\\nN:      0\\n\",\"                    right\\nQ:   0.00\\nN:      0\\n\",\"                       up\\nQ:   0.00\\nN:      0\\n\",\"                     down\\nQ:   0.00\\nN:      0\\n\",\"                     left\\nQ:   0.00\\nN:      0\\n\",\"                    right\\nQ:   0.00\\nN:      0\\n\",\"                       up\\nQ:   0.00\\nN:      0\\n\",\"                     down\\nQ:   0.00\\nN:      0\\n\",\"                     left\\nQ:   0.00\\nN:      0\\n\",\"                    right\\nQ:   0.00\\nN:      0\\n\"],\"style\":[\"\",\"\",\"\",\"\",\"\",\"\",\"\",\"\",\"\",\"\",\"\",\"\",\"\",\"\",\"\",\"\",\"\",\"\",\"\",\"\",\"\",\"\",\"\",\"\",\"\",\"\",\"\",\"\",\"\",\"\",\"\",\"\",\"\",\"\",\"\",\"\",\"\",\"\",\"\",\"\",\"\",\"\",\"\",\"\",\"\",\"\",\"\",\"\",\"\",\"\",\"\",\"\",\"\",\"\",\"\",\"\",\"\",\"\",\"\",\"\",\"\",\"\",\"\",\"\",\"\",\"\",\"\",\"\",\"\",\"\",\"\",\"\",\"\",\"\",\"\",\"\",\"\",\"\",\"\",\"\",\"\",\"\",\"\",\"\",\"\",\"\",\"\",\"\",\"\",\"\",\"\",\"\",\"\",\"\",\"\",\"\",\"\",\"\",\"\",\"\",\"\",\"\",\"\",\"\",\"\",\"\",\"\",\"\",\"\",\"\",\"\",\"\",\"\",\"\",\"\",\"\",\"\",\"\",\"\",\"\",\"\",\"\",\"\",\"\",\"\",\"\",\"\",\"\",\"\",\"\",\"\",\"\",\"\",\"\",\"\",\"\",\"\",\"\",\"\",\"\",\"\",\"\",\"\",\"\",\"\",\"\",\"\",\"\",\"\",\"\",\"\",\"\",\"\",\"\",\"\",\"\",\"\",\"\",\"\",\"\",\"\",\"\",\"\",\"\",\"\",\"\",\"\",\"\",\"\",\"\",\"\",\"\",\"\",\"\",\"\",\"\",\"\",\"\",\"\",\"\",\"\",\"\",\"\",\"\",\"\",\"\",\"\",\"\",\"\",\"\",\"\",\"\",\"\",\"\",\"\",\"\",\"\",\"\",\"\",\"\",\"\",\"\",\"\",\"\",\"\",\"\",\"\",\"\",\"\",\"\",\"\",\"\",\"\",\"\",\"\",\"\",\"\",\"\",\"\",\"\",\"\",\"\",\"\",\"\",\"\",\"\",\"\",\"\",\"\",\"\",\"\",\"\",\"\",\"\",\"\",\"\",\"\",\"\",\"\",\"\",\"\",\"\",\"\",\"\",\"\",\"\",\"\",\"\",\"\",\"\",\"\",\"\",\"\",\"\",\"\",\"\",\"\",\"\",\"\",\"\",\"\",\"\",\"\",\"\",\"\",\"\",\"\",\"\",\"\",\"\",\"\",\"\",\"\",\"\",\"\",\"\",\"\",\"\",\"\",\"\",\"\",\"\",\"\",\"\",\"\",\"\",\"\",\"\",\"\",\"\",\"\",\"\",\"\",\"\",\"\",\"\",\"\",\"\",\"\",\"\",\"\",\"\",\"\",\"\",\"\",\"\",\"\",\"\",\"\",\"\",\"\",\"\",\"\",\"\",\"\",\"\",\"\",\"\",\"\",\"\",\"\",\"\",\"\",\"\",\"\",\"\",\"\",\"\",\"\",\"\",\"\",\"\",\"\",\"\",\"\",\"\",\"\",\"\",\"\",\"\",\"\",\"\",\"\",\"\",\"\",\"\",\"\",\"\",\"\",\"\",\"\",\"\",\"\",\"\",\"\",\"\",\"\",\"\",\"\",\"\",\"\",\"\",\"\",\"\",\"\",\"\",\"\",\"\",\"\",\"\",\"\",\"\",\"\",\"\",\"\",\"\",\"\",\"\",\"\",\"\",\"\",\"\",\"\",\"\",\"\",\"\",\"\",\"\",\"\",\"\",\"\",\"\",\"\",\"\",\"\",\"\",\"\",\"\",\"\",\"\",\"\",\"\",\"\",\"\",\"\",\"\",\"\",\"\",\"\",\"\",\"\",\"\",\"\",\"\",\"\",\"\",\"\",\"\",\"\",\"\",\"\",\"\",\"\",\"\",\"\",\"\",\"\",\"\",\"\",\"\",\"\",\"\",\"\",\"\",\"\",\"\",\"\",\"\",\"\",\"\",\"\",\"\",\"\",\"\",\"\",\"\",\"\",\"\",\"\",\"\",\"\",\"\",\"\",\"\",\"\",\"\",\"\",\"\",\"\",\"\",\"\",\"\",\"\",\"\",\"\",\"\",\"\",\"\",\"\",\"\",\"\",\"\",\"\",\"\",\"\",\"\",\"\",\"\",\"\",\"\",\"\",\"\",\"\",\"\",\"\",\"\",\"\",\"\",\"\",\"\",\"\",\"\",\"\",\"\",\"\",\"\",\"\",\"\",\"\",\"\",\"\",\"\",\"\",\"\",\"\",\"\",\"\",\"\",\"\",\"\",\"\",\"\",\"\",\"\",\"\",\"\",\"\",\"\",\"\",\"\",\"\",\"\",\"\",\"\",\"\",\"\",\"\",\"\",\"\",\"\",\"\",\"\",\"\",\"\",\"\",\"\",\"\",\"\",\"\",\"\",\"\",\"\",\"\",\"\",\"\",\"\",\"\",\"\",\"\",\"\",\"\",\"\",\"\",\"\",\"\",\"\",\"\",\"\",\"\",\"\",\"\",\"\",\"\",\"\",\"\",\"\",\"\",\"\",\"\",\"\",\"\",\"\",\"\",\"\",\"\",\"\",\"\",\"\",\"\",\"\",\"\",\"\",\"\",\"\",\"\",\"\",\"\",\"\",\"\",\"\",\"\",\"\",\"\",\"\",\"\",\"\",\"\",\"\",\"\",\"\",\"\",\"\",\"\",\"\",\"\",\"\",\"\",\"\",\"\",\"\",\"\",\"\",\"\",\"\",\"\",\"\",\"stroke:#853D00\",\"stroke:#7F4000\",\"stroke:#813F00\",\"stroke:#6A4B00\",\"stroke:#DF1000\",\"stroke:#8E3900\",\"stroke:#973400\",\"stroke:#7B4200\",\"stroke:#8F3800\",\"stroke:#7F4000\",\"stroke:#7F4000\",\"stroke:#7A4300\",\"stroke:#7B4200\",\"stroke:#7F4000\",\"stroke:#8A3B00\",\"stroke:#605000\",\"stroke:#AB2A00\",\"stroke:#893B00\",\"stroke:#893B00\",\"stroke:#644E00\",\"stroke:#913700\",\"stroke:#813F00\",\"stroke:#823F00\",\"stroke:#8A3B00\",\"stroke:#FF0000\",\"stroke:#FF0000\",\"stroke:#FF0000\",\"stroke:#FF0000\",\"stroke:#813F00\",\"stroke:#7F4000\",\"stroke:#7F4000\",\"stroke:#823F00\",\"stroke:#913700\",\"stroke:#8B3A00\",\"stroke:#E60D00\",\"stroke:#764500\",\"stroke:#6B4A00\",\"stroke:#7F4000\",\"stroke:#7D4100\",\"stroke:#555500\",\"stroke:#614F00\",\"stroke:#7F4000\",\"stroke:#7F4000\",\"stroke:#4C5A00\",\"stroke:#813F00\",\"stroke:#714700\",\"stroke:#8B3A00\",\"stroke:#565500\",\"stroke:#823F00\",\"stroke:#813F00\",\"stroke:#813F00\",\"stroke:#7F4000\",\"stroke:#823F00\",\"stroke:#754500\",\"stroke:#7C4200\",\"stroke:#585400\",\"stroke:#833E00\",\"stroke:#734600\",\"stroke:#8B3A00\",\"stroke:#6F4800\",\"stroke:#813F00\",\"stroke:#843E00\",\"stroke:#804000\",\"stroke:#8A3B00\",\"stroke:#843E00\",\"stroke:#853D00\",\"stroke:#7F4000\",\"stroke:#7F4000\",\"stroke:#7F4000\",\"stroke:#7F4000\",\"stroke:#7F4000\",\"stroke:#7F4000\",\"stroke:#873C00\",\"stroke:#973400\",\"stroke:#8B3A00\",\"stroke:#B42600\",\"stroke:#804000\",\"stroke:#804000\",\"stroke:#7F4000\",\"stroke:#813F00\",\"stroke:#4B5A00\",\"stroke:#794300\",\"stroke:#784400\",\"stroke:#4E5900\",\"stroke:#714700\",\"stroke:#744600\",\"stroke:#7F4000\",\"stroke:#3D6100\",\"stroke:#764500\",\"stroke:#654D00\",\"stroke:#843E00\",\"stroke:#634E00\",\"stroke:#953500\",\"stroke:#7D4100\",\"stroke:#943600\",\"stroke:#993300\",\"stroke:#813F00\",\"stroke:#7F4000\",\"stroke:#7F4000\",\"stroke:#7F4000\",\"stroke:#9E3100\",\"stroke:#7F4000\",\"stroke:#7F4000\",\"stroke:#C71C00\",\"stroke:#813F00\",\"stroke:#7F4000\",\"stroke:#7F4000\",\"stroke:#7F4000\",\"stroke:#475C00\",\"stroke:#7F4000\",\"stroke:#535600\",\"stroke:#346600\",\"stroke:#7F4000\",\"stroke:#833E00\",\"stroke:#7F4000\",\"stroke:#804000\",\"stroke:#406000\",\"stroke:#7F4000\",\"stroke:#4F5800\",\"stroke:#535600\",\"stroke:#7F4000\",\"stroke:#7F4000\",\"stroke:#843E00\",\"stroke:#893B00\",\"stroke:#6C4A00\",\"stroke:#525700\",\"stroke:#7F4000\",\"stroke:#216F00\",\"stroke:#813F00\",\"stroke:#7F4000\",\"stroke:#7F4000\",\"stroke:#853D00\",\"stroke:#784400\",\"stroke:#5E5100\",\"stroke:#764500\",\"stroke:#475C00\",\"stroke:#A82C00\",\"stroke:#C61D00\",\"stroke:#CA1B00\",\"stroke:#7F4000\",\"stroke:#913700\",\"stroke:#9E3100\",\"stroke:#7F4000\",\"stroke:#7F4000\",\"stroke:#1C7200\",\"stroke:#724700\",\"stroke:#754500\",\"stroke:#7F4000\",\"stroke:#843E00\",\"stroke:#7F4000\",\"stroke:#7F4000\",\"stroke:#7F4000\",\"stroke:#9C3200\",\"stroke:#B92300\",\"stroke:#B92300\",\"stroke:#A22F00\",\"stroke:#784400\",\"stroke:#7F4000\",\"stroke:#7F4000\",\"stroke:#843E00\",\"stroke:#008000\",\"stroke:#008000\",\"stroke:#008000\",\"stroke:#008000\",\"stroke:#4C5A00\",\"stroke:#644E00\",\"stroke:#3B6200\",\"stroke:#7F4000\",\"stroke:#3D6100\",\"stroke:#7F4000\",\"stroke:#634E00\",\"stroke:#7F4000\",\"stroke:#843E00\",\"stroke:#7F4000\",\"stroke:#843E00\",\"stroke:#8D3900\",\"stroke:#7F4000\",\"stroke:#7F4000\",\"stroke:#7F4000\",\"stroke:#7F4000\",\"stroke:#7F4000\",\"stroke:#843E00\",\"stroke:#764500\",\"stroke:#7E4100\",\"stroke:#8A3B00\",\"stroke:#7F4000\",\"stroke:#724700\",\"stroke:#7F4000\",\"stroke:#575400\",\"stroke:#7F4000\",\"stroke:#5B5200\",\"stroke:#7F4000\",\"stroke:#7F4000\",\"stroke:#7F4000\",\"stroke:#7F4000\",\"stroke:#704800\",\"stroke:#BF2000\",\"stroke:#BF2000\",\"stroke:#BF2000\",\"stroke:#BF2000\",\"stroke:#704800\",\"stroke:#774400\",\"stroke:#7F4000\",\"stroke:#7F4000\",\"stroke:#5D5100\",\"stroke:#7F4000\",\"stroke:#7F4000\",\"stroke:#7F4000\",\"stroke:#973400\",\"stroke:#7F4000\",\"stroke:#7F4000\",\"stroke:#8C3A00\",\"stroke:#634E00\",\"stroke:#704800\",\"stroke:#226F00\",\"stroke:#7F4000\",\"stroke:#8A3B00\",\"stroke:#AA2B00\",\"stroke:#8A3B00\",\"stroke:#8A3B00\",\"stroke:#7F4000\",\"stroke:#445E00\",\"stroke:#6B4A00\",\"stroke:#7F4000\",\"stroke:#7F4000\",\"stroke:#7F4000\",\"stroke:#7F4000\",\"stroke:#7F4000\",\"stroke:#7F4000\",\"stroke:#7F4000\",\"stroke:#B92300\",\"stroke:#7F4000\",\"stroke:#933600\",\"stroke:#933600\",\"stroke:#7F4000\",\"stroke:#B92300\",\"stroke:#7F4000\",\"stroke:#AE2900\",\"stroke:#7F4000\",\"stroke:#7F4000\",\"stroke:#7F4000\",\"stroke:#7F4000\",\"stroke:#7F4000\",\"stroke:#7F4000\",\"stroke:#704800\",\"stroke:#7F4000\",\"stroke:#7F4000\",\"stroke:#7F4000\",\"stroke:#7F4000\",\"stroke:#7F4000\",\"stroke:#7F4000\",\"stroke:#7F4000\",\"stroke:#7F4000\",\"stroke:#256D00\",\"stroke:#7F4000\",\"stroke:#704800\",\"stroke:#7F4000\",\"stroke:#7F4000\",\"stroke:#7F4000\",\"stroke:#7F4000\",\"stroke:#595300\",\"stroke:#7F4000\",\"stroke:#7F4000\",\"stroke:#7F4000\",\"stroke:#7F4000\",\"stroke:#7F4000\",\"stroke:#7F4000\",\"stroke:#7F4000\",\"stroke:#7F4000\",\"stroke:#7F4000\",\"stroke:#7F4000\",\"stroke:#7F4000\",\"stroke:#7F4000\",\"stroke:#7F4000\",\"stroke:#7F4000\",\"stroke:#7F4000\",\"stroke:#7F4000\",\"stroke:#7F4000\",\"stroke:#7F4000\",\"stroke:#7F4000\",\"stroke:#7F4000\",\"stroke:#7F4000\",\"stroke:#7F4000\",\"stroke:#7F4000\",\"stroke:#7F4000\",\"stroke:#7F4000\",\"stroke:#7F4000\",\"stroke:#7F4000\",\"stroke:#7F4000\",\"stroke:#7F4000\",\"stroke:#7F4000\",\"stroke:#7F4000\",\"stroke:#7F4000\",\"stroke:#7F4000\",\"stroke:#7F4000\",\"stroke:#7F4000\",\"stroke:#7F4000\",\"stroke:#7F4000\",\"stroke:#7F4000\",\"stroke:#7F4000\",\"stroke:#7F4000\",\"stroke:#7F4000\",\"stroke:#7F4000\",\"stroke:#7F4000\",\"stroke:#7F4000\",\"stroke:#7F4000\",\"stroke:#7F4000\",\"stroke:#7F4000\",\"stroke:#7F4000\",\"stroke:#7F4000\",\"stroke:#7F4000\",\"stroke:#7F4000\",\"stroke:#7F4000\",\"stroke:#7F4000\",\"stroke:#7F4000\",\"stroke:#7F4000\",\"stroke:#7F4000\",\"stroke:#7F4000\",\"stroke:#7F4000\",\"stroke:#7F4000\",\"stroke:#7F4000\",\"stroke:#7F4000\",\"stroke:#7F4000\",\"stroke:#7F4000\"]}};\n",
       "        var rootID = 1-1;\n",
       "        var div = \"treevisPTDAyrdi\";\n",
       "        var initExpand = 1\n",
       "        var initDuration = 750\n",
       "        var svgHeight = 600\n",
       "        if (typeof $ === 'undefined') {\n",
       "    loadScript(\"https://code.jquery.com/jquery-3.1.1.min.js\", run);\n",
       "} else {\n",
       "    run();\n",
       "}\n",
       "\n",
       "function run() {\n",
       "    if (typeof d3 === 'undefined') {\n",
       "        loadScript(\"https://d3js.org/d3.v3.js\", showTree);\n",
       "    } else {\n",
       "        showTree();\n",
       "    }\n",
       "}\n",
       "\n",
       "function loadScript(url, callback)\n",
       "{\n",
       "    console.log(\"starting script load...\")\n",
       "    // Adding the script tag to the head as suggested before\n",
       "    var head = document.getElementsByTagName('head')[0];\n",
       "    var script = document.createElement('script');\n",
       "    script.type = 'text/javascript';\n",
       "    script.src = url;\n",
       "\n",
       "    // Then bind the event to the callback function.\n",
       "    // There are several events for cross browser compatibility.\n",
       "    script.onreadystatechange = callback;\n",
       "    script.onload = callback;\n",
       "\n",
       "    // Fire the loading\n",
       "    head.appendChild(script);\n",
       "}\n",
       "\n",
       "function showTree() {\n",
       "        \n",
       "    // var margin = {top: 20, right: 120, bottom: 20, left: 120},\n",
       "    var margin = {top: 20, right: 120, bottom: 80, left: 120},\n",
       "        width = $(\"#\"+div).width() - margin.right - margin.left,\n",
       "        height = svgHeight - margin.top - margin.bottom;\n",
       "        // TODO make height a parameter of TreeVisualizer\n",
       "\n",
       "    var i = 0,\n",
       "        root;\n",
       "\n",
       "    var tree = d3.layout.tree()\n",
       "        .size([width, height]);\n",
       "\n",
       "    var diagonal = d3.svg.diagonal();\n",
       "        //.projection(function(d) { return [d.y, d.x]; });\n",
       "        // uncomment above to make the tree go horizontally\n",
       "\n",
       "    // see http://stackoverflow.com/questions/16265123/resize-svg-when-window-is-resized-in-d3-js\n",
       "    if (d3.select(\"#\"+div+\"_svg\").empty()) {\n",
       "        $(\".d3twarn\").remove();\n",
       "        d3.select(\"#\"+div).append(\"svg\")\n",
       "            .attr(\"id\", div+\"_svg\")\n",
       "            .attr(\"width\", width + margin.right + margin.left)\n",
       "            .attr(\"height\", height + margin.top + margin.bottom);\n",
       "    }\n",
       "\n",
       "    d3.select(\"#\"+div+\"_svg\").selectAll(\"*\").remove();\n",
       "\n",
       "    var svg = d3.select(\"#\"+div+\"_svg\")\n",
       "        .append(\"g\")\n",
       "            .attr(\"transform\", \"translate(\" + margin.left + \",\" + margin.top + \")\");\n",
       "\n",
       "    // console.log(\"tree data:\");\n",
       "    // console.log(treeData[rootID]);\n",
       "    root = createDisplayNode(rootID, initExpand);\n",
       "    root.x0 = width / 2;\n",
       "    root.y0 = 0;\n",
       "\n",
       "    update(root, initDuration);\n",
       "    console.log(\"tree should appear\");\n",
       "\n",
       "    function createDisplayNode(id, expandLevel) {\n",
       "      var dnode = {\"dataID\":id,\n",
       "                   \"children\": null,\n",
       "                   \"_children\":null};\n",
       "      if (expandLevel > 0) {\n",
       "        initializeChildren(dnode, expandLevel);\n",
       "      }\n",
       "      return dnode;\n",
       "    }\n",
       "\n",
       "    function initializeChildren(d, expandLevel) {\n",
       "      // create children\n",
       "      var children = treeData.children[d.dataID];\n",
       "      d.children = [];\n",
       "      if (children) {\n",
       "        for (var i = 0; i < children.length; i++) {\n",
       "          var cid = children[i]-1;\n",
       "          d.children.push(createDisplayNode(cid, expandLevel-1));\n",
       "        }\n",
       "      }\n",
       "    }\n",
       "\n",
       "    /**\n",
       "     * Recursively called to update each node in the tree.\n",
       "     * \n",
       "     * source is a d3 node that has position, etc.\n",
       "    */\n",
       "    function update(source, duration) {\n",
       "\n",
       "      width = $(\"#\"+div).width() - margin.right - margin.left,\n",
       "      height = $(\"#\"+div).height() - margin.top - margin.bottom;\n",
       "\n",
       "      tree.size([width,height]);\n",
       "      d3.select(\"#\"+div).attr(\"width\", width + margin.right + margin.left)\n",
       "            .attr(\"height\", height + margin.top + margin.bottom);\n",
       "      d3.select(\"#\"+div+\"_svg\").attr(\"width\", width + margin.right + margin.left)\n",
       "             .attr(\"height\", height + margin.top + margin.bottom);\n",
       "\n",
       "\n",
       "      // Compute the new tree layout.\n",
       "      var nodes = tree.nodes(root).reverse(),\n",
       "          links = tree.links(nodes);\n",
       "\n",
       "\n",
       "      // Update the nodes…\n",
       "      var node = svg.selectAll(\"g.node\")\n",
       "          .data(nodes, function(d) { return d.id || (d.id = ++i); });\n",
       "\n",
       "      // Enter any new nodes at the parent's previous position.\n",
       "      var nodeEnter = node.enter().append(\"g\")\n",
       "          .attr(\"class\", \"node\")\n",
       "          .attr(\"transform\", function(d) { return \"translate(\" + source.x0 + \",\" + source.y0 + \")\"; })\n",
       "          .on(\"click\", click)\n",
       "\n",
       "      nodeEnter.append(\"circle\")\n",
       "          .attr(\"r\", \"10px\")\n",
       "          .attr(\"style\", function(d) { return treeData.style[d.dataID]; } )\n",
       "\n",
       "      var tbox = nodeEnter.append(\"text\")\n",
       "          .attr(\"y\", 25)\n",
       "          .attr(\"text-anchor\", \"middle\")\n",
       "          //.text( function(d) { return treeData.text[d.dataID]; } )\n",
       "          .style(\"fill-opacity\", 1e-6);\n",
       "\n",
       "      tbox.each( function(d) {\n",
       "          var el = d3.select(this)\n",
       "          var text = treeData.text[d.dataID];\n",
       "          var lines = text.split('\\n');\n",
       "          for (var i = 0; i < lines.length; i++) {\n",
       "              var tspan = el.append(\"tspan\").text(lines[i]);\n",
       "              if (i > 0) {\n",
       "                  tspan.attr(\"x\", 0).attr(\"dy\", \"1.2em\");\n",
       "              }\n",
       "          }\n",
       "      });\n",
       "\n",
       "      //tooltip\n",
       "      nodeEnter.append(\"title\").text( function(d) { return treeData.tooltip[d.dataID];} );\n",
       "\n",
       "      // Transition nodes to their new position.\n",
       "      var nodeUpdate = node.transition()\n",
       "          .duration(duration)\n",
       "          .attr(\"transform\", function(d) { return \"translate(\" + d.x + \",\" + d.y + \")\"; });\n",
       "\n",
       "      nodeUpdate.select(\"text\")\n",
       "          .style(\"fill-opacity\", 1);\n",
       "\n",
       "      // Transition exiting nodes to the parent's new position.\n",
       "      var nodeExit = node.exit().transition()\n",
       "          .duration(duration)\n",
       "          .attr(\"transform\", function(d) { return \"translate(\" + source.x + \",\" + source.y + \")\"; })\n",
       "          .remove();\n",
       "\n",
       "      nodeExit.select(\"text\")\n",
       "          .style(\"fill-opacity\", 1e-6);\n",
       "\n",
       "      // Update the links…\n",
       "      var link = svg.selectAll(\"path.link\")\n",
       "          .data(links, function(d) { return d.target.id; });\n",
       "\n",
       "      // Enter any new links at the parent's previous position.\n",
       "      // XXX link width should be based on transition data, not node data\n",
       "      link.enter().insert(\"path\", \"g\")\n",
       "          .attr(\"class\", \"link\")\n",
       "          .attr(\"style\", function(d) {\n",
       "              var ls = treeData.link_style[d.target.dataID];\n",
       "              return ls;\n",
       "          } )\n",
       "          .attr(\"d\", function(d) {\n",
       "            var o = {x: source.x0, y: source.y0};\n",
       "            return diagonal({source: o, target: o});\n",
       "          });\n",
       "\n",
       "      // Transition links to their new position.\n",
       "      link.transition()\n",
       "          .duration(duration)\n",
       "          .attr(\"d\", diagonal);\n",
       "\n",
       "      // Transition exiting nodes to the parent's new position.\n",
       "      link.exit().transition()\n",
       "          .duration(duration)\n",
       "          .attr(\"d\", function(d) {\n",
       "            var o = {x: source.x, y: source.y};\n",
       "            return diagonal({source: o, target: o});\n",
       "          })\n",
       "          .remove();\n",
       "\n",
       "      // Stash the old positions for transition.\n",
       "      nodes.forEach(function(d) {\n",
       "        d.x0 = d.x;\n",
       "        d.y0 = d.y;\n",
       "      });\n",
       "    }\n",
       "\n",
       "    // Toggle children on click.\n",
       "    function click(d) {\n",
       "      if (d.children) {\n",
       "        d._children = d.children;\n",
       "        d.children = null;\n",
       "      } else if (d._children) {\n",
       "        d.children = d._children;\n",
       "        d._children = null;\n",
       "      } else {\n",
       "        initializeChildren(d, 1);\n",
       "      }\n",
       "      update(d, 750);\n",
       "    }\n",
       "\n",
       "}\n",
       "\n",
       "        })();\n",
       "    </script>\n",
       "    <p class=\"d3twarn\">\n",
       "    Attempting to display the tree. If the tree is large, this may take some time.\n",
       "    </p>\n",
       "    <p class=\"d3twarn\">\n",
       "    Note: D3Trees.jl requires an internet connection. If no tree appears, please check your connection. To help fix this, please see <a href=\"https://github.com/sisl/D3Trees.jl/issues/10\">this issue</a>. You may also diagnose errors with the javascript console (Ctrl-Shift-J in chrome).\n",
       "    </p>\n",
       "    </div>\n",
       "    </body>\n",
       "    </html>\n",
       "\n"
      ],
      "text/plain": [
       "GridWorldState(4, 1, false)\n",
       "N:   1843\n",
       "\n",
       "├──                       up\n",
       "│  Q:  -0.41\n",
       "│  N:    218\n",
       "\n",
       "│  ├──GridWorldState(3, 1, false)\n",
       "│  │  N:    801\n",
       "\n",
       "│  │  ├──                       up\n",
       "│  │  │  Q:  -1.24\n",
       "│  │  │  N:     76\n",
       " (3 children)\n",
       "│  │  ├──                     down\n",
       "│  │  │  Q:   0.00\n",
       "│  │  │  N:    235\n",
       " (1 children)\n",
       "│  │  ├──                     left\n",
       "│  │  │  Q:   0.00\n",
       "│  │  │  N:    227\n",
       " (3 children)\n",
       "│  │  └──                    right\n",
       "│  │     Q:   0.43\n",
       "│  │     N:    263\n",
       " (3 children)\n",
       "│  ├──GridWorldState(5, 1, false)\n",
       "│  │  N:   1067\n",
       "\n",
       "│  │  ├──                       up\n",
       "│  │  │  Q:   0.33\n",
       "│  │  │  N:    123\n",
       " (3 children)\n",
       "│  │  ├──                     down\n",
       "│  │  │  Q:   0.00\n",
       "│  │  │  N:     98\n",
       " (1 children)\n",
       "│  │  ├──                     left\n",
       "│  │  │  Q:  -0.83\n",
       "│  │  │  N:     53\n",
       " (3 children)\n",
       "│  │  └──                    right\n",
       "│  │     Q:   2.50\n",
       "│  │     N:    793\n",
       " (3 children)\n",
       "│  └──GridWorldState(4, 2, false)\n",
       "│     N:    499\n",
       "\n",
       "│     ├──                       up\n",
       "│     │  Q:  -7.49\n",
       "│     │  N:      8\n",
       " (3 children)\n",
       "│     ├──                     down\n",
       "│     │  Q:  -1.13\n",
       "│     │  N:     99\n",
       " (4 children)\n",
       "│     ├──                     left\n",
       "│     │  Q:  -1.81\n",
       "│     │  N:     62\n",
       " (4 children)\n",
       "│     └──                    right\n",
       "│        Q:   0.33\n",
       "│        N:    330\n",
       " (4 children)\n",
       "├──                     down\n",
       "│  Q:   0.00\n",
       "│  N:    360\n",
       "\n",
       "│  └──GridWorldState(4, 1, false)\n",
       "│     N:   1843\n",
       "\n",
       "│     ├──                       up\n",
       "│     │  Q:  -0.41\n",
       "│     │  N:    218\n",
       " (3 children)\n",
       "│     ├──                     down\n",
       "│     │  Q:   0.00\n",
       "│     │  N:    360\n",
       " (1 children)\n",
       "│     ├──                     left\n",
       "│     │  Q:  -0.09\n",
       "│     │  N:    328\n",
       " (3 children)\n",
       "│     └──                    right\n",
       "│        Q:   1.71\n",
       "│        N:    937\n",
       " (3 children)\n",
       "├──                     left\n",
       "│  Q:  -0.09\n",
       "│  N:    328\n",
       "\n",
       "│  ├──GridWorldState(3, 1, false)\n",
       "│  │  N:    801\n",
       "\n",
       "│  │  ├──                       up\n",
       "│  │  │  Q:  -1.24\n",
       "│  │  │  N:     76\n",
       " (3 children)\n",
       "│  │  ├──                     down\n",
       "│  │  │  Q:   0.00\n",
       "│  │  │  N:    235\n",
       " (1 children)\n",
       "│  │  ├──                     left\n",
       "│  │  │  Q:   0.00\n",
       "│  │  │  N:    227\n",
       " (3 children)\n",
       "│  │  └──                    right\n",
       "│  │     Q:   0.43\n",
       "│  │     N:    263\n",
       " (3 children)\n",
       "│  ├──GridWorldState(5, 1, false)\n",
       "│  │  N:   1067\n",
       "\n",
       "│  │  ├──                       up\n",
       "│  │  │  Q:   0.33\n",
       "│  │  │  N:    123\n",
       " (3 children)\n",
       "│  │  ├──                     down\n",
       "│  │  │  Q:   0.00\n",
       "│  │  │  N:     98\n",
       " (1 children)\n",
       "│  │  ├──                     left\n",
       "│  │  │  Q:  -0.83\n",
       "│  │  │  N:     53\n",
       " (3 children)\n",
       "│  │  └──                    right\n",
       "│  │     Q:   2.50\n",
       "│  │     N:    793\n",
       " (3 children)\n",
       "│  └──GridWorldState(4, 2, false)\n",
       "│     N:    499\n",
       "\n",
       "│     ├──                       up\n",
       "│     │  Q:  -7.49\n",
       "│     │  N:      8\n",
       " (3 children)\n",
       "│     ├──                     down\n",
       "│     │  Q:  -1.13\n",
       "│     │  N:     99\n",
       " (4 children)\n",
       "│     ├──                     left\n",
       "│     │  Q:  -1.81\n",
       "│     │  N:     62\n",
       " (4 children)\n",
       "│     └──                    right\n",
       "│        Q:   0.33\n",
       "│        N:    330\n",
       " (4 children)\n",
       "└──                    right\n",
       "   Q:   1.71\n",
       "   N:    937\n",
       "\n",
       "   ├──GridWorldState(4, 2, false)\n",
       "   │  N:    499\n",
       "\n",
       "   │  ├──                       up\n",
       "   │  │  Q:  -7.49\n",
       "   │  │  N:      8\n",
       " (3 children)\n",
       "   │  ├──                     down\n",
       "   │  │  Q:  -1.13\n",
       "   │  │  N:     99\n",
       " (4 children)\n",
       "   │  ├──                     left\n",
       "   │  │  Q:  -1.81\n",
       "   │  │  N:     62\n",
       " (4 children)\n",
       "   │  └──                    right\n",
       "   │     Q:   0.33\n",
       "   │     N:    330\n",
       " (4 children)\n",
       "   ├──GridWorldState(3, 1, false)\n",
       "   │  N:    801\n",
       "\n",
       "   │  ├──                       up\n",
       "   │  │  Q:  -1.24\n",
       "   │  │  N:     76\n",
       " (3 children)\n",
       "   │  ├──                     down\n",
       "   │  │  Q:   0.00\n",
       "   │  │  N:    235\n",
       " (1 children)\n",
       "   │  ├──                     left\n",
       "   │  │  Q:   0.00\n",
       "   │  │  N:    227\n",
       " (3 children)\n",
       "   │  └──                    right\n",
       "   │     Q:   0.43\n",
       "   │     N:    263\n",
       " (3 children)\n",
       "   └──GridWorldState(5, 1, false)\n",
       "      N:   1067\n",
       "\n",
       "      ├──                       up\n",
       "      │  Q:   0.33\n",
       "      │  N:    123\n",
       " (3 children)\n",
       "      ├──                     down\n",
       "      │  Q:   0.00\n",
       "      │  N:     98\n",
       " (1 children)\n",
       "      ├──                     left\n",
       "      │  Q:  -0.83\n",
       "      │  N:     53\n",
       " (3 children)\n",
       "      └──                    right\n",
       "         Q:   2.50\n",
       "         N:    793\n",
       " (3 children)\n"
      ]
     },
     "execution_count": 47,
     "metadata": {},
     "output_type": "execute_result"
    }
   ],
   "source": [
    "using D3Trees\n",
    "\n",
    "# first, run the planner on the state\n",
    "s = state_hist(hist)[1]\n",
    "a, info = action_info(planner, s);\n",
    "\n",
    "# show the tree (click the node to expand)\n",
    "D3Tree(info[:tree], init_expand=1)"
   ]
  }
 ],
 "metadata": {
  "anaconda-cloud": {},
  "kernelspec": {
   "display_name": "Julia 1.4.2",
   "language": "julia",
   "name": "julia-1.4"
  },
  "language_info": {
   "file_extension": ".jl",
   "mimetype": "application/julia",
   "name": "julia",
   "version": "1.4.2"
  }
 },
 "nbformat": 4,
 "nbformat_minor": 4
}
