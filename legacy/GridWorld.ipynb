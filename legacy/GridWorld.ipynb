{
 "cells": [
  {
   "cell_type": "markdown",
   "metadata": {
    "slideshow": {
     "slide_type": "slide"
    }
   },
   "source": [
    "# Grid World Tutorial: POMDPs.jl for Complete Beginners"
   ]
  },
  {
   "cell_type": "markdown",
   "metadata": {
    "slideshow": {
     "slide_type": "slide"
    }
   },
   "source": [
    "In this tutorial, we try to provide a simple example of how to define a Markov decision process (MDP) problem using the [POMDPs.jl](https://github.com/sisl/POMDPs.jl) interface. After defining the problem in this way, you will be able to use the solvers that the interface supports. In this tutorial, we will show you how to use the value iteration and the Monte Carlo Tree Search solvers that the POMDPs.jl interface supports. We assume that you have some knowledge of basic programming, but are not necessarily familiar with all the features that exist in Julia. We try to cover the many language specific features used in POMDPs.jl in this tutorial. We do assume that you know the grid world problem, and are familiar with the formal defintion of the MDP.  Let's get started!"
   ]
  },
  {
   "cell_type": "markdown",
   "metadata": {},
   "source": [
    "## Dependencies\n",
    "You need to install a few modules in order to use this notebook. If you have all the modules below installed, great! If not run the following commands:\n"
   ]
  },
  {
   "cell_type": "markdown",
   "metadata": {},
   "source": [
    "```julia\n",
    "# install the POMDPs.jl interface\n",
    "Pkg.add(\"POMDPs\")\n",
    "Pkg.add(\"POMDPToolbox\")\n",
    "```"
   ]
  },
  {
   "cell_type": "markdown",
   "metadata": {},
   "source": [
    "If you already have all of the modules above, make sure you have the most recent versions. Many of these are still under heavy development, so update before starting by running\n",
    "\n",
    "```julia\n",
    "Pkg.update()\n",
    "```"
   ]
  },
  {
   "cell_type": "code",
   "execution_count": 1,
   "metadata": {
    "collapsed": false,
    "jupyter": {
     "outputs_hidden": false
    },
    "slideshow": {
     "slide_type": "slide"
    }
   },
   "outputs": [
    {
     "name": "stderr",
     "output_type": "stream",
     "text": [
      "┌ Info: Precompiling POMDPs [a93abf59-7444-517b-a68a-c42f96afdd7d]\n",
      "└ @ Base loading.jl:1260\n",
      "┌ Warning: Importing POMDPToolbox. As of Julia 0.7 POMDPToolbox has been discontinued. Please use POMDPModelTools, POMDPPolicies, BeliefUpdaters, and/or POMDPSimulators instead.\n",
      "└ @ POMDPToolbox C:\\Users\\Honza\\.julia\\packages\\POMDPToolbox\\OdZy7\\src\\POMDPToolbox.jl:4\n"
     ]
    }
   ],
   "source": [
    "# first import the POMDPs.jl interface\n",
    "using POMDPs\n",
    "\n",
    "# POMDPToolbox has some glue code to help us use Distributions.jl\n",
    "using POMDPToolbox"
   ]
  },
  {
   "cell_type": "markdown",
   "metadata": {},
   "source": [
    "## Problem Overview\n",
    "In Grid World, we are trying to control an agent who has trouble moving in the desired direction. In our problem, we have a four reward states on a $10\\times 10$ grid. Each position on the grid represents a state, and the positive reward states are terminal (the agent stops recieveing reward after reaching them). The agent has four actions to choose from: up, down, left, right. The agent moves in the desired direction with a probability of 0.7, and with a probability of 0.1 in each of the remaining three directions. The problem has the following form:\n",
    "![example](http://artint.info/figures/ch09/gridworldc.gif)"
   ]
  },
  {
   "cell_type": "markdown",
   "metadata": {},
   "source": [
    "## MDP Type\n",
    "\n",
    "In POMDPs.jl, an MDP is defined by creating a subtype of the `MDP` abstract type. The types of the states and actions for the MDP are declared as [parameters](https://docs.julialang.org/en/stable/manual/types/#Parametric-Types-1) of the `MDP` type.  For example, if our states and actions are both represented by integers we can define our MDP type in the following way:\n",
    "```julia\n",
    "type MyMDP <: MDP{Int64, Int64} # MDP{StateType, ActionType}\n",
    "\n",
    "end\n",
    "```\n",
    "`MyMDP` is a subtype from an abstract MDP type defined in POMDPs.jl. Let's first define types to represent grid worls states and actions, and then we'll go through defining our Grid World MDP type. "
   ]
  },
  {
   "cell_type": "markdown",
   "metadata": {
    "slideshow": {
     "slide_type": "slide"
    }
   },
   "source": [
    "## States\n",
    "The data container below represents the state of the agent in the grid world."
   ]
  },
  {
   "cell_type": "code",
   "execution_count": 2,
   "metadata": {},
   "outputs": [],
   "source": [
    "struct GridWorldState \n",
    "    x::Int64 # x position\n",
    "    y::Int64 # y position\n",
    "    done::Bool # are we in a terminal state?\n",
    "end"
   ]
  },
  {
   "cell_type": "markdown",
   "metadata": {},
   "source": [
    "Below are some convenience functions for working with the GridWorldState. "
   ]
  },
  {
   "cell_type": "code",
   "execution_count": 3,
   "metadata": {
    "collapsed": false,
    "jupyter": {
     "outputs_hidden": false
    }
   },
   "outputs": [
    {
     "data": {
      "text/plain": [
       "posequal (generic function with 1 method)"
      ]
     },
     "execution_count": 3,
     "metadata": {},
     "output_type": "execute_result"
    }
   ],
   "source": [
    "# initial state constructor\n",
    "GridWorldState(x::Int64, y::Int64) = GridWorldState(x,y,false)\n",
    "# checks if the position of two states are the same\n",
    "posequal(s1::GridWorldState, s2::GridWorldState) = s1.x == s2.x && s1.y == s2.y"
   ]
  },
  {
   "cell_type": "markdown",
   "metadata": {},
   "source": [
    "## Actions\n",
    "Since our action is simply the direction the agent chooses to go (i.e. up, down, left, right), we can use a Symbol to represent it. Symbols are essentially the same as strings, but they typically consist of only one word and literals begin with \"`:`\". See [this page](https://stackoverflow.com/questions/23480722/what-is-a-symbol-in-julia) for a techincal discussion of what they are. Note that in this case, we will not define a custom type for our action, instead we represent it directly with a symbol. So that our action looks like:\n",
    "```julia\n",
    "action = :up # can also be :down, :left, :right\n",
    "```"
   ]
  },
  {
   "cell_type": "markdown",
   "metadata": {},
   "source": [
    "## MDP\n",
    "The GridWorld data container is defined below. It holds all the information we need to define the MDP tuple $$(\\mathcal{S}, \\mathcal{A}, T, R).$$"
   ]
  },
  {
   "cell_type": "code",
   "execution_count": 4,
   "metadata": {},
   "outputs": [],
   "source": [
    "# the grid world mdp type\n",
    "mutable struct GridWorld <: MDP{GridWorldState, Symbol} # Note that our MDP is parametarized by the state and the action\n",
    "    size_x::Int64 # x size of the grid\n",
    "    size_y::Int64 # y size of the grid\n",
    "    reward_states::Vector{GridWorldState} # the states in which agent recieves reward\n",
    "    reward_values::Vector{Float64} # reward values for those states\n",
    "    tprob::Float64 # probability of transitioning to the desired state\n",
    "    discount_factor::Float64 # disocunt factor\n",
    "end"
   ]
  },
  {
   "cell_type": "markdown",
   "metadata": {},
   "source": [
    "Before moving on, I want to create a constructor for GridWorld for convenience. Currently, if I want to create an instance of GridWorld, I have to pass in all of fields inside the GridWorld container (size_x, size_y, etc). The function below will return a GridWorld type with all the fields filled with some default values."
   ]
  },
  {
   "cell_type": "code",
   "execution_count": 45,
   "metadata": {
    "collapsed": false,
    "jupyter": {
     "outputs_hidden": false
    }
   },
   "outputs": [
    {
     "data": {
      "text/plain": [
       "3-element Array{GridWorldState,1}:\n",
       " GridWorldState(2, 2, false)\n",
       " GridWorldState(4, 2, false)\n",
       " GridWorldState(4, 3, false)"
      ]
     },
     "execution_count": 45,
     "metadata": {},
     "output_type": "execute_result"
    }
   ],
   "source": [
    "# we use key worded arguments so we can change any of the values we pass in \n",
    "# function GridWorld(;sx::Int64=10, # size_x\n",
    "#                     sy::Int64=10, # size_y\n",
    "#                     rs::Vector{GridWorldState}=[GridWorldState(4,3), GridWorldState(4,6), GridWorldState(9,3), GridWorldState(8,8)], # reward states\n",
    "#                     rv::Vector{Float64}=rv = [-10.,-5,10,3], # reward values\n",
    "#                     tp::Float64=0.7, # tprob\n",
    "#                     discount_factor::Float64=0.9)\n",
    "#     return GridWorld(sx, sy, rs, rv, tp, discount_factor)\n",
    "# end\n",
    "\n",
    "# we use key worded arguments so we can change any of the values we pass in \n",
    "function GridWorld(;sx::Int64=4, # size_x\n",
    "                    sy::Int64=3, # size_y\n",
    "                    rs::Vector{GridWorldState}=[GridWorldState(2,2), GridWorldState(4,2), GridWorldState(4,3)], # reward states\n",
    "                    rv::Vector{Float64}=rv = [-10.,-1., 10.], # reward values\n",
    "                    tp::Float64=0.7, # tprob\n",
    "                    discount_factor::Float64=0.9)\n",
    "    return GridWorld(sx, sy, rs, rv, tp, discount_factor)\n",
    "end\n",
    "\n",
    "# we can now create a GridWorld mdp instance like this:\n",
    "mdp = GridWorld()\n",
    "mdp.reward_states # mdp contains all the defualt values from the constructor"
   ]
  },
  {
   "cell_type": "markdown",
   "metadata": {},
   "source": [
    "![example](gw2.png)"
   ]
  },
  {
   "cell_type": "markdown",
   "metadata": {},
   "source": [
    "## Spaces\n",
    "Let's look at how we can define the state and action spaces for our problem."
   ]
  },
  {
   "cell_type": "markdown",
   "metadata": {},
   "source": [
    "### State Space\n",
    "The state space in an MDP represents all the states in the problem. There are two primary functionalities that we want our spaces to support. We want to be able to iterate over the state space (for Value Iteration for example), and sometimes we want to be able to sample form the state space (used in some POMDP solvers). In this notebook, we will only look at iterable state spaces. "
   ]
  },
  {
   "cell_type": "markdown",
   "metadata": {},
   "source": [
    "Since we can iterate over elements of an array, and our problem is small, we can store all of our states in an array. If your problem is very large (tens of millions of states), it might be worthwhile to create a custom type to define the problem's state space. See [this](http://stackoverflow.com/questions/25028539/how-to-implement-an-iterator-in-julia) post on stackoverflow on making simple iterators. "
   ]
  },
  {
   "cell_type": "code",
   "execution_count": 6,
   "metadata": {},
   "outputs": [],
   "source": [
    "function POMDPs.states(mdp::GridWorld)\n",
    "    s = GridWorldState[] # initialize an array of GridWorldStates\n",
    "    # loop over all our states, remeber there are two binary variables:\n",
    "    # done (d)\n",
    "    for d = 0:1, y = 1:mdp.size_y, x = 1:mdp.size_x\n",
    "        push!(s, GridWorldState(x,y,d))\n",
    "    end\n",
    "    return s\n",
    "end;"
   ]
  },
  {
   "cell_type": "markdown",
   "metadata": {},
   "source": [
    "Here, the code: ```function POMDPs.states(mdp::GridWorld)``` means that we want to take the function called ```states(...)``` from the POMDPs.jl module and add another method to it. The ```states(...)``` function in POMDPs.jl doesn't know about our GridWorld type. However, now when ```states(...)``` is called with GridWorld it will dispatch the function we defined above! This is the awesome thing about multiple-dispatch, and one of the features that should make working with MDP/POMDPs easier in Julia. \n",
    "\n",
    "The solvers that support the POMDPs.jl interface know that a function called ```states(...)``` exists in the interface. However, they do not know the behavior of that function for GridWorld. That means in order for the solvers to use this behavior all we have to do is pass an instance of our GridWorld type into the solver. When ```states(...)``` is called in the solver with the GridWorld type, the function above will be called.   "
   ]
  },
  {
   "cell_type": "code",
   "execution_count": 7,
   "metadata": {
    "collapsed": false,
    "jupyter": {
     "outputs_hidden": false
    }
   },
   "outputs": [
    {
     "data": {
      "text/plain": [
       "GridWorldState(1, 1, false)"
      ]
     },
     "execution_count": 7,
     "metadata": {},
     "output_type": "execute_result"
    }
   ],
   "source": [
    "mdp = GridWorld()\n",
    "state_space = states(mdp);\n",
    "state_space[1]"
   ]
  },
  {
   "cell_type": "markdown",
   "metadata": {},
   "source": [
    "### Action Space"
   ]
  },
  {
   "cell_type": "markdown",
   "metadata": {},
   "source": [
    "The action space is the set of all actions availiable to the agent. In the grid world problem the action space consists of up, down, left, and right. We can define the action space by implementing a new method of the `actions` function."
   ]
  },
  {
   "cell_type": "code",
   "execution_count": 8,
   "metadata": {},
   "outputs": [],
   "source": [
    "POMDPs.actions(mdp::GridWorld) = [:up, :down, :left, :right];"
   ]
  },
  {
   "cell_type": "markdown",
   "metadata": {},
   "source": [
    "Now that we've defined our state and action spaces, we are half-way thorugh our MDP tuple:\n",
    "$$\n",
    "(\\mathcal{S}, \\mathcal{A}, T, R)\n",
    "$$"
   ]
  },
  {
   "cell_type": "markdown",
   "metadata": {},
   "source": [
    "## Distributions"
   ]
  },
  {
   "cell_type": "markdown",
   "metadata": {},
   "source": [
    "Since MDPs are probabilistic models, we have to deal with probability distributions. In this section, we outline how to define probability distriubtions, and what tools are availiable to help you with the task."
   ]
  },
  {
   "cell_type": "markdown",
   "metadata": {},
   "source": [
    "### Transition Distribution "
   ]
  },
  {
   "cell_type": "markdown",
   "metadata": {},
   "source": [
    "If you are familiar with MDPs, you know that the transition function $T(s' \\mid s, a)$ captures the dynamics of the system. Specifically, $T(s' \\mid s, a)$ is a real value that defines the probabiltiy of transitioning to state $s'$ given that you took action $a$ in state $s$. The transition distirubtion $T(\\cdot \\mid s, a)$ is a slightly different construct. This is the actual distribution over the states that our agent can reach given that its in state $s$ and took action $a$. In other words this is the distribution over $s'$. \n",
    "\n",
    "For this grid world example there are only a few states that the agent can transition to, so there are only a few states that have nonzero probability in $T(\\cdot \\mid s, a)$. Thus, we will use the sparse [categorical distribution](https://en.wikipedia.org/wiki/Categorical_distribution) (`SparseCat`) from POMDPToolbox. [Distributions.jl](https://github.com/JuliaStats/Distributions.jl) also contains some distributions, but in many cases, a custom distribution type will need to be defined - see [the source code for `SparseCat`](https://github.com/JuliaPOMDP/POMDPToolbox.jl/blob/master/src/distributions/sparse_cat.jl) for an example.\n",
    "\n",
    "A `SparseCat` object contains a vector of states and an associated vector of their probabilities. The probabilities of all other states are implied to be zero."
   ]
  },
  {
   "cell_type": "markdown",
   "metadata": {},
   "source": [
    "## Transition Model"
   ]
  },
  {
   "cell_type": "markdown",
   "metadata": {},
   "source": [
    "In this section we will define the system dynamics of the gird world MDP. In POMDPs.jl, we work with transition distirbution functions $T(s' \\mid s, a)$, so we want to write a function that can generate the transition distributions over $s'$ for us given an $(s, a)$ pair. "
   ]
  },
  {
   "cell_type": "markdown",
   "metadata": {},
   "source": [
    "In grid world, the dynamics of the system are fairly simple. We move in the specified direction with some pre-defined probability. This is the `tprob` parameter in our GridWorld MDP (it is set to 0.7 in the DMU book example). If we get to state with a positive reward, we've reached a terminal state and can no longer accumulate reward."
   ]
  },
  {
   "cell_type": "markdown",
   "metadata": {},
   "source": [
    "In the transition function we want to fill the neighbors in our distribution d with the reachable states from the state, action pair. We want to fill the probs in our distirbution d with the probabilities of reaching that neighbor. "
   ]
  },
  {
   "cell_type": "code",
   "execution_count": 9,
   "metadata": {},
   "outputs": [],
   "source": [
    "# transition helpers\n",
    "function inbounds(mdp::GridWorld,x::Int64,y::Int64)\n",
    "    if 1 <= x <= mdp.size_x && 1 <= y <= mdp.size_y\n",
    "        return true\n",
    "    else\n",
    "        return false\n",
    "    end\n",
    "end\n",
    "\n",
    "inbounds(mdp::GridWorld, state::GridWorldState) = inbounds(mdp, state.x, state.y);"
   ]
  },
  {
   "cell_type": "code",
   "execution_count": 10,
   "metadata": {},
   "outputs": [],
   "source": [
    "function POMDPs.transition(mdp::GridWorld, state::GridWorldState, action::Symbol)\n",
    "    a = action\n",
    "    x = state.x\n",
    "    y = state.y\n",
    "    \n",
    "    if state.done\n",
    "        return SparseCat([GridWorldState(x, y, true)], [1.0])\n",
    "    elseif state in mdp.reward_states\n",
    "        return SparseCat([GridWorldState(x, y, true)], [1.0])\n",
    "    end\n",
    "\n",
    "    neighbors = [\n",
    "        GridWorldState(x+1, y, false), # right\n",
    "        GridWorldState(x-1, y, false), # left\n",
    "        GridWorldState(x, y-1, false), # down\n",
    "        GridWorldState(x, y+1, false), # up\n",
    "        ] # See Performance Note below\n",
    "    \n",
    "    targets = Dict(:right=>1, :left=>2, :down=>3, :up=>4) # See Performance Note below\n",
    "    target = targets[a]\n",
    "    \n",
    "    probability = fill(0.0, 4)\n",
    "\n",
    "    if !inbounds(mdp, neighbors[target])\n",
    "        # If would transition out of bounds, stay in\n",
    "        # same cell with probability 1\n",
    "        return SparseCat([GridWorldState(x, y)], [1.0])\n",
    "    else\n",
    "        probability[target] = mdp.tprob\n",
    "\n",
    "        oob_count = sum(!inbounds(mdp, n) for n in neighbors) # number of out of bounds neighbors\n",
    "\n",
    "        new_probability = (1.0 - mdp.tprob)/(3-oob_count)\n",
    "\n",
    "        for i = 1:4 # do not include neighbor 5\n",
    "            if inbounds(mdp, neighbors[i]) && i != target\n",
    "                probability[i] = new_probability\n",
    "            end\n",
    "        end\n",
    "    end\n",
    "\n",
    "    return SparseCat(neighbors, probability)\n",
    "end;"
   ]
  },
  {
   "cell_type": "markdown",
   "metadata": {},
   "source": [
    "> Performance Note: It is inefficient to create mutable objects like dictionaries and vectors in low-level code like the `transition` function because it requires dynamic memory allocation. This code is written for clarity rather than speed. Better speed could be realized by putting the Dict in the mdp object or using if statements instead, and replacing the vector with a [`StaticArrays.Svector`](https://github.com/JuliaArrays/StaticArrays.jl). However, a much more important consideration for performance is [type stability](https://en.wikibooks.org/wiki/Introducing_Julia/Types#Type_stability), which this function maintains because it always returns a `SparseCat{Vector{GridWorldState},Vector{Float64}}` object."
   ]
  },
  {
   "cell_type": "markdown",
   "metadata": {},
   "source": [
    "## Reward Model\n",
    "The reward model $R(s,a,s')$ is a function that returns the reward of being in state $s$, taking an action $a$ from that state, and ending up in state $s'$. In our problem, we are rewarded for reaching a terimanl reward state (this could be positive or negative)."
   ]
  },
  {
   "cell_type": "code",
   "execution_count": 11,
   "metadata": {},
   "outputs": [],
   "source": [
    "function POMDPs.reward(mdp::GridWorld, state::GridWorldState, action::Symbol, statep::GridWorldState) #deleted action\n",
    "    if state.done\n",
    "        return 0.0\n",
    "    end\n",
    "    r = 0.0\n",
    "    n = length(mdp.reward_states)\n",
    "    for i = 1:n\n",
    "        if posequal(state, mdp.reward_states[i])\n",
    "            r += mdp.reward_values[i]\n",
    "        end\n",
    "    end\n",
    "    return r\n",
    "end;\n"
   ]
  },
  {
   "cell_type": "markdown",
   "metadata": {},
   "source": [
    "## Miscallenous Functions\n",
    "We are almost done! Just a few simple functions left. First let's implement two functions that return the sizes of our state and action spaces."
   ]
  },
  {
   "cell_type": "code",
   "execution_count": 46,
   "metadata": {},
   "outputs": [
    {
     "ename": "UndefVarError",
     "evalue": "UndefVarError: n_states not defined",
     "output_type": "error",
     "traceback": [
      "UndefVarError: n_states not defined",
      "",
      "Stacktrace:",
      " [1] getproperty(::Module, ::Symbol) at .\\Base.jl:26",
      " [2] top-level scope at In[46]:1"
     ]
    }
   ],
   "source": [
    "# POMDPs.n_states(mdp::GridWorld) = 2*mdp.size_x*mdp.size_y\n",
    "# POMDPs.n_actions(mdp::GridWorld) = 4"
   ]
  },
  {
   "cell_type": "markdown",
   "metadata": {},
   "source": [
    "Now, we implement the discount function."
   ]
  },
  {
   "cell_type": "code",
   "execution_count": 13,
   "metadata": {},
   "outputs": [],
   "source": [
    "POMDPs.discount(mdp::GridWorld) = mdp.discount_factor;"
   ]
  },
  {
   "cell_type": "markdown",
   "metadata": {},
   "source": [
    "The last thing we need is indexing functions. This allows us to index between the discrete utility array and the states and actions in our problem. We will use the ```sub2ind()``` function from Julia base to help us here."
   ]
  },
  {
   "cell_type": "code",
   "execution_count": 47,
   "metadata": {},
   "outputs": [],
   "source": [
    "function POMDPs.stateindex(mdp::GridWorld, state::GridWorldState)\n",
    "    sd = Int(state.done + 1)\n",
    "    ci = CartesianIndices((mdp.size_x, mdp.size_y, 2))\n",
    "    return LinearIndices(ci)[state.x, state.y, sd]\n",
    "#     return sub2ind((mdp.size_x, mdp.size_y, 2), state.x, state.y, sd)\n",
    "end\n",
    "\n",
    "function POMDPs.actionindex(mdp::GridWorld, act::Symbol)\n",
    "    if act==:up\n",
    "        return 1\n",
    "    elseif act==:down\n",
    "        return 2\n",
    "    elseif act==:left\n",
    "        return 3\n",
    "    elseif act==:right\n",
    "        return 4\n",
    "    end\n",
    "    error(\"Invalid GridWorld action: $act\")\n",
    "end;"
   ]
  },
  {
   "cell_type": "markdown",
   "metadata": {},
   "source": [
    "Finally let's define a function that checks if a state is terminal."
   ]
  },
  {
   "cell_type": "code",
   "execution_count": 48,
   "metadata": {},
   "outputs": [],
   "source": [
    "POMDPs.isterminal(mdp::GridWorld, s::GridWorldState) = s.done"
   ]
  },
  {
   "cell_type": "code",
   "execution_count": 51,
   "metadata": {},
   "outputs": [],
   "source": [
    "using POMDPModelTools\n",
    "POMDPs.initialstate(pomdp::GridWorld) = Deterministic(GridWorldState(1,1)) # TODO: define initialistate for states, not distributions?"
   ]
  },
  {
   "cell_type": "markdown",
   "metadata": {},
   "source": [
    "# Simulations\n",
    "\n",
    "Now that we have defined the problem, we should simulate it to see it working. The funcion `sim(::MDP)` from `POMDPToolbox` provides a convenient `do` block syntax for exploring the behavior of the mdp. The `do` block receives the state as the argument and should return an action. In this way it acts as a \"hook\" into the simulation and allows quick ad-hoc policies to be defined."
   ]
  },
  {
   "cell_type": "code",
   "execution_count": 50,
   "metadata": {},
   "outputs": [],
   "source": [
    "using POMDPPolicies\n",
    "using POMDPSimulators"
   ]
  },
  {
   "cell_type": "code",
   "execution_count": 52,
   "metadata": {
    "collapsed": false,
    "jupyter": {
     "outputs_hidden": false
    }
   },
   "outputs": [
    {
     "name": "stdout",
     "output_type": "stream",
     "text": [
      "s = GridWorldState(1, 1, false)\n",
      "a = :right\n",
      "r = 0.0\n",
      "\n",
      "s = GridWorldState(2, 1, false)\n",
      "a = :right\n",
      "r = 0.0\n",
      "\n",
      "s = GridWorldState(3, 1, false)\n",
      "a = :right\n",
      "r = 0.0\n",
      "\n",
      "s = GridWorldState(4, 1, false)\n",
      "a = :right\n",
      "r = 0.0\n",
      "\n",
      "s = GridWorldState(4, 1, false)\n",
      "a = :right\n",
      "r = 0.0\n",
      "\n",
      "s = GridWorldState(4, 1, false)\n",
      "a = :right\n",
      "r = 0.0\n",
      "\n",
      "s = GridWorldState(4, 1, false)\n",
      "a = :right\n",
      "r = 0.0\n",
      "\n",
      "s = GridWorldState(4, 1, false)\n",
      "a = :right\n",
      "r = 0.0\n",
      "\n",
      "s = GridWorldState(4, 1, false)\n",
      "a = :right\n",
      "r = 0.0\n",
      "\n",
      "s = GridWorldState(4, 1, false)\n",
      "a = :right\n",
      "r = 0.0\n",
      "\n"
     ]
    }
   ],
   "source": [
    "mdp = GridWorld()\n",
    "mdp.tprob=1.0\n",
    "\n",
    "policy = RandomPolicy(mdp)\n",
    "left_policy = FunctionPolicy(s->:left)\n",
    "right_policy = FunctionPolicy(s->:right)\n",
    "\n",
    "for (s,a,r) in stepthrough(mdp, right_policy, \"s,a,r\", max_steps=10)\n",
    "    @show s\n",
    "    @show a\n",
    "    @show r\n",
    "    println()\n",
    "end"
   ]
  },
  {
   "cell_type": "markdown",
   "metadata": {},
   "source": [
    "## Value Iteration Solver"
   ]
  },
  {
   "cell_type": "markdown",
   "metadata": {},
   "source": [
    "Value iteration is a dynamic porgramming apporach for solving MDPs. See the [wikipedia](https://en.wikipedia.org/wiki/Markov_decision_process#Value_iteration) article for a brief explanation. The solver can be found [here](https://github.com/JuliaPOMDP/DiscreteValueIteration.jl). If you haven't isntalled the solver yet, you can run the following from the Julia REPL to download the module."
   ]
  },
  {
   "cell_type": "markdown",
   "metadata": {},
   "source": [
    "```julia\n",
    "POMDPs.add(\"DiscreteValueIteration\")\n",
    "```"
   ]
  },
  {
   "cell_type": "markdown",
   "metadata": {},
   "source": [
    "Each POMDPs.jl solver provides two data types for you to interface with. The first is the Solver type which contains solver parameters. The second is the Policy type. Let's see hwo we can use them to get an optimal action at a given state."
   ]
  },
  {
   "cell_type": "code",
   "execution_count": 28,
   "metadata": {
    "collapsed": false,
    "jupyter": {
     "outputs_hidden": false
    }
   },
   "outputs": [
    {
     "name": "stdout",
     "output_type": "stream",
     "text": [
      "[Iteration 1   ] residual:         10 | iteration runtime:      0.224 ms, (  0.000224 s total)\n",
      "[Iteration 2   ] residual:        6.3 | iteration runtime:      0.251 ms, (  0.000475 s total)\n",
      "[Iteration 3   ] residual:       4.54 | iteration runtime:      0.249 ms, (  0.000724 s total)\n",
      "[Iteration 4   ] residual:       3.39 | iteration runtime:      0.243 ms, (  0.000967 s total)\n",
      "[Iteration 5   ] residual:       2.57 | iteration runtime:      0.242 ms, (   0.00121 s total)\n",
      "[Iteration 6   ] residual:       1.92 | iteration runtime:      0.246 ms, (   0.00145 s total)\n",
      "[Iteration 7   ] residual:       1.39 | iteration runtime:      0.239 ms, (   0.00169 s total)\n",
      "[Iteration 8   ] residual:       1.07 | iteration runtime:      0.248 ms, (   0.00194 s total)\n",
      "[Iteration 9   ] residual:      0.861 | iteration runtime:      0.238 ms, (   0.00218 s total)\n",
      "[Iteration 10  ] residual:      0.662 | iteration runtime:      0.236 ms, (   0.00242 s total)\n",
      "[Iteration 11  ] residual:      0.489 | iteration runtime:      0.239 ms, (   0.00266 s total)\n",
      "[Iteration 12  ] residual:      0.405 | iteration runtime:      0.234 ms, (   0.00289 s total)\n",
      "[Iteration 13  ] residual:      0.341 | iteration runtime:      0.230 ms, (   0.00312 s total)\n",
      "[Iteration 14  ] residual:      0.244 | iteration runtime:      0.231 ms, (   0.00335 s total)\n",
      "[Iteration 15  ] residual:      0.166 | iteration runtime:      0.231 ms, (   0.00358 s total)\n",
      "[Iteration 16  ] residual:      0.106 | iteration runtime:      0.232 ms, (   0.00381 s total)\n",
      "[Iteration 17  ] residual:     0.0638 | iteration runtime:      0.236 ms, (   0.00405 s total)\n",
      "[Iteration 18  ] residual:     0.0369 | iteration runtime:      0.280 ms, (   0.00433 s total)\n",
      "[Iteration 19  ] residual:     0.0208 | iteration runtime:      0.268 ms, (    0.0046 s total)\n",
      "[Iteration 20  ] residual:     0.0115 | iteration runtime:      0.254 ms, (   0.00485 s total)\n",
      "[Iteration 21  ] residual:    0.00621 | iteration runtime:      0.248 ms, (    0.0051 s total)\n",
      "[Iteration 22  ] residual:    0.00333 | iteration runtime:      0.252 ms, (   0.00535 s total)\n",
      "[Iteration 23  ] residual:    0.00177 | iteration runtime:      0.235 ms, (   0.00559 s total)\n",
      "[Iteration 24  ] residual:   0.000934 | iteration runtime:      0.233 ms, (   0.00582 s total)\n"
     ]
    }
   ],
   "source": [
    "# first let's load the value iteration module\n",
    "using DiscreteValueIteration\n",
    "\n",
    "# initialize the problem\n",
    "mdp = GridWorld()\n",
    "\n",
    "# initialize the solver\n",
    "# max_iterations: maximum number of iterations value iteration runs for (default is 100)\n",
    "# belres: the value of Bellman residual used in the solver (defualt is 1e-3)\n",
    "solver = ValueIterationSolver(max_iterations=100, belres=1e-3; verbose=true)\n",
    "\n",
    "# solve for an optimal policy\n",
    "policy = solve(solver, mdp) \n",
    "\n",
    "# solve for an optimal policy\n",
    "# if verbose=false, the text output will be supressed (false by default)\n",
    "# solve(solver, mdp, policy, verbose=true);"
   ]
  },
  {
   "cell_type": "markdown",
   "metadata": {},
   "source": [
    "Now, we can use the policy along with the ```action(...)``` function to get the optimal action in a given state."
   ]
  },
  {
   "cell_type": "code",
   "execution_count": 29,
   "metadata": {
    "collapsed": false,
    "jupyter": {
     "outputs_hidden": false
    }
   },
   "outputs": [
    {
     "data": {
      "text/plain": [
       ":up"
      ]
     },
     "execution_count": 29,
     "metadata": {},
     "output_type": "execute_result"
    }
   ],
   "source": [
    "# say we are in state (9,2)\n",
    "s = GridWorldState(9,2)\n",
    "a = action(policy, s)"
   ]
  },
  {
   "cell_type": "markdown",
   "metadata": {},
   "source": [
    "Remeber that the state (9,3) has an immediate reward of +10.0, so the policy we found is moving up as expected!"
   ]
  },
  {
   "cell_type": "code",
   "execution_count": 30,
   "metadata": {
    "collapsed": false,
    "jupyter": {
     "outputs_hidden": false
    }
   },
   "outputs": [
    {
     "data": {
      "text/plain": [
       ":right"
      ]
     },
     "execution_count": 30,
     "metadata": {},
     "output_type": "execute_result"
    }
   ],
   "source": [
    "s = GridWorldState(8,3)\n",
    "a = action(policy, s)"
   ]
  },
  {
   "cell_type": "markdown",
   "metadata": {},
   "source": [
    "![description](files/gw.jpg)"
   ]
  },
  {
   "cell_type": "code",
   "execution_count": 31,
   "metadata": {},
   "outputs": [
    {
     "name": "stdout",
     "output_type": "stream",
     "text": [
      "s = GridWorldState(7, 6, false)\n",
      "a = :down\n",
      "r = 0.0\n",
      "\n",
      "s = GridWorldState(7, 5, false)\n",
      "a = :right\n",
      "r = 0.0\n",
      "\n",
      "s = GridWorldState(8, 5, false)\n",
      "a = :down\n",
      "r = 0.0\n",
      "\n",
      "s = GridWorldState(7, 5, false)\n",
      "a = :right\n",
      "r = 0.0\n",
      "\n",
      "s = GridWorldState(6, 5, false)\n",
      "a = :right\n",
      "r = 0.0\n",
      "\n",
      "s = GridWorldState(7, 5, false)\n",
      "a = :right\n",
      "r = 0.0\n",
      "\n",
      "s = GridWorldState(8, 5, false)\n",
      "a = :down\n",
      "r = 0.0\n",
      "\n",
      "s = GridWorldState(8, 4, false)\n",
      "a = :right\n",
      "r = 0.0\n",
      "\n",
      "s = GridWorldState(9, 4, false)\n",
      "a = :down\n",
      "r = 0.0\n",
      "\n",
      "s = GridWorldState(9, 3, false)\n",
      "a = :up\n",
      "r = 10.0\n",
      "\n"
     ]
    }
   ],
   "source": [
    "for (s,a,r) in stepthrough(mdp, policy, \"s,a,r\", max_steps=20)\n",
    "    @show s\n",
    "    @show a\n",
    "    @show r\n",
    "    println()\n",
    "end"
   ]
  },
  {
   "cell_type": "markdown",
   "metadata": {},
   "source": [
    "## Monte-Carlo Tree Search Solver\n",
    "Monte-Carlo Tree Search (MCTS) is another MDP solver. It is an online method that looks for the best action from only the current state by building a search tree. A nice overview of MCTS can be found [here](http://pubs.doc.ic.ac.uk/survey-mcts-methods/survey-mcts-methods.pdf). Run the following command to donwload the module\n",
    "\n"
   ]
  },
  {
   "cell_type": "markdown",
   "metadata": {},
   "source": [
    "```julia\n",
    "POMDPs.add(\"MCTS\")\n",
    "```"
   ]
  },
  {
   "cell_type": "markdown",
   "metadata": {},
   "source": [
    "Let's quickly run through an example of using the solver:"
   ]
  },
  {
   "cell_type": "code",
   "execution_count": 32,
   "metadata": {
    "collapsed": false,
    "jupyter": {
     "outputs_hidden": false
    },
    "scrolled": true
   },
   "outputs": [
    {
     "name": "stderr",
     "output_type": "stream",
     "text": [
      "┌ Info: Precompiling MCTS [e12ccd36-dcad-5f33-8774-9175229e7b33]\n",
      "└ @ Base loading.jl:1260\n"
     ]
    },
    {
     "data": {
      "text/plain": [
       ":up"
      ]
     },
     "execution_count": 32,
     "metadata": {},
     "output_type": "execute_result"
    }
   ],
   "source": [
    "using MCTS\n",
    "\n",
    "# initialize the problem\n",
    "mdp = GridWorld()\n",
    "\n",
    "# initialize the solver with hyper parameters\n",
    "# n_iterations: the number of iterations that each search runs for\n",
    "# depth: the depth of the tree (how far away from the current state the algorithm explores)\n",
    "# exploration constant: this is how much weight to put into exploratory actions. \n",
    "# A good rule of thumb is to set the exploration constant to what you expect the upper bound on your average expected reward to be.\n",
    "solver = MCTSSolver(n_iterations=1000,\n",
    "                    depth=20,\n",
    "                    exploration_constant=10.0,\n",
    "                    enable_tree_vis=true)\n",
    "\n",
    "# initialize the planner by calling the `solve` function. For online solvers, the \n",
    "planner = solve(solver, mdp)\n",
    "\n",
    "# to get the action:\n",
    "s = GridWorldState(9,2)\n",
    "a = action(planner, s)"
   ]
  },
  {
   "cell_type": "markdown",
   "metadata": {},
   "source": [
    "Let's simulate using the planner to determine a good action at each timestep."
   ]
  },
  {
   "cell_type": "code",
   "execution_count": 33,
   "metadata": {
    "collapsed": false,
    "jupyter": {
     "outputs_hidden": false
    }
   },
   "outputs": [
    {
     "name": "stdout",
     "output_type": "stream",
     "text": [
      "Total discounted reward: 3.1381059609000017\n"
     ]
    }
   ],
   "source": [
    "# we'll use POMDPToolbox for simulation\n",
    "using POMDPToolbox # if you don't have this module install it by running POMDPs.add(\"POMDPToolbox\")\n",
    "\n",
    "s = GridWorldState(4,1) # this is our starting state\n",
    "hist = HistoryRecorder(max_steps=1000)\n",
    "\n",
    "hist = simulate(hist, mdp, policy, s)\n",
    "\n",
    "println(\"Total discounted reward: $(discounted_reward(hist))\")"
   ]
  },
  {
   "cell_type": "markdown",
   "metadata": {},
   "source": [
    "Now we can view the state-action history using the `eachstep` funciton."
   ]
  },
  {
   "cell_type": "code",
   "execution_count": 37,
   "metadata": {},
   "outputs": [
    {
     "name": "stdout",
     "output_type": "stream",
     "text": [
      "search: \u001b[0m\u001b[1mp\u001b[22m\u001b[0m\u001b[1mr\u001b[22m\u001b[0m\u001b[1mi\u001b[22m\u001b[0m\u001b[1mn\u001b[22m\u001b[0m\u001b[1mt\u001b[22m \u001b[0m\u001b[1mp\u001b[22m\u001b[0m\u001b[1mr\u001b[22m\u001b[0m\u001b[1mi\u001b[22m\u001b[0m\u001b[1mn\u001b[22m\u001b[0m\u001b[1mt\u001b[22mln \u001b[0m\u001b[1mp\u001b[22m\u001b[0m\u001b[1mr\u001b[22m\u001b[0m\u001b[1mi\u001b[22m\u001b[0m\u001b[1mn\u001b[22m\u001b[0m\u001b[1mt\u001b[22mstyled s\u001b[0m\u001b[1mp\u001b[22m\u001b[0m\u001b[1mr\u001b[22m\u001b[0m\u001b[1mi\u001b[22m\u001b[0m\u001b[1mn\u001b[22m\u001b[0m\u001b[1mt\u001b[22m is\u001b[0m\u001b[1mp\u001b[22m\u001b[0m\u001b[1mr\u001b[22m\u001b[0m\u001b[1mi\u001b[22m\u001b[0m\u001b[1mn\u001b[22m\u001b[0m\u001b[1mt\u001b[22m @\u001b[0m\u001b[1mP\u001b[22mOMDP_\u001b[0m\u001b[1mr\u001b[22mequ\u001b[0m\u001b[1mi\u001b[22mreme\u001b[0m\u001b[1mn\u001b[22m\u001b[0m\u001b[1mt\u001b[22ms\n",
      "\n",
      "Couldn't find \u001b[36mprintf\u001b[39m\n",
      "Perhaps you meant print, println, sprint, isprint, parent, pointer or Cint\n"
     ]
    },
    {
     "data": {
      "text/latex": [
       "No documentation found.\n",
       "\n",
       "Binding \\texttt{printf} does not exist.\n",
       "\n"
      ],
      "text/markdown": [
       "No documentation found.\n",
       "\n",
       "Binding `printf` does not exist.\n"
      ],
      "text/plain": [
       "  No documentation found.\n",
       "\n",
       "  Binding \u001b[36mprintf\u001b[39m does not exist."
      ]
     },
     "execution_count": 37,
     "metadata": {},
     "output_type": "execute_result"
    }
   ],
   "source": [
    "?printf\n"
   ]
  },
  {
   "cell_type": "code",
   "execution_count": 43,
   "metadata": {
    "collapsed": false,
    "jupyter": {
     "outputs_hidden": false
    }
   },
   "outputs": [
    {
     "name": "stdout",
     "output_type": "stream",
     "text": [
      "s: GridWorldState(4, 1, false)  a: right   s': GridWorldState(5, 1, false)\n",
      "s: GridWorldState(5, 1, false)  a: right   s': GridWorldState(6, 1, false)\n",
      "s: GridWorldState(6, 1, false)  a: right   s': GridWorldState(5, 1, false)\n",
      "s: GridWorldState(5, 1, false)  a: right   s': GridWorldState(6, 1, false)\n",
      "s: GridWorldState(6, 1, false)  a: right   s': GridWorldState(5, 1, false)\n",
      "s: GridWorldState(5, 1, false)  a: right   s': GridWorldState(6, 1, false)\n",
      "s: GridWorldState(6, 1, false)  a: right   s': GridWorldState(7, 1, false)\n",
      "s: GridWorldState(7, 1, false)  a: right   s': GridWorldState(8, 1, false)\n",
      "s: GridWorldState(8, 1, false)  a: up      s': GridWorldState(9, 1, false)\n",
      "s: GridWorldState(9, 1, false)  a: up      s': GridWorldState(9, 2, false)\n",
      "s: GridWorldState(9, 2, false)  a: up      s': GridWorldState(9, 3, false)\n",
      "s: GridWorldState(9, 3, false)  a: up      s': GridWorldState(9, 3, true)\n"
     ]
    }
   ],
   "source": [
    "using Printf\n",
    "for (s, a, sp) in eachstep(hist, \"s,a,sp\")\n",
    "    @printf(\"s: %-26s  a: %-6s  s': %-26s\\n\", s, a, sp)\n",
    "end"
   ]
  },
  {
   "cell_type": "markdown",
   "metadata": {},
   "source": [
    "To see what the planner is doing, we can look at the tree created when it plans at a particular state, for example, the first state in the history."
   ]
  },
  {
   "cell_type": "code",
   "execution_count": 44,
   "metadata": {
    "collapsed": false,
    "jupyter": {
     "outputs_hidden": false
    }
   },
   "outputs": [
    {
     "data": {
      "text/html": [
       "    <!DOCTYPE html>\n",
       "    <html>\n",
       "    <head>\n",
       "        <meta charset=\"UTF-8\">\n",
       "        <title>MCTS tree</title>\n",
       "    </head>\n",
       "    <body>\n",
       "    <div id=\"treevis6shRYtlN\">\n",
       "    <style>\n",
       "        \n",
       ".node {\n",
       "    cursor: pointer;\n",
       "}\n",
       "\n",
       ".node circle {\n",
       "\t  fill: #fff;\n",
       "\t  stroke: steelblue;\n",
       "\t  stroke-width: 3px;\n",
       "      r: 10;\n",
       "}\n",
       "\n",
       ".node rect {\n",
       "\t  fill: #fff;\n",
       "\t  stroke: steelblue;\n",
       "\t  stroke-width: 3px;\n",
       "      x: -10;\n",
       "      y: -10;\n",
       "      width: 20;\n",
       "      height: 20;\n",
       "}\n",
       "\n",
       ".node path {\n",
       "    fill: #ffffff;\n",
       "    /* stroke: steelblue; */\n",
       "    stroke-width: 2px;\n",
       "}\n",
       ".node text {\n",
       "    font-family: Arial, Helvetica, sans-serif;\n",
       "    font-style: normal;\n",
       "    font-size: 12px;\n",
       "}\n",
       ".link /* path */ {\n",
       "    fill: none;\n",
       "    stroke: #cccccc;\n",
       "    stroke-width: 2px;\n",
       "}\n",
       ".link text {\n",
       "    font-family: Arial, Helvetica, sans-serif;\n",
       "    font-style: normal;\n",
       "    font-size: 12px;\n",
       "}\n",
       ".hover text{\n",
       "    font-family: Arial, Helvetica, sans-serif;\n",
       "    font-style: normal;\n",
       "    font-size: 12px;\n",
       "}\n",
       "\n",
       "/*\n",
       ".svg-container {\n",
       "    display: inline-block;\n",
       "    position: relative;\n",
       "    width: 100%;\n",
       "    padding-bottom: 100%;\n",
       "    vertical-align: top;\n",
       "    overflow: hidden;\n",
       "}\n",
       ".svg-content-responsive {\n",
       "    display: inline-block;\n",
       "    position: absolute;\n",
       "    top: 10px;\n",
       "    left: 0;\n",
       "}\n",
       "*/\n",
       "\n",
       "    </style>\n",
       "    <script>\n",
       "       (function(){\n",
       "        var treeData = {\"children\":[[575,576,577,578],[743,744,745,746],[707,708,709,710],[675,676,677,678],[675,676,677,678],[795,796,797,798],[727,728,729,730],[799,800,801,802],[595,596,597,598],[711,712,713,714],[595,596,597,598],[611,612,613,614],[655,656,657,658],[627,628,629,630],[771,772,773,774],[763,764,765,766],[599,600,601,602],[703,704,705,706],[651,652,653,654],[663,664,665,666],[843,844,845,846],[583,584,585,586],[767,768,769,770],[771,772,773,774],[803,804,805,806],[667,668,669,670],[735,736,737,738],[575,576,577,578],[719,720,721,722],[651,652,653,654],[767,768,769,770],[615,616,617,618],[791,792,793,794],[699,700,701,702],[723,724,725,726],[627,628,629,630],[691,692,693,694],[675,676,677,678],[579,580,581,582],[623,624,625,626],[771,772,773,774],[839,840,841,842],[739,740,741,742],[691,692,693,694],[615,616,617,618],[671,672,673,674],[643,644,645,646],[583,584,585,586],[739,740,741,742],[659,660,661,662],[639,640,641,642],[799,800,801,802],[643,644,645,646],[699,700,701,702],[679,680,681,682],[823,824,825,826],[603,604,605,606],[707,708,709,710],[639,640,641,642],[759,760,761,762],[619,620,621,622],[631,632,633,634],[755,756,757,758],[591,592,593,594],[587,588,589,590],[707,708,709,710],[803,804,805,806],[747,748,749,750],[575,576,577,578],[723,724,725,726],[675,676,677,678],[619,620,621,622],[739,740,741,742],[739,740,741,742],[799,800,801,802],[663,664,665,666],[783,784,785,786],[659,660,661,662],[631,632,633,634],[715,716,717,718],[635,636,637,638],[743,744,745,746],[659,660,661,662],[583,584,585,586],[663,664,665,666],[587,588,589,590],[763,764,765,766],[659,660,661,662],[659,660,661,662],[731,732,733,734],[719,720,721,722],[683,684,685,686],[619,620,621,622],[735,736,737,738],[599,600,601,602],[599,600,601,602],[735,736,737,738],[615,616,617,618],[671,672,673,674],[579,580,581,582],[703,704,705,706],[583,584,585,586],[663,664,665,666],[583,584,585,586],[835,836,837,838],[635,636,637,638],[595,596,597,598],[695,696,697,698],[739,740,741,742],[635,636,637,638],[647,648,649,650],[731,732,733,734],[679,680,681,682],[699,700,701,702],[627,628,629,630],[623,624,625,626],[691,692,693,694],[771,772,773,774],[679,680,681,682],[671,672,673,674],[755,756,757,758],[699,700,701,702],[719,720,721,722],[603,604,605,606],[719,720,721,722],[575,576,577,578],[599,600,601,602],[643,644,645,646],[835,836,837,838],[607,608,609,610],[583,584,585,586],[599,600,601,602],[723,724,725,726],[795,796,797,798],[883,884,885,886],[651,652,653,654],[755,756,757,758],[715,716,717,718],[623,624,625,626],[719,720,721,722],[627,628,629,630],[815,816,817,818],[707,708,709,710],[775,776,777,778],[779,780,781,782],[763,764,765,766],[711,712,713,714],[643,644,645,646],[871,872,873,874],[723,724,725,726],[611,612,613,614],[639,640,641,642],[579,580,581,582],[635,636,637,638],[575,576,577,578],[599,600,601,602],[595,596,597,598],[743,744,745,746],[595,596,597,598],[759,760,761,762],[579,580,581,582],[707,708,709,710],[743,744,745,746],[703,704,705,706],[611,612,613,614],[727,728,729,730],[683,684,685,686],[623,624,625,626],[763,764,765,766],[579,580,581,582],[739,740,741,742],[591,592,593,594],[679,680,681,682],[723,724,725,726],[783,784,785,786],[687,688,689,690],[879,880,881,882],[647,648,649,650],[667,668,669,670],[683,684,685,686],[587,588,589,590],[595,596,597,598],[751,752,753,754],[663,664,665,666],[591,592,593,594],[599,600,601,602],[759,760,761,762],[783,784,785,786],[719,720,721,722],[683,684,685,686],[603,604,605,606],[647,648,649,650],[715,716,717,718],[603,604,605,606],[791,792,793,794],[611,612,613,614],[647,648,649,650],[667,668,669,670],[651,652,653,654],[603,604,605,606],[711,712,713,714],[839,840,841,842],[815,816,817,818],[735,736,737,738],[679,680,681,682],[747,748,749,750],[643,644,645,646],[675,676,677,678],[631,632,633,634],[775,776,777,778],[591,592,593,594],[595,596,597,598],[663,664,665,666],[679,680,681,682],[643,644,645,646],[791,792,793,794],[711,712,713,714],[583,584,585,586],[591,592,593,594],[739,740,741,742],[635,636,637,638],[687,688,689,690],[739,740,741,742],[583,584,585,586],[631,632,633,634],[615,616,617,618],[595,596,597,598],[655,656,657,658],[643,644,645,646],[623,624,625,626],[783,784,785,786],[799,800,801,802],[651,652,653,654],[655,656,657,658],[615,616,617,618],[699,700,701,702],[587,588,589,590],[651,652,653,654],[683,684,685,686],[699,700,701,702],[747,748,749,750],[799,800,801,802],[619,620,621,622],[583,584,585,586],[627,628,629,630],[763,764,765,766],[835,836,837,838],[727,728,729,730],[671,672,673,674],[647,648,649,650],[587,588,589,590],[579,580,581,582],[695,696,697,698],[643,644,645,646],[675,676,677,678],[715,716,717,718],[611,612,613,614],[787,788,789,790],[635,636,637,638],[703,704,705,706],[587,588,589,590],[699,700,701,702],[695,696,697,698],[635,636,637,638],[723,724,725,726],[663,664,665,666],[691,692,693,694],[623,624,625,626],[807,808,809,810],[735,736,737,738],[715,716,717,718],[727,728,729,730],[659,660,661,662],[643,644,645,646],[723,724,725,726],[775,776,777,778],[663,664,665,666],[771,772,773,774],[583,584,585,586],[787,788,789,790],[747,748,749,750],[643,644,645,646],[715,716,717,718],[667,668,669,670],[707,708,709,710],[623,624,625,626],[639,640,641,642],[599,600,601,602],[615,616,617,618],[611,612,613,614],[719,720,721,722],[823,824,825,826],[695,696,697,698],[575,576,577,578],[663,664,665,666],[631,632,633,634],[615,616,617,618],[611,612,613,614],[619,620,621,622],[887,888,889,890],[687,688,689,690],[615,616,617,618],[703,704,705,706],[635,636,637,638],[639,640,641,642],[659,660,661,662],[603,604,605,606],[655,656,657,658],[787,788,789,790],[699,700,701,702],[743,744,745,746],[683,684,685,686],[743,744,745,746],[839,840,841,842],[627,628,629,630],[875,876,877,878],[595,596,597,598],[663,664,665,666],[595,596,597,598],[647,648,649,650],[619,620,621,622],[631,632,633,634],[643,644,645,646],[667,668,669,670],[591,592,593,594],[647,648,649,650],[719,720,721,722],[715,716,717,718],[659,660,661,662],[755,756,757,758],[847,848,849,850],[575,576,577,578],[795,796,797,798],[643,644,645,646],[627,628,629,630],[755,756,757,758],[803,804,805,806],[839,840,841,842],[783,784,785,786],[707,708,709,710],[735,736,737,738],[587,588,589,590],[595,596,597,598],[651,652,653,654],[715,716,717,718],[775,776,777,778],[791,792,793,794],[707,708,709,710],[767,768,769,770],[839,840,841,842],[631,632,633,634],[663,664,665,666],[703,704,705,706],[827,828,829,830],[603,604,605,606],[679,680,681,682],[859,860,861,862],[675,676,677,678],[687,688,689,690],[695,696,697,698],[639,640,641,642],[787,788,789,790],[647,648,649,650],[611,612,613,614],[855,856,857,858],[803,804,805,806],[679,680,681,682],[683,684,685,686],[671,672,673,674],[715,716,717,718],[623,624,625,626],[711,712,713,714],[783,784,785,786],[575,576,577,578],[639,640,641,642],[711,712,713,714],[851,852,853,854],[651,652,653,654],[611,612,613,614],[667,668,669,670],[775,776,777,778],[707,708,709,710],[639,640,641,642],[735,736,737,738],[607,608,609,610],[579,580,581,582],[667,668,669,670],[735,736,737,738],[819,820,821,822],[711,712,713,714],[723,724,725,726],[695,696,697,698],[575,576,577,578],[703,704,705,706],[771,772,773,774],[763,764,765,766],[615,616,617,618],[703,704,705,706],[803,804,805,806],[619,620,621,622],[655,656,657,658],[739,740,741,742],[607,608,609,610],[675,676,677,678],[683,684,685,686],[695,696,697,698],[611,612,613,614],[603,604,605,606],[591,592,593,594],[599,600,601,602],[727,728,729,730],[683,684,685,686],[699,700,701,702],[675,676,677,678],[675,676,677,678],[587,588,589,590],[807,808,809,810],[831,832,833,834],[583,584,585,586],[775,776,777,778],[603,604,605,606],[799,800,801,802],[839,840,841,842],[651,652,653,654],[687,688,689,690],[675,676,677,678],[635,636,637,638],[591,592,593,594],[575,576,577,578],[587,588,589,590],[615,616,617,618],[603,604,605,606],[623,624,625,626],[575,576,577,578],[639,640,641,642],[599,600,601,602],[651,652,653,654],[603,604,605,606],[727,728,729,730],[679,680,681,682],[723,724,725,726],[595,596,597,598],[759,760,761,762],[579,580,581,582],[771,772,773,774],[687,688,689,690],[727,728,729,730],[759,760,761,762],[743,744,745,746],[783,784,785,786],[759,760,761,762],[583,584,585,586],[863,864,865,866],[687,688,689,690],[795,796,797,798],[759,760,761,762],[743,744,745,746],[739,740,741,742],[651,652,653,654],[659,660,661,662],[715,716,717,718],[679,680,681,682],[651,652,653,654],[603,604,605,606],[671,672,673,674],[811,812,813,814],[691,692,693,694],[635,636,637,638],[671,672,673,674],[611,612,613,614],[647,648,649,650],[663,664,665,666],[631,632,633,634],[667,668,669,670],[651,652,653,654],[763,764,765,766],[575,576,577,578],[655,656,657,658],[819,820,821,822],[659,660,661,662],[627,628,629,630],[671,672,673,674],[747,748,749,750],[611,612,613,614],[787,788,789,790],[815,816,817,818],[627,628,629,630],[655,656,657,658],[691,692,693,694],[867,868,869,870],[635,636,637,638],[647,648,649,650],[647,648,649,650],[591,592,593,594],[675,676,677,678],[643,644,645,646],[743,744,745,746],[787,788,789,790],[699,700,701,702],[619,620,621,622],[687,688,689,690],[831,832,833,834],[675,676,677,678],[635,636,637,638],[675,676,677,678],[659,660,661,662],[699,700,701,702],[647,648,649,650],[631,632,633,634],[759,760,761,762],[783,784,785,786],[595,596,597,598],[635,636,637,638],[727,728,729,730],[767,768,769,770],[743,744,745,746],[595,596,597,598],[631,632,633,634],[619,620,621,622],[611,612,613,614],[667,668,669,670],[631,632,633,634],[591,592,593,594],[591,592,593,594],[699,700,701,702],[695,696,697,698],[711,712,713,714],[587,588,589,590],[619,620,621,622],[699,700,701,702],[627,628,629,630],[719,720,721,722],[815,816,817,818],[611,612,613,614],[703,704,705,706],[839,840,841,842],[799,800,801,802],[587,588,589,590],[859,860,861,862],[703,704,705,706],[627,628,629,630],[683,684,685,686],[723,724,725,726],[623,624,625,626],[739,740,741,742],[859,860,861,862],[691,692,693,694],[583,584,585,586],[763,764,765,766],[579,580,581,582],[607,608,609,610],[623,624,625,626],[763,764,765,766],[639,640,641,642],[687,688,689,690],[695,696,697,698],[815,816,817,818],[747,748,749,750],[755,756,757,758],[863,864,865,866],[675,676,677,678],[579,580,581,582],[711,712,713,714],[703,704,705,706],[735,736,737,738],[603,604,605,606],[611,612,613,614],[703,704,705,706],[663,664,665,666],[615,616,617,618],[683,684,685,686],[631,632,633,634],[627,628,629,630],[667,668,669,670],[211,538,550],[155],[86,252,409],[100,251,325],[104,374],[131,434,517,566],[244,343,355,477],[28,124,224,227],[403],[130],[385],[551],[179,294,464],[237],[69,200,574],[324,421,429],[11,332,431],[428],[157,393,397],[107,126,289],[156,161,494,567],[172,186,386,470],[12,127,444,524],[64,153,364,436],[9,79,218,541],[48,209,317],[442,452,481],[14,84,319,351],[342,400,424],[72,170,475,528],[19,39,65,529],[243,261,463,562],[],[],[],[],[182,221,226,522],[296,512,570],[98,212,513,518],[154,159,297,473],[168,185,290],[235],[219,407,552],[165,523,544],[189,307,419],[184,194,279],[102,295,438,532],[22,352],[110,273,302],[230],[45,504,506],[32,329,468],[250,267,361],[17],[44,326,435],[37,132,363,554],[95,320,496,520],[288,298],[96,148,257,492],[151,334,410,471],[5,47,116,534],[128,196,268,358],[53,371,415,484],[139,254,379,404],[13,281],[115,228,406,483],[241,478],[488,526,531],[225,236],[62,106,310],[304,525,572],[58,81,413,509],[263,487],[315,322,392],[245,507,556],[108,335,499],[85,191,198,214],[57,213,356,474],[205,387,408,569],[26,266,432,462],[63,152,418],[51,370],[336],[345,502],[27,433,561],[88],[40,71,97],[204,286,495],[238,299,368,394],[344,405,519,540],[93,571],[61,167,303,459],[46,181,233],[284],[249,378,416],[199,430,469],[173,521],[465],[369],[113,380],[83,264,285,449],[89,158,340,491],[306,313,348,427],[66,259,480,497],[312,437,482],[30,120,190],[367],[92,99,136],[55,222,277],[103,440,446],[239],[119,472,555],[346,412,564],[18,210,542],[359],[180,276,535],[125,206,573],[36,548],[123],[141],[256],[111,328,383],[305,493],[59,70,193],[133,171,178],[174,215,508],[109,192,275],[74,197,229,391],[76,327,376,501],[20,291],[91,318,372,454],[140,425,527],[220,274,414],[73,282,505,549],[4,146,207],[87,323,402,503],[90],[144,568],[112,381,399],[260,366],[105,360,439],[129,253],[247,272,401],[7,308],[25,117,398],[101,500],[321,337,353,467],[164,489],[34,514],[240],[293,411],[54,448],[183,271],[35,138],[80,441,485],[150,362],[145,217],[10,292],[],[],[2,50,395],[388],[163,445,460],[41,78,311],[75,160,162,262],[3,422,510,530],[114,143,443,537],[52,122,187,382],[175,270,426,553],[94,208,396,450],[38],[231,255,565],[137],[121,547],[67,375,559],[287,330],[377],[],[],[],[23],[349],[31],[515],[258],[223,498,533],[265,309,545],[49,486,543],[347],[33],[195],[216],[],[],[],[],[339,341],[24],[77,384],[118],[201,466],[176,390],[420],[147,301],[21],[],[],[],[82,333],[278,516],[15,455,457],[188],[248,389,417],[451],[166],[447,479],[],[],[],[],[423],[169,373],[476,511],[134],[142,202],[43,203,246,350],[458,557],[16,536],[56],[29],[68,563],[558],[280],[],[],[],[300],[],[],[],[269,456],[8],[60],[539],[149],[],[],[],[354],[],[],[],[365],[],[],[],[331],[234],[],[],[461,560],[283],[],[],[546],[6,242],[232,357],[338],[],[],[],[],[453],[],[],[],[135],[],[],[],[],[],[],[],[314,490],[42],[],[],[316],[],[],[],[],[],[],[],[],[],[],[],[177],[],[],[],[],[],[],[],[],[],[],[],[],[],[],[]],\"text\":[\"GridWorldState(4, 1, false)\\nN:   1899\\n\",\"GridWorldState(9, 2, false)\\nN:    179\\n\",\"GridWorldState(8, 3, false)\\nN:    704\\n\",\"GridWorldState(8, 2, false)\\nN:    733\\n\",\"GridWorldState(8, 2, false)\\nN:    733\\n\",\"GridWorldState(10, 3, false)\\nN:     14\\n\",\"GridWorldState(7, 6, false)\\nN:     15\\n\",\"GridWorldState(9, 4, false)\\nN:     43\\n\",\"GridWorldState(5, 2, false)\\nN:    438\\n\",\"GridWorldState(2, 5, false)\\nN:     18\\n\",\"GridWorldState(5, 2, false)\\nN:    438\\n\",\"GridWorldState(6, 2, false)\\nN:   1036\\n\",\"GridWorldState(5, 6, false)\\nN:     13\\n\",\"GridWorldState(5, 4, false)\\nN:     43\\n\",\"GridWorldState(10, 1, false)\\nN:     57\\n\",\"GridWorldState(9, 3, false)\\nN:    590\\n\",\"GridWorldState(5, 3, false)\\nN:    108\\n\",\"GridWorldState(2, 4, false)\\nN:     59\\n\",\"GridWorldState(2, 2, false)\\nN:    221\\n\",\"GridWorldState(2, 3, false)\\nN:    109\\n\",\"GridWorldState(2, 8, false)\\nN:      0\\n\",\"GridWorldState(4, 3, false)\\nN:     75\\n\",\"GridWorldState(4, 6, true)\\nN:      0\\n\",\"GridWorldState(10, 1, false)\\nN:     57\\n\",\"GridWorldState(3, 5, false)\\nN:      8\\n\",\"GridWorldState(2, 1, false)\\nN:    284\\n\",\"GridWorldState(9, 1, false)\\nN:    120\\n\",\"GridWorldState(4, 1, false)\\nN:   1899\\n\",\"GridWorldState(3, 4, false)\\nN:     25\\n\",\"GridWorldState(2, 2, false)\\nN:    221\\n\",\"GridWorldState(4, 6, true)\\nN:      0\\n\",\"GridWorldState(6, 1, false)\\nN:   1111\\n\",\"GridWorldState(9, 3, true)\\nN:      0\\n\",\"GridWorldState(7, 4, false)\\nN:     87\\n\",\"GridWorldState(7, 5, false)\\nN:     30\\n\",\"GridWorldState(5, 4, false)\\nN:     43\\n\",\"GridWorldState(4, 4, false)\\nN:     20\\n\",\"GridWorldState(8, 2, false)\\nN:    733\\n\",\"GridWorldState(4, 2, false)\\nN:    415\\n\",\"GridWorldState(7, 1, false)\\nN:    376\\n\",\"GridWorldState(10, 1, false)\\nN:     57\\n\",\"GridWorldState(10, 4, false)\\nN:     14\\n\",\"GridWorldState(8, 4, false)\\nN:    119\\n\",\"GridWorldState(4, 4, false)\\nN:     20\\n\",\"GridWorldState(6, 1, false)\\nN:   1111\\n\",\"GridWorldState(1, 1, false)\\nN:    223\\n\",\"GridWorldState(7, 3, false)\\nN:    407\\n\",\"GridWorldState(4, 3, false)\\nN:     75\\n\",\"GridWorldState(8, 4, false)\\nN:    119\\n\",\"GridWorldState(8, 1, false)\\nN:    184\\n\",\"GridWorldState(5, 5, false)\\nN:     24\\n\",\"GridWorldState(9, 4, false)\\nN:     43\\n\",\"GridWorldState(7, 3, false)\\nN:    407\\n\",\"GridWorldState(7, 4, false)\\nN:     87\\n\",\"GridWorldState(1, 2, false)\\nN:    155\\n\",\"GridWorldState(3, 6, false)\\nN:      2\\n\",\"GridWorldState(3, 2, false)\\nN:    230\\n\",\"GridWorldState(8, 3, false)\\nN:    704\\n\",\"GridWorldState(5, 5, false)\\nN:     24\\n\",\"GridWorldState(8, 5, false)\\nN:     24\\n\",\"GridWorldState(3, 3, false)\\nN:     65\\n\",\"GridWorldState(6, 3, false)\\nN:    225\\n\",\"GridWorldState(4, 6, false)\\nN:      7\\n\",\"GridWorldState(5, 1, false)\\nN:   1382\\n\",\"GridWorldState(3, 1, false)\\nN:    520\\n\",\"GridWorldState(8, 3, false)\\nN:    704\\n\",\"GridWorldState(3, 5, false)\\nN:      8\\n\",\"GridWorldState(4, 5, false)\\nN:     14\\n\",\"GridWorldState(4, 1, false)\\nN:   1899\\n\",\"GridWorldState(7, 5, false)\\nN:     30\\n\",\"GridWorldState(8, 2, false)\\nN:    733\\n\",\"GridWorldState(3, 3, false)\\nN:     65\\n\",\"GridWorldState(8, 4, false)\\nN:    119\\n\",\"GridWorldState(8, 4, false)\\nN:    119\\n\",\"GridWorldState(9, 4, false)\\nN:     43\\n\",\"GridWorldState(2, 3, false)\\nN:    109\\n\",\"GridWorldState(10, 2, false)\\nN:     51\\n\",\"GridWorldState(8, 1, false)\\nN:    184\\n\",\"GridWorldState(6, 3, false)\\nN:    225\\n\",\"GridWorldState(6, 6, false)\\nN:     16\\n\",\"GridWorldState(7, 2, false)\\nN:    961\\n\",\"GridWorldState(9, 2, false)\\nN:    179\\n\",\"GridWorldState(8, 1, false)\\nN:    184\\n\",\"GridWorldState(4, 3, false)\\nN:     75\\n\",\"GridWorldState(2, 3, false)\\nN:    109\\n\",\"GridWorldState(3, 1, false)\\nN:    520\\n\",\"GridWorldState(9, 3, false)\\nN:    590\\n\",\"GridWorldState(8, 1, false)\\nN:    184\\n\",\"GridWorldState(8, 1, false)\\nN:    184\\n\",\"GridWorldState(2, 6, false)\\nN:      6\\n\",\"GridWorldState(3, 4, false)\\nN:     25\\n\",\"GridWorldState(1, 3, false)\\nN:    105\\n\",\"GridWorldState(3, 3, false)\\nN:     65\\n\",\"GridWorldState(9, 1, false)\\nN:    120\\n\",\"GridWorldState(5, 3, false)\\nN:    108\\n\",\"GridWorldState(5, 3, false)\\nN:    108\\n\",\"GridWorldState(9, 1, false)\\nN:    120\\n\",\"GridWorldState(6, 1, false)\\nN:   1111\\n\",\"GridWorldState(1, 1, false)\\nN:    223\\n\",\"GridWorldState(4, 2, false)\\nN:    415\\n\",\"GridWorldState(2, 4, false)\\nN:     59\\n\",\"GridWorldState(4, 3, false)\\nN:     75\\n\",\"GridWorldState(2, 3, false)\\nN:    109\\n\",\"GridWorldState(4, 3, false)\\nN:     75\\n\",\"GridWorldState(6, 7, false)\\nN:      4\\n\",\"GridWorldState(7, 2, false)\\nN:    961\\n\",\"GridWorldState(5, 2, false)\\nN:    438\\n\",\"GridWorldState(6, 5, false)\\nN:     30\\n\",\"GridWorldState(8, 4, false)\\nN:    119\\n\",\"GridWorldState(7, 2, false)\\nN:    961\\n\",\"GridWorldState(6, 4, false)\\nN:     66\\n\",\"GridWorldState(2, 6, false)\\nN:      6\\n\",\"GridWorldState(1, 2, false)\\nN:    155\\n\",\"GridWorldState(7, 4, false)\\nN:     87\\n\",\"GridWorldState(5, 4, false)\\nN:     43\\n\",\"GridWorldState(7, 1, false)\\nN:    376\\n\",\"GridWorldState(4, 4, false)\\nN:     20\\n\",\"GridWorldState(10, 1, false)\\nN:     57\\n\",\"GridWorldState(1, 2, false)\\nN:    155\\n\",\"GridWorldState(1, 1, false)\\nN:    223\\n\",\"GridWorldState(4, 6, false)\\nN:      7\\n\",\"GridWorldState(7, 4, false)\\nN:     87\\n\",\"GridWorldState(3, 4, false)\\nN:     25\\n\",\"GridWorldState(3, 2, false)\\nN:    230\\n\",\"GridWorldState(3, 4, false)\\nN:     25\\n\",\"GridWorldState(4, 1, false)\\nN:   1899\\n\",\"GridWorldState(5, 3, false)\\nN:    108\\n\",\"GridWorldState(7, 3, false)\\nN:    407\\n\",\"GridWorldState(6, 7, false)\\nN:      4\\n\",\"GridWorldState(4, 3, true)\\nN:      0\\n\",\"GridWorldState(4, 3, false)\\nN:     75\\n\",\"GridWorldState(5, 3, false)\\nN:    108\\n\",\"GridWorldState(7, 5, false)\\nN:     30\\n\",\"GridWorldState(10, 3, false)\\nN:     14\\n\",\"GridWorldState(7, 9, false)\\nN:      0\\n\",\"GridWorldState(2, 2, false)\\nN:    221\\n\",\"GridWorldState(4, 6, false)\\nN:      7\\n\",\"GridWorldState(6, 6, false)\\nN:     16\\n\",\"GridWorldState(7, 1, false)\\nN:    376\\n\",\"GridWorldState(3, 4, false)\\nN:     25\\n\",\"GridWorldState(5, 4, false)\\nN:     43\\n\",\"GridWorldState(9, 5, false)\\nN:      8\\n\",\"GridWorldState(8, 3, false)\\nN:    704\\n\",\"GridWorldState(1, 5, false)\\nN:     14\\n\",\"GridWorldState(2, 7, false)\\nN:      1\\n\",\"GridWorldState(9, 3, false)\\nN:    590\\n\",\"GridWorldState(2, 5, false)\\nN:     18\\n\",\"GridWorldState(7, 3, false)\\nN:    407\\n\",\"GridWorldState(8, 8, false)\\nN:      0\\n\",\"GridWorldState(7, 5, false)\\nN:     30\\n\",\"GridWorldState(6, 2, false)\\nN:   1036\\n\",\"GridWorldState(5, 5, false)\\nN:     24\\n\",\"GridWorldState(4, 2, false)\\nN:    415\\n\",\"GridWorldState(7, 2, false)\\nN:    961\\n\",\"GridWorldState(4, 1, false)\\nN:   1899\\n\",\"GridWorldState(5, 3, false)\\nN:    108\\n\",\"GridWorldState(5, 2, false)\\nN:    438\\n\",\"GridWorldState(9, 2, false)\\nN:    179\\n\",\"GridWorldState(5, 2, false)\\nN:    438\\n\",\"GridWorldState(8, 5, false)\\nN:     24\\n\",\"GridWorldState(4, 2, false)\\nN:    415\\n\",\"GridWorldState(8, 3, false)\\nN:    704\\n\",\"GridWorldState(9, 2, false)\\nN:    179\\n\",\"GridWorldState(2, 4, false)\\nN:     59\\n\",\"GridWorldState(6, 2, false)\\nN:   1036\\n\",\"GridWorldState(7, 6, false)\\nN:     15\\n\",\"GridWorldState(1, 3, false)\\nN:    105\\n\",\"GridWorldState(7, 1, false)\\nN:    376\\n\",\"GridWorldState(9, 3, false)\\nN:    590\\n\",\"GridWorldState(4, 2, false)\\nN:    415\\n\",\"GridWorldState(8, 4, false)\\nN:    119\\n\",\"GridWorldState(5, 1, false)\\nN:   1382\\n\",\"GridWorldState(1, 2, false)\\nN:    155\\n\",\"GridWorldState(7, 5, false)\\nN:     30\\n\",\"GridWorldState(10, 2, false)\\nN:     51\\n\",\"GridWorldState(1, 4, false)\\nN:     52\\n\",\"GridWorldState(6, 10, false)\\nN:      0\\n\",\"GridWorldState(6, 4, false)\\nN:     66\\n\",\"GridWorldState(2, 1, false)\\nN:    284\\n\",\"GridWorldState(1, 3, false)\\nN:    105\\n\",\"GridWorldState(3, 1, false)\\nN:    520\\n\",\"GridWorldState(5, 2, false)\\nN:    438\\n\",\"GridWorldState(7, 7, false)\\nN:      2\\n\",\"GridWorldState(2, 3, false)\\nN:    109\\n\",\"GridWorldState(5, 1, false)\\nN:   1382\\n\",\"GridWorldState(5, 3, false)\\nN:    108\\n\",\"GridWorldState(8, 5, false)\\nN:     24\\n\",\"GridWorldState(10, 2, false)\\nN:     51\\n\",\"GridWorldState(3, 4, false)\\nN:     25\\n\",\"GridWorldState(1, 3, false)\\nN:    105\\n\",\"GridWorldState(3, 2, false)\\nN:    230\\n\",\"GridWorldState(6, 4, false)\\nN:     66\\n\",\"GridWorldState(6, 6, false)\\nN:     16\\n\",\"GridWorldState(3, 2, false)\\nN:    230\\n\",\"GridWorldState(9, 3, true)\\nN:      0\\n\",\"GridWorldState(6, 2, false)\\nN:   1036\\n\",\"GridWorldState(6, 4, false)\\nN:     66\\n\",\"GridWorldState(2, 1, false)\\nN:    284\\n\",\"GridWorldState(2, 2, false)\\nN:    221\\n\",\"GridWorldState(3, 2, false)\\nN:    230\\n\",\"GridWorldState(2, 5, false)\\nN:     18\\n\",\"GridWorldState(10, 4, false)\\nN:     14\\n\",\"GridWorldState(9, 5, false)\\nN:      8\\n\",\"GridWorldState(9, 1, false)\\nN:    120\\n\",\"GridWorldState(1, 2, false)\\nN:    155\\n\",\"GridWorldState(4, 5, false)\\nN:     14\\n\",\"GridWorldState(7, 3, false)\\nN:    407\\n\",\"GridWorldState(8, 2, false)\\nN:    733\\n\",\"GridWorldState(6, 3, false)\\nN:    225\\n\",\"GridWorldState(1, 5, false)\\nN:     14\\n\",\"GridWorldState(5, 1, false)\\nN:   1382\\n\",\"GridWorldState(5, 2, false)\\nN:    438\\n\",\"GridWorldState(2, 3, false)\\nN:    109\\n\",\"GridWorldState(1, 2, false)\\nN:    155\\n\",\"GridWorldState(7, 3, false)\\nN:    407\\n\",\"GridWorldState(9, 3, true)\\nN:      0\\n\",\"GridWorldState(2, 5, false)\\nN:     18\\n\",\"GridWorldState(4, 3, false)\\nN:     75\\n\",\"GridWorldState(5, 1, false)\\nN:   1382\\n\",\"GridWorldState(8, 4, false)\\nN:    119\\n\",\"GridWorldState(7, 2, false)\\nN:    961\\n\",\"GridWorldState(1, 4, false)\\nN:     52\\n\",\"GridWorldState(8, 4, false)\\nN:    119\\n\",\"GridWorldState(4, 3, false)\\nN:     75\\n\",\"GridWorldState(6, 3, false)\\nN:    225\\n\",\"GridWorldState(6, 1, false)\\nN:   1111\\n\",\"GridWorldState(5, 2, false)\\nN:    438\\n\",\"GridWorldState(5, 6, false)\\nN:     13\\n\",\"GridWorldState(7, 3, false)\\nN:    407\\n\",\"GridWorldState(7, 1, false)\\nN:    376\\n\",\"GridWorldState(10, 2, false)\\nN:     51\\n\",\"GridWorldState(9, 4, false)\\nN:     43\\n\",\"GridWorldState(2, 2, false)\\nN:    221\\n\",\"GridWorldState(5, 6, false)\\nN:     13\\n\",\"GridWorldState(6, 1, false)\\nN:   1111\\n\",\"GridWorldState(7, 4, false)\\nN:     87\\n\",\"GridWorldState(3, 1, false)\\nN:    520\\n\",\"GridWorldState(2, 2, false)\\nN:    221\\n\",\"GridWorldState(1, 3, false)\\nN:    105\\n\",\"GridWorldState(7, 4, false)\\nN:     87\\n\",\"GridWorldState(4, 5, false)\\nN:     14\\n\",\"GridWorldState(9, 4, false)\\nN:     43\\n\",\"GridWorldState(3, 3, false)\\nN:     65\\n\",\"GridWorldState(4, 3, false)\\nN:     75\\n\",\"GridWorldState(5, 4, false)\\nN:     43\\n\",\"GridWorldState(9, 3, false)\\nN:    590\\n\",\"GridWorldState(6, 7, false)\\nN:      4\\n\",\"GridWorldState(7, 6, false)\\nN:     15\\n\",\"GridWorldState(1, 1, false)\\nN:    223\\n\",\"GridWorldState(6, 4, false)\\nN:     66\\n\",\"GridWorldState(3, 1, false)\\nN:    520\\n\",\"GridWorldState(4, 2, false)\\nN:    415\\n\",\"GridWorldState(6, 5, false)\\nN:     30\\n\",\"GridWorldState(7, 3, false)\\nN:    407\\n\",\"GridWorldState(8, 2, false)\\nN:    733\\n\",\"GridWorldState(6, 6, false)\\nN:     16\\n\",\"GridWorldState(6, 2, false)\\nN:   1036\\n\",\"GridWorldState(8, 6, false)\\nN:     10\\n\",\"GridWorldState(7, 2, false)\\nN:    961\\n\",\"GridWorldState(2, 4, false)\\nN:     59\\n\",\"GridWorldState(3, 1, false)\\nN:    520\\n\",\"GridWorldState(7, 4, false)\\nN:     87\\n\",\"GridWorldState(6, 5, false)\\nN:     30\\n\",\"GridWorldState(7, 2, false)\\nN:    961\\n\",\"GridWorldState(7, 5, false)\\nN:     30\\n\",\"GridWorldState(2, 3, false)\\nN:    109\\n\",\"GridWorldState(4, 4, false)\\nN:     20\\n\",\"GridWorldState(7, 1, false)\\nN:    376\\n\",\"GridWorldState(9, 6, false)\\nN:      1\\n\",\"GridWorldState(9, 1, false)\\nN:    120\\n\",\"GridWorldState(6, 6, false)\\nN:     16\\n\",\"GridWorldState(7, 6, false)\\nN:     15\\n\",\"GridWorldState(8, 1, false)\\nN:    184\\n\",\"GridWorldState(7, 3, false)\\nN:    407\\n\",\"GridWorldState(7, 5, false)\\nN:     30\\n\",\"GridWorldState(1, 5, false)\\nN:     14\\n\",\"GridWorldState(2, 3, false)\\nN:    109\\n\",\"GridWorldState(10, 1, false)\\nN:     57\\n\",\"GridWorldState(4, 3, false)\\nN:     75\\n\",\"GridWorldState(8, 6, false)\\nN:     10\\n\",\"GridWorldState(4, 5, false)\\nN:     14\\n\",\"GridWorldState(7, 3, false)\\nN:    407\\n\",\"GridWorldState(6, 6, false)\\nN:     16\\n\",\"GridWorldState(2, 1, false)\\nN:    284\\n\",\"GridWorldState(8, 3, false)\\nN:    704\\n\",\"GridWorldState(7, 1, false)\\nN:    376\\n\",\"GridWorldState(5, 5, false)\\nN:     24\\n\",\"GridWorldState(5, 3, false)\\nN:    108\\n\",\"GridWorldState(6, 1, false)\\nN:   1111\\n\",\"GridWorldState(6, 2, false)\\nN:   1036\\n\",\"GridWorldState(3, 4, false)\\nN:     25\\n\",\"GridWorldState(3, 6, false)\\nN:      2\\n\",\"GridWorldState(6, 5, false)\\nN:     30\\n\",\"GridWorldState(4, 1, false)\\nN:   1899\\n\",\"GridWorldState(2, 3, false)\\nN:    109\\n\",\"GridWorldState(6, 3, false)\\nN:    225\\n\",\"GridWorldState(6, 1, false)\\nN:   1111\\n\",\"GridWorldState(6, 2, false)\\nN:   1036\\n\",\"GridWorldState(3, 3, false)\\nN:     65\\n\",\"GridWorldState(1, 7, false)\\nN:      0\\n\",\"GridWorldState(1, 4, false)\\nN:     52\\n\",\"GridWorldState(6, 1, false)\\nN:   1111\\n\",\"GridWorldState(2, 4, false)\\nN:     59\\n\",\"GridWorldState(7, 2, false)\\nN:    961\\n\",\"GridWorldState(5, 5, false)\\nN:     24\\n\",\"GridWorldState(8, 1, false)\\nN:    184\\n\",\"GridWorldState(3, 2, false)\\nN:    230\\n\",\"GridWorldState(5, 6, false)\\nN:     13\\n\",\"GridWorldState(8, 6, false)\\nN:     10\\n\",\"GridWorldState(7, 4, false)\\nN:     87\\n\",\"GridWorldState(9, 2, false)\\nN:    179\\n\",\"GridWorldState(1, 3, false)\\nN:    105\\n\",\"GridWorldState(9, 2, false)\\nN:    179\\n\",\"GridWorldState(10, 4, false)\\nN:     14\\n\",\"GridWorldState(5, 4, false)\\nN:     43\\n\",\"GridWorldState(6, 9, false)\\nN:      1\\n\",\"GridWorldState(5, 2, false)\\nN:    438\\n\",\"GridWorldState(2, 3, false)\\nN:    109\\n\",\"GridWorldState(5, 2, false)\\nN:    438\\n\",\"GridWorldState(6, 4, false)\\nN:     66\\n\",\"GridWorldState(3, 3, false)\\nN:     65\\n\",\"GridWorldState(6, 3, false)\\nN:    225\\n\",\"GridWorldState(7, 3, false)\\nN:    407\\n\",\"GridWorldState(2, 1, false)\\nN:    284\\n\",\"GridWorldState(5, 1, false)\\nN:   1382\\n\",\"GridWorldState(6, 4, false)\\nN:     66\\n\",\"GridWorldState(3, 4, false)\\nN:     25\\n\",\"GridWorldState(6, 6, false)\\nN:     16\\n\",\"GridWorldState(8, 1, false)\\nN:    184\\n\",\"GridWorldState(4, 6, false)\\nN:      7\\n\",\"GridWorldState(5, 8, false)\\nN:      1\\n\",\"GridWorldState(4, 1, false)\\nN:   1899\\n\",\"GridWorldState(10, 3, false)\\nN:     14\\n\",\"GridWorldState(7, 3, false)\\nN:    407\\n\",\"GridWorldState(5, 4, false)\\nN:     43\\n\",\"GridWorldState(4, 6, false)\\nN:      7\\n\",\"GridWorldState(3, 5, false)\\nN:      8\\n\",\"GridWorldState(10, 4, false)\\nN:     14\\n\",\"GridWorldState(10, 2, false)\\nN:     51\\n\",\"GridWorldState(8, 3, false)\\nN:    704\\n\",\"GridWorldState(9, 1, false)\\nN:    120\\n\",\"GridWorldState(3, 1, false)\\nN:    520\\n\",\"GridWorldState(5, 2, false)\\nN:    438\\n\",\"GridWorldState(2, 2, false)\\nN:    221\\n\",\"GridWorldState(6, 6, false)\\nN:     16\\n\",\"GridWorldState(1, 5, false)\\nN:     14\\n\",\"GridWorldState(9, 3, true)\\nN:      0\\n\",\"GridWorldState(8, 3, false)\\nN:    704\\n\",\"GridWorldState(4, 6, true)\\nN:      0\\n\",\"GridWorldState(10, 4, false)\\nN:     14\\n\",\"GridWorldState(6, 3, false)\\nN:    225\\n\",\"GridWorldState(2, 3, false)\\nN:    109\\n\",\"GridWorldState(2, 4, false)\\nN:     59\\n\",\"GridWorldState(3, 7, false)\\nN:      1\\n\",\"GridWorldState(3, 2, false)\\nN:    230\\n\",\"GridWorldState(1, 2, false)\\nN:    155\\n\",\"GridWorldState(10, 5, false)\\nN:      3\\n\",\"GridWorldState(8, 2, false)\\nN:    733\\n\",\"GridWorldState(1, 4, false)\\nN:     52\\n\",\"GridWorldState(6, 5, false)\\nN:     30\\n\",\"GridWorldState(5, 5, false)\\nN:     24\\n\",\"GridWorldState(8, 6, false)\\nN:     10\\n\",\"GridWorldState(6, 4, false)\\nN:     66\\n\",\"GridWorldState(6, 2, false)\\nN:   1036\\n\",\"GridWorldState(3, 8, false)\\nN:      0\\n\",\"GridWorldState(3, 5, false)\\nN:      8\\n\",\"GridWorldState(1, 2, false)\\nN:    155\\n\",\"GridWorldState(1, 3, false)\\nN:    105\\n\",\"GridWorldState(1, 1, false)\\nN:    223\\n\",\"GridWorldState(6, 6, false)\\nN:     16\\n\",\"GridWorldState(7, 1, false)\\nN:    376\\n\",\"GridWorldState(2, 5, false)\\nN:     18\\n\",\"GridWorldState(10, 2, false)\\nN:     51\\n\",\"GridWorldState(4, 1, false)\\nN:   1899\\n\",\"GridWorldState(5, 5, false)\\nN:     24\\n\",\"GridWorldState(2, 5, false)\\nN:     18\\n\",\"GridWorldState(7, 8, false)\\nN:      1\\n\",\"GridWorldState(2, 2, false)\\nN:    221\\n\",\"GridWorldState(6, 2, false)\\nN:   1036\\n\",\"GridWorldState(2, 1, false)\\nN:    284\\n\",\"GridWorldState(1, 5, false)\\nN:     14\\n\",\"GridWorldState(8, 3, false)\\nN:    704\\n\",\"GridWorldState(5, 5, false)\\nN:     24\\n\",\"GridWorldState(9, 1, false)\\nN:    120\\n\",\"GridWorldState(4, 3, true)\\nN:      0\\n\",\"GridWorldState(4, 2, false)\\nN:    415\\n\",\"GridWorldState(2, 1, false)\\nN:    284\\n\",\"GridWorldState(9, 1, false)\\nN:    120\\n\",\"GridWorldState(8, 7, false)\\nN:      1\\n\",\"GridWorldState(2, 5, false)\\nN:     18\\n\",\"GridWorldState(7, 5, false)\\nN:     30\\n\",\"GridWorldState(6, 5, false)\\nN:     30\\n\",\"GridWorldState(4, 1, false)\\nN:   1899\\n\",\"GridWorldState(2, 4, false)\\nN:     59\\n\",\"GridWorldState(10, 1, false)\\nN:     57\\n\",\"GridWorldState(9, 3, false)\\nN:    590\\n\",\"GridWorldState(6, 1, false)\\nN:   1111\\n\",\"GridWorldState(2, 4, false)\\nN:     59\\n\",\"GridWorldState(3, 5, false)\\nN:      8\\n\",\"GridWorldState(3, 3, false)\\nN:     65\\n\",\"GridWorldState(5, 6, false)\\nN:     13\\n\",\"GridWorldState(8, 4, false)\\nN:    119\\n\",\"GridWorldState(4, 3, true)\\nN:      0\\n\",\"GridWorldState(8, 2, false)\\nN:    733\\n\",\"GridWorldState(1, 3, false)\\nN:    105\\n\",\"GridWorldState(6, 5, false)\\nN:     30\\n\",\"GridWorldState(6, 2, false)\\nN:   1036\\n\",\"GridWorldState(3, 2, false)\\nN:    230\\n\",\"GridWorldState(5, 1, false)\\nN:   1382\\n\",\"GridWorldState(5, 3, false)\\nN:    108\\n\",\"GridWorldState(7, 6, false)\\nN:     15\\n\",\"GridWorldState(1, 3, false)\\nN:    105\\n\",\"GridWorldState(7, 4, false)\\nN:     87\\n\",\"GridWorldState(8, 2, false)\\nN:    733\\n\",\"GridWorldState(8, 2, false)\\nN:    733\\n\",\"GridWorldState(3, 1, false)\\nN:    520\\n\",\"GridWorldState(9, 6, false)\\nN:      1\\n\",\"GridWorldState(5, 7, false)\\nN:      5\\n\",\"GridWorldState(4, 3, false)\\nN:     75\\n\",\"GridWorldState(1, 5, false)\\nN:     14\\n\",\"GridWorldState(3, 2, false)\\nN:    230\\n\",\"GridWorldState(9, 4, false)\\nN:     43\\n\",\"GridWorldState(10, 4, false)\\nN:     14\\n\",\"GridWorldState(2, 2, false)\\nN:    221\\n\",\"GridWorldState(1, 4, false)\\nN:     52\\n\",\"GridWorldState(8, 2, false)\\nN:    733\\n\",\"GridWorldState(7, 2, false)\\nN:    961\\n\",\"GridWorldState(5, 1, false)\\nN:   1382\\n\",\"GridWorldState(4, 1, false)\\nN:   1899\\n\",\"GridWorldState(3, 1, false)\\nN:    520\\n\",\"GridWorldState(6, 1, false)\\nN:   1111\\n\",\"GridWorldState(3, 2, false)\\nN:    230\\n\",\"GridWorldState(7, 1, false)\\nN:    376\\n\",\"GridWorldState(4, 1, false)\\nN:   1899\\n\",\"GridWorldState(5, 5, false)\\nN:     24\\n\",\"GridWorldState(5, 3, false)\\nN:    108\\n\",\"GridWorldState(2, 2, false)\\nN:    221\\n\",\"GridWorldState(3, 2, false)\\nN:    230\\n\",\"GridWorldState(7, 6, false)\\nN:     15\\n\",\"GridWorldState(1, 2, false)\\nN:    155\\n\",\"GridWorldState(7, 5, false)\\nN:     30\\n\",\"GridWorldState(5, 2, false)\\nN:    438\\n\",\"GridWorldState(8, 5, false)\\nN:     24\\n\",\"GridWorldState(4, 2, false)\\nN:    415\\n\",\"GridWorldState(10, 1, false)\\nN:     57\\n\",\"GridWorldState(1, 4, false)\\nN:     52\\n\",\"GridWorldState(7, 6, false)\\nN:     15\\n\",\"GridWorldState(8, 5, false)\\nN:     24\\n\",\"GridWorldState(9, 2, false)\\nN:    179\\n\",\"GridWorldState(10, 2, false)\\nN:     51\\n\",\"GridWorldState(8, 5, false)\\nN:     24\\n\",\"GridWorldState(4, 3, false)\\nN:     75\\n\",\"GridWorldState(6, 8, false)\\nN:      2\\n\",\"GridWorldState(1, 4, false)\\nN:     52\\n\",\"GridWorldState(10, 3, false)\\nN:     14\\n\",\"GridWorldState(8, 5, false)\\nN:     24\\n\",\"GridWorldState(9, 2, false)\\nN:    179\\n\",\"GridWorldState(8, 4, false)\\nN:    119\\n\",\"GridWorldState(2, 2, false)\\nN:    221\\n\",\"GridWorldState(8, 1, false)\\nN:    184\\n\",\"GridWorldState(6, 6, false)\\nN:     16\\n\",\"GridWorldState(1, 2, false)\\nN:    155\\n\",\"GridWorldState(2, 2, false)\\nN:    221\\n\",\"GridWorldState(3, 2, false)\\nN:    230\\n\",\"GridWorldState(1, 1, false)\\nN:    223\\n\",\"GridWorldState(1, 6, false)\\nN:      1\\n\",\"GridWorldState(4, 4, false)\\nN:     20\\n\",\"GridWorldState(7, 2, false)\\nN:    961\\n\",\"GridWorldState(1, 1, false)\\nN:    223\\n\",\"GridWorldState(6, 2, false)\\nN:   1036\\n\",\"GridWorldState(6, 4, false)\\nN:     66\\n\",\"GridWorldState(2, 3, false)\\nN:    109\\n\",\"GridWorldState(6, 3, false)\\nN:    225\\n\",\"GridWorldState(2, 1, false)\\nN:    284\\n\",\"GridWorldState(2, 2, false)\\nN:    221\\n\",\"GridWorldState(9, 3, false)\\nN:    590\\n\",\"GridWorldState(4, 1, false)\\nN:   1899\\n\",\"GridWorldState(5, 6, false)\\nN:     13\\n\",\"GridWorldState(8, 7, false)\\nN:      1\\n\",\"GridWorldState(8, 1, false)\\nN:    184\\n\",\"GridWorldState(5, 4, false)\\nN:     43\\n\",\"GridWorldState(1, 1, false)\\nN:    223\\n\",\"GridWorldState(4, 5, false)\\nN:     14\\n\",\"GridWorldState(6, 2, false)\\nN:   1036\\n\",\"GridWorldState(8, 6, false)\\nN:     10\\n\",\"GridWorldState(9, 5, false)\\nN:      8\\n\",\"GridWorldState(5, 4, false)\\nN:     43\\n\",\"GridWorldState(5, 6, false)\\nN:     13\\n\",\"GridWorldState(4, 4, false)\\nN:     20\\n\",\"GridWorldState(10, 6, false)\\nN:      0\\n\",\"GridWorldState(7, 2, false)\\nN:    961\\n\",\"GridWorldState(6, 4, false)\\nN:     66\\n\",\"GridWorldState(6, 4, false)\\nN:     66\\n\",\"GridWorldState(5, 1, false)\\nN:   1382\\n\",\"GridWorldState(8, 2, false)\\nN:    733\\n\",\"GridWorldState(7, 3, false)\\nN:    407\\n\",\"GridWorldState(9, 2, false)\\nN:    179\\n\",\"GridWorldState(8, 6, false)\\nN:     10\\n\",\"GridWorldState(7, 4, false)\\nN:     87\\n\",\"GridWorldState(3, 3, false)\\nN:     65\\n\",\"GridWorldState(1, 4, false)\\nN:     52\\n\",\"GridWorldState(5, 7, false)\\nN:      5\\n\",\"GridWorldState(8, 2, false)\\nN:    733\\n\",\"GridWorldState(7, 2, false)\\nN:    961\\n\",\"GridWorldState(8, 2, false)\\nN:    733\\n\",\"GridWorldState(8, 1, false)\\nN:    184\\n\",\"GridWorldState(7, 4, false)\\nN:     87\\n\",\"GridWorldState(6, 4, false)\\nN:     66\\n\",\"GridWorldState(6, 3, false)\\nN:    225\\n\",\"GridWorldState(8, 5, false)\\nN:     24\\n\",\"GridWorldState(10, 2, false)\\nN:     51\\n\",\"GridWorldState(5, 2, false)\\nN:    438\\n\",\"GridWorldState(7, 2, false)\\nN:    961\\n\",\"GridWorldState(7, 6, false)\\nN:     15\\n\",\"GridWorldState(4, 6, true)\\nN:      0\\n\",\"GridWorldState(9, 2, false)\\nN:    179\\n\",\"GridWorldState(5, 2, false)\\nN:    438\\n\",\"GridWorldState(6, 3, false)\\nN:    225\\n\",\"GridWorldState(3, 3, false)\\nN:     65\\n\",\"GridWorldState(6, 2, false)\\nN:   1036\\n\",\"GridWorldState(2, 1, false)\\nN:    284\\n\",\"GridWorldState(6, 3, false)\\nN:    225\\n\",\"GridWorldState(5, 1, false)\\nN:   1382\\n\",\"GridWorldState(5, 1, false)\\nN:   1382\\n\",\"GridWorldState(7, 4, false)\\nN:     87\\n\",\"GridWorldState(6, 5, false)\\nN:     30\\n\",\"GridWorldState(2, 5, false)\\nN:     18\\n\",\"GridWorldState(3, 1, false)\\nN:    520\\n\",\"GridWorldState(3, 3, false)\\nN:     65\\n\",\"GridWorldState(7, 4, false)\\nN:     87\\n\",\"GridWorldState(5, 4, false)\\nN:     43\\n\",\"GridWorldState(3, 4, false)\\nN:     25\\n\",\"GridWorldState(9, 5, false)\\nN:      8\\n\",\"GridWorldState(6, 2, false)\\nN:   1036\\n\",\"GridWorldState(2, 4, false)\\nN:     59\\n\",\"GridWorldState(10, 4, false)\\nN:     14\\n\",\"GridWorldState(9, 4, false)\\nN:     43\\n\",\"GridWorldState(3, 1, false)\\nN:    520\\n\",\"GridWorldState(10, 5, false)\\nN:      3\\n\",\"GridWorldState(2, 4, false)\\nN:     59\\n\",\"GridWorldState(5, 4, false)\\nN:     43\\n\",\"GridWorldState(1, 3, false)\\nN:    105\\n\",\"GridWorldState(7, 5, false)\\nN:     30\\n\",\"GridWorldState(7, 1, false)\\nN:    376\\n\",\"GridWorldState(8, 4, false)\\nN:    119\\n\",\"GridWorldState(10, 5, false)\\nN:      3\\n\",\"GridWorldState(4, 4, false)\\nN:     20\\n\",\"GridWorldState(4, 3, false)\\nN:     75\\n\",\"GridWorldState(9, 3, false)\\nN:    590\\n\",\"GridWorldState(4, 2, false)\\nN:    415\\n\",\"GridWorldState(4, 3, true)\\nN:      0\\n\",\"GridWorldState(7, 1, false)\\nN:    376\\n\",\"GridWorldState(9, 3, false)\\nN:    590\\n\",\"GridWorldState(5, 5, false)\\nN:     24\\n\",\"GridWorldState(1, 4, false)\\nN:     52\\n\",\"GridWorldState(6, 5, false)\\nN:     30\\n\",\"GridWorldState(9, 5, false)\\nN:      8\\n\",\"GridWorldState(4, 5, false)\\nN:     14\\n\",\"GridWorldState(4, 6, false)\\nN:      7\\n\",\"GridWorldState(6, 8, false)\\nN:      2\\n\",\"GridWorldState(8, 2, false)\\nN:    733\\n\",\"GridWorldState(4, 2, false)\\nN:    415\\n\",\"GridWorldState(2, 5, false)\\nN:     18\\n\",\"GridWorldState(2, 4, false)\\nN:     59\\n\",\"GridWorldState(9, 1, false)\\nN:    120\\n\",\"GridWorldState(3, 2, false)\\nN:    230\\n\",\"GridWorldState(6, 2, false)\\nN:   1036\\n\",\"GridWorldState(2, 4, false)\\nN:     59\\n\",\"GridWorldState(2, 3, false)\\nN:    109\\n\",\"GridWorldState(6, 1, false)\\nN:   1111\\n\",\"GridWorldState(1, 3, false)\\nN:    105\\n\",\"GridWorldState(6, 3, false)\\nN:    225\\n\",\"GridWorldState(5, 4, false)\\nN:     43\\n\",\"GridWorldState(2, 1, false)\\nN:    284\\n\",\"                       up\\nQ:  -0.88\\nN:    119\\n\",\"                     down\\nQ:   0.00\\nN:    300\\n\",\"                     left\\nQ:  -0.94\\nN:    114\\n\",\"                    right\\nQ:   1.82\\nN:   1366\\n\",\"                       up\\nQ:  -7.71\\nN:      7\\n\",\"                     down\\nQ:   0.24\\nN:    283\\n\",\"                     left\\nQ:  -1.35\\nN:     72\\n\",\"                    right\\nQ:  -1.70\\nN:     53\\n\",\"                       up\\nQ: -10.00\\nN:     19\\n\",\"                     down\\nQ: -10.00\\nN:     19\\n\",\"                     left\\nQ: -10.00\\nN:     19\\n\",\"                    right\\nQ: -10.00\\nN:     18\\n\",\"                       up\\nQ:  -0.93\\nN:     62\\n\",\"                     down\\nQ:   0.00\\nN:    128\\n\",\"                     left\\nQ:  -1.17\\nN:     59\\n\",\"                    right\\nQ:   0.78\\nN:    271\\n\",\"                       up\\nQ:  -0.54\\nN:     58\\n\",\"                     down\\nQ:   0.00\\nN:     93\\n\",\"                     left\\nQ:  -0.23\\nN:     72\\n\",\"                    right\\nQ:   2.65\\nN:   1159\\n\",\"                       up\\nQ:  -1.82\\nN:     24\\n\",\"                     down\\nQ:  -0.72\\nN:     42\\n\",\"                     left\\nQ:  -2.42\\nN:     22\\n\",\"                    right\\nQ:   2.41\\nN:    350\\n\",\"                       up\\nQ:  -1.07\\nN:     26\\n\",\"                     down\\nQ:  -1.36\\nN:     16\\n\",\"                     left\\nQ:  -5.14\\nN:      7\\n\",\"                    right\\nQ:   0.25\\nN:     59\\n\",\"                       up\\nQ:  -2.77\\nN:     27\\n\",\"                     down\\nQ:  -0.81\\nN:     60\\n\",\"                     left\\nQ:  -0.21\\nN:     80\\n\",\"                    right\\nQ:  -0.44\\nN:     63\\n\",\"                       up\\nQ:   0.00\\nN:      0\\n\",\"                     down\\nQ:   0.00\\nN:      0\\n\",\"                     left\\nQ:   0.00\\nN:      0\\n\",\"                    right\\nQ:   0.00\\nN:      0\\n\",\"                       up\\nQ:  -0.59\\nN:     27\\n\",\"                     down\\nQ:   0.00\\nN:     36\\n\",\"                     left\\nQ:  -1.04\\nN:     23\\n\",\"                    right\\nQ:   3.85\\nN:    950\\n\",\"                       up\\nQ:   3.42\\nN:    833\\n\",\"                     down\\nQ:   0.00\\nN:     40\\n\",\"                     left\\nQ:   1.64\\nN:    124\\n\",\"                    right\\nQ:   1.55\\nN:    114\\n\",\"                       up\\nQ:  -3.32\\nN:     11\\n\",\"                     down\\nQ:  -2.90\\nN:     18\\n\",\"                     left\\nQ:  -0.72\\nN:     32\\n\",\"                    right\\nQ:  -8.57\\nN:      4\\n\",\"                       up\\nQ:   3.59\\nN:    198\\n\",\"                     down\\nQ:   0.00\\nN:     28\\n\",\"                     left\\nQ:   2.83\\nN:    111\\n\",\"                    right\\nQ:   1.19\\nN:     39\\n\",\"                       up\\nQ:  -0.22\\nN:     12\\n\",\"                     down\\nQ:  -0.37\\nN:     10\\n\",\"                     left\\nQ:  -1.17\\nN:      9\\n\",\"                    right\\nQ:  -0.28\\nN:     12\\n\",\"                       up\\nQ:  -0.72\\nN:     19\\n\",\"                     down\\nQ:  -6.17\\nN:      5\\n\",\"                     left\\nQ:  -1.17\\nN:     17\\n\",\"                    right\\nQ:   3.30\\nN:    184\\n\",\"                       up\\nQ:   3.65\\nN:    151\\n\",\"                     down\\nQ:   0.00\\nN:     21\\n\",\"                     left\\nQ:   0.86\\nN:     32\\n\",\"                    right\\nQ:   4.96\\nN:    757\\n\",\"                       up\\nQ:  -1.90\\nN:      5\\n\",\"                     down\\nQ:  -0.58\\nN:      7\\n\",\"                     left\\nQ:  -3.28\\nN:      4\\n\",\"                    right\\nQ:   0.00\\nN:      8\\n\",\"                       up\\nQ:   0.19\\nN:     18\\n\",\"                     down\\nQ:   0.36\\nN:     18\\n\",\"                     left\\nQ:  -0.52\\nN:     14\\n\",\"                    right\\nQ:   5.28\\nN:    357\\n\",\"                       up\\nQ:  -0.34\\nN:     14\\n\",\"                     down\\nQ:   1.54\\nN:     24\\n\",\"                     left\\nQ:  -0.05\\nN:     14\\n\",\"                    right\\nQ:   0.00\\nN:     14\\n\",\"                       up\\nQ:  -0.13\\nN:     57\\n\",\"                     down\\nQ:   0.09\\nN:     63\\n\",\"                     left\\nQ:  -0.21\\nN:     51\\n\",\"                    right\\nQ:  -0.23\\nN:     50\\n\",\"                       up\\nQ:  -2.86\\nN:      6\\n\",\"                     down\\nQ:  -2.79\\nN:      2\\n\",\"                     left\\nQ:  -4.50\\nN:      2\\n\",\"                    right\\nQ:   0.00\\nN:      3\\n\",\"                       up\\nQ:   4.00\\nN:     90\\n\",\"                     down\\nQ:   0.00\\nN:     14\\n\",\"                     left\\nQ:   0.84\\nN:     22\\n\",\"                    right\\nQ:   3.04\\nN:     58\\n\",\"                       up\\nQ:  -0.44\\nN:     25\\n\",\"                     down\\nQ:  -0.10\\nN:     32\\n\",\"                     left\\nQ:  -0.08\\nN:     30\\n\",\"                    right\\nQ:  -0.96\\nN:     22\\n\",\"                       up\\nQ:   0.10\\nN:     85\\n\",\"                     down\\nQ:   0.00\\nN:     88\\n\",\"                     left\\nQ:  -0.06\\nN:     74\\n\",\"                    right\\nQ:  -1.15\\nN:     37\\n\",\"                       up\\nQ:  -0.07\\nN:     52\\n\",\"                     down\\nQ:   0.00\\nN:     62\\n\",\"                     left\\nQ:   0.00\\nN:     56\\n\",\"                    right\\nQ:  -0.04\\nN:     53\\n\",\"                       up\\nQ:   6.18\\nN:    606\\n\",\"                     down\\nQ:   1.14\\nN:     20\\n\",\"                     left\\nQ:   1.95\\nN:     26\\n\",\"                    right\\nQ:   4.33\\nN:     81\\n\",\"                       up\\nQ:  -0.04\\nN:     37\\n\",\"                     down\\nQ:   0.00\\nN:     42\\n\",\"                     left\\nQ:   0.00\\nN:     42\\n\",\"                    right\\nQ:  -0.28\\nN:     34\\n\",\"                       up\\nQ:  -0.30\\nN:     22\\n\",\"                     down\\nQ:   0.00\\nN:     26\\n\",\"                     left\\nQ:   0.00\\nN:     31\\n\",\"                    right\\nQ:   0.00\\nN:     26\\n\",\"                       up\\nQ:  -0.53\\nN:     11\\n\",\"                     down\\nQ:   0.00\\nN:     13\\n\",\"                     left\\nQ:   0.00\\nN:     14\\n\",\"                    right\\nQ:   0.00\\nN:     14\\n\",\"                       up\\nQ:   0.00\\nN:     10\\n\",\"                     down\\nQ:  -3.00\\nN:      3\\n\",\"                     left\\nQ:   0.00\\nN:      4\\n\",\"                    right\\nQ:   0.00\\nN:      3\\n\",\"                       up\\nQ:  -0.94\\nN:      7\\n\",\"                     down\\nQ:   0.00\\nN:      8\\n\",\"                     left\\nQ:  -0.65\\nN:      7\\n\",\"                    right\\nQ:   0.00\\nN:      8\\n\",\"                       up\\nQ:   0.52\\nN:     14\\n\",\"                     down\\nQ:   0.91\\nN:     16\\n\",\"                     left\\nQ:   1.25\\nN:     18\\n\",\"                    right\\nQ:   3.10\\nN:     39\\n\",\"                       up\\nQ:   0.00\\nN:     15\\n\",\"                     down\\nQ:  -0.40\\nN:     15\\n\",\"                     left\\nQ:   0.00\\nN:     15\\n\",\"                    right\\nQ:   0.00\\nN:     14\\n\",\"                       up\\nQ:   0.48\\nN:     10\\n\",\"                     down\\nQ:   2.28\\nN:     19\\n\",\"                     left\\nQ:   0.64\\nN:     14\\n\",\"                    right\\nQ:   7.81\\nN:    661\\n\",\"                       up\\nQ:   0.00\\nN:      5\\n\",\"                     down\\nQ:   0.00\\nN:      6\\n\",\"                     left\\nQ:   0.00\\nN:      4\\n\",\"                    right\\nQ:   0.00\\nN:      3\\n\",\"                       up\\nQ:   0.00\\nN:      5\\n\",\"                     down\\nQ:   0.00\\nN:      4\\n\",\"                     left\\nQ:  -3.19\\nN:      4\\n\",\"                    right\\nQ:  -1.35\\nN:      3\\n\",\"                       up\\nQ:  -1.21\\nN:      5\\n\",\"                     down\\nQ:   0.00\\nN:      6\\n\",\"                     left\\nQ:   0.00\\nN:      9\\n\",\"                    right\\nQ:   0.00\\nN:      5\\n\",\"                       up\\nQ:   0.00\\nN:      7\\n\",\"                     down\\nQ:   0.00\\nN:      7\\n\",\"                     left\\nQ:  -0.38\\nN:      7\\n\",\"                    right\\nQ:   0.40\\nN:      9\\n\",\"                       up\\nQ:   0.00\\nN:      4\\n\",\"                     down\\nQ:  -2.67\\nN:      2\\n\",\"                     left\\nQ:   0.00\\nN:      3\\n\",\"                    right\\nQ:   0.00\\nN:      6\\n\",\"                       up\\nQ:   0.00\\nN:      3\\n\",\"                     down\\nQ:   0.00\\nN:      3\\n\",\"                     left\\nQ:   0.00\\nN:      0\\n\",\"                    right\\nQ:   0.00\\nN:      0\\n\",\"                       up\\nQ:   4.32\\nN:     58\\n\",\"                     down\\nQ:   0.00\\nN:     16\\n\",\"                     left\\nQ:   2.68\\nN:     26\\n\",\"                    right\\nQ:   1.50\\nN:     20\\n\",\"                       up\\nQ:   1.63\\nN:     14\\n\",\"                     down\\nQ:   4.66\\nN:     42\\n\",\"                     left\\nQ:   1.93\\nN:     16\\n\",\"                    right\\nQ:   4.31\\nN:     47\\n\",\"                       up\\nQ:   7.65\\nN:    129\\n\",\"                     down\\nQ:   4.39\\nN:     27\\n\",\"                     left\\nQ:   1.46\\nN:     10\\n\",\"                    right\\nQ:   2.50\\nN:     13\\n\",\"                       up\\nQ:  -4.50\\nN:      2\\n\",\"                     down\\nQ:  -0.75\\nN:      6\\n\",\"                     left\\nQ:  -1.13\\nN:      4\\n\",\"                    right\\nQ:  -4.07\\nN:      2\\n\",\"                       up\\nQ:   0.00\\nN:      2\\n\",\"                     down\\nQ:   0.00\\nN:      0\\n\",\"                     left\\nQ:   0.00\\nN:      0\\n\",\"                    right\\nQ:   0.00\\nN:      0\\n\",\"                       up\\nQ:  -5.00\\nN:      2\\n\",\"                     down\\nQ:  -5.00\\nN:      2\\n\",\"                     left\\nQ:  -5.00\\nN:      2\\n\",\"                    right\\nQ:  -5.00\\nN:      1\\n\",\"                       up\\nQ:   0.00\\nN:      3\\n\",\"                     down\\nQ:   3.47\\nN:      8\\n\",\"                     left\\nQ:   1.61\\nN:      7\\n\",\"                    right\\nQ:   1.21\\nN:      6\\n\",\"                       up\\nQ:  10.00\\nN:    148\\n\",\"                     down\\nQ:  10.00\\nN:    148\\n\",\"                     left\\nQ:  10.00\\nN:    147\\n\",\"                    right\\nQ:  10.00\\nN:    147\\n\",\"                       up\\nQ:   0.00\\nN:      0\\n\",\"                     down\\nQ:   0.00\\nN:      0\\n\",\"                     left\\nQ:   0.00\\nN:      0\\n\",\"                    right\\nQ:   0.00\\nN:      0\\n\",\"                       up\\nQ:   2.79\\nN:     19\\n\",\"                     down\\nQ:   0.00\\nN:     12\\n\",\"                     left\\nQ:   2.33\\nN:     14\\n\",\"                    right\\nQ:   0.00\\nN:     12\\n\",\"                       up\\nQ:   0.00\\nN:      3\\n\",\"                     down\\nQ:   0.00\\nN:      4\\n\",\"                     left\\nQ:   0.00\\nN:      3\\n\",\"                    right\\nQ:   0.00\\nN:      4\\n\",\"                       up\\nQ:   0.00\\nN:      1\\n\",\"                     down\\nQ:   0.00\\nN:      0\\n\",\"                     left\\nQ:   0.00\\nN:      0\\n\",\"                    right\\nQ:   0.00\\nN:      0\\n\",\"                       up\\nQ:   4.97\\nN:     20\\n\",\"                     down\\nQ:   2.37\\nN:     13\\n\",\"                     left\\nQ:   2.82\\nN:     13\\n\",\"                    right\\nQ:   0.00\\nN:      5\\n\",\"                       up\\nQ:   0.00\\nN:      3\\n\",\"                     down\\nQ:   3.28\\nN:      2\\n\",\"                     left\\nQ:   0.00\\nN:      3\\n\",\"                    right\\nQ:   1.22\\nN:      2\\n\",\"                       up\\nQ:   0.00\\nN:      0\\n\",\"                     down\\nQ:   0.00\\nN:      0\\n\",\"                     left\\nQ:   0.00\\nN:      0\\n\",\"                    right\\nQ:   0.00\\nN:      0\\n\",\"                       up\\nQ:   0.00\\nN:      2\\n\",\"                     down\\nQ:   3.00\\nN:      3\\n\",\"                     left\\nQ:   7.03\\nN:      7\\n\",\"                    right\\nQ:   0.00\\nN:      2\\n\",\"                       up\\nQ:   0.00\\nN:      4\\n\",\"                     down\\nQ:   7.25\\nN:     24\\n\",\"                     left\\nQ:   0.00\\nN:      7\\n\",\"                    right\\nQ:   4.29\\nN:      8\\n\",\"                       up\\nQ:   0.00\\nN:      2\\n\",\"                     down\\nQ:   0.00\\nN:      2\\n\",\"                     left\\nQ:  -2.02\\nN:      2\\n\",\"                    right\\nQ:   0.00\\nN:      2\\n\",\"                       up\\nQ:   0.00\\nN:      1\\n\",\"                     down\\nQ:   0.00\\nN:      0\\n\",\"                     left\\nQ:   0.00\\nN:      0\\n\",\"                    right\\nQ:   0.00\\nN:      0\\n\",\"                       up\\nQ:   0.00\\nN:      1\\n\",\"                     down\\nQ:   0.00\\nN:      0\\n\",\"                     left\\nQ:   0.00\\nN:      0\\n\",\"                    right\\nQ:   0.00\\nN:      0\\n\",\"                       up\\nQ:   0.00\\nN:      2\\n\",\"                     down\\nQ:   2.70\\nN:      3\\n\",\"                     left\\nQ:   0.00\\nN:      2\\n\",\"                    right\\nQ:   0.00\\nN:      1\\n\",\"                       up\\nQ:   2.70\\nN:      1\\n\",\"                     down\\nQ:   0.00\\nN:      0\\n\",\"                     left\\nQ:   0.00\\nN:      0\\n\",\"                    right\\nQ:   0.00\\nN:      0\\n\",\"                       up\\nQ:   0.00\\nN:      2\\n\",\"                     down\\nQ:   0.00\\nN:      0\\n\",\"                     left\\nQ:   0.00\\nN:      0\\n\",\"                    right\\nQ:   0.00\\nN:      0\\n\",\"                       up\\nQ:   0.00\\nN:      1\\n\",\"                     down\\nQ:   0.00\\nN:      0\\n\",\"                     left\\nQ:   0.00\\nN:      0\\n\",\"                    right\\nQ:   0.00\\nN:      0\\n\",\"                       up\\nQ:   0.00\\nN:      2\\n\",\"                     down\\nQ:  -3.33\\nN:      3\\n\",\"                     left\\nQ:   0.00\\nN:      0\\n\",\"                    right\\nQ:   0.00\\nN:      0\\n\",\"                       up\\nQ:   0.00\\nN:      3\\n\",\"                     down\\nQ:  -3.65\\nN:      1\\n\",\"                     left\\nQ:   0.00\\nN:      0\\n\",\"                    right\\nQ:   0.00\\nN:      0\\n\",\"                       up\\nQ:   0.00\\nN:      3\\n\",\"                     down\\nQ:   2.03\\nN:      4\\n\",\"                     left\\nQ:   0.00\\nN:      2\\n\",\"                    right\\nQ:   0.00\\nN:      5\\n\",\"                       up\\nQ:   0.00\\nN:      0\\n\",\"                     down\\nQ:   0.00\\nN:      0\\n\",\"                     left\\nQ:   0.00\\nN:      0\\n\",\"                    right\\nQ:   0.00\\nN:      0\\n\",\"                       up\\nQ:   0.00\\nN:      1\\n\",\"                     down\\nQ:   0.00\\nN:      0\\n\",\"                     left\\nQ:   0.00\\nN:      0\\n\",\"                    right\\nQ:   0.00\\nN:      0\\n\",\"                       up\\nQ:   0.00\\nN:      1\\n\",\"                     down\\nQ:   0.00\\nN:      0\\n\",\"                     left\\nQ:   0.00\\nN:      0\\n\",\"                    right\\nQ:   0.00\\nN:      0\\n\",\"                       up\\nQ:   0.00\\nN:      0\\n\",\"                     down\\nQ:   0.00\\nN:      0\\n\",\"                     left\\nQ:   0.00\\nN:      0\\n\",\"                    right\\nQ:   0.00\\nN:      0\\n\",\"                       up\\nQ:   0.00\\nN:      2\\n\",\"                     down\\nQ:   0.00\\nN:      1\\n\",\"                     left\\nQ:   0.00\\nN:      0\\n\",\"                    right\\nQ:   0.00\\nN:      0\\n\",\"                       up\\nQ:   0.00\\nN:      2\\n\",\"                     down\\nQ:   0.00\\nN:      0\\n\",\"                     left\\nQ:   0.00\\nN:      0\\n\",\"                    right\\nQ:   0.00\\nN:      0\\n\",\"                       up\\nQ:   0.00\\nN:      0\\n\",\"                     down\\nQ:   0.00\\nN:      0\\n\",\"                     left\\nQ:   0.00\\nN:      0\\n\",\"                    right\\nQ:   0.00\\nN:      0\\n\",\"                       up\\nQ:   0.00\\nN:      0\\n\",\"                     down\\nQ:   0.00\\nN:      0\\n\",\"                     left\\nQ:   0.00\\nN:      0\\n\",\"                    right\\nQ:   0.00\\nN:      0\\n\",\"                       up\\nQ:   0.00\\nN:      1\\n\",\"                     down\\nQ:   0.00\\nN:      0\\n\",\"                     left\\nQ:   0.00\\nN:      0\\n\",\"                    right\\nQ:   0.00\\nN:      0\\n\",\"                       up\\nQ:   0.00\\nN:      0\\n\",\"                     down\\nQ:   0.00\\nN:      0\\n\",\"                     left\\nQ:   0.00\\nN:      0\\n\",\"                    right\\nQ:   0.00\\nN:      0\\n\",\"                       up\\nQ:   0.00\\nN:      0\\n\",\"                     down\\nQ:   0.00\\nN:      0\\n\",\"                     left\\nQ:   0.00\\nN:      0\\n\",\"                    right\\nQ:   0.00\\nN:      0\\n\",\"                       up\\nQ:   0.00\\nN:      0\\n\",\"                     down\\nQ:   0.00\\nN:      0\\n\",\"                     left\\nQ:   0.00\\nN:      0\\n\",\"                    right\\nQ:   0.00\\nN:      0\\n\"],\"tooltip\":[\"GridWorldState(4, 1, false)\\nN: 1899\\n\",\"GridWorldState(9, 2, false)\\nN: 179\\n\",\"GridWorldState(8, 3, false)\\nN: 704\\n\",\"GridWorldState(8, 2, false)\\nN: 733\\n\",\"GridWorldState(8, 2, false)\\nN: 733\\n\",\"GridWorldState(10, 3, false)\\nN: 14\\n\",\"GridWorldState(7, 6, false)\\nN: 15\\n\",\"GridWorldState(9, 4, false)\\nN: 43\\n\",\"GridWorldState(5, 2, false)\\nN: 438\\n\",\"GridWorldState(2, 5, false)\\nN: 18\\n\",\"GridWorldState(5, 2, false)\\nN: 438\\n\",\"GridWorldState(6, 2, false)\\nN: 1036\\n\",\"GridWorldState(5, 6, false)\\nN: 13\\n\",\"GridWorldState(5, 4, false)\\nN: 43\\n\",\"GridWorldState(10, 1, false)\\nN: 57\\n\",\"GridWorldState(9, 3, false)\\nN: 590\\n\",\"GridWorldState(5, 3, false)\\nN: 108\\n\",\"GridWorldState(2, 4, false)\\nN: 59\\n\",\"GridWorldState(2, 2, false)\\nN: 221\\n\",\"GridWorldState(2, 3, false)\\nN: 109\\n\",\"GridWorldState(2, 8, false)\\nN: 0\\n\",\"GridWorldState(4, 3, false)\\nN: 75\\n\",\"GridWorldState(4, 6, true)\\nN: 0\\n\",\"GridWorldState(10, 1, false)\\nN: 57\\n\",\"GridWorldState(3, 5, false)\\nN: 8\\n\",\"GridWorldState(2, 1, false)\\nN: 284\\n\",\"GridWorldState(9, 1, false)\\nN: 120\\n\",\"GridWorldState(4, 1, false)\\nN: 1899\\n\",\"GridWorldState(3, 4, false)\\nN: 25\\n\",\"GridWorldState(2, 2, false)\\nN: 221\\n\",\"GridWorldState(4, 6, true)\\nN: 0\\n\",\"GridWorldState(6, 1, false)\\nN: 1111\\n\",\"GridWorldState(9, 3, true)\\nN: 0\\n\",\"GridWorldState(7, 4, false)\\nN: 87\\n\",\"GridWorldState(7, 5, false)\\nN: 30\\n\",\"GridWorldState(5, 4, false)\\nN: 43\\n\",\"GridWorldState(4, 4, false)\\nN: 20\\n\",\"GridWorldState(8, 2, false)\\nN: 733\\n\",\"GridWorldState(4, 2, false)\\nN: 415\\n\",\"GridWorldState(7, 1, false)\\nN: 376\\n\",\"GridWorldState(10, 1, false)\\nN: 57\\n\",\"GridWorldState(10, 4, false)\\nN: 14\\n\",\"GridWorldState(8, 4, false)\\nN: 119\\n\",\"GridWorldState(4, 4, false)\\nN: 20\\n\",\"GridWorldState(6, 1, false)\\nN: 1111\\n\",\"GridWorldState(1, 1, false)\\nN: 223\\n\",\"GridWorldState(7, 3, false)\\nN: 407\\n\",\"GridWorldState(4, 3, false)\\nN: 75\\n\",\"GridWorldState(8, 4, false)\\nN: 119\\n\",\"GridWorldState(8, 1, false)\\nN: 184\\n\",\"GridWorldState(5, 5, false)\\nN: 24\\n\",\"GridWorldState(9, 4, false)\\nN: 43\\n\",\"GridWorldState(7, 3, false)\\nN: 407\\n\",\"GridWorldState(7, 4, false)\\nN: 87\\n\",\"GridWorldState(1, 2, false)\\nN: 155\\n\",\"GridWorldState(3, 6, false)\\nN: 2\\n\",\"GridWorldState(3, 2, false)\\nN: 230\\n\",\"GridWorldState(8, 3, false)\\nN: 704\\n\",\"GridWorldState(5, 5, false)\\nN: 24\\n\",\"GridWorldState(8, 5, false)\\nN: 24\\n\",\"GridWorldState(3, 3, false)\\nN: 65\\n\",\"GridWorldState(6, 3, false)\\nN: 225\\n\",\"GridWorldState(4, 6, false)\\nN: 7\\n\",\"GridWorldState(5, 1, false)\\nN: 1382\\n\",\"GridWorldState(3, 1, false)\\nN: 520\\n\",\"GridWorldState(8, 3, false)\\nN: 704\\n\",\"GridWorldState(3, 5, false)\\nN: 8\\n\",\"GridWorldState(4, 5, false)\\nN: 14\\n\",\"GridWorldState(4, 1, false)\\nN: 1899\\n\",\"GridWorldState(7, 5, false)\\nN: 30\\n\",\"GridWorldState(8, 2, false)\\nN: 733\\n\",\"GridWorldState(3, 3, false)\\nN: 65\\n\",\"GridWorldState(8, 4, false)\\nN: 119\\n\",\"GridWorldState(8, 4, false)\\nN: 119\\n\",\"GridWorldState(9, 4, false)\\nN: 43\\n\",\"GridWorldState(2, 3, false)\\nN: 109\\n\",\"GridWorldState(10, 2, false)\\nN: 51\\n\",\"GridWorldState(8, 1, false)\\nN: 184\\n\",\"GridWorldState(6, 3, false)\\nN: 225\\n\",\"GridWorldState(6, 6, false)\\nN: 16\\n\",\"GridWorldState(7, 2, false)\\nN: 961\\n\",\"GridWorldState(9, 2, false)\\nN: 179\\n\",\"GridWorldState(8, 1, false)\\nN: 184\\n\",\"GridWorldState(4, 3, false)\\nN: 75\\n\",\"GridWorldState(2, 3, false)\\nN: 109\\n\",\"GridWorldState(3, 1, false)\\nN: 520\\n\",\"GridWorldState(9, 3, false)\\nN: 590\\n\",\"GridWorldState(8, 1, false)\\nN: 184\\n\",\"GridWorldState(8, 1, false)\\nN: 184\\n\",\"GridWorldState(2, 6, false)\\nN: 6\\n\",\"GridWorldState(3, 4, false)\\nN: 25\\n\",\"GridWorldState(1, 3, false)\\nN: 105\\n\",\"GridWorldState(3, 3, false)\\nN: 65\\n\",\"GridWorldState(9, 1, false)\\nN: 120\\n\",\"GridWorldState(5, 3, false)\\nN: 108\\n\",\"GridWorldState(5, 3, false)\\nN: 108\\n\",\"GridWorldState(9, 1, false)\\nN: 120\\n\",\"GridWorldState(6, 1, false)\\nN: 1111\\n\",\"GridWorldState(1, 1, false)\\nN: 223\\n\",\"GridWorldState(4, 2, false)\\nN: 415\\n\",\"GridWorldState(2, 4, false)\\nN: 59\\n\",\"GridWorldState(4, 3, false)\\nN: 75\\n\",\"GridWorldState(2, 3, false)\\nN: 109\\n\",\"GridWorldState(4, 3, false)\\nN: 75\\n\",\"GridWorldState(6, 7, false)\\nN: 4\\n\",\"GridWorldState(7, 2, false)\\nN: 961\\n\",\"GridWorldState(5, 2, false)\\nN: 438\\n\",\"GridWorldState(6, 5, false)\\nN: 30\\n\",\"GridWorldState(8, 4, false)\\nN: 119\\n\",\"GridWorldState(7, 2, false)\\nN: 961\\n\",\"GridWorldState(6, 4, false)\\nN: 66\\n\",\"GridWorldState(2, 6, false)\\nN: 6\\n\",\"GridWorldState(1, 2, false)\\nN: 155\\n\",\"GridWorldState(7, 4, false)\\nN: 87\\n\",\"GridWorldState(5, 4, false)\\nN: 43\\n\",\"GridWorldState(7, 1, false)\\nN: 376\\n\",\"GridWorldState(4, 4, false)\\nN: 20\\n\",\"GridWorldState(10, 1, false)\\nN: 57\\n\",\"GridWorldState(1, 2, false)\\nN: 155\\n\",\"GridWorldState(1, 1, false)\\nN: 223\\n\",\"GridWorldState(4, 6, false)\\nN: 7\\n\",\"GridWorldState(7, 4, false)\\nN: 87\\n\",\"GridWorldState(3, 4, false)\\nN: 25\\n\",\"GridWorldState(3, 2, false)\\nN: 230\\n\",\"GridWorldState(3, 4, false)\\nN: 25\\n\",\"GridWorldState(4, 1, false)\\nN: 1899\\n\",\"GridWorldState(5, 3, false)\\nN: 108\\n\",\"GridWorldState(7, 3, false)\\nN: 407\\n\",\"GridWorldState(6, 7, false)\\nN: 4\\n\",\"GridWorldState(4, 3, true)\\nN: 0\\n\",\"GridWorldState(4, 3, false)\\nN: 75\\n\",\"GridWorldState(5, 3, false)\\nN: 108\\n\",\"GridWorldState(7, 5, false)\\nN: 30\\n\",\"GridWorldState(10, 3, false)\\nN: 14\\n\",\"GridWorldState(7, 9, false)\\nN: 0\\n\",\"GridWorldState(2, 2, false)\\nN: 221\\n\",\"GridWorldState(4, 6, false)\\nN: 7\\n\",\"GridWorldState(6, 6, false)\\nN: 16\\n\",\"GridWorldState(7, 1, false)\\nN: 376\\n\",\"GridWorldState(3, 4, false)\\nN: 25\\n\",\"GridWorldState(5, 4, false)\\nN: 43\\n\",\"GridWorldState(9, 5, false)\\nN: 8\\n\",\"GridWorldState(8, 3, false)\\nN: 704\\n\",\"GridWorldState(1, 5, false)\\nN: 14\\n\",\"GridWorldState(2, 7, false)\\nN: 1\\n\",\"GridWorldState(9, 3, false)\\nN: 590\\n\",\"GridWorldState(2, 5, false)\\nN: 18\\n\",\"GridWorldState(7, 3, false)\\nN: 407\\n\",\"GridWorldState(8, 8, false)\\nN: 0\\n\",\"GridWorldState(7, 5, false)\\nN: 30\\n\",\"GridWorldState(6, 2, false)\\nN: 1036\\n\",\"GridWorldState(5, 5, false)\\nN: 24\\n\",\"GridWorldState(4, 2, false)\\nN: 415\\n\",\"GridWorldState(7, 2, false)\\nN: 961\\n\",\"GridWorldState(4, 1, false)\\nN: 1899\\n\",\"GridWorldState(5, 3, false)\\nN: 108\\n\",\"GridWorldState(5, 2, false)\\nN: 438\\n\",\"GridWorldState(9, 2, false)\\nN: 179\\n\",\"GridWorldState(5, 2, false)\\nN: 438\\n\",\"GridWorldState(8, 5, false)\\nN: 24\\n\",\"GridWorldState(4, 2, false)\\nN: 415\\n\",\"GridWorldState(8, 3, false)\\nN: 704\\n\",\"GridWorldState(9, 2, false)\\nN: 179\\n\",\"GridWorldState(2, 4, false)\\nN: 59\\n\",\"GridWorldState(6, 2, false)\\nN: 1036\\n\",\"GridWorldState(7, 6, false)\\nN: 15\\n\",\"GridWorldState(1, 3, false)\\nN: 105\\n\",\"GridWorldState(7, 1, false)\\nN: 376\\n\",\"GridWorldState(9, 3, false)\\nN: 590\\n\",\"GridWorldState(4, 2, false)\\nN: 415\\n\",\"GridWorldState(8, 4, false)\\nN: 119\\n\",\"GridWorldState(5, 1, false)\\nN: 1382\\n\",\"GridWorldState(1, 2, false)\\nN: 155\\n\",\"GridWorldState(7, 5, false)\\nN: 30\\n\",\"GridWorldState(10, 2, false)\\nN: 51\\n\",\"GridWorldState(1, 4, false)\\nN: 52\\n\",\"GridWorldState(6, 10, false)\\nN: 0\\n\",\"GridWorldState(6, 4, false)\\nN: 66\\n\",\"GridWorldState(2, 1, false)\\nN: 284\\n\",\"GridWorldState(1, 3, false)\\nN: 105\\n\",\"GridWorldState(3, 1, false)\\nN: 520\\n\",\"GridWorldState(5, 2, false)\\nN: 438\\n\",\"GridWorldState(7, 7, false)\\nN: 2\\n\",\"GridWorldState(2, 3, false)\\nN: 109\\n\",\"GridWorldState(5, 1, false)\\nN: 1382\\n\",\"GridWorldState(5, 3, false)\\nN: 108\\n\",\"GridWorldState(8, 5, false)\\nN: 24\\n\",\"GridWorldState(10, 2, false)\\nN: 51\\n\",\"GridWorldState(3, 4, false)\\nN: 25\\n\",\"GridWorldState(1, 3, false)\\nN: 105\\n\",\"GridWorldState(3, 2, false)\\nN: 230\\n\",\"GridWorldState(6, 4, false)\\nN: 66\\n\",\"GridWorldState(6, 6, false)\\nN: 16\\n\",\"GridWorldState(3, 2, false)\\nN: 230\\n\",\"GridWorldState(9, 3, true)\\nN: 0\\n\",\"GridWorldState(6, 2, false)\\nN: 1036\\n\",\"GridWorldState(6, 4, false)\\nN: 66\\n\",\"GridWorldState(2, 1, false)\\nN: 284\\n\",\"GridWorldState(2, 2, false)\\nN: 221\\n\",\"GridWorldState(3, 2, false)\\nN: 230\\n\",\"GridWorldState(2, 5, false)\\nN: 18\\n\",\"GridWorldState(10, 4, false)\\nN: 14\\n\",\"GridWorldState(9, 5, false)\\nN: 8\\n\",\"GridWorldState(9, 1, false)\\nN: 120\\n\",\"GridWorldState(1, 2, false)\\nN: 155\\n\",\"GridWorldState(4, 5, false)\\nN: 14\\n\",\"GridWorldState(7, 3, false)\\nN: 407\\n\",\"GridWorldState(8, 2, false)\\nN: 733\\n\",\"GridWorldState(6, 3, false)\\nN: 225\\n\",\"GridWorldState(1, 5, false)\\nN: 14\\n\",\"GridWorldState(5, 1, false)\\nN: 1382\\n\",\"GridWorldState(5, 2, false)\\nN: 438\\n\",\"GridWorldState(2, 3, false)\\nN: 109\\n\",\"GridWorldState(1, 2, false)\\nN: 155\\n\",\"GridWorldState(7, 3, false)\\nN: 407\\n\",\"GridWorldState(9, 3, true)\\nN: 0\\n\",\"GridWorldState(2, 5, false)\\nN: 18\\n\",\"GridWorldState(4, 3, false)\\nN: 75\\n\",\"GridWorldState(5, 1, false)\\nN: 1382\\n\",\"GridWorldState(8, 4, false)\\nN: 119\\n\",\"GridWorldState(7, 2, false)\\nN: 961\\n\",\"GridWorldState(1, 4, false)\\nN: 52\\n\",\"GridWorldState(8, 4, false)\\nN: 119\\n\",\"GridWorldState(4, 3, false)\\nN: 75\\n\",\"GridWorldState(6, 3, false)\\nN: 225\\n\",\"GridWorldState(6, 1, false)\\nN: 1111\\n\",\"GridWorldState(5, 2, false)\\nN: 438\\n\",\"GridWorldState(5, 6, false)\\nN: 13\\n\",\"GridWorldState(7, 3, false)\\nN: 407\\n\",\"GridWorldState(7, 1, false)\\nN: 376\\n\",\"GridWorldState(10, 2, false)\\nN: 51\\n\",\"GridWorldState(9, 4, false)\\nN: 43\\n\",\"GridWorldState(2, 2, false)\\nN: 221\\n\",\"GridWorldState(5, 6, false)\\nN: 13\\n\",\"GridWorldState(6, 1, false)\\nN: 1111\\n\",\"GridWorldState(7, 4, false)\\nN: 87\\n\",\"GridWorldState(3, 1, false)\\nN: 520\\n\",\"GridWorldState(2, 2, false)\\nN: 221\\n\",\"GridWorldState(1, 3, false)\\nN: 105\\n\",\"GridWorldState(7, 4, false)\\nN: 87\\n\",\"GridWorldState(4, 5, false)\\nN: 14\\n\",\"GridWorldState(9, 4, false)\\nN: 43\\n\",\"GridWorldState(3, 3, false)\\nN: 65\\n\",\"GridWorldState(4, 3, false)\\nN: 75\\n\",\"GridWorldState(5, 4, false)\\nN: 43\\n\",\"GridWorldState(9, 3, false)\\nN: 590\\n\",\"GridWorldState(6, 7, false)\\nN: 4\\n\",\"GridWorldState(7, 6, false)\\nN: 15\\n\",\"GridWorldState(1, 1, false)\\nN: 223\\n\",\"GridWorldState(6, 4, false)\\nN: 66\\n\",\"GridWorldState(3, 1, false)\\nN: 520\\n\",\"GridWorldState(4, 2, false)\\nN: 415\\n\",\"GridWorldState(6, 5, false)\\nN: 30\\n\",\"GridWorldState(7, 3, false)\\nN: 407\\n\",\"GridWorldState(8, 2, false)\\nN: 733\\n\",\"GridWorldState(6, 6, false)\\nN: 16\\n\",\"GridWorldState(6, 2, false)\\nN: 1036\\n\",\"GridWorldState(8, 6, false)\\nN: 10\\n\",\"GridWorldState(7, 2, false)\\nN: 961\\n\",\"GridWorldState(2, 4, false)\\nN: 59\\n\",\"GridWorldState(3, 1, false)\\nN: 520\\n\",\"GridWorldState(7, 4, false)\\nN: 87\\n\",\"GridWorldState(6, 5, false)\\nN: 30\\n\",\"GridWorldState(7, 2, false)\\nN: 961\\n\",\"GridWorldState(7, 5, false)\\nN: 30\\n\",\"GridWorldState(2, 3, false)\\nN: 109\\n\",\"GridWorldState(4, 4, false)\\nN: 20\\n\",\"GridWorldState(7, 1, false)\\nN: 376\\n\",\"GridWorldState(9, 6, false)\\nN: 1\\n\",\"GridWorldState(9, 1, false)\\nN: 120\\n\",\"GridWorldState(6, 6, false)\\nN: 16\\n\",\"GridWorldState(7, 6, false)\\nN: 15\\n\",\"GridWorldState(8, 1, false)\\nN: 184\\n\",\"GridWorldState(7, 3, false)\\nN: 407\\n\",\"GridWorldState(7, 5, false)\\nN: 30\\n\",\"GridWorldState(1, 5, false)\\nN: 14\\n\",\"GridWorldState(2, 3, false)\\nN: 109\\n\",\"GridWorldState(10, 1, false)\\nN: 57\\n\",\"GridWorldState(4, 3, false)\\nN: 75\\n\",\"GridWorldState(8, 6, false)\\nN: 10\\n\",\"GridWorldState(4, 5, false)\\nN: 14\\n\",\"GridWorldState(7, 3, false)\\nN: 407\\n\",\"GridWorldState(6, 6, false)\\nN: 16\\n\",\"GridWorldState(2, 1, false)\\nN: 284\\n\",\"GridWorldState(8, 3, false)\\nN: 704\\n\",\"GridWorldState(7, 1, false)\\nN: 376\\n\",\"GridWorldState(5, 5, false)\\nN: 24\\n\",\"GridWorldState(5, 3, false)\\nN: 108\\n\",\"GridWorldState(6, 1, false)\\nN: 1111\\n\",\"GridWorldState(6, 2, false)\\nN: 1036\\n\",\"GridWorldState(3, 4, false)\\nN: 25\\n\",\"GridWorldState(3, 6, false)\\nN: 2\\n\",\"GridWorldState(6, 5, false)\\nN: 30\\n\",\"GridWorldState(4, 1, false)\\nN: 1899\\n\",\"GridWorldState(2, 3, false)\\nN: 109\\n\",\"GridWorldState(6, 3, false)\\nN: 225\\n\",\"GridWorldState(6, 1, false)\\nN: 1111\\n\",\"GridWorldState(6, 2, false)\\nN: 1036\\n\",\"GridWorldState(3, 3, false)\\nN: 65\\n\",\"GridWorldState(1, 7, false)\\nN: 0\\n\",\"GridWorldState(1, 4, false)\\nN: 52\\n\",\"GridWorldState(6, 1, false)\\nN: 1111\\n\",\"GridWorldState(2, 4, false)\\nN: 59\\n\",\"GridWorldState(7, 2, false)\\nN: 961\\n\",\"GridWorldState(5, 5, false)\\nN: 24\\n\",\"GridWorldState(8, 1, false)\\nN: 184\\n\",\"GridWorldState(3, 2, false)\\nN: 230\\n\",\"GridWorldState(5, 6, false)\\nN: 13\\n\",\"GridWorldState(8, 6, false)\\nN: 10\\n\",\"GridWorldState(7, 4, false)\\nN: 87\\n\",\"GridWorldState(9, 2, false)\\nN: 179\\n\",\"GridWorldState(1, 3, false)\\nN: 105\\n\",\"GridWorldState(9, 2, false)\\nN: 179\\n\",\"GridWorldState(10, 4, false)\\nN: 14\\n\",\"GridWorldState(5, 4, false)\\nN: 43\\n\",\"GridWorldState(6, 9, false)\\nN: 1\\n\",\"GridWorldState(5, 2, false)\\nN: 438\\n\",\"GridWorldState(2, 3, false)\\nN: 109\\n\",\"GridWorldState(5, 2, false)\\nN: 438\\n\",\"GridWorldState(6, 4, false)\\nN: 66\\n\",\"GridWorldState(3, 3, false)\\nN: 65\\n\",\"GridWorldState(6, 3, false)\\nN: 225\\n\",\"GridWorldState(7, 3, false)\\nN: 407\\n\",\"GridWorldState(2, 1, false)\\nN: 284\\n\",\"GridWorldState(5, 1, false)\\nN: 1382\\n\",\"GridWorldState(6, 4, false)\\nN: 66\\n\",\"GridWorldState(3, 4, false)\\nN: 25\\n\",\"GridWorldState(6, 6, false)\\nN: 16\\n\",\"GridWorldState(8, 1, false)\\nN: 184\\n\",\"GridWorldState(4, 6, false)\\nN: 7\\n\",\"GridWorldState(5, 8, false)\\nN: 1\\n\",\"GridWorldState(4, 1, false)\\nN: 1899\\n\",\"GridWorldState(10, 3, false)\\nN: 14\\n\",\"GridWorldState(7, 3, false)\\nN: 407\\n\",\"GridWorldState(5, 4, false)\\nN: 43\\n\",\"GridWorldState(4, 6, false)\\nN: 7\\n\",\"GridWorldState(3, 5, false)\\nN: 8\\n\",\"GridWorldState(10, 4, false)\\nN: 14\\n\",\"GridWorldState(10, 2, false)\\nN: 51\\n\",\"GridWorldState(8, 3, false)\\nN: 704\\n\",\"GridWorldState(9, 1, false)\\nN: 120\\n\",\"GridWorldState(3, 1, false)\\nN: 520\\n\",\"GridWorldState(5, 2, false)\\nN: 438\\n\",\"GridWorldState(2, 2, false)\\nN: 221\\n\",\"GridWorldState(6, 6, false)\\nN: 16\\n\",\"GridWorldState(1, 5, false)\\nN: 14\\n\",\"GridWorldState(9, 3, true)\\nN: 0\\n\",\"GridWorldState(8, 3, false)\\nN: 704\\n\",\"GridWorldState(4, 6, true)\\nN: 0\\n\",\"GridWorldState(10, 4, false)\\nN: 14\\n\",\"GridWorldState(6, 3, false)\\nN: 225\\n\",\"GridWorldState(2, 3, false)\\nN: 109\\n\",\"GridWorldState(2, 4, false)\\nN: 59\\n\",\"GridWorldState(3, 7, false)\\nN: 1\\n\",\"GridWorldState(3, 2, false)\\nN: 230\\n\",\"GridWorldState(1, 2, false)\\nN: 155\\n\",\"GridWorldState(10, 5, false)\\nN: 3\\n\",\"GridWorldState(8, 2, false)\\nN: 733\\n\",\"GridWorldState(1, 4, false)\\nN: 52\\n\",\"GridWorldState(6, 5, false)\\nN: 30\\n\",\"GridWorldState(5, 5, false)\\nN: 24\\n\",\"GridWorldState(8, 6, false)\\nN: 10\\n\",\"GridWorldState(6, 4, false)\\nN: 66\\n\",\"GridWorldState(6, 2, false)\\nN: 1036\\n\",\"GridWorldState(3, 8, false)\\nN: 0\\n\",\"GridWorldState(3, 5, false)\\nN: 8\\n\",\"GridWorldState(1, 2, false)\\nN: 155\\n\",\"GridWorldState(1, 3, false)\\nN: 105\\n\",\"GridWorldState(1, 1, false)\\nN: 223\\n\",\"GridWorldState(6, 6, false)\\nN: 16\\n\",\"GridWorldState(7, 1, false)\\nN: 376\\n\",\"GridWorldState(2, 5, false)\\nN: 18\\n\",\"GridWorldState(10, 2, false)\\nN: 51\\n\",\"GridWorldState(4, 1, false)\\nN: 1899\\n\",\"GridWorldState(5, 5, false)\\nN: 24\\n\",\"GridWorldState(2, 5, false)\\nN: 18\\n\",\"GridWorldState(7, 8, false)\\nN: 1\\n\",\"GridWorldState(2, 2, false)\\nN: 221\\n\",\"GridWorldState(6, 2, false)\\nN: 1036\\n\",\"GridWorldState(2, 1, false)\\nN: 284\\n\",\"GridWorldState(1, 5, false)\\nN: 14\\n\",\"GridWorldState(8, 3, false)\\nN: 704\\n\",\"GridWorldState(5, 5, false)\\nN: 24\\n\",\"GridWorldState(9, 1, false)\\nN: 120\\n\",\"GridWorldState(4, 3, true)\\nN: 0\\n\",\"GridWorldState(4, 2, false)\\nN: 415\\n\",\"GridWorldState(2, 1, false)\\nN: 284\\n\",\"GridWorldState(9, 1, false)\\nN: 120\\n\",\"GridWorldState(8, 7, false)\\nN: 1\\n\",\"GridWorldState(2, 5, false)\\nN: 18\\n\",\"GridWorldState(7, 5, false)\\nN: 30\\n\",\"GridWorldState(6, 5, false)\\nN: 30\\n\",\"GridWorldState(4, 1, false)\\nN: 1899\\n\",\"GridWorldState(2, 4, false)\\nN: 59\\n\",\"GridWorldState(10, 1, false)\\nN: 57\\n\",\"GridWorldState(9, 3, false)\\nN: 590\\n\",\"GridWorldState(6, 1, false)\\nN: 1111\\n\",\"GridWorldState(2, 4, false)\\nN: 59\\n\",\"GridWorldState(3, 5, false)\\nN: 8\\n\",\"GridWorldState(3, 3, false)\\nN: 65\\n\",\"GridWorldState(5, 6, false)\\nN: 13\\n\",\"GridWorldState(8, 4, false)\\nN: 119\\n\",\"GridWorldState(4, 3, true)\\nN: 0\\n\",\"GridWorldState(8, 2, false)\\nN: 733\\n\",\"GridWorldState(1, 3, false)\\nN: 105\\n\",\"GridWorldState(6, 5, false)\\nN: 30\\n\",\"GridWorldState(6, 2, false)\\nN: 1036\\n\",\"GridWorldState(3, 2, false)\\nN: 230\\n\",\"GridWorldState(5, 1, false)\\nN: 1382\\n\",\"GridWorldState(5, 3, false)\\nN: 108\\n\",\"GridWorldState(7, 6, false)\\nN: 15\\n\",\"GridWorldState(1, 3, false)\\nN: 105\\n\",\"GridWorldState(7, 4, false)\\nN: 87\\n\",\"GridWorldState(8, 2, false)\\nN: 733\\n\",\"GridWorldState(8, 2, false)\\nN: 733\\n\",\"GridWorldState(3, 1, false)\\nN: 520\\n\",\"GridWorldState(9, 6, false)\\nN: 1\\n\",\"GridWorldState(5, 7, false)\\nN: 5\\n\",\"GridWorldState(4, 3, false)\\nN: 75\\n\",\"GridWorldState(1, 5, false)\\nN: 14\\n\",\"GridWorldState(3, 2, false)\\nN: 230\\n\",\"GridWorldState(9, 4, false)\\nN: 43\\n\",\"GridWorldState(10, 4, false)\\nN: 14\\n\",\"GridWorldState(2, 2, false)\\nN: 221\\n\",\"GridWorldState(1, 4, false)\\nN: 52\\n\",\"GridWorldState(8, 2, false)\\nN: 733\\n\",\"GridWorldState(7, 2, false)\\nN: 961\\n\",\"GridWorldState(5, 1, false)\\nN: 1382\\n\",\"GridWorldState(4, 1, false)\\nN: 1899\\n\",\"GridWorldState(3, 1, false)\\nN: 520\\n\",\"GridWorldState(6, 1, false)\\nN: 1111\\n\",\"GridWorldState(3, 2, false)\\nN: 230\\n\",\"GridWorldState(7, 1, false)\\nN: 376\\n\",\"GridWorldState(4, 1, false)\\nN: 1899\\n\",\"GridWorldState(5, 5, false)\\nN: 24\\n\",\"GridWorldState(5, 3, false)\\nN: 108\\n\",\"GridWorldState(2, 2, false)\\nN: 221\\n\",\"GridWorldState(3, 2, false)\\nN: 230\\n\",\"GridWorldState(7, 6, false)\\nN: 15\\n\",\"GridWorldState(1, 2, false)\\nN: 155\\n\",\"GridWorldState(7, 5, false)\\nN: 30\\n\",\"GridWorldState(5, 2, false)\\nN: 438\\n\",\"GridWorldState(8, 5, false)\\nN: 24\\n\",\"GridWorldState(4, 2, false)\\nN: 415\\n\",\"GridWorldState(10, 1, false)\\nN: 57\\n\",\"GridWorldState(1, 4, false)\\nN: 52\\n\",\"GridWorldState(7, 6, false)\\nN: 15\\n\",\"GridWorldState(8, 5, false)\\nN: 24\\n\",\"GridWorldState(9, 2, false)\\nN: 179\\n\",\"GridWorldState(10, 2, false)\\nN: 51\\n\",\"GridWorldState(8, 5, false)\\nN: 24\\n\",\"GridWorldState(4, 3, false)\\nN: 75\\n\",\"GridWorldState(6, 8, false)\\nN: 2\\n\",\"GridWorldState(1, 4, false)\\nN: 52\\n\",\"GridWorldState(10, 3, false)\\nN: 14\\n\",\"GridWorldState(8, 5, false)\\nN: 24\\n\",\"GridWorldState(9, 2, false)\\nN: 179\\n\",\"GridWorldState(8, 4, false)\\nN: 119\\n\",\"GridWorldState(2, 2, false)\\nN: 221\\n\",\"GridWorldState(8, 1, false)\\nN: 184\\n\",\"GridWorldState(6, 6, false)\\nN: 16\\n\",\"GridWorldState(1, 2, false)\\nN: 155\\n\",\"GridWorldState(2, 2, false)\\nN: 221\\n\",\"GridWorldState(3, 2, false)\\nN: 230\\n\",\"GridWorldState(1, 1, false)\\nN: 223\\n\",\"GridWorldState(1, 6, false)\\nN: 1\\n\",\"GridWorldState(4, 4, false)\\nN: 20\\n\",\"GridWorldState(7, 2, false)\\nN: 961\\n\",\"GridWorldState(1, 1, false)\\nN: 223\\n\",\"GridWorldState(6, 2, false)\\nN: 1036\\n\",\"GridWorldState(6, 4, false)\\nN: 66\\n\",\"GridWorldState(2, 3, false)\\nN: 109\\n\",\"GridWorldState(6, 3, false)\\nN: 225\\n\",\"GridWorldState(2, 1, false)\\nN: 284\\n\",\"GridWorldState(2, 2, false)\\nN: 221\\n\",\"GridWorldState(9, 3, false)\\nN: 590\\n\",\"GridWorldState(4, 1, false)\\nN: 1899\\n\",\"GridWorldState(5, 6, false)\\nN: 13\\n\",\"GridWorldState(8, 7, false)\\nN: 1\\n\",\"GridWorldState(8, 1, false)\\nN: 184\\n\",\"GridWorldState(5, 4, false)\\nN: 43\\n\",\"GridWorldState(1, 1, false)\\nN: 223\\n\",\"GridWorldState(4, 5, false)\\nN: 14\\n\",\"GridWorldState(6, 2, false)\\nN: 1036\\n\",\"GridWorldState(8, 6, false)\\nN: 10\\n\",\"GridWorldState(9, 5, false)\\nN: 8\\n\",\"GridWorldState(5, 4, false)\\nN: 43\\n\",\"GridWorldState(5, 6, false)\\nN: 13\\n\",\"GridWorldState(4, 4, false)\\nN: 20\\n\",\"GridWorldState(10, 6, false)\\nN: 0\\n\",\"GridWorldState(7, 2, false)\\nN: 961\\n\",\"GridWorldState(6, 4, false)\\nN: 66\\n\",\"GridWorldState(6, 4, false)\\nN: 66\\n\",\"GridWorldState(5, 1, false)\\nN: 1382\\n\",\"GridWorldState(8, 2, false)\\nN: 733\\n\",\"GridWorldState(7, 3, false)\\nN: 407\\n\",\"GridWorldState(9, 2, false)\\nN: 179\\n\",\"GridWorldState(8, 6, false)\\nN: 10\\n\",\"GridWorldState(7, 4, false)\\nN: 87\\n\",\"GridWorldState(3, 3, false)\\nN: 65\\n\",\"GridWorldState(1, 4, false)\\nN: 52\\n\",\"GridWorldState(5, 7, false)\\nN: 5\\n\",\"GridWorldState(8, 2, false)\\nN: 733\\n\",\"GridWorldState(7, 2, false)\\nN: 961\\n\",\"GridWorldState(8, 2, false)\\nN: 733\\n\",\"GridWorldState(8, 1, false)\\nN: 184\\n\",\"GridWorldState(7, 4, false)\\nN: 87\\n\",\"GridWorldState(6, 4, false)\\nN: 66\\n\",\"GridWorldState(6, 3, false)\\nN: 225\\n\",\"GridWorldState(8, 5, false)\\nN: 24\\n\",\"GridWorldState(10, 2, false)\\nN: 51\\n\",\"GridWorldState(5, 2, false)\\nN: 438\\n\",\"GridWorldState(7, 2, false)\\nN: 961\\n\",\"GridWorldState(7, 6, false)\\nN: 15\\n\",\"GridWorldState(4, 6, true)\\nN: 0\\n\",\"GridWorldState(9, 2, false)\\nN: 179\\n\",\"GridWorldState(5, 2, false)\\nN: 438\\n\",\"GridWorldState(6, 3, false)\\nN: 225\\n\",\"GridWorldState(3, 3, false)\\nN: 65\\n\",\"GridWorldState(6, 2, false)\\nN: 1036\\n\",\"GridWorldState(2, 1, false)\\nN: 284\\n\",\"GridWorldState(6, 3, false)\\nN: 225\\n\",\"GridWorldState(5, 1, false)\\nN: 1382\\n\",\"GridWorldState(5, 1, false)\\nN: 1382\\n\",\"GridWorldState(7, 4, false)\\nN: 87\\n\",\"GridWorldState(6, 5, false)\\nN: 30\\n\",\"GridWorldState(2, 5, false)\\nN: 18\\n\",\"GridWorldState(3, 1, false)\\nN: 520\\n\",\"GridWorldState(3, 3, false)\\nN: 65\\n\",\"GridWorldState(7, 4, false)\\nN: 87\\n\",\"GridWorldState(5, 4, false)\\nN: 43\\n\",\"GridWorldState(3, 4, false)\\nN: 25\\n\",\"GridWorldState(9, 5, false)\\nN: 8\\n\",\"GridWorldState(6, 2, false)\\nN: 1036\\n\",\"GridWorldState(2, 4, false)\\nN: 59\\n\",\"GridWorldState(10, 4, false)\\nN: 14\\n\",\"GridWorldState(9, 4, false)\\nN: 43\\n\",\"GridWorldState(3, 1, false)\\nN: 520\\n\",\"GridWorldState(10, 5, false)\\nN: 3\\n\",\"GridWorldState(2, 4, false)\\nN: 59\\n\",\"GridWorldState(5, 4, false)\\nN: 43\\n\",\"GridWorldState(1, 3, false)\\nN: 105\\n\",\"GridWorldState(7, 5, false)\\nN: 30\\n\",\"GridWorldState(7, 1, false)\\nN: 376\\n\",\"GridWorldState(8, 4, false)\\nN: 119\\n\",\"GridWorldState(10, 5, false)\\nN: 3\\n\",\"GridWorldState(4, 4, false)\\nN: 20\\n\",\"GridWorldState(4, 3, false)\\nN: 75\\n\",\"GridWorldState(9, 3, false)\\nN: 590\\n\",\"GridWorldState(4, 2, false)\\nN: 415\\n\",\"GridWorldState(4, 3, true)\\nN: 0\\n\",\"GridWorldState(7, 1, false)\\nN: 376\\n\",\"GridWorldState(9, 3, false)\\nN: 590\\n\",\"GridWorldState(5, 5, false)\\nN: 24\\n\",\"GridWorldState(1, 4, false)\\nN: 52\\n\",\"GridWorldState(6, 5, false)\\nN: 30\\n\",\"GridWorldState(9, 5, false)\\nN: 8\\n\",\"GridWorldState(4, 5, false)\\nN: 14\\n\",\"GridWorldState(4, 6, false)\\nN: 7\\n\",\"GridWorldState(6, 8, false)\\nN: 2\\n\",\"GridWorldState(8, 2, false)\\nN: 733\\n\",\"GridWorldState(4, 2, false)\\nN: 415\\n\",\"GridWorldState(2, 5, false)\\nN: 18\\n\",\"GridWorldState(2, 4, false)\\nN: 59\\n\",\"GridWorldState(9, 1, false)\\nN: 120\\n\",\"GridWorldState(3, 2, false)\\nN: 230\\n\",\"GridWorldState(6, 2, false)\\nN: 1036\\n\",\"GridWorldState(2, 4, false)\\nN: 59\\n\",\"GridWorldState(2, 3, false)\\nN: 109\\n\",\"GridWorldState(6, 1, false)\\nN: 1111\\n\",\"GridWorldState(1, 3, false)\\nN: 105\\n\",\"GridWorldState(6, 3, false)\\nN: 225\\n\",\"GridWorldState(5, 4, false)\\nN: 43\\n\",\"GridWorldState(2, 1, false)\\nN: 284\\n\",\"up\\nQ: -0.8750452279114933\\nN: 119\\n\",\"down\\nQ: 0.0\\nN: 300\\n\",\"left\\nQ: -0.9433095430902446\\nN: 114\\n\",\"right\\nQ: 1.817577316179944\\nN: 1366\\n\",\"up\\nQ: -7.714285714285714\\nN: 7\\n\",\"down\\nQ: 0.24257923002901058\\nN: 283\\n\",\"left\\nQ: -1.3521292967334158\\nN: 72\\n\",\"right\\nQ: -1.70447179245283\\nN: 53\\n\",\"up\\nQ: -10.0\\nN: 19\\n\",\"down\\nQ: -10.0\\nN: 19\\n\",\"left\\nQ: -10.0\\nN: 19\\n\",\"right\\nQ: -10.0\\nN: 18\\n\",\"up\\nQ: -0.9256412567320158\\nN: 62\\n\",\"down\\nQ: 0.0\\nN: 128\\n\",\"left\\nQ: -1.1749203206077314\\nN: 59\\n\",\"right\\nQ: 0.7755356449074859\\nN: 271\\n\",\"up\\nQ: -0.5446928798933078\\nN: 58\\n\",\"down\\nQ: 0.0\\nN: 93\\n\",\"left\\nQ: -0.23102261027433116\\nN: 72\\n\",\"right\\nQ: 2.6518786854305563\\nN: 1159\\n\",\"up\\nQ: -1.8237356627494896\\nN: 24\\n\",\"down\\nQ: -0.7157595182335715\\nN: 42\\n\",\"left\\nQ: -2.416858126625295\\nN: 22\\n\",\"right\\nQ: 2.414701111733553\\nN: 350\\n\",\"up\\nQ: -1.068159300894156\\nN: 26\\n\",\"down\\nQ: -1.3572531332128124\\nN: 16\\n\",\"left\\nQ: -5.142857142857143\\nN: 7\\n\",\"right\\nQ: 0.25046945140881355\\nN: 59\\n\",\"up\\nQ: -2.773803178827\\nN: 27\\n\",\"down\\nQ: -0.8078328373154084\\nN: 60\\n\",\"left\\nQ: -0.21438697011294375\\nN: 80\\n\",\"right\\nQ: -0.442544032110484\\nN: 63\\n\",\"up\\nQ: 0.0\\nN: 0\\n\",\"down\\nQ: 0.0\\nN: 0\\n\",\"left\\nQ: 0.0\\nN: 0\\n\",\"right\\nQ: 0.0\\nN: 0\\n\",\"up\\nQ: -0.59333607\\nN: 27\\n\",\"down\\nQ: 0.0\\nN: 36\\n\",\"left\\nQ: -1.0383812608695653\\nN: 23\\n\",\"right\\nQ: 3.854406632535489\\nN: 950\\n\",\"up\\nQ: 3.416391542785891\\nN: 833\\n\",\"down\\nQ: 0.0\\nN: 40\\n\",\"left\\nQ: 1.637559841629266\\nN: 124\\n\",\"right\\nQ: 1.5541585256056738\\nN: 114\\n\",\"up\\nQ: -3.3168492737181814\\nN: 11\\n\",\"down\\nQ: -2.9037705000000007\\nN: 18\\n\",\"left\\nQ: -0.7154576588119992\\nN: 32\\n\",\"right\\nQ: -8.5725\\nN: 4\\n\",\"up\\nQ: 3.589330888224941\\nN: 198\\n\",\"down\\nQ: 0.0\\nN: 28\\n\",\"left\\nQ: 2.8288753394490485\\nN: 111\\n\",\"right\\nQ: 1.1856918427130774\\nN: 39\\n\",\"up\\nQ: -0.21913770374999997\\nN: 12\\n\",\"down\\nQ: -0.3738096945000002\\nN: 10\\n\",\"left\\nQ: -1.1657205\\nN: 9\\n\",\"right\\nQ: -0.2764192499999999\\nN: 12\\n\",\"up\\nQ: -0.7229912060086581\\nN: 19\\n\",\"down\\nQ: -6.16821642\\nN: 5\\n\",\"left\\nQ: -1.1671109012218235\\nN: 17\\n\",\"right\\nQ: 3.301376490671865\\nN: 184\\n\",\"up\\nQ: 3.654849688291229\\nN: 151\\n\",\"down\\nQ: 0.0\\nN: 21\\n\",\"left\\nQ: 0.8608301821352812\\nN: 32\\n\",\"right\\nQ: 4.963760475688593\\nN: 757\\n\",\"up\\nQ: -1.8965672099999997\\nN: 5\\n\",\"down\\nQ: -0.5785714285714287\\nN: 7\\n\",\"left\\nQ: -3.280973050125\\nN: 4\\n\",\"right\\nQ: 0.0\\nN: 8\\n\",\"up\\nQ: 0.19371024450000005\\nN: 18\\n\",\"down\\nQ: 0.3645\\nN: 18\\n\",\"left\\nQ: -0.5207142857142857\\nN: 14\\n\",\"right\\nQ: 5.278402874606035\\nN: 357\\n\",\"up\\nQ: -0.3351891201717856\\nN: 14\\n\",\"down\\nQ: 1.5363675\\nN: 24\\n\",\"left\\nQ: -0.05207142857142856\\nN: 14\\n\",\"right\\nQ: 0.0\\nN: 14\\n\",\"up\\nQ: -0.12789473684210526\\nN: 57\\n\",\"down\\nQ: 0.08758975200184288\\nN: 63\\n\",\"left\\nQ: -0.2095660588235294\\nN: 51\\n\",\"right\\nQ: -0.2348344896381002\\nN: 50\\n\",\"up\\nQ: -2.85565575\\nN: 6\\n\",\"down\\nQ: -2.7910512225\\nN: 2\\n\",\"left\\nQ: -4.5\\nN: 2\\n\",\"right\\nQ: 0.0\\nN: 3\\n\",\"up\\nQ: 3.999410837648101\\nN: 90\\n\",\"down\\nQ: 0.0\\nN: 14\\n\",\"left\\nQ: 0.838012671818182\\nN: 22\\n\",\"right\\nQ: 3.040042474657396\\nN: 58\\n\",\"up\\nQ: -0.442098\\nN: 25\\n\",\"down\\nQ: -0.09806581127812504\\nN: 32\\n\",\"left\\nQ: -0.07667961915459148\\nN: 30\\n\",\"right\\nQ: -0.9646363636363637\\nN: 22\\n\",\"up\\nQ: 0.10444081036029995\\nN: 85\\n\",\"down\\nQ: 0.0\\nN: 88\\n\",\"left\\nQ: -0.05902449475366213\\nN: 74\\n\",\"right\\nQ: -1.1503249504315658\\nN: 37\\n\",\"up\\nQ: -0.07450394019230769\\nN: 52\\n\",\"down\\nQ: 0.0\\nN: 62\\n\",\"left\\nQ: 0.0\\nN: 56\\n\",\"right\\nQ: -0.03695610632433962\\nN: 53\\n\",\"up\\nQ: 6.18024846069821\\nN: 606\\n\",\"down\\nQ: 1.1380500000000002\\nN: 20\\n\",\"left\\nQ: 1.952125546153846\\nN: 26\\n\",\"right\\nQ: 4.327091430019999\\nN: 81\\n\",\"up\\nQ: -0.04240683730945948\\nN: 37\\n\",\"down\\nQ: 0.0\\nN: 42\\n\",\"left\\nQ: 0.0\\nN: 42\\n\",\"right\\nQ: -0.2829141794117647\\nN: 34\\n\",\"up\\nQ: -0.3019238310865911\\nN: 22\\n\",\"down\\nQ: 0.0\\nN: 26\\n\",\"left\\nQ: 0.0\\nN: 31\\n\",\"right\\nQ: 0.0\\nN: 26\\n\",\"up\\nQ: -0.5283006668181819\\nN: 11\\n\",\"down\\nQ: 0.0\\nN: 13\\n\",\"left\\nQ: 0.0\\nN: 14\\n\",\"right\\nQ: 0.0\\nN: 14\\n\",\"up\\nQ: 0.0\\nN: 10\\n\",\"down\\nQ: -3.0\\nN: 3\\n\",\"left\\nQ: 0.0\\nN: 4\\n\",\"right\\nQ: 0.0\\nN: 3\\n\",\"up\\nQ: -0.9424928571428572\\nN: 7\\n\",\"down\\nQ: 0.0\\nN: 8\\n\",\"left\\nQ: -0.6459289972071428\\nN: 7\\n\",\"right\\nQ: 0.0\\nN: 8\\n\",\"up\\nQ: 0.5207142857142858\\nN: 14\\n\",\"down\\nQ: 0.9112500000000002\\nN: 16\\n\",\"left\\nQ: 1.2498705\\nN: 18\\n\",\"right\\nQ: 3.1007306561538464\\nN: 39\\n\",\"up\\nQ: 0.0\\nN: 15\\n\",\"down\\nQ: -0.395847\\nN: 15\\n\",\"left\\nQ: 0.0\\nN: 15\\n\",\"right\\nQ: 0.0\\nN: 14\\n\",\"up\\nQ: 0.47829690000000014\\nN: 10\\n\",\"down\\nQ: 2.2772562631578945\\nN: 19\\n\",\"left\\nQ: 0.6428571428571428\\nN: 14\\n\",\"right\\nQ: 7.81226554829066\\nN: 661\\n\",\"up\\nQ: 0.0\\nN: 5\\n\",\"down\\nQ: 0.0\\nN: 6\\n\",\"left\\nQ: 0.0\\nN: 4\\n\",\"right\\nQ: 0.0\\nN: 3\\n\",\"up\\nQ: 0.0\\nN: 5\\n\",\"down\\nQ: 0.0\\nN: 4\\n\",\"left\\nQ: -3.1908340125\\nN: 4\\n\",\"right\\nQ: -1.35\\nN: 3\\n\",\"up\\nQ: -1.2072969\\nN: 5\\n\",\"down\\nQ: 0.0\\nN: 6\\n\",\"left\\nQ: 0.0\\nN: 9\\n\",\"right\\nQ: 0.0\\nN: 5\\n\",\"up\\nQ: 0.0\\nN: 7\\n\",\"down\\nQ: 0.0\\nN: 7\\n\",\"left\\nQ: -0.3796007142857143\\nN: 7\\n\",\"right\\nQ: 0.3958470000000001\\nN: 9\\n\",\"up\\nQ: 0.0\\nN: 4\\n\",\"down\\nQ: -2.6719672500000002\\nN: 2\\n\",\"left\\nQ: 0.0\\nN: 3\\n\",\"right\\nQ: 0.0\\nN: 6\\n\",\"up\\nQ: 0.0\\nN: 3\\n\",\"down\\nQ: 0.0\\nN: 3\\n\",\"left\\nQ: 0.0\\nN: 0\\n\",\"right\\nQ: 0.0\\nN: 0\\n\",\"up\\nQ: 4.317355862068964\\nN: 58\\n\",\"down\\nQ: 0.0\\nN: 16\\n\",\"left\\nQ: 2.682660698685\\nN: 26\\n\",\"right\\nQ: 1.5011597200500002\\nN: 20\\n\",\"up\\nQ: 1.6257857142857142\\nN: 14\\n\",\"down\\nQ: 4.661781428571428\\nN: 42\\n\",\"left\\nQ: 1.9288125000000003\\nN: 16\\n\",\"right\\nQ: 4.305099712787233\\nN: 47\\n\",\"up\\nQ: 7.654844834651158\\nN: 129\\n\",\"down\\nQ: 4.3907333333333325\\nN: 27\\n\",\"left\\nQ: 1.456207389\\nN: 10\\n\",\"right\\nQ: 2.504451461538461\\nN: 13\\n\",\"up\\nQ: -4.5\\nN: 2\\n\",\"down\\nQ: -0.75\\nN: 6\\n\",\"left\\nQ: -1.125\\nN: 4\\n\",\"right\\nQ: -4.0725\\nN: 2\\n\",\"up\\nQ: 0.0\\nN: 2\\n\",\"down\\nQ: 0.0\\nN: 0\\n\",\"left\\nQ: 0.0\\nN: 0\\n\",\"right\\nQ: 0.0\\nN: 0\\n\",\"up\\nQ: -5.0\\nN: 2\\n\",\"down\\nQ: -5.0\\nN: 2\\n\",\"left\\nQ: -5.0\\nN: 2\\n\",\"right\\nQ: -5.0\\nN: 1\\n\",\"up\\nQ: 0.0\\nN: 3\\n\",\"down\\nQ: 3.4718625000000003\\nN: 8\\n\",\"left\\nQ: 1.606924285714286\\nN: 7\\n\",\"right\\nQ: 1.2149999999999999\\nN: 6\\n\",\"up\\nQ: 10.0\\nN: 148\\n\",\"down\\nQ: 10.0\\nN: 148\\n\",\"left\\nQ: 10.0\\nN: 147\\n\",\"right\\nQ: 10.0\\nN: 147\\n\",\"up\\nQ: 0.0\\nN: 0\\n\",\"down\\nQ: 0.0\\nN: 0\\n\",\"left\\nQ: 0.0\\nN: 0\\n\",\"right\\nQ: 0.0\\nN: 0\\n\",\"up\\nQ: 2.7917246842105268\\nN: 19\\n\",\"down\\nQ: 0.0\\nN: 12\\n\",\"left\\nQ: 2.325562071428571\\nN: 14\\n\",\"right\\nQ: 0.0\\nN: 12\\n\",\"up\\nQ: 0.0\\nN: 3\\n\",\"down\\nQ: 0.0\\nN: 4\\n\",\"left\\nQ: 0.0\\nN: 3\\n\",\"right\\nQ: 0.0\\nN: 4\\n\",\"up\\nQ: 0.0\\nN: 1\\n\",\"down\\nQ: 0.0\\nN: 0\\n\",\"left\\nQ: 0.0\\nN: 0\\n\",\"right\\nQ: 0.0\\nN: 0\\n\",\"up\\nQ: 4.9718205\\nN: 20\\n\",\"down\\nQ: 2.372390930769231\\nN: 13\\n\",\"left\\nQ: 2.8234363153846154\\nN: 13\\n\",\"right\\nQ: 0.0\\nN: 5\\n\",\"up\\nQ: 0.0\\nN: 3\\n\",\"down\\nQ: 3.2805\\nN: 2\\n\",\"left\\nQ: 0.0\\nN: 3\\n\",\"right\\nQ: 1.215\\nN: 2\\n\",\"up\\nQ: 0.0\\nN: 0\\n\",\"down\\nQ: 0.0\\nN: 0\\n\",\"left\\nQ: 0.0\\nN: 0\\n\",\"right\\nQ: 0.0\\nN: 0\\n\",\"up\\nQ: 0.0\\nN: 2\\n\",\"down\\nQ: 3.0\\nN: 3\\n\",\"left\\nQ: 7.027842857142857\\nN: 7\\n\",\"right\\nQ: 0.0\\nN: 2\\n\",\"up\\nQ: 0.0\\nN: 4\\n\",\"down\\nQ: 7.253040375000003\\nN: 24\\n\",\"left\\nQ: 0.0\\nN: 7\\n\",\"right\\nQ: 4.28625\\nN: 8\\n\",\"up\\nQ: 0.0\\nN: 2\\n\",\"down\\nQ: 0.0\\nN: 2\\n\",\"left\\nQ: -2.025\\nN: 2\\n\",\"right\\nQ: 0.0\\nN: 2\\n\",\"up\\nQ: 0.0\\nN: 1\\n\",\"down\\nQ: 0.0\\nN: 0\\n\",\"left\\nQ: 0.0\\nN: 0\\n\",\"right\\nQ: 0.0\\nN: 0\\n\",\"up\\nQ: 0.0\\nN: 1\\n\",\"down\\nQ: 0.0\\nN: 0\\n\",\"left\\nQ: 0.0\\nN: 0\\n\",\"right\\nQ: 0.0\\nN: 0\\n\",\"up\\nQ: 0.0\\nN: 2\\n\",\"down\\nQ: 2.7\\nN: 3\\n\",\"left\\nQ: 0.0\\nN: 2\\n\",\"right\\nQ: 0.0\\nN: 1\\n\",\"up\\nQ: 2.7\\nN: 1\\n\",\"down\\nQ: 0.0\\nN: 0\\n\",\"left\\nQ: 0.0\\nN: 0\\n\",\"right\\nQ: 0.0\\nN: 0\\n\",\"up\\nQ: 0.0\\nN: 2\\n\",\"down\\nQ: 0.0\\nN: 0\\n\",\"left\\nQ: 0.0\\nN: 0\\n\",\"right\\nQ: 0.0\\nN: 0\\n\",\"up\\nQ: 0.0\\nN: 1\\n\",\"down\\nQ: 0.0\\nN: 0\\n\",\"left\\nQ: 0.0\\nN: 0\\n\",\"right\\nQ: 0.0\\nN: 0\\n\",\"up\\nQ: 0.0\\nN: 2\\n\",\"down\\nQ: -3.329235\\nN: 3\\n\",\"left\\nQ: 0.0\\nN: 0\\n\",\"right\\nQ: 0.0\\nN: 0\\n\",\"up\\nQ: 0.0\\nN: 3\\n\",\"down\\nQ: -3.645\\nN: 1\\n\",\"left\\nQ: 0.0\\nN: 0\\n\",\"right\\nQ: 0.0\\nN: 0\\n\",\"up\\nQ: 0.0\\nN: 3\\n\",\"down\\nQ: 2.0250000000000004\\nN: 4\\n\",\"left\\nQ: 0.0\\nN: 2\\n\",\"right\\nQ: 0.0\\nN: 5\\n\",\"up\\nQ: 0.0\\nN: 0\\n\",\"down\\nQ: 0.0\\nN: 0\\n\",\"left\\nQ: 0.0\\nN: 0\\n\",\"right\\nQ: 0.0\\nN: 0\\n\",\"up\\nQ: 0.0\\nN: 1\\n\",\"down\\nQ: 0.0\\nN: 0\\n\",\"left\\nQ: 0.0\\nN: 0\\n\",\"right\\nQ: 0.0\\nN: 0\\n\",\"up\\nQ: 0.0\\nN: 1\\n\",\"down\\nQ: 0.0\\nN: 0\\n\",\"left\\nQ: 0.0\\nN: 0\\n\",\"right\\nQ: 0.0\\nN: 0\\n\",\"up\\nQ: 0.0\\nN: 0\\n\",\"down\\nQ: 0.0\\nN: 0\\n\",\"left\\nQ: 0.0\\nN: 0\\n\",\"right\\nQ: 0.0\\nN: 0\\n\",\"up\\nQ: 0.0\\nN: 2\\n\",\"down\\nQ: 0.0\\nN: 1\\n\",\"left\\nQ: 0.0\\nN: 0\\n\",\"right\\nQ: 0.0\\nN: 0\\n\",\"up\\nQ: 0.0\\nN: 2\\n\",\"down\\nQ: 0.0\\nN: 0\\n\",\"left\\nQ: 0.0\\nN: 0\\n\",\"right\\nQ: 0.0\\nN: 0\\n\",\"up\\nQ: 0.0\\nN: 0\\n\",\"down\\nQ: 0.0\\nN: 0\\n\",\"left\\nQ: 0.0\\nN: 0\\n\",\"right\\nQ: 0.0\\nN: 0\\n\",\"up\\nQ: 0.0\\nN: 0\\n\",\"down\\nQ: 0.0\\nN: 0\\n\",\"left\\nQ: 0.0\\nN: 0\\n\",\"right\\nQ: 0.0\\nN: 0\\n\",\"up\\nQ: 0.0\\nN: 1\\n\",\"down\\nQ: 0.0\\nN: 0\\n\",\"left\\nQ: 0.0\\nN: 0\\n\",\"right\\nQ: 0.0\\nN: 0\\n\",\"up\\nQ: 0.0\\nN: 0\\n\",\"down\\nQ: 0.0\\nN: 0\\n\",\"left\\nQ: 0.0\\nN: 0\\n\",\"right\\nQ: 0.0\\nN: 0\\n\",\"up\\nQ: 0.0\\nN: 0\\n\",\"down\\nQ: 0.0\\nN: 0\\n\",\"left\\nQ: 0.0\\nN: 0\\n\",\"right\\nQ: 0.0\\nN: 0\\n\",\"up\\nQ: 0.0\\nN: 0\\n\",\"down\\nQ: 0.0\\nN: 0\\n\",\"left\\nQ: 0.0\\nN: 0\\n\",\"right\\nQ: 0.0\\nN: 0\\n\"],\"style\":[\"\",\"\",\"\",\"\",\"\",\"\",\"\",\"\",\"\",\"\",\"\",\"\",\"\",\"\",\"\",\"\",\"\",\"\",\"\",\"\",\"\",\"\",\"\",\"\",\"\",\"\",\"\",\"\",\"\",\"\",\"\",\"\",\"\",\"\",\"\",\"\",\"\",\"\",\"\",\"\",\"\",\"\",\"\",\"\",\"\",\"\",\"\",\"\",\"\",\"\",\"\",\"\",\"\",\"\",\"\",\"\",\"\",\"\",\"\",\"\",\"\",\"\",\"\",\"\",\"\",\"\",\"\",\"\",\"\",\"\",\"\",\"\",\"\",\"\",\"\",\"\",\"\",\"\",\"\",\"\",\"\",\"\",\"\",\"\",\"\",\"\",\"\",\"\",\"\",\"\",\"\",\"\",\"\",\"\",\"\",\"\",\"\",\"\",\"\",\"\",\"\",\"\",\"\",\"\",\"\",\"\",\"\",\"\",\"\",\"\",\"\",\"\",\"\",\"\",\"\",\"\",\"\",\"\",\"\",\"\",\"\",\"\",\"\",\"\",\"\",\"\",\"\",\"\",\"\",\"\",\"\",\"\",\"\",\"\",\"\",\"\",\"\",\"\",\"\",\"\",\"\",\"\",\"\",\"\",\"\",\"\",\"\",\"\",\"\",\"\",\"\",\"\",\"\",\"\",\"\",\"\",\"\",\"\",\"\",\"\",\"\",\"\",\"\",\"\",\"\",\"\",\"\",\"\",\"\",\"\",\"\",\"\",\"\",\"\",\"\",\"\",\"\",\"\",\"\",\"\",\"\",\"\",\"\",\"\",\"\",\"\",\"\",\"\",\"\",\"\",\"\",\"\",\"\",\"\",\"\",\"\",\"\",\"\",\"\",\"\",\"\",\"\",\"\",\"\",\"\",\"\",\"\",\"\",\"\",\"\",\"\",\"\",\"\",\"\",\"\",\"\",\"\",\"\",\"\",\"\",\"\",\"\",\"\",\"\",\"\",\"\",\"\",\"\",\"\",\"\",\"\",\"\",\"\",\"\",\"\",\"\",\"\",\"\",\"\",\"\",\"\",\"\",\"\",\"\",\"\",\"\",\"\",\"\",\"\",\"\",\"\",\"\",\"\",\"\",\"\",\"\",\"\",\"\",\"\",\"\",\"\",\"\",\"\",\"\",\"\",\"\",\"\",\"\",\"\",\"\",\"\",\"\",\"\",\"\",\"\",\"\",\"\",\"\",\"\",\"\",\"\",\"\",\"\",\"\",\"\",\"\",\"\",\"\",\"\",\"\",\"\",\"\",\"\",\"\",\"\",\"\",\"\",\"\",\"\",\"\",\"\",\"\",\"\",\"\",\"\",\"\",\"\",\"\",\"\",\"\",\"\",\"\",\"\",\"\",\"\",\"\",\"\",\"\",\"\",\"\",\"\",\"\",\"\",\"\",\"\",\"\",\"\",\"\",\"\",\"\",\"\",\"\",\"\",\"\",\"\",\"\",\"\",\"\",\"\",\"\",\"\",\"\",\"\",\"\",\"\",\"\",\"\",\"\",\"\",\"\",\"\",\"\",\"\",\"\",\"\",\"\",\"\",\"\",\"\",\"\",\"\",\"\",\"\",\"\",\"\",\"\",\"\",\"\",\"\",\"\",\"\",\"\",\"\",\"\",\"\",\"\",\"\",\"\",\"\",\"\",\"\",\"\",\"\",\"\",\"\",\"\",\"\",\"\",\"\",\"\",\"\",\"\",\"\",\"\",\"\",\"\",\"\",\"\",\"\",\"\",\"\",\"\",\"\",\"\",\"\",\"\",\"\",\"\",\"\",\"\",\"\",\"\",\"\",\"\",\"\",\"\",\"\",\"\",\"\",\"\",\"\",\"\",\"\",\"\",\"\",\"\",\"\",\"\",\"\",\"\",\"\",\"\",\"\",\"\",\"\",\"\",\"\",\"\",\"\",\"\",\"\",\"\",\"\",\"\",\"\",\"\",\"\",\"\",\"\",\"\",\"\",\"\",\"\",\"\",\"\",\"\",\"\",\"\",\"\",\"\",\"\",\"\",\"\",\"\",\"\",\"\",\"\",\"\",\"\",\"\",\"\",\"\",\"\",\"\",\"\",\"\",\"\",\"\",\"\",\"\",\"\",\"\",\"\",\"\",\"\",\"\",\"\",\"\",\"\",\"\",\"\",\"\",\"\",\"\",\"\",\"\",\"\",\"\",\"\",\"\",\"\",\"\",\"\",\"\",\"\",\"\",\"\",\"\",\"\",\"\",\"\",\"\",\"\",\"\",\"\",\"\",\"\",\"\",\"\",\"\",\"\",\"\",\"\",\"\",\"\",\"\",\"\",\"\",\"\",\"\",\"\",\"\",\"\",\"\",\"\",\"\",\"\",\"\",\"\",\"\",\"\",\"\",\"\",\"\",\"\",\"\",\"\",\"\",\"\",\"\",\"\",\"\",\"\",\"\",\"\",\"\",\"\",\"\",\"\",\"\",\"\",\"\",\"\",\"\",\"\",\"\",\"\",\"\",\"\",\"\",\"\",\"\",\"\",\"\",\"stroke:#8B3A00\",\"stroke:#7F4000\",\"stroke:#8C3A00\",\"stroke:#684C00\",\"stroke:#E20F00\",\"stroke:#7C4200\",\"stroke:#913700\",\"stroke:#953500\",\"stroke:#FF0000\",\"stroke:#FF0000\",\"stroke:#FF0000\",\"stroke:#FF0000\",\"stroke:#8B3A00\",\"stroke:#7F4000\",\"stroke:#8E3900\",\"stroke:#764500\",\"stroke:#863D00\",\"stroke:#7F4000\",\"stroke:#823F00\",\"stroke:#5E5100\",\"stroke:#973400\",\"stroke:#893B00\",\"stroke:#9E3100\",\"stroke:#614F00\",\"stroke:#8D3900\",\"stroke:#913700\",\"stroke:#C11F00\",\"stroke:#7C4200\",\"stroke:#A32E00\",\"stroke:#8A3B00\",\"stroke:#823F00\",\"stroke:#853D00\",\"stroke:#7F4000\",\"stroke:#7F4000\",\"stroke:#7F4000\",\"stroke:#7F4000\",\"stroke:#873C00\",\"stroke:#7F4000\",\"stroke:#8D3900\",\"stroke:#4E5900\",\"stroke:#545600\",\"stroke:#7F4000\",\"stroke:#6B4A00\",\"stroke:#6C4A00\",\"stroke:#AA2B00\",\"stroke:#A52D00\",\"stroke:#893B00\",\"stroke:#ED0900\",\"stroke:#525700\",\"stroke:#7F4000\",\"stroke:#5B5200\",\"stroke:#704800\",\"stroke:#823F00\",\"stroke:#843E00\",\"stroke:#8E3900\",\"stroke:#833E00\",\"stroke:#893B00\",\"stroke:#CE1900\",\"stroke:#8E3900\",\"stroke:#555500\",\"stroke:#515700\",\"stroke:#7F4000\",\"stroke:#754500\",\"stroke:#406000\",\"stroke:#983400\",\"stroke:#873C00\",\"stroke:#A92B00\",\"stroke:#7F4000\",\"stroke:#7D4100\",\"stroke:#7B4200\",\"stroke:#863D00\",\"stroke:#3C6200\",\"stroke:#843E00\",\"stroke:#6C4A00\",\"stroke:#804000\",\"stroke:#7F4000\",\"stroke:#813F00\",\"stroke:#7E4100\",\"stroke:#823F00\",\"stroke:#823F00\",\"stroke:#A42E00\",\"stroke:#A32E00\",\"stroke:#B92300\",\"stroke:#7F4000\",\"stroke:#4D5900\",\"stroke:#7F4000\",\"stroke:#754500\",\"stroke:#595300\",\"stroke:#853D00\",\"stroke:#813F00\",\"stroke:#804000\",\"stroke:#8C3A00\",\"stroke:#7E4100\",\"stroke:#7F4000\",\"stroke:#804000\",\"stroke:#8E3900\",\"stroke:#804000\",\"stroke:#7F4000\",\"stroke:#7F4000\",\"stroke:#804000\",\"stroke:#316700\",\"stroke:#714700\",\"stroke:#674C00\",\"stroke:#485C00\",\"stroke:#804000\",\"stroke:#7F4000\",\"stroke:#7F4000\",\"stroke:#833E00\",\"stroke:#833E00\",\"stroke:#7F4000\",\"stroke:#7F4000\",\"stroke:#7F4000\",\"stroke:#863D00\",\"stroke:#7F4000\",\"stroke:#7F4000\",\"stroke:#7F4000\",\"stroke:#7F4000\",\"stroke:#A62D00\",\"stroke:#7F4000\",\"stroke:#7F4000\",\"stroke:#8C3A00\",\"stroke:#7F4000\",\"stroke:#883C00\",\"stroke:#7F4000\",\"stroke:#794300\",\"stroke:#744600\",\"stroke:#704800\",\"stroke:#585400\",\"stroke:#7F4000\",\"stroke:#853D00\",\"stroke:#7F4000\",\"stroke:#7F4000\",\"stroke:#794300\",\"stroke:#624F00\",\"stroke:#774400\",\"stroke:#1C7200\",\"stroke:#7F4000\",\"stroke:#7F4000\",\"stroke:#7F4000\",\"stroke:#7F4000\",\"stroke:#7F4000\",\"stroke:#7F4000\",\"stroke:#A82C00\",\"stroke:#913700\",\"stroke:#8F3800\",\"stroke:#7F4000\",\"stroke:#7F4000\",\"stroke:#7F4000\",\"stroke:#7F4000\",\"stroke:#7F4000\",\"stroke:#843E00\",\"stroke:#7A4300\",\"stroke:#7F4000\",\"stroke:#A22F00\",\"stroke:#7F4000\",\"stroke:#7F4000\",\"stroke:#7F4000\",\"stroke:#7F4000\",\"stroke:#7F4000\",\"stroke:#7F4000\",\"stroke:#485C00\",\"stroke:#7F4000\",\"stroke:#5D5100\",\"stroke:#6C4A00\",\"stroke:#6B4A00\",\"stroke:#445E00\",\"stroke:#674C00\",\"stroke:#495B00\",\"stroke:#1E7100\",\"stroke:#485C00\",\"stroke:#6D4900\",\"stroke:#605000\",\"stroke:#B92300\",\"stroke:#893B00\",\"stroke:#8E3900\",\"stroke:#B32600\",\"stroke:#7F4000\",\"stroke:#7F4000\",\"stroke:#7F4000\",\"stroke:#7F4000\",\"stroke:#BF2000\",\"stroke:#BF2000\",\"stroke:#BF2000\",\"stroke:#BF2000\",\"stroke:#7F4000\",\"stroke:#535600\",\"stroke:#6B4A00\",\"stroke:#704800\",\"stroke:#008000\",\"stroke:#008000\",\"stroke:#008000\",\"stroke:#008000\",\"stroke:#7F4000\",\"stroke:#7F4000\",\"stroke:#7F4000\",\"stroke:#7F4000\",\"stroke:#5C5200\",\"stroke:#7F4000\",\"stroke:#624F00\",\"stroke:#7F4000\",\"stroke:#7F4000\",\"stroke:#7F4000\",\"stroke:#7F4000\",\"stroke:#7F4000\",\"stroke:#7F4000\",\"stroke:#7F4000\",\"stroke:#7F4000\",\"stroke:#7F4000\",\"stroke:#406000\",\"stroke:#614F00\",\"stroke:#5C5200\",\"stroke:#7F4000\",\"stroke:#7F4000\",\"stroke:#565500\",\"stroke:#7F4000\",\"stroke:#704800\",\"stroke:#7F4000\",\"stroke:#7F4000\",\"stroke:#7F4000\",\"stroke:#7F4000\",\"stroke:#7F4000\",\"stroke:#595300\",\"stroke:#266D00\",\"stroke:#7F4000\",\"stroke:#7F4000\",\"stroke:#236E00\",\"stroke:#7F4000\",\"stroke:#495B00\",\"stroke:#7F4000\",\"stroke:#7F4000\",\"stroke:#993300\",\"stroke:#7F4000\",\"stroke:#7F4000\",\"stroke:#7F4000\",\"stroke:#7F4000\",\"stroke:#7F4000\",\"stroke:#7F4000\",\"stroke:#7F4000\",\"stroke:#7F4000\",\"stroke:#7F4000\",\"stroke:#7F4000\",\"stroke:#5D5100\",\"stroke:#7F4000\",\"stroke:#7F4000\",\"stroke:#5D5100\",\"stroke:#7F4000\",\"stroke:#7F4000\",\"stroke:#7F4000\",\"stroke:#7F4000\",\"stroke:#7F4000\",\"stroke:#7F4000\",\"stroke:#7F4000\",\"stroke:#7F4000\",\"stroke:#7F4000\",\"stroke:#7F4000\",\"stroke:#7F4000\",\"stroke:#7F4000\",\"stroke:#AA2B00\",\"stroke:#7F4000\",\"stroke:#7F4000\",\"stroke:#7F4000\",\"stroke:#AE2900\",\"stroke:#7F4000\",\"stroke:#7F4000\",\"stroke:#7F4000\",\"stroke:#664D00\",\"stroke:#7F4000\",\"stroke:#7F4000\",\"stroke:#7F4000\",\"stroke:#7F4000\",\"stroke:#7F4000\",\"stroke:#7F4000\",\"stroke:#7F4000\",\"stroke:#7F4000\",\"stroke:#7F4000\",\"stroke:#7F4000\",\"stroke:#7F4000\",\"stroke:#7F4000\",\"stroke:#7F4000\",\"stroke:#7F4000\",\"stroke:#7F4000\",\"stroke:#7F4000\",\"stroke:#7F4000\",\"stroke:#7F4000\",\"stroke:#7F4000\",\"stroke:#7F4000\",\"stroke:#7F4000\",\"stroke:#7F4000\",\"stroke:#7F4000\",\"stroke:#7F4000\",\"stroke:#7F4000\",\"stroke:#7F4000\",\"stroke:#7F4000\",\"stroke:#7F4000\",\"stroke:#7F4000\",\"stroke:#7F4000\",\"stroke:#7F4000\",\"stroke:#7F4000\",\"stroke:#7F4000\",\"stroke:#7F4000\",\"stroke:#7F4000\",\"stroke:#7F4000\",\"stroke:#7F4000\",\"stroke:#7F4000\",\"stroke:#7F4000\",\"stroke:#7F4000\",\"stroke:#7F4000\",\"stroke:#7F4000\",\"stroke:#7F4000\",\"stroke:#7F4000\",\"stroke:#7F4000\",\"stroke:#7F4000\",\"stroke:#7F4000\",\"stroke:#7F4000\",\"stroke:#7F4000\",\"stroke:#7F4000\"],\"link_style\":[\"stroke-width:20.0px\",\"stroke-width:16.81542805549877px\",\"stroke-width:17.728105208558368px\",\"stroke-width:7.559289460184544px\",\"stroke-width:4.603482701187488px\",\"stroke-width:14.142135623730951px\",\"stroke-width:16.32993161855452px\",\"stroke-width:20.0px\",\"stroke-width:5.547001962252292px\",\"stroke-width:16.32993161855452px\",\"stroke-width:16.81542805549877px\",\"stroke-width:7.385489458759964px\",\"stroke-width:17.88854381999832px\",\"stroke-width:4.509876168016973px\",\"stroke-width:11.094003924504584px\",\"stroke-width:12.24744871391589px\",\"stroke-width:20.0px\",\"stroke-width:12.403473458920846px\",\"stroke-width:17.175564037317667px\",\"stroke-width:18.618986725025255px\",\"stroke-width:20.0px\",\"stroke-width:17.32050807568877px\",\"stroke-width:20.0px\",\"stroke-width:20.0px\",\"stroke-width:15.491933384829668px\",\"stroke-width:4.898979485566356px\",\"stroke-width:7.6011695006609195px\",\"stroke-width:5.494422557947561px\",\"stroke-width:20.0px\",\"stroke-width:8.728715609439694px\",\"stroke-width:20.0px\",\"stroke-width:9.058216273156766px\",\"stroke-width:20.0px\",\"stroke-width:7.559289460184544px\",\"stroke-width:14.142135623730951px\",\"stroke-width:11.547005383792515px\",\"stroke-width:8.16496580927726px\",\"stroke-width:20.0px\",\"stroke-width:6.708203932499369px\",\"stroke-width:16.51445647689541px\",\"stroke-width:15.491933384829668px\",\"stroke-width:20.0px\",\"stroke-width:8.16496580927726px\",\"stroke-width:17.638342073763937px\",\"stroke-width:15.421992019121195px\",\"stroke-width:8.40168050416806px\",\"stroke-width:17.45381796597535px\",\"stroke-width:8.660254037844386px\",\"stroke-width:8.16496580927726px\",\"stroke-width:6.948083337796512px\",\"stroke-width:14.142135623730951px\",\"stroke-width:17.010634971324837px\",\"stroke-width:5.0px\",\"stroke-width:9.428090415820634px\",\"stroke-width:8.528028654224418px\",\"stroke-width:20.0px\",\"stroke-width:6.172133998483677px\",\"stroke-width:16.836668000401453px\",\"stroke-width:10.0px\",\"stroke-width:20.0px\",\"stroke-width:15.374122295716148px\",\"stroke-width:8.16496580927726px\",\"stroke-width:8.16496580927726px\",\"stroke-width:6.414269805898185px\",\"stroke-width:6.324555320336759px\",\"stroke-width:7.370277311900888px\",\"stroke-width:14.142135623730951px\",\"stroke-width:14.142135623730951px\",\"stroke-width:7.364596943186586px\",\"stroke-width:14.142135623730951px\",\"stroke-width:8.528028654224418px\",\"stroke-width:7.745966692414834px\",\"stroke-width:7.947194142390263px\",\"stroke-width:16.641005886756876px\",\"stroke-width:7.559289460184544px\",\"stroke-width:5.1639777949432215px\",\"stroke-width:7.559289460184544px\",\"stroke-width:10.0px\",\"stroke-width:7.844645405527362px\",\"stroke-width:11.547005383792515px\",\"stroke-width:5.893546772311472px\",\"stroke-width:10.95445115010332px\",\"stroke-width:6.133821188805362px\",\"stroke-width:7.811334658849432px\",\"stroke-width:16.113631583445663px\",\"stroke-width:16.962290477574484px\",\"stroke-width:16.756690808095854px\",\"stroke-width:20.0px\",\"stroke-width:16.73320053068151px\",\"stroke-width:20.0px\",\"stroke-width:7.302967433402214px\",\"stroke-width:4.85071250072666px\",\"stroke-width:7.302967433402214px\",\"stroke-width:15.869840952317444px\",\"stroke-width:4.588314677411235px\",\"stroke-width:18.149704259460602px\",\"stroke-width:7.385489458759964px\",\"stroke-width:4.170288281141495px\",\"stroke-width:7.669649888473704px\",\"stroke-width:7.747856644057553px\",\"stroke-width:14.142135623730951px\",\"stroke-width:5.0px\",\"stroke-width:3.922322702763681px\",\"stroke-width:18.516401995451027px\",\"stroke-width:15.491933384829668px\",\"stroke-width:17.638342073763937px\",\"stroke-width:7.793716634692394px\",\"stroke-width:5.3452248382484875px\",\"stroke-width:4.714045207910317px\",\"stroke-width:16.99673171197595px\",\"stroke-width:17.32050807568877px\",\"stroke-width:14.142135623730951px\",\"stroke-width:11.327042279097082px\",\"stroke-width:16.583123951776997px\",\"stroke-width:10.690449676496975px\",\"stroke-width:5.398061952931082px\",\"stroke-width:8.94427190999916px\",\"stroke-width:20.0px\",\"stroke-width:7.844645405527362px\",\"stroke-width:16.035674514745462px\",\"stroke-width:8.16496580927726px\",\"stroke-width:8.251369970070346px\",\"stroke-width:20.0px\",\"stroke-width:5.494422557947561px\",\"stroke-width:8.94427190999916px\",\"stroke-width:7.431017242360253px\",\"stroke-width:9.534625892455924px\",\"stroke-width:8.728715609439694px\",\"stroke-width:10.0px\",\"stroke-width:20.0px\",\"stroke-width:6.177584007491222px\",\"stroke-width:5.773502691896257px\",\"stroke-width:16.903085094570333px\",\"stroke-width:20.0px\",\"stroke-width:20.0px\",\"stroke-width:17.822655773580138px\",\"stroke-width:20.0px\",\"stroke-width:14.142135623730951px\",\"stroke-width:6.460938417225139px\",\"stroke-width:17.728105208558368px\",\"stroke-width:20.0px\",\"stroke-width:17.32050807568877px\",\"stroke-width:8.660254037844386px\",\"stroke-width:8.16496580927726px\",\"stroke-width:16.32993161855452px\",\"stroke-width:5.3452248382484875px\",\"stroke-width:14.142135623730951px\",\"stroke-width:4.85071250072666px\",\"stroke-width:20.0px\",\"stroke-width:11.547005383792515px\",\"stroke-width:6.59380473395787px\",\"stroke-width:8.16496580927726px\",\"stroke-width:5.451081150953975px\",\"stroke-width:16.80851914326404px\",\"stroke-width:20.0px\",\"stroke-width:15.811388300841898px\",\"stroke-width:7.0710678118654755px\",\"stroke-width:8.94427190999916px\",\"stroke-width:6.324555320336759px\",\"stroke-width:15.118578920369089px\",\"stroke-width:8.16496580927726px\",\"stroke-width:9.258200997725513px\",\"stroke-width:6.793662204867575px\",\"stroke-width:8.94427190999916px\",\"stroke-width:8.37707816583391px\",\"stroke-width:20.0px\",\"stroke-width:6.030226891555273px\",\"stroke-width:7.495496847387482px\",\"stroke-width:11.547005383792515px\",\"stroke-width:5.773502691896257px\",\"stroke-width:7.559289460184544px\",\"stroke-width:16.618979396776332px\",\"stroke-width:16.641005886756876px\",\"stroke-width:5.0px\",\"stroke-width:6.819943394704735px\",\"stroke-width:17.32050807568877px\",\"stroke-width:20.0px\",\"stroke-width:7.559289460184544px\",\"stroke-width:9.15810939779251px\",\"stroke-width:7.559289460184544px\",\"stroke-width:6.5079137345596845px\",\"stroke-width:6.666666666666666px\",\"stroke-width:17.32050807568877px\",\"stroke-width:6.666666666666666px\",\"stroke-width:8.02157953867679px\",\"stroke-width:6.172133998483677px\",\"stroke-width:5.834599659915782px\",\"stroke-width:20.0px\",\"stroke-width:12.060453783110546px\",\"stroke-width:8.16496580927726px\",\"stroke-width:7.0087664405046235px\",\"stroke-width:18.856180831641268px\",\"stroke-width:10.0px\",\"stroke-width:16.99673171197595px\",\"stroke-width:20.0px\",\"stroke-width:9.759000729485333px\",\"stroke-width:5.547001962252292px\",\"stroke-width:5.298129428260175px\",\"stroke-width:8.053872662568292px\",\"stroke-width:5.82222509739582px\",\"stroke-width:11.547005383792515px\",\"stroke-width:10.0px\",\"stroke-width:4.08248290463863px\",\"stroke-width:17.811271131234424px\",\"stroke-width:17.26381231612168px\",\"stroke-width:15.491933384829668px\",\"stroke-width:17.728105208558368px\",\"stroke-width:5.443310539518174px\",\"stroke-width:8.660254037844386px\",\"stroke-width:5.547001962252292px\",\"stroke-width:6.859943405700354px\",\"stroke-width:16.68115312456598px\",\"stroke-width:7.126966450997983px\",\"stroke-width:7.947194142390263px\",\"stroke-width:16.583123951776997px\",\"stroke-width:20.0px\",\"stroke-width:11.547005383792515px\",\"stroke-width:3.922322702763681px\",\"stroke-width:16.655910507645917px\",\"stroke-width:17.88854381999832px\",\"stroke-width:8.606629658238704px\",\"stroke-width:17.056057308448835px\",\"stroke-width:17.32050807568877px\",\"stroke-width:6.7292658491045305px\",\"stroke-width:6.666666666666666px\",\"stroke-width:3.8490017945975055px\",\"stroke-width:17.156328938368762px\",\"stroke-width:10.690449676496975px\",\"stroke-width:6.4051261522034855px\",\"stroke-width:20.0px\",\"stroke-width:16.641005886756876px\",\"stroke-width:14.142135623730951px\",\"stroke-width:16.942810378724417px\",\"stroke-width:20.0px\",\"stroke-width:20.0px\",\"stroke-width:18.856180831641268px\",\"stroke-width:20.0px\",\"stroke-width:5.65685424949238px\",\"stroke-width:20.0px\",\"stroke-width:20.0px\",\"stroke-width:17.32050807568877px\",\"stroke-width:14.142135623730951px\",\"stroke-width:5.039526306789696px\",\"stroke-width:7.0710678118654755px\",\"stroke-width:16.035674514745462px\",\"stroke-width:17.32050807568877px\",\"stroke-width:10.0px\",\"stroke-width:11.547005383792515px\",\"stroke-width:17.08484392354498px\",\"stroke-width:5.773502691896257px\",\"stroke-width:7.709969587458271px\",\"stroke-width:7.947194142390263px\",\"stroke-width:17.32050807568877px\",\"stroke-width:5.583519815231302px\",\"stroke-width:7.844645405527362px\",\"stroke-width:20.0px\",\"stroke-width:4.85071250072666px\",\"stroke-width:20.0px\",\"stroke-width:4.969039949999533px\",\"stroke-width:11.547005383792515px\",\"stroke-width:5.63436169819011px\",\"stroke-width:5.3452248382484875px\",\"stroke-width:19.27248223318863px\",\"stroke-width:6.397194104389903px\",\"stroke-width:15.118578920369089px\",\"stroke-width:7.4833147735478835px\",\"stroke-width:5.773502691896257px\",\"stroke-width:14.474937289114918px\",\"stroke-width:14.142135623730951px\",\"stroke-width:5.840250605220888px\",\"stroke-width:10.0px\",\"stroke-width:10.0px\",\"stroke-width:6.030226891555273px\",\"stroke-width:6.324555320336759px\",\"stroke-width:4.714045207910317px\",\"stroke-width:7.559289460184544px\",\"stroke-width:6.030226891555273px\",\"stroke-width:18.397324220155998px\",\"stroke-width:8.16496580927726px\",\"stroke-width:20.0px\",\"stroke-width:8.94427190999916px\",\"stroke-width:6.488856845230502px\",\"stroke-width:20.0px\",\"stroke-width:20.0px\",\"stroke-width:16.709515875454898px\",\"stroke-width:5.872202195147035px\",\"stroke-width:14.142135623730951px\",\"stroke-width:8.94427190999916px\",\"stroke-width:16.853425876119775px\",\"stroke-width:16.717409748985823px\",\"stroke-width:7.302967433402214px\",\"stroke-width:11.547005383792515px\",\"stroke-width:15.118578920369089px\",\"stroke-width:6.72021505032247px\",\"stroke-width:16.583123951776997px\",\"stroke-width:7.453559924999299px\",\"stroke-width:6.456331042187644px\",\"stroke-width:17.88854381999832px\",\"stroke-width:6.928203230275509px\",\"stroke-width:20.0px\",\"stroke-width:14.142135623730951px\",\"stroke-width:8.645662192537639px\",\"stroke-width:8.528028654224418px\",\"stroke-width:5.3452248382484875px\",\"stroke-width:18.516401995451027px\",\"stroke-width:3.922322702763681px\",\"stroke-width:13.48399724926484px\",\"stroke-width:11.547005383792515px\",\"stroke-width:7.559289460184544px\",\"stroke-width:4.714045207910317px\",\"stroke-width:7.745966692414834px\",\"stroke-width:16.765472885698188px\",\"stroke-width:5.547001962252292px\",\"stroke-width:14.142135623730951px\",\"stroke-width:5.773502691896257px\",\"stroke-width:20.0px\",\"stroke-width:15.811388300841898px\",\"stroke-width:5.1639777949432215px\",\"stroke-width:6.377928041432806px\",\"stroke-width:16.543403837370224px\",\"stroke-width:6.666666666666666px\",\"stroke-width:17.795130420052185px\",\"stroke-width:6.367466478079842px\",\"stroke-width:8.058824321605135px\",\"stroke-width:16.748942843761863px\",\"stroke-width:6.666666666666666px\",\"stroke-width:8.94427190999916px\",\"stroke-width:7.0710678118654755px\",\"stroke-width:15.358952955766089px\",\"stroke-width:14.142135623730951px\",\"stroke-width:20.0px\",\"stroke-width:6.948083337796512px\",\"stroke-width:16.73320053068151px\",\"stroke-width:16.61586460349684px\",\"stroke-width:9.258200997725513px\",\"stroke-width:20.0px\",\"stroke-width:6.666666666666666px\",\"stroke-width:20.0px\",\"stroke-width:18.35325870964494px\",\"stroke-width:4.47213595499958px\",\"stroke-width:7.947194142390263px\",\"stroke-width:6.666666666666666px\",\"stroke-width:7.0710678118654755px\",\"stroke-width:16.583123951776997px\",\"stroke-width:11.547005383792515px\",\"stroke-width:17.056057308448835px\",\"stroke-width:20.0px\",\"stroke-width:6.793662204867575px\",\"stroke-width:20.0px\",\"stroke-width:4.08248290463863px\",\"stroke-width:16.672315426926016px\",\"stroke-width:10.0px\",\"stroke-width:16.32993161855452px\",\"stroke-width:20.0px\",\"stroke-width:16.15893285805443px\",\"stroke-width:5.039526306789696px\",\"stroke-width:14.142135623730951px\",\"stroke-width:4.364357804719847px\",\"stroke-width:20.0px\",\"stroke-width:8.94427190999916px\",\"stroke-width:18.257418583505537px\",\"stroke-width:16.32993161855452px\",\"stroke-width:16.32993161855452px\",\"stroke-width:17.10471948239516px\",\"stroke-width:20.0px\",\"stroke-width:16.32993161855452px\",\"stroke-width:20.0px\",\"stroke-width:5.65685424949238px\",\"stroke-width:20.0px\",\"stroke-width:14.142135623730951px\",\"stroke-width:7.0710678118654755px\",\"stroke-width:5.1639777949432215px\",\"stroke-width:16.32993161855452px\",\"stroke-width:7.559289460184544px\",\"stroke-width:10.0px\",\"stroke-width:16.32993161855452px\",\"stroke-width:20.0px\",\"stroke-width:7.710996009560597px\",\"stroke-width:6.501701840009311px\",\"stroke-width:16.483267673842683px\",\"stroke-width:10.0px\",\"stroke-width:2.917299829957891px\",\"stroke-width:7.0710678118654755px\",\"stroke-width:18.516401995451027px\",\"stroke-width:20.0px\",\"stroke-width:6.900655593423543px\",\"stroke-width:6.262242910851494px\",\"stroke-width:20.0px\",\"stroke-width:11.547005383792515px\",\"stroke-width:10.0px\",\"stroke-width:7.161148740394329px\",\"stroke-width:7.0710678118654755px\",\"stroke-width:16.15893285805443px\",\"stroke-width:16.97056274847714px\",\"stroke-width:8.304547985373997px\",\"stroke-width:10.183501544346312px\",\"stroke-width:9.428090415820634px\",\"stroke-width:8.94427190999916px\",\"stroke-width:10.0px\",\"stroke-width:18.0534186769688px\",\"stroke-width:14.142135623730951px\",\"stroke-width:6.025663722614571px\",\"stroke-width:20.0px\",\"stroke-width:16.876268972298448px\",\"stroke-width:6.123724356957945px\",\"stroke-width:7.559289460184544px\",\"stroke-width:7.828813612588127px\",\"stroke-width:3.960590171906697px\",\"stroke-width:7.0087664405046235px\",\"stroke-width:7.518094115561123px\",\"stroke-width:13.09307341415954px\",\"stroke-width:6.030226891555273px\",\"stroke-width:5.987849508520958px\",\"stroke-width:6.324555320336759px\",\"stroke-width:7.0710678118654755px\",\"stroke-width:6.974858324629158px\",\"stroke-width:11.547005383792515px\",\"stroke-width:16.32993161855452px\",\"stroke-width:8.528028654224418px\",\"stroke-width:20.0px\",\"stroke-width:7.683787503952986px\",\"stroke-width:5.3452248382484875px\",\"stroke-width:20.0px\",\"stroke-width:5.443310539518174px\",\"stroke-width:7.559289460184544px\",\"stroke-width:6.099942813304187px\",\"stroke-width:17.541160386140582px\",\"stroke-width:20.0px\",\"stroke-width:16.61369194813728px\",\"stroke-width:16.43989873053573px\",\"stroke-width:8.304547985373997px\",\"stroke-width:17.435595774162692px\",\"stroke-width:8.692269873603532px\",\"stroke-width:16.43060145919662px\",\"stroke-width:6.666666666666666px\",\"stroke-width:6.047431568147635px\",\"stroke-width:6.575959492214292px\",\"stroke-width:6.123724356957945px\",\"stroke-width:8.94427190999916px\",\"stroke-width:17.541160386140582px\",\"stroke-width:11.547005383792515px\",\"stroke-width:10.690449676496975px\",\"stroke-width:5.0px\",\"stroke-width:15.374122295716148px\",\"stroke-width:7.844645405527362px\",\"stroke-width:8.770580193070291px\",\"stroke-width:14.142135623730951px\",\"stroke-width:17.638342073763937px\",\"stroke-width:6.4995557096191px\",\"stroke-width:3.8490017945975055px\",\"stroke-width:20.0px\",\"stroke-width:15.118578920369089px\",\"stroke-width:20.0px\",\"stroke-width:17.126976771553505px\",\"stroke-width:5.547001962252292px\",\"stroke-width:14.142135623730951px\",\"stroke-width:15.689290811054724px\",\"stroke-width:18.516401995451027px\",\"stroke-width:7.385489458759964px\",\"stroke-width:17.097008285302206px\",\"stroke-width:11.547005383792515px\",\"stroke-width:4.0px\",\"stroke-width:8.357108940373449px\",\"stroke-width:16.46109783506203px\",\"stroke-width:20.0px\",\"stroke-width:16.32993161855452px\",\"stroke-width:6.666666666666666px\",\"stroke-width:9.058216273156766px\",\"stroke-width:8.053872662568292px\",\"stroke-width:6.172133998483677px\",\"stroke-width:4.890096469218258px\",\"stroke-width:16.641005886756876px\",\"stroke-width:5.982430416161188px\",\"stroke-width:16.903085094570333px\",\"stroke-width:6.324555320336759px\",\"stroke-width:15.118578920369089px\",\"stroke-width:6.236095644623235px\",\"stroke-width:10.0px\",\"stroke-width:14.142135623730951px\",\"stroke-width:5.879447357921313px\",\"stroke-width:7.559289460184544px\",\"stroke-width:8.6991767240168px\",\"stroke-width:10.690449676496975px\",\"stroke-width:16.583123951776997px\",\"stroke-width:11.547005383792515px\",\"stroke-width:14.142135623730951px\",\"stroke-width:5.3452248382484875px\",\"stroke-width:7.0710678118654755px\",\"stroke-width:17.88854381999832px\",\"stroke-width:14.142135623730951px\",\"stroke-width:4.47213595499958px\",\"stroke-width:4.85071250072666px\",\"stroke-width:7.559289460184544px\",\"stroke-width:5.773502691896257px\",\"stroke-width:6.948083337796512px\",\"stroke-width:9.17662935482247px\",\"stroke-width:16.92394023525313px\",\"stroke-width:7.0710678118654755px\",\"stroke-width:16.903085094570333px\",\"stroke-width:14.142135623730951px\",\"stroke-width:5.1639777949432215px\",\"stroke-width:16.32993161855452px\",\"stroke-width:6.508460687011342px\",\"stroke-width:7.826957343774224px\",\"stroke-width:15.894388284780526px\",\"stroke-width:10.044944046678452px\",\"stroke-width:7.559289460184544px\",\"stroke-width:10.0px\",\"stroke-width:6.777785431108015px\",\"stroke-width:5.3452248382484875px\",\"stroke-width:13.09307341415954px\",\"stroke-width:8.16496580927726px\",\"stroke-width:5.897678246195886px\",\"stroke-width:18.516401995451027px\",\"stroke-width:20.0px\",\"stroke-width:7.844645405527362px\",\"stroke-width:7.231654014676439px\",\"stroke-width:8.34057656228299px\",\"stroke-width:6.123724356957945px\",\"stroke-width:4.588314677411235px\",\"stroke-width:11.094003924504584px\",\"stroke-width:16.32993161855452px\",\"stroke-width:8.583950752789521px\",\"stroke-width:4.264014327112209px\",\"stroke-width:9.258200997725513px\",\"stroke-width:17.32050807568877px\",\"stroke-width:5.3452248382484875px\",\"stroke-width:16.32993161855452px\",\"stroke-width:4.47213595499958px\",\"stroke-width:5.3452248382484875px\",\"stroke-width:7.0710678118654755px\",\"stroke-width:7.905694150420949px\",\"stroke-width:7.0710678118654755px\",\"stroke-width:6.710671544844187px\",\"stroke-width:16.903085094570333px\",\"stroke-width:15.811388300841898px\",\"stroke-width:5.0px\",\"stroke-width:7.559289460184544px\",\"stroke-width:20.0px\",\"stroke-width:7.0710678118654755px\",\"stroke-width:17.097008285302206px\",\"stroke-width:14.675987714106855px\",\"stroke-width:11.547005383792515px\",\"stroke-width:16.004385363930503px\",\"stroke-width:10.690449676496975px\",\"stroke-width:20.0px\",\"stroke-width:18.257418583505537px\",\"stroke-width:16.32993161855452px\",\"stroke-width:6.488856845230502px\",\"stroke-width:17.198788309870295px\",\"stroke-width:20.0px\",\"stroke-width:7.828813612588127px\",\"stroke-width:16.79793268934183px\",\"stroke-width:5.773502691896257px\",\"stroke-width:7.844645405527362px\",\"stroke-width:9.258200997725513px\",\"stroke-width:7.559289460184544px\",\"stroke-width:20.0px\",\"stroke-width:10.0px\",\"stroke-width:16.32993161855452px\",\"stroke-width:16.32993161855452px\",\"stroke-width:16.52319197418807px\",\"stroke-width:14.142135623730951px\",\"stroke-width:8.528028654224418px\",\"stroke-width:7.844645405527362px\",\"stroke-width:6.2909436280615925px\",\"stroke-width:7.0710678118654755px\",\"stroke-width:18.257418583505537px\",\"stroke-width:6.859943405700354px\",\"stroke-width:16.666666666666668px\",\"stroke-width:18.618986725025255px\",\"stroke-width:16.903085094570333px\",\"stroke-width:8.94427190999916px\",\"stroke-width:17.659683088313365px\",\"stroke-width:5.006578084675882px\",\"stroke-width:7.949286335171642px\",\"stroke-width:4.900269199814201px\",\"stroke-width:16.962617263053744px\",\"stroke-width:2.597496477727588px\",\"stroke-width:16.51578288599573px\",\"stroke-width:8.33052161400748px\",\"stroke-width:7.147330784943256px\",\"stroke-width:10.066445913694333px\",\"stroke-width:10.066445913694333px\",\"stroke-width:10.066445913694333px\",\"stroke-width:9.797958971132712px\",\"stroke-width:6.905961749988752px\",\"stroke-width:9.922778767136677px\",\"stroke-width:6.73681047563425px\",\"stroke-width:14.438197202612884px\",\"stroke-width:4.097226480629858px\",\"stroke-width:5.188208829050255px\",\"stroke-width:4.565015141451201px\",\"stroke-width:18.315454159559128px\",\"stroke-width:4.681645887845222px\",\"stroke-width:6.193235372853323px\",\"stroke-width:4.482334681939005px\",\"stroke-width:17.878330548357894px\",\"stroke-width:9.813067629253162px\",\"stroke-width:7.698003589195011px\",\"stroke-width:5.091750772173156px\",\"stroke-width:14.782371884055634px\",\"stroke-width:6.852482888641928px\",\"stroke-width:10.215078369104983px\",\"stroke-width:11.795356492391772px\",\"stroke-width:10.467340511863764px\",\"stroke-width:NaNpx\",\"stroke-width:NaNpx\",\"stroke-width:NaNpx\",\"stroke-width:NaNpx\",\"stroke-width:3.2287320150037884px\",\"stroke-width:3.7282185960072px\",\"stroke-width:2.9799847114220035px\",\"stroke-width:19.15190243279677px\",\"stroke-width:17.317909544719882px\",\"stroke-width:3.794922943093101px\",\"stroke-width:6.681651326314824px\",\"stroke-width:6.406567287591775px\",\"stroke-width:8.227533512074423px\",\"stroke-width:10.524696231684352px\",\"stroke-width:14.032928308912467px\",\"stroke-width:4.9613893835683385px\",\"stroke-width:14.513383405406902px\",\"stroke-width:5.4577682290981535px\",\"stroke-width:10.866697123918506px\",\"stroke-width:6.441223618391746px\",\"stroke-width:10.565410875907485px\",\"stroke-width:9.644856443408242px\",\"stroke-width:9.14991421995628px\",\"stroke-width:10.565410875907485px\",\"stroke-width:5.811865258054231px\",\"stroke-width:2.9814239699997196px\",\"stroke-width:5.497474167490214px\",\"stroke-width:18.08621328833405px\",\"stroke-width:7.927874662867424px\",\"stroke-width:2.9565004483586064px\",\"stroke-width:3.6495833867692777px\",\"stroke-width:17.750730957674328px\",\"stroke-width:9.128709291752768px\",\"stroke-width:10.801234497346435px\",\"stroke-width:8.16496580927726px\",\"stroke-width:11.547005383792515px\",\"stroke-width:4.2059978233966895px\",\"stroke-width:4.2059978233966895px\",\"stroke-width:3.7093414185288687px\",\"stroke-width:18.73125598725165px\",\"stroke-width:9.211323729436765px\",\"stroke-width:12.060453783110546px\",\"stroke-width:9.211323729436765px\",\"stroke-width:9.211323729436765px\",\"stroke-width:10.157136447566295px\",\"stroke-width:10.678349559799349px\",\"stroke-width:9.607689228305228px\",\"stroke-width:9.513029883089882px\",\"stroke-width:13.58732440973515px\",\"stroke-width:7.844645405527362px\",\"stroke-width:7.844645405527362px\",\"stroke-width:9.607689228305228px\",\"stroke-width:13.987572123604705px\",\"stroke-width:5.516772843673705px\",\"stroke-width:6.9156407480812465px\",\"stroke-width:11.22884484360431px\",\"stroke-width:9.578262852211514px\",\"stroke-width:10.836567383657542px\",\"stroke-width:10.492461251740036px\",\"stroke-width:8.98520700674884px\",\"stroke-width:10.941586258818px\",\"stroke-width:11.132998786123665px\",\"stroke-width:10.20908184474373px\",\"stroke-width:7.21891100210676px\",\"stroke-width:9.657822870652415px\",\"stroke-width:10.54565134696945px\",\"stroke-width:10.02239644462708px\",\"stroke-width:9.75024433406625px\",\"stroke-width:18.185042502147507px\",\"stroke-width:3.3036422084944745px\",\"stroke-width:3.766731659445642px\",\"stroke-width:6.648451696378061px\",\"stroke-width:9.771584874918805px\",\"stroke-width:10.410912389132548px\",\"stroke-width:10.410912389132548px\",\"stroke-width:9.367066535680792px\",\"stroke-width:9.154754164341268px\",\"stroke-width:9.952267030562385px\",\"stroke-width:10.867163295692123px\",\"stroke-width:9.952267030562385px\",\"stroke-width:9.198662110077999px\",\"stroke-width:10.0px\",\"stroke-width:10.377490433255417px\",\"stroke-width:10.377490433255417px\",\"stroke-width:14.142135623730951px\",\"stroke-width:7.745966692414834px\",\"stroke-width:8.94427190999916px\",\"stroke-width:7.745966692414834px\",\"stroke-width:9.66091783079296px\",\"stroke-width:10.327955589886443px\",\"stroke-width:9.66091783079296px\",\"stroke-width:10.327955589886443px\",\"stroke-width:8.02295557085754px\",\"stroke-width:8.57690027870236px\",\"stroke-width:9.09717652294684px\",\"stroke-width:13.390681268239724px\",\"stroke-width:10.084389681792214px\",\"stroke-width:10.084389681792214px\",\"stroke-width:10.084389681792214px\",\"stroke-width:9.742446008949093px\",\"stroke-width:2.383656473113981px\",\"stroke-width:3.2856437033638546px\",\"stroke-width:2.820380374088831px\",\"stroke-width:19.379581569739372px\",\"stroke-width:10.540925533894598px\",\"stroke-width:11.547005383792515px\",\"stroke-width:9.428090415820634px\",\"stroke-width:8.16496580927726px\",\"stroke-width:11.180339887498949px\",\"stroke-width:10.0px\",\"stroke-width:10.0px\",\"stroke-width:8.660254037844386px\",\"stroke-width:8.94427190999916px\",\"stroke-width:9.797958971132712px\",\"stroke-width:12.0px\",\"stroke-width:8.94427190999916px\",\"stroke-width:9.66091783079296px\",\"stroke-width:9.66091783079296px\",\"stroke-width:9.66091783079296px\",\"stroke-width:10.95445115010332px\",\"stroke-width:10.327955589886443px\",\"stroke-width:7.302967433402214px\",\"stroke-width:8.94427190999916px\",\"stroke-width:12.649110640673518px\",\"stroke-width:14.142135623730951px\",\"stroke-width:14.142135623730951px\",\"stroke-width:0.0px\",\"stroke-width:0.0px\",\"stroke-width:13.90443574307614px\",\"stroke-width:7.302967433402214px\",\"stroke-width:9.309493362512628px\",\"stroke-width:8.16496580927726px\",\"stroke-width:6.859943405700354px\",\"stroke-width:11.881770515720092px\",\"stroke-width:7.33358797622569px\",\"stroke-width:12.569136536664358px\",\"stroke-width:16.978461544691882px\",\"stroke-width:7.767573336037855px\",\"stroke-width:4.727194592470655px\",\"stroke-width:5.389831103996575px\",\"stroke-width:7.559289460184544px\",\"stroke-width:13.09307341415954px\",\"stroke-width:10.690449676496975px\",\"stroke-width:7.559289460184544px\",\"stroke-width:20.0px\",\"stroke-width:0.0px\",\"stroke-width:0.0px\",\"stroke-width:0.0px\",\"stroke-width:10.690449676496975px\",\"stroke-width:10.690449676496975px\",\"stroke-width:10.690449676496975px\",\"stroke-width:7.559289460184544px\",\"stroke-width:7.0710678118654755px\",\"stroke-width:11.547005383792515px\",\"stroke-width:10.801234497346435px\",\"stroke-width:10.0px\",\"stroke-width:10.016934813147556px\",\"stroke-width:10.016934813147556px\",\"stroke-width:9.983036459372096px\",\"stroke-width:9.983036459372096px\",\"stroke-width:NaNpx\",\"stroke-width:NaNpx\",\"stroke-width:NaNpx\",\"stroke-width:NaNpx\",\"stroke-width:11.547005383792515px\",\"stroke-width:9.17662935482247px\",\"stroke-width:9.911892555667041px\",\"stroke-width:9.17662935482247px\",\"stroke-width:9.258200997725513px\",\"stroke-width:10.690449676496975px\",\"stroke-width:9.258200997725513px\",\"stroke-width:10.690449676496975px\",\"stroke-width:20.0px\",\"stroke-width:0.0px\",\"stroke-width:0.0px\",\"stroke-width:0.0px\",\"stroke-width:12.524485821702989px\",\"stroke-width:10.097563285948025px\",\"stroke-width:10.097563285948025px\",\"stroke-width:6.262242910851494px\",\"stroke-width:10.95445115010332px\",\"stroke-width:8.94427190999916px\",\"stroke-width:10.95445115010332px\",\"stroke-width:8.94427190999916px\",\"stroke-width:NaNpx\",\"stroke-width:NaNpx\",\"stroke-width:NaNpx\",\"stroke-width:NaNpx\",\"stroke-width:7.559289460184544px\",\"stroke-width:9.258200997725513px\",\"stroke-width:14.142135623730951px\",\"stroke-width:7.559289460184544px\",\"stroke-width:6.099942813304187px\",\"stroke-width:14.941747352752568px\",\"stroke-width:8.06946584785929px\",\"stroke-width:8.626621856275072px\",\"stroke-width:10.0px\",\"stroke-width:10.0px\",\"stroke-width:10.0px\",\"stroke-width:10.0px\",\"stroke-width:20.0px\",\"stroke-width:0.0px\",\"stroke-width:0.0px\",\"stroke-width:0.0px\",\"stroke-width:20.0px\",\"stroke-width:0.0px\",\"stroke-width:0.0px\",\"stroke-width:0.0px\",\"stroke-width:10.0px\",\"stroke-width:12.24744871391589px\",\"stroke-width:10.0px\",\"stroke-width:7.0710678118654755px\",\"stroke-width:20.0px\",\"stroke-width:0.0px\",\"stroke-width:0.0px\",\"stroke-width:0.0px\",\"stroke-width:20.0px\",\"stroke-width:0.0px\",\"stroke-width:0.0px\",\"stroke-width:0.0px\",\"stroke-width:20.0px\",\"stroke-width:0.0px\",\"stroke-width:0.0px\",\"stroke-width:0.0px\",\"stroke-width:12.649110640673518px\",\"stroke-width:15.491933384829668px\",\"stroke-width:0.0px\",\"stroke-width:0.0px\",\"stroke-width:17.32050807568877px\",\"stroke-width:10.0px\",\"stroke-width:0.0px\",\"stroke-width:0.0px\",\"stroke-width:9.258200997725513px\",\"stroke-width:10.690449676496975px\",\"stroke-width:7.559289460184544px\",\"stroke-width:11.952286093343936px\",\"stroke-width:NaNpx\",\"stroke-width:NaNpx\",\"stroke-width:NaNpx\",\"stroke-width:NaNpx\",\"stroke-width:20.0px\",\"stroke-width:0.0px\",\"stroke-width:0.0px\",\"stroke-width:0.0px\",\"stroke-width:20.0px\",\"stroke-width:0.0px\",\"stroke-width:0.0px\",\"stroke-width:0.0px\",\"stroke-width:NaNpx\",\"stroke-width:NaNpx\",\"stroke-width:NaNpx\",\"stroke-width:NaNpx\",\"stroke-width:16.32993161855452px\",\"stroke-width:11.547005383792515px\",\"stroke-width:0.0px\",\"stroke-width:0.0px\",\"stroke-width:20.0px\",\"stroke-width:0.0px\",\"stroke-width:0.0px\",\"stroke-width:0.0px\",\"stroke-width:NaNpx\",\"stroke-width:NaNpx\",\"stroke-width:NaNpx\",\"stroke-width:NaNpx\",\"stroke-width:NaNpx\",\"stroke-width:NaNpx\",\"stroke-width:NaNpx\",\"stroke-width:NaNpx\",\"stroke-width:20.0px\",\"stroke-width:0.0px\",\"stroke-width:0.0px\",\"stroke-width:0.0px\",\"stroke-width:NaNpx\",\"stroke-width:NaNpx\",\"stroke-width:NaNpx\",\"stroke-width:NaNpx\",\"stroke-width:NaNpx\",\"stroke-width:NaNpx\",\"stroke-width:NaNpx\",\"stroke-width:NaNpx\",\"stroke-width:NaNpx\",\"stroke-width:NaNpx\",\"stroke-width:NaNpx\",\"stroke-width:NaNpx\"],\"title\":\"MCTS tree\",\"options\":{\"init_expand\":1,\"tooltip\":[\"GridWorldState(4, 1, false)\\nN: 1899\\n\",\"GridWorldState(9, 2, false)\\nN: 179\\n\",\"GridWorldState(8, 3, false)\\nN: 704\\n\",\"GridWorldState(8, 2, false)\\nN: 733\\n\",\"GridWorldState(8, 2, false)\\nN: 733\\n\",\"GridWorldState(10, 3, false)\\nN: 14\\n\",\"GridWorldState(7, 6, false)\\nN: 15\\n\",\"GridWorldState(9, 4, false)\\nN: 43\\n\",\"GridWorldState(5, 2, false)\\nN: 438\\n\",\"GridWorldState(2, 5, false)\\nN: 18\\n\",\"GridWorldState(5, 2, false)\\nN: 438\\n\",\"GridWorldState(6, 2, false)\\nN: 1036\\n\",\"GridWorldState(5, 6, false)\\nN: 13\\n\",\"GridWorldState(5, 4, false)\\nN: 43\\n\",\"GridWorldState(10, 1, false)\\nN: 57\\n\",\"GridWorldState(9, 3, false)\\nN: 590\\n\",\"GridWorldState(5, 3, false)\\nN: 108\\n\",\"GridWorldState(2, 4, false)\\nN: 59\\n\",\"GridWorldState(2, 2, false)\\nN: 221\\n\",\"GridWorldState(2, 3, false)\\nN: 109\\n\",\"GridWorldState(2, 8, false)\\nN: 0\\n\",\"GridWorldState(4, 3, false)\\nN: 75\\n\",\"GridWorldState(4, 6, true)\\nN: 0\\n\",\"GridWorldState(10, 1, false)\\nN: 57\\n\",\"GridWorldState(3, 5, false)\\nN: 8\\n\",\"GridWorldState(2, 1, false)\\nN: 284\\n\",\"GridWorldState(9, 1, false)\\nN: 120\\n\",\"GridWorldState(4, 1, false)\\nN: 1899\\n\",\"GridWorldState(3, 4, false)\\nN: 25\\n\",\"GridWorldState(2, 2, false)\\nN: 221\\n\",\"GridWorldState(4, 6, true)\\nN: 0\\n\",\"GridWorldState(6, 1, false)\\nN: 1111\\n\",\"GridWorldState(9, 3, true)\\nN: 0\\n\",\"GridWorldState(7, 4, false)\\nN: 87\\n\",\"GridWorldState(7, 5, false)\\nN: 30\\n\",\"GridWorldState(5, 4, false)\\nN: 43\\n\",\"GridWorldState(4, 4, false)\\nN: 20\\n\",\"GridWorldState(8, 2, false)\\nN: 733\\n\",\"GridWorldState(4, 2, false)\\nN: 415\\n\",\"GridWorldState(7, 1, false)\\nN: 376\\n\",\"GridWorldState(10, 1, false)\\nN: 57\\n\",\"GridWorldState(10, 4, false)\\nN: 14\\n\",\"GridWorldState(8, 4, false)\\nN: 119\\n\",\"GridWorldState(4, 4, false)\\nN: 20\\n\",\"GridWorldState(6, 1, false)\\nN: 1111\\n\",\"GridWorldState(1, 1, false)\\nN: 223\\n\",\"GridWorldState(7, 3, false)\\nN: 407\\n\",\"GridWorldState(4, 3, false)\\nN: 75\\n\",\"GridWorldState(8, 4, false)\\nN: 119\\n\",\"GridWorldState(8, 1, false)\\nN: 184\\n\",\"GridWorldState(5, 5, false)\\nN: 24\\n\",\"GridWorldState(9, 4, false)\\nN: 43\\n\",\"GridWorldState(7, 3, false)\\nN: 407\\n\",\"GridWorldState(7, 4, false)\\nN: 87\\n\",\"GridWorldState(1, 2, false)\\nN: 155\\n\",\"GridWorldState(3, 6, false)\\nN: 2\\n\",\"GridWorldState(3, 2, false)\\nN: 230\\n\",\"GridWorldState(8, 3, false)\\nN: 704\\n\",\"GridWorldState(5, 5, false)\\nN: 24\\n\",\"GridWorldState(8, 5, false)\\nN: 24\\n\",\"GridWorldState(3, 3, false)\\nN: 65\\n\",\"GridWorldState(6, 3, false)\\nN: 225\\n\",\"GridWorldState(4, 6, false)\\nN: 7\\n\",\"GridWorldState(5, 1, false)\\nN: 1382\\n\",\"GridWorldState(3, 1, false)\\nN: 520\\n\",\"GridWorldState(8, 3, false)\\nN: 704\\n\",\"GridWorldState(3, 5, false)\\nN: 8\\n\",\"GridWorldState(4, 5, false)\\nN: 14\\n\",\"GridWorldState(4, 1, false)\\nN: 1899\\n\",\"GridWorldState(7, 5, false)\\nN: 30\\n\",\"GridWorldState(8, 2, false)\\nN: 733\\n\",\"GridWorldState(3, 3, false)\\nN: 65\\n\",\"GridWorldState(8, 4, false)\\nN: 119\\n\",\"GridWorldState(8, 4, false)\\nN: 119\\n\",\"GridWorldState(9, 4, false)\\nN: 43\\n\",\"GridWorldState(2, 3, false)\\nN: 109\\n\",\"GridWorldState(10, 2, false)\\nN: 51\\n\",\"GridWorldState(8, 1, false)\\nN: 184\\n\",\"GridWorldState(6, 3, false)\\nN: 225\\n\",\"GridWorldState(6, 6, false)\\nN: 16\\n\",\"GridWorldState(7, 2, false)\\nN: 961\\n\",\"GridWorldState(9, 2, false)\\nN: 179\\n\",\"GridWorldState(8, 1, false)\\nN: 184\\n\",\"GridWorldState(4, 3, false)\\nN: 75\\n\",\"GridWorldState(2, 3, false)\\nN: 109\\n\",\"GridWorldState(3, 1, false)\\nN: 520\\n\",\"GridWorldState(9, 3, false)\\nN: 590\\n\",\"GridWorldState(8, 1, false)\\nN: 184\\n\",\"GridWorldState(8, 1, false)\\nN: 184\\n\",\"GridWorldState(2, 6, false)\\nN: 6\\n\",\"GridWorldState(3, 4, false)\\nN: 25\\n\",\"GridWorldState(1, 3, false)\\nN: 105\\n\",\"GridWorldState(3, 3, false)\\nN: 65\\n\",\"GridWorldState(9, 1, false)\\nN: 120\\n\",\"GridWorldState(5, 3, false)\\nN: 108\\n\",\"GridWorldState(5, 3, false)\\nN: 108\\n\",\"GridWorldState(9, 1, false)\\nN: 120\\n\",\"GridWorldState(6, 1, false)\\nN: 1111\\n\",\"GridWorldState(1, 1, false)\\nN: 223\\n\",\"GridWorldState(4, 2, false)\\nN: 415\\n\",\"GridWorldState(2, 4, false)\\nN: 59\\n\",\"GridWorldState(4, 3, false)\\nN: 75\\n\",\"GridWorldState(2, 3, false)\\nN: 109\\n\",\"GridWorldState(4, 3, false)\\nN: 75\\n\",\"GridWorldState(6, 7, false)\\nN: 4\\n\",\"GridWorldState(7, 2, false)\\nN: 961\\n\",\"GridWorldState(5, 2, false)\\nN: 438\\n\",\"GridWorldState(6, 5, false)\\nN: 30\\n\",\"GridWorldState(8, 4, false)\\nN: 119\\n\",\"GridWorldState(7, 2, false)\\nN: 961\\n\",\"GridWorldState(6, 4, false)\\nN: 66\\n\",\"GridWorldState(2, 6, false)\\nN: 6\\n\",\"GridWorldState(1, 2, false)\\nN: 155\\n\",\"GridWorldState(7, 4, false)\\nN: 87\\n\",\"GridWorldState(5, 4, false)\\nN: 43\\n\",\"GridWorldState(7, 1, false)\\nN: 376\\n\",\"GridWorldState(4, 4, false)\\nN: 20\\n\",\"GridWorldState(10, 1, false)\\nN: 57\\n\",\"GridWorldState(1, 2, false)\\nN: 155\\n\",\"GridWorldState(1, 1, false)\\nN: 223\\n\",\"GridWorldState(4, 6, false)\\nN: 7\\n\",\"GridWorldState(7, 4, false)\\nN: 87\\n\",\"GridWorldState(3, 4, false)\\nN: 25\\n\",\"GridWorldState(3, 2, false)\\nN: 230\\n\",\"GridWorldState(3, 4, false)\\nN: 25\\n\",\"GridWorldState(4, 1, false)\\nN: 1899\\n\",\"GridWorldState(5, 3, false)\\nN: 108\\n\",\"GridWorldState(7, 3, false)\\nN: 407\\n\",\"GridWorldState(6, 7, false)\\nN: 4\\n\",\"GridWorldState(4, 3, true)\\nN: 0\\n\",\"GridWorldState(4, 3, false)\\nN: 75\\n\",\"GridWorldState(5, 3, false)\\nN: 108\\n\",\"GridWorldState(7, 5, false)\\nN: 30\\n\",\"GridWorldState(10, 3, false)\\nN: 14\\n\",\"GridWorldState(7, 9, false)\\nN: 0\\n\",\"GridWorldState(2, 2, false)\\nN: 221\\n\",\"GridWorldState(4, 6, false)\\nN: 7\\n\",\"GridWorldState(6, 6, false)\\nN: 16\\n\",\"GridWorldState(7, 1, false)\\nN: 376\\n\",\"GridWorldState(3, 4, false)\\nN: 25\\n\",\"GridWorldState(5, 4, false)\\nN: 43\\n\",\"GridWorldState(9, 5, false)\\nN: 8\\n\",\"GridWorldState(8, 3, false)\\nN: 704\\n\",\"GridWorldState(1, 5, false)\\nN: 14\\n\",\"GridWorldState(2, 7, false)\\nN: 1\\n\",\"GridWorldState(9, 3, false)\\nN: 590\\n\",\"GridWorldState(2, 5, false)\\nN: 18\\n\",\"GridWorldState(7, 3, false)\\nN: 407\\n\",\"GridWorldState(8, 8, false)\\nN: 0\\n\",\"GridWorldState(7, 5, false)\\nN: 30\\n\",\"GridWorldState(6, 2, false)\\nN: 1036\\n\",\"GridWorldState(5, 5, false)\\nN: 24\\n\",\"GridWorldState(4, 2, false)\\nN: 415\\n\",\"GridWorldState(7, 2, false)\\nN: 961\\n\",\"GridWorldState(4, 1, false)\\nN: 1899\\n\",\"GridWorldState(5, 3, false)\\nN: 108\\n\",\"GridWorldState(5, 2, false)\\nN: 438\\n\",\"GridWorldState(9, 2, false)\\nN: 179\\n\",\"GridWorldState(5, 2, false)\\nN: 438\\n\",\"GridWorldState(8, 5, false)\\nN: 24\\n\",\"GridWorldState(4, 2, false)\\nN: 415\\n\",\"GridWorldState(8, 3, false)\\nN: 704\\n\",\"GridWorldState(9, 2, false)\\nN: 179\\n\",\"GridWorldState(2, 4, false)\\nN: 59\\n\",\"GridWorldState(6, 2, false)\\nN: 1036\\n\",\"GridWorldState(7, 6, false)\\nN: 15\\n\",\"GridWorldState(1, 3, false)\\nN: 105\\n\",\"GridWorldState(7, 1, false)\\nN: 376\\n\",\"GridWorldState(9, 3, false)\\nN: 590\\n\",\"GridWorldState(4, 2, false)\\nN: 415\\n\",\"GridWorldState(8, 4, false)\\nN: 119\\n\",\"GridWorldState(5, 1, false)\\nN: 1382\\n\",\"GridWorldState(1, 2, false)\\nN: 155\\n\",\"GridWorldState(7, 5, false)\\nN: 30\\n\",\"GridWorldState(10, 2, false)\\nN: 51\\n\",\"GridWorldState(1, 4, false)\\nN: 52\\n\",\"GridWorldState(6, 10, false)\\nN: 0\\n\",\"GridWorldState(6, 4, false)\\nN: 66\\n\",\"GridWorldState(2, 1, false)\\nN: 284\\n\",\"GridWorldState(1, 3, false)\\nN: 105\\n\",\"GridWorldState(3, 1, false)\\nN: 520\\n\",\"GridWorldState(5, 2, false)\\nN: 438\\n\",\"GridWorldState(7, 7, false)\\nN: 2\\n\",\"GridWorldState(2, 3, false)\\nN: 109\\n\",\"GridWorldState(5, 1, false)\\nN: 1382\\n\",\"GridWorldState(5, 3, false)\\nN: 108\\n\",\"GridWorldState(8, 5, false)\\nN: 24\\n\",\"GridWorldState(10, 2, false)\\nN: 51\\n\",\"GridWorldState(3, 4, false)\\nN: 25\\n\",\"GridWorldState(1, 3, false)\\nN: 105\\n\",\"GridWorldState(3, 2, false)\\nN: 230\\n\",\"GridWorldState(6, 4, false)\\nN: 66\\n\",\"GridWorldState(6, 6, false)\\nN: 16\\n\",\"GridWorldState(3, 2, false)\\nN: 230\\n\",\"GridWorldState(9, 3, true)\\nN: 0\\n\",\"GridWorldState(6, 2, false)\\nN: 1036\\n\",\"GridWorldState(6, 4, false)\\nN: 66\\n\",\"GridWorldState(2, 1, false)\\nN: 284\\n\",\"GridWorldState(2, 2, false)\\nN: 221\\n\",\"GridWorldState(3, 2, false)\\nN: 230\\n\",\"GridWorldState(2, 5, false)\\nN: 18\\n\",\"GridWorldState(10, 4, false)\\nN: 14\\n\",\"GridWorldState(9, 5, false)\\nN: 8\\n\",\"GridWorldState(9, 1, false)\\nN: 120\\n\",\"GridWorldState(1, 2, false)\\nN: 155\\n\",\"GridWorldState(4, 5, false)\\nN: 14\\n\",\"GridWorldState(7, 3, false)\\nN: 407\\n\",\"GridWorldState(8, 2, false)\\nN: 733\\n\",\"GridWorldState(6, 3, false)\\nN: 225\\n\",\"GridWorldState(1, 5, false)\\nN: 14\\n\",\"GridWorldState(5, 1, false)\\nN: 1382\\n\",\"GridWorldState(5, 2, false)\\nN: 438\\n\",\"GridWorldState(2, 3, false)\\nN: 109\\n\",\"GridWorldState(1, 2, false)\\nN: 155\\n\",\"GridWorldState(7, 3, false)\\nN: 407\\n\",\"GridWorldState(9, 3, true)\\nN: 0\\n\",\"GridWorldState(2, 5, false)\\nN: 18\\n\",\"GridWorldState(4, 3, false)\\nN: 75\\n\",\"GridWorldState(5, 1, false)\\nN: 1382\\n\",\"GridWorldState(8, 4, false)\\nN: 119\\n\",\"GridWorldState(7, 2, false)\\nN: 961\\n\",\"GridWorldState(1, 4, false)\\nN: 52\\n\",\"GridWorldState(8, 4, false)\\nN: 119\\n\",\"GridWorldState(4, 3, false)\\nN: 75\\n\",\"GridWorldState(6, 3, false)\\nN: 225\\n\",\"GridWorldState(6, 1, false)\\nN: 1111\\n\",\"GridWorldState(5, 2, false)\\nN: 438\\n\",\"GridWorldState(5, 6, false)\\nN: 13\\n\",\"GridWorldState(7, 3, false)\\nN: 407\\n\",\"GridWorldState(7, 1, false)\\nN: 376\\n\",\"GridWorldState(10, 2, false)\\nN: 51\\n\",\"GridWorldState(9, 4, false)\\nN: 43\\n\",\"GridWorldState(2, 2, false)\\nN: 221\\n\",\"GridWorldState(5, 6, false)\\nN: 13\\n\",\"GridWorldState(6, 1, false)\\nN: 1111\\n\",\"GridWorldState(7, 4, false)\\nN: 87\\n\",\"GridWorldState(3, 1, false)\\nN: 520\\n\",\"GridWorldState(2, 2, false)\\nN: 221\\n\",\"GridWorldState(1, 3, false)\\nN: 105\\n\",\"GridWorldState(7, 4, false)\\nN: 87\\n\",\"GridWorldState(4, 5, false)\\nN: 14\\n\",\"GridWorldState(9, 4, false)\\nN: 43\\n\",\"GridWorldState(3, 3, false)\\nN: 65\\n\",\"GridWorldState(4, 3, false)\\nN: 75\\n\",\"GridWorldState(5, 4, false)\\nN: 43\\n\",\"GridWorldState(9, 3, false)\\nN: 590\\n\",\"GridWorldState(6, 7, false)\\nN: 4\\n\",\"GridWorldState(7, 6, false)\\nN: 15\\n\",\"GridWorldState(1, 1, false)\\nN: 223\\n\",\"GridWorldState(6, 4, false)\\nN: 66\\n\",\"GridWorldState(3, 1, false)\\nN: 520\\n\",\"GridWorldState(4, 2, false)\\nN: 415\\n\",\"GridWorldState(6, 5, false)\\nN: 30\\n\",\"GridWorldState(7, 3, false)\\nN: 407\\n\",\"GridWorldState(8, 2, false)\\nN: 733\\n\",\"GridWorldState(6, 6, false)\\nN: 16\\n\",\"GridWorldState(6, 2, false)\\nN: 1036\\n\",\"GridWorldState(8, 6, false)\\nN: 10\\n\",\"GridWorldState(7, 2, false)\\nN: 961\\n\",\"GridWorldState(2, 4, false)\\nN: 59\\n\",\"GridWorldState(3, 1, false)\\nN: 520\\n\",\"GridWorldState(7, 4, false)\\nN: 87\\n\",\"GridWorldState(6, 5, false)\\nN: 30\\n\",\"GridWorldState(7, 2, false)\\nN: 961\\n\",\"GridWorldState(7, 5, false)\\nN: 30\\n\",\"GridWorldState(2, 3, false)\\nN: 109\\n\",\"GridWorldState(4, 4, false)\\nN: 20\\n\",\"GridWorldState(7, 1, false)\\nN: 376\\n\",\"GridWorldState(9, 6, false)\\nN: 1\\n\",\"GridWorldState(9, 1, false)\\nN: 120\\n\",\"GridWorldState(6, 6, false)\\nN: 16\\n\",\"GridWorldState(7, 6, false)\\nN: 15\\n\",\"GridWorldState(8, 1, false)\\nN: 184\\n\",\"GridWorldState(7, 3, false)\\nN: 407\\n\",\"GridWorldState(7, 5, false)\\nN: 30\\n\",\"GridWorldState(1, 5, false)\\nN: 14\\n\",\"GridWorldState(2, 3, false)\\nN: 109\\n\",\"GridWorldState(10, 1, false)\\nN: 57\\n\",\"GridWorldState(4, 3, false)\\nN: 75\\n\",\"GridWorldState(8, 6, false)\\nN: 10\\n\",\"GridWorldState(4, 5, false)\\nN: 14\\n\",\"GridWorldState(7, 3, false)\\nN: 407\\n\",\"GridWorldState(6, 6, false)\\nN: 16\\n\",\"GridWorldState(2, 1, false)\\nN: 284\\n\",\"GridWorldState(8, 3, false)\\nN: 704\\n\",\"GridWorldState(7, 1, false)\\nN: 376\\n\",\"GridWorldState(5, 5, false)\\nN: 24\\n\",\"GridWorldState(5, 3, false)\\nN: 108\\n\",\"GridWorldState(6, 1, false)\\nN: 1111\\n\",\"GridWorldState(6, 2, false)\\nN: 1036\\n\",\"GridWorldState(3, 4, false)\\nN: 25\\n\",\"GridWorldState(3, 6, false)\\nN: 2\\n\",\"GridWorldState(6, 5, false)\\nN: 30\\n\",\"GridWorldState(4, 1, false)\\nN: 1899\\n\",\"GridWorldState(2, 3, false)\\nN: 109\\n\",\"GridWorldState(6, 3, false)\\nN: 225\\n\",\"GridWorldState(6, 1, false)\\nN: 1111\\n\",\"GridWorldState(6, 2, false)\\nN: 1036\\n\",\"GridWorldState(3, 3, false)\\nN: 65\\n\",\"GridWorldState(1, 7, false)\\nN: 0\\n\",\"GridWorldState(1, 4, false)\\nN: 52\\n\",\"GridWorldState(6, 1, false)\\nN: 1111\\n\",\"GridWorldState(2, 4, false)\\nN: 59\\n\",\"GridWorldState(7, 2, false)\\nN: 961\\n\",\"GridWorldState(5, 5, false)\\nN: 24\\n\",\"GridWorldState(8, 1, false)\\nN: 184\\n\",\"GridWorldState(3, 2, false)\\nN: 230\\n\",\"GridWorldState(5, 6, false)\\nN: 13\\n\",\"GridWorldState(8, 6, false)\\nN: 10\\n\",\"GridWorldState(7, 4, false)\\nN: 87\\n\",\"GridWorldState(9, 2, false)\\nN: 179\\n\",\"GridWorldState(1, 3, false)\\nN: 105\\n\",\"GridWorldState(9, 2, false)\\nN: 179\\n\",\"GridWorldState(10, 4, false)\\nN: 14\\n\",\"GridWorldState(5, 4, false)\\nN: 43\\n\",\"GridWorldState(6, 9, false)\\nN: 1\\n\",\"GridWorldState(5, 2, false)\\nN: 438\\n\",\"GridWorldState(2, 3, false)\\nN: 109\\n\",\"GridWorldState(5, 2, false)\\nN: 438\\n\",\"GridWorldState(6, 4, false)\\nN: 66\\n\",\"GridWorldState(3, 3, false)\\nN: 65\\n\",\"GridWorldState(6, 3, false)\\nN: 225\\n\",\"GridWorldState(7, 3, false)\\nN: 407\\n\",\"GridWorldState(2, 1, false)\\nN: 284\\n\",\"GridWorldState(5, 1, false)\\nN: 1382\\n\",\"GridWorldState(6, 4, false)\\nN: 66\\n\",\"GridWorldState(3, 4, false)\\nN: 25\\n\",\"GridWorldState(6, 6, false)\\nN: 16\\n\",\"GridWorldState(8, 1, false)\\nN: 184\\n\",\"GridWorldState(4, 6, false)\\nN: 7\\n\",\"GridWorldState(5, 8, false)\\nN: 1\\n\",\"GridWorldState(4, 1, false)\\nN: 1899\\n\",\"GridWorldState(10, 3, false)\\nN: 14\\n\",\"GridWorldState(7, 3, false)\\nN: 407\\n\",\"GridWorldState(5, 4, false)\\nN: 43\\n\",\"GridWorldState(4, 6, false)\\nN: 7\\n\",\"GridWorldState(3, 5, false)\\nN: 8\\n\",\"GridWorldState(10, 4, false)\\nN: 14\\n\",\"GridWorldState(10, 2, false)\\nN: 51\\n\",\"GridWorldState(8, 3, false)\\nN: 704\\n\",\"GridWorldState(9, 1, false)\\nN: 120\\n\",\"GridWorldState(3, 1, false)\\nN: 520\\n\",\"GridWorldState(5, 2, false)\\nN: 438\\n\",\"GridWorldState(2, 2, false)\\nN: 221\\n\",\"GridWorldState(6, 6, false)\\nN: 16\\n\",\"GridWorldState(1, 5, false)\\nN: 14\\n\",\"GridWorldState(9, 3, true)\\nN: 0\\n\",\"GridWorldState(8, 3, false)\\nN: 704\\n\",\"GridWorldState(4, 6, true)\\nN: 0\\n\",\"GridWorldState(10, 4, false)\\nN: 14\\n\",\"GridWorldState(6, 3, false)\\nN: 225\\n\",\"GridWorldState(2, 3, false)\\nN: 109\\n\",\"GridWorldState(2, 4, false)\\nN: 59\\n\",\"GridWorldState(3, 7, false)\\nN: 1\\n\",\"GridWorldState(3, 2, false)\\nN: 230\\n\",\"GridWorldState(1, 2, false)\\nN: 155\\n\",\"GridWorldState(10, 5, false)\\nN: 3\\n\",\"GridWorldState(8, 2, false)\\nN: 733\\n\",\"GridWorldState(1, 4, false)\\nN: 52\\n\",\"GridWorldState(6, 5, false)\\nN: 30\\n\",\"GridWorldState(5, 5, false)\\nN: 24\\n\",\"GridWorldState(8, 6, false)\\nN: 10\\n\",\"GridWorldState(6, 4, false)\\nN: 66\\n\",\"GridWorldState(6, 2, false)\\nN: 1036\\n\",\"GridWorldState(3, 8, false)\\nN: 0\\n\",\"GridWorldState(3, 5, false)\\nN: 8\\n\",\"GridWorldState(1, 2, false)\\nN: 155\\n\",\"GridWorldState(1, 3, false)\\nN: 105\\n\",\"GridWorldState(1, 1, false)\\nN: 223\\n\",\"GridWorldState(6, 6, false)\\nN: 16\\n\",\"GridWorldState(7, 1, false)\\nN: 376\\n\",\"GridWorldState(2, 5, false)\\nN: 18\\n\",\"GridWorldState(10, 2, false)\\nN: 51\\n\",\"GridWorldState(4, 1, false)\\nN: 1899\\n\",\"GridWorldState(5, 5, false)\\nN: 24\\n\",\"GridWorldState(2, 5, false)\\nN: 18\\n\",\"GridWorldState(7, 8, false)\\nN: 1\\n\",\"GridWorldState(2, 2, false)\\nN: 221\\n\",\"GridWorldState(6, 2, false)\\nN: 1036\\n\",\"GridWorldState(2, 1, false)\\nN: 284\\n\",\"GridWorldState(1, 5, false)\\nN: 14\\n\",\"GridWorldState(8, 3, false)\\nN: 704\\n\",\"GridWorldState(5, 5, false)\\nN: 24\\n\",\"GridWorldState(9, 1, false)\\nN: 120\\n\",\"GridWorldState(4, 3, true)\\nN: 0\\n\",\"GridWorldState(4, 2, false)\\nN: 415\\n\",\"GridWorldState(2, 1, false)\\nN: 284\\n\",\"GridWorldState(9, 1, false)\\nN: 120\\n\",\"GridWorldState(8, 7, false)\\nN: 1\\n\",\"GridWorldState(2, 5, false)\\nN: 18\\n\",\"GridWorldState(7, 5, false)\\nN: 30\\n\",\"GridWorldState(6, 5, false)\\nN: 30\\n\",\"GridWorldState(4, 1, false)\\nN: 1899\\n\",\"GridWorldState(2, 4, false)\\nN: 59\\n\",\"GridWorldState(10, 1, false)\\nN: 57\\n\",\"GridWorldState(9, 3, false)\\nN: 590\\n\",\"GridWorldState(6, 1, false)\\nN: 1111\\n\",\"GridWorldState(2, 4, false)\\nN: 59\\n\",\"GridWorldState(3, 5, false)\\nN: 8\\n\",\"GridWorldState(3, 3, false)\\nN: 65\\n\",\"GridWorldState(5, 6, false)\\nN: 13\\n\",\"GridWorldState(8, 4, false)\\nN: 119\\n\",\"GridWorldState(4, 3, true)\\nN: 0\\n\",\"GridWorldState(8, 2, false)\\nN: 733\\n\",\"GridWorldState(1, 3, false)\\nN: 105\\n\",\"GridWorldState(6, 5, false)\\nN: 30\\n\",\"GridWorldState(6, 2, false)\\nN: 1036\\n\",\"GridWorldState(3, 2, false)\\nN: 230\\n\",\"GridWorldState(5, 1, false)\\nN: 1382\\n\",\"GridWorldState(5, 3, false)\\nN: 108\\n\",\"GridWorldState(7, 6, false)\\nN: 15\\n\",\"GridWorldState(1, 3, false)\\nN: 105\\n\",\"GridWorldState(7, 4, false)\\nN: 87\\n\",\"GridWorldState(8, 2, false)\\nN: 733\\n\",\"GridWorldState(8, 2, false)\\nN: 733\\n\",\"GridWorldState(3, 1, false)\\nN: 520\\n\",\"GridWorldState(9, 6, false)\\nN: 1\\n\",\"GridWorldState(5, 7, false)\\nN: 5\\n\",\"GridWorldState(4, 3, false)\\nN: 75\\n\",\"GridWorldState(1, 5, false)\\nN: 14\\n\",\"GridWorldState(3, 2, false)\\nN: 230\\n\",\"GridWorldState(9, 4, false)\\nN: 43\\n\",\"GridWorldState(10, 4, false)\\nN: 14\\n\",\"GridWorldState(2, 2, false)\\nN: 221\\n\",\"GridWorldState(1, 4, false)\\nN: 52\\n\",\"GridWorldState(8, 2, false)\\nN: 733\\n\",\"GridWorldState(7, 2, false)\\nN: 961\\n\",\"GridWorldState(5, 1, false)\\nN: 1382\\n\",\"GridWorldState(4, 1, false)\\nN: 1899\\n\",\"GridWorldState(3, 1, false)\\nN: 520\\n\",\"GridWorldState(6, 1, false)\\nN: 1111\\n\",\"GridWorldState(3, 2, false)\\nN: 230\\n\",\"GridWorldState(7, 1, false)\\nN: 376\\n\",\"GridWorldState(4, 1, false)\\nN: 1899\\n\",\"GridWorldState(5, 5, false)\\nN: 24\\n\",\"GridWorldState(5, 3, false)\\nN: 108\\n\",\"GridWorldState(2, 2, false)\\nN: 221\\n\",\"GridWorldState(3, 2, false)\\nN: 230\\n\",\"GridWorldState(7, 6, false)\\nN: 15\\n\",\"GridWorldState(1, 2, false)\\nN: 155\\n\",\"GridWorldState(7, 5, false)\\nN: 30\\n\",\"GridWorldState(5, 2, false)\\nN: 438\\n\",\"GridWorldState(8, 5, false)\\nN: 24\\n\",\"GridWorldState(4, 2, false)\\nN: 415\\n\",\"GridWorldState(10, 1, false)\\nN: 57\\n\",\"GridWorldState(1, 4, false)\\nN: 52\\n\",\"GridWorldState(7, 6, false)\\nN: 15\\n\",\"GridWorldState(8, 5, false)\\nN: 24\\n\",\"GridWorldState(9, 2, false)\\nN: 179\\n\",\"GridWorldState(10, 2, false)\\nN: 51\\n\",\"GridWorldState(8, 5, false)\\nN: 24\\n\",\"GridWorldState(4, 3, false)\\nN: 75\\n\",\"GridWorldState(6, 8, false)\\nN: 2\\n\",\"GridWorldState(1, 4, false)\\nN: 52\\n\",\"GridWorldState(10, 3, false)\\nN: 14\\n\",\"GridWorldState(8, 5, false)\\nN: 24\\n\",\"GridWorldState(9, 2, false)\\nN: 179\\n\",\"GridWorldState(8, 4, false)\\nN: 119\\n\",\"GridWorldState(2, 2, false)\\nN: 221\\n\",\"GridWorldState(8, 1, false)\\nN: 184\\n\",\"GridWorldState(6, 6, false)\\nN: 16\\n\",\"GridWorldState(1, 2, false)\\nN: 155\\n\",\"GridWorldState(2, 2, false)\\nN: 221\\n\",\"GridWorldState(3, 2, false)\\nN: 230\\n\",\"GridWorldState(1, 1, false)\\nN: 223\\n\",\"GridWorldState(1, 6, false)\\nN: 1\\n\",\"GridWorldState(4, 4, false)\\nN: 20\\n\",\"GridWorldState(7, 2, false)\\nN: 961\\n\",\"GridWorldState(1, 1, false)\\nN: 223\\n\",\"GridWorldState(6, 2, false)\\nN: 1036\\n\",\"GridWorldState(6, 4, false)\\nN: 66\\n\",\"GridWorldState(2, 3, false)\\nN: 109\\n\",\"GridWorldState(6, 3, false)\\nN: 225\\n\",\"GridWorldState(2, 1, false)\\nN: 284\\n\",\"GridWorldState(2, 2, false)\\nN: 221\\n\",\"GridWorldState(9, 3, false)\\nN: 590\\n\",\"GridWorldState(4, 1, false)\\nN: 1899\\n\",\"GridWorldState(5, 6, false)\\nN: 13\\n\",\"GridWorldState(8, 7, false)\\nN: 1\\n\",\"GridWorldState(8, 1, false)\\nN: 184\\n\",\"GridWorldState(5, 4, false)\\nN: 43\\n\",\"GridWorldState(1, 1, false)\\nN: 223\\n\",\"GridWorldState(4, 5, false)\\nN: 14\\n\",\"GridWorldState(6, 2, false)\\nN: 1036\\n\",\"GridWorldState(8, 6, false)\\nN: 10\\n\",\"GridWorldState(9, 5, false)\\nN: 8\\n\",\"GridWorldState(5, 4, false)\\nN: 43\\n\",\"GridWorldState(5, 6, false)\\nN: 13\\n\",\"GridWorldState(4, 4, false)\\nN: 20\\n\",\"GridWorldState(10, 6, false)\\nN: 0\\n\",\"GridWorldState(7, 2, false)\\nN: 961\\n\",\"GridWorldState(6, 4, false)\\nN: 66\\n\",\"GridWorldState(6, 4, false)\\nN: 66\\n\",\"GridWorldState(5, 1, false)\\nN: 1382\\n\",\"GridWorldState(8, 2, false)\\nN: 733\\n\",\"GridWorldState(7, 3, false)\\nN: 407\\n\",\"GridWorldState(9, 2, false)\\nN: 179\\n\",\"GridWorldState(8, 6, false)\\nN: 10\\n\",\"GridWorldState(7, 4, false)\\nN: 87\\n\",\"GridWorldState(3, 3, false)\\nN: 65\\n\",\"GridWorldState(1, 4, false)\\nN: 52\\n\",\"GridWorldState(5, 7, false)\\nN: 5\\n\",\"GridWorldState(8, 2, false)\\nN: 733\\n\",\"GridWorldState(7, 2, false)\\nN: 961\\n\",\"GridWorldState(8, 2, false)\\nN: 733\\n\",\"GridWorldState(8, 1, false)\\nN: 184\\n\",\"GridWorldState(7, 4, false)\\nN: 87\\n\",\"GridWorldState(6, 4, false)\\nN: 66\\n\",\"GridWorldState(6, 3, false)\\nN: 225\\n\",\"GridWorldState(8, 5, false)\\nN: 24\\n\",\"GridWorldState(10, 2, false)\\nN: 51\\n\",\"GridWorldState(5, 2, false)\\nN: 438\\n\",\"GridWorldState(7, 2, false)\\nN: 961\\n\",\"GridWorldState(7, 6, false)\\nN: 15\\n\",\"GridWorldState(4, 6, true)\\nN: 0\\n\",\"GridWorldState(9, 2, false)\\nN: 179\\n\",\"GridWorldState(5, 2, false)\\nN: 438\\n\",\"GridWorldState(6, 3, false)\\nN: 225\\n\",\"GridWorldState(3, 3, false)\\nN: 65\\n\",\"GridWorldState(6, 2, false)\\nN: 1036\\n\",\"GridWorldState(2, 1, false)\\nN: 284\\n\",\"GridWorldState(6, 3, false)\\nN: 225\\n\",\"GridWorldState(5, 1, false)\\nN: 1382\\n\",\"GridWorldState(5, 1, false)\\nN: 1382\\n\",\"GridWorldState(7, 4, false)\\nN: 87\\n\",\"GridWorldState(6, 5, false)\\nN: 30\\n\",\"GridWorldState(2, 5, false)\\nN: 18\\n\",\"GridWorldState(3, 1, false)\\nN: 520\\n\",\"GridWorldState(3, 3, false)\\nN: 65\\n\",\"GridWorldState(7, 4, false)\\nN: 87\\n\",\"GridWorldState(5, 4, false)\\nN: 43\\n\",\"GridWorldState(3, 4, false)\\nN: 25\\n\",\"GridWorldState(9, 5, false)\\nN: 8\\n\",\"GridWorldState(6, 2, false)\\nN: 1036\\n\",\"GridWorldState(2, 4, false)\\nN: 59\\n\",\"GridWorldState(10, 4, false)\\nN: 14\\n\",\"GridWorldState(9, 4, false)\\nN: 43\\n\",\"GridWorldState(3, 1, false)\\nN: 520\\n\",\"GridWorldState(10, 5, false)\\nN: 3\\n\",\"GridWorldState(2, 4, false)\\nN: 59\\n\",\"GridWorldState(5, 4, false)\\nN: 43\\n\",\"GridWorldState(1, 3, false)\\nN: 105\\n\",\"GridWorldState(7, 5, false)\\nN: 30\\n\",\"GridWorldState(7, 1, false)\\nN: 376\\n\",\"GridWorldState(8, 4, false)\\nN: 119\\n\",\"GridWorldState(10, 5, false)\\nN: 3\\n\",\"GridWorldState(4, 4, false)\\nN: 20\\n\",\"GridWorldState(4, 3, false)\\nN: 75\\n\",\"GridWorldState(9, 3, false)\\nN: 590\\n\",\"GridWorldState(4, 2, false)\\nN: 415\\n\",\"GridWorldState(4, 3, true)\\nN: 0\\n\",\"GridWorldState(7, 1, false)\\nN: 376\\n\",\"GridWorldState(9, 3, false)\\nN: 590\\n\",\"GridWorldState(5, 5, false)\\nN: 24\\n\",\"GridWorldState(1, 4, false)\\nN: 52\\n\",\"GridWorldState(6, 5, false)\\nN: 30\\n\",\"GridWorldState(9, 5, false)\\nN: 8\\n\",\"GridWorldState(4, 5, false)\\nN: 14\\n\",\"GridWorldState(4, 6, false)\\nN: 7\\n\",\"GridWorldState(6, 8, false)\\nN: 2\\n\",\"GridWorldState(8, 2, false)\\nN: 733\\n\",\"GridWorldState(4, 2, false)\\nN: 415\\n\",\"GridWorldState(2, 5, false)\\nN: 18\\n\",\"GridWorldState(2, 4, false)\\nN: 59\\n\",\"GridWorldState(9, 1, false)\\nN: 120\\n\",\"GridWorldState(3, 2, false)\\nN: 230\\n\",\"GridWorldState(6, 2, false)\\nN: 1036\\n\",\"GridWorldState(2, 4, false)\\nN: 59\\n\",\"GridWorldState(2, 3, false)\\nN: 109\\n\",\"GridWorldState(6, 1, false)\\nN: 1111\\n\",\"GridWorldState(1, 3, false)\\nN: 105\\n\",\"GridWorldState(6, 3, false)\\nN: 225\\n\",\"GridWorldState(5, 4, false)\\nN: 43\\n\",\"GridWorldState(2, 1, false)\\nN: 284\\n\",\"up\\nQ: -0.8750452279114933\\nN: 119\\n\",\"down\\nQ: 0.0\\nN: 300\\n\",\"left\\nQ: -0.9433095430902446\\nN: 114\\n\",\"right\\nQ: 1.817577316179944\\nN: 1366\\n\",\"up\\nQ: -7.714285714285714\\nN: 7\\n\",\"down\\nQ: 0.24257923002901058\\nN: 283\\n\",\"left\\nQ: -1.3521292967334158\\nN: 72\\n\",\"right\\nQ: -1.70447179245283\\nN: 53\\n\",\"up\\nQ: -10.0\\nN: 19\\n\",\"down\\nQ: -10.0\\nN: 19\\n\",\"left\\nQ: -10.0\\nN: 19\\n\",\"right\\nQ: -10.0\\nN: 18\\n\",\"up\\nQ: -0.9256412567320158\\nN: 62\\n\",\"down\\nQ: 0.0\\nN: 128\\n\",\"left\\nQ: -1.1749203206077314\\nN: 59\\n\",\"right\\nQ: 0.7755356449074859\\nN: 271\\n\",\"up\\nQ: -0.5446928798933078\\nN: 58\\n\",\"down\\nQ: 0.0\\nN: 93\\n\",\"left\\nQ: -0.23102261027433116\\nN: 72\\n\",\"right\\nQ: 2.6518786854305563\\nN: 1159\\n\",\"up\\nQ: -1.8237356627494896\\nN: 24\\n\",\"down\\nQ: -0.7157595182335715\\nN: 42\\n\",\"left\\nQ: -2.416858126625295\\nN: 22\\n\",\"right\\nQ: 2.414701111733553\\nN: 350\\n\",\"up\\nQ: -1.068159300894156\\nN: 26\\n\",\"down\\nQ: -1.3572531332128124\\nN: 16\\n\",\"left\\nQ: -5.142857142857143\\nN: 7\\n\",\"right\\nQ: 0.25046945140881355\\nN: 59\\n\",\"up\\nQ: -2.773803178827\\nN: 27\\n\",\"down\\nQ: -0.8078328373154084\\nN: 60\\n\",\"left\\nQ: -0.21438697011294375\\nN: 80\\n\",\"right\\nQ: -0.442544032110484\\nN: 63\\n\",\"up\\nQ: 0.0\\nN: 0\\n\",\"down\\nQ: 0.0\\nN: 0\\n\",\"left\\nQ: 0.0\\nN: 0\\n\",\"right\\nQ: 0.0\\nN: 0\\n\",\"up\\nQ: -0.59333607\\nN: 27\\n\",\"down\\nQ: 0.0\\nN: 36\\n\",\"left\\nQ: -1.0383812608695653\\nN: 23\\n\",\"right\\nQ: 3.854406632535489\\nN: 950\\n\",\"up\\nQ: 3.416391542785891\\nN: 833\\n\",\"down\\nQ: 0.0\\nN: 40\\n\",\"left\\nQ: 1.637559841629266\\nN: 124\\n\",\"right\\nQ: 1.5541585256056738\\nN: 114\\n\",\"up\\nQ: -3.3168492737181814\\nN: 11\\n\",\"down\\nQ: -2.9037705000000007\\nN: 18\\n\",\"left\\nQ: -0.7154576588119992\\nN: 32\\n\",\"right\\nQ: -8.5725\\nN: 4\\n\",\"up\\nQ: 3.589330888224941\\nN: 198\\n\",\"down\\nQ: 0.0\\nN: 28\\n\",\"left\\nQ: 2.8288753394490485\\nN: 111\\n\",\"right\\nQ: 1.1856918427130774\\nN: 39\\n\",\"up\\nQ: -0.21913770374999997\\nN: 12\\n\",\"down\\nQ: -0.3738096945000002\\nN: 10\\n\",\"left\\nQ: -1.1657205\\nN: 9\\n\",\"right\\nQ: -0.2764192499999999\\nN: 12\\n\",\"up\\nQ: -0.7229912060086581\\nN: 19\\n\",\"down\\nQ: -6.16821642\\nN: 5\\n\",\"left\\nQ: -1.1671109012218235\\nN: 17\\n\",\"right\\nQ: 3.301376490671865\\nN: 184\\n\",\"up\\nQ: 3.654849688291229\\nN: 151\\n\",\"down\\nQ: 0.0\\nN: 21\\n\",\"left\\nQ: 0.8608301821352812\\nN: 32\\n\",\"right\\nQ: 4.963760475688593\\nN: 757\\n\",\"up\\nQ: -1.8965672099999997\\nN: 5\\n\",\"down\\nQ: -0.5785714285714287\\nN: 7\\n\",\"left\\nQ: -3.280973050125\\nN: 4\\n\",\"right\\nQ: 0.0\\nN: 8\\n\",\"up\\nQ: 0.19371024450000005\\nN: 18\\n\",\"down\\nQ: 0.3645\\nN: 18\\n\",\"left\\nQ: -0.5207142857142857\\nN: 14\\n\",\"right\\nQ: 5.278402874606035\\nN: 357\\n\",\"up\\nQ: -0.3351891201717856\\nN: 14\\n\",\"down\\nQ: 1.5363675\\nN: 24\\n\",\"left\\nQ: -0.05207142857142856\\nN: 14\\n\",\"right\\nQ: 0.0\\nN: 14\\n\",\"up\\nQ: -0.12789473684210526\\nN: 57\\n\",\"down\\nQ: 0.08758975200184288\\nN: 63\\n\",\"left\\nQ: -0.2095660588235294\\nN: 51\\n\",\"right\\nQ: -0.2348344896381002\\nN: 50\\n\",\"up\\nQ: -2.85565575\\nN: 6\\n\",\"down\\nQ: -2.7910512225\\nN: 2\\n\",\"left\\nQ: -4.5\\nN: 2\\n\",\"right\\nQ: 0.0\\nN: 3\\n\",\"up\\nQ: 3.999410837648101\\nN: 90\\n\",\"down\\nQ: 0.0\\nN: 14\\n\",\"left\\nQ: 0.838012671818182\\nN: 22\\n\",\"right\\nQ: 3.040042474657396\\nN: 58\\n\",\"up\\nQ: -0.442098\\nN: 25\\n\",\"down\\nQ: -0.09806581127812504\\nN: 32\\n\",\"left\\nQ: -0.07667961915459148\\nN: 30\\n\",\"right\\nQ: -0.9646363636363637\\nN: 22\\n\",\"up\\nQ: 0.10444081036029995\\nN: 85\\n\",\"down\\nQ: 0.0\\nN: 88\\n\",\"left\\nQ: -0.05902449475366213\\nN: 74\\n\",\"right\\nQ: -1.1503249504315658\\nN: 37\\n\",\"up\\nQ: -0.07450394019230769\\nN: 52\\n\",\"down\\nQ: 0.0\\nN: 62\\n\",\"left\\nQ: 0.0\\nN: 56\\n\",\"right\\nQ: -0.03695610632433962\\nN: 53\\n\",\"up\\nQ: 6.18024846069821\\nN: 606\\n\",\"down\\nQ: 1.1380500000000002\\nN: 20\\n\",\"left\\nQ: 1.952125546153846\\nN: 26\\n\",\"right\\nQ: 4.327091430019999\\nN: 81\\n\",\"up\\nQ: -0.04240683730945948\\nN: 37\\n\",\"down\\nQ: 0.0\\nN: 42\\n\",\"left\\nQ: 0.0\\nN: 42\\n\",\"right\\nQ: -0.2829141794117647\\nN: 34\\n\",\"up\\nQ: -0.3019238310865911\\nN: 22\\n\",\"down\\nQ: 0.0\\nN: 26\\n\",\"left\\nQ: 0.0\\nN: 31\\n\",\"right\\nQ: 0.0\\nN: 26\\n\",\"up\\nQ: -0.5283006668181819\\nN: 11\\n\",\"down\\nQ: 0.0\\nN: 13\\n\",\"left\\nQ: 0.0\\nN: 14\\n\",\"right\\nQ: 0.0\\nN: 14\\n\",\"up\\nQ: 0.0\\nN: 10\\n\",\"down\\nQ: -3.0\\nN: 3\\n\",\"left\\nQ: 0.0\\nN: 4\\n\",\"right\\nQ: 0.0\\nN: 3\\n\",\"up\\nQ: -0.9424928571428572\\nN: 7\\n\",\"down\\nQ: 0.0\\nN: 8\\n\",\"left\\nQ: -0.6459289972071428\\nN: 7\\n\",\"right\\nQ: 0.0\\nN: 8\\n\",\"up\\nQ: 0.5207142857142858\\nN: 14\\n\",\"down\\nQ: 0.9112500000000002\\nN: 16\\n\",\"left\\nQ: 1.2498705\\nN: 18\\n\",\"right\\nQ: 3.1007306561538464\\nN: 39\\n\",\"up\\nQ: 0.0\\nN: 15\\n\",\"down\\nQ: -0.395847\\nN: 15\\n\",\"left\\nQ: 0.0\\nN: 15\\n\",\"right\\nQ: 0.0\\nN: 14\\n\",\"up\\nQ: 0.47829690000000014\\nN: 10\\n\",\"down\\nQ: 2.2772562631578945\\nN: 19\\n\",\"left\\nQ: 0.6428571428571428\\nN: 14\\n\",\"right\\nQ: 7.81226554829066\\nN: 661\\n\",\"up\\nQ: 0.0\\nN: 5\\n\",\"down\\nQ: 0.0\\nN: 6\\n\",\"left\\nQ: 0.0\\nN: 4\\n\",\"right\\nQ: 0.0\\nN: 3\\n\",\"up\\nQ: 0.0\\nN: 5\\n\",\"down\\nQ: 0.0\\nN: 4\\n\",\"left\\nQ: -3.1908340125\\nN: 4\\n\",\"right\\nQ: -1.35\\nN: 3\\n\",\"up\\nQ: -1.2072969\\nN: 5\\n\",\"down\\nQ: 0.0\\nN: 6\\n\",\"left\\nQ: 0.0\\nN: 9\\n\",\"right\\nQ: 0.0\\nN: 5\\n\",\"up\\nQ: 0.0\\nN: 7\\n\",\"down\\nQ: 0.0\\nN: 7\\n\",\"left\\nQ: -0.3796007142857143\\nN: 7\\n\",\"right\\nQ: 0.3958470000000001\\nN: 9\\n\",\"up\\nQ: 0.0\\nN: 4\\n\",\"down\\nQ: -2.6719672500000002\\nN: 2\\n\",\"left\\nQ: 0.0\\nN: 3\\n\",\"right\\nQ: 0.0\\nN: 6\\n\",\"up\\nQ: 0.0\\nN: 3\\n\",\"down\\nQ: 0.0\\nN: 3\\n\",\"left\\nQ: 0.0\\nN: 0\\n\",\"right\\nQ: 0.0\\nN: 0\\n\",\"up\\nQ: 4.317355862068964\\nN: 58\\n\",\"down\\nQ: 0.0\\nN: 16\\n\",\"left\\nQ: 2.682660698685\\nN: 26\\n\",\"right\\nQ: 1.5011597200500002\\nN: 20\\n\",\"up\\nQ: 1.6257857142857142\\nN: 14\\n\",\"down\\nQ: 4.661781428571428\\nN: 42\\n\",\"left\\nQ: 1.9288125000000003\\nN: 16\\n\",\"right\\nQ: 4.305099712787233\\nN: 47\\n\",\"up\\nQ: 7.654844834651158\\nN: 129\\n\",\"down\\nQ: 4.3907333333333325\\nN: 27\\n\",\"left\\nQ: 1.456207389\\nN: 10\\n\",\"right\\nQ: 2.504451461538461\\nN: 13\\n\",\"up\\nQ: -4.5\\nN: 2\\n\",\"down\\nQ: -0.75\\nN: 6\\n\",\"left\\nQ: -1.125\\nN: 4\\n\",\"right\\nQ: -4.0725\\nN: 2\\n\",\"up\\nQ: 0.0\\nN: 2\\n\",\"down\\nQ: 0.0\\nN: 0\\n\",\"left\\nQ: 0.0\\nN: 0\\n\",\"right\\nQ: 0.0\\nN: 0\\n\",\"up\\nQ: -5.0\\nN: 2\\n\",\"down\\nQ: -5.0\\nN: 2\\n\",\"left\\nQ: -5.0\\nN: 2\\n\",\"right\\nQ: -5.0\\nN: 1\\n\",\"up\\nQ: 0.0\\nN: 3\\n\",\"down\\nQ: 3.4718625000000003\\nN: 8\\n\",\"left\\nQ: 1.606924285714286\\nN: 7\\n\",\"right\\nQ: 1.2149999999999999\\nN: 6\\n\",\"up\\nQ: 10.0\\nN: 148\\n\",\"down\\nQ: 10.0\\nN: 148\\n\",\"left\\nQ: 10.0\\nN: 147\\n\",\"right\\nQ: 10.0\\nN: 147\\n\",\"up\\nQ: 0.0\\nN: 0\\n\",\"down\\nQ: 0.0\\nN: 0\\n\",\"left\\nQ: 0.0\\nN: 0\\n\",\"right\\nQ: 0.0\\nN: 0\\n\",\"up\\nQ: 2.7917246842105268\\nN: 19\\n\",\"down\\nQ: 0.0\\nN: 12\\n\",\"left\\nQ: 2.325562071428571\\nN: 14\\n\",\"right\\nQ: 0.0\\nN: 12\\n\",\"up\\nQ: 0.0\\nN: 3\\n\",\"down\\nQ: 0.0\\nN: 4\\n\",\"left\\nQ: 0.0\\nN: 3\\n\",\"right\\nQ: 0.0\\nN: 4\\n\",\"up\\nQ: 0.0\\nN: 1\\n\",\"down\\nQ: 0.0\\nN: 0\\n\",\"left\\nQ: 0.0\\nN: 0\\n\",\"right\\nQ: 0.0\\nN: 0\\n\",\"up\\nQ: 4.9718205\\nN: 20\\n\",\"down\\nQ: 2.372390930769231\\nN: 13\\n\",\"left\\nQ: 2.8234363153846154\\nN: 13\\n\",\"right\\nQ: 0.0\\nN: 5\\n\",\"up\\nQ: 0.0\\nN: 3\\n\",\"down\\nQ: 3.2805\\nN: 2\\n\",\"left\\nQ: 0.0\\nN: 3\\n\",\"right\\nQ: 1.215\\nN: 2\\n\",\"up\\nQ: 0.0\\nN: 0\\n\",\"down\\nQ: 0.0\\nN: 0\\n\",\"left\\nQ: 0.0\\nN: 0\\n\",\"right\\nQ: 0.0\\nN: 0\\n\",\"up\\nQ: 0.0\\nN: 2\\n\",\"down\\nQ: 3.0\\nN: 3\\n\",\"left\\nQ: 7.027842857142857\\nN: 7\\n\",\"right\\nQ: 0.0\\nN: 2\\n\",\"up\\nQ: 0.0\\nN: 4\\n\",\"down\\nQ: 7.253040375000003\\nN: 24\\n\",\"left\\nQ: 0.0\\nN: 7\\n\",\"right\\nQ: 4.28625\\nN: 8\\n\",\"up\\nQ: 0.0\\nN: 2\\n\",\"down\\nQ: 0.0\\nN: 2\\n\",\"left\\nQ: -2.025\\nN: 2\\n\",\"right\\nQ: 0.0\\nN: 2\\n\",\"up\\nQ: 0.0\\nN: 1\\n\",\"down\\nQ: 0.0\\nN: 0\\n\",\"left\\nQ: 0.0\\nN: 0\\n\",\"right\\nQ: 0.0\\nN: 0\\n\",\"up\\nQ: 0.0\\nN: 1\\n\",\"down\\nQ: 0.0\\nN: 0\\n\",\"left\\nQ: 0.0\\nN: 0\\n\",\"right\\nQ: 0.0\\nN: 0\\n\",\"up\\nQ: 0.0\\nN: 2\\n\",\"down\\nQ: 2.7\\nN: 3\\n\",\"left\\nQ: 0.0\\nN: 2\\n\",\"right\\nQ: 0.0\\nN: 1\\n\",\"up\\nQ: 2.7\\nN: 1\\n\",\"down\\nQ: 0.0\\nN: 0\\n\",\"left\\nQ: 0.0\\nN: 0\\n\",\"right\\nQ: 0.0\\nN: 0\\n\",\"up\\nQ: 0.0\\nN: 2\\n\",\"down\\nQ: 0.0\\nN: 0\\n\",\"left\\nQ: 0.0\\nN: 0\\n\",\"right\\nQ: 0.0\\nN: 0\\n\",\"up\\nQ: 0.0\\nN: 1\\n\",\"down\\nQ: 0.0\\nN: 0\\n\",\"left\\nQ: 0.0\\nN: 0\\n\",\"right\\nQ: 0.0\\nN: 0\\n\",\"up\\nQ: 0.0\\nN: 2\\n\",\"down\\nQ: -3.329235\\nN: 3\\n\",\"left\\nQ: 0.0\\nN: 0\\n\",\"right\\nQ: 0.0\\nN: 0\\n\",\"up\\nQ: 0.0\\nN: 3\\n\",\"down\\nQ: -3.645\\nN: 1\\n\",\"left\\nQ: 0.0\\nN: 0\\n\",\"right\\nQ: 0.0\\nN: 0\\n\",\"up\\nQ: 0.0\\nN: 3\\n\",\"down\\nQ: 2.0250000000000004\\nN: 4\\n\",\"left\\nQ: 0.0\\nN: 2\\n\",\"right\\nQ: 0.0\\nN: 5\\n\",\"up\\nQ: 0.0\\nN: 0\\n\",\"down\\nQ: 0.0\\nN: 0\\n\",\"left\\nQ: 0.0\\nN: 0\\n\",\"right\\nQ: 0.0\\nN: 0\\n\",\"up\\nQ: 0.0\\nN: 1\\n\",\"down\\nQ: 0.0\\nN: 0\\n\",\"left\\nQ: 0.0\\nN: 0\\n\",\"right\\nQ: 0.0\\nN: 0\\n\",\"up\\nQ: 0.0\\nN: 1\\n\",\"down\\nQ: 0.0\\nN: 0\\n\",\"left\\nQ: 0.0\\nN: 0\\n\",\"right\\nQ: 0.0\\nN: 0\\n\",\"up\\nQ: 0.0\\nN: 0\\n\",\"down\\nQ: 0.0\\nN: 0\\n\",\"left\\nQ: 0.0\\nN: 0\\n\",\"right\\nQ: 0.0\\nN: 0\\n\",\"up\\nQ: 0.0\\nN: 2\\n\",\"down\\nQ: 0.0\\nN: 1\\n\",\"left\\nQ: 0.0\\nN: 0\\n\",\"right\\nQ: 0.0\\nN: 0\\n\",\"up\\nQ: 0.0\\nN: 2\\n\",\"down\\nQ: 0.0\\nN: 0\\n\",\"left\\nQ: 0.0\\nN: 0\\n\",\"right\\nQ: 0.0\\nN: 0\\n\",\"up\\nQ: 0.0\\nN: 0\\n\",\"down\\nQ: 0.0\\nN: 0\\n\",\"left\\nQ: 0.0\\nN: 0\\n\",\"right\\nQ: 0.0\\nN: 0\\n\",\"up\\nQ: 0.0\\nN: 0\\n\",\"down\\nQ: 0.0\\nN: 0\\n\",\"left\\nQ: 0.0\\nN: 0\\n\",\"right\\nQ: 0.0\\nN: 0\\n\",\"up\\nQ: 0.0\\nN: 1\\n\",\"down\\nQ: 0.0\\nN: 0\\n\",\"left\\nQ: 0.0\\nN: 0\\n\",\"right\\nQ: 0.0\\nN: 0\\n\",\"up\\nQ: 0.0\\nN: 0\\n\",\"down\\nQ: 0.0\\nN: 0\\n\",\"left\\nQ: 0.0\\nN: 0\\n\",\"right\\nQ: 0.0\\nN: 0\\n\",\"up\\nQ: 0.0\\nN: 0\\n\",\"down\\nQ: 0.0\\nN: 0\\n\",\"left\\nQ: 0.0\\nN: 0\\n\",\"right\\nQ: 0.0\\nN: 0\\n\",\"up\\nQ: 0.0\\nN: 0\\n\",\"down\\nQ: 0.0\\nN: 0\\n\",\"left\\nQ: 0.0\\nN: 0\\n\",\"right\\nQ: 0.0\\nN: 0\\n\"],\"link_style\":[\"stroke-width:20.0px\",\"stroke-width:16.81542805549877px\",\"stroke-width:17.728105208558368px\",\"stroke-width:7.559289460184544px\",\"stroke-width:4.603482701187488px\",\"stroke-width:14.142135623730951px\",\"stroke-width:16.32993161855452px\",\"stroke-width:20.0px\",\"stroke-width:5.547001962252292px\",\"stroke-width:16.32993161855452px\",\"stroke-width:16.81542805549877px\",\"stroke-width:7.385489458759964px\",\"stroke-width:17.88854381999832px\",\"stroke-width:4.509876168016973px\",\"stroke-width:11.094003924504584px\",\"stroke-width:12.24744871391589px\",\"stroke-width:20.0px\",\"stroke-width:12.403473458920846px\",\"stroke-width:17.175564037317667px\",\"stroke-width:18.618986725025255px\",\"stroke-width:20.0px\",\"stroke-width:17.32050807568877px\",\"stroke-width:20.0px\",\"stroke-width:20.0px\",\"stroke-width:15.491933384829668px\",\"stroke-width:4.898979485566356px\",\"stroke-width:7.6011695006609195px\",\"stroke-width:5.494422557947561px\",\"stroke-width:20.0px\",\"stroke-width:8.728715609439694px\",\"stroke-width:20.0px\",\"stroke-width:9.058216273156766px\",\"stroke-width:20.0px\",\"stroke-width:7.559289460184544px\",\"stroke-width:14.142135623730951px\",\"stroke-width:11.547005383792515px\",\"stroke-width:8.16496580927726px\",\"stroke-width:20.0px\",\"stroke-width:6.708203932499369px\",\"stroke-width:16.51445647689541px\",\"stroke-width:15.491933384829668px\",\"stroke-width:20.0px\",\"stroke-width:8.16496580927726px\",\"stroke-width:17.638342073763937px\",\"stroke-width:15.421992019121195px\",\"stroke-width:8.40168050416806px\",\"stroke-width:17.45381796597535px\",\"stroke-width:8.660254037844386px\",\"stroke-width:8.16496580927726px\",\"stroke-width:6.948083337796512px\",\"stroke-width:14.142135623730951px\",\"stroke-width:17.010634971324837px\",\"stroke-width:5.0px\",\"stroke-width:9.428090415820634px\",\"stroke-width:8.528028654224418px\",\"stroke-width:20.0px\",\"stroke-width:6.172133998483677px\",\"stroke-width:16.836668000401453px\",\"stroke-width:10.0px\",\"stroke-width:20.0px\",\"stroke-width:15.374122295716148px\",\"stroke-width:8.16496580927726px\",\"stroke-width:8.16496580927726px\",\"stroke-width:6.414269805898185px\",\"stroke-width:6.324555320336759px\",\"stroke-width:7.370277311900888px\",\"stroke-width:14.142135623730951px\",\"stroke-width:14.142135623730951px\",\"stroke-width:7.364596943186586px\",\"stroke-width:14.142135623730951px\",\"stroke-width:8.528028654224418px\",\"stroke-width:7.745966692414834px\",\"stroke-width:7.947194142390263px\",\"stroke-width:16.641005886756876px\",\"stroke-width:7.559289460184544px\",\"stroke-width:5.1639777949432215px\",\"stroke-width:7.559289460184544px\",\"stroke-width:10.0px\",\"stroke-width:7.844645405527362px\",\"stroke-width:11.547005383792515px\",\"stroke-width:5.893546772311472px\",\"stroke-width:10.95445115010332px\",\"stroke-width:6.133821188805362px\",\"stroke-width:7.811334658849432px\",\"stroke-width:16.113631583445663px\",\"stroke-width:16.962290477574484px\",\"stroke-width:16.756690808095854px\",\"stroke-width:20.0px\",\"stroke-width:16.73320053068151px\",\"stroke-width:20.0px\",\"stroke-width:7.302967433402214px\",\"stroke-width:4.85071250072666px\",\"stroke-width:7.302967433402214px\",\"stroke-width:15.869840952317444px\",\"stroke-width:4.588314677411235px\",\"stroke-width:18.149704259460602px\",\"stroke-width:7.385489458759964px\",\"stroke-width:4.170288281141495px\",\"stroke-width:7.669649888473704px\",\"stroke-width:7.747856644057553px\",\"stroke-width:14.142135623730951px\",\"stroke-width:5.0px\",\"stroke-width:3.922322702763681px\",\"stroke-width:18.516401995451027px\",\"stroke-width:15.491933384829668px\",\"stroke-width:17.638342073763937px\",\"stroke-width:7.793716634692394px\",\"stroke-width:5.3452248382484875px\",\"stroke-width:4.714045207910317px\",\"stroke-width:16.99673171197595px\",\"stroke-width:17.32050807568877px\",\"stroke-width:14.142135623730951px\",\"stroke-width:11.327042279097082px\",\"stroke-width:16.583123951776997px\",\"stroke-width:10.690449676496975px\",\"stroke-width:5.398061952931082px\",\"stroke-width:8.94427190999916px\",\"stroke-width:20.0px\",\"stroke-width:7.844645405527362px\",\"stroke-width:16.035674514745462px\",\"stroke-width:8.16496580927726px\",\"stroke-width:8.251369970070346px\",\"stroke-width:20.0px\",\"stroke-width:5.494422557947561px\",\"stroke-width:8.94427190999916px\",\"stroke-width:7.431017242360253px\",\"stroke-width:9.534625892455924px\",\"stroke-width:8.728715609439694px\",\"stroke-width:10.0px\",\"stroke-width:20.0px\",\"stroke-width:6.177584007491222px\",\"stroke-width:5.773502691896257px\",\"stroke-width:16.903085094570333px\",\"stroke-width:20.0px\",\"stroke-width:20.0px\",\"stroke-width:17.822655773580138px\",\"stroke-width:20.0px\",\"stroke-width:14.142135623730951px\",\"stroke-width:6.460938417225139px\",\"stroke-width:17.728105208558368px\",\"stroke-width:20.0px\",\"stroke-width:17.32050807568877px\",\"stroke-width:8.660254037844386px\",\"stroke-width:8.16496580927726px\",\"stroke-width:16.32993161855452px\",\"stroke-width:5.3452248382484875px\",\"stroke-width:14.142135623730951px\",\"stroke-width:4.85071250072666px\",\"stroke-width:20.0px\",\"stroke-width:11.547005383792515px\",\"stroke-width:6.59380473395787px\",\"stroke-width:8.16496580927726px\",\"stroke-width:5.451081150953975px\",\"stroke-width:16.80851914326404px\",\"stroke-width:20.0px\",\"stroke-width:15.811388300841898px\",\"stroke-width:7.0710678118654755px\",\"stroke-width:8.94427190999916px\",\"stroke-width:6.324555320336759px\",\"stroke-width:15.118578920369089px\",\"stroke-width:8.16496580927726px\",\"stroke-width:9.258200997725513px\",\"stroke-width:6.793662204867575px\",\"stroke-width:8.94427190999916px\",\"stroke-width:8.37707816583391px\",\"stroke-width:20.0px\",\"stroke-width:6.030226891555273px\",\"stroke-width:7.495496847387482px\",\"stroke-width:11.547005383792515px\",\"stroke-width:5.773502691896257px\",\"stroke-width:7.559289460184544px\",\"stroke-width:16.618979396776332px\",\"stroke-width:16.641005886756876px\",\"stroke-width:5.0px\",\"stroke-width:6.819943394704735px\",\"stroke-width:17.32050807568877px\",\"stroke-width:20.0px\",\"stroke-width:7.559289460184544px\",\"stroke-width:9.15810939779251px\",\"stroke-width:7.559289460184544px\",\"stroke-width:6.5079137345596845px\",\"stroke-width:6.666666666666666px\",\"stroke-width:17.32050807568877px\",\"stroke-width:6.666666666666666px\",\"stroke-width:8.02157953867679px\",\"stroke-width:6.172133998483677px\",\"stroke-width:5.834599659915782px\",\"stroke-width:20.0px\",\"stroke-width:12.060453783110546px\",\"stroke-width:8.16496580927726px\",\"stroke-width:7.0087664405046235px\",\"stroke-width:18.856180831641268px\",\"stroke-width:10.0px\",\"stroke-width:16.99673171197595px\",\"stroke-width:20.0px\",\"stroke-width:9.759000729485333px\",\"stroke-width:5.547001962252292px\",\"stroke-width:5.298129428260175px\",\"stroke-width:8.053872662568292px\",\"stroke-width:5.82222509739582px\",\"stroke-width:11.547005383792515px\",\"stroke-width:10.0px\",\"stroke-width:4.08248290463863px\",\"stroke-width:17.811271131234424px\",\"stroke-width:17.26381231612168px\",\"stroke-width:15.491933384829668px\",\"stroke-width:17.728105208558368px\",\"stroke-width:5.443310539518174px\",\"stroke-width:8.660254037844386px\",\"stroke-width:5.547001962252292px\",\"stroke-width:6.859943405700354px\",\"stroke-width:16.68115312456598px\",\"stroke-width:7.126966450997983px\",\"stroke-width:7.947194142390263px\",\"stroke-width:16.583123951776997px\",\"stroke-width:20.0px\",\"stroke-width:11.547005383792515px\",\"stroke-width:3.922322702763681px\",\"stroke-width:16.655910507645917px\",\"stroke-width:17.88854381999832px\",\"stroke-width:8.606629658238704px\",\"stroke-width:17.056057308448835px\",\"stroke-width:17.32050807568877px\",\"stroke-width:6.7292658491045305px\",\"stroke-width:6.666666666666666px\",\"stroke-width:3.8490017945975055px\",\"stroke-width:17.156328938368762px\",\"stroke-width:10.690449676496975px\",\"stroke-width:6.4051261522034855px\",\"stroke-width:20.0px\",\"stroke-width:16.641005886756876px\",\"stroke-width:14.142135623730951px\",\"stroke-width:16.942810378724417px\",\"stroke-width:20.0px\",\"stroke-width:20.0px\",\"stroke-width:18.856180831641268px\",\"stroke-width:20.0px\",\"stroke-width:5.65685424949238px\",\"stroke-width:20.0px\",\"stroke-width:20.0px\",\"stroke-width:17.32050807568877px\",\"stroke-width:14.142135623730951px\",\"stroke-width:5.039526306789696px\",\"stroke-width:7.0710678118654755px\",\"stroke-width:16.035674514745462px\",\"stroke-width:17.32050807568877px\",\"stroke-width:10.0px\",\"stroke-width:11.547005383792515px\",\"stroke-width:17.08484392354498px\",\"stroke-width:5.773502691896257px\",\"stroke-width:7.709969587458271px\",\"stroke-width:7.947194142390263px\",\"stroke-width:17.32050807568877px\",\"stroke-width:5.583519815231302px\",\"stroke-width:7.844645405527362px\",\"stroke-width:20.0px\",\"stroke-width:4.85071250072666px\",\"stroke-width:20.0px\",\"stroke-width:4.969039949999533px\",\"stroke-width:11.547005383792515px\",\"stroke-width:5.63436169819011px\",\"stroke-width:5.3452248382484875px\",\"stroke-width:19.27248223318863px\",\"stroke-width:6.397194104389903px\",\"stroke-width:15.118578920369089px\",\"stroke-width:7.4833147735478835px\",\"stroke-width:5.773502691896257px\",\"stroke-width:14.474937289114918px\",\"stroke-width:14.142135623730951px\",\"stroke-width:5.840250605220888px\",\"stroke-width:10.0px\",\"stroke-width:10.0px\",\"stroke-width:6.030226891555273px\",\"stroke-width:6.324555320336759px\",\"stroke-width:4.714045207910317px\",\"stroke-width:7.559289460184544px\",\"stroke-width:6.030226891555273px\",\"stroke-width:18.397324220155998px\",\"stroke-width:8.16496580927726px\",\"stroke-width:20.0px\",\"stroke-width:8.94427190999916px\",\"stroke-width:6.488856845230502px\",\"stroke-width:20.0px\",\"stroke-width:20.0px\",\"stroke-width:16.709515875454898px\",\"stroke-width:5.872202195147035px\",\"stroke-width:14.142135623730951px\",\"stroke-width:8.94427190999916px\",\"stroke-width:16.853425876119775px\",\"stroke-width:16.717409748985823px\",\"stroke-width:7.302967433402214px\",\"stroke-width:11.547005383792515px\",\"stroke-width:15.118578920369089px\",\"stroke-width:6.72021505032247px\",\"stroke-width:16.583123951776997px\",\"stroke-width:7.453559924999299px\",\"stroke-width:6.456331042187644px\",\"stroke-width:17.88854381999832px\",\"stroke-width:6.928203230275509px\",\"stroke-width:20.0px\",\"stroke-width:14.142135623730951px\",\"stroke-width:8.645662192537639px\",\"stroke-width:8.528028654224418px\",\"stroke-width:5.3452248382484875px\",\"stroke-width:18.516401995451027px\",\"stroke-width:3.922322702763681px\",\"stroke-width:13.48399724926484px\",\"stroke-width:11.547005383792515px\",\"stroke-width:7.559289460184544px\",\"stroke-width:4.714045207910317px\",\"stroke-width:7.745966692414834px\",\"stroke-width:16.765472885698188px\",\"stroke-width:5.547001962252292px\",\"stroke-width:14.142135623730951px\",\"stroke-width:5.773502691896257px\",\"stroke-width:20.0px\",\"stroke-width:15.811388300841898px\",\"stroke-width:5.1639777949432215px\",\"stroke-width:6.377928041432806px\",\"stroke-width:16.543403837370224px\",\"stroke-width:6.666666666666666px\",\"stroke-width:17.795130420052185px\",\"stroke-width:6.367466478079842px\",\"stroke-width:8.058824321605135px\",\"stroke-width:16.748942843761863px\",\"stroke-width:6.666666666666666px\",\"stroke-width:8.94427190999916px\",\"stroke-width:7.0710678118654755px\",\"stroke-width:15.358952955766089px\",\"stroke-width:14.142135623730951px\",\"stroke-width:20.0px\",\"stroke-width:6.948083337796512px\",\"stroke-width:16.73320053068151px\",\"stroke-width:16.61586460349684px\",\"stroke-width:9.258200997725513px\",\"stroke-width:20.0px\",\"stroke-width:6.666666666666666px\",\"stroke-width:20.0px\",\"stroke-width:18.35325870964494px\",\"stroke-width:4.47213595499958px\",\"stroke-width:7.947194142390263px\",\"stroke-width:6.666666666666666px\",\"stroke-width:7.0710678118654755px\",\"stroke-width:16.583123951776997px\",\"stroke-width:11.547005383792515px\",\"stroke-width:17.056057308448835px\",\"stroke-width:20.0px\",\"stroke-width:6.793662204867575px\",\"stroke-width:20.0px\",\"stroke-width:4.08248290463863px\",\"stroke-width:16.672315426926016px\",\"stroke-width:10.0px\",\"stroke-width:16.32993161855452px\",\"stroke-width:20.0px\",\"stroke-width:16.15893285805443px\",\"stroke-width:5.039526306789696px\",\"stroke-width:14.142135623730951px\",\"stroke-width:4.364357804719847px\",\"stroke-width:20.0px\",\"stroke-width:8.94427190999916px\",\"stroke-width:18.257418583505537px\",\"stroke-width:16.32993161855452px\",\"stroke-width:16.32993161855452px\",\"stroke-width:17.10471948239516px\",\"stroke-width:20.0px\",\"stroke-width:16.32993161855452px\",\"stroke-width:20.0px\",\"stroke-width:5.65685424949238px\",\"stroke-width:20.0px\",\"stroke-width:14.142135623730951px\",\"stroke-width:7.0710678118654755px\",\"stroke-width:5.1639777949432215px\",\"stroke-width:16.32993161855452px\",\"stroke-width:7.559289460184544px\",\"stroke-width:10.0px\",\"stroke-width:16.32993161855452px\",\"stroke-width:20.0px\",\"stroke-width:7.710996009560597px\",\"stroke-width:6.501701840009311px\",\"stroke-width:16.483267673842683px\",\"stroke-width:10.0px\",\"stroke-width:2.917299829957891px\",\"stroke-width:7.0710678118654755px\",\"stroke-width:18.516401995451027px\",\"stroke-width:20.0px\",\"stroke-width:6.900655593423543px\",\"stroke-width:6.262242910851494px\",\"stroke-width:20.0px\",\"stroke-width:11.547005383792515px\",\"stroke-width:10.0px\",\"stroke-width:7.161148740394329px\",\"stroke-width:7.0710678118654755px\",\"stroke-width:16.15893285805443px\",\"stroke-width:16.97056274847714px\",\"stroke-width:8.304547985373997px\",\"stroke-width:10.183501544346312px\",\"stroke-width:9.428090415820634px\",\"stroke-width:8.94427190999916px\",\"stroke-width:10.0px\",\"stroke-width:18.0534186769688px\",\"stroke-width:14.142135623730951px\",\"stroke-width:6.025663722614571px\",\"stroke-width:20.0px\",\"stroke-width:16.876268972298448px\",\"stroke-width:6.123724356957945px\",\"stroke-width:7.559289460184544px\",\"stroke-width:7.828813612588127px\",\"stroke-width:3.960590171906697px\",\"stroke-width:7.0087664405046235px\",\"stroke-width:7.518094115561123px\",\"stroke-width:13.09307341415954px\",\"stroke-width:6.030226891555273px\",\"stroke-width:5.987849508520958px\",\"stroke-width:6.324555320336759px\",\"stroke-width:7.0710678118654755px\",\"stroke-width:6.974858324629158px\",\"stroke-width:11.547005383792515px\",\"stroke-width:16.32993161855452px\",\"stroke-width:8.528028654224418px\",\"stroke-width:20.0px\",\"stroke-width:7.683787503952986px\",\"stroke-width:5.3452248382484875px\",\"stroke-width:20.0px\",\"stroke-width:5.443310539518174px\",\"stroke-width:7.559289460184544px\",\"stroke-width:6.099942813304187px\",\"stroke-width:17.541160386140582px\",\"stroke-width:20.0px\",\"stroke-width:16.61369194813728px\",\"stroke-width:16.43989873053573px\",\"stroke-width:8.304547985373997px\",\"stroke-width:17.435595774162692px\",\"stroke-width:8.692269873603532px\",\"stroke-width:16.43060145919662px\",\"stroke-width:6.666666666666666px\",\"stroke-width:6.047431568147635px\",\"stroke-width:6.575959492214292px\",\"stroke-width:6.123724356957945px\",\"stroke-width:8.94427190999916px\",\"stroke-width:17.541160386140582px\",\"stroke-width:11.547005383792515px\",\"stroke-width:10.690449676496975px\",\"stroke-width:5.0px\",\"stroke-width:15.374122295716148px\",\"stroke-width:7.844645405527362px\",\"stroke-width:8.770580193070291px\",\"stroke-width:14.142135623730951px\",\"stroke-width:17.638342073763937px\",\"stroke-width:6.4995557096191px\",\"stroke-width:3.8490017945975055px\",\"stroke-width:20.0px\",\"stroke-width:15.118578920369089px\",\"stroke-width:20.0px\",\"stroke-width:17.126976771553505px\",\"stroke-width:5.547001962252292px\",\"stroke-width:14.142135623730951px\",\"stroke-width:15.689290811054724px\",\"stroke-width:18.516401995451027px\",\"stroke-width:7.385489458759964px\",\"stroke-width:17.097008285302206px\",\"stroke-width:11.547005383792515px\",\"stroke-width:4.0px\",\"stroke-width:8.357108940373449px\",\"stroke-width:16.46109783506203px\",\"stroke-width:20.0px\",\"stroke-width:16.32993161855452px\",\"stroke-width:6.666666666666666px\",\"stroke-width:9.058216273156766px\",\"stroke-width:8.053872662568292px\",\"stroke-width:6.172133998483677px\",\"stroke-width:4.890096469218258px\",\"stroke-width:16.641005886756876px\",\"stroke-width:5.982430416161188px\",\"stroke-width:16.903085094570333px\",\"stroke-width:6.324555320336759px\",\"stroke-width:15.118578920369089px\",\"stroke-width:6.236095644623235px\",\"stroke-width:10.0px\",\"stroke-width:14.142135623730951px\",\"stroke-width:5.879447357921313px\",\"stroke-width:7.559289460184544px\",\"stroke-width:8.6991767240168px\",\"stroke-width:10.690449676496975px\",\"stroke-width:16.583123951776997px\",\"stroke-width:11.547005383792515px\",\"stroke-width:14.142135623730951px\",\"stroke-width:5.3452248382484875px\",\"stroke-width:7.0710678118654755px\",\"stroke-width:17.88854381999832px\",\"stroke-width:14.142135623730951px\",\"stroke-width:4.47213595499958px\",\"stroke-width:4.85071250072666px\",\"stroke-width:7.559289460184544px\",\"stroke-width:5.773502691896257px\",\"stroke-width:6.948083337796512px\",\"stroke-width:9.17662935482247px\",\"stroke-width:16.92394023525313px\",\"stroke-width:7.0710678118654755px\",\"stroke-width:16.903085094570333px\",\"stroke-width:14.142135623730951px\",\"stroke-width:5.1639777949432215px\",\"stroke-width:16.32993161855452px\",\"stroke-width:6.508460687011342px\",\"stroke-width:7.826957343774224px\",\"stroke-width:15.894388284780526px\",\"stroke-width:10.044944046678452px\",\"stroke-width:7.559289460184544px\",\"stroke-width:10.0px\",\"stroke-width:6.777785431108015px\",\"stroke-width:5.3452248382484875px\",\"stroke-width:13.09307341415954px\",\"stroke-width:8.16496580927726px\",\"stroke-width:5.897678246195886px\",\"stroke-width:18.516401995451027px\",\"stroke-width:20.0px\",\"stroke-width:7.844645405527362px\",\"stroke-width:7.231654014676439px\",\"stroke-width:8.34057656228299px\",\"stroke-width:6.123724356957945px\",\"stroke-width:4.588314677411235px\",\"stroke-width:11.094003924504584px\",\"stroke-width:16.32993161855452px\",\"stroke-width:8.583950752789521px\",\"stroke-width:4.264014327112209px\",\"stroke-width:9.258200997725513px\",\"stroke-width:17.32050807568877px\",\"stroke-width:5.3452248382484875px\",\"stroke-width:16.32993161855452px\",\"stroke-width:4.47213595499958px\",\"stroke-width:5.3452248382484875px\",\"stroke-width:7.0710678118654755px\",\"stroke-width:7.905694150420949px\",\"stroke-width:7.0710678118654755px\",\"stroke-width:6.710671544844187px\",\"stroke-width:16.903085094570333px\",\"stroke-width:15.811388300841898px\",\"stroke-width:5.0px\",\"stroke-width:7.559289460184544px\",\"stroke-width:20.0px\",\"stroke-width:7.0710678118654755px\",\"stroke-width:17.097008285302206px\",\"stroke-width:14.675987714106855px\",\"stroke-width:11.547005383792515px\",\"stroke-width:16.004385363930503px\",\"stroke-width:10.690449676496975px\",\"stroke-width:20.0px\",\"stroke-width:18.257418583505537px\",\"stroke-width:16.32993161855452px\",\"stroke-width:6.488856845230502px\",\"stroke-width:17.198788309870295px\",\"stroke-width:20.0px\",\"stroke-width:7.828813612588127px\",\"stroke-width:16.79793268934183px\",\"stroke-width:5.773502691896257px\",\"stroke-width:7.844645405527362px\",\"stroke-width:9.258200997725513px\",\"stroke-width:7.559289460184544px\",\"stroke-width:20.0px\",\"stroke-width:10.0px\",\"stroke-width:16.32993161855452px\",\"stroke-width:16.32993161855452px\",\"stroke-width:16.52319197418807px\",\"stroke-width:14.142135623730951px\",\"stroke-width:8.528028654224418px\",\"stroke-width:7.844645405527362px\",\"stroke-width:6.2909436280615925px\",\"stroke-width:7.0710678118654755px\",\"stroke-width:18.257418583505537px\",\"stroke-width:6.859943405700354px\",\"stroke-width:16.666666666666668px\",\"stroke-width:18.618986725025255px\",\"stroke-width:16.903085094570333px\",\"stroke-width:8.94427190999916px\",\"stroke-width:17.659683088313365px\",\"stroke-width:5.006578084675882px\",\"stroke-width:7.949286335171642px\",\"stroke-width:4.900269199814201px\",\"stroke-width:16.962617263053744px\",\"stroke-width:2.597496477727588px\",\"stroke-width:16.51578288599573px\",\"stroke-width:8.33052161400748px\",\"stroke-width:7.147330784943256px\",\"stroke-width:10.066445913694333px\",\"stroke-width:10.066445913694333px\",\"stroke-width:10.066445913694333px\",\"stroke-width:9.797958971132712px\",\"stroke-width:6.905961749988752px\",\"stroke-width:9.922778767136677px\",\"stroke-width:6.73681047563425px\",\"stroke-width:14.438197202612884px\",\"stroke-width:4.097226480629858px\",\"stroke-width:5.188208829050255px\",\"stroke-width:4.565015141451201px\",\"stroke-width:18.315454159559128px\",\"stroke-width:4.681645887845222px\",\"stroke-width:6.193235372853323px\",\"stroke-width:4.482334681939005px\",\"stroke-width:17.878330548357894px\",\"stroke-width:9.813067629253162px\",\"stroke-width:7.698003589195011px\",\"stroke-width:5.091750772173156px\",\"stroke-width:14.782371884055634px\",\"stroke-width:6.852482888641928px\",\"stroke-width:10.215078369104983px\",\"stroke-width:11.795356492391772px\",\"stroke-width:10.467340511863764px\",\"stroke-width:NaNpx\",\"stroke-width:NaNpx\",\"stroke-width:NaNpx\",\"stroke-width:NaNpx\",\"stroke-width:3.2287320150037884px\",\"stroke-width:3.7282185960072px\",\"stroke-width:2.9799847114220035px\",\"stroke-width:19.15190243279677px\",\"stroke-width:17.317909544719882px\",\"stroke-width:3.794922943093101px\",\"stroke-width:6.681651326314824px\",\"stroke-width:6.406567287591775px\",\"stroke-width:8.227533512074423px\",\"stroke-width:10.524696231684352px\",\"stroke-width:14.032928308912467px\",\"stroke-width:4.9613893835683385px\",\"stroke-width:14.513383405406902px\",\"stroke-width:5.4577682290981535px\",\"stroke-width:10.866697123918506px\",\"stroke-width:6.441223618391746px\",\"stroke-width:10.565410875907485px\",\"stroke-width:9.644856443408242px\",\"stroke-width:9.14991421995628px\",\"stroke-width:10.565410875907485px\",\"stroke-width:5.811865258054231px\",\"stroke-width:2.9814239699997196px\",\"stroke-width:5.497474167490214px\",\"stroke-width:18.08621328833405px\",\"stroke-width:7.927874662867424px\",\"stroke-width:2.9565004483586064px\",\"stroke-width:3.6495833867692777px\",\"stroke-width:17.750730957674328px\",\"stroke-width:9.128709291752768px\",\"stroke-width:10.801234497346435px\",\"stroke-width:8.16496580927726px\",\"stroke-width:11.547005383792515px\",\"stroke-width:4.2059978233966895px\",\"stroke-width:4.2059978233966895px\",\"stroke-width:3.7093414185288687px\",\"stroke-width:18.73125598725165px\",\"stroke-width:9.211323729436765px\",\"stroke-width:12.060453783110546px\",\"stroke-width:9.211323729436765px\",\"stroke-width:9.211323729436765px\",\"stroke-width:10.157136447566295px\",\"stroke-width:10.678349559799349px\",\"stroke-width:9.607689228305228px\",\"stroke-width:9.513029883089882px\",\"stroke-width:13.58732440973515px\",\"stroke-width:7.844645405527362px\",\"stroke-width:7.844645405527362px\",\"stroke-width:9.607689228305228px\",\"stroke-width:13.987572123604705px\",\"stroke-width:5.516772843673705px\",\"stroke-width:6.9156407480812465px\",\"stroke-width:11.22884484360431px\",\"stroke-width:9.578262852211514px\",\"stroke-width:10.836567383657542px\",\"stroke-width:10.492461251740036px\",\"stroke-width:8.98520700674884px\",\"stroke-width:10.941586258818px\",\"stroke-width:11.132998786123665px\",\"stroke-width:10.20908184474373px\",\"stroke-width:7.21891100210676px\",\"stroke-width:9.657822870652415px\",\"stroke-width:10.54565134696945px\",\"stroke-width:10.02239644462708px\",\"stroke-width:9.75024433406625px\",\"stroke-width:18.185042502147507px\",\"stroke-width:3.3036422084944745px\",\"stroke-width:3.766731659445642px\",\"stroke-width:6.648451696378061px\",\"stroke-width:9.771584874918805px\",\"stroke-width:10.410912389132548px\",\"stroke-width:10.410912389132548px\",\"stroke-width:9.367066535680792px\",\"stroke-width:9.154754164341268px\",\"stroke-width:9.952267030562385px\",\"stroke-width:10.867163295692123px\",\"stroke-width:9.952267030562385px\",\"stroke-width:9.198662110077999px\",\"stroke-width:10.0px\",\"stroke-width:10.377490433255417px\",\"stroke-width:10.377490433255417px\",\"stroke-width:14.142135623730951px\",\"stroke-width:7.745966692414834px\",\"stroke-width:8.94427190999916px\",\"stroke-width:7.745966692414834px\",\"stroke-width:9.66091783079296px\",\"stroke-width:10.327955589886443px\",\"stroke-width:9.66091783079296px\",\"stroke-width:10.327955589886443px\",\"stroke-width:8.02295557085754px\",\"stroke-width:8.57690027870236px\",\"stroke-width:9.09717652294684px\",\"stroke-width:13.390681268239724px\",\"stroke-width:10.084389681792214px\",\"stroke-width:10.084389681792214px\",\"stroke-width:10.084389681792214px\",\"stroke-width:9.742446008949093px\",\"stroke-width:2.383656473113981px\",\"stroke-width:3.2856437033638546px\",\"stroke-width:2.820380374088831px\",\"stroke-width:19.379581569739372px\",\"stroke-width:10.540925533894598px\",\"stroke-width:11.547005383792515px\",\"stroke-width:9.428090415820634px\",\"stroke-width:8.16496580927726px\",\"stroke-width:11.180339887498949px\",\"stroke-width:10.0px\",\"stroke-width:10.0px\",\"stroke-width:8.660254037844386px\",\"stroke-width:8.94427190999916px\",\"stroke-width:9.797958971132712px\",\"stroke-width:12.0px\",\"stroke-width:8.94427190999916px\",\"stroke-width:9.66091783079296px\",\"stroke-width:9.66091783079296px\",\"stroke-width:9.66091783079296px\",\"stroke-width:10.95445115010332px\",\"stroke-width:10.327955589886443px\",\"stroke-width:7.302967433402214px\",\"stroke-width:8.94427190999916px\",\"stroke-width:12.649110640673518px\",\"stroke-width:14.142135623730951px\",\"stroke-width:14.142135623730951px\",\"stroke-width:0.0px\",\"stroke-width:0.0px\",\"stroke-width:13.90443574307614px\",\"stroke-width:7.302967433402214px\",\"stroke-width:9.309493362512628px\",\"stroke-width:8.16496580927726px\",\"stroke-width:6.859943405700354px\",\"stroke-width:11.881770515720092px\",\"stroke-width:7.33358797622569px\",\"stroke-width:12.569136536664358px\",\"stroke-width:16.978461544691882px\",\"stroke-width:7.767573336037855px\",\"stroke-width:4.727194592470655px\",\"stroke-width:5.389831103996575px\",\"stroke-width:7.559289460184544px\",\"stroke-width:13.09307341415954px\",\"stroke-width:10.690449676496975px\",\"stroke-width:7.559289460184544px\",\"stroke-width:20.0px\",\"stroke-width:0.0px\",\"stroke-width:0.0px\",\"stroke-width:0.0px\",\"stroke-width:10.690449676496975px\",\"stroke-width:10.690449676496975px\",\"stroke-width:10.690449676496975px\",\"stroke-width:7.559289460184544px\",\"stroke-width:7.0710678118654755px\",\"stroke-width:11.547005383792515px\",\"stroke-width:10.801234497346435px\",\"stroke-width:10.0px\",\"stroke-width:10.016934813147556px\",\"stroke-width:10.016934813147556px\",\"stroke-width:9.983036459372096px\",\"stroke-width:9.983036459372096px\",\"stroke-width:NaNpx\",\"stroke-width:NaNpx\",\"stroke-width:NaNpx\",\"stroke-width:NaNpx\",\"stroke-width:11.547005383792515px\",\"stroke-width:9.17662935482247px\",\"stroke-width:9.911892555667041px\",\"stroke-width:9.17662935482247px\",\"stroke-width:9.258200997725513px\",\"stroke-width:10.690449676496975px\",\"stroke-width:9.258200997725513px\",\"stroke-width:10.690449676496975px\",\"stroke-width:20.0px\",\"stroke-width:0.0px\",\"stroke-width:0.0px\",\"stroke-width:0.0px\",\"stroke-width:12.524485821702989px\",\"stroke-width:10.097563285948025px\",\"stroke-width:10.097563285948025px\",\"stroke-width:6.262242910851494px\",\"stroke-width:10.95445115010332px\",\"stroke-width:8.94427190999916px\",\"stroke-width:10.95445115010332px\",\"stroke-width:8.94427190999916px\",\"stroke-width:NaNpx\",\"stroke-width:NaNpx\",\"stroke-width:NaNpx\",\"stroke-width:NaNpx\",\"stroke-width:7.559289460184544px\",\"stroke-width:9.258200997725513px\",\"stroke-width:14.142135623730951px\",\"stroke-width:7.559289460184544px\",\"stroke-width:6.099942813304187px\",\"stroke-width:14.941747352752568px\",\"stroke-width:8.06946584785929px\",\"stroke-width:8.626621856275072px\",\"stroke-width:10.0px\",\"stroke-width:10.0px\",\"stroke-width:10.0px\",\"stroke-width:10.0px\",\"stroke-width:20.0px\",\"stroke-width:0.0px\",\"stroke-width:0.0px\",\"stroke-width:0.0px\",\"stroke-width:20.0px\",\"stroke-width:0.0px\",\"stroke-width:0.0px\",\"stroke-width:0.0px\",\"stroke-width:10.0px\",\"stroke-width:12.24744871391589px\",\"stroke-width:10.0px\",\"stroke-width:7.0710678118654755px\",\"stroke-width:20.0px\",\"stroke-width:0.0px\",\"stroke-width:0.0px\",\"stroke-width:0.0px\",\"stroke-width:20.0px\",\"stroke-width:0.0px\",\"stroke-width:0.0px\",\"stroke-width:0.0px\",\"stroke-width:20.0px\",\"stroke-width:0.0px\",\"stroke-width:0.0px\",\"stroke-width:0.0px\",\"stroke-width:12.649110640673518px\",\"stroke-width:15.491933384829668px\",\"stroke-width:0.0px\",\"stroke-width:0.0px\",\"stroke-width:17.32050807568877px\",\"stroke-width:10.0px\",\"stroke-width:0.0px\",\"stroke-width:0.0px\",\"stroke-width:9.258200997725513px\",\"stroke-width:10.690449676496975px\",\"stroke-width:7.559289460184544px\",\"stroke-width:11.952286093343936px\",\"stroke-width:NaNpx\",\"stroke-width:NaNpx\",\"stroke-width:NaNpx\",\"stroke-width:NaNpx\",\"stroke-width:20.0px\",\"stroke-width:0.0px\",\"stroke-width:0.0px\",\"stroke-width:0.0px\",\"stroke-width:20.0px\",\"stroke-width:0.0px\",\"stroke-width:0.0px\",\"stroke-width:0.0px\",\"stroke-width:NaNpx\",\"stroke-width:NaNpx\",\"stroke-width:NaNpx\",\"stroke-width:NaNpx\",\"stroke-width:16.32993161855452px\",\"stroke-width:11.547005383792515px\",\"stroke-width:0.0px\",\"stroke-width:0.0px\",\"stroke-width:20.0px\",\"stroke-width:0.0px\",\"stroke-width:0.0px\",\"stroke-width:0.0px\",\"stroke-width:NaNpx\",\"stroke-width:NaNpx\",\"stroke-width:NaNpx\",\"stroke-width:NaNpx\",\"stroke-width:NaNpx\",\"stroke-width:NaNpx\",\"stroke-width:NaNpx\",\"stroke-width:NaNpx\",\"stroke-width:20.0px\",\"stroke-width:0.0px\",\"stroke-width:0.0px\",\"stroke-width:0.0px\",\"stroke-width:NaNpx\",\"stroke-width:NaNpx\",\"stroke-width:NaNpx\",\"stroke-width:NaNpx\",\"stroke-width:NaNpx\",\"stroke-width:NaNpx\",\"stroke-width:NaNpx\",\"stroke-width:NaNpx\",\"stroke-width:NaNpx\",\"stroke-width:NaNpx\",\"stroke-width:NaNpx\",\"stroke-width:NaNpx\"],\"title\":\"MCTS tree\",\"text\":[\"GridWorldState(4, 1, false)\\nN:   1899\\n\",\"GridWorldState(9, 2, false)\\nN:    179\\n\",\"GridWorldState(8, 3, false)\\nN:    704\\n\",\"GridWorldState(8, 2, false)\\nN:    733\\n\",\"GridWorldState(8, 2, false)\\nN:    733\\n\",\"GridWorldState(10, 3, false)\\nN:     14\\n\",\"GridWorldState(7, 6, false)\\nN:     15\\n\",\"GridWorldState(9, 4, false)\\nN:     43\\n\",\"GridWorldState(5, 2, false)\\nN:    438\\n\",\"GridWorldState(2, 5, false)\\nN:     18\\n\",\"GridWorldState(5, 2, false)\\nN:    438\\n\",\"GridWorldState(6, 2, false)\\nN:   1036\\n\",\"GridWorldState(5, 6, false)\\nN:     13\\n\",\"GridWorldState(5, 4, false)\\nN:     43\\n\",\"GridWorldState(10, 1, false)\\nN:     57\\n\",\"GridWorldState(9, 3, false)\\nN:    590\\n\",\"GridWorldState(5, 3, false)\\nN:    108\\n\",\"GridWorldState(2, 4, false)\\nN:     59\\n\",\"GridWorldState(2, 2, false)\\nN:    221\\n\",\"GridWorldState(2, 3, false)\\nN:    109\\n\",\"GridWorldState(2, 8, false)\\nN:      0\\n\",\"GridWorldState(4, 3, false)\\nN:     75\\n\",\"GridWorldState(4, 6, true)\\nN:      0\\n\",\"GridWorldState(10, 1, false)\\nN:     57\\n\",\"GridWorldState(3, 5, false)\\nN:      8\\n\",\"GridWorldState(2, 1, false)\\nN:    284\\n\",\"GridWorldState(9, 1, false)\\nN:    120\\n\",\"GridWorldState(4, 1, false)\\nN:   1899\\n\",\"GridWorldState(3, 4, false)\\nN:     25\\n\",\"GridWorldState(2, 2, false)\\nN:    221\\n\",\"GridWorldState(4, 6, true)\\nN:      0\\n\",\"GridWorldState(6, 1, false)\\nN:   1111\\n\",\"GridWorldState(9, 3, true)\\nN:      0\\n\",\"GridWorldState(7, 4, false)\\nN:     87\\n\",\"GridWorldState(7, 5, false)\\nN:     30\\n\",\"GridWorldState(5, 4, false)\\nN:     43\\n\",\"GridWorldState(4, 4, false)\\nN:     20\\n\",\"GridWorldState(8, 2, false)\\nN:    733\\n\",\"GridWorldState(4, 2, false)\\nN:    415\\n\",\"GridWorldState(7, 1, false)\\nN:    376\\n\",\"GridWorldState(10, 1, false)\\nN:     57\\n\",\"GridWorldState(10, 4, false)\\nN:     14\\n\",\"GridWorldState(8, 4, false)\\nN:    119\\n\",\"GridWorldState(4, 4, false)\\nN:     20\\n\",\"GridWorldState(6, 1, false)\\nN:   1111\\n\",\"GridWorldState(1, 1, false)\\nN:    223\\n\",\"GridWorldState(7, 3, false)\\nN:    407\\n\",\"GridWorldState(4, 3, false)\\nN:     75\\n\",\"GridWorldState(8, 4, false)\\nN:    119\\n\",\"GridWorldState(8, 1, false)\\nN:    184\\n\",\"GridWorldState(5, 5, false)\\nN:     24\\n\",\"GridWorldState(9, 4, false)\\nN:     43\\n\",\"GridWorldState(7, 3, false)\\nN:    407\\n\",\"GridWorldState(7, 4, false)\\nN:     87\\n\",\"GridWorldState(1, 2, false)\\nN:    155\\n\",\"GridWorldState(3, 6, false)\\nN:      2\\n\",\"GridWorldState(3, 2, false)\\nN:    230\\n\",\"GridWorldState(8, 3, false)\\nN:    704\\n\",\"GridWorldState(5, 5, false)\\nN:     24\\n\",\"GridWorldState(8, 5, false)\\nN:     24\\n\",\"GridWorldState(3, 3, false)\\nN:     65\\n\",\"GridWorldState(6, 3, false)\\nN:    225\\n\",\"GridWorldState(4, 6, false)\\nN:      7\\n\",\"GridWorldState(5, 1, false)\\nN:   1382\\n\",\"GridWorldState(3, 1, false)\\nN:    520\\n\",\"GridWorldState(8, 3, false)\\nN:    704\\n\",\"GridWorldState(3, 5, false)\\nN:      8\\n\",\"GridWorldState(4, 5, false)\\nN:     14\\n\",\"GridWorldState(4, 1, false)\\nN:   1899\\n\",\"GridWorldState(7, 5, false)\\nN:     30\\n\",\"GridWorldState(8, 2, false)\\nN:    733\\n\",\"GridWorldState(3, 3, false)\\nN:     65\\n\",\"GridWorldState(8, 4, false)\\nN:    119\\n\",\"GridWorldState(8, 4, false)\\nN:    119\\n\",\"GridWorldState(9, 4, false)\\nN:     43\\n\",\"GridWorldState(2, 3, false)\\nN:    109\\n\",\"GridWorldState(10, 2, false)\\nN:     51\\n\",\"GridWorldState(8, 1, false)\\nN:    184\\n\",\"GridWorldState(6, 3, false)\\nN:    225\\n\",\"GridWorldState(6, 6, false)\\nN:     16\\n\",\"GridWorldState(7, 2, false)\\nN:    961\\n\",\"GridWorldState(9, 2, false)\\nN:    179\\n\",\"GridWorldState(8, 1, false)\\nN:    184\\n\",\"GridWorldState(4, 3, false)\\nN:     75\\n\",\"GridWorldState(2, 3, false)\\nN:    109\\n\",\"GridWorldState(3, 1, false)\\nN:    520\\n\",\"GridWorldState(9, 3, false)\\nN:    590\\n\",\"GridWorldState(8, 1, false)\\nN:    184\\n\",\"GridWorldState(8, 1, false)\\nN:    184\\n\",\"GridWorldState(2, 6, false)\\nN:      6\\n\",\"GridWorldState(3, 4, false)\\nN:     25\\n\",\"GridWorldState(1, 3, false)\\nN:    105\\n\",\"GridWorldState(3, 3, false)\\nN:     65\\n\",\"GridWorldState(9, 1, false)\\nN:    120\\n\",\"GridWorldState(5, 3, false)\\nN:    108\\n\",\"GridWorldState(5, 3, false)\\nN:    108\\n\",\"GridWorldState(9, 1, false)\\nN:    120\\n\",\"GridWorldState(6, 1, false)\\nN:   1111\\n\",\"GridWorldState(1, 1, false)\\nN:    223\\n\",\"GridWorldState(4, 2, false)\\nN:    415\\n\",\"GridWorldState(2, 4, false)\\nN:     59\\n\",\"GridWorldState(4, 3, false)\\nN:     75\\n\",\"GridWorldState(2, 3, false)\\nN:    109\\n\",\"GridWorldState(4, 3, false)\\nN:     75\\n\",\"GridWorldState(6, 7, false)\\nN:      4\\n\",\"GridWorldState(7, 2, false)\\nN:    961\\n\",\"GridWorldState(5, 2, false)\\nN:    438\\n\",\"GridWorldState(6, 5, false)\\nN:     30\\n\",\"GridWorldState(8, 4, false)\\nN:    119\\n\",\"GridWorldState(7, 2, false)\\nN:    961\\n\",\"GridWorldState(6, 4, false)\\nN:     66\\n\",\"GridWorldState(2, 6, false)\\nN:      6\\n\",\"GridWorldState(1, 2, false)\\nN:    155\\n\",\"GridWorldState(7, 4, false)\\nN:     87\\n\",\"GridWorldState(5, 4, false)\\nN:     43\\n\",\"GridWorldState(7, 1, false)\\nN:    376\\n\",\"GridWorldState(4, 4, false)\\nN:     20\\n\",\"GridWorldState(10, 1, false)\\nN:     57\\n\",\"GridWorldState(1, 2, false)\\nN:    155\\n\",\"GridWorldState(1, 1, false)\\nN:    223\\n\",\"GridWorldState(4, 6, false)\\nN:      7\\n\",\"GridWorldState(7, 4, false)\\nN:     87\\n\",\"GridWorldState(3, 4, false)\\nN:     25\\n\",\"GridWorldState(3, 2, false)\\nN:    230\\n\",\"GridWorldState(3, 4, false)\\nN:     25\\n\",\"GridWorldState(4, 1, false)\\nN:   1899\\n\",\"GridWorldState(5, 3, false)\\nN:    108\\n\",\"GridWorldState(7, 3, false)\\nN:    407\\n\",\"GridWorldState(6, 7, false)\\nN:      4\\n\",\"GridWorldState(4, 3, true)\\nN:      0\\n\",\"GridWorldState(4, 3, false)\\nN:     75\\n\",\"GridWorldState(5, 3, false)\\nN:    108\\n\",\"GridWorldState(7, 5, false)\\nN:     30\\n\",\"GridWorldState(10, 3, false)\\nN:     14\\n\",\"GridWorldState(7, 9, false)\\nN:      0\\n\",\"GridWorldState(2, 2, false)\\nN:    221\\n\",\"GridWorldState(4, 6, false)\\nN:      7\\n\",\"GridWorldState(6, 6, false)\\nN:     16\\n\",\"GridWorldState(7, 1, false)\\nN:    376\\n\",\"GridWorldState(3, 4, false)\\nN:     25\\n\",\"GridWorldState(5, 4, false)\\nN:     43\\n\",\"GridWorldState(9, 5, false)\\nN:      8\\n\",\"GridWorldState(8, 3, false)\\nN:    704\\n\",\"GridWorldState(1, 5, false)\\nN:     14\\n\",\"GridWorldState(2, 7, false)\\nN:      1\\n\",\"GridWorldState(9, 3, false)\\nN:    590\\n\",\"GridWorldState(2, 5, false)\\nN:     18\\n\",\"GridWorldState(7, 3, false)\\nN:    407\\n\",\"GridWorldState(8, 8, false)\\nN:      0\\n\",\"GridWorldState(7, 5, false)\\nN:     30\\n\",\"GridWorldState(6, 2, false)\\nN:   1036\\n\",\"GridWorldState(5, 5, false)\\nN:     24\\n\",\"GridWorldState(4, 2, false)\\nN:    415\\n\",\"GridWorldState(7, 2, false)\\nN:    961\\n\",\"GridWorldState(4, 1, false)\\nN:   1899\\n\",\"GridWorldState(5, 3, false)\\nN:    108\\n\",\"GridWorldState(5, 2, false)\\nN:    438\\n\",\"GridWorldState(9, 2, false)\\nN:    179\\n\",\"GridWorldState(5, 2, false)\\nN:    438\\n\",\"GridWorldState(8, 5, false)\\nN:     24\\n\",\"GridWorldState(4, 2, false)\\nN:    415\\n\",\"GridWorldState(8, 3, false)\\nN:    704\\n\",\"GridWorldState(9, 2, false)\\nN:    179\\n\",\"GridWorldState(2, 4, false)\\nN:     59\\n\",\"GridWorldState(6, 2, false)\\nN:   1036\\n\",\"GridWorldState(7, 6, false)\\nN:     15\\n\",\"GridWorldState(1, 3, false)\\nN:    105\\n\",\"GridWorldState(7, 1, false)\\nN:    376\\n\",\"GridWorldState(9, 3, false)\\nN:    590\\n\",\"GridWorldState(4, 2, false)\\nN:    415\\n\",\"GridWorldState(8, 4, false)\\nN:    119\\n\",\"GridWorldState(5, 1, false)\\nN:   1382\\n\",\"GridWorldState(1, 2, false)\\nN:    155\\n\",\"GridWorldState(7, 5, false)\\nN:     30\\n\",\"GridWorldState(10, 2, false)\\nN:     51\\n\",\"GridWorldState(1, 4, false)\\nN:     52\\n\",\"GridWorldState(6, 10, false)\\nN:      0\\n\",\"GridWorldState(6, 4, false)\\nN:     66\\n\",\"GridWorldState(2, 1, false)\\nN:    284\\n\",\"GridWorldState(1, 3, false)\\nN:    105\\n\",\"GridWorldState(3, 1, false)\\nN:    520\\n\",\"GridWorldState(5, 2, false)\\nN:    438\\n\",\"GridWorldState(7, 7, false)\\nN:      2\\n\",\"GridWorldState(2, 3, false)\\nN:    109\\n\",\"GridWorldState(5, 1, false)\\nN:   1382\\n\",\"GridWorldState(5, 3, false)\\nN:    108\\n\",\"GridWorldState(8, 5, false)\\nN:     24\\n\",\"GridWorldState(10, 2, false)\\nN:     51\\n\",\"GridWorldState(3, 4, false)\\nN:     25\\n\",\"GridWorldState(1, 3, false)\\nN:    105\\n\",\"GridWorldState(3, 2, false)\\nN:    230\\n\",\"GridWorldState(6, 4, false)\\nN:     66\\n\",\"GridWorldState(6, 6, false)\\nN:     16\\n\",\"GridWorldState(3, 2, false)\\nN:    230\\n\",\"GridWorldState(9, 3, true)\\nN:      0\\n\",\"GridWorldState(6, 2, false)\\nN:   1036\\n\",\"GridWorldState(6, 4, false)\\nN:     66\\n\",\"GridWorldState(2, 1, false)\\nN:    284\\n\",\"GridWorldState(2, 2, false)\\nN:    221\\n\",\"GridWorldState(3, 2, false)\\nN:    230\\n\",\"GridWorldState(2, 5, false)\\nN:     18\\n\",\"GridWorldState(10, 4, false)\\nN:     14\\n\",\"GridWorldState(9, 5, false)\\nN:      8\\n\",\"GridWorldState(9, 1, false)\\nN:    120\\n\",\"GridWorldState(1, 2, false)\\nN:    155\\n\",\"GridWorldState(4, 5, false)\\nN:     14\\n\",\"GridWorldState(7, 3, false)\\nN:    407\\n\",\"GridWorldState(8, 2, false)\\nN:    733\\n\",\"GridWorldState(6, 3, false)\\nN:    225\\n\",\"GridWorldState(1, 5, false)\\nN:     14\\n\",\"GridWorldState(5, 1, false)\\nN:   1382\\n\",\"GridWorldState(5, 2, false)\\nN:    438\\n\",\"GridWorldState(2, 3, false)\\nN:    109\\n\",\"GridWorldState(1, 2, false)\\nN:    155\\n\",\"GridWorldState(7, 3, false)\\nN:    407\\n\",\"GridWorldState(9, 3, true)\\nN:      0\\n\",\"GridWorldState(2, 5, false)\\nN:     18\\n\",\"GridWorldState(4, 3, false)\\nN:     75\\n\",\"GridWorldState(5, 1, false)\\nN:   1382\\n\",\"GridWorldState(8, 4, false)\\nN:    119\\n\",\"GridWorldState(7, 2, false)\\nN:    961\\n\",\"GridWorldState(1, 4, false)\\nN:     52\\n\",\"GridWorldState(8, 4, false)\\nN:    119\\n\",\"GridWorldState(4, 3, false)\\nN:     75\\n\",\"GridWorldState(6, 3, false)\\nN:    225\\n\",\"GridWorldState(6, 1, false)\\nN:   1111\\n\",\"GridWorldState(5, 2, false)\\nN:    438\\n\",\"GridWorldState(5, 6, false)\\nN:     13\\n\",\"GridWorldState(7, 3, false)\\nN:    407\\n\",\"GridWorldState(7, 1, false)\\nN:    376\\n\",\"GridWorldState(10, 2, false)\\nN:     51\\n\",\"GridWorldState(9, 4, false)\\nN:     43\\n\",\"GridWorldState(2, 2, false)\\nN:    221\\n\",\"GridWorldState(5, 6, false)\\nN:     13\\n\",\"GridWorldState(6, 1, false)\\nN:   1111\\n\",\"GridWorldState(7, 4, false)\\nN:     87\\n\",\"GridWorldState(3, 1, false)\\nN:    520\\n\",\"GridWorldState(2, 2, false)\\nN:    221\\n\",\"GridWorldState(1, 3, false)\\nN:    105\\n\",\"GridWorldState(7, 4, false)\\nN:     87\\n\",\"GridWorldState(4, 5, false)\\nN:     14\\n\",\"GridWorldState(9, 4, false)\\nN:     43\\n\",\"GridWorldState(3, 3, false)\\nN:     65\\n\",\"GridWorldState(4, 3, false)\\nN:     75\\n\",\"GridWorldState(5, 4, false)\\nN:     43\\n\",\"GridWorldState(9, 3, false)\\nN:    590\\n\",\"GridWorldState(6, 7, false)\\nN:      4\\n\",\"GridWorldState(7, 6, false)\\nN:     15\\n\",\"GridWorldState(1, 1, false)\\nN:    223\\n\",\"GridWorldState(6, 4, false)\\nN:     66\\n\",\"GridWorldState(3, 1, false)\\nN:    520\\n\",\"GridWorldState(4, 2, false)\\nN:    415\\n\",\"GridWorldState(6, 5, false)\\nN:     30\\n\",\"GridWorldState(7, 3, false)\\nN:    407\\n\",\"GridWorldState(8, 2, false)\\nN:    733\\n\",\"GridWorldState(6, 6, false)\\nN:     16\\n\",\"GridWorldState(6, 2, false)\\nN:   1036\\n\",\"GridWorldState(8, 6, false)\\nN:     10\\n\",\"GridWorldState(7, 2, false)\\nN:    961\\n\",\"GridWorldState(2, 4, false)\\nN:     59\\n\",\"GridWorldState(3, 1, false)\\nN:    520\\n\",\"GridWorldState(7, 4, false)\\nN:     87\\n\",\"GridWorldState(6, 5, false)\\nN:     30\\n\",\"GridWorldState(7, 2, false)\\nN:    961\\n\",\"GridWorldState(7, 5, false)\\nN:     30\\n\",\"GridWorldState(2, 3, false)\\nN:    109\\n\",\"GridWorldState(4, 4, false)\\nN:     20\\n\",\"GridWorldState(7, 1, false)\\nN:    376\\n\",\"GridWorldState(9, 6, false)\\nN:      1\\n\",\"GridWorldState(9, 1, false)\\nN:    120\\n\",\"GridWorldState(6, 6, false)\\nN:     16\\n\",\"GridWorldState(7, 6, false)\\nN:     15\\n\",\"GridWorldState(8, 1, false)\\nN:    184\\n\",\"GridWorldState(7, 3, false)\\nN:    407\\n\",\"GridWorldState(7, 5, false)\\nN:     30\\n\",\"GridWorldState(1, 5, false)\\nN:     14\\n\",\"GridWorldState(2, 3, false)\\nN:    109\\n\",\"GridWorldState(10, 1, false)\\nN:     57\\n\",\"GridWorldState(4, 3, false)\\nN:     75\\n\",\"GridWorldState(8, 6, false)\\nN:     10\\n\",\"GridWorldState(4, 5, false)\\nN:     14\\n\",\"GridWorldState(7, 3, false)\\nN:    407\\n\",\"GridWorldState(6, 6, false)\\nN:     16\\n\",\"GridWorldState(2, 1, false)\\nN:    284\\n\",\"GridWorldState(8, 3, false)\\nN:    704\\n\",\"GridWorldState(7, 1, false)\\nN:    376\\n\",\"GridWorldState(5, 5, false)\\nN:     24\\n\",\"GridWorldState(5, 3, false)\\nN:    108\\n\",\"GridWorldState(6, 1, false)\\nN:   1111\\n\",\"GridWorldState(6, 2, false)\\nN:   1036\\n\",\"GridWorldState(3, 4, false)\\nN:     25\\n\",\"GridWorldState(3, 6, false)\\nN:      2\\n\",\"GridWorldState(6, 5, false)\\nN:     30\\n\",\"GridWorldState(4, 1, false)\\nN:   1899\\n\",\"GridWorldState(2, 3, false)\\nN:    109\\n\",\"GridWorldState(6, 3, false)\\nN:    225\\n\",\"GridWorldState(6, 1, false)\\nN:   1111\\n\",\"GridWorldState(6, 2, false)\\nN:   1036\\n\",\"GridWorldState(3, 3, false)\\nN:     65\\n\",\"GridWorldState(1, 7, false)\\nN:      0\\n\",\"GridWorldState(1, 4, false)\\nN:     52\\n\",\"GridWorldState(6, 1, false)\\nN:   1111\\n\",\"GridWorldState(2, 4, false)\\nN:     59\\n\",\"GridWorldState(7, 2, false)\\nN:    961\\n\",\"GridWorldState(5, 5, false)\\nN:     24\\n\",\"GridWorldState(8, 1, false)\\nN:    184\\n\",\"GridWorldState(3, 2, false)\\nN:    230\\n\",\"GridWorldState(5, 6, false)\\nN:     13\\n\",\"GridWorldState(8, 6, false)\\nN:     10\\n\",\"GridWorldState(7, 4, false)\\nN:     87\\n\",\"GridWorldState(9, 2, false)\\nN:    179\\n\",\"GridWorldState(1, 3, false)\\nN:    105\\n\",\"GridWorldState(9, 2, false)\\nN:    179\\n\",\"GridWorldState(10, 4, false)\\nN:     14\\n\",\"GridWorldState(5, 4, false)\\nN:     43\\n\",\"GridWorldState(6, 9, false)\\nN:      1\\n\",\"GridWorldState(5, 2, false)\\nN:    438\\n\",\"GridWorldState(2, 3, false)\\nN:    109\\n\",\"GridWorldState(5, 2, false)\\nN:    438\\n\",\"GridWorldState(6, 4, false)\\nN:     66\\n\",\"GridWorldState(3, 3, false)\\nN:     65\\n\",\"GridWorldState(6, 3, false)\\nN:    225\\n\",\"GridWorldState(7, 3, false)\\nN:    407\\n\",\"GridWorldState(2, 1, false)\\nN:    284\\n\",\"GridWorldState(5, 1, false)\\nN:   1382\\n\",\"GridWorldState(6, 4, false)\\nN:     66\\n\",\"GridWorldState(3, 4, false)\\nN:     25\\n\",\"GridWorldState(6, 6, false)\\nN:     16\\n\",\"GridWorldState(8, 1, false)\\nN:    184\\n\",\"GridWorldState(4, 6, false)\\nN:      7\\n\",\"GridWorldState(5, 8, false)\\nN:      1\\n\",\"GridWorldState(4, 1, false)\\nN:   1899\\n\",\"GridWorldState(10, 3, false)\\nN:     14\\n\",\"GridWorldState(7, 3, false)\\nN:    407\\n\",\"GridWorldState(5, 4, false)\\nN:     43\\n\",\"GridWorldState(4, 6, false)\\nN:      7\\n\",\"GridWorldState(3, 5, false)\\nN:      8\\n\",\"GridWorldState(10, 4, false)\\nN:     14\\n\",\"GridWorldState(10, 2, false)\\nN:     51\\n\",\"GridWorldState(8, 3, false)\\nN:    704\\n\",\"GridWorldState(9, 1, false)\\nN:    120\\n\",\"GridWorldState(3, 1, false)\\nN:    520\\n\",\"GridWorldState(5, 2, false)\\nN:    438\\n\",\"GridWorldState(2, 2, false)\\nN:    221\\n\",\"GridWorldState(6, 6, false)\\nN:     16\\n\",\"GridWorldState(1, 5, false)\\nN:     14\\n\",\"GridWorldState(9, 3, true)\\nN:      0\\n\",\"GridWorldState(8, 3, false)\\nN:    704\\n\",\"GridWorldState(4, 6, true)\\nN:      0\\n\",\"GridWorldState(10, 4, false)\\nN:     14\\n\",\"GridWorldState(6, 3, false)\\nN:    225\\n\",\"GridWorldState(2, 3, false)\\nN:    109\\n\",\"GridWorldState(2, 4, false)\\nN:     59\\n\",\"GridWorldState(3, 7, false)\\nN:      1\\n\",\"GridWorldState(3, 2, false)\\nN:    230\\n\",\"GridWorldState(1, 2, false)\\nN:    155\\n\",\"GridWorldState(10, 5, false)\\nN:      3\\n\",\"GridWorldState(8, 2, false)\\nN:    733\\n\",\"GridWorldState(1, 4, false)\\nN:     52\\n\",\"GridWorldState(6, 5, false)\\nN:     30\\n\",\"GridWorldState(5, 5, false)\\nN:     24\\n\",\"GridWorldState(8, 6, false)\\nN:     10\\n\",\"GridWorldState(6, 4, false)\\nN:     66\\n\",\"GridWorldState(6, 2, false)\\nN:   1036\\n\",\"GridWorldState(3, 8, false)\\nN:      0\\n\",\"GridWorldState(3, 5, false)\\nN:      8\\n\",\"GridWorldState(1, 2, false)\\nN:    155\\n\",\"GridWorldState(1, 3, false)\\nN:    105\\n\",\"GridWorldState(1, 1, false)\\nN:    223\\n\",\"GridWorldState(6, 6, false)\\nN:     16\\n\",\"GridWorldState(7, 1, false)\\nN:    376\\n\",\"GridWorldState(2, 5, false)\\nN:     18\\n\",\"GridWorldState(10, 2, false)\\nN:     51\\n\",\"GridWorldState(4, 1, false)\\nN:   1899\\n\",\"GridWorldState(5, 5, false)\\nN:     24\\n\",\"GridWorldState(2, 5, false)\\nN:     18\\n\",\"GridWorldState(7, 8, false)\\nN:      1\\n\",\"GridWorldState(2, 2, false)\\nN:    221\\n\",\"GridWorldState(6, 2, false)\\nN:   1036\\n\",\"GridWorldState(2, 1, false)\\nN:    284\\n\",\"GridWorldState(1, 5, false)\\nN:     14\\n\",\"GridWorldState(8, 3, false)\\nN:    704\\n\",\"GridWorldState(5, 5, false)\\nN:     24\\n\",\"GridWorldState(9, 1, false)\\nN:    120\\n\",\"GridWorldState(4, 3, true)\\nN:      0\\n\",\"GridWorldState(4, 2, false)\\nN:    415\\n\",\"GridWorldState(2, 1, false)\\nN:    284\\n\",\"GridWorldState(9, 1, false)\\nN:    120\\n\",\"GridWorldState(8, 7, false)\\nN:      1\\n\",\"GridWorldState(2, 5, false)\\nN:     18\\n\",\"GridWorldState(7, 5, false)\\nN:     30\\n\",\"GridWorldState(6, 5, false)\\nN:     30\\n\",\"GridWorldState(4, 1, false)\\nN:   1899\\n\",\"GridWorldState(2, 4, false)\\nN:     59\\n\",\"GridWorldState(10, 1, false)\\nN:     57\\n\",\"GridWorldState(9, 3, false)\\nN:    590\\n\",\"GridWorldState(6, 1, false)\\nN:   1111\\n\",\"GridWorldState(2, 4, false)\\nN:     59\\n\",\"GridWorldState(3, 5, false)\\nN:      8\\n\",\"GridWorldState(3, 3, false)\\nN:     65\\n\",\"GridWorldState(5, 6, false)\\nN:     13\\n\",\"GridWorldState(8, 4, false)\\nN:    119\\n\",\"GridWorldState(4, 3, true)\\nN:      0\\n\",\"GridWorldState(8, 2, false)\\nN:    733\\n\",\"GridWorldState(1, 3, false)\\nN:    105\\n\",\"GridWorldState(6, 5, false)\\nN:     30\\n\",\"GridWorldState(6, 2, false)\\nN:   1036\\n\",\"GridWorldState(3, 2, false)\\nN:    230\\n\",\"GridWorldState(5, 1, false)\\nN:   1382\\n\",\"GridWorldState(5, 3, false)\\nN:    108\\n\",\"GridWorldState(7, 6, false)\\nN:     15\\n\",\"GridWorldState(1, 3, false)\\nN:    105\\n\",\"GridWorldState(7, 4, false)\\nN:     87\\n\",\"GridWorldState(8, 2, false)\\nN:    733\\n\",\"GridWorldState(8, 2, false)\\nN:    733\\n\",\"GridWorldState(3, 1, false)\\nN:    520\\n\",\"GridWorldState(9, 6, false)\\nN:      1\\n\",\"GridWorldState(5, 7, false)\\nN:      5\\n\",\"GridWorldState(4, 3, false)\\nN:     75\\n\",\"GridWorldState(1, 5, false)\\nN:     14\\n\",\"GridWorldState(3, 2, false)\\nN:    230\\n\",\"GridWorldState(9, 4, false)\\nN:     43\\n\",\"GridWorldState(10, 4, false)\\nN:     14\\n\",\"GridWorldState(2, 2, false)\\nN:    221\\n\",\"GridWorldState(1, 4, false)\\nN:     52\\n\",\"GridWorldState(8, 2, false)\\nN:    733\\n\",\"GridWorldState(7, 2, false)\\nN:    961\\n\",\"GridWorldState(5, 1, false)\\nN:   1382\\n\",\"GridWorldState(4, 1, false)\\nN:   1899\\n\",\"GridWorldState(3, 1, false)\\nN:    520\\n\",\"GridWorldState(6, 1, false)\\nN:   1111\\n\",\"GridWorldState(3, 2, false)\\nN:    230\\n\",\"GridWorldState(7, 1, false)\\nN:    376\\n\",\"GridWorldState(4, 1, false)\\nN:   1899\\n\",\"GridWorldState(5, 5, false)\\nN:     24\\n\",\"GridWorldState(5, 3, false)\\nN:    108\\n\",\"GridWorldState(2, 2, false)\\nN:    221\\n\",\"GridWorldState(3, 2, false)\\nN:    230\\n\",\"GridWorldState(7, 6, false)\\nN:     15\\n\",\"GridWorldState(1, 2, false)\\nN:    155\\n\",\"GridWorldState(7, 5, false)\\nN:     30\\n\",\"GridWorldState(5, 2, false)\\nN:    438\\n\",\"GridWorldState(8, 5, false)\\nN:     24\\n\",\"GridWorldState(4, 2, false)\\nN:    415\\n\",\"GridWorldState(10, 1, false)\\nN:     57\\n\",\"GridWorldState(1, 4, false)\\nN:     52\\n\",\"GridWorldState(7, 6, false)\\nN:     15\\n\",\"GridWorldState(8, 5, false)\\nN:     24\\n\",\"GridWorldState(9, 2, false)\\nN:    179\\n\",\"GridWorldState(10, 2, false)\\nN:     51\\n\",\"GridWorldState(8, 5, false)\\nN:     24\\n\",\"GridWorldState(4, 3, false)\\nN:     75\\n\",\"GridWorldState(6, 8, false)\\nN:      2\\n\",\"GridWorldState(1, 4, false)\\nN:     52\\n\",\"GridWorldState(10, 3, false)\\nN:     14\\n\",\"GridWorldState(8, 5, false)\\nN:     24\\n\",\"GridWorldState(9, 2, false)\\nN:    179\\n\",\"GridWorldState(8, 4, false)\\nN:    119\\n\",\"GridWorldState(2, 2, false)\\nN:    221\\n\",\"GridWorldState(8, 1, false)\\nN:    184\\n\",\"GridWorldState(6, 6, false)\\nN:     16\\n\",\"GridWorldState(1, 2, false)\\nN:    155\\n\",\"GridWorldState(2, 2, false)\\nN:    221\\n\",\"GridWorldState(3, 2, false)\\nN:    230\\n\",\"GridWorldState(1, 1, false)\\nN:    223\\n\",\"GridWorldState(1, 6, false)\\nN:      1\\n\",\"GridWorldState(4, 4, false)\\nN:     20\\n\",\"GridWorldState(7, 2, false)\\nN:    961\\n\",\"GridWorldState(1, 1, false)\\nN:    223\\n\",\"GridWorldState(6, 2, false)\\nN:   1036\\n\",\"GridWorldState(6, 4, false)\\nN:     66\\n\",\"GridWorldState(2, 3, false)\\nN:    109\\n\",\"GridWorldState(6, 3, false)\\nN:    225\\n\",\"GridWorldState(2, 1, false)\\nN:    284\\n\",\"GridWorldState(2, 2, false)\\nN:    221\\n\",\"GridWorldState(9, 3, false)\\nN:    590\\n\",\"GridWorldState(4, 1, false)\\nN:   1899\\n\",\"GridWorldState(5, 6, false)\\nN:     13\\n\",\"GridWorldState(8, 7, false)\\nN:      1\\n\",\"GridWorldState(8, 1, false)\\nN:    184\\n\",\"GridWorldState(5, 4, false)\\nN:     43\\n\",\"GridWorldState(1, 1, false)\\nN:    223\\n\",\"GridWorldState(4, 5, false)\\nN:     14\\n\",\"GridWorldState(6, 2, false)\\nN:   1036\\n\",\"GridWorldState(8, 6, false)\\nN:     10\\n\",\"GridWorldState(9, 5, false)\\nN:      8\\n\",\"GridWorldState(5, 4, false)\\nN:     43\\n\",\"GridWorldState(5, 6, false)\\nN:     13\\n\",\"GridWorldState(4, 4, false)\\nN:     20\\n\",\"GridWorldState(10, 6, false)\\nN:      0\\n\",\"GridWorldState(7, 2, false)\\nN:    961\\n\",\"GridWorldState(6, 4, false)\\nN:     66\\n\",\"GridWorldState(6, 4, false)\\nN:     66\\n\",\"GridWorldState(5, 1, false)\\nN:   1382\\n\",\"GridWorldState(8, 2, false)\\nN:    733\\n\",\"GridWorldState(7, 3, false)\\nN:    407\\n\",\"GridWorldState(9, 2, false)\\nN:    179\\n\",\"GridWorldState(8, 6, false)\\nN:     10\\n\",\"GridWorldState(7, 4, false)\\nN:     87\\n\",\"GridWorldState(3, 3, false)\\nN:     65\\n\",\"GridWorldState(1, 4, false)\\nN:     52\\n\",\"GridWorldState(5, 7, false)\\nN:      5\\n\",\"GridWorldState(8, 2, false)\\nN:    733\\n\",\"GridWorldState(7, 2, false)\\nN:    961\\n\",\"GridWorldState(8, 2, false)\\nN:    733\\n\",\"GridWorldState(8, 1, false)\\nN:    184\\n\",\"GridWorldState(7, 4, false)\\nN:     87\\n\",\"GridWorldState(6, 4, false)\\nN:     66\\n\",\"GridWorldState(6, 3, false)\\nN:    225\\n\",\"GridWorldState(8, 5, false)\\nN:     24\\n\",\"GridWorldState(10, 2, false)\\nN:     51\\n\",\"GridWorldState(5, 2, false)\\nN:    438\\n\",\"GridWorldState(7, 2, false)\\nN:    961\\n\",\"GridWorldState(7, 6, false)\\nN:     15\\n\",\"GridWorldState(4, 6, true)\\nN:      0\\n\",\"GridWorldState(9, 2, false)\\nN:    179\\n\",\"GridWorldState(5, 2, false)\\nN:    438\\n\",\"GridWorldState(6, 3, false)\\nN:    225\\n\",\"GridWorldState(3, 3, false)\\nN:     65\\n\",\"GridWorldState(6, 2, false)\\nN:   1036\\n\",\"GridWorldState(2, 1, false)\\nN:    284\\n\",\"GridWorldState(6, 3, false)\\nN:    225\\n\",\"GridWorldState(5, 1, false)\\nN:   1382\\n\",\"GridWorldState(5, 1, false)\\nN:   1382\\n\",\"GridWorldState(7, 4, false)\\nN:     87\\n\",\"GridWorldState(6, 5, false)\\nN:     30\\n\",\"GridWorldState(2, 5, false)\\nN:     18\\n\",\"GridWorldState(3, 1, false)\\nN:    520\\n\",\"GridWorldState(3, 3, false)\\nN:     65\\n\",\"GridWorldState(7, 4, false)\\nN:     87\\n\",\"GridWorldState(5, 4, false)\\nN:     43\\n\",\"GridWorldState(3, 4, false)\\nN:     25\\n\",\"GridWorldState(9, 5, false)\\nN:      8\\n\",\"GridWorldState(6, 2, false)\\nN:   1036\\n\",\"GridWorldState(2, 4, false)\\nN:     59\\n\",\"GridWorldState(10, 4, false)\\nN:     14\\n\",\"GridWorldState(9, 4, false)\\nN:     43\\n\",\"GridWorldState(3, 1, false)\\nN:    520\\n\",\"GridWorldState(10, 5, false)\\nN:      3\\n\",\"GridWorldState(2, 4, false)\\nN:     59\\n\",\"GridWorldState(5, 4, false)\\nN:     43\\n\",\"GridWorldState(1, 3, false)\\nN:    105\\n\",\"GridWorldState(7, 5, false)\\nN:     30\\n\",\"GridWorldState(7, 1, false)\\nN:    376\\n\",\"GridWorldState(8, 4, false)\\nN:    119\\n\",\"GridWorldState(10, 5, false)\\nN:      3\\n\",\"GridWorldState(4, 4, false)\\nN:     20\\n\",\"GridWorldState(4, 3, false)\\nN:     75\\n\",\"GridWorldState(9, 3, false)\\nN:    590\\n\",\"GridWorldState(4, 2, false)\\nN:    415\\n\",\"GridWorldState(4, 3, true)\\nN:      0\\n\",\"GridWorldState(7, 1, false)\\nN:    376\\n\",\"GridWorldState(9, 3, false)\\nN:    590\\n\",\"GridWorldState(5, 5, false)\\nN:     24\\n\",\"GridWorldState(1, 4, false)\\nN:     52\\n\",\"GridWorldState(6, 5, false)\\nN:     30\\n\",\"GridWorldState(9, 5, false)\\nN:      8\\n\",\"GridWorldState(4, 5, false)\\nN:     14\\n\",\"GridWorldState(4, 6, false)\\nN:      7\\n\",\"GridWorldState(6, 8, false)\\nN:      2\\n\",\"GridWorldState(8, 2, false)\\nN:    733\\n\",\"GridWorldState(4, 2, false)\\nN:    415\\n\",\"GridWorldState(2, 5, false)\\nN:     18\\n\",\"GridWorldState(2, 4, false)\\nN:     59\\n\",\"GridWorldState(9, 1, false)\\nN:    120\\n\",\"GridWorldState(3, 2, false)\\nN:    230\\n\",\"GridWorldState(6, 2, false)\\nN:   1036\\n\",\"GridWorldState(2, 4, false)\\nN:     59\\n\",\"GridWorldState(2, 3, false)\\nN:    109\\n\",\"GridWorldState(6, 1, false)\\nN:   1111\\n\",\"GridWorldState(1, 3, false)\\nN:    105\\n\",\"GridWorldState(6, 3, false)\\nN:    225\\n\",\"GridWorldState(5, 4, false)\\nN:     43\\n\",\"GridWorldState(2, 1, false)\\nN:    284\\n\",\"                       up\\nQ:  -0.88\\nN:    119\\n\",\"                     down\\nQ:   0.00\\nN:    300\\n\",\"                     left\\nQ:  -0.94\\nN:    114\\n\",\"                    right\\nQ:   1.82\\nN:   1366\\n\",\"                       up\\nQ:  -7.71\\nN:      7\\n\",\"                     down\\nQ:   0.24\\nN:    283\\n\",\"                     left\\nQ:  -1.35\\nN:     72\\n\",\"                    right\\nQ:  -1.70\\nN:     53\\n\",\"                       up\\nQ: -10.00\\nN:     19\\n\",\"                     down\\nQ: -10.00\\nN:     19\\n\",\"                     left\\nQ: -10.00\\nN:     19\\n\",\"                    right\\nQ: -10.00\\nN:     18\\n\",\"                       up\\nQ:  -0.93\\nN:     62\\n\",\"                     down\\nQ:   0.00\\nN:    128\\n\",\"                     left\\nQ:  -1.17\\nN:     59\\n\",\"                    right\\nQ:   0.78\\nN:    271\\n\",\"                       up\\nQ:  -0.54\\nN:     58\\n\",\"                     down\\nQ:   0.00\\nN:     93\\n\",\"                     left\\nQ:  -0.23\\nN:     72\\n\",\"                    right\\nQ:   2.65\\nN:   1159\\n\",\"                       up\\nQ:  -1.82\\nN:     24\\n\",\"                     down\\nQ:  -0.72\\nN:     42\\n\",\"                     left\\nQ:  -2.42\\nN:     22\\n\",\"                    right\\nQ:   2.41\\nN:    350\\n\",\"                       up\\nQ:  -1.07\\nN:     26\\n\",\"                     down\\nQ:  -1.36\\nN:     16\\n\",\"                     left\\nQ:  -5.14\\nN:      7\\n\",\"                    right\\nQ:   0.25\\nN:     59\\n\",\"                       up\\nQ:  -2.77\\nN:     27\\n\",\"                     down\\nQ:  -0.81\\nN:     60\\n\",\"                     left\\nQ:  -0.21\\nN:     80\\n\",\"                    right\\nQ:  -0.44\\nN:     63\\n\",\"                       up\\nQ:   0.00\\nN:      0\\n\",\"                     down\\nQ:   0.00\\nN:      0\\n\",\"                     left\\nQ:   0.00\\nN:      0\\n\",\"                    right\\nQ:   0.00\\nN:      0\\n\",\"                       up\\nQ:  -0.59\\nN:     27\\n\",\"                     down\\nQ:   0.00\\nN:     36\\n\",\"                     left\\nQ:  -1.04\\nN:     23\\n\",\"                    right\\nQ:   3.85\\nN:    950\\n\",\"                       up\\nQ:   3.42\\nN:    833\\n\",\"                     down\\nQ:   0.00\\nN:     40\\n\",\"                     left\\nQ:   1.64\\nN:    124\\n\",\"                    right\\nQ:   1.55\\nN:    114\\n\",\"                       up\\nQ:  -3.32\\nN:     11\\n\",\"                     down\\nQ:  -2.90\\nN:     18\\n\",\"                     left\\nQ:  -0.72\\nN:     32\\n\",\"                    right\\nQ:  -8.57\\nN:      4\\n\",\"                       up\\nQ:   3.59\\nN:    198\\n\",\"                     down\\nQ:   0.00\\nN:     28\\n\",\"                     left\\nQ:   2.83\\nN:    111\\n\",\"                    right\\nQ:   1.19\\nN:     39\\n\",\"                       up\\nQ:  -0.22\\nN:     12\\n\",\"                     down\\nQ:  -0.37\\nN:     10\\n\",\"                     left\\nQ:  -1.17\\nN:      9\\n\",\"                    right\\nQ:  -0.28\\nN:     12\\n\",\"                       up\\nQ:  -0.72\\nN:     19\\n\",\"                     down\\nQ:  -6.17\\nN:      5\\n\",\"                     left\\nQ:  -1.17\\nN:     17\\n\",\"                    right\\nQ:   3.30\\nN:    184\\n\",\"                       up\\nQ:   3.65\\nN:    151\\n\",\"                     down\\nQ:   0.00\\nN:     21\\n\",\"                     left\\nQ:   0.86\\nN:     32\\n\",\"                    right\\nQ:   4.96\\nN:    757\\n\",\"                       up\\nQ:  -1.90\\nN:      5\\n\",\"                     down\\nQ:  -0.58\\nN:      7\\n\",\"                     left\\nQ:  -3.28\\nN:      4\\n\",\"                    right\\nQ:   0.00\\nN:      8\\n\",\"                       up\\nQ:   0.19\\nN:     18\\n\",\"                     down\\nQ:   0.36\\nN:     18\\n\",\"                     left\\nQ:  -0.52\\nN:     14\\n\",\"                    right\\nQ:   5.28\\nN:    357\\n\",\"                       up\\nQ:  -0.34\\nN:     14\\n\",\"                     down\\nQ:   1.54\\nN:     24\\n\",\"                     left\\nQ:  -0.05\\nN:     14\\n\",\"                    right\\nQ:   0.00\\nN:     14\\n\",\"                       up\\nQ:  -0.13\\nN:     57\\n\",\"                     down\\nQ:   0.09\\nN:     63\\n\",\"                     left\\nQ:  -0.21\\nN:     51\\n\",\"                    right\\nQ:  -0.23\\nN:     50\\n\",\"                       up\\nQ:  -2.86\\nN:      6\\n\",\"                     down\\nQ:  -2.79\\nN:      2\\n\",\"                     left\\nQ:  -4.50\\nN:      2\\n\",\"                    right\\nQ:   0.00\\nN:      3\\n\",\"                       up\\nQ:   4.00\\nN:     90\\n\",\"                     down\\nQ:   0.00\\nN:     14\\n\",\"                     left\\nQ:   0.84\\nN:     22\\n\",\"                    right\\nQ:   3.04\\nN:     58\\n\",\"                       up\\nQ:  -0.44\\nN:     25\\n\",\"                     down\\nQ:  -0.10\\nN:     32\\n\",\"                     left\\nQ:  -0.08\\nN:     30\\n\",\"                    right\\nQ:  -0.96\\nN:     22\\n\",\"                       up\\nQ:   0.10\\nN:     85\\n\",\"                     down\\nQ:   0.00\\nN:     88\\n\",\"                     left\\nQ:  -0.06\\nN:     74\\n\",\"                    right\\nQ:  -1.15\\nN:     37\\n\",\"                       up\\nQ:  -0.07\\nN:     52\\n\",\"                     down\\nQ:   0.00\\nN:     62\\n\",\"                     left\\nQ:   0.00\\nN:     56\\n\",\"                    right\\nQ:  -0.04\\nN:     53\\n\",\"                       up\\nQ:   6.18\\nN:    606\\n\",\"                     down\\nQ:   1.14\\nN:     20\\n\",\"                     left\\nQ:   1.95\\nN:     26\\n\",\"                    right\\nQ:   4.33\\nN:     81\\n\",\"                       up\\nQ:  -0.04\\nN:     37\\n\",\"                     down\\nQ:   0.00\\nN:     42\\n\",\"                     left\\nQ:   0.00\\nN:     42\\n\",\"                    right\\nQ:  -0.28\\nN:     34\\n\",\"                       up\\nQ:  -0.30\\nN:     22\\n\",\"                     down\\nQ:   0.00\\nN:     26\\n\",\"                     left\\nQ:   0.00\\nN:     31\\n\",\"                    right\\nQ:   0.00\\nN:     26\\n\",\"                       up\\nQ:  -0.53\\nN:     11\\n\",\"                     down\\nQ:   0.00\\nN:     13\\n\",\"                     left\\nQ:   0.00\\nN:     14\\n\",\"                    right\\nQ:   0.00\\nN:     14\\n\",\"                       up\\nQ:   0.00\\nN:     10\\n\",\"                     down\\nQ:  -3.00\\nN:      3\\n\",\"                     left\\nQ:   0.00\\nN:      4\\n\",\"                    right\\nQ:   0.00\\nN:      3\\n\",\"                       up\\nQ:  -0.94\\nN:      7\\n\",\"                     down\\nQ:   0.00\\nN:      8\\n\",\"                     left\\nQ:  -0.65\\nN:      7\\n\",\"                    right\\nQ:   0.00\\nN:      8\\n\",\"                       up\\nQ:   0.52\\nN:     14\\n\",\"                     down\\nQ:   0.91\\nN:     16\\n\",\"                     left\\nQ:   1.25\\nN:     18\\n\",\"                    right\\nQ:   3.10\\nN:     39\\n\",\"                       up\\nQ:   0.00\\nN:     15\\n\",\"                     down\\nQ:  -0.40\\nN:     15\\n\",\"                     left\\nQ:   0.00\\nN:     15\\n\",\"                    right\\nQ:   0.00\\nN:     14\\n\",\"                       up\\nQ:   0.48\\nN:     10\\n\",\"                     down\\nQ:   2.28\\nN:     19\\n\",\"                     left\\nQ:   0.64\\nN:     14\\n\",\"                    right\\nQ:   7.81\\nN:    661\\n\",\"                       up\\nQ:   0.00\\nN:      5\\n\",\"                     down\\nQ:   0.00\\nN:      6\\n\",\"                     left\\nQ:   0.00\\nN:      4\\n\",\"                    right\\nQ:   0.00\\nN:      3\\n\",\"                       up\\nQ:   0.00\\nN:      5\\n\",\"                     down\\nQ:   0.00\\nN:      4\\n\",\"                     left\\nQ:  -3.19\\nN:      4\\n\",\"                    right\\nQ:  -1.35\\nN:      3\\n\",\"                       up\\nQ:  -1.21\\nN:      5\\n\",\"                     down\\nQ:   0.00\\nN:      6\\n\",\"                     left\\nQ:   0.00\\nN:      9\\n\",\"                    right\\nQ:   0.00\\nN:      5\\n\",\"                       up\\nQ:   0.00\\nN:      7\\n\",\"                     down\\nQ:   0.00\\nN:      7\\n\",\"                     left\\nQ:  -0.38\\nN:      7\\n\",\"                    right\\nQ:   0.40\\nN:      9\\n\",\"                       up\\nQ:   0.00\\nN:      4\\n\",\"                     down\\nQ:  -2.67\\nN:      2\\n\",\"                     left\\nQ:   0.00\\nN:      3\\n\",\"                    right\\nQ:   0.00\\nN:      6\\n\",\"                       up\\nQ:   0.00\\nN:      3\\n\",\"                     down\\nQ:   0.00\\nN:      3\\n\",\"                     left\\nQ:   0.00\\nN:      0\\n\",\"                    right\\nQ:   0.00\\nN:      0\\n\",\"                       up\\nQ:   4.32\\nN:     58\\n\",\"                     down\\nQ:   0.00\\nN:     16\\n\",\"                     left\\nQ:   2.68\\nN:     26\\n\",\"                    right\\nQ:   1.50\\nN:     20\\n\",\"                       up\\nQ:   1.63\\nN:     14\\n\",\"                     down\\nQ:   4.66\\nN:     42\\n\",\"                     left\\nQ:   1.93\\nN:     16\\n\",\"                    right\\nQ:   4.31\\nN:     47\\n\",\"                       up\\nQ:   7.65\\nN:    129\\n\",\"                     down\\nQ:   4.39\\nN:     27\\n\",\"                     left\\nQ:   1.46\\nN:     10\\n\",\"                    right\\nQ:   2.50\\nN:     13\\n\",\"                       up\\nQ:  -4.50\\nN:      2\\n\",\"                     down\\nQ:  -0.75\\nN:      6\\n\",\"                     left\\nQ:  -1.13\\nN:      4\\n\",\"                    right\\nQ:  -4.07\\nN:      2\\n\",\"                       up\\nQ:   0.00\\nN:      2\\n\",\"                     down\\nQ:   0.00\\nN:      0\\n\",\"                     left\\nQ:   0.00\\nN:      0\\n\",\"                    right\\nQ:   0.00\\nN:      0\\n\",\"                       up\\nQ:  -5.00\\nN:      2\\n\",\"                     down\\nQ:  -5.00\\nN:      2\\n\",\"                     left\\nQ:  -5.00\\nN:      2\\n\",\"                    right\\nQ:  -5.00\\nN:      1\\n\",\"                       up\\nQ:   0.00\\nN:      3\\n\",\"                     down\\nQ:   3.47\\nN:      8\\n\",\"                     left\\nQ:   1.61\\nN:      7\\n\",\"                    right\\nQ:   1.21\\nN:      6\\n\",\"                       up\\nQ:  10.00\\nN:    148\\n\",\"                     down\\nQ:  10.00\\nN:    148\\n\",\"                     left\\nQ:  10.00\\nN:    147\\n\",\"                    right\\nQ:  10.00\\nN:    147\\n\",\"                       up\\nQ:   0.00\\nN:      0\\n\",\"                     down\\nQ:   0.00\\nN:      0\\n\",\"                     left\\nQ:   0.00\\nN:      0\\n\",\"                    right\\nQ:   0.00\\nN:      0\\n\",\"                       up\\nQ:   2.79\\nN:     19\\n\",\"                     down\\nQ:   0.00\\nN:     12\\n\",\"                     left\\nQ:   2.33\\nN:     14\\n\",\"                    right\\nQ:   0.00\\nN:     12\\n\",\"                       up\\nQ:   0.00\\nN:      3\\n\",\"                     down\\nQ:   0.00\\nN:      4\\n\",\"                     left\\nQ:   0.00\\nN:      3\\n\",\"                    right\\nQ:   0.00\\nN:      4\\n\",\"                       up\\nQ:   0.00\\nN:      1\\n\",\"                     down\\nQ:   0.00\\nN:      0\\n\",\"                     left\\nQ:   0.00\\nN:      0\\n\",\"                    right\\nQ:   0.00\\nN:      0\\n\",\"                       up\\nQ:   4.97\\nN:     20\\n\",\"                     down\\nQ:   2.37\\nN:     13\\n\",\"                     left\\nQ:   2.82\\nN:     13\\n\",\"                    right\\nQ:   0.00\\nN:      5\\n\",\"                       up\\nQ:   0.00\\nN:      3\\n\",\"                     down\\nQ:   3.28\\nN:      2\\n\",\"                     left\\nQ:   0.00\\nN:      3\\n\",\"                    right\\nQ:   1.22\\nN:      2\\n\",\"                       up\\nQ:   0.00\\nN:      0\\n\",\"                     down\\nQ:   0.00\\nN:      0\\n\",\"                     left\\nQ:   0.00\\nN:      0\\n\",\"                    right\\nQ:   0.00\\nN:      0\\n\",\"                       up\\nQ:   0.00\\nN:      2\\n\",\"                     down\\nQ:   3.00\\nN:      3\\n\",\"                     left\\nQ:   7.03\\nN:      7\\n\",\"                    right\\nQ:   0.00\\nN:      2\\n\",\"                       up\\nQ:   0.00\\nN:      4\\n\",\"                     down\\nQ:   7.25\\nN:     24\\n\",\"                     left\\nQ:   0.00\\nN:      7\\n\",\"                    right\\nQ:   4.29\\nN:      8\\n\",\"                       up\\nQ:   0.00\\nN:      2\\n\",\"                     down\\nQ:   0.00\\nN:      2\\n\",\"                     left\\nQ:  -2.02\\nN:      2\\n\",\"                    right\\nQ:   0.00\\nN:      2\\n\",\"                       up\\nQ:   0.00\\nN:      1\\n\",\"                     down\\nQ:   0.00\\nN:      0\\n\",\"                     left\\nQ:   0.00\\nN:      0\\n\",\"                    right\\nQ:   0.00\\nN:      0\\n\",\"                       up\\nQ:   0.00\\nN:      1\\n\",\"                     down\\nQ:   0.00\\nN:      0\\n\",\"                     left\\nQ:   0.00\\nN:      0\\n\",\"                    right\\nQ:   0.00\\nN:      0\\n\",\"                       up\\nQ:   0.00\\nN:      2\\n\",\"                     down\\nQ:   2.70\\nN:      3\\n\",\"                     left\\nQ:   0.00\\nN:      2\\n\",\"                    right\\nQ:   0.00\\nN:      1\\n\",\"                       up\\nQ:   2.70\\nN:      1\\n\",\"                     down\\nQ:   0.00\\nN:      0\\n\",\"                     left\\nQ:   0.00\\nN:      0\\n\",\"                    right\\nQ:   0.00\\nN:      0\\n\",\"                       up\\nQ:   0.00\\nN:      2\\n\",\"                     down\\nQ:   0.00\\nN:      0\\n\",\"                     left\\nQ:   0.00\\nN:      0\\n\",\"                    right\\nQ:   0.00\\nN:      0\\n\",\"                       up\\nQ:   0.00\\nN:      1\\n\",\"                     down\\nQ:   0.00\\nN:      0\\n\",\"                     left\\nQ:   0.00\\nN:      0\\n\",\"                    right\\nQ:   0.00\\nN:      0\\n\",\"                       up\\nQ:   0.00\\nN:      2\\n\",\"                     down\\nQ:  -3.33\\nN:      3\\n\",\"                     left\\nQ:   0.00\\nN:      0\\n\",\"                    right\\nQ:   0.00\\nN:      0\\n\",\"                       up\\nQ:   0.00\\nN:      3\\n\",\"                     down\\nQ:  -3.65\\nN:      1\\n\",\"                     left\\nQ:   0.00\\nN:      0\\n\",\"                    right\\nQ:   0.00\\nN:      0\\n\",\"                       up\\nQ:   0.00\\nN:      3\\n\",\"                     down\\nQ:   2.03\\nN:      4\\n\",\"                     left\\nQ:   0.00\\nN:      2\\n\",\"                    right\\nQ:   0.00\\nN:      5\\n\",\"                       up\\nQ:   0.00\\nN:      0\\n\",\"                     down\\nQ:   0.00\\nN:      0\\n\",\"                     left\\nQ:   0.00\\nN:      0\\n\",\"                    right\\nQ:   0.00\\nN:      0\\n\",\"                       up\\nQ:   0.00\\nN:      1\\n\",\"                     down\\nQ:   0.00\\nN:      0\\n\",\"                     left\\nQ:   0.00\\nN:      0\\n\",\"                    right\\nQ:   0.00\\nN:      0\\n\",\"                       up\\nQ:   0.00\\nN:      1\\n\",\"                     down\\nQ:   0.00\\nN:      0\\n\",\"                     left\\nQ:   0.00\\nN:      0\\n\",\"                    right\\nQ:   0.00\\nN:      0\\n\",\"                       up\\nQ:   0.00\\nN:      0\\n\",\"                     down\\nQ:   0.00\\nN:      0\\n\",\"                     left\\nQ:   0.00\\nN:      0\\n\",\"                    right\\nQ:   0.00\\nN:      0\\n\",\"                       up\\nQ:   0.00\\nN:      2\\n\",\"                     down\\nQ:   0.00\\nN:      1\\n\",\"                     left\\nQ:   0.00\\nN:      0\\n\",\"                    right\\nQ:   0.00\\nN:      0\\n\",\"                       up\\nQ:   0.00\\nN:      2\\n\",\"                     down\\nQ:   0.00\\nN:      0\\n\",\"                     left\\nQ:   0.00\\nN:      0\\n\",\"                    right\\nQ:   0.00\\nN:      0\\n\",\"                       up\\nQ:   0.00\\nN:      0\\n\",\"                     down\\nQ:   0.00\\nN:      0\\n\",\"                     left\\nQ:   0.00\\nN:      0\\n\",\"                    right\\nQ:   0.00\\nN:      0\\n\",\"                       up\\nQ:   0.00\\nN:      0\\n\",\"                     down\\nQ:   0.00\\nN:      0\\n\",\"                     left\\nQ:   0.00\\nN:      0\\n\",\"                    right\\nQ:   0.00\\nN:      0\\n\",\"                       up\\nQ:   0.00\\nN:      1\\n\",\"                     down\\nQ:   0.00\\nN:      0\\n\",\"                     left\\nQ:   0.00\\nN:      0\\n\",\"                    right\\nQ:   0.00\\nN:      0\\n\",\"                       up\\nQ:   0.00\\nN:      0\\n\",\"                     down\\nQ:   0.00\\nN:      0\\n\",\"                     left\\nQ:   0.00\\nN:      0\\n\",\"                    right\\nQ:   0.00\\nN:      0\\n\",\"                       up\\nQ:   0.00\\nN:      0\\n\",\"                     down\\nQ:   0.00\\nN:      0\\n\",\"                     left\\nQ:   0.00\\nN:      0\\n\",\"                    right\\nQ:   0.00\\nN:      0\\n\",\"                       up\\nQ:   0.00\\nN:      0\\n\",\"                     down\\nQ:   0.00\\nN:      0\\n\",\"                     left\\nQ:   0.00\\nN:      0\\n\",\"                    right\\nQ:   0.00\\nN:      0\\n\"],\"style\":[\"\",\"\",\"\",\"\",\"\",\"\",\"\",\"\",\"\",\"\",\"\",\"\",\"\",\"\",\"\",\"\",\"\",\"\",\"\",\"\",\"\",\"\",\"\",\"\",\"\",\"\",\"\",\"\",\"\",\"\",\"\",\"\",\"\",\"\",\"\",\"\",\"\",\"\",\"\",\"\",\"\",\"\",\"\",\"\",\"\",\"\",\"\",\"\",\"\",\"\",\"\",\"\",\"\",\"\",\"\",\"\",\"\",\"\",\"\",\"\",\"\",\"\",\"\",\"\",\"\",\"\",\"\",\"\",\"\",\"\",\"\",\"\",\"\",\"\",\"\",\"\",\"\",\"\",\"\",\"\",\"\",\"\",\"\",\"\",\"\",\"\",\"\",\"\",\"\",\"\",\"\",\"\",\"\",\"\",\"\",\"\",\"\",\"\",\"\",\"\",\"\",\"\",\"\",\"\",\"\",\"\",\"\",\"\",\"\",\"\",\"\",\"\",\"\",\"\",\"\",\"\",\"\",\"\",\"\",\"\",\"\",\"\",\"\",\"\",\"\",\"\",\"\",\"\",\"\",\"\",\"\",\"\",\"\",\"\",\"\",\"\",\"\",\"\",\"\",\"\",\"\",\"\",\"\",\"\",\"\",\"\",\"\",\"\",\"\",\"\",\"\",\"\",\"\",\"\",\"\",\"\",\"\",\"\",\"\",\"\",\"\",\"\",\"\",\"\",\"\",\"\",\"\",\"\",\"\",\"\",\"\",\"\",\"\",\"\",\"\",\"\",\"\",\"\",\"\",\"\",\"\",\"\",\"\",\"\",\"\",\"\",\"\",\"\",\"\",\"\",\"\",\"\",\"\",\"\",\"\",\"\",\"\",\"\",\"\",\"\",\"\",\"\",\"\",\"\",\"\",\"\",\"\",\"\",\"\",\"\",\"\",\"\",\"\",\"\",\"\",\"\",\"\",\"\",\"\",\"\",\"\",\"\",\"\",\"\",\"\",\"\",\"\",\"\",\"\",\"\",\"\",\"\",\"\",\"\",\"\",\"\",\"\",\"\",\"\",\"\",\"\",\"\",\"\",\"\",\"\",\"\",\"\",\"\",\"\",\"\",\"\",\"\",\"\",\"\",\"\",\"\",\"\",\"\",\"\",\"\",\"\",\"\",\"\",\"\",\"\",\"\",\"\",\"\",\"\",\"\",\"\",\"\",\"\",\"\",\"\",\"\",\"\",\"\",\"\",\"\",\"\",\"\",\"\",\"\",\"\",\"\",\"\",\"\",\"\",\"\",\"\",\"\",\"\",\"\",\"\",\"\",\"\",\"\",\"\",\"\",\"\",\"\",\"\",\"\",\"\",\"\",\"\",\"\",\"\",\"\",\"\",\"\",\"\",\"\",\"\",\"\",\"\",\"\",\"\",\"\",\"\",\"\",\"\",\"\",\"\",\"\",\"\",\"\",\"\",\"\",\"\",\"\",\"\",\"\",\"\",\"\",\"\",\"\",\"\",\"\",\"\",\"\",\"\",\"\",\"\",\"\",\"\",\"\",\"\",\"\",\"\",\"\",\"\",\"\",\"\",\"\",\"\",\"\",\"\",\"\",\"\",\"\",\"\",\"\",\"\",\"\",\"\",\"\",\"\",\"\",\"\",\"\",\"\",\"\",\"\",\"\",\"\",\"\",\"\",\"\",\"\",\"\",\"\",\"\",\"\",\"\",\"\",\"\",\"\",\"\",\"\",\"\",\"\",\"\",\"\",\"\",\"\",\"\",\"\",\"\",\"\",\"\",\"\",\"\",\"\",\"\",\"\",\"\",\"\",\"\",\"\",\"\",\"\",\"\",\"\",\"\",\"\",\"\",\"\",\"\",\"\",\"\",\"\",\"\",\"\",\"\",\"\",\"\",\"\",\"\",\"\",\"\",\"\",\"\",\"\",\"\",\"\",\"\",\"\",\"\",\"\",\"\",\"\",\"\",\"\",\"\",\"\",\"\",\"\",\"\",\"\",\"\",\"\",\"\",\"\",\"\",\"\",\"\",\"\",\"\",\"\",\"\",\"\",\"\",\"\",\"\",\"\",\"\",\"\",\"\",\"\",\"\",\"\",\"\",\"\",\"\",\"\",\"\",\"\",\"\",\"\",\"\",\"\",\"\",\"\",\"\",\"\",\"\",\"\",\"\",\"\",\"\",\"\",\"\",\"\",\"\",\"\",\"\",\"\",\"\",\"\",\"\",\"\",\"\",\"\",\"\",\"\",\"\",\"\",\"\",\"\",\"\",\"\",\"\",\"\",\"\",\"\",\"\",\"\",\"\",\"\",\"\",\"\",\"\",\"\",\"\",\"\",\"\",\"\",\"\",\"\",\"\",\"\",\"\",\"\",\"\",\"\",\"\",\"\",\"\",\"\",\"\",\"\",\"\",\"\",\"\",\"\",\"\",\"\",\"\",\"\",\"\",\"\",\"\",\"\",\"\",\"\",\"\",\"\",\"\",\"\",\"\",\"\",\"\",\"\",\"\",\"\",\"\",\"\",\"\",\"\",\"\",\"\",\"\",\"stroke:#8B3A00\",\"stroke:#7F4000\",\"stroke:#8C3A00\",\"stroke:#684C00\",\"stroke:#E20F00\",\"stroke:#7C4200\",\"stroke:#913700\",\"stroke:#953500\",\"stroke:#FF0000\",\"stroke:#FF0000\",\"stroke:#FF0000\",\"stroke:#FF0000\",\"stroke:#8B3A00\",\"stroke:#7F4000\",\"stroke:#8E3900\",\"stroke:#764500\",\"stroke:#863D00\",\"stroke:#7F4000\",\"stroke:#823F00\",\"stroke:#5E5100\",\"stroke:#973400\",\"stroke:#893B00\",\"stroke:#9E3100\",\"stroke:#614F00\",\"stroke:#8D3900\",\"stroke:#913700\",\"stroke:#C11F00\",\"stroke:#7C4200\",\"stroke:#A32E00\",\"stroke:#8A3B00\",\"stroke:#823F00\",\"stroke:#853D00\",\"stroke:#7F4000\",\"stroke:#7F4000\",\"stroke:#7F4000\",\"stroke:#7F4000\",\"stroke:#873C00\",\"stroke:#7F4000\",\"stroke:#8D3900\",\"stroke:#4E5900\",\"stroke:#545600\",\"stroke:#7F4000\",\"stroke:#6B4A00\",\"stroke:#6C4A00\",\"stroke:#AA2B00\",\"stroke:#A52D00\",\"stroke:#893B00\",\"stroke:#ED0900\",\"stroke:#525700\",\"stroke:#7F4000\",\"stroke:#5B5200\",\"stroke:#704800\",\"stroke:#823F00\",\"stroke:#843E00\",\"stroke:#8E3900\",\"stroke:#833E00\",\"stroke:#893B00\",\"stroke:#CE1900\",\"stroke:#8E3900\",\"stroke:#555500\",\"stroke:#515700\",\"stroke:#7F4000\",\"stroke:#754500\",\"stroke:#406000\",\"stroke:#983400\",\"stroke:#873C00\",\"stroke:#A92B00\",\"stroke:#7F4000\",\"stroke:#7D4100\",\"stroke:#7B4200\",\"stroke:#863D00\",\"stroke:#3C6200\",\"stroke:#843E00\",\"stroke:#6C4A00\",\"stroke:#804000\",\"stroke:#7F4000\",\"stroke:#813F00\",\"stroke:#7E4100\",\"stroke:#823F00\",\"stroke:#823F00\",\"stroke:#A42E00\",\"stroke:#A32E00\",\"stroke:#B92300\",\"stroke:#7F4000\",\"stroke:#4D5900\",\"stroke:#7F4000\",\"stroke:#754500\",\"stroke:#595300\",\"stroke:#853D00\",\"stroke:#813F00\",\"stroke:#804000\",\"stroke:#8C3A00\",\"stroke:#7E4100\",\"stroke:#7F4000\",\"stroke:#804000\",\"stroke:#8E3900\",\"stroke:#804000\",\"stroke:#7F4000\",\"stroke:#7F4000\",\"stroke:#804000\",\"stroke:#316700\",\"stroke:#714700\",\"stroke:#674C00\",\"stroke:#485C00\",\"stroke:#804000\",\"stroke:#7F4000\",\"stroke:#7F4000\",\"stroke:#833E00\",\"stroke:#833E00\",\"stroke:#7F4000\",\"stroke:#7F4000\",\"stroke:#7F4000\",\"stroke:#863D00\",\"stroke:#7F4000\",\"stroke:#7F4000\",\"stroke:#7F4000\",\"stroke:#7F4000\",\"stroke:#A62D00\",\"stroke:#7F4000\",\"stroke:#7F4000\",\"stroke:#8C3A00\",\"stroke:#7F4000\",\"stroke:#883C00\",\"stroke:#7F4000\",\"stroke:#794300\",\"stroke:#744600\",\"stroke:#704800\",\"stroke:#585400\",\"stroke:#7F4000\",\"stroke:#853D00\",\"stroke:#7F4000\",\"stroke:#7F4000\",\"stroke:#794300\",\"stroke:#624F00\",\"stroke:#774400\",\"stroke:#1C7200\",\"stroke:#7F4000\",\"stroke:#7F4000\",\"stroke:#7F4000\",\"stroke:#7F4000\",\"stroke:#7F4000\",\"stroke:#7F4000\",\"stroke:#A82C00\",\"stroke:#913700\",\"stroke:#8F3800\",\"stroke:#7F4000\",\"stroke:#7F4000\",\"stroke:#7F4000\",\"stroke:#7F4000\",\"stroke:#7F4000\",\"stroke:#843E00\",\"stroke:#7A4300\",\"stroke:#7F4000\",\"stroke:#A22F00\",\"stroke:#7F4000\",\"stroke:#7F4000\",\"stroke:#7F4000\",\"stroke:#7F4000\",\"stroke:#7F4000\",\"stroke:#7F4000\",\"stroke:#485C00\",\"stroke:#7F4000\",\"stroke:#5D5100\",\"stroke:#6C4A00\",\"stroke:#6B4A00\",\"stroke:#445E00\",\"stroke:#674C00\",\"stroke:#495B00\",\"stroke:#1E7100\",\"stroke:#485C00\",\"stroke:#6D4900\",\"stroke:#605000\",\"stroke:#B92300\",\"stroke:#893B00\",\"stroke:#8E3900\",\"stroke:#B32600\",\"stroke:#7F4000\",\"stroke:#7F4000\",\"stroke:#7F4000\",\"stroke:#7F4000\",\"stroke:#BF2000\",\"stroke:#BF2000\",\"stroke:#BF2000\",\"stroke:#BF2000\",\"stroke:#7F4000\",\"stroke:#535600\",\"stroke:#6B4A00\",\"stroke:#704800\",\"stroke:#008000\",\"stroke:#008000\",\"stroke:#008000\",\"stroke:#008000\",\"stroke:#7F4000\",\"stroke:#7F4000\",\"stroke:#7F4000\",\"stroke:#7F4000\",\"stroke:#5C5200\",\"stroke:#7F4000\",\"stroke:#624F00\",\"stroke:#7F4000\",\"stroke:#7F4000\",\"stroke:#7F4000\",\"stroke:#7F4000\",\"stroke:#7F4000\",\"stroke:#7F4000\",\"stroke:#7F4000\",\"stroke:#7F4000\",\"stroke:#7F4000\",\"stroke:#406000\",\"stroke:#614F00\",\"stroke:#5C5200\",\"stroke:#7F4000\",\"stroke:#7F4000\",\"stroke:#565500\",\"stroke:#7F4000\",\"stroke:#704800\",\"stroke:#7F4000\",\"stroke:#7F4000\",\"stroke:#7F4000\",\"stroke:#7F4000\",\"stroke:#7F4000\",\"stroke:#595300\",\"stroke:#266D00\",\"stroke:#7F4000\",\"stroke:#7F4000\",\"stroke:#236E00\",\"stroke:#7F4000\",\"stroke:#495B00\",\"stroke:#7F4000\",\"stroke:#7F4000\",\"stroke:#993300\",\"stroke:#7F4000\",\"stroke:#7F4000\",\"stroke:#7F4000\",\"stroke:#7F4000\",\"stroke:#7F4000\",\"stroke:#7F4000\",\"stroke:#7F4000\",\"stroke:#7F4000\",\"stroke:#7F4000\",\"stroke:#7F4000\",\"stroke:#5D5100\",\"stroke:#7F4000\",\"stroke:#7F4000\",\"stroke:#5D5100\",\"stroke:#7F4000\",\"stroke:#7F4000\",\"stroke:#7F4000\",\"stroke:#7F4000\",\"stroke:#7F4000\",\"stroke:#7F4000\",\"stroke:#7F4000\",\"stroke:#7F4000\",\"stroke:#7F4000\",\"stroke:#7F4000\",\"stroke:#7F4000\",\"stroke:#7F4000\",\"stroke:#AA2B00\",\"stroke:#7F4000\",\"stroke:#7F4000\",\"stroke:#7F4000\",\"stroke:#AE2900\",\"stroke:#7F4000\",\"stroke:#7F4000\",\"stroke:#7F4000\",\"stroke:#664D00\",\"stroke:#7F4000\",\"stroke:#7F4000\",\"stroke:#7F4000\",\"stroke:#7F4000\",\"stroke:#7F4000\",\"stroke:#7F4000\",\"stroke:#7F4000\",\"stroke:#7F4000\",\"stroke:#7F4000\",\"stroke:#7F4000\",\"stroke:#7F4000\",\"stroke:#7F4000\",\"stroke:#7F4000\",\"stroke:#7F4000\",\"stroke:#7F4000\",\"stroke:#7F4000\",\"stroke:#7F4000\",\"stroke:#7F4000\",\"stroke:#7F4000\",\"stroke:#7F4000\",\"stroke:#7F4000\",\"stroke:#7F4000\",\"stroke:#7F4000\",\"stroke:#7F4000\",\"stroke:#7F4000\",\"stroke:#7F4000\",\"stroke:#7F4000\",\"stroke:#7F4000\",\"stroke:#7F4000\",\"stroke:#7F4000\",\"stroke:#7F4000\",\"stroke:#7F4000\",\"stroke:#7F4000\",\"stroke:#7F4000\",\"stroke:#7F4000\",\"stroke:#7F4000\",\"stroke:#7F4000\",\"stroke:#7F4000\",\"stroke:#7F4000\",\"stroke:#7F4000\",\"stroke:#7F4000\",\"stroke:#7F4000\",\"stroke:#7F4000\",\"stroke:#7F4000\",\"stroke:#7F4000\",\"stroke:#7F4000\",\"stroke:#7F4000\",\"stroke:#7F4000\",\"stroke:#7F4000\",\"stroke:#7F4000\"]}};\n",
       "        var rootID = 1-1;\n",
       "        var div = \"treevis6shRYtlN\";\n",
       "        var initExpand = 1\n",
       "        var initDuration = 750\n",
       "        var svgHeight = 600\n",
       "        if (typeof $ === 'undefined') {\n",
       "    loadScript(\"https://code.jquery.com/jquery-3.1.1.min.js\", run);\n",
       "} else {\n",
       "    run();\n",
       "}\n",
       "\n",
       "function run() {\n",
       "    if (typeof d3 === 'undefined') {\n",
       "        loadScript(\"https://d3js.org/d3.v3.js\", showTree);\n",
       "    } else {\n",
       "        showTree();\n",
       "    }\n",
       "}\n",
       "\n",
       "function loadScript(url, callback)\n",
       "{\n",
       "    console.log(\"starting script load...\")\n",
       "    // Adding the script tag to the head as suggested before\n",
       "    var head = document.getElementsByTagName('head')[0];\n",
       "    var script = document.createElement('script');\n",
       "    script.type = 'text/javascript';\n",
       "    script.src = url;\n",
       "\n",
       "    // Then bind the event to the callback function.\n",
       "    // There are several events for cross browser compatibility.\n",
       "    script.onreadystatechange = callback;\n",
       "    script.onload = callback;\n",
       "\n",
       "    // Fire the loading\n",
       "    head.appendChild(script);\n",
       "}\n",
       "\n",
       "function showTree() {\n",
       "        \n",
       "    // var margin = {top: 20, right: 120, bottom: 20, left: 120},\n",
       "    var margin = {top: 20, right: 120, bottom: 80, left: 120},\n",
       "        width = $(\"#\"+div).width() - margin.right - margin.left,\n",
       "        height = svgHeight - margin.top - margin.bottom;\n",
       "        // TODO make height a parameter of TreeVisualizer\n",
       "\n",
       "    var i = 0,\n",
       "        root;\n",
       "\n",
       "    var tree = d3.layout.tree()\n",
       "        .size([width, height]);\n",
       "\n",
       "    var diagonal = d3.svg.diagonal();\n",
       "        //.projection(function(d) { return [d.y, d.x]; });\n",
       "        // uncomment above to make the tree go horizontally\n",
       "\n",
       "    // see http://stackoverflow.com/questions/16265123/resize-svg-when-window-is-resized-in-d3-js\n",
       "    if (d3.select(\"#\"+div+\"_svg\").empty()) {\n",
       "        $(\".d3twarn\").remove();\n",
       "        d3.select(\"#\"+div).append(\"svg\")\n",
       "            .attr(\"id\", div+\"_svg\")\n",
       "            .attr(\"width\", width + margin.right + margin.left)\n",
       "            .attr(\"height\", height + margin.top + margin.bottom);\n",
       "    }\n",
       "\n",
       "    d3.select(\"#\"+div+\"_svg\").selectAll(\"*\").remove();\n",
       "\n",
       "    var svg = d3.select(\"#\"+div+\"_svg\")\n",
       "        .append(\"g\")\n",
       "            .attr(\"transform\", \"translate(\" + margin.left + \",\" + margin.top + \")\");\n",
       "\n",
       "    // console.log(\"tree data:\");\n",
       "    // console.log(treeData[rootID]);\n",
       "    root = createDisplayNode(rootID, initExpand);\n",
       "    root.x0 = width / 2;\n",
       "    root.y0 = 0;\n",
       "\n",
       "    update(root, initDuration);\n",
       "    console.log(\"tree should appear\");\n",
       "\n",
       "    function createDisplayNode(id, expandLevel) {\n",
       "      var dnode = {\"dataID\":id,\n",
       "                   \"children\": null,\n",
       "                   \"_children\":null};\n",
       "      if (expandLevel > 0) {\n",
       "        initializeChildren(dnode, expandLevel);\n",
       "      }\n",
       "      return dnode;\n",
       "    }\n",
       "\n",
       "    function initializeChildren(d, expandLevel) {\n",
       "      // create children\n",
       "      var children = treeData.children[d.dataID];\n",
       "      d.children = [];\n",
       "      if (children) {\n",
       "        for (var i = 0; i < children.length; i++) {\n",
       "          var cid = children[i]-1;\n",
       "          d.children.push(createDisplayNode(cid, expandLevel-1));\n",
       "        }\n",
       "      }\n",
       "    }\n",
       "\n",
       "    /**\n",
       "     * Recursively called to update each node in the tree.\n",
       "     * \n",
       "     * source is a d3 node that has position, etc.\n",
       "    */\n",
       "    function update(source, duration) {\n",
       "\n",
       "      width = $(\"#\"+div).width() - margin.right - margin.left,\n",
       "      height = $(\"#\"+div).height() - margin.top - margin.bottom;\n",
       "\n",
       "      tree.size([width,height]);\n",
       "      d3.select(\"#\"+div).attr(\"width\", width + margin.right + margin.left)\n",
       "            .attr(\"height\", height + margin.top + margin.bottom);\n",
       "      d3.select(\"#\"+div+\"_svg\").attr(\"width\", width + margin.right + margin.left)\n",
       "             .attr(\"height\", height + margin.top + margin.bottom);\n",
       "\n",
       "\n",
       "      // Compute the new tree layout.\n",
       "      var nodes = tree.nodes(root).reverse(),\n",
       "          links = tree.links(nodes);\n",
       "\n",
       "\n",
       "      // Update the nodes…\n",
       "      var node = svg.selectAll(\"g.node\")\n",
       "          .data(nodes, function(d) { return d.id || (d.id = ++i); });\n",
       "\n",
       "      // Enter any new nodes at the parent's previous position.\n",
       "      var nodeEnter = node.enter().append(\"g\")\n",
       "          .attr(\"class\", \"node\")\n",
       "          .attr(\"transform\", function(d) { return \"translate(\" + source.x0 + \",\" + source.y0 + \")\"; })\n",
       "          .on(\"click\", click)\n",
       "\n",
       "      nodeEnter.append(\"circle\")\n",
       "          .attr(\"r\", \"10px\")\n",
       "          .attr(\"style\", function(d) { return treeData.style[d.dataID]; } )\n",
       "\n",
       "      var tbox = nodeEnter.append(\"text\")\n",
       "          .attr(\"y\", 25)\n",
       "          .attr(\"text-anchor\", \"middle\")\n",
       "          //.text( function(d) { return treeData.text[d.dataID]; } )\n",
       "          .style(\"fill-opacity\", 1e-6);\n",
       "\n",
       "      tbox.each( function(d) {\n",
       "          var el = d3.select(this)\n",
       "          var text = treeData.text[d.dataID];\n",
       "          var lines = text.split('\\n');\n",
       "          for (var i = 0; i < lines.length; i++) {\n",
       "              var tspan = el.append(\"tspan\").text(lines[i]);\n",
       "              if (i > 0) {\n",
       "                  tspan.attr(\"x\", 0).attr(\"dy\", \"1.2em\");\n",
       "              }\n",
       "          }\n",
       "      });\n",
       "\n",
       "      //tooltip\n",
       "      nodeEnter.append(\"title\").text( function(d) { return treeData.tooltip[d.dataID];} );\n",
       "\n",
       "      // Transition nodes to their new position.\n",
       "      var nodeUpdate = node.transition()\n",
       "          .duration(duration)\n",
       "          .attr(\"transform\", function(d) { return \"translate(\" + d.x + \",\" + d.y + \")\"; });\n",
       "\n",
       "      nodeUpdate.select(\"text\")\n",
       "          .style(\"fill-opacity\", 1);\n",
       "\n",
       "      // Transition exiting nodes to the parent's new position.\n",
       "      var nodeExit = node.exit().transition()\n",
       "          .duration(duration)\n",
       "          .attr(\"transform\", function(d) { return \"translate(\" + source.x + \",\" + source.y + \")\"; })\n",
       "          .remove();\n",
       "\n",
       "      nodeExit.select(\"text\")\n",
       "          .style(\"fill-opacity\", 1e-6);\n",
       "\n",
       "      // Update the links…\n",
       "      var link = svg.selectAll(\"path.link\")\n",
       "          .data(links, function(d) { return d.target.id; });\n",
       "\n",
       "      // Enter any new links at the parent's previous position.\n",
       "      // XXX link width should be based on transition data, not node data\n",
       "      link.enter().insert(\"path\", \"g\")\n",
       "          .attr(\"class\", \"link\")\n",
       "          .attr(\"style\", function(d) {\n",
       "              var ls = treeData.link_style[d.target.dataID];\n",
       "              return ls;\n",
       "          } )\n",
       "          .attr(\"d\", function(d) {\n",
       "            var o = {x: source.x0, y: source.y0};\n",
       "            return diagonal({source: o, target: o});\n",
       "          });\n",
       "\n",
       "      // Transition links to their new position.\n",
       "      link.transition()\n",
       "          .duration(duration)\n",
       "          .attr(\"d\", diagonal);\n",
       "\n",
       "      // Transition exiting nodes to the parent's new position.\n",
       "      link.exit().transition()\n",
       "          .duration(duration)\n",
       "          .attr(\"d\", function(d) {\n",
       "            var o = {x: source.x, y: source.y};\n",
       "            return diagonal({source: o, target: o});\n",
       "          })\n",
       "          .remove();\n",
       "\n",
       "      // Stash the old positions for transition.\n",
       "      nodes.forEach(function(d) {\n",
       "        d.x0 = d.x;\n",
       "        d.y0 = d.y;\n",
       "      });\n",
       "    }\n",
       "\n",
       "    // Toggle children on click.\n",
       "    function click(d) {\n",
       "      if (d.children) {\n",
       "        d._children = d.children;\n",
       "        d.children = null;\n",
       "      } else if (d._children) {\n",
       "        d.children = d._children;\n",
       "        d._children = null;\n",
       "      } else {\n",
       "        initializeChildren(d, 1);\n",
       "      }\n",
       "      update(d, 750);\n",
       "    }\n",
       "\n",
       "}\n",
       "\n",
       "        })();\n",
       "    </script>\n",
       "    <p class=\"d3twarn\">\n",
       "    Attempting to display the tree. If the tree is large, this may take some time.\n",
       "    </p>\n",
       "    <p class=\"d3twarn\">\n",
       "    Note: D3Trees.jl requires an internet connection. If no tree appears, please check your connection. To help fix this, please see <a href=\"https://github.com/sisl/D3Trees.jl/issues/10\">this issue</a>. You may also diagnose errors with the javascript console (Ctrl-Shift-J in chrome).\n",
       "    </p>\n",
       "    </div>\n",
       "    </body>\n",
       "    </html>\n",
       "\n"
      ],
      "text/plain": [
       "GridWorldState(4, 1, false)\n",
       "N:   1899\n",
       "\n",
       "├──                       up\n",
       "│  Q:  -0.88\n",
       "│  N:    119\n",
       "\n",
       "│  ├──GridWorldState(5, 1, false)\n",
       "│  │  N:   1382\n",
       "\n",
       "│  │  ├──                       up\n",
       "│  │  │  Q:  -0.54\n",
       "│  │  │  N:     58\n",
       " (3 children)\n",
       "│  │  ├──                     down\n",
       "│  │  │  Q:   0.00\n",
       "│  │  │  N:     93\n",
       " (1 children)\n",
       "│  │  ├──                     left\n",
       "│  │  │  Q:  -0.23\n",
       "│  │  │  N:     72\n",
       " (3 children)\n",
       "│  │  └──                    right\n",
       "│  │     Q:   2.65\n",
       "│  │     N:   1159\n",
       " (3 children)\n",
       "│  ├──GridWorldState(3, 1, false)\n",
       "│  │  N:    520\n",
       "\n",
       "│  │  ├──                       up\n",
       "│  │  │  Q:  -0.93\n",
       "│  │  │  N:     62\n",
       " (3 children)\n",
       "│  │  ├──                     down\n",
       "│  │  │  Q:   0.00\n",
       "│  │  │  N:    128\n",
       " (1 children)\n",
       "│  │  ├──                     left\n",
       "│  │  │  Q:  -1.17\n",
       "│  │  │  N:     59\n",
       " (3 children)\n",
       "│  │  └──                    right\n",
       "│  │     Q:   0.78\n",
       "│  │     N:    271\n",
       " (3 children)\n",
       "│  └──GridWorldState(4, 2, false)\n",
       "│     N:    415\n",
       "\n",
       "│     ├──                       up\n",
       "│     │  Q:  -7.71\n",
       "│     │  N:      7\n",
       " (2 children)\n",
       "│     ├──                     down\n",
       "│     │  Q:   0.24\n",
       "│     │  N:    283\n",
       " (4 children)\n",
       "│     ├──                     left\n",
       "│     │  Q:  -1.35\n",
       "│     │  N:     72\n",
       " (4 children)\n",
       "│     └──                    right\n",
       "│        Q:  -1.70\n",
       "│        N:     53\n",
       " (4 children)\n",
       "├──                     down\n",
       "│  Q:   0.00\n",
       "│  N:    300\n",
       "\n",
       "│  └──GridWorldState(4, 1, false)\n",
       "│     N:   1899\n",
       "\n",
       "│     ├──                       up\n",
       "│     │  Q:  -0.88\n",
       "│     │  N:    119\n",
       " (3 children)\n",
       "│     ├──                     down\n",
       "│     │  Q:   0.00\n",
       "│     │  N:    300\n",
       " (1 children)\n",
       "│     ├──                     left\n",
       "│     │  Q:  -0.94\n",
       "│     │  N:    114\n",
       " (3 children)\n",
       "│     └──                    right\n",
       "│        Q:   1.82\n",
       "│        N:   1366\n",
       " (3 children)\n",
       "├──                     left\n",
       "│  Q:  -0.94\n",
       "│  N:    114\n",
       "\n",
       "│  ├──GridWorldState(3, 1, false)\n",
       "│  │  N:    520\n",
       "\n",
       "│  │  ├──                       up\n",
       "│  │  │  Q:  -0.93\n",
       "│  │  │  N:     62\n",
       " (3 children)\n",
       "│  │  ├──                     down\n",
       "│  │  │  Q:   0.00\n",
       "│  │  │  N:    128\n",
       " (1 children)\n",
       "│  │  ├──                     left\n",
       "│  │  │  Q:  -1.17\n",
       "│  │  │  N:     59\n",
       " (3 children)\n",
       "│  │  └──                    right\n",
       "│  │     Q:   0.78\n",
       "│  │     N:    271\n",
       " (3 children)\n",
       "│  ├──GridWorldState(4, 2, false)\n",
       "│  │  N:    415\n",
       "\n",
       "│  │  ├──                       up\n",
       "│  │  │  Q:  -7.71\n",
       "│  │  │  N:      7\n",
       " (2 children)\n",
       "│  │  ├──                     down\n",
       "│  │  │  Q:   0.24\n",
       "│  │  │  N:    283\n",
       " (4 children)\n",
       "│  │  ├──                     left\n",
       "│  │  │  Q:  -1.35\n",
       "│  │  │  N:     72\n",
       " (4 children)\n",
       "│  │  └──                    right\n",
       "│  │     Q:  -1.70\n",
       "│  │     N:     53\n",
       " (4 children)\n",
       "│  └──GridWorldState(5, 1, false)\n",
       "│     N:   1382\n",
       "\n",
       "│     ├──                       up\n",
       "│     │  Q:  -0.54\n",
       "│     │  N:     58\n",
       " (3 children)\n",
       "│     ├──                     down\n",
       "│     │  Q:   0.00\n",
       "│     │  N:     93\n",
       " (1 children)\n",
       "│     ├──                     left\n",
       "│     │  Q:  -0.23\n",
       "│     │  N:     72\n",
       " (3 children)\n",
       "│     └──                    right\n",
       "│        Q:   2.65\n",
       "│        N:   1159\n",
       " (3 children)\n",
       "└──                    right\n",
       "   Q:   1.82\n",
       "   N:   1366\n",
       "\n",
       "   ├──GridWorldState(4, 2, false)\n",
       "   │  N:    415\n",
       "\n",
       "   │  ├──                       up\n",
       "   │  │  Q:  -7.71\n",
       "   │  │  N:      7\n",
       " (2 children)\n",
       "   │  ├──                     down\n",
       "   │  │  Q:   0.24\n",
       "   │  │  N:    283\n",
       " (4 children)\n",
       "   │  ├──                     left\n",
       "   │  │  Q:  -1.35\n",
       "   │  │  N:     72\n",
       " (4 children)\n",
       "   │  └──                    right\n",
       "   │     Q:  -1.70\n",
       "   │     N:     53\n",
       " (4 children)\n",
       "   ├──GridWorldState(3, 1, false)\n",
       "   │  N:    520\n",
       "\n",
       "   │  ├──                       up\n",
       "   │  │  Q:  -0.93\n",
       "   │  │  N:     62\n",
       " (3 children)\n",
       "   │  ├──                     down\n",
       "   │  │  Q:   0.00\n",
       "   │  │  N:    128\n",
       " (1 children)\n",
       "   │  ├──                     left\n",
       "   │  │  Q:  -1.17\n",
       "   │  │  N:     59\n",
       " (3 children)\n",
       "   │  └──                    right\n",
       "   │     Q:   0.78\n",
       "   │     N:    271\n",
       " (3 children)\n",
       "   └──GridWorldState(5, 1, false)\n",
       "      N:   1382\n",
       "\n",
       "      ├──                       up\n",
       "      │  Q:  -0.54\n",
       "      │  N:     58\n",
       " (3 children)\n",
       "      ├──                     down\n",
       "      │  Q:   0.00\n",
       "      │  N:     93\n",
       " (1 children)\n",
       "      ├──                     left\n",
       "      │  Q:  -0.23\n",
       "      │  N:     72\n",
       " (3 children)\n",
       "      └──                    right\n",
       "         Q:   2.65\n",
       "         N:   1159\n",
       " (3 children)\n"
      ]
     },
     "execution_count": 44,
     "metadata": {},
     "output_type": "execute_result"
    }
   ],
   "source": [
    "using D3Trees\n",
    "\n",
    "# first, run the planner on the state\n",
    "s = state_hist(hist)[1]\n",
    "a, info = action_info(planner, s);\n",
    "\n",
    "# show the tree (click the node to expand)\n",
    "D3Tree(info[:tree], init_expand=1)"
   ]
  }
 ],
 "metadata": {
  "anaconda-cloud": {},
  "kernelspec": {
   "display_name": "Julia 1.4.2",
   "language": "julia",
   "name": "julia-1.4"
  },
  "language_info": {
   "file_extension": ".jl",
   "mimetype": "application/julia",
   "name": "julia",
   "version": "1.4.2"
  }
 },
 "nbformat": 4,
 "nbformat_minor": 4
}
